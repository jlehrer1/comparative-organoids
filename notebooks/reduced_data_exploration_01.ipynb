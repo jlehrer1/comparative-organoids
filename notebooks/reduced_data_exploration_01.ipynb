{
 "cells": [
  {
   "cell_type": "markdown",
   "id": "ae83d589",
   "metadata": {},
   "source": [
    "# Reduced Data Exploration\n",
    "\n",
    "We used UMAP to reduce the dimensionality of the data. Now, we can reasonably cluster and create a classifier for the data"
   ]
  },
  {
   "cell_type": "code",
   "execution_count": 6,
   "id": "df3bddfe",
   "metadata": {},
   "outputs": [],
   "source": [
    "import pandas as pd \n",
    "import matplotlib.pyplot as plt \n",
    "import numpy as np\n",
    "import umap\n",
    "import hdbscan"
   ]
  },
  {
   "cell_type": "code",
   "execution_count": 7,
   "id": "a2db4ab5",
   "metadata": {},
   "outputs": [
    {
     "data": {
      "text/html": [
       "<div>\n",
       "<style scoped>\n",
       "    .dataframe tbody tr th:only-of-type {\n",
       "        vertical-align: middle;\n",
       "    }\n",
       "\n",
       "    .dataframe tbody tr th {\n",
       "        vertical-align: top;\n",
       "    }\n",
       "\n",
       "    .dataframe thead th {\n",
       "        text-align: right;\n",
       "    }\n",
       "</style>\n",
       "<table border=\"1\" class=\"dataframe\">\n",
       "  <thead>\n",
       "    <tr style=\"text-align: right;\">\n",
       "      <th></th>\n",
       "      <th>0</th>\n",
       "      <th>1</th>\n",
       "      <th>2</th>\n",
       "      <th>3</th>\n",
       "      <th>4</th>\n",
       "      <th>5</th>\n",
       "      <th>6</th>\n",
       "      <th>7</th>\n",
       "      <th>8</th>\n",
       "      <th>9</th>\n",
       "      <th>...</th>\n",
       "      <th>40</th>\n",
       "      <th>41</th>\n",
       "      <th>42</th>\n",
       "      <th>43</th>\n",
       "      <th>44</th>\n",
       "      <th>45</th>\n",
       "      <th>46</th>\n",
       "      <th>47</th>\n",
       "      <th>48</th>\n",
       "      <th>49</th>\n",
       "    </tr>\n",
       "  </thead>\n",
       "  <tbody>\n",
       "    <tr>\n",
       "      <th>0</th>\n",
       "      <td>1.414866</td>\n",
       "      <td>4.223380</td>\n",
       "      <td>4.655418</td>\n",
       "      <td>4.221768</td>\n",
       "      <td>6.209269</td>\n",
       "      <td>4.571310</td>\n",
       "      <td>9.064432</td>\n",
       "      <td>5.080242</td>\n",
       "      <td>1.773970</td>\n",
       "      <td>8.466394</td>\n",
       "      <td>...</td>\n",
       "      <td>4.245566</td>\n",
       "      <td>2.992109</td>\n",
       "      <td>3.505270</td>\n",
       "      <td>7.737705</td>\n",
       "      <td>4.153919</td>\n",
       "      <td>0.793145</td>\n",
       "      <td>8.768568</td>\n",
       "      <td>5.901265</td>\n",
       "      <td>4.734169</td>\n",
       "      <td>3.673390</td>\n",
       "    </tr>\n",
       "    <tr>\n",
       "      <th>1</th>\n",
       "      <td>1.432740</td>\n",
       "      <td>4.290275</td>\n",
       "      <td>4.690469</td>\n",
       "      <td>4.239872</td>\n",
       "      <td>6.214148</td>\n",
       "      <td>4.591742</td>\n",
       "      <td>9.011972</td>\n",
       "      <td>5.062182</td>\n",
       "      <td>1.842570</td>\n",
       "      <td>8.362122</td>\n",
       "      <td>...</td>\n",
       "      <td>4.269808</td>\n",
       "      <td>3.010898</td>\n",
       "      <td>3.566487</td>\n",
       "      <td>7.669010</td>\n",
       "      <td>4.158532</td>\n",
       "      <td>0.808761</td>\n",
       "      <td>8.813780</td>\n",
       "      <td>5.890166</td>\n",
       "      <td>4.741519</td>\n",
       "      <td>3.707816</td>\n",
       "    </tr>\n",
       "    <tr>\n",
       "      <th>2</th>\n",
       "      <td>1.422657</td>\n",
       "      <td>4.247045</td>\n",
       "      <td>4.658894</td>\n",
       "      <td>4.192462</td>\n",
       "      <td>6.261431</td>\n",
       "      <td>4.614476</td>\n",
       "      <td>9.030548</td>\n",
       "      <td>5.077318</td>\n",
       "      <td>1.794996</td>\n",
       "      <td>8.401634</td>\n",
       "      <td>...</td>\n",
       "      <td>4.244500</td>\n",
       "      <td>3.029674</td>\n",
       "      <td>3.505005</td>\n",
       "      <td>7.669782</td>\n",
       "      <td>4.139117</td>\n",
       "      <td>0.827590</td>\n",
       "      <td>8.814221</td>\n",
       "      <td>5.874210</td>\n",
       "      <td>4.758564</td>\n",
       "      <td>3.679777</td>\n",
       "    </tr>\n",
       "    <tr>\n",
       "      <th>3</th>\n",
       "      <td>1.362225</td>\n",
       "      <td>4.184494</td>\n",
       "      <td>4.679659</td>\n",
       "      <td>4.191065</td>\n",
       "      <td>6.250918</td>\n",
       "      <td>4.578222</td>\n",
       "      <td>9.093062</td>\n",
       "      <td>5.107469</td>\n",
       "      <td>1.639314</td>\n",
       "      <td>8.451753</td>\n",
       "      <td>...</td>\n",
       "      <td>4.200933</td>\n",
       "      <td>3.048608</td>\n",
       "      <td>3.460865</td>\n",
       "      <td>7.665850</td>\n",
       "      <td>4.127635</td>\n",
       "      <td>0.849991</td>\n",
       "      <td>8.794816</td>\n",
       "      <td>5.855516</td>\n",
       "      <td>4.775930</td>\n",
       "      <td>3.651313</td>\n",
       "    </tr>\n",
       "    <tr>\n",
       "      <th>4</th>\n",
       "      <td>1.393179</td>\n",
       "      <td>4.238274</td>\n",
       "      <td>4.686842</td>\n",
       "      <td>4.218291</td>\n",
       "      <td>6.238160</td>\n",
       "      <td>4.574005</td>\n",
       "      <td>9.066672</td>\n",
       "      <td>5.084459</td>\n",
       "      <td>1.744257</td>\n",
       "      <td>8.402151</td>\n",
       "      <td>...</td>\n",
       "      <td>4.239795</td>\n",
       "      <td>3.023004</td>\n",
       "      <td>3.516864</td>\n",
       "      <td>7.681612</td>\n",
       "      <td>4.154156</td>\n",
       "      <td>0.822106</td>\n",
       "      <td>8.802408</td>\n",
       "      <td>5.879678</td>\n",
       "      <td>4.744999</td>\n",
       "      <td>3.669563</td>\n",
       "    </tr>\n",
       "  </tbody>\n",
       "</table>\n",
       "<p>5 rows × 50 columns</p>\n",
       "</div>"
      ],
      "text/plain": [
       "          0         1         2         3         4         5         6  \\\n",
       "0  1.414866  4.223380  4.655418  4.221768  6.209269  4.571310  9.064432   \n",
       "1  1.432740  4.290275  4.690469  4.239872  6.214148  4.591742  9.011972   \n",
       "2  1.422657  4.247045  4.658894  4.192462  6.261431  4.614476  9.030548   \n",
       "3  1.362225  4.184494  4.679659  4.191065  6.250918  4.578222  9.093062   \n",
       "4  1.393179  4.238274  4.686842  4.218291  6.238160  4.574005  9.066672   \n",
       "\n",
       "          7         8         9  ...        40        41        42        43  \\\n",
       "0  5.080242  1.773970  8.466394  ...  4.245566  2.992109  3.505270  7.737705   \n",
       "1  5.062182  1.842570  8.362122  ...  4.269808  3.010898  3.566487  7.669010   \n",
       "2  5.077318  1.794996  8.401634  ...  4.244500  3.029674  3.505005  7.669782   \n",
       "3  5.107469  1.639314  8.451753  ...  4.200933  3.048608  3.460865  7.665850   \n",
       "4  5.084459  1.744257  8.402151  ...  4.239795  3.023004  3.516864  7.681612   \n",
       "\n",
       "         44        45        46        47        48        49  \n",
       "0  4.153919  0.793145  8.768568  5.901265  4.734169  3.673390  \n",
       "1  4.158532  0.808761  8.813780  5.890166  4.741519  3.707816  \n",
       "2  4.139117  0.827590  8.814221  5.874210  4.758564  3.679777  \n",
       "3  4.127635  0.849991  8.794816  5.855516  4.775930  3.651313  \n",
       "4  4.154156  0.822106  8.802408  5.879678  4.744999  3.669563  \n",
       "\n",
       "[5 rows x 50 columns]"
      ]
     },
     "execution_count": 7,
     "metadata": {},
     "output_type": "execute_result"
    }
   ],
   "source": [
    "primary = pd.read_csv('../data/processed/primary_reduction_neighbors_50_components_50.csv', index_col='Unnamed: 0')\n",
    "primary_viz = pd.read_csv('../data/meta/primary_tsne.tsv', sep='\\t', header=None)\n",
    "primary.head()"
   ]
  },
  {
   "cell_type": "code",
   "execution_count": 8,
   "id": "08de4f46",
   "metadata": {},
   "outputs": [
    {
     "data": {
      "text/plain": [
       "(189409, 2)"
      ]
     },
     "execution_count": 8,
     "metadata": {},
     "output_type": "execute_result"
    }
   ],
   "source": [
    "prim_umap = pd.read_csv('../data/processed/primary_reduction_neighbors_50_components_2.csv', index_col='Unnamed: 0')\n",
    "prim_umap.shape"
   ]
  },
  {
   "cell_type": "code",
   "execution_count": 9,
   "id": "3b85e39d",
   "metadata": {},
   "outputs": [
    {
     "data": {
      "text/plain": [
       "(189409, 50)"
      ]
     },
     "execution_count": 9,
     "metadata": {},
     "output_type": "execute_result"
    }
   ],
   "source": [
    "primary.shape"
   ]
  },
  {
   "cell_type": "markdown",
   "id": "154d2f07",
   "metadata": {},
   "source": [
    "Now let's run clustering on the cells"
   ]
  },
  {
   "cell_type": "code",
   "execution_count": 10,
   "id": "63950e7e",
   "metadata": {
    "scrolled": true
   },
   "outputs": [
    {
     "ename": "BrokenProcessPool",
     "evalue": "A task has failed to un-serialize. Please ensure that the arguments of the function are all picklable.",
     "output_type": "error",
     "traceback": [
      "\u001b[0;31m---------------------------------------------------------------------------\u001b[0m",
      "\u001b[0;31m_RemoteTraceback\u001b[0m                          Traceback (most recent call last)",
      "\u001b[0;31m_RemoteTraceback\u001b[0m: \n\"\"\"\nTraceback (most recent call last):\n  File \"/Users/julian/miniconda3/envs/base-data-science/lib/python3.9/site-packages/joblib/externals/loky/process_executor.py\", line 407, in _process_worker\n    call_item = call_queue.get(block=True, timeout=timeout)\n  File \"/Users/julian/miniconda3/envs/base-data-science/lib/python3.9/multiprocessing/queues.py\", line 122, in get\n    return _ForkingPickler.loads(res)\n  File \"sklearn/neighbors/_binary_tree.pxi\", line 1057, in sklearn.neighbors._kd_tree.BinaryTree.__setstate__\n  File \"sklearn/neighbors/_binary_tree.pxi\", line 999, in sklearn.neighbors._kd_tree.BinaryTree._update_memviews\n  File \"stringsource\", line 658, in View.MemoryView.memoryview_cwrapper\n  File \"stringsource\", line 349, in View.MemoryView.memoryview.__cinit__\nValueError: buffer source array is read-only\n\"\"\"",
      "\nThe above exception was the direct cause of the following exception:\n",
      "\u001b[0;31mBrokenProcessPool\u001b[0m                         Traceback (most recent call last)",
      "\u001b[0;32m/var/folders/pd/jsjcl0fn7w57s5mfr34b20pm0000gn/T/ipykernel_86232/71655024.py\u001b[0m in \u001b[0;36m<module>\u001b[0;34m\u001b[0m\n\u001b[1;32m      1\u001b[0m \u001b[0mclusterer\u001b[0m \u001b[0;34m=\u001b[0m \u001b[0mhdbscan\u001b[0m\u001b[0;34m.\u001b[0m\u001b[0mHDBSCAN\u001b[0m\u001b[0;34m(\u001b[0m\u001b[0mmin_cluster_size\u001b[0m\u001b[0;34m=\u001b[0m\u001b[0;36m20\u001b[0m\u001b[0;34m)\u001b[0m\u001b[0;34m\u001b[0m\u001b[0;34m\u001b[0m\u001b[0m\n\u001b[0;32m----> 2\u001b[0;31m \u001b[0mclusters\u001b[0m \u001b[0;34m=\u001b[0m \u001b[0mclusterer\u001b[0m\u001b[0;34m.\u001b[0m\u001b[0mfit\u001b[0m\u001b[0;34m(\u001b[0m\u001b[0mprimary\u001b[0m\u001b[0;34m)\u001b[0m\u001b[0;34m\u001b[0m\u001b[0;34m\u001b[0m\u001b[0m\n\u001b[0m\u001b[1;32m      3\u001b[0m \u001b[0mset\u001b[0m\u001b[0;34m(\u001b[0m\u001b[0mclusters\u001b[0m\u001b[0;34m.\u001b[0m\u001b[0mlabels_\u001b[0m\u001b[0;34m)\u001b[0m\u001b[0;34m\u001b[0m\u001b[0;34m\u001b[0m\u001b[0m\n",
      "\u001b[0;32m~/miniconda3/envs/base-data-science/lib/python3.9/site-packages/hdbscan/hdbscan_.py\u001b[0m in \u001b[0;36mfit\u001b[0;34m(self, X, y)\u001b[0m\n\u001b[1;32m    917\u001b[0m          \u001b[0mself\u001b[0m\u001b[0;34m.\u001b[0m\u001b[0m_condensed_tree\u001b[0m\u001b[0;34m,\u001b[0m\u001b[0;34m\u001b[0m\u001b[0;34m\u001b[0m\u001b[0m\n\u001b[1;32m    918\u001b[0m          \u001b[0mself\u001b[0m\u001b[0;34m.\u001b[0m\u001b[0m_single_linkage_tree\u001b[0m\u001b[0;34m,\u001b[0m\u001b[0;34m\u001b[0m\u001b[0;34m\u001b[0m\u001b[0m\n\u001b[0;32m--> 919\u001b[0;31m          self._min_spanning_tree) = hdbscan(X, **kwargs)\n\u001b[0m\u001b[1;32m    920\u001b[0m \u001b[0;34m\u001b[0m\u001b[0m\n\u001b[1;32m    921\u001b[0m         \u001b[0;32mif\u001b[0m \u001b[0mself\u001b[0m\u001b[0;34m.\u001b[0m\u001b[0mprediction_data\u001b[0m\u001b[0;34m:\u001b[0m\u001b[0;34m\u001b[0m\u001b[0;34m\u001b[0m\u001b[0m\n",
      "\u001b[0;32m~/miniconda3/envs/base-data-science/lib/python3.9/site-packages/hdbscan/hdbscan_.py\u001b[0m in \u001b[0;36mhdbscan\u001b[0;34m(X, min_cluster_size, min_samples, alpha, cluster_selection_epsilon, metric, p, leaf_size, algorithm, memory, approx_min_span_tree, gen_min_span_tree, core_dist_n_jobs, cluster_selection_method, allow_single_cluster, match_reference_implementation, **kwargs)\u001b[0m\n\u001b[1;32m    608\u001b[0m                                            gen_min_span_tree, **kwargs)\n\u001b[1;32m    609\u001b[0m             \u001b[0;32melse\u001b[0m\u001b[0;34m:\u001b[0m\u001b[0;34m\u001b[0m\u001b[0;34m\u001b[0m\u001b[0m\n\u001b[0;32m--> 610\u001b[0;31m                 (single_linkage_tree, result_min_span_tree) = memory.cache(\n\u001b[0m\u001b[1;32m    611\u001b[0m                     \u001b[0m_hdbscan_boruvka_kdtree\u001b[0m\u001b[0;34m)\u001b[0m\u001b[0;34m(\u001b[0m\u001b[0mX\u001b[0m\u001b[0;34m,\u001b[0m \u001b[0mmin_samples\u001b[0m\u001b[0;34m,\u001b[0m \u001b[0malpha\u001b[0m\u001b[0;34m,\u001b[0m\u001b[0;34m\u001b[0m\u001b[0;34m\u001b[0m\u001b[0m\n\u001b[1;32m    612\u001b[0m                                              \u001b[0mmetric\u001b[0m\u001b[0;34m,\u001b[0m \u001b[0mp\u001b[0m\u001b[0;34m,\u001b[0m \u001b[0mleaf_size\u001b[0m\u001b[0;34m,\u001b[0m\u001b[0;34m\u001b[0m\u001b[0;34m\u001b[0m\u001b[0m\n",
      "\u001b[0;32m~/miniconda3/envs/base-data-science/lib/python3.9/site-packages/joblib/memory.py\u001b[0m in \u001b[0;36m__call__\u001b[0;34m(self, *args, **kwargs)\u001b[0m\n\u001b[1;32m    347\u001b[0m \u001b[0;34m\u001b[0m\u001b[0m\n\u001b[1;32m    348\u001b[0m     \u001b[0;32mdef\u001b[0m \u001b[0m__call__\u001b[0m\u001b[0;34m(\u001b[0m\u001b[0mself\u001b[0m\u001b[0;34m,\u001b[0m \u001b[0;34m*\u001b[0m\u001b[0margs\u001b[0m\u001b[0;34m,\u001b[0m \u001b[0;34m**\u001b[0m\u001b[0mkwargs\u001b[0m\u001b[0;34m)\u001b[0m\u001b[0;34m:\u001b[0m\u001b[0;34m\u001b[0m\u001b[0;34m\u001b[0m\u001b[0m\n\u001b[0;32m--> 349\u001b[0;31m         \u001b[0;32mreturn\u001b[0m \u001b[0mself\u001b[0m\u001b[0;34m.\u001b[0m\u001b[0mfunc\u001b[0m\u001b[0;34m(\u001b[0m\u001b[0;34m*\u001b[0m\u001b[0margs\u001b[0m\u001b[0;34m,\u001b[0m \u001b[0;34m**\u001b[0m\u001b[0mkwargs\u001b[0m\u001b[0;34m)\u001b[0m\u001b[0;34m\u001b[0m\u001b[0;34m\u001b[0m\u001b[0m\n\u001b[0m\u001b[1;32m    350\u001b[0m \u001b[0;34m\u001b[0m\u001b[0m\n\u001b[1;32m    351\u001b[0m     \u001b[0;32mdef\u001b[0m \u001b[0mcall_and_shelve\u001b[0m\u001b[0;34m(\u001b[0m\u001b[0mself\u001b[0m\u001b[0;34m,\u001b[0m \u001b[0;34m*\u001b[0m\u001b[0margs\u001b[0m\u001b[0;34m,\u001b[0m \u001b[0;34m**\u001b[0m\u001b[0mkwargs\u001b[0m\u001b[0;34m)\u001b[0m\u001b[0;34m:\u001b[0m\u001b[0;34m\u001b[0m\u001b[0;34m\u001b[0m\u001b[0m\n",
      "\u001b[0;32m~/miniconda3/envs/base-data-science/lib/python3.9/site-packages/hdbscan/hdbscan_.py\u001b[0m in \u001b[0;36m_hdbscan_boruvka_kdtree\u001b[0;34m(X, min_samples, alpha, metric, p, leaf_size, approx_min_span_tree, gen_min_span_tree, core_dist_n_jobs, **kwargs)\u001b[0m\n\u001b[1;32m    273\u001b[0m \u001b[0;34m\u001b[0m\u001b[0m\n\u001b[1;32m    274\u001b[0m     \u001b[0mtree\u001b[0m \u001b[0;34m=\u001b[0m \u001b[0mKDTree\u001b[0m\u001b[0;34m(\u001b[0m\u001b[0mX\u001b[0m\u001b[0;34m,\u001b[0m \u001b[0mmetric\u001b[0m\u001b[0;34m=\u001b[0m\u001b[0mmetric\u001b[0m\u001b[0;34m,\u001b[0m \u001b[0mleaf_size\u001b[0m\u001b[0;34m=\u001b[0m\u001b[0mleaf_size\u001b[0m\u001b[0;34m,\u001b[0m \u001b[0;34m**\u001b[0m\u001b[0mkwargs\u001b[0m\u001b[0;34m)\u001b[0m\u001b[0;34m\u001b[0m\u001b[0;34m\u001b[0m\u001b[0m\n\u001b[0;32m--> 275\u001b[0;31m     alg = KDTreeBoruvkaAlgorithm(tree, min_samples, metric=metric,\n\u001b[0m\u001b[1;32m    276\u001b[0m                                  \u001b[0mleaf_size\u001b[0m\u001b[0;34m=\u001b[0m\u001b[0mleaf_size\u001b[0m \u001b[0;34m//\u001b[0m \u001b[0;36m3\u001b[0m\u001b[0;34m,\u001b[0m\u001b[0;34m\u001b[0m\u001b[0;34m\u001b[0m\u001b[0m\n\u001b[1;32m    277\u001b[0m                                  \u001b[0mapprox_min_span_tree\u001b[0m\u001b[0;34m=\u001b[0m\u001b[0mapprox_min_span_tree\u001b[0m\u001b[0;34m,\u001b[0m\u001b[0;34m\u001b[0m\u001b[0;34m\u001b[0m\u001b[0m\n",
      "\u001b[0;32mhdbscan/_hdbscan_boruvka.pyx\u001b[0m in \u001b[0;36mhdbscan._hdbscan_boruvka.KDTreeBoruvkaAlgorithm.__init__\u001b[0;34m()\u001b[0m\n",
      "\u001b[0;32mhdbscan/_hdbscan_boruvka.pyx\u001b[0m in \u001b[0;36mhdbscan._hdbscan_boruvka.KDTreeBoruvkaAlgorithm._compute_bounds\u001b[0;34m()\u001b[0m\n",
      "\u001b[0;32m~/miniconda3/envs/base-data-science/lib/python3.9/site-packages/joblib/parallel.py\u001b[0m in \u001b[0;36m__call__\u001b[0;34m(self, iterable)\u001b[0m\n\u001b[1;32m   1054\u001b[0m \u001b[0;34m\u001b[0m\u001b[0m\n\u001b[1;32m   1055\u001b[0m             \u001b[0;32mwith\u001b[0m \u001b[0mself\u001b[0m\u001b[0;34m.\u001b[0m\u001b[0m_backend\u001b[0m\u001b[0;34m.\u001b[0m\u001b[0mretrieval_context\u001b[0m\u001b[0;34m(\u001b[0m\u001b[0;34m)\u001b[0m\u001b[0;34m:\u001b[0m\u001b[0;34m\u001b[0m\u001b[0;34m\u001b[0m\u001b[0m\n\u001b[0;32m-> 1056\u001b[0;31m                 \u001b[0mself\u001b[0m\u001b[0;34m.\u001b[0m\u001b[0mretrieve\u001b[0m\u001b[0;34m(\u001b[0m\u001b[0;34m)\u001b[0m\u001b[0;34m\u001b[0m\u001b[0;34m\u001b[0m\u001b[0m\n\u001b[0m\u001b[1;32m   1057\u001b[0m             \u001b[0;31m# Make sure that we get a last message telling us we are done\u001b[0m\u001b[0;34m\u001b[0m\u001b[0;34m\u001b[0m\u001b[0m\n\u001b[1;32m   1058\u001b[0m             \u001b[0melapsed_time\u001b[0m \u001b[0;34m=\u001b[0m \u001b[0mtime\u001b[0m\u001b[0;34m.\u001b[0m\u001b[0mtime\u001b[0m\u001b[0;34m(\u001b[0m\u001b[0;34m)\u001b[0m \u001b[0;34m-\u001b[0m \u001b[0mself\u001b[0m\u001b[0;34m.\u001b[0m\u001b[0m_start_time\u001b[0m\u001b[0;34m\u001b[0m\u001b[0;34m\u001b[0m\u001b[0m\n",
      "\u001b[0;32m~/miniconda3/envs/base-data-science/lib/python3.9/site-packages/joblib/parallel.py\u001b[0m in \u001b[0;36mretrieve\u001b[0;34m(self)\u001b[0m\n\u001b[1;32m    933\u001b[0m             \u001b[0;32mtry\u001b[0m\u001b[0;34m:\u001b[0m\u001b[0;34m\u001b[0m\u001b[0;34m\u001b[0m\u001b[0m\n\u001b[1;32m    934\u001b[0m                 \u001b[0;32mif\u001b[0m \u001b[0mgetattr\u001b[0m\u001b[0;34m(\u001b[0m\u001b[0mself\u001b[0m\u001b[0;34m.\u001b[0m\u001b[0m_backend\u001b[0m\u001b[0;34m,\u001b[0m \u001b[0;34m'supports_timeout'\u001b[0m\u001b[0;34m,\u001b[0m \u001b[0;32mFalse\u001b[0m\u001b[0;34m)\u001b[0m\u001b[0;34m:\u001b[0m\u001b[0;34m\u001b[0m\u001b[0;34m\u001b[0m\u001b[0m\n\u001b[0;32m--> 935\u001b[0;31m                     \u001b[0mself\u001b[0m\u001b[0;34m.\u001b[0m\u001b[0m_output\u001b[0m\u001b[0;34m.\u001b[0m\u001b[0mextend\u001b[0m\u001b[0;34m(\u001b[0m\u001b[0mjob\u001b[0m\u001b[0;34m.\u001b[0m\u001b[0mget\u001b[0m\u001b[0;34m(\u001b[0m\u001b[0mtimeout\u001b[0m\u001b[0;34m=\u001b[0m\u001b[0mself\u001b[0m\u001b[0;34m.\u001b[0m\u001b[0mtimeout\u001b[0m\u001b[0;34m)\u001b[0m\u001b[0;34m)\u001b[0m\u001b[0;34m\u001b[0m\u001b[0;34m\u001b[0m\u001b[0m\n\u001b[0m\u001b[1;32m    936\u001b[0m                 \u001b[0;32melse\u001b[0m\u001b[0;34m:\u001b[0m\u001b[0;34m\u001b[0m\u001b[0;34m\u001b[0m\u001b[0m\n\u001b[1;32m    937\u001b[0m                     \u001b[0mself\u001b[0m\u001b[0;34m.\u001b[0m\u001b[0m_output\u001b[0m\u001b[0;34m.\u001b[0m\u001b[0mextend\u001b[0m\u001b[0;34m(\u001b[0m\u001b[0mjob\u001b[0m\u001b[0;34m.\u001b[0m\u001b[0mget\u001b[0m\u001b[0;34m(\u001b[0m\u001b[0;34m)\u001b[0m\u001b[0;34m)\u001b[0m\u001b[0;34m\u001b[0m\u001b[0;34m\u001b[0m\u001b[0m\n",
      "\u001b[0;32m~/miniconda3/envs/base-data-science/lib/python3.9/site-packages/joblib/_parallel_backends.py\u001b[0m in \u001b[0;36mwrap_future_result\u001b[0;34m(future, timeout)\u001b[0m\n\u001b[1;32m    540\u001b[0m         AsyncResults.get from multiprocessing.\"\"\"\n\u001b[1;32m    541\u001b[0m         \u001b[0;32mtry\u001b[0m\u001b[0;34m:\u001b[0m\u001b[0;34m\u001b[0m\u001b[0;34m\u001b[0m\u001b[0m\n\u001b[0;32m--> 542\u001b[0;31m             \u001b[0;32mreturn\u001b[0m \u001b[0mfuture\u001b[0m\u001b[0;34m.\u001b[0m\u001b[0mresult\u001b[0m\u001b[0;34m(\u001b[0m\u001b[0mtimeout\u001b[0m\u001b[0;34m=\u001b[0m\u001b[0mtimeout\u001b[0m\u001b[0;34m)\u001b[0m\u001b[0;34m\u001b[0m\u001b[0;34m\u001b[0m\u001b[0m\n\u001b[0m\u001b[1;32m    543\u001b[0m         \u001b[0;32mexcept\u001b[0m \u001b[0mCfTimeoutError\u001b[0m \u001b[0;32mas\u001b[0m \u001b[0me\u001b[0m\u001b[0;34m:\u001b[0m\u001b[0;34m\u001b[0m\u001b[0;34m\u001b[0m\u001b[0m\n\u001b[1;32m    544\u001b[0m             \u001b[0;32mraise\u001b[0m \u001b[0mTimeoutError\u001b[0m \u001b[0;32mfrom\u001b[0m \u001b[0me\u001b[0m\u001b[0;34m\u001b[0m\u001b[0;34m\u001b[0m\u001b[0m\n",
      "\u001b[0;32m~/miniconda3/envs/base-data-science/lib/python3.9/concurrent/futures/_base.py\u001b[0m in \u001b[0;36mresult\u001b[0;34m(self, timeout)\u001b[0m\n\u001b[1;32m    443\u001b[0m                     \u001b[0;32mraise\u001b[0m \u001b[0mCancelledError\u001b[0m\u001b[0;34m(\u001b[0m\u001b[0;34m)\u001b[0m\u001b[0;34m\u001b[0m\u001b[0;34m\u001b[0m\u001b[0m\n\u001b[1;32m    444\u001b[0m                 \u001b[0;32melif\u001b[0m \u001b[0mself\u001b[0m\u001b[0;34m.\u001b[0m\u001b[0m_state\u001b[0m \u001b[0;34m==\u001b[0m \u001b[0mFINISHED\u001b[0m\u001b[0;34m:\u001b[0m\u001b[0;34m\u001b[0m\u001b[0;34m\u001b[0m\u001b[0m\n\u001b[0;32m--> 445\u001b[0;31m                     \u001b[0;32mreturn\u001b[0m \u001b[0mself\u001b[0m\u001b[0;34m.\u001b[0m\u001b[0m__get_result\u001b[0m\u001b[0;34m(\u001b[0m\u001b[0;34m)\u001b[0m\u001b[0;34m\u001b[0m\u001b[0;34m\u001b[0m\u001b[0m\n\u001b[0m\u001b[1;32m    446\u001b[0m                 \u001b[0;32melse\u001b[0m\u001b[0;34m:\u001b[0m\u001b[0;34m\u001b[0m\u001b[0;34m\u001b[0m\u001b[0m\n\u001b[1;32m    447\u001b[0m                     \u001b[0;32mraise\u001b[0m \u001b[0mTimeoutError\u001b[0m\u001b[0;34m(\u001b[0m\u001b[0;34m)\u001b[0m\u001b[0;34m\u001b[0m\u001b[0;34m\u001b[0m\u001b[0m\n",
      "\u001b[0;32m~/miniconda3/envs/base-data-science/lib/python3.9/concurrent/futures/_base.py\u001b[0m in \u001b[0;36m__get_result\u001b[0;34m(self)\u001b[0m\n\u001b[1;32m    388\u001b[0m         \u001b[0;32mif\u001b[0m \u001b[0mself\u001b[0m\u001b[0;34m.\u001b[0m\u001b[0m_exception\u001b[0m\u001b[0;34m:\u001b[0m\u001b[0;34m\u001b[0m\u001b[0;34m\u001b[0m\u001b[0m\n\u001b[1;32m    389\u001b[0m             \u001b[0;32mtry\u001b[0m\u001b[0;34m:\u001b[0m\u001b[0;34m\u001b[0m\u001b[0;34m\u001b[0m\u001b[0m\n\u001b[0;32m--> 390\u001b[0;31m                 \u001b[0;32mraise\u001b[0m \u001b[0mself\u001b[0m\u001b[0;34m.\u001b[0m\u001b[0m_exception\u001b[0m\u001b[0;34m\u001b[0m\u001b[0;34m\u001b[0m\u001b[0m\n\u001b[0m\u001b[1;32m    391\u001b[0m             \u001b[0;32mfinally\u001b[0m\u001b[0;34m:\u001b[0m\u001b[0;34m\u001b[0m\u001b[0;34m\u001b[0m\u001b[0m\n\u001b[1;32m    392\u001b[0m                 \u001b[0;31m# Break a reference cycle with the exception in self._exception\u001b[0m\u001b[0;34m\u001b[0m\u001b[0;34m\u001b[0m\u001b[0m\n",
      "\u001b[0;31mBrokenProcessPool\u001b[0m: A task has failed to un-serialize. Please ensure that the arguments of the function are all picklable."
     ]
    }
   ],
   "source": [
    "clusterer = hdbscan.HDBSCAN(min_cluster_size=20)\n",
    "clusters = clusterer.fit(primary)\n",
    "set(clusters.labels_)"
   ]
  },
  {
   "cell_type": "code",
   "execution_count": null,
   "id": "5a254dbe",
   "metadata": {},
   "outputs": [],
   "source": [
    "primary['label'] = clusters.labels_"
   ]
  },
  {
   "cell_type": "code",
   "execution_count": null,
   "id": "21ec97a5",
   "metadata": {},
   "outputs": [],
   "source": [
    "prim_umap['label'] = clusters.labels_"
   ]
  },
  {
   "cell_type": "code",
   "execution_count": null,
   "id": "ed27939d",
   "metadata": {},
   "outputs": [],
   "source": [
    "prim_umap.columns"
   ]
  },
  {
   "cell_type": "code",
   "execution_count": null,
   "id": "8c7610cf",
   "metadata": {
    "scrolled": false
   },
   "outputs": [],
   "source": [
    "import seaborn as sns\n",
    "\n",
    "fig, ax = plt.subplots(figsize=(10, 10))\n",
    "\n",
    "sns.scatterplot(\n",
    "    x='0', \n",
    "    y='1',\n",
    "    data=prim_umap,\n",
    "    hue='label',\n",
    "    legend='full',\n",
    "    ax=ax,\n",
    "    s=1,\n",
    "    palette='bright'\n",
    ")\n",
    "\n",
    "plt.title(f'UMAP Projection of Primary Data, Colored by Cluster (computed on N=50 components)')\n",
    "plt.savefig('umap_cluster.png', dpi=300)\n",
    "plt.show()"
   ]
  },
  {
   "cell_type": "code",
   "execution_count": 128,
   "id": "f51e8949",
   "metadata": {},
   "outputs": [
    {
     "data": {
      "text/plain": [
       "array([-1,  0,  1,  2,  3,  4,  5,  6,  7,  8,  9, 10, 11, 12, 13, 14, 15,\n",
       "       16, 17, 18, 19, 20, 21, 22, 23, 24])"
      ]
     },
     "execution_count": 128,
     "metadata": {},
     "output_type": "execute_result"
    }
   ],
   "source": [
    "np.unique(clusters.labels_)"
   ]
  },
  {
   "cell_type": "code",
   "execution_count": 129,
   "id": "d24f0ff4",
   "metadata": {},
   "outputs": [
    {
     "data": {
      "text/plain": [
       "array([-1, -1, -1, ..., 20, 20, 20])"
      ]
     },
     "execution_count": 129,
     "metadata": {},
     "output_type": "execute_result"
    }
   ],
   "source": [
    "clusters.labels_"
   ]
  },
  {
   "cell_type": "code",
   "execution_count": 132,
   "id": "e6c871dc",
   "metadata": {},
   "outputs": [
    {
     "data": {
      "text/plain": [
       "{-1: 31416,\n",
       " 1: 238,\n",
       " 23: 65,\n",
       " 24: 11439,\n",
       " 18: 61973,\n",
       " 6: 64,\n",
       " 22: 110,\n",
       " 2: 45,\n",
       " 21: 69,\n",
       " 12: 546,\n",
       " 20: 4260,\n",
       " 3: 82,\n",
       " 10: 54,\n",
       " 15: 64,\n",
       " 16: 53,\n",
       " 17: 59,\n",
       " 7: 561,\n",
       " 19: 70286,\n",
       " 11: 286,\n",
       " 5: 22,\n",
       " 13: 1795,\n",
       " 9: 28,\n",
       " 14: 28,\n",
       " 8: 20,\n",
       " 0: 5825,\n",
       " 4: 21}"
      ]
     },
     "execution_count": 132,
     "metadata": {},
     "output_type": "execute_result"
    }
   ],
   "source": [
    "from collections import Counter\n",
    "\n",
    "dict(zip(Counter(clusters.labels_).keys(), Counter(clusters.labels_).values()))"
   ]
  },
  {
   "cell_type": "code",
   "execution_count": null,
   "id": "24e9c079",
   "metadata": {},
   "outputs": [],
   "source": []
  }
 ],
 "metadata": {
  "kernelspec": {
   "display_name": "Python [conda env:base-data-science] *",
   "language": "python",
   "name": "conda-env-base-data-science-py"
  },
  "language_info": {
   "codemirror_mode": {
    "name": "ipython",
    "version": 3
   },
   "file_extension": ".py",
   "mimetype": "text/x-python",
   "name": "python",
   "nbconvert_exporter": "python",
   "pygments_lexer": "ipython3",
   "version": "3.9.7"
  }
 },
 "nbformat": 4,
 "nbformat_minor": 5
}
