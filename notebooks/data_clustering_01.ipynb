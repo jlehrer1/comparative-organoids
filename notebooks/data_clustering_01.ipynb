{
 "cells": [
  {
   "cell_type": "markdown",
   "metadata": {},
   "source": [
    "# Clustering 01\n",
    "\n",
    "In this notebook, we need to find which clusters correspond with which cortex layer in the primary data. "
   ]
  },
  {
   "cell_type": "code",
   "execution_count": 1,
   "metadata": {},
   "outputs": [],
   "source": [
    "import pandas as pd \n",
    "import numpy as np\n",
    "import sklearn as sk\n",
    "import hdbscan\n",
    "import dask.dataframe as da\n",
    "import dask"
   ]
  },
  {
   "cell_type": "markdown",
   "metadata": {},
   "source": [
    "Let's read in the data, and then perform a sample run of density-based clustering, and visualize our results with a UMAP projection onto $\\mathbb{R}^2$"
   ]
  },
  {
   "cell_type": "code",
   "execution_count": 2,
   "metadata": {},
   "outputs": [],
   "source": [
    "organoid = da.read_csv('../data/processed/organoid.csv')\n",
    "primary = da.read_csv('../data/processed/primary.csv')"
   ]
  },
  {
   "cell_type": "code",
   "execution_count": 3,
   "metadata": {},
   "outputs": [
    {
     "data": {
      "text/html": [
       "<div>\n",
       "<style scoped>\n",
       "    .dataframe tbody tr th:only-of-type {\n",
       "        vertical-align: middle;\n",
       "    }\n",
       "\n",
       "    .dataframe tbody tr th {\n",
       "        vertical-align: top;\n",
       "    }\n",
       "\n",
       "    .dataframe thead th {\n",
       "        text-align: right;\n",
       "    }\n",
       "</style>\n",
       "<table border=\"1\" class=\"dataframe\">\n",
       "  <thead>\n",
       "    <tr style=\"text-align: right;\">\n",
       "      <th></th>\n",
       "      <th>SLC16A8</th>\n",
       "      <th>IMP4</th>\n",
       "      <th>ST8SIA2</th>\n",
       "      <th>ATP2B3</th>\n",
       "      <th>RP3-394A18.1</th>\n",
       "      <th>NTAN1</th>\n",
       "      <th>PDP1</th>\n",
       "      <th>RABGGTB</th>\n",
       "      <th>ENPP5</th>\n",
       "      <th>AIP</th>\n",
       "      <th>...</th>\n",
       "      <th>NIPA1</th>\n",
       "      <th>RP11-728G15.1</th>\n",
       "      <th>RAD51B</th>\n",
       "      <th>NPIPB11</th>\n",
       "      <th>CTR9</th>\n",
       "      <th>CBR1</th>\n",
       "      <th>RPUSD3</th>\n",
       "      <th>PRDM5</th>\n",
       "      <th>YBX1</th>\n",
       "      <th>NUP50</th>\n",
       "    </tr>\n",
       "  </thead>\n",
       "  <tbody>\n",
       "    <tr>\n",
       "      <th>0</th>\n",
       "      <td>0.0</td>\n",
       "      <td>0.000000</td>\n",
       "      <td>0.0</td>\n",
       "      <td>0.0</td>\n",
       "      <td>0.376018</td>\n",
       "      <td>0.000000</td>\n",
       "      <td>0.0</td>\n",
       "      <td>0.0</td>\n",
       "      <td>0.0</td>\n",
       "      <td>1.086759</td>\n",
       "      <td>...</td>\n",
       "      <td>0.0</td>\n",
       "      <td>0.0</td>\n",
       "      <td>0.0</td>\n",
       "      <td>0.0</td>\n",
       "      <td>0.087199</td>\n",
       "      <td>0.000000</td>\n",
       "      <td>0.669813</td>\n",
       "      <td>0.223595</td>\n",
       "      <td>3.286254</td>\n",
       "      <td>0.241645</td>\n",
       "    </tr>\n",
       "    <tr>\n",
       "      <th>1</th>\n",
       "      <td>0.0</td>\n",
       "      <td>0.000000</td>\n",
       "      <td>0.0</td>\n",
       "      <td>0.0</td>\n",
       "      <td>0.000000</td>\n",
       "      <td>0.000000</td>\n",
       "      <td>0.0</td>\n",
       "      <td>0.0</td>\n",
       "      <td>0.0</td>\n",
       "      <td>0.000000</td>\n",
       "      <td>...</td>\n",
       "      <td>0.0</td>\n",
       "      <td>0.0</td>\n",
       "      <td>0.0</td>\n",
       "      <td>0.0</td>\n",
       "      <td>1.047786</td>\n",
       "      <td>0.000000</td>\n",
       "      <td>0.000000</td>\n",
       "      <td>0.000000</td>\n",
       "      <td>3.609096</td>\n",
       "      <td>0.965683</td>\n",
       "    </tr>\n",
       "    <tr>\n",
       "      <th>2</th>\n",
       "      <td>0.0</td>\n",
       "      <td>0.000000</td>\n",
       "      <td>0.0</td>\n",
       "      <td>0.0</td>\n",
       "      <td>0.000000</td>\n",
       "      <td>0.747101</td>\n",
       "      <td>0.0</td>\n",
       "      <td>0.0</td>\n",
       "      <td>0.0</td>\n",
       "      <td>0.000000</td>\n",
       "      <td>...</td>\n",
       "      <td>0.0</td>\n",
       "      <td>0.0</td>\n",
       "      <td>0.0</td>\n",
       "      <td>0.0</td>\n",
       "      <td>0.000000</td>\n",
       "      <td>2.017795</td>\n",
       "      <td>0.000000</td>\n",
       "      <td>0.000000</td>\n",
       "      <td>3.577600</td>\n",
       "      <td>0.000000</td>\n",
       "    </tr>\n",
       "    <tr>\n",
       "      <th>3</th>\n",
       "      <td>0.0</td>\n",
       "      <td>0.000000</td>\n",
       "      <td>0.0</td>\n",
       "      <td>0.0</td>\n",
       "      <td>0.000000</td>\n",
       "      <td>0.000000</td>\n",
       "      <td>0.0</td>\n",
       "      <td>0.0</td>\n",
       "      <td>0.0</td>\n",
       "      <td>0.000000</td>\n",
       "      <td>...</td>\n",
       "      <td>0.0</td>\n",
       "      <td>0.0</td>\n",
       "      <td>0.0</td>\n",
       "      <td>0.0</td>\n",
       "      <td>0.000000</td>\n",
       "      <td>0.000000</td>\n",
       "      <td>0.000000</td>\n",
       "      <td>0.000000</td>\n",
       "      <td>3.996260</td>\n",
       "      <td>0.000000</td>\n",
       "    </tr>\n",
       "    <tr>\n",
       "      <th>4</th>\n",
       "      <td>0.0</td>\n",
       "      <td>0.888053</td>\n",
       "      <td>0.0</td>\n",
       "      <td>0.0</td>\n",
       "      <td>0.000000</td>\n",
       "      <td>0.000000</td>\n",
       "      <td>0.0</td>\n",
       "      <td>0.0</td>\n",
       "      <td>0.0</td>\n",
       "      <td>0.000000</td>\n",
       "      <td>...</td>\n",
       "      <td>0.0</td>\n",
       "      <td>0.0</td>\n",
       "      <td>0.0</td>\n",
       "      <td>0.0</td>\n",
       "      <td>0.000000</td>\n",
       "      <td>0.000000</td>\n",
       "      <td>0.000000</td>\n",
       "      <td>0.000000</td>\n",
       "      <td>3.344100</td>\n",
       "      <td>0.000000</td>\n",
       "    </tr>\n",
       "  </tbody>\n",
       "</table>\n",
       "<p>5 rows × 16319 columns</p>\n",
       "</div>"
      ],
      "text/plain": [
       "   SLC16A8      IMP4  ST8SIA2  ATP2B3  RP3-394A18.1     NTAN1  PDP1  RABGGTB  \\\n",
       "0      0.0  0.000000      0.0     0.0      0.376018  0.000000   0.0      0.0   \n",
       "1      0.0  0.000000      0.0     0.0      0.000000  0.000000   0.0      0.0   \n",
       "2      0.0  0.000000      0.0     0.0      0.000000  0.747101   0.0      0.0   \n",
       "3      0.0  0.000000      0.0     0.0      0.000000  0.000000   0.0      0.0   \n",
       "4      0.0  0.888053      0.0     0.0      0.000000  0.000000   0.0      0.0   \n",
       "\n",
       "   ENPP5       AIP  ...  NIPA1  RP11-728G15.1  RAD51B  NPIPB11      CTR9  \\\n",
       "0    0.0  1.086759  ...    0.0            0.0     0.0      0.0  0.087199   \n",
       "1    0.0  0.000000  ...    0.0            0.0     0.0      0.0  1.047786   \n",
       "2    0.0  0.000000  ...    0.0            0.0     0.0      0.0  0.000000   \n",
       "3    0.0  0.000000  ...    0.0            0.0     0.0      0.0  0.000000   \n",
       "4    0.0  0.000000  ...    0.0            0.0     0.0      0.0  0.000000   \n",
       "\n",
       "       CBR1    RPUSD3     PRDM5      YBX1     NUP50  \n",
       "0  0.000000  0.669813  0.223595  3.286254  0.241645  \n",
       "1  0.000000  0.000000  0.000000  3.609096  0.965683  \n",
       "2  2.017795  0.000000  0.000000  3.577600  0.000000  \n",
       "3  0.000000  0.000000  0.000000  3.996260  0.000000  \n",
       "4  0.000000  0.000000  0.000000  3.344100  0.000000  \n",
       "\n",
       "[5 rows x 16319 columns]"
      ]
     },
     "execution_count": 3,
     "metadata": {},
     "output_type": "execute_result"
    }
   ],
   "source": [
    "organoid.head()"
   ]
  },
  {
   "cell_type": "markdown",
   "metadata": {},
   "source": [
    "As usual, let's register the dask progress bar"
   ]
  },
  {
   "cell_type": "code",
   "execution_count": 4,
   "metadata": {},
   "outputs": [],
   "source": [
    "from dask.diagnostics import ProgressBar\n",
    "pbar = ProgressBar()\n",
    "pbar = pbar.register()"
   ]
  },
  {
   "cell_type": "markdown",
   "metadata": {},
   "source": [
    "## Clustering\n",
    "\n",
    "We begin by using HDBSCAN, a density based clustering method that makes two important assumptions: our clusters are not Gaussian balls, and we don't know the number of true clusters a priori. Especially since we cannot reasonably visualize our data pairwise (2^16k plots)."
   ]
  },
  {
   "cell_type": "code",
   "execution_count": 5,
   "metadata": {},
   "outputs": [],
   "source": [
    "@dask.delayed\n",
    "def dask_cluster(data):\n",
    "    clusterer = hdbscan.HDBSCAN()\n",
    "    return clusterer.fit(primary)"
   ]
  },
  {
   "cell_type": "code",
   "execution_count": 9,
   "metadata": {},
   "outputs": [],
   "source": [
    "prim_cluster = dask_cluster(primary)"
   ]
  },
  {
   "cell_type": "code",
   "execution_count": null,
   "metadata": {},
   "outputs": [
    {
     "name": "stdout",
     "output_type": "stream",
     "text": [
      "[####################################### ] | 99% Completed |  2hr  0min 12.6s"
     ]
    }
   ],
   "source": [
    "prim_cluster = prim_cluster.compute()"
   ]
  },
  {
   "cell_type": "markdown",
   "metadata": {},
   "source": [
    "Let's look at what clusters were found by HDBSCAN"
   ]
  },
  {
   "cell_type": "code",
   "execution_count": null,
   "metadata": {},
   "outputs": [],
   "source": [
    "set(prim_cluster.clusters_)"
   ]
  },
  {
   "cell_type": "markdown",
   "metadata": {},
   "source": [
    "## Cluster visualization\n",
    "\n",
    "Now that we've performed clustering using HDBSCAN, let's visualize the 2D projection of the data using UMAP"
   ]
  },
  {
   "cell_type": "code",
   "execution_count": null,
   "metadata": {},
   "outputs": [],
   "source": []
  }
 ],
 "metadata": {
  "kernelspec": {
   "display_name": "Python [conda env:base-data-science] *",
   "language": "python",
   "name": "conda-env-base-data-science-py"
  },
  "language_info": {
   "codemirror_mode": {
    "name": "ipython",
    "version": 3
   },
   "file_extension": ".py",
   "mimetype": "text/x-python",
   "name": "python",
   "nbconvert_exporter": "python",
   "pygments_lexer": "ipython3",
   "version": "3.9.7"
  }
 },
 "nbformat": 4,
 "nbformat_minor": 4
}
