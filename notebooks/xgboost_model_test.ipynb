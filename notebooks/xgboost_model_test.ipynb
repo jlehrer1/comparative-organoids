{
 "cells": [
  {
   "cell_type": "code",
   "execution_count": 1,
   "id": "dcd4b90b",
   "metadata": {},
   "outputs": [
    {
     "name": "stderr",
     "output_type": "stream",
     "text": [
      "/Users/julian/miniconda3/envs/base-data-science/lib/python3.9/site-packages/xgboost/compat.py:36: FutureWarning: pandas.Int64Index is deprecated and will be removed from pandas in a future version. Use pandas.Index with the appropriate dtype instead.\n",
      "  from pandas import MultiIndex, Int64Index\n"
     ]
    }
   ],
   "source": [
    "from xgboost import XGBClassifier\n",
    "import anndata as an\n",
    "import numpy as np\n",
    "import matplotlib.pyplot as plt \n",
    "import pandas as pd \n",
    "\n",
    "import sys\n",
    "sys.path.append('../src')\n",
    "from models.lib.lightning_train import DataModule\n",
    "import xgboost as xgb"
   ]
  },
  {
   "cell_type": "code",
   "execution_count": 2,
   "id": "9d2f7b0c",
   "metadata": {},
   "outputs": [
    {
     "name": "stdout",
     "output_type": "stream",
     "text": [
      "Creating train/val/test DataLoaders...\n"
     ]
    },
    {
     "name": "stderr",
     "output_type": "stream",
     "text": [
      "/Users/julian/miniconda3/envs/base-data-science/lib/python3.9/site-packages/anndata/_core/anndata.py:120: ImplicitModificationWarning: Transforming to str index.\n",
      "  warnings.warn(\"Transforming to str index.\", ImplicitModificationWarning)\n"
     ]
    },
    {
     "name": "stdout",
     "output_type": "stream",
     "text": [
      "Done, continuing to training.\n"
     ]
    }
   ],
   "source": [
    "module = DataModule(\n",
    "    datafiles=['../data/retina/retina_T.h5ad'],\n",
    "    labelfiles=['../data/retina/retina_labels_numeric.csv'],\n",
    "    class_label='class_label',\n",
    "    index_col='cell',\n",
    "    batch_size=16,\n",
    "    num_workers=0,\n",
    "    shuffle=True,\n",
    "    drop_last=False,\n",
    "    normalize=False,\n",
    ")\n",
    "\n",
    "module.setup()"
   ]
  },
  {
   "cell_type": "code",
   "execution_count": 3,
   "id": "fc7a9ed4",
   "metadata": {},
   "outputs": [],
   "source": [
    "loader = module.trainloader"
   ]
  },
  {
   "cell_type": "code",
   "execution_count": 4,
   "id": "5d2ee619",
   "metadata": {},
   "outputs": [],
   "source": [
    "sample = next(iter(loader))\n",
    "X = sample[0].numpy()\n",
    "y = sample[1].numpy()"
   ]
  },
  {
   "cell_type": "code",
   "execution_count": 7,
   "id": "2f3c7226",
   "metadata": {},
   "outputs": [
    {
     "name": "stdout",
     "output_type": "stream",
     "text": [
      "[22:29:59] WARNING: /Users/runner/miniforge3/conda-bld/xgboost-split_1637426408905/work/src/learner.cc:1115: Starting in XGBoost 1.3.0, the default evaluation metric used with the objective 'multi:softprob' was changed from 'merror' to 'mlogloss'. Explicitly set eval_metric if you'd like to restore the old behavior.\n"
     ]
    }
   ],
   "source": [
    "from sklearn.metrics import accuracy_score\n",
    "\n",
    "model = XGBClassifier()\n",
    "train = module.trainloader\n",
    "test = module.valloader\n",
    "\n",
    "# Train on one minibatch to get started \n",
    "sample = next(iter(loader))\n",
    "X = sample[0].numpy()\n",
    "y = sample[1].numpy()\n",
    "\n",
    "model = model.fit(X, y)"
   ]
  },
  {
   "cell_type": "code",
   "execution_count": null,
   "id": "df47ce51",
   "metadata": {},
   "outputs": [],
   "source": [
    "for i, (trainsample, valsample) in enumerate(zip(train, test)):\n",
    "    if i == 5:\n",
    "        break\n",
    "        \n",
    "    X_train, y_train = trainsample \n",
    "    X_test, y_test = valsample\n",
    "    \n",
    "    model = model.fit(X_train, y_train, xgb_model=model.get_booster())\n",
    "    y_pred = model.predict(X_test)\n",
    "    \n",
    "    accuracy = accuracy_score(y_test, y_pred)\n",
    "    print(accuracy)"
   ]
  },
  {
   "cell_type": "code",
   "execution_count": null,
   "id": "31b9fec8",
   "metadata": {},
   "outputs": [],
   "source": []
  }
 ],
 "metadata": {
  "kernelspec": {
   "display_name": "Python [conda env:base-data-science]",
   "language": "python",
   "name": "conda-env-base-data-science-py"
  },
  "language_info": {
   "codemirror_mode": {
    "name": "ipython",
    "version": 3
   },
   "file_extension": ".py",
   "mimetype": "text/x-python",
   "name": "python",
   "nbconvert_exporter": "python",
   "pygments_lexer": "ipython3",
   "version": "3.9.7"
  }
 },
 "nbformat": 4,
 "nbformat_minor": 5
}
