{
 "cells": [
  {
   "cell_type": "code",
   "execution_count": 1,
   "id": "be54c4a5",
   "metadata": {},
   "outputs": [],
   "source": [
    "import pandas as pd \n",
    "import os\n",
    "import sys\n",
    "import pandas as pd \n",
    "import numpy as np\n",
    "sys.path.append('../src/')\n",
    "sys.path.append('..')"
   ]
  },
  {
   "cell_type": "code",
   "execution_count": 2,
   "id": "2c36e9e8",
   "metadata": {},
   "outputs": [],
   "source": [
    "from src.models.lib.data import *\n",
    "from src.helper import *"
   ]
  },
  {
   "cell_type": "code",
   "execution_count": 3,
   "id": "3b255967",
   "metadata": {},
   "outputs": [
    {
     "data": {
      "text/plain": [
       "['allen_cortex_labels.csv',\n",
       " 'primary_bhaduri_labels.csv',\n",
       " 'allen_m1_region_labels.csv',\n",
       " 'whole_brain_bhaduri_labels.csv']"
      ]
     },
     "execution_count": 3,
     "metadata": {},
     "output_type": "execute_result"
    }
   ],
   "source": [
    "files = os.listdir('../data/processed/labels/')\n",
    "files"
   ]
  },
  {
   "cell_type": "code",
   "execution_count": 4,
   "id": "e9d3c421",
   "metadata": {},
   "outputs": [],
   "source": [
    "def calculate_intersection(indata, genes, datapath):\n",
    "     for datafile, labelfile in indata:\n",
    "        dataset = GeneExpressionData(\n",
    "            filename=datafile,\n",
    "            labelname=labelfile,\n",
    "        )\n",
    "\n",
    "        currgenes = dataset.get_features()\n",
    "        outfile = os.path.join(datapath, 'processed', f'{datafile[:-4]}_cleaned.csv')\n",
    "\n",
    "        with open(outfile, mode='a+', encoding='utf-8') as f:\n",
    "            for sample, _ in dataset: # Don't need label \n",
    "                temp = clean_sample(\n",
    "                    sample=sample,\n",
    "                    refgenes=genes,\n",
    "                    currgenes=currgenes,\n",
    "                ) \n",
    "\n",
    "                f.write('\\n'.join(temp))\n",
    "\n"
   ]
  },
  {
   "cell_type": "code",
   "execution_count": 5,
   "id": "13a626f6",
   "metadata": {},
   "outputs": [
    {
     "data": {
      "text/plain": [
       "(tensor([0., 0., 0.,  ..., 0., 0., 0.]), 'Exclude')"
      ]
     },
     "execution_count": 5,
     "metadata": {},
     "output_type": "execute_result"
    }
   ],
   "source": [
    "files = os.listdir('../data/processed/labels/')\n",
    "test = GeneExpressionData(\n",
    "    filename='../data/interim/allen_cortex_T.csv',\n",
    "    labelname='../data/interim/labels/allen_cortex_labels.csv',\n",
    "    class_label='Type',\n",
    "    cast=True,\n",
    "    skip=3\n",
    ")\n",
    "\n",
    "test[0]"
   ]
  },
  {
   "cell_type": "code",
   "execution_count": 6,
   "id": "7c9b6fd6",
   "metadata": {},
   "outputs": [],
   "source": [
    "refgenes = gene_intersection()"
   ]
  },
  {
   "cell_type": "code",
   "execution_count": 7,
   "id": "a9621cfa",
   "metadata": {},
   "outputs": [
    {
     "data": {
      "text/plain": [
       "1"
      ]
     },
     "execution_count": 7,
     "metadata": {},
     "output_type": "execute_result"
    }
   ],
   "source": [
    "len(set(refgenes).intersection(test.get_features()))"
   ]
  },
  {
   "cell_type": "code",
   "execution_count": 8,
   "id": "aebc1aa4",
   "metadata": {},
   "outputs": [],
   "source": [
    "from torch.utils.data import DataLoader, ConcatDataset\n",
    "\n",
    "loader = DataLoader(test, batch_size=4)\n",
    "sample = next(iter(loader))\n",
    "sample = sample[0].numpy()"
   ]
  },
  {
   "cell_type": "code",
   "execution_count": 9,
   "id": "4839fb2c",
   "metadata": {},
   "outputs": [
    {
     "data": {
      "text/plain": [
       "array([[1, 2, 3],\n",
       "       [1, 2, 3]])"
      ]
     },
     "execution_count": 9,
     "metadata": {},
     "output_type": "execute_result"
    }
   ],
   "source": [
    "temp = np.array([[3,2,1],\n",
    "        [1,2,3]])\n",
    "\n",
    "np.sort(temp, axis=1)"
   ]
  },
  {
   "cell_type": "code",
   "execution_count": 10,
   "id": "e605630b",
   "metadata": {},
   "outputs": [],
   "source": [
    "def clean_sample(sample, refgenes, currgenes):\n",
    "    intersection = np.intersect1d(currgenes, refgenes, return_indices=True)\n",
    "    indices = intersection[1] # List of indices in currgenes that equal refgenes \n",
    "    \n",
    "    sample = np.sort(sample, axis=1)\n",
    "    sample = np.take(sample, indices, axis=1)\n",
    "\n",
    "    return sample \n",
    "\n",
    "currgenes = test.get_features()\n",
    "\n",
    "cleaned = clean_sample(\n",
    "    sample=sample,\n",
    "    refgenes=refgenes,\n",
    "    currgenes=currgenes\n",
    ")"
   ]
  },
  {
   "cell_type": "code",
   "execution_count": 11,
   "id": "bb551de4",
   "metadata": {},
   "outputs": [
    {
     "data": {
      "text/plain": [
       "array([], shape=(4, 0), dtype=float32)"
      ]
     },
     "execution_count": 11,
     "metadata": {},
     "output_type": "execute_result"
    }
   ],
   "source": [
    "cleaned"
   ]
  },
  {
   "cell_type": "code",
   "execution_count": 12,
   "id": "f196b043",
   "metadata": {},
   "outputs": [
    {
     "data": {
      "text/plain": [
       "0.0"
      ]
     },
     "execution_count": 12,
     "metadata": {},
     "output_type": "execute_result"
    }
   ],
   "source": [
    "cleaned[0].sum()"
   ]
  },
  {
   "cell_type": "code",
   "execution_count": 13,
   "id": "2a0483ea",
   "metadata": {
    "scrolled": true
   },
   "outputs": [],
   "source": [
    "# %%time\n",
    "\n",
    "# for i, sample in enumerate(loader):\n",
    "#     X, y = sample \n",
    "#     print(f'{i = }')\n",
    "#     cleaned = clean_sample(\n",
    "#         sample = X,\n",
    "#         refgenes = refgenes,\n",
    "#         currgenes = currgenes\n",
    "#     )"
   ]
  },
  {
   "cell_type": "code",
   "execution_count": 14,
   "id": "61103754",
   "metadata": {},
   "outputs": [
    {
     "data": {
      "text/plain": [
       "49494"
      ]
     },
     "execution_count": 14,
     "metadata": {},
     "output_type": "execute_result"
    }
   ],
   "source": [
    "len(test)"
   ]
  },
  {
   "cell_type": "code",
   "execution_count": 15,
   "id": "be7cda1f",
   "metadata": {},
   "outputs": [
    {
     "data": {
      "text/plain": [
       "(['../data/interim/primary_bhaduri_T.csv',\n",
       "  '../data/interim/allen_cortex_T.csv',\n",
       "  '../data/interim/allen_m1_region_T.csv',\n",
       "  '../data/interim/whole_brain_bhaduri_T.csv'],\n",
       " ['../data/processed/labels/primary_bhaduri_labels.csv',\n",
       "  '../data/processed/labels/allen_cortex_labels.csv',\n",
       "  '../data/processed/labels/allen_m1_region_labels.csv',\n",
       "  '../data/processed/labels/whole_brain_bhaduri_labels.csv'])"
      ]
     },
     "execution_count": 15,
     "metadata": {},
     "output_type": "execute_result"
    }
   ],
   "source": [
    "datafiles, labelfiles = list(INTERIM_DATA_AND_LABEL_FILES_LIST.keys()), list(INTERIM_DATA_AND_LABEL_FILES_LIST.values())\n",
    "\n",
    "datafiles = [os.path.join('..', 'data', 'interim', f) for f in datafiles]\n",
    "labelfiles = [os.path.join('..', 'data', 'processed/labels', f) for f in labelfiles]\n",
    "datafiles, labelfiles"
   ]
  },
  {
   "cell_type": "code",
   "execution_count": 16,
   "id": "4aaddadd",
   "metadata": {},
   "outputs": [],
   "source": [
    "train, test, input_size, num_labels, weights = generate_datasets(\n",
    "    datafiles,\n",
    "    labelfiles,\n",
    "    'Type'\n",
    ")"
   ]
  },
  {
   "cell_type": "code",
   "execution_count": 17,
   "id": "fffa712f",
   "metadata": {},
   "outputs": [],
   "source": [
    "trainloader = DataLoader(train, batch_size=4)"
   ]
  },
  {
   "cell_type": "code",
   "execution_count": 18,
   "id": "22b1667d",
   "metadata": {},
   "outputs": [
    {
     "name": "stdout",
     "output_type": "stream",
     "text": [
      "18.1 ms ± 203 µs per loop (mean ± std. dev. of 7 runs, 100 loops each)\n"
     ]
    }
   ],
   "source": [
    "%%timeit \n",
    "\n",
    "sample = next(iter(trainloader))"
   ]
  },
  {
   "cell_type": "code",
   "execution_count": 19,
   "id": "0ee86b2d",
   "metadata": {},
   "outputs": [],
   "source": [
    "# result = clean_sample(sample, refgenes, currgenes)"
   ]
  },
  {
   "cell_type": "code",
   "execution_count": 21,
   "id": "0fc98bc8",
   "metadata": {},
   "outputs": [
    {
     "data": {
      "text/plain": [
       "(4, 50281)"
      ]
     },
     "execution_count": 21,
     "metadata": {},
     "output_type": "execute_result"
    }
   ],
   "source": [
    "sample.shape"
   ]
  },
  {
   "cell_type": "code",
   "execution_count": null,
   "id": "494a902e",
   "metadata": {},
   "outputs": [],
   "source": [
    "clean_sample(sample, refgenes, currgenes)"
   ]
  },
  {
   "cell_type": "code",
   "execution_count": null,
   "id": "38098ebd",
   "metadata": {},
   "outputs": [],
   "source": []
  }
 ],
 "metadata": {
  "kernelspec": {
   "display_name": "Python [conda env:base-data-science]",
   "language": "python",
   "name": "conda-env-base-data-science-py"
  },
  "language_info": {
   "codemirror_mode": {
    "name": "ipython",
    "version": 3
   },
   "file_extension": ".py",
   "mimetype": "text/x-python",
   "name": "python",
   "nbconvert_exporter": "python",
   "pygments_lexer": "ipython3",
   "version": "3.9.7"
  }
 },
 "nbformat": 4,
 "nbformat_minor": 5
}
