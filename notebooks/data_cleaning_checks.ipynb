{
 "cells": [
  {
   "cell_type": "code",
   "execution_count": 1,
   "id": "be54c4a5",
   "metadata": {},
   "outputs": [],
   "source": [
    "import pandas as pd \n",
    "import os\n",
    "import sys\n",
    "import pandas as pd\n",
    "import numpy as np\n",
    "from torch.utils.data import *\n",
    "from tqdm import tqdm\n",
    "import linecache \n",
    "\n",
    "sys.path.append('../src/')\n",
    "sys.path.append('..')\n",
    "\n",
    "from src.models.lib.neural import GeneClassifier"
   ]
  },
  {
   "cell_type": "code",
   "execution_count": 2,
   "id": "16540141",
   "metadata": {},
   "outputs": [],
   "source": [
    "from src.models.lib.data import *\n",
    "from src.helper import *"
   ]
  },
  {
   "cell_type": "code",
   "execution_count": 3,
   "id": "30f2a8cb",
   "metadata": {
    "scrolled": false
   },
   "outputs": [],
   "source": [
    "test = GeneExpressionData(\n",
    "    filename='../data/interim/allen_cortex_T.csv',\n",
    "    labelname='../data/processed/labels/allen_cortex_labels.csv',\n",
    "    class_label='Type',\n",
    "    cast=True,\n",
    "    skip=3,\n",
    ")\n"
   ]
  },
  {
   "cell_type": "code",
   "execution_count": 4,
   "id": "5e4972fb",
   "metadata": {
    "scrolled": true
   },
   "outputs": [
    {
     "name": "stdout",
     "output_type": "stream",
     "text": [
      "90.1 ms ± 2.49 ms per loop (mean ± std. dev. of 7 runs, 1 loop each)\n"
     ]
    }
   ],
   "source": [
    "%%timeit\n",
    "\n",
    "test[0:20]"
   ]
  },
  {
   "cell_type": "code",
   "execution_count": 5,
   "id": "4a7ad762",
   "metadata": {},
   "outputs": [
    {
     "name": "stdout",
     "output_type": "stream",
     "text": [
      "CPU times: user 2.25 s, sys: 87.7 ms, total: 2.34 s\n",
      "Wall time: 2.36 s\n"
     ]
    }
   ],
   "source": [
    "%%time\n",
    "\n",
    "refgenes = gene_intersection()"
   ]
  },
  {
   "cell_type": "code",
   "execution_count": 6,
   "id": "1ffd7673",
   "metadata": {},
   "outputs": [],
   "source": [
    "from torch.utils.data import DataLoader, ConcatDataset\n",
    "\n",
    "loader = DataLoader(test, batch_size=4)\n",
    "sample = next(iter(loader))\n",
    "sample = sample[0].numpy()"
   ]
  },
  {
   "cell_type": "code",
   "execution_count": 7,
   "id": "25c97585",
   "metadata": {},
   "outputs": [],
   "source": [
    "def clean_sample(sample, refgenes, currgenes):\n",
    "    intersection = np.intersect1d(currgenes, refgenes, return_indices=True)\n",
    "    indices = intersection[1] # List of indices in currgenes that equal refgenes \n",
    "    \n",
    "    axis = (1 if sample.ndim == 2 else 0)\n",
    "    sample = np.sort(sample, axis=axis)\n",
    "    sample = np.take(sample, indices, axis=axis)\n",
    "\n",
    "    return torch.from_numpy(sample)"
   ]
  },
  {
   "cell_type": "code",
   "execution_count": 8,
   "id": "acc0ebd5",
   "metadata": {},
   "outputs": [
    {
     "data": {
      "text/plain": [
       "(['../data/interim/primary_bhaduri_T.csv',\n",
       "  '../data/interim/allen_cortex_T.csv',\n",
       "  '../data/interim/allen_m1_region_T.csv',\n",
       "  '../data/interim/whole_brain_bhaduri_T.csv'],\n",
       " ['../data/processed/labels/primary_bhaduri_labels.csv',\n",
       "  '../data/processed/labels/allen_cortex_labels.csv',\n",
       "  '../data/processed/labels/allen_m1_region_labels.csv',\n",
       "  '../data/processed/labels/whole_brain_bhaduri_labels.csv'])"
      ]
     },
     "execution_count": 8,
     "metadata": {},
     "output_type": "execute_result"
    }
   ],
   "source": [
    "datafiles, labelfiles = list(INTERIM_DATA_AND_LABEL_FILES_LIST.keys()), list(INTERIM_DATA_AND_LABEL_FILES_LIST.values())\n",
    "\n",
    "datafiles = [os.path.join('..', 'data', 'interim', f) for f in datafiles]\n",
    "labelfiles = [os.path.join('..', 'data', 'processed/labels', f) for f in labelfiles]\n",
    "datafiles, labelfiles"
   ]
  },
  {
   "cell_type": "code",
   "execution_count": 9,
   "id": "d07b88a9",
   "metadata": {
    "scrolled": false
   },
   "outputs": [],
   "source": [
    "train = GeneExpressionData(datafiles[0], labelfiles[0], 'Type', skip=3)\n",
    "loader = DataLoader(train, batch_size=4)\n",
    "currgenes = train.columns"
   ]
  },
  {
   "cell_type": "code",
   "execution_count": 10,
   "id": "541c6dc4",
   "metadata": {},
   "outputs": [
    {
     "data": {
      "text/plain": [
       "19765"
      ]
     },
     "execution_count": 10,
     "metadata": {},
     "output_type": "execute_result"
    }
   ],
   "source": [
    "onedsample = train[0][0]\n",
    "len(onedsample)"
   ]
  },
  {
   "cell_type": "code",
   "execution_count": 11,
   "id": "8e00668b",
   "metadata": {},
   "outputs": [
    {
     "data": {
      "text/plain": [
       "tensor([0., 0., 0.,  ..., 0., 0., 0.])"
      ]
     },
     "execution_count": 11,
     "metadata": {},
     "output_type": "execute_result"
    }
   ],
   "source": [
    "t = (clean_sample(onedsample, refgenes, currgenes))\n",
    "t"
   ]
  },
  {
   "cell_type": "code",
   "execution_count": 12,
   "id": "09ea2c27",
   "metadata": {},
   "outputs": [
    {
     "data": {
      "text/plain": [
       "16604"
      ]
     },
     "execution_count": 12,
     "metadata": {},
     "output_type": "execute_result"
    }
   ],
   "source": [
    "len(t)"
   ]
  },
  {
   "cell_type": "code",
   "execution_count": 13,
   "id": "23097229",
   "metadata": {},
   "outputs": [
    {
     "data": {
      "text/plain": [
       "torch.Size([4, 19765])"
      ]
     },
     "execution_count": 13,
     "metadata": {},
     "output_type": "execute_result"
    }
   ],
   "source": [
    "twodsample = next(iter(loader))[0]\n",
    "twodsample.shape"
   ]
  },
  {
   "cell_type": "code",
   "execution_count": 14,
   "id": "5345a512",
   "metadata": {},
   "outputs": [],
   "source": [
    "# %%timeit\n",
    "\n",
    "sample = clean_sample(twodsample, refgenes, currgenes)"
   ]
  },
  {
   "cell_type": "code",
   "execution_count": 15,
   "id": "33f9cc93",
   "metadata": {
    "scrolled": true
   },
   "outputs": [
    {
     "data": {
      "text/plain": [
       "16604"
      ]
     },
     "execution_count": 15,
     "metadata": {},
     "output_type": "execute_result"
    }
   ],
   "source": [
    "len(sample[0])"
   ]
  },
  {
   "cell_type": "code",
   "execution_count": 16,
   "id": "ab88a2c3",
   "metadata": {
    "scrolled": true
   },
   "outputs": [],
   "source": [
    "# for X, y in tqdm(loader):\n",
    "#     X = clean_sample(X, refgenes, currgenes)"
   ]
  },
  {
   "cell_type": "code",
   "execution_count": 17,
   "id": "0a69eda4",
   "metadata": {},
   "outputs": [
    {
     "data": {
      "text/plain": [
       "2"
      ]
     },
     "execution_count": 17,
     "metadata": {},
     "output_type": "execute_result"
    }
   ],
   "source": [
    "sample.ndim"
   ]
  },
  {
   "cell_type": "code",
   "execution_count": 18,
   "id": "263e2681",
   "metadata": {},
   "outputs": [],
   "source": [
    "temp = pd.read_csv(datafiles[0], nrows=1, header=1).columns "
   ]
  },
  {
   "cell_type": "code",
   "execution_count": 19,
   "id": "015779ad",
   "metadata": {},
   "outputs": [],
   "source": [
    "# cols = []\n",
    "# for file in datafiles:\n",
    "#     # Read in columns, split by | (since some are PVALB|PVALB), and make sure all are uppercase\n",
    "#     temp = pd.read_csv(file, nrows=1, header=1).columns \n",
    "#     temp = [x.split('|')[0].upper().strip() for x in temp]\n",
    "    \n",
    "#     print(f'Temp is {temp[0:5]}...')\n",
    "#     cols.append(set(temp))\n",
    "\n",
    "# unique = list(set.intersection(*cols))\n",
    "# unique = sorted(unique)"
   ]
  },
  {
   "cell_type": "code",
   "execution_count": 20,
   "id": "8e128002",
   "metadata": {},
   "outputs": [],
   "source": [
    "# len(unique)"
   ]
  },
  {
   "cell_type": "code",
   "execution_count": 21,
   "id": "0fbb29f6",
   "metadata": {},
   "outputs": [],
   "source": [
    "# temp = pd.read_csv(datafiles[0], nrows=1, header=1).columns \n",
    "# temp = [x.strip().upper() for x in temp]\n",
    "# l = train.features"
   ]
  },
  {
   "cell_type": "code",
   "execution_count": 22,
   "id": "f3c3d472",
   "metadata": {},
   "outputs": [],
   "source": [
    "# l == temp"
   ]
  },
  {
   "cell_type": "code",
   "execution_count": 23,
   "id": "87674c39",
   "metadata": {},
   "outputs": [],
   "source": [
    "# len(set(unique).intersection(l))"
   ]
  },
  {
   "cell_type": "code",
   "execution_count": 24,
   "id": "24e0ee10",
   "metadata": {},
   "outputs": [],
   "source": [
    "# len(set(unique))"
   ]
  },
  {
   "cell_type": "code",
   "execution_count": 25,
   "id": "5dba3eb0",
   "metadata": {},
   "outputs": [],
   "source": [
    "# len(set(unique).intersection([x.upper().strip() for x in l]))"
   ]
  },
  {
   "cell_type": "code",
   "execution_count": null,
   "id": "15cc02b0",
   "metadata": {},
   "outputs": [],
   "source": []
  },
  {
   "cell_type": "code",
   "execution_count": 26,
   "id": "041a9afe",
   "metadata": {},
   "outputs": [
    {
     "name": "stdout",
     "output_type": "stream",
     "text": [
      "Model initialized. N_features = 19765, N_labels = 9. Metrics are {'accuracy': <function accuracy at 0x7fe6432a2f70>, 'precision': <function precision at 0x7fe6432c65e0>, 'recall': <function recall at 0x7fe6432c6700>} and weighted_metrics = False\n"
     ]
    }
   ],
   "source": [
    "train = GeneExpressionData(datafiles[0], labelfiles[0], 'Type', skip=3)\n",
    "loader = DataLoader(train, batch_size=4)\n",
    "\n",
    "model = GeneClassifier(\n",
    "    N_features=len(train.columns),\n",
    "    N_labels=len(train.labels)\n",
    ")"
   ]
  },
  {
   "cell_type": "code",
   "execution_count": 27,
   "id": "842f0356",
   "metadata": {
    "scrolled": true
   },
   "outputs": [
    {
     "data": {
      "text/plain": [
       "tensor([[2.8467, 0.0000, 0.0000,  ..., 0.0000, 0.0000, 0.0000],\n",
       "        [0.0000, 0.0000, 0.0000,  ..., 0.0000, 0.0000, 0.0000],\n",
       "        [0.0000, 1.8507, 0.0000,  ..., 0.0000, 0.0000, 0.0000],\n",
       "        [1.6067, 0.0000, 0.0000,  ..., 0.0000, 0.0000, 0.0000]])"
      ]
     },
     "execution_count": 27,
     "metadata": {},
     "output_type": "execute_result"
    }
   ],
   "source": [
    "sample = next(iter(loader))[0]\n",
    "sample"
   ]
  },
  {
   "cell_type": "code",
   "execution_count": 28,
   "id": "338da83c",
   "metadata": {},
   "outputs": [],
   "source": [
    "# %%timeit\n",
    "\n",
    "# model(sample)"
   ]
  },
  {
   "cell_type": "markdown",
   "id": "ab419a27",
   "metadata": {},
   "source": [
    "Now let's time iterating over our dataloader with and without the extra data cleaning"
   ]
  },
  {
   "cell_type": "code",
   "execution_count": 29,
   "id": "ea73cfb3",
   "metadata": {
    "scrolled": true
   },
   "outputs": [],
   "source": [
    "# for X, y in tqdm(loader):\n",
    "#     X\n",
    "#     model(X)"
   ]
  },
  {
   "cell_type": "code",
   "execution_count": 30,
   "id": "7dacaa60",
   "metadata": {
    "scrolled": true
   },
   "outputs": [
    {
     "name": "stdout",
     "output_type": "stream",
     "text": [
      "Model initialized. N_features = 16604, N_labels = 9. Metrics are {'accuracy': <function accuracy at 0x7fe6432a2f70>, 'precision': <function precision at 0x7fe6432c65e0>, 'recall': <function recall at 0x7fe6432c6700>} and weighted_metrics = False\n"
     ]
    }
   ],
   "source": [
    "train = GeneExpressionData(datafiles[0], labelfiles[0], 'Type', skip=3)\n",
    "loader = DataLoader(train, batch_size=4)\n",
    "\n",
    "model = GeneClassifier(\n",
    "    N_features=len(refgenes),\n",
    "    N_labels=len(train.labels)\n",
    ")\n",
    "\n",
    "# for X, y in tqdm(loader):\n",
    "#     X = clean_sample(X, refgenes, train.columns)\n",
    "#     model(X)"
   ]
  },
  {
   "cell_type": "code",
   "execution_count": 31,
   "id": "a0a9595c",
   "metadata": {},
   "outputs": [],
   "source": [
    "df1_data = GeneExpressionData(datafiles[0], labelfiles[0], 'Type', skip=3)\n",
    "df2_data = GeneExpressionData(datafiles[1], labelfiles[1], 'Type', skip=3)\n",
    "df3_data = GeneExpressionData(datafiles[2], labelfiles[2], 'Type', skip=3)\n",
    "df4_data = GeneExpressionData(datafiles[3], labelfiles[3], 'Type', skip=3)"
   ]
  },
  {
   "cell_type": "code",
   "execution_count": 32,
   "id": "9967b451",
   "metadata": {},
   "outputs": [
    {
     "data": {
      "text/plain": [
       "(tensor([0., 0., 0.,  ..., 0., 0., 0.]), 7)"
      ]
     },
     "execution_count": 32,
     "metadata": {},
     "output_type": "execute_result"
    }
   ],
   "source": [
    "df3_data[0]"
   ]
  },
  {
   "cell_type": "code",
   "execution_count": 33,
   "id": "6956269d",
   "metadata": {},
   "outputs": [
    {
     "data": {
      "text/plain": [
       "(tensor([0., 0., 0.,  ..., 0., 0., 0.]), 16)"
      ]
     },
     "execution_count": 33,
     "metadata": {},
     "output_type": "execute_result"
    }
   ],
   "source": [
    "df4_data[0]"
   ]
  },
  {
   "cell_type": "code",
   "execution_count": 34,
   "id": "8c9f4b4f",
   "metadata": {
    "scrolled": false
   },
   "outputs": [],
   "source": [
    "from src.models.lib.data import _generate_stratified_dataset\n",
    "\n",
    "train, test = _generate_stratified_dataset(\n",
    "        dataset_files=datafiles,\n",
    "        label_files=labelfiles,\n",
    "        class_label='Type',\n",
    "    )\n"
   ]
  },
  {
   "cell_type": "code",
   "execution_count": 35,
   "id": "b6d626a1",
   "metadata": {},
   "outputs": [],
   "source": [
    "# train[0]"
   ]
  },
  {
   "cell_type": "markdown",
   "id": "7abbb868",
   "metadata": {},
   "source": [
    "We can see that it's much faster to clean the sample on each minibatch, since numpy clearly scales well under-the-hood. Therefore, we'll have to write a manual training loop as we can no longer use pytorch lightning."
   ]
  },
  {
   "cell_type": "code",
   "execution_count": 36,
   "id": "f34758e2",
   "metadata": {},
   "outputs": [],
   "source": [
    "from pytorch_lightning import Trainer\n",
    "\n",
    "# train = GeneExpressionData(datafiles[0], labelfiles[0], 'Type', skip=3)\n",
    "# loader = DataLoader(train, batch_size=4)\n",
    "\n",
    "# model = GeneClassifier(\n",
    "#     N_features=len(train.columns),\n",
    "#     load\n",
    "# )"
   ]
  },
  {
   "cell_type": "code",
   "execution_count": 37,
   "id": "54c69044",
   "metadata": {},
   "outputs": [],
   "source": [
    "combined, test, insize, numlabels, weights = generate_datasets(datafiles, labelfiles, 'Type', skip=3)\n",
    "# numlabels"
   ]
  },
  {
   "cell_type": "code",
   "execution_count": 38,
   "id": "8e1dd22b",
   "metadata": {},
   "outputs": [
    {
     "name": "stdout",
     "output_type": "stream",
     "text": [
      "Model initialized. N_features = 19765, N_labels = 17. Metrics are {'accuracy': <function accuracy at 0x7fe6432a2f70>, 'precision': <function precision at 0x7fe6432c65e0>, 'recall': <function recall at 0x7fe6432c6700>} and weighted_metrics = False\n"
     ]
    }
   ],
   "source": [
    "train = GeneExpressionData(datafiles[0], labelfiles[0], 'Type', skip=3)\n",
    "trainloader = DataLoader(train, batch_size=4)\n",
    "\n",
    "net = GeneClassifier(\n",
    "    N_features=len(train.columns),\n",
    "    N_labels=max(train.labels)\n",
    ")"
   ]
  },
  {
   "cell_type": "code",
   "execution_count": 39,
   "id": "2aec7ee9",
   "metadata": {},
   "outputs": [],
   "source": [
    "loaders = []\n",
    "refgenes = gene_intersection()"
   ]
  },
  {
   "cell_type": "code",
   "execution_count": 40,
   "id": "27bbbb04",
   "metadata": {},
   "outputs": [],
   "source": [
    "for datafile, labelfile in zip(datafiles, labelfiles):\n",
    "    data = GeneExpressionData(\n",
    "            datafile,\n",
    "            labelfile,\n",
    "            'Type',\n",
    "            cast=False,\n",
    "    )\n",
    "    \n",
    "#     print(data[0][0][0:5])\n",
    "    loaders.append(data)"
   ]
  },
  {
   "cell_type": "code",
   "execution_count": 41,
   "id": "a0cccb93",
   "metadata": {},
   "outputs": [],
   "source": [
    "# for data in loaders:\n",
    "#     print(data.name)\n",
    "#     print(data[0][0][0:5])"
   ]
  },
  {
   "cell_type": "code",
   "execution_count": 42,
   "id": "a40988a5",
   "metadata": {},
   "outputs": [],
   "source": [
    "loaders = [DataLoader(data, batch_size=4) for data in loaders]"
   ]
  },
  {
   "cell_type": "code",
   "execution_count": 43,
   "id": "d98b3a6f",
   "metadata": {},
   "outputs": [],
   "source": [
    "# df1 = pd.read_csv(datafiles[0], nrows=75, header=1)\n",
    "# df2 = pd.read_csv(datafiles[1], nrows=75, header=1)\n",
    "# df3 = pd.read_csv(datafiles[2], nrows=75, header=1)\n",
    "# df4 = pd.read_csv(datafiles[3], nrows=75, header=1)\n",
    "\n",
    "# df1_labels = pd.read_csv(labelfiles[0])\n",
    "# df2_labels = pd.read_csv(labelfiles[1])\n",
    "# df3_labels = pd.read_csv(labelfiles[2])\n",
    "# df4_labels = pd.read_csv(labelfiles[3])"
   ]
  },
  {
   "cell_type": "code",
   "execution_count": 44,
   "id": "f0bd59a4",
   "metadata": {
    "scrolled": true
   },
   "outputs": [],
   "source": [
    "# df1_labels.loc[186471, 'cell']"
   ]
  },
  {
   "cell_type": "code",
   "execution_count": 45,
   "id": "08bc8f69",
   "metadata": {},
   "outputs": [],
   "source": [
    "# df1_labels['Type'].value_counts()"
   ]
  },
  {
   "cell_type": "code",
   "execution_count": 46,
   "id": "4c4d43f6",
   "metadata": {
    "scrolled": true
   },
   "outputs": [],
   "source": [
    "# df3"
   ]
  },
  {
   "cell_type": "code",
   "execution_count": 47,
   "id": "f48f71ee",
   "metadata": {
    "scrolled": true
   },
   "outputs": [],
   "source": [
    "# df4"
   ]
  },
  {
   "cell_type": "code",
   "execution_count": 48,
   "id": "caa7d39b",
   "metadata": {},
   "outputs": [],
   "source": [
    "df1_data = GeneExpressionData(datafiles[0], labelfiles[0], 'Type', skip=3)\n",
    "df2_data = GeneExpressionData(datafiles[1], labelfiles[1], 'Type', skip=3)\n",
    "df3_data = GeneExpressionData(datafiles[2], labelfiles[2], 'Type', skip=3)\n",
    "df4_data = GeneExpressionData(datafiles[3], labelfiles[3], 'Type', skip=3)"
   ]
  },
  {
   "cell_type": "code",
   "execution_count": 49,
   "id": "c235986c",
   "metadata": {},
   "outputs": [],
   "source": [
    "datasets = [df1_data, df2_data, df3_data, df4_data]"
   ]
  },
  {
   "cell_type": "code",
   "execution_count": 50,
   "id": "91991281",
   "metadata": {},
   "outputs": [
    {
     "name": "stdout",
     "output_type": "stream",
     "text": [
      "['FO538757.2', 'AP006222.2', 'RP11-206L10.9', 'FAM41C', 'NOC2L', 'AGRN', 'C1ORF159', 'ACAP3', 'CPSF3L', 'AURKAIP1']\n",
      "['3.8-1.2', '3.8-1.3', '3.8-1.4', '3.8-1.5', '5-HT3C2', 'A1BG', 'A1BG-AS1', 'A1CF', 'A2M', 'A2M-AS1']\n",
      "['DDX11L1', 'WASH7P', 'MIR6859-1', 'MIR1302-2', 'FAM138A', 'LOC105379212', 'OR4G4P', 'OR4G11P', 'OR4F5', 'LOC105379213']\n",
      "['RP11-34P13.7', 'FO538757.2', 'AP006222.2', 'RP4-669L17.10', 'RP11-206L10.9', 'LINC00115', 'FAM41C', 'RP11-54O7.16', 'RP11-54O7.1', 'RP11-54O7.2']\n"
     ]
    }
   ],
   "source": [
    "for dataset in datasets:\n",
    "    print(dataset.columns[0:10])"
   ]
  },
  {
   "cell_type": "code",
   "execution_count": 51,
   "id": "b302b98b",
   "metadata": {},
   "outputs": [
    {
     "data": {
      "text/plain": [
       "50281"
      ]
     },
     "execution_count": 51,
     "metadata": {},
     "output_type": "execute_result"
    }
   ],
   "source": [
    "df2_data = GeneExpressionData(datafiles[1], labelfiles[1], 'Type', skip=2)\n",
    "len(df2_data[0][0])"
   ]
  },
  {
   "cell_type": "code",
   "execution_count": 52,
   "id": "b8d00b08",
   "metadata": {},
   "outputs": [
    {
     "data": {
      "text/plain": [
       "(tensor([0., 0., 0.,  ..., 0., 0., 0.]), 7)"
      ]
     },
     "execution_count": 52,
     "metadata": {},
     "output_type": "execute_result"
    }
   ],
   "source": [
    "df2_data[0]"
   ]
  },
  {
   "cell_type": "markdown",
   "id": "640bba39",
   "metadata": {},
   "source": [
    "The falses makes sense since the indices arent being changed when we're reading in the pure dataframes"
   ]
  },
  {
   "cell_type": "code",
   "execution_count": null,
   "id": "d1f8830d",
   "metadata": {
    "scrolled": true
   },
   "outputs": [],
   "source": [
    "# k1 = df2_data[0][0]\n",
    "# k1"
   ]
  },
  {
   "cell_type": "code",
   "execution_count": null,
   "id": "c715ec7c",
   "metadata": {
    "scrolled": true
   },
   "outputs": [],
   "source": [
    "# np.linalg.norm(df2.iloc[1, :] - k1.numpy())"
   ]
  },
  {
   "cell_type": "code",
   "execution_count": null,
   "id": "03956345",
   "metadata": {},
   "outputs": [],
   "source": [
    "# df2_labels"
   ]
  },
  {
   "cell_type": "code",
   "execution_count": null,
   "id": "7662f15a",
   "metadata": {},
   "outputs": [],
   "source": [
    "# df2_labels_raw = pd.read_csv('../data/interim/labels/allen_cortex_labels.csv')\n",
    "# df2_labels_raw"
   ]
  },
  {
   "cell_type": "code",
   "execution_count": null,
   "id": "4dcb585f",
   "metadata": {},
   "outputs": [],
   "source": [
    "# df2_data[0]"
   ]
  },
  {
   "cell_type": "code",
   "execution_count": null,
   "id": "bc13a5c7",
   "metadata": {},
   "outputs": [],
   "source": [
    "# df2_labels.head(10)"
   ]
  },
  {
   "cell_type": "code",
   "execution_count": null,
   "id": "fb6b941e",
   "metadata": {},
   "outputs": [],
   "source": [
    "# all(np.isclose(df2.loc[0, :], df2_data[0][0]))"
   ]
  },
  {
   "cell_type": "code",
   "execution_count": null,
   "id": "1e15153a",
   "metadata": {},
   "outputs": [],
   "source": [
    "# df2_data = GeneExpressionData(datafiles[1], labelfiles[1], 'Type', skip=3)\n",
    "# all(np.isclose(df2.loc[1, :], df2_data[0][0]))"
   ]
  },
  {
   "cell_type": "code",
   "execution_count": null,
   "id": "0120a2b6",
   "metadata": {},
   "outputs": [],
   "source": [
    "# df2_data[0]"
   ]
  },
  {
   "cell_type": "code",
   "execution_count": null,
   "id": "3dfb9474",
   "metadata": {},
   "outputs": [],
   "source": []
  },
  {
   "cell_type": "code",
   "execution_count": null,
   "id": "7e64f0ad",
   "metadata": {},
   "outputs": [],
   "source": [
    "# df4_labels.head(10)"
   ]
  },
  {
   "cell_type": "code",
   "execution_count": null,
   "id": "70150717",
   "metadata": {},
   "outputs": [],
   "source": [
    "# df4_labels.loc[5, 'cell']"
   ]
  },
  {
   "cell_type": "code",
   "execution_count": null,
   "id": "d1331c90",
   "metadata": {},
   "outputs": [],
   "source": [
    "# df4_data[5]"
   ]
  },
  {
   "cell_type": "code",
   "execution_count": null,
   "id": "fbfd1fda",
   "metadata": {},
   "outputs": [],
   "source": [
    "# np.linalg.norm(df4.loc[7, :].values - df4_data[5][0].numpy())"
   ]
  },
  {
   "cell_type": "markdown",
   "id": "72255ed4",
   "metadata": {},
   "source": [
    "Ok, so this issue of non-matching just seems to be with the second dataset, which also requires a different skip number and seems to have some weird behavior. Investigate this one more, which is `allen_cortex_T.csv`."
   ]
  },
  {
   "cell_type": "code",
   "execution_count": null,
   "id": "146d7390",
   "metadata": {
    "scrolled": true
   },
   "outputs": [],
   "source": [
    "# for i in range(50):\n",
    "#     k = df1.loc[df1_labels.loc[i, 'cell']]\n",
    "#     s = df1_data[i][0]\n",
    "    \n",
    "#     print(all(np.isclose(k, s)))"
   ]
  },
  {
   "cell_type": "code",
   "execution_count": null,
   "id": "8f7d02a4",
   "metadata": {
    "scrolled": true
   },
   "outputs": [],
   "source": [
    "# for i in range(50):\n",
    "#     k = df2.loc[df2_labels.loc[i, 'cell']]\n",
    "#     s = df2_data[i][0]\n",
    "    \n",
    "#     print(all(np.isclose(k, s)))"
   ]
  },
  {
   "cell_type": "code",
   "execution_count": null,
   "id": "d841109e",
   "metadata": {},
   "outputs": [],
   "source": [
    "# df2_data = GeneExpressionData(datafiles[1], labelfiles[1], 'Type', skip=3)\n",
    "# df2_data[0]"
   ]
  },
  {
   "cell_type": "code",
   "execution_count": null,
   "id": "1a48921e",
   "metadata": {},
   "outputs": [],
   "source": [
    "# df2_data[1]"
   ]
  },
  {
   "cell_type": "code",
   "execution_count": null,
   "id": "596ec447",
   "metadata": {
    "scrolled": true
   },
   "outputs": [],
   "source": [
    "# for i in range(50):\n",
    "#     k = df2.loc[df2_labels.loc[i, 'cell']]\n",
    "#     s = df2_data[i][0]\n",
    "    \n",
    "#     print(all(np.isclose(k, s)))"
   ]
  },
  {
   "cell_type": "code",
   "execution_count": null,
   "id": "5784700b",
   "metadata": {
    "scrolled": true
   },
   "outputs": [],
   "source": [
    "# for i in range(50):\n",
    "#     k = df3.loc[df3_labels.loc[i, 'cell']]\n",
    "#     s = df3_data[i][0]\n",
    "    \n",
    "#     print(all(np.isclose(k, s)))"
   ]
  },
  {
   "cell_type": "code",
   "execution_count": null,
   "id": "01af39bb",
   "metadata": {
    "scrolled": true
   },
   "outputs": [],
   "source": [
    "# for i in range(50):\n",
    "#     k = df4.loc[df4_labels.loc[i, 'cell']]\n",
    "#     s = df4_data[i][0]\n",
    "    \n",
    "#     print(all(np.isclose(k, s)))"
   ]
  },
  {
   "cell_type": "markdown",
   "id": "5eed7aef",
   "metadata": {},
   "source": [
    "Now, let's write our training loop using all four datasets."
   ]
  },
  {
   "cell_type": "code",
   "execution_count": null,
   "id": "2b867a5d",
   "metadata": {},
   "outputs": [],
   "source": [
    "# loaders = [df1_data, df2_data, df3_data, df4_data]\n",
    "# loaders = [DataLoader(data, batch_size=2) for data in loaders]"
   ]
  },
  {
   "cell_type": "code",
   "execution_count": null,
   "id": "9dea7094",
   "metadata": {},
   "outputs": [],
   "source": [
    "# next(iter(loaders[0]))"
   ]
  },
  {
   "cell_type": "markdown",
   "id": "2aa69a80",
   "metadata": {},
   "source": [
    "Now, let's time the DataLoader vs the custom DataLoader from Pytorch Tabular found here: https://github.com/hcarlens/pytorch-tabular/blob/master/fast_tensor_data_loader.py"
   ]
  },
  {
   "cell_type": "code",
   "execution_count": 55,
   "id": "373d2639",
   "metadata": {},
   "outputs": [],
   "source": [
    "train = GeneExpressionData(datafiles[0], labelfiles[0], 'Type', skip=3)\n",
    "\n",
    "trainloader = DataLoader(train, batch_size=4)\n",
    "fastloader = FastTensorDataLoader(train, batch_size=4)\n",
    "\n",
    "train, val, test = generate_single_dataset(datafiles[0], labelfiles[0], 'Type', skip=3, index_col='cell', cast=True)"
   ]
  },
  {
   "cell_type": "code",
   "execution_count": 56,
   "id": "08bee364",
   "metadata": {},
   "outputs": [],
   "source": [
    "trainloaders, valloaders, testloaders = [], [], []"
   ]
  },
  {
   "cell_type": "code",
   "execution_count": 60,
   "id": "2bab495a",
   "metadata": {},
   "outputs": [],
   "source": [
    "def gen_loaders(batch_size, num_workers):\n",
    "    traindata = []\n",
    "    for datafile, labelfile in zip(datafiles, labelfiles):\n",
    "        train, val, test = generate_single_dataset(\n",
    "            datafile,\n",
    "            labelfile,\n",
    "            'Type', \n",
    "            skip=3, \n",
    "            index_col='cell', \n",
    "            cast=True\n",
    "        )\n",
    "\n",
    "        traindata.append(\n",
    "            GeneExpressionData(\n",
    "                datafile,\n",
    "                labelfile,\n",
    "                'Type',\n",
    "                skip=3,\n",
    "            )\n",
    "        )\n",
    "\n",
    "        trainloaders.append(\n",
    "            DataLoader(train, batch_size=batch_size, num_workers=num_workers)\n",
    "        )\n",
    "\n",
    "        valloaders.append(\n",
    "            DataLoader(val, batch_size=batch_size, num_workers=num_workers)\n",
    "        )\n",
    "\n",
    "        testloaders.append(\n",
    "            DataLoader(test, batch_size=batch_size, num_workers=num_workers)\n",
    "        )\n",
    "        \n",
    "        return trainloaders, valloaders, testloaders\n",
    "        \n",
    "trainloaders, valloaders, testloaders = gen_loaders(4, 0)"
   ]
  },
  {
   "cell_type": "code",
   "execution_count": 69,
   "id": "d1168801",
   "metadata": {},
   "outputs": [
    {
     "data": {
      "text/plain": [
       "['FO538757.2',\n",
       " 'AP006222.2',\n",
       " 'RP11-206L10.9',\n",
       " 'FAM41C',\n",
       " 'NOC2L',\n",
       " 'AGRN',\n",
       " 'C1ORF159',\n",
       " 'ACAP3',\n",
       " 'CPSF3L',\n",
       " 'AURKAIP1',\n",
       " 'CCNL2',\n",
       " 'MRPL20',\n",
       " 'SSU72',\n",
       " 'RP5-832C2.5',\n",
       " 'CDK11B',\n",
       " 'SLC35E2B',\n",
       " 'CDK11A',\n",
       " 'NADK',\n",
       " 'GNB1',\n",
       " 'PRKCZ',\n",
       " 'FAAP20',\n",
       " 'SKI',\n",
       " 'RER1',\n",
       " 'FAM213B',\n",
       " 'PRDM16',\n",
       " 'WRAP73',\n",
       " 'TP73-AS1',\n",
       " 'LRRC47',\n",
       " 'DFFB',\n",
       " 'C1ORF174',\n",
       " 'CHD5',\n",
       " 'RPL22',\n",
       " 'GPR153',\n",
       " 'ACOT7',\n",
       " 'NOL9',\n",
       " 'ZBTB48',\n",
       " 'THAP3',\n",
       " 'DNAJC11',\n",
       " 'CAMTA1',\n",
       " 'VAMP3',\n",
       " 'PARK7',\n",
       " 'SLC45A1',\n",
       " 'RERE',\n",
       " 'ENO1',\n",
       " 'CLSTN1',\n",
       " 'CTNNBIP1',\n",
       " 'LZIC',\n",
       " 'NMNAT1',\n",
       " 'UBE4B',\n",
       " 'KIF1B',\n",
       " 'PGD',\n",
       " 'APITD1-CORT',\n",
       " 'APITD1',\n",
       " 'DFFA',\n",
       " 'PEX14',\n",
       " 'TARDBP',\n",
       " 'RP4-635E18.8',\n",
       " 'SRM',\n",
       " 'EXOSC10',\n",
       " 'MTOR',\n",
       " 'UBIAD1',\n",
       " 'PTCHD2',\n",
       " 'FBXO44',\n",
       " 'MAD2L2',\n",
       " 'DRAXIN',\n",
       " 'AGTRAP',\n",
       " 'MTHFR',\n",
       " 'CLCN6',\n",
       " 'KIAA2013',\n",
       " 'MFN2',\n",
       " 'MIIP',\n",
       " 'VPS13D',\n",
       " 'PDPN',\n",
       " 'PRDM2',\n",
       " 'KAZN',\n",
       " 'DNAJC16',\n",
       " 'DDI2',\n",
       " 'PLEKHM2',\n",
       " 'FBLIM1',\n",
       " 'UQCRHL',\n",
       " 'FLJ37453',\n",
       " 'SPEN',\n",
       " 'ZBTB17',\n",
       " 'FBXO42',\n",
       " 'SZRD1',\n",
       " 'NECAP2',\n",
       " 'RP4-798A10.7',\n",
       " 'NBPF1',\n",
       " 'RP11-108M9.4',\n",
       " 'RP11-108M9.6',\n",
       " 'MFAP2',\n",
       " 'ATP13A2',\n",
       " 'SDHB',\n",
       " 'RCC2',\n",
       " 'ARHGEF10L',\n",
       " 'IGSF21',\n",
       " 'UBR4',\n",
       " 'EMC1',\n",
       " 'MRTO4',\n",
       " 'PQLC2',\n",
       " 'CAPZB',\n",
       " 'MINOS1',\n",
       " 'CAMK2N1',\n",
       " 'MUL1',\n",
       " 'PINK1',\n",
       " 'DDOST',\n",
       " 'HP1BP3',\n",
       " 'EIF4G3',\n",
       " 'RAP1GAP',\n",
       " 'USP48',\n",
       " 'CDC42',\n",
       " 'EPHB2',\n",
       " 'KDM1A',\n",
       " 'LUZP1',\n",
       " 'HNRNPR',\n",
       " 'ZNF436',\n",
       " 'ZNF436-AS1',\n",
       " 'RPL11',\n",
       " 'TCEB3',\n",
       " 'TCEB3-AS1',\n",
       " 'PITHD1',\n",
       " 'LYPLA2',\n",
       " 'GALE',\n",
       " 'HMGCL',\n",
       " 'FUCA1',\n",
       " 'PNRC2',\n",
       " 'SRSF10',\n",
       " 'SRRM1',\n",
       " 'CLIC4',\n",
       " 'SYF2',\n",
       " 'RSRP1',\n",
       " 'TMEM50A',\n",
       " 'TMEM57',\n",
       " 'SEPN1',\n",
       " 'MTFR1L',\n",
       " 'PAQR7',\n",
       " 'STMN1',\n",
       " 'PDIK1L',\n",
       " 'ZNF593',\n",
       " 'SH3BGRL3',\n",
       " 'UBXN11',\n",
       " 'DHDDS',\n",
       " 'HMGN2',\n",
       " 'ARID1A',\n",
       " 'ZDHHC18',\n",
       " 'GPATCH3',\n",
       " 'NUDC',\n",
       " 'WDTC1',\n",
       " 'TMEM222',\n",
       " 'WASF2',\n",
       " 'AHDC1',\n",
       " 'IFI6',\n",
       " 'FAM76A',\n",
       " 'STX12',\n",
       " 'PPP1R8',\n",
       " 'RPA2',\n",
       " 'EYA3',\n",
       " 'DNAJC8',\n",
       " 'ATPIF1',\n",
       " 'PHACTR4',\n",
       " 'RCC1',\n",
       " 'TRNAU1AP',\n",
       " 'SNHG12',\n",
       " 'TAF12',\n",
       " 'GMEB1',\n",
       " 'YTHDF2',\n",
       " 'EPB41',\n",
       " 'SRSF4',\n",
       " 'MECR',\n",
       " 'SDC3',\n",
       " 'PUM1',\n",
       " 'NKAIN1',\n",
       " 'SNRNP40',\n",
       " 'ZCCHC17',\n",
       " 'FABP3',\n",
       " 'SERINC2',\n",
       " 'PEF1',\n",
       " 'COL16A1',\n",
       " 'ADGRB2',\n",
       " 'PTP4A2',\n",
       " 'KHDRBS1',\n",
       " 'TMEM39B',\n",
       " 'KPNA6',\n",
       " 'TXLNA',\n",
       " 'CCDC28B',\n",
       " 'IQCC',\n",
       " 'TMEM234',\n",
       " 'EIF3I',\n",
       " 'HDAC1',\n",
       " 'MARCKSL1',\n",
       " 'BSDC1',\n",
       " 'ZBTB8A',\n",
       " 'ZBTB8OS',\n",
       " 'RBBP4',\n",
       " 'SYNC',\n",
       " 'KIAA1522',\n",
       " 'YARS',\n",
       " 'S100PBP',\n",
       " 'HPCA',\n",
       " 'AK2',\n",
       " 'AZIN2',\n",
       " 'ZNF362',\n",
       " 'PHC2',\n",
       " 'CSMD2',\n",
       " 'SMIM12',\n",
       " 'ZMYM1',\n",
       " 'SFPQ',\n",
       " 'ZMYM4',\n",
       " 'KIAA0319L',\n",
       " 'NCDN',\n",
       " 'PSMB2',\n",
       " 'C1ORF216',\n",
       " 'CLSPN',\n",
       " 'AGO4',\n",
       " 'AGO1',\n",
       " 'AGO3',\n",
       " 'TEKT2',\n",
       " 'ADPRHL2',\n",
       " 'TRAPPC3',\n",
       " 'MAP7D1',\n",
       " 'THRAP3',\n",
       " 'LSM10',\n",
       " 'OSCP1',\n",
       " 'MRPS15',\n",
       " 'GRIK3',\n",
       " 'MEAF6',\n",
       " 'DNALI1',\n",
       " 'GNL2',\n",
       " 'C1ORF109',\n",
       " 'CDCA8',\n",
       " 'C1ORF122',\n",
       " 'MTF1',\n",
       " 'SF3A3',\n",
       " 'UTP11L',\n",
       " 'POU3F1',\n",
       " 'RRAGC',\n",
       " 'MYCBP',\n",
       " 'AKIRIN1',\n",
       " 'NDUFS5',\n",
       " 'MACF1',\n",
       " 'RP11-69E11.4',\n",
       " 'PABPC4',\n",
       " 'PPIE',\n",
       " 'TRIT1',\n",
       " 'MFSD2A',\n",
       " 'CAP1',\n",
       " 'PPT1',\n",
       " 'RLF',\n",
       " 'RP1-39G22.7',\n",
       " 'ZMPSTE24',\n",
       " 'COL9A2',\n",
       " 'EXO5',\n",
       " 'NFYC',\n",
       " 'CTPS1',\n",
       " 'SCMH1',\n",
       " 'HIVEP3',\n",
       " 'FOXJ3',\n",
       " 'PPCS',\n",
       " 'PPIH',\n",
       " 'YBX1',\n",
       " 'C1ORF50',\n",
       " 'SVBP',\n",
       " 'ZNF691',\n",
       " 'SLC2A1',\n",
       " 'EBNA1BP2',\n",
       " 'CDC20',\n",
       " 'ELOVL1',\n",
       " 'MED8',\n",
       " 'PTPRF',\n",
       " 'KDM4A',\n",
       " 'IPO13',\n",
       " 'DPH2',\n",
       " 'ATP6V0B',\n",
       " 'B4GALT2',\n",
       " 'CCDC24',\n",
       " 'DMAP1',\n",
       " 'ERI3',\n",
       " 'RNF220',\n",
       " 'TMEM53',\n",
       " 'KIF2C',\n",
       " 'RPS8',\n",
       " 'PLK3',\n",
       " 'PTCH2',\n",
       " 'EIF2B3',\n",
       " 'UROD',\n",
       " 'ZSWIM5',\n",
       " 'MUTYH',\n",
       " 'TOE1',\n",
       " 'PRDX1',\n",
       " 'AKR1A1',\n",
       " 'NASP',\n",
       " 'GPBP1L1',\n",
       " 'TMEM69',\n",
       " 'MAST2',\n",
       " 'PIK3R3',\n",
       " 'POMGNT1',\n",
       " 'RAD54L',\n",
       " 'LRRC41',\n",
       " 'UQCRH',\n",
       " 'MKNK1',\n",
       " 'ATPAF1',\n",
       " 'EFCAB14',\n",
       " 'CMPK1',\n",
       " 'BEND5',\n",
       " 'ELAVL4',\n",
       " 'FAF1',\n",
       " 'RNF11',\n",
       " 'EPS15',\n",
       " 'OSBPL9',\n",
       " 'NRDC',\n",
       " 'TXNDC12',\n",
       " 'KTI12',\n",
       " 'BTF3L4',\n",
       " 'PRPF38A',\n",
       " 'ZCCHC11',\n",
       " 'GPX7',\n",
       " 'COA7',\n",
       " 'ZYG11B',\n",
       " 'ECHDC2',\n",
       " 'SCP2',\n",
       " 'C1ORF123',\n",
       " 'MAGOH',\n",
       " 'LRP8',\n",
       " 'NDC1',\n",
       " 'YIPF1',\n",
       " 'HSPB11',\n",
       " 'LRRC42',\n",
       " 'TMEM59',\n",
       " 'MRPL37',\n",
       " 'SSBP3',\n",
       " 'DHCR24',\n",
       " 'PCSK9',\n",
       " 'USP24',\n",
       " 'PLPP3',\n",
       " 'PRKAA2',\n",
       " 'DAB1',\n",
       " 'RP6-102O10.1',\n",
       " 'OMA1',\n",
       " 'MYSM1',\n",
       " 'JUN',\n",
       " 'FGGY',\n",
       " 'RP11-436K8.1',\n",
       " 'NFIA',\n",
       " 'TM2D1',\n",
       " 'USP1',\n",
       " 'DOCK7',\n",
       " 'ATG4C',\n",
       " 'ALG6',\n",
       " 'ITGB3BP',\n",
       " 'EFCAB7',\n",
       " 'PGM1',\n",
       " 'JAK1',\n",
       " 'AK4',\n",
       " 'DNAJC6',\n",
       " 'LEPROT',\n",
       " 'PDE4B',\n",
       " 'SGIP1',\n",
       " 'MIER1',\n",
       " 'SLC35D1',\n",
       " 'SERBP1',\n",
       " 'GNG12',\n",
       " 'DEPDC1',\n",
       " 'LRRC7',\n",
       " 'LRRC40',\n",
       " 'SRSF11',\n",
       " 'ANKRD13C',\n",
       " 'HHLA3',\n",
       " 'CTH',\n",
       " 'ZRANB2',\n",
       " 'NEGR1',\n",
       " 'FPGT',\n",
       " 'CRYZ',\n",
       " 'TYW3',\n",
       " 'SLC44A5',\n",
       " 'ACADM',\n",
       " 'RABGGTB',\n",
       " 'ST6GALNAC3',\n",
       " 'PIGK',\n",
       " 'ZZZ3',\n",
       " 'USP33',\n",
       " 'FAM73A',\n",
       " 'FUBP1',\n",
       " 'DNAJB4',\n",
       " 'RP11-386I14.4',\n",
       " 'IFI44L',\n",
       " 'IFI44',\n",
       " 'ADGRL2',\n",
       " 'TTLL7',\n",
       " 'RP11-486G15.2',\n",
       " 'PRKACB',\n",
       " 'RPF1',\n",
       " 'GNG5',\n",
       " 'SSX2IP',\n",
       " 'C1ORF52',\n",
       " 'BCL10',\n",
       " 'DDAH1',\n",
       " 'CYR61',\n",
       " 'ZNHIT6',\n",
       " 'ODF2L',\n",
       " 'SH3GLB1',\n",
       " 'SEP15',\n",
       " 'HS2ST1',\n",
       " 'LMO4',\n",
       " 'PKN2',\n",
       " 'GTF2B',\n",
       " 'CCBL2',\n",
       " 'RBMXL1',\n",
       " 'LRRC8B',\n",
       " 'ZNF326',\n",
       " 'ZNF644',\n",
       " 'CDC7',\n",
       " 'KIAA1107',\n",
       " 'GLMN',\n",
       " 'RPAP2',\n",
       " 'EVI5',\n",
       " 'RPL5',\n",
       " 'MTF2',\n",
       " 'TMED5',\n",
       " 'CCDC18',\n",
       " 'DR1',\n",
       " 'FNBP1L',\n",
       " 'DNTTIP2',\n",
       " 'ABCD3',\n",
       " 'F3',\n",
       " 'CNN3',\n",
       " 'ALG14',\n",
       " 'RWDD3',\n",
       " 'RP11-286B14.1',\n",
       " 'PTBP2',\n",
       " 'SNX7',\n",
       " 'PLPPR5',\n",
       " 'PLPPR4',\n",
       " 'PALMD',\n",
       " 'AGL',\n",
       " 'SLC35A3',\n",
       " 'MFSD14A',\n",
       " 'SASS6',\n",
       " 'TRMT13',\n",
       " 'DBT',\n",
       " 'RTCA',\n",
       " 'VCAM1',\n",
       " 'EXTL2',\n",
       " 'SLC30A7',\n",
       " 'DPH5',\n",
       " 'RP11-421L21.3',\n",
       " 'S1PR1',\n",
       " 'OLFM3',\n",
       " 'COL11A1',\n",
       " 'RNPC3',\n",
       " 'PRMT6',\n",
       " 'SLC25A24',\n",
       " 'HENMT1',\n",
       " 'PRPF38B',\n",
       " 'STXBP3',\n",
       " 'GPSM2',\n",
       " 'CLCC1',\n",
       " 'WDR47',\n",
       " 'TAF13',\n",
       " 'RP5-1065J22.8',\n",
       " 'TMEM167B',\n",
       " 'C1ORF194',\n",
       " 'KIAA1324',\n",
       " 'SARS',\n",
       " 'CELSR2',\n",
       " 'PSRC1',\n",
       " 'SORT1',\n",
       " 'PSMA5',\n",
       " 'GNAI3',\n",
       " 'AMPD2',\n",
       " 'GSTM4',\n",
       " 'GSTM2',\n",
       " 'GSTM1',\n",
       " 'GSTM5',\n",
       " 'GSTM3',\n",
       " 'AHCYL1',\n",
       " 'STRIP1',\n",
       " 'RBM15',\n",
       " 'LAMTOR5',\n",
       " 'LRIF1',\n",
       " 'DRAM2',\n",
       " 'CEPT1',\n",
       " 'WDR77',\n",
       " 'ATP5F1',\n",
       " 'RAP1A',\n",
       " 'DDX20',\n",
       " 'CTTNBP2NL',\n",
       " 'WNT2B',\n",
       " 'ST7L',\n",
       " 'CAPZA1',\n",
       " 'RHOC',\n",
       " 'SLC16A1',\n",
       " 'SLC16A1-AS1',\n",
       " 'LRIG2',\n",
       " 'MAGI3',\n",
       " 'PHTF1',\n",
       " 'RSBN1',\n",
       " 'AP4B1',\n",
       " 'DCLRE1B',\n",
       " 'HIPK1',\n",
       " 'SYT6',\n",
       " 'TRIM33',\n",
       " 'BCAS2',\n",
       " 'NRAS',\n",
       " 'CSDE1',\n",
       " 'SIKE1',\n",
       " 'TSPAN2',\n",
       " 'ATP1A1',\n",
       " 'CD58',\n",
       " 'IGSF3',\n",
       " 'PTGFRN',\n",
       " 'MAN1A2',\n",
       " 'GDAP2',\n",
       " 'WDR3',\n",
       " 'WARS2',\n",
       " 'ZNF697',\n",
       " 'PHGDH',\n",
       " 'NOTCH2',\n",
       " 'SEC22B',\n",
       " 'SRGAP2C',\n",
       " 'RP11-14N7.2',\n",
       " 'NBPF15',\n",
       " 'SRGAP2B',\n",
       " 'CH17-373J23.1',\n",
       " 'GPR89A',\n",
       " 'RNF115',\n",
       " 'POLR3C',\n",
       " 'PIAS3',\n",
       " 'ANKRD35',\n",
       " 'PEX11B',\n",
       " 'RBM8A',\n",
       " 'LIX1L',\n",
       " 'POLR3GL',\n",
       " 'TXNIP',\n",
       " 'NBPF12',\n",
       " 'PRKAB2',\n",
       " 'CHD1L',\n",
       " 'BCL9',\n",
       " 'GPR89B',\n",
       " 'RP4-565E6.1',\n",
       " 'PDE4DIP',\n",
       " 'LINC00869',\n",
       " 'HIST2H2BE',\n",
       " 'HIST2H2AC',\n",
       " 'BOLA1',\n",
       " 'SV2A',\n",
       " 'SF3B4',\n",
       " 'OTUD7B',\n",
       " 'VPS45',\n",
       " 'PLEKHO1',\n",
       " 'ANP32E',\n",
       " 'APH1A',\n",
       " 'CIART',\n",
       " 'MRPS21',\n",
       " 'PRPF3',\n",
       " 'RPRD2',\n",
       " 'TARS2',\n",
       " 'FALEC',\n",
       " 'MCL1',\n",
       " 'ENSA',\n",
       " 'GOLPH3L',\n",
       " 'ARNT',\n",
       " 'SETDB1',\n",
       " 'CERS2',\n",
       " 'PRUNE',\n",
       " 'C1ORF56',\n",
       " 'CDC42SE1',\n",
       " 'MLLT11',\n",
       " 'GABPB2',\n",
       " 'SEMA6C',\n",
       " 'SCNM1',\n",
       " 'LYSMD1',\n",
       " 'VPS72',\n",
       " 'PIP5K1A',\n",
       " 'PSMD4',\n",
       " 'PI4KB',\n",
       " 'RFX5',\n",
       " 'RP11-126K1.6',\n",
       " 'SELENBP1',\n",
       " 'PSMB4',\n",
       " 'POGZ',\n",
       " 'SNX27',\n",
       " 'CELF3',\n",
       " 'RIIAD1',\n",
       " 'MRPL9',\n",
       " 'TDRKH',\n",
       " 'S100A11',\n",
       " 'S100A6',\n",
       " 'S100A16',\n",
       " 'S100A13',\n",
       " 'CHTOP',\n",
       " 'SNAPIN',\n",
       " 'ILF2',\n",
       " 'INTS3',\n",
       " 'GATAD2B',\n",
       " 'DENND4B',\n",
       " 'SLC39A1',\n",
       " 'CREB3L4',\n",
       " 'JTB',\n",
       " 'RAB13',\n",
       " 'RPS27',\n",
       " 'TPM3',\n",
       " 'C1ORF43',\n",
       " 'UBAP2L',\n",
       " 'HAX1',\n",
       " 'UBE2Q1',\n",
       " 'ADAR',\n",
       " 'KCNN3',\n",
       " 'PMVK',\n",
       " 'PBXIP1',\n",
       " 'CKS1B',\n",
       " 'FLAD1',\n",
       " 'SLC50A1',\n",
       " 'DPM3',\n",
       " 'KRTCAP2',\n",
       " 'TRIM46',\n",
       " 'MTX1',\n",
       " 'GBA',\n",
       " 'FAM189B',\n",
       " 'SCAMP3',\n",
       " 'HCN3',\n",
       " 'FDPS',\n",
       " 'RUSC1',\n",
       " 'ASH1L',\n",
       " 'MSTO1',\n",
       " 'YY1AP1',\n",
       " 'DAP3',\n",
       " 'GON4L',\n",
       " 'SYT11',\n",
       " 'RIT1',\n",
       " 'KIAA0907',\n",
       " 'ARHGEF2',\n",
       " 'SSR2',\n",
       " 'UBQLN4',\n",
       " 'LAMTOR2',\n",
       " 'MEX3A',\n",
       " 'LMNA',\n",
       " 'SEMA4A',\n",
       " 'SLC25A44',\n",
       " 'PMF1-BGLAP',\n",
       " 'PMF1',\n",
       " 'BGLAP',\n",
       " 'SMG5',\n",
       " 'GLMP',\n",
       " 'CCT3',\n",
       " 'C1ORF61',\n",
       " 'MEF2D',\n",
       " 'IQGAP3',\n",
       " 'APOA1BP',\n",
       " 'GPATCH4',\n",
       " 'BCAN',\n",
       " 'NES',\n",
       " 'ISG20L2',\n",
       " 'MRPL24',\n",
       " 'HDGF',\n",
       " 'PRCC',\n",
       " 'IFI16',\n",
       " 'CADM3',\n",
       " 'DUSP23',\n",
       " 'TAGLN2',\n",
       " 'IGSF9',\n",
       " 'PIGM',\n",
       " 'IGSF8',\n",
       " 'ATP1A2',\n",
       " 'PEA15',\n",
       " 'DCAF8',\n",
       " 'PEX19',\n",
       " 'COPA',\n",
       " 'NCSTN',\n",
       " 'VANGL2',\n",
       " 'TSTD1',\n",
       " 'KLHDC9',\n",
       " 'PFDN2',\n",
       " 'NIT1',\n",
       " 'DEDD',\n",
       " 'UFC1',\n",
       " 'USP21',\n",
       " 'PPOX',\n",
       " 'B4GALT3',\n",
       " 'NDUFS2',\n",
       " 'TOMM40L',\n",
       " 'SDHC',\n",
       " 'DUSP12',\n",
       " 'ATF6',\n",
       " 'UHMK1',\n",
       " 'UAP1',\n",
       " 'HSD17B7',\n",
       " 'NUF2',\n",
       " 'PBX1',\n",
       " 'MGST3',\n",
       " 'ALDH9A1',\n",
       " 'TMCO1',\n",
       " 'UCK2',\n",
       " 'POGK',\n",
       " 'TADA1',\n",
       " 'POU2F1',\n",
       " 'MPZL1',\n",
       " 'MPC2',\n",
       " 'DCAF6',\n",
       " 'GPR161',\n",
       " 'TIPRL',\n",
       " 'SFT2D2',\n",
       " 'ATP1B1',\n",
       " 'NME7',\n",
       " 'BLZF1',\n",
       " 'CCDC181',\n",
       " 'C1ORF112',\n",
       " 'METTL18',\n",
       " 'SCYL3',\n",
       " 'KIFAP3',\n",
       " 'GORAB',\n",
       " 'PRRC2C',\n",
       " 'VAMP4',\n",
       " 'METTL13',\n",
       " 'DNM3',\n",
       " 'PIGC',\n",
       " 'SUCO',\n",
       " 'PRDX6',\n",
       " 'ANKRD45',\n",
       " 'KLHL20',\n",
       " 'CENPL',\n",
       " 'ZBTB37',\n",
       " 'RC3H1',\n",
       " 'RABGAP1L',\n",
       " 'CACYBP',\n",
       " 'MRPS14',\n",
       " 'RFWD2',\n",
       " 'PAPPA2',\n",
       " 'ASTN1',\n",
       " 'RASAL2',\n",
       " 'RALGPS2',\n",
       " 'ANGPTL1',\n",
       " 'FAM20B',\n",
       " 'ABL2',\n",
       " 'SOAT1',\n",
       " 'TOR1AIP2',\n",
       " 'TOR1AIP1',\n",
       " 'CEP350',\n",
       " 'QSOX1',\n",
       " 'ACBD6',\n",
       " 'XPR1',\n",
       " 'STX6',\n",
       " 'IER5',\n",
       " 'CACNA1E',\n",
       " 'GLUL',\n",
       " 'RGS16',\n",
       " 'DHX9',\n",
       " 'NMNAT2',\n",
       " 'SMG7',\n",
       " 'ARPC5',\n",
       " 'RGL1',\n",
       " 'TSEN15',\n",
       " 'C1ORF21',\n",
       " 'EDEM3',\n",
       " 'RNF2',\n",
       " 'TRMT1L',\n",
       " 'SWT1',\n",
       " 'IVNS1ABP',\n",
       " 'TPR',\n",
       " 'C1ORF27',\n",
       " 'RGS2',\n",
       " 'UCHL5',\n",
       " 'TROVE2',\n",
       " 'GLRX2',\n",
       " 'CDC73',\n",
       " 'B3GALT2',\n",
       " 'ASPM',\n",
       " 'ZBTB41',\n",
       " 'CRB1',\n",
       " 'DENND1B',\n",
       " 'C1ORF53',\n",
       " 'MIR181A1HG',\n",
       " 'ZNF281',\n",
       " 'CAMSAP2',\n",
       " 'KIF21B',\n",
       " 'TMEM9',\n",
       " 'CSRP1',\n",
       " 'NAV1',\n",
       " 'IPO9',\n",
       " 'TIMM17A',\n",
       " 'ARL8A',\n",
       " 'UBE2T',\n",
       " 'PPP1R12B',\n",
       " 'KDM5B',\n",
       " 'PCAT6',\n",
       " 'RABIF',\n",
       " 'KLHL12',\n",
       " 'ADIPOR1',\n",
       " 'CYB5R1',\n",
       " 'TMEM183A',\n",
       " 'BTG2',\n",
       " 'ATP2B4',\n",
       " 'ZC3H11A',\n",
       " 'ZBED6',\n",
       " 'SNRPE',\n",
       " 'PPP1R15B',\n",
       " 'PIK3C2B',\n",
       " 'MDM4',\n",
       " 'NFASC',\n",
       " 'CNTN2',\n",
       " 'RBBP5',\n",
       " 'DSTYK',\n",
       " 'TMCC2',\n",
       " 'LEMD1',\n",
       " 'ELK4',\n",
       " 'NUCKS1',\n",
       " 'SRGAP2',\n",
       " 'EIF2D',\n",
       " 'YOD1',\n",
       " 'CD46',\n",
       " 'PLXNA2',\n",
       " 'DIEXF',\n",
       " 'SYT14',\n",
       " 'RCOR3',\n",
       " 'LINC00467',\n",
       " 'NEK2',\n",
       " 'LPGAT1',\n",
       " 'INTS7',\n",
       " 'DTL',\n",
       " 'TMEM206',\n",
       " 'NENF',\n",
       " 'NSL1',\n",
       " 'TATDN3',\n",
       " 'FLVCR1',\n",
       " 'VASH2',\n",
       " 'ANGEL2',\n",
       " 'RPS6KC1',\n",
       " 'CENPF',\n",
       " 'KCTD3',\n",
       " 'GPATCH2',\n",
       " 'RRP15',\n",
       " 'LYPLAL1',\n",
       " 'EPRS',\n",
       " 'BPNT1',\n",
       " 'IARS2',\n",
       " 'RAB3GAP2',\n",
       " 'MARK1',\n",
       " 'DUSP10',\n",
       " 'TAF1A',\n",
       " 'MIA3',\n",
       " 'AIDA',\n",
       " 'BROX',\n",
       " 'RP11-452F19.3',\n",
       " 'TP53BP2',\n",
       " 'FBXO28',\n",
       " 'DEGS1',\n",
       " 'NVL',\n",
       " 'CNIH4',\n",
       " 'WDR26',\n",
       " 'CNIH3',\n",
       " 'LBR',\n",
       " 'ENAH',\n",
       " 'SRP9',\n",
       " 'EPHX1',\n",
       " 'PYCR2',\n",
       " 'SDE2',\n",
       " 'H3F3A',\n",
       " 'ACBD3',\n",
       " 'LIN9',\n",
       " 'PARP1',\n",
       " 'C1ORF95',\n",
       " 'ADCK3',\n",
       " 'CDC42BPA',\n",
       " 'ZNF678',\n",
       " 'SNAP47',\n",
       " 'JMJD4',\n",
       " 'ARF1',\n",
       " 'C1ORF35',\n",
       " 'MRPL55',\n",
       " 'GUK1',\n",
       " 'OBSCN',\n",
       " 'HIST3H2A',\n",
       " 'RNF187',\n",
       " 'RAB4A',\n",
       " 'CCSAP',\n",
       " 'NUP133',\n",
       " 'GALNT2',\n",
       " 'PGBD5',\n",
       " 'COG2',\n",
       " 'C1ORF198',\n",
       " 'ARV1',\n",
       " 'C1ORF131',\n",
       " 'GNPAT',\n",
       " 'EXOC8',\n",
       " 'SPRTN',\n",
       " 'EGLN1',\n",
       " 'TSNAX',\n",
       " 'SIPA1L2',\n",
       " 'NTPCR',\n",
       " 'PCNXL2',\n",
       " 'COA6',\n",
       " 'TARBP1',\n",
       " 'IRF2BP2',\n",
       " 'TOMM20',\n",
       " 'RBM34',\n",
       " 'ARID4B',\n",
       " 'GGPS1',\n",
       " 'TBCE',\n",
       " 'GNG4',\n",
       " 'LYST',\n",
       " 'LGALS8',\n",
       " 'HEATR1',\n",
       " 'FMN2',\n",
       " 'GREM2',\n",
       " 'RGS7',\n",
       " 'FH',\n",
       " 'CHML',\n",
       " 'CEP170',\n",
       " 'SDCCAG8',\n",
       " 'AKT3',\n",
       " 'ZBTB18',\n",
       " 'ADSS',\n",
       " 'COX20',\n",
       " 'HNRNPU-AS1',\n",
       " 'HNRNPU',\n",
       " 'EFCAB2',\n",
       " 'SMYD3',\n",
       " 'TFB2M',\n",
       " 'CNST',\n",
       " 'SCCPDH',\n",
       " 'AHCTF1',\n",
       " 'ZNF695',\n",
       " 'ZNF670',\n",
       " 'ZNF669',\n",
       " 'ZNF124',\n",
       " 'ZNF692',\n",
       " 'SH3YL1',\n",
       " 'ACP1',\n",
       " 'TMEM18',\n",
       " 'PXDN',\n",
       " 'MYT1L',\n",
       " 'TSSC1',\n",
       " 'TRAPPC12',\n",
       " 'TRAPPC12-AS1',\n",
       " 'ADI1',\n",
       " 'RNASEH1',\n",
       " 'RNASEH1-AS1',\n",
       " 'RPS7',\n",
       " 'SOX11',\n",
       " 'RNF144A',\n",
       " 'ID2',\n",
       " 'KIDINS220',\n",
       " 'MBOAT2',\n",
       " 'ASAP2',\n",
       " 'ITGB1BP1',\n",
       " 'CPSF3',\n",
       " 'IAH1',\n",
       " 'ADAM17',\n",
       " 'YWHAQ',\n",
       " 'TAF1B',\n",
       " 'RP11-254F7.2',\n",
       " 'KLF11',\n",
       " 'RRM2',\n",
       " 'HPCAL1',\n",
       " 'ODC1',\n",
       " 'NOL10',\n",
       " 'PDIA6',\n",
       " 'ROCK2',\n",
       " 'E2F6',\n",
       " 'LPIN1',\n",
       " 'TRIB2',\n",
       " 'NBAS',\n",
       " 'DDX1',\n",
       " 'MYCNOS',\n",
       " 'MYCN',\n",
       " 'FAM49A',\n",
       " 'VSNL1',\n",
       " 'SMC6',\n",
       " 'TTC32',\n",
       " 'WDR35',\n",
       " 'LAPTM4A',\n",
       " 'PUM2',\n",
       " 'RHOB',\n",
       " 'LDAH',\n",
       " 'ATAD2B',\n",
       " 'UBXN2A',\n",
       " 'C2ORF44',\n",
       " 'FKBP1B',\n",
       " 'SF3B6',\n",
       " 'FAM228B',\n",
       " 'TP53I3',\n",
       " 'NCOA1',\n",
       " 'PTRHD1',\n",
       " 'CENPO',\n",
       " 'DNAJC27',\n",
       " 'DNAJC27-AS1',\n",
       " 'EFR3B',\n",
       " 'DNMT3A',\n",
       " 'DTNB',\n",
       " 'ASXL2',\n",
       " 'KIF3C',\n",
       " 'RAB10',\n",
       " 'GAREM2',\n",
       " 'HADHA',\n",
       " 'HADHB',\n",
       " 'EPT1',\n",
       " 'SLC35F6',\n",
       " 'DPYSL5',\n",
       " 'MAPRE3',\n",
       " 'AGBL5',\n",
       " 'OST4',\n",
       " ...]"
      ]
     },
     "execution_count": 69,
     "metadata": {},
     "output_type": "execute_result"
    }
   ],
   "source": [
    "trainloaders[0].dataset.dataset.columns"
   ]
  },
  {
   "cell_type": "code",
   "execution_count": 61,
   "id": "e3fe7ad0",
   "metadata": {
    "scrolled": true
   },
   "outputs": [
    {
     "name": "stderr",
     "output_type": "stream",
     "text": [
      "  0%|▋                                                                                                                                                 | 200/46619 [00:04<16:35, 46.64it/s]\n"
     ]
    }
   ],
   "source": [
    "for i, sample in enumerate(tqdm(trainloader)):\n",
    "    X, y = sample \n",
    "    net(X)\n",
    "    if i == 200:\n",
    "        break"
   ]
  },
  {
   "cell_type": "code",
   "execution_count": 62,
   "id": "ea916ff5",
   "metadata": {},
   "outputs": [
    {
     "name": "stderr",
     "output_type": "stream",
     "text": [
      "  0%|▌                                                                                                                                                | 200/46619 [00:01<05:55, 130.57it/s]\n"
     ]
    }
   ],
   "source": [
    "for i, sample in enumerate(tqdm(fastloader)):\n",
    "    t = sample\n",
    "    \n",
    "    if i == 200:\n",
    "        break"
   ]
  },
  {
   "cell_type": "code",
   "execution_count": 63,
   "id": "793c1ecd",
   "metadata": {
    "scrolled": true
   },
   "outputs": [
    {
     "data": {
      "text/plain": [
       "torch.Size([4, 19765])"
      ]
     },
     "execution_count": 63,
     "metadata": {},
     "output_type": "execute_result"
    }
   ],
   "source": [
    "X = next(iter(trainloaders[0]))[0]\n",
    "X.shape"
   ]
  },
  {
   "cell_type": "code",
   "execution_count": 65,
   "id": "5dc91f45",
   "metadata": {},
   "outputs": [],
   "source": [
    "# clean_sample(X, refgenes, traindata[0].columns)"
   ]
  },
  {
   "cell_type": "code",
   "execution_count": 67,
   "id": "6494913c",
   "metadata": {},
   "outputs": [],
   "source": [
    "# traindata[0].labels"
   ]
  },
  {
   "cell_type": "code",
   "execution_count": 71,
   "id": "d103d9f5",
   "metadata": {
    "scrolled": true
   },
   "outputs": [
    {
     "name": "stdout",
     "output_type": "stream",
     "text": [
      "Model initialized. N_features = 16604, N_labels = 18. Metrics are {'accuracy': <function accuracy at 0x7fe6432a2f70>, 'precision': <function precision at 0x7fe6432c65e0>, 'recall': <function recall at 0x7fe6432c6700>} and weighted_metrics = False\n"
     ]
    },
    {
     "data": {
      "text/html": [
       "Finishing last run (ID:2t1fl36l) before initializing another..."
      ],
      "text/plain": [
       "<IPython.core.display.HTML object>"
      ]
     },
     "metadata": {},
     "output_type": "display_data"
    },
    {
     "data": {
      "text/html": [
       "<br/>Waiting for W&B process to finish, PID 43634... <strong style=\"color:green\">(success).</strong>"
      ],
      "text/plain": [
       "<IPython.core.display.HTML object>"
      ]
     },
     "metadata": {},
     "output_type": "display_data"
    },
    {
     "data": {
      "application/vnd.jupyter.widget-view+json": {
       "model_id": "",
       "version_major": 2,
       "version_minor": 0
      },
      "text/plain": [
       "VBox(children=(Label(value=' 0.00MB of 0.00MB uploaded (0.00MB deduped)\\r'), FloatProgress(value=1.0, max=1.0)…"
      ]
     },
     "metadata": {},
     "output_type": "display_data"
    },
    {
     "data": {
      "text/html": [
       "<style>\n",
       "    table.wandb td:nth-child(1) { padding: 0 10px; text-align: right }\n",
       "    .wandb-row { display: flex; flex-direction: row; flex-wrap: wrap; width: 100% }\n",
       "    .wandb-col { display: flex; flex-direction: column; flex-basis: 100%; flex: 1; padding: 10px; }\n",
       "    </style>\n",
       "<div class=\"wandb-row\"><div class=\"wandb-col\">\n",
       "</div><div class=\"wandb-col\">\n",
       "</div></div>\n",
       "Synced 6 W&B file(s), 0 media file(s), 0 artifact file(s) and 0 other file(s)\n",
       "<br/>Synced <strong style=\"color:#cdcd00\">soft-donkey-11</strong>: <a href=\"https://wandb.ai/jlehrer1/organoid-classification-notebooks/runs/2t1fl36l\" target=\"_blank\">https://wandb.ai/jlehrer1/organoid-classification-notebooks/runs/2t1fl36l</a><br/>\n",
       "Find logs at: <code>./wandb/run-20220402_143248-2t1fl36l/logs</code><br/>\n"
      ],
      "text/plain": [
       "<IPython.core.display.HTML object>"
      ]
     },
     "metadata": {},
     "output_type": "display_data"
    },
    {
     "data": {
      "text/html": [
       "Successfully finished last run (ID:2t1fl36l). Initializing new run:<br/>"
      ],
      "text/plain": [
       "<IPython.core.display.HTML object>"
      ]
     },
     "metadata": {},
     "output_type": "display_data"
    },
    {
     "name": "stderr",
     "output_type": "stream",
     "text": [
      "\u001b[34m\u001b[1mwandb\u001b[0m: wandb version 0.12.11 is available!  To upgrade, please run:\n",
      "\u001b[34m\u001b[1mwandb\u001b[0m:  $ pip install wandb --upgrade\n"
     ]
    },
    {
     "data": {
      "text/html": [
       "\n",
       "                    Syncing run <strong><a href=\"https://wandb.ai/jlehrer1/organoid-classification-notebooks/runs/1gguo6jf\" target=\"_blank\">hearty-lion-12</a></strong> to <a href=\"https://wandb.ai/jlehrer1/organoid-classification-notebooks\" target=\"_blank\">Weights & Biases</a> (<a href=\"https://docs.wandb.com/integrations/jupyter.html\" target=\"_blank\">docs</a>).<br/>\n",
       "\n",
       "                "
      ],
      "text/plain": [
       "<IPython.core.display.HTML object>"
      ]
     },
     "metadata": {},
     "output_type": "display_data"
    },
    {
     "name": "stdout",
     "output_type": "stream",
     "text": [
      "Training on 0\n"
     ]
    },
    {
     "name": "stderr",
     "output_type": "stream",
     "text": [
      "  1%|█▏                                                                                                                                                | 291/37295 [00:15<31:50, 19.37it/s]\n"
     ]
    },
    {
     "ename": "KeyboardInterrupt",
     "evalue": "",
     "output_type": "error",
     "traceback": [
      "\u001b[0;31m---------------------------------------------------------------------------\u001b[0m",
      "\u001b[0;31mKeyboardInterrupt\u001b[0m                         Traceback (most recent call last)",
      "\u001b[0;32m/var/folders/pd/jsjcl0fn7w57s5mfr34b20pm0000gn/T/ipykernel_30581/460907721.py\u001b[0m in \u001b[0;36m<module>\u001b[0;34m\u001b[0m\n\u001b[1;32m     23\u001b[0m         \u001b[0mprint\u001b[0m\u001b[0;34m(\u001b[0m\u001b[0;34mf'Training on {trainidx}'\u001b[0m\u001b[0;34m)\u001b[0m\u001b[0;34m\u001b[0m\u001b[0;34m\u001b[0m\u001b[0m\n\u001b[1;32m     24\u001b[0m \u001b[0;34m\u001b[0m\u001b[0m\n\u001b[0;32m---> 25\u001b[0;31m         \u001b[0;32mfor\u001b[0m \u001b[0mi\u001b[0m\u001b[0;34m,\u001b[0m \u001b[0mdata\u001b[0m \u001b[0;32min\u001b[0m \u001b[0menumerate\u001b[0m\u001b[0;34m(\u001b[0m\u001b[0mtqdm\u001b[0m\u001b[0;34m(\u001b[0m\u001b[0mtrainloader\u001b[0m\u001b[0;34m)\u001b[0m\u001b[0;34m)\u001b[0m\u001b[0;34m:\u001b[0m\u001b[0;34m\u001b[0m\u001b[0;34m\u001b[0m\u001b[0m\n\u001b[0m\u001b[1;32m     26\u001b[0m             \u001b[0minputs\u001b[0m\u001b[0;34m,\u001b[0m \u001b[0mlabels\u001b[0m \u001b[0;34m=\u001b[0m \u001b[0mdata\u001b[0m\u001b[0;34m\u001b[0m\u001b[0;34m\u001b[0m\u001b[0m\n\u001b[1;32m     27\u001b[0m             \u001b[0;31m# CLEAN INPUTS\u001b[0m\u001b[0;34m\u001b[0m\u001b[0;34m\u001b[0m\u001b[0m\n",
      "\u001b[0;32m~/miniconda3/envs/base-data-science/lib/python3.9/site-packages/tqdm/std.py\u001b[0m in \u001b[0;36m__iter__\u001b[0;34m(self)\u001b[0m\n\u001b[1;32m   1178\u001b[0m \u001b[0;34m\u001b[0m\u001b[0m\n\u001b[1;32m   1179\u001b[0m         \u001b[0;32mtry\u001b[0m\u001b[0;34m:\u001b[0m\u001b[0;34m\u001b[0m\u001b[0;34m\u001b[0m\u001b[0m\n\u001b[0;32m-> 1180\u001b[0;31m             \u001b[0;32mfor\u001b[0m \u001b[0mobj\u001b[0m \u001b[0;32min\u001b[0m \u001b[0miterable\u001b[0m\u001b[0;34m:\u001b[0m\u001b[0;34m\u001b[0m\u001b[0;34m\u001b[0m\u001b[0m\n\u001b[0m\u001b[1;32m   1181\u001b[0m                 \u001b[0;32myield\u001b[0m \u001b[0mobj\u001b[0m\u001b[0;34m\u001b[0m\u001b[0;34m\u001b[0m\u001b[0m\n\u001b[1;32m   1182\u001b[0m                 \u001b[0;31m# Update and possibly print the progressbar.\u001b[0m\u001b[0;34m\u001b[0m\u001b[0;34m\u001b[0m\u001b[0m\n",
      "\u001b[0;32m~/miniconda3/envs/base-data-science/lib/python3.9/site-packages/torch/utils/data/dataloader.py\u001b[0m in \u001b[0;36m__next__\u001b[0;34m(self)\u001b[0m\n\u001b[1;32m    519\u001b[0m             \u001b[0;32mif\u001b[0m \u001b[0mself\u001b[0m\u001b[0;34m.\u001b[0m\u001b[0m_sampler_iter\u001b[0m \u001b[0;32mis\u001b[0m \u001b[0;32mNone\u001b[0m\u001b[0;34m:\u001b[0m\u001b[0;34m\u001b[0m\u001b[0;34m\u001b[0m\u001b[0m\n\u001b[1;32m    520\u001b[0m                 \u001b[0mself\u001b[0m\u001b[0;34m.\u001b[0m\u001b[0m_reset\u001b[0m\u001b[0;34m(\u001b[0m\u001b[0;34m)\u001b[0m\u001b[0;34m\u001b[0m\u001b[0;34m\u001b[0m\u001b[0m\n\u001b[0;32m--> 521\u001b[0;31m             \u001b[0mdata\u001b[0m \u001b[0;34m=\u001b[0m \u001b[0mself\u001b[0m\u001b[0;34m.\u001b[0m\u001b[0m_next_data\u001b[0m\u001b[0;34m(\u001b[0m\u001b[0;34m)\u001b[0m\u001b[0;34m\u001b[0m\u001b[0;34m\u001b[0m\u001b[0m\n\u001b[0m\u001b[1;32m    522\u001b[0m             \u001b[0mself\u001b[0m\u001b[0;34m.\u001b[0m\u001b[0m_num_yielded\u001b[0m \u001b[0;34m+=\u001b[0m \u001b[0;36m1\u001b[0m\u001b[0;34m\u001b[0m\u001b[0;34m\u001b[0m\u001b[0m\n\u001b[1;32m    523\u001b[0m             \u001b[0;32mif\u001b[0m \u001b[0mself\u001b[0m\u001b[0;34m.\u001b[0m\u001b[0m_dataset_kind\u001b[0m \u001b[0;34m==\u001b[0m \u001b[0m_DatasetKind\u001b[0m\u001b[0;34m.\u001b[0m\u001b[0mIterable\u001b[0m \u001b[0;32mand\u001b[0m\u001b[0;31m \u001b[0m\u001b[0;31m\\\u001b[0m\u001b[0;34m\u001b[0m\u001b[0;34m\u001b[0m\u001b[0m\n",
      "\u001b[0;32m~/miniconda3/envs/base-data-science/lib/python3.9/site-packages/torch/utils/data/dataloader.py\u001b[0m in \u001b[0;36m_next_data\u001b[0;34m(self)\u001b[0m\n\u001b[1;32m    559\u001b[0m     \u001b[0;32mdef\u001b[0m \u001b[0m_next_data\u001b[0m\u001b[0;34m(\u001b[0m\u001b[0mself\u001b[0m\u001b[0;34m)\u001b[0m\u001b[0;34m:\u001b[0m\u001b[0;34m\u001b[0m\u001b[0;34m\u001b[0m\u001b[0m\n\u001b[1;32m    560\u001b[0m         \u001b[0mindex\u001b[0m \u001b[0;34m=\u001b[0m \u001b[0mself\u001b[0m\u001b[0;34m.\u001b[0m\u001b[0m_next_index\u001b[0m\u001b[0;34m(\u001b[0m\u001b[0;34m)\u001b[0m  \u001b[0;31m# may raise StopIteration\u001b[0m\u001b[0;34m\u001b[0m\u001b[0;34m\u001b[0m\u001b[0m\n\u001b[0;32m--> 561\u001b[0;31m         \u001b[0mdata\u001b[0m \u001b[0;34m=\u001b[0m \u001b[0mself\u001b[0m\u001b[0;34m.\u001b[0m\u001b[0m_dataset_fetcher\u001b[0m\u001b[0;34m.\u001b[0m\u001b[0mfetch\u001b[0m\u001b[0;34m(\u001b[0m\u001b[0mindex\u001b[0m\u001b[0;34m)\u001b[0m  \u001b[0;31m# may raise StopIteration\u001b[0m\u001b[0;34m\u001b[0m\u001b[0;34m\u001b[0m\u001b[0m\n\u001b[0m\u001b[1;32m    562\u001b[0m         \u001b[0;32mif\u001b[0m \u001b[0mself\u001b[0m\u001b[0;34m.\u001b[0m\u001b[0m_pin_memory\u001b[0m\u001b[0;34m:\u001b[0m\u001b[0;34m\u001b[0m\u001b[0;34m\u001b[0m\u001b[0m\n\u001b[1;32m    563\u001b[0m             \u001b[0mdata\u001b[0m \u001b[0;34m=\u001b[0m \u001b[0m_utils\u001b[0m\u001b[0;34m.\u001b[0m\u001b[0mpin_memory\u001b[0m\u001b[0;34m.\u001b[0m\u001b[0mpin_memory\u001b[0m\u001b[0;34m(\u001b[0m\u001b[0mdata\u001b[0m\u001b[0;34m)\u001b[0m\u001b[0;34m\u001b[0m\u001b[0;34m\u001b[0m\u001b[0m\n",
      "\u001b[0;32m~/miniconda3/envs/base-data-science/lib/python3.9/site-packages/torch/utils/data/_utils/fetch.py\u001b[0m in \u001b[0;36mfetch\u001b[0;34m(self, possibly_batched_index)\u001b[0m\n\u001b[1;32m     47\u001b[0m     \u001b[0;32mdef\u001b[0m \u001b[0mfetch\u001b[0m\u001b[0;34m(\u001b[0m\u001b[0mself\u001b[0m\u001b[0;34m,\u001b[0m \u001b[0mpossibly_batched_index\u001b[0m\u001b[0;34m)\u001b[0m\u001b[0;34m:\u001b[0m\u001b[0;34m\u001b[0m\u001b[0;34m\u001b[0m\u001b[0m\n\u001b[1;32m     48\u001b[0m         \u001b[0;32mif\u001b[0m \u001b[0mself\u001b[0m\u001b[0;34m.\u001b[0m\u001b[0mauto_collation\u001b[0m\u001b[0;34m:\u001b[0m\u001b[0;34m\u001b[0m\u001b[0;34m\u001b[0m\u001b[0m\n\u001b[0;32m---> 49\u001b[0;31m             \u001b[0mdata\u001b[0m \u001b[0;34m=\u001b[0m \u001b[0;34m[\u001b[0m\u001b[0mself\u001b[0m\u001b[0;34m.\u001b[0m\u001b[0mdataset\u001b[0m\u001b[0;34m[\u001b[0m\u001b[0midx\u001b[0m\u001b[0;34m]\u001b[0m \u001b[0;32mfor\u001b[0m \u001b[0midx\u001b[0m \u001b[0;32min\u001b[0m \u001b[0mpossibly_batched_index\u001b[0m\u001b[0;34m]\u001b[0m\u001b[0;34m\u001b[0m\u001b[0;34m\u001b[0m\u001b[0m\n\u001b[0m\u001b[1;32m     50\u001b[0m         \u001b[0;32melse\u001b[0m\u001b[0;34m:\u001b[0m\u001b[0;34m\u001b[0m\u001b[0;34m\u001b[0m\u001b[0m\n\u001b[1;32m     51\u001b[0m             \u001b[0mdata\u001b[0m \u001b[0;34m=\u001b[0m \u001b[0mself\u001b[0m\u001b[0;34m.\u001b[0m\u001b[0mdataset\u001b[0m\u001b[0;34m[\u001b[0m\u001b[0mpossibly_batched_index\u001b[0m\u001b[0;34m]\u001b[0m\u001b[0;34m\u001b[0m\u001b[0;34m\u001b[0m\u001b[0m\n",
      "\u001b[0;32m~/miniconda3/envs/base-data-science/lib/python3.9/site-packages/torch/utils/data/_utils/fetch.py\u001b[0m in \u001b[0;36m<listcomp>\u001b[0;34m(.0)\u001b[0m\n\u001b[1;32m     47\u001b[0m     \u001b[0;32mdef\u001b[0m \u001b[0mfetch\u001b[0m\u001b[0;34m(\u001b[0m\u001b[0mself\u001b[0m\u001b[0;34m,\u001b[0m \u001b[0mpossibly_batched_index\u001b[0m\u001b[0;34m)\u001b[0m\u001b[0;34m:\u001b[0m\u001b[0;34m\u001b[0m\u001b[0;34m\u001b[0m\u001b[0m\n\u001b[1;32m     48\u001b[0m         \u001b[0;32mif\u001b[0m \u001b[0mself\u001b[0m\u001b[0;34m.\u001b[0m\u001b[0mauto_collation\u001b[0m\u001b[0;34m:\u001b[0m\u001b[0;34m\u001b[0m\u001b[0;34m\u001b[0m\u001b[0m\n\u001b[0;32m---> 49\u001b[0;31m             \u001b[0mdata\u001b[0m \u001b[0;34m=\u001b[0m \u001b[0;34m[\u001b[0m\u001b[0mself\u001b[0m\u001b[0;34m.\u001b[0m\u001b[0mdataset\u001b[0m\u001b[0;34m[\u001b[0m\u001b[0midx\u001b[0m\u001b[0;34m]\u001b[0m \u001b[0;32mfor\u001b[0m \u001b[0midx\u001b[0m \u001b[0;32min\u001b[0m \u001b[0mpossibly_batched_index\u001b[0m\u001b[0;34m]\u001b[0m\u001b[0;34m\u001b[0m\u001b[0;34m\u001b[0m\u001b[0m\n\u001b[0m\u001b[1;32m     50\u001b[0m         \u001b[0;32melse\u001b[0m\u001b[0;34m:\u001b[0m\u001b[0;34m\u001b[0m\u001b[0;34m\u001b[0m\u001b[0m\n\u001b[1;32m     51\u001b[0m             \u001b[0mdata\u001b[0m \u001b[0;34m=\u001b[0m \u001b[0mself\u001b[0m\u001b[0;34m.\u001b[0m\u001b[0mdataset\u001b[0m\u001b[0;34m[\u001b[0m\u001b[0mpossibly_batched_index\u001b[0m\u001b[0;34m]\u001b[0m\u001b[0;34m\u001b[0m\u001b[0;34m\u001b[0m\u001b[0m\n",
      "\u001b[0;32m~/miniconda3/envs/base-data-science/lib/python3.9/site-packages/torch/utils/data/dataset.py\u001b[0m in \u001b[0;36m__getitem__\u001b[0;34m(self, idx)\u001b[0m\n\u001b[1;32m    361\u001b[0m         \u001b[0;32mif\u001b[0m \u001b[0misinstance\u001b[0m\u001b[0;34m(\u001b[0m\u001b[0midx\u001b[0m\u001b[0;34m,\u001b[0m \u001b[0mlist\u001b[0m\u001b[0;34m)\u001b[0m\u001b[0;34m:\u001b[0m\u001b[0;34m\u001b[0m\u001b[0;34m\u001b[0m\u001b[0m\n\u001b[1;32m    362\u001b[0m             \u001b[0;32mreturn\u001b[0m \u001b[0mself\u001b[0m\u001b[0;34m.\u001b[0m\u001b[0mdataset\u001b[0m\u001b[0;34m[\u001b[0m\u001b[0;34m[\u001b[0m\u001b[0mself\u001b[0m\u001b[0;34m.\u001b[0m\u001b[0mindices\u001b[0m\u001b[0;34m[\u001b[0m\u001b[0mi\u001b[0m\u001b[0;34m]\u001b[0m \u001b[0;32mfor\u001b[0m \u001b[0mi\u001b[0m \u001b[0;32min\u001b[0m \u001b[0midx\u001b[0m\u001b[0;34m]\u001b[0m\u001b[0;34m]\u001b[0m\u001b[0;34m\u001b[0m\u001b[0;34m\u001b[0m\u001b[0m\n\u001b[0;32m--> 363\u001b[0;31m         \u001b[0;32mreturn\u001b[0m \u001b[0mself\u001b[0m\u001b[0;34m.\u001b[0m\u001b[0mdataset\u001b[0m\u001b[0;34m[\u001b[0m\u001b[0mself\u001b[0m\u001b[0;34m.\u001b[0m\u001b[0mindices\u001b[0m\u001b[0;34m[\u001b[0m\u001b[0midx\u001b[0m\u001b[0;34m]\u001b[0m\u001b[0;34m]\u001b[0m\u001b[0;34m\u001b[0m\u001b[0;34m\u001b[0m\u001b[0m\n\u001b[0m\u001b[1;32m    364\u001b[0m \u001b[0;34m\u001b[0m\u001b[0m\n\u001b[1;32m    365\u001b[0m     \u001b[0;32mdef\u001b[0m \u001b[0m__len__\u001b[0m\u001b[0;34m(\u001b[0m\u001b[0mself\u001b[0m\u001b[0;34m)\u001b[0m\u001b[0;34m:\u001b[0m\u001b[0;34m\u001b[0m\u001b[0;34m\u001b[0m\u001b[0m\n",
      "\u001b[0;32m~/Documents/Projects/organoid-classification/notebooks/../src/models/lib/data.py\u001b[0m in \u001b[0;36m__getitem__\u001b[0;34m(self, idx)\u001b[0m\n\u001b[1;32m     70\u001b[0m             \u001b[0;32mreturn\u001b[0m \u001b[0;34m[\u001b[0m\u001b[0mself\u001b[0m\u001b[0;34m[\u001b[0m\u001b[0mi\u001b[0m\u001b[0;34m]\u001b[0m \u001b[0;32mfor\u001b[0m \u001b[0mi\u001b[0m \u001b[0;32min\u001b[0m \u001b[0midxs\u001b[0m\u001b[0;34m]\u001b[0m\u001b[0;34m\u001b[0m\u001b[0;34m\u001b[0m\u001b[0m\n\u001b[1;32m     71\u001b[0m \u001b[0;34m\u001b[0m\u001b[0m\n\u001b[0;32m---> 72\u001b[0;31m         \u001b[0mlabel\u001b[0m \u001b[0;34m=\u001b[0m \u001b[0mself\u001b[0m\u001b[0;34m.\u001b[0m\u001b[0m_labeldf\u001b[0m\u001b[0;34m.\u001b[0m\u001b[0mloc\u001b[0m\u001b[0;34m[\u001b[0m\u001b[0midx\u001b[0m\u001b[0;34m,\u001b[0m \u001b[0mself\u001b[0m\u001b[0;34m.\u001b[0m\u001b[0m_class_label\u001b[0m\u001b[0;34m]\u001b[0m\u001b[0;34m\u001b[0m\u001b[0;34m\u001b[0m\u001b[0m\n\u001b[0m\u001b[1;32m     73\u001b[0m \u001b[0;34m\u001b[0m\u001b[0m\n\u001b[1;32m     74\u001b[0m         \u001b[0;31m# The label dataframe contains both its natural integer index, as well as a \"cell\" index which contains the indices of the data that we\u001b[0m\u001b[0;34m\u001b[0m\u001b[0;34m\u001b[0m\u001b[0m\n",
      "\u001b[0;32m~/miniconda3/envs/base-data-science/lib/python3.9/site-packages/pandas/core/indexing.py\u001b[0m in \u001b[0;36m__getitem__\u001b[0;34m(self, key)\u001b[0m\n\u001b[1;32m    958\u001b[0m             \u001b[0mkey\u001b[0m \u001b[0;34m=\u001b[0m \u001b[0mtuple\u001b[0m\u001b[0;34m(\u001b[0m\u001b[0mcom\u001b[0m\u001b[0;34m.\u001b[0m\u001b[0mapply_if_callable\u001b[0m\u001b[0;34m(\u001b[0m\u001b[0mx\u001b[0m\u001b[0;34m,\u001b[0m \u001b[0mself\u001b[0m\u001b[0;34m.\u001b[0m\u001b[0mobj\u001b[0m\u001b[0;34m)\u001b[0m \u001b[0;32mfor\u001b[0m \u001b[0mx\u001b[0m \u001b[0;32min\u001b[0m \u001b[0mkey\u001b[0m\u001b[0;34m)\u001b[0m\u001b[0;34m\u001b[0m\u001b[0;34m\u001b[0m\u001b[0m\n\u001b[1;32m    959\u001b[0m             \u001b[0;32mif\u001b[0m \u001b[0mself\u001b[0m\u001b[0;34m.\u001b[0m\u001b[0m_is_scalar_access\u001b[0m\u001b[0;34m(\u001b[0m\u001b[0mkey\u001b[0m\u001b[0;34m)\u001b[0m\u001b[0;34m:\u001b[0m\u001b[0;34m\u001b[0m\u001b[0;34m\u001b[0m\u001b[0m\n\u001b[0;32m--> 960\u001b[0;31m                 \u001b[0;32mreturn\u001b[0m \u001b[0mself\u001b[0m\u001b[0;34m.\u001b[0m\u001b[0mobj\u001b[0m\u001b[0;34m.\u001b[0m\u001b[0m_get_value\u001b[0m\u001b[0;34m(\u001b[0m\u001b[0;34m*\u001b[0m\u001b[0mkey\u001b[0m\u001b[0;34m,\u001b[0m \u001b[0mtakeable\u001b[0m\u001b[0;34m=\u001b[0m\u001b[0mself\u001b[0m\u001b[0;34m.\u001b[0m\u001b[0m_takeable\u001b[0m\u001b[0;34m)\u001b[0m\u001b[0;34m\u001b[0m\u001b[0;34m\u001b[0m\u001b[0m\n\u001b[0m\u001b[1;32m    961\u001b[0m             \u001b[0;32mreturn\u001b[0m \u001b[0mself\u001b[0m\u001b[0;34m.\u001b[0m\u001b[0m_getitem_tuple\u001b[0m\u001b[0;34m(\u001b[0m\u001b[0mkey\u001b[0m\u001b[0;34m)\u001b[0m\u001b[0;34m\u001b[0m\u001b[0;34m\u001b[0m\u001b[0m\n\u001b[1;32m    962\u001b[0m         \u001b[0;32melse\u001b[0m\u001b[0;34m:\u001b[0m\u001b[0;34m\u001b[0m\u001b[0;34m\u001b[0m\u001b[0m\n",
      "\u001b[0;31mKeyboardInterrupt\u001b[0m: "
     ]
    }
   ],
   "source": [
    "import torch.optim as optim\n",
    "import torch.nn as nn\n",
    "import wandb\n",
    "\n",
    "model = GeneClassifier(\n",
    "    N_features=len(refgenes),\n",
    "    N_labels=18,\n",
    ")\n",
    "\n",
    "wandb.init()\n",
    "\n",
    "criterion = nn.CrossEntropyLoss()\n",
    "optimizer = optim.SGD(net.parameters(), lr=0.001, momentum=0.9)\n",
    "\n",
    "wandb.watch(model, log_freq=100)\n",
    "\n",
    "for epoch in range(100):  # loop over the dataset multiple times\n",
    "    running_loss = 0.0\n",
    "    \n",
    "    # Train loop\n",
    "    for trainidx, trainloader in enumerate(trainloaders):\n",
    "        model.train()\n",
    "        print(f'Training on {trainidx}')\n",
    "        \n",
    "        for i, data in enumerate(tqdm(trainloader)):\n",
    "            inputs, labels = data\n",
    "            # CLEAN INPUTS\n",
    "            inputs = clean_sample(inputs, refgenes, trainloader.dataset.dataset.columns)\n",
    "            # Forward pass ➡\n",
    "            outputs = model(inputs)\n",
    "            loss = criterion(outputs, labels)\n",
    "\n",
    "            # Backward pass ⬅\n",
    "            optimizer.zero_grad()\n",
    "            loss.backward()\n",
    "\n",
    "            # Step with optimizer\n",
    "            optimizer.step()\n",
    "            \n",
    "            # print statistics\n",
    "            running_loss += loss.item()\n",
    "            if i % 10 == 0:    # print every 2000 mini-batches\n",
    "                running_loss = 0.0\n",
    "                wandb.log({\"train_loss\": loss})\n",
    "                \n",
    "    # Validation loops \n",
    "    for validx, valloader in enumerate(valloaders):\n",
    "        model.eval()\n",
    "        \n",
    "        for i, data in enumerate(tqdm(valloader)):\n",
    "            inputs, labels = data\n",
    "            inputs = clean_sample(inputs, refgenes, valloader.dataset.dataset.columns)\n",
    "            \n",
    "            outputs = model(batch)\n",
    "            loss = criterion(outputs, labels)\n",
    "            \n",
    "            running_loss += loss.item()\n",
    "            \n",
    "            if i % 10 == 0:\n",
    "                wandb.log({\"val_loss\": loss})\n",
    "    \n",
    "print('Finished train/validation, calculating test error')"
   ]
  },
  {
   "cell_type": "code",
   "execution_count": null,
   "id": "48794542",
   "metadata": {},
   "outputs": [],
   "source": [
    "def train_batch(batch, labels, model, optimizer, criterion):\n",
    "    images, labels = images.to(device), labels.to(device)\n",
    "    \n",
    "    # Forward pass ➡\n",
    "    outputs = model(batch)\n",
    "    loss = criterion(outputs, labels)\n",
    "    \n",
    "    # Backward pass ⬅\n",
    "    optimizer.zero_grad()\n",
    "    loss.backward()\n",
    "\n",
    "    # Step with optimizer\n",
    "    optimizer.step()\n",
    "\n",
    "    return loss\n",
    "\n",
    "def validate_model(model, test_loader):\n",
    "    model.eval()\n",
    "\n",
    "    # Run the model on some test examples\n",
    "    with torch.no_grad():\n",
    "        correct, total = 0, 0\n",
    "        for images, labels in test_loader:\n",
    "            images, labels = images.to(device), labels.to(device)\n",
    "            outputs = model(images)\n",
    "            _, predicted = torch.max(outputs.data, 1)\n",
    "            total += labels.size(0)\n",
    "            correct += (predicted == labels).sum().item()\n",
    "\n",
    "        print(f\"Accuracy of the model on the {total} \" +\n",
    "              f\"test images: {100 * correct / total}%\")\n",
    "        \n",
    "        wandb.log({\"test_accuracy\": correct / total})\n",
    "\n",
    "    # Save the model in the exchangeable ONNX format\n",
    "    torch.onnx.export(model, images, \"model.onnx\")\n",
    "    wandb.save(\"model.onnx\")\n",
    "    "
   ]
  },
  {
   "cell_type": "code",
   "execution_count": null,
   "id": "2a2288df",
   "metadata": {},
   "outputs": [],
   "source": [
    "# tell wandb to get started\n",
    "with wandb.init(project=\"pytorch-demo\", config=hyperparameters):\n",
    "  # access all HPs through wandb.config, so logging matches execution!\n",
    "  config = wandb.config\n",
    "\n",
    "  # make the model, data, and optimization problem\n",
    "  model, train_loader, test_loader, criterion, optimizer = make(config)\n",
    "\n",
    "  # and use them to train the model\n",
    "  train(model, train_loader, criterion, optimizer, config)\n",
    "\n",
    "  # and test its final performance\n",
    "  test(model, test_loader)\n",
    "\n",
    "return model"
   ]
  },
  {
   "cell_type": "code",
   "execution_count": null,
   "id": "d676d126",
   "metadata": {},
   "outputs": [],
   "source": []
  },
  {
   "cell_type": "code",
   "execution_count": 72,
   "id": "446198f7",
   "metadata": {},
   "outputs": [
    {
     "name": "stdout",
     "output_type": "stream",
     "text": [
      "tensor([[0.4371, 0.0333, 0.1688, 0.2000, 0.1607],\n",
      "        [0.1782, 0.2526, 0.3274, 0.1640, 0.0778],\n",
      "        [0.0805, 0.0224, 0.6530, 0.1200, 0.1240],\n",
      "        [0.2361, 0.3397, 0.2549, 0.1413, 0.0280],\n",
      "        [0.1407, 0.0528, 0.4000, 0.1040, 0.3026],\n",
      "        [0.2487, 0.4209, 0.1792, 0.0857, 0.0654],\n",
      "        [0.1900, 0.0882, 0.3352, 0.2989, 0.0878],\n",
      "        [0.0211, 0.3861, 0.2937, 0.1939, 0.1052],\n",
      "        [0.0460, 0.5406, 0.0403, 0.0521, 0.3210],\n",
      "        [0.1224, 0.2627, 0.4455, 0.0433, 0.1261]])\n"
     ]
    },
    {
     "data": {
      "text/plain": [
       "tensor([3, 0, 1, 1, 2, 4, 2, 0, 3, 3])"
      ]
     },
     "execution_count": 72,
     "metadata": {},
     "output_type": "execute_result"
    }
   ],
   "source": [
    "print(torch.randn(10, 5).softmax(dim=-1))\n",
    "torch.randint(5, (10,))"
   ]
  },
  {
   "cell_type": "markdown",
   "id": "97c45bb7",
   "metadata": {},
   "source": [
    "## Linecache speed testing \n",
    "\n",
    "If we can improve the speed of our __getitem__ method, we can train our model a lot faster. Since currently it requires two list comprehensions, let's see if we can increase the time "
   ]
  },
  {
   "cell_type": "code",
   "execution_count": null,
   "id": "1298c67d",
   "metadata": {},
   "outputs": [],
   "source": [
    "import linecache \n",
    "\n",
    "line = linecache.getline('../data/interim/primary_bhaduri_T.csv', 5)\n",
    "line = np.array(line.split(','), dtype=np.float32)"
   ]
  },
  {
   "cell_type": "code",
   "execution_count": null,
   "id": "c93f98de",
   "metadata": {},
   "outputs": [],
   "source": [
    "%%timeit \n",
    "\n",
    "line = linecache.getline('../data/interim/primary_bhaduri_T.csv', 5)\n",
    "line = np.array(line.split(','), dtype=np.float32)"
   ]
  },
  {
   "cell_type": "code",
   "execution_count": null,
   "id": "033f5a59",
   "metadata": {},
   "outputs": [],
   "source": [
    "df1_data.name"
   ]
  },
  {
   "cell_type": "code",
   "execution_count": null,
   "id": "a3cb8ea7",
   "metadata": {},
   "outputs": [],
   "source": [
    "%%timeit \n",
    "\n",
    "line = df1_data[5]"
   ]
  },
  {
   "cell_type": "code",
   "execution_count": null,
   "id": "54e18ca3",
   "metadata": {},
   "outputs": [],
   "source": []
  }
 ],
 "metadata": {
  "kernelspec": {
   "display_name": "Python [conda env:base-data-science]",
   "language": "python",
   "name": "conda-env-base-data-science-py"
  },
  "language_info": {
   "codemirror_mode": {
    "name": "ipython",
    "version": 3
   },
   "file_extension": ".py",
   "mimetype": "text/x-python",
   "name": "python",
   "nbconvert_exporter": "python",
   "pygments_lexer": "ipython3",
   "version": "3.9.7"
  }
 },
 "nbformat": 4,
 "nbformat_minor": 5
}
