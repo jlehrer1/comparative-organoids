{
 "cells": [
  {
   "cell_type": "code",
   "execution_count": 1,
   "id": "be54c4a5",
   "metadata": {},
   "outputs": [],
   "source": [
    "import pandas as pd \n",
    "import os\n",
    "import sys\n",
    "import pandas as pd\n",
    "import numpy as np\n",
    "from torch.utils.data import *\n",
    "from tqdm import tqdm\n",
    "import linecache \n",
    "\n",
    "sys.path.append('../src/')\n",
    "sys.path.append('..')\n",
    "\n",
    "from src.models.lib.neural import GeneClassifier"
   ]
  },
  {
   "cell_type": "code",
   "execution_count": 2,
   "id": "16540141",
   "metadata": {},
   "outputs": [],
   "source": [
    "from src.models.lib.data import *\n",
    "from src.helper import *"
   ]
  },
  {
   "cell_type": "code",
   "execution_count": 3,
   "id": "30f2a8cb",
   "metadata": {
    "scrolled": false
   },
   "outputs": [],
   "source": [
    "test = GeneExpressionData(\n",
    "    filename='../data/interim/allen_cortex_T.csv',\n",
    "    labelname='../data/processed/labels/allen_cortex_labels.csv',\n",
    "    class_label='Type',\n",
    "    cast=True,\n",
    "    skip=3,\n",
    ")\n"
   ]
  },
  {
   "cell_type": "code",
   "execution_count": 4,
   "id": "5e4972fb",
   "metadata": {
    "scrolled": true
   },
   "outputs": [
    {
     "name": "stdout",
     "output_type": "stream",
     "text": [
      "88.5 ms ± 1.53 ms per loop (mean ± std. dev. of 7 runs, 1 loop each)\n"
     ]
    }
   ],
   "source": [
    "%%timeit\n",
    "\n",
    "test[0:20]"
   ]
  },
  {
   "cell_type": "code",
   "execution_count": 5,
   "id": "4a7ad762",
   "metadata": {},
   "outputs": [
    {
     "name": "stdout",
     "output_type": "stream",
     "text": [
      "CPU times: user 2.28 s, sys: 85.2 ms, total: 2.36 s\n",
      "Wall time: 2.4 s\n"
     ]
    }
   ],
   "source": [
    "%%time\n",
    "\n",
    "refgenes = gene_intersection()"
   ]
  },
  {
   "cell_type": "code",
   "execution_count": 6,
   "id": "1ffd7673",
   "metadata": {},
   "outputs": [],
   "source": [
    "from torch.utils.data import DataLoader, ConcatDataset\n",
    "\n",
    "loader = DataLoader(test, batch_size=4)\n",
    "sample = next(iter(loader))\n",
    "sample = sample[0].numpy()"
   ]
  },
  {
   "cell_type": "code",
   "execution_count": 7,
   "id": "25c97585",
   "metadata": {},
   "outputs": [],
   "source": [
    "def clean_sample(sample, refgenes, currgenes):\n",
    "    intersection = np.intersect1d(currgenes, refgenes, return_indices=True)\n",
    "    indices = intersection[1] # List of indices in currgenes that equal refgenes \n",
    "    \n",
    "    axis = (1 if sample.ndim == 2 else 0)\n",
    "    sample = np.sort(sample, axis=axis)\n",
    "    sample = np.take(sample, indices, axis=axis)\n",
    "\n",
    "    return torch.from_numpy(sample)"
   ]
  },
  {
   "cell_type": "code",
   "execution_count": 8,
   "id": "acc0ebd5",
   "metadata": {},
   "outputs": [
    {
     "data": {
      "text/plain": [
       "(['../data/interim/primary_bhaduri_T.csv',\n",
       "  '../data/interim/allen_cortex_T.csv',\n",
       "  '../data/interim/allen_m1_region_T.csv',\n",
       "  '../data/interim/whole_brain_bhaduri_T.csv'],\n",
       " ['../data/processed/labels/primary_bhaduri_labels.csv',\n",
       "  '../data/processed/labels/allen_cortex_labels.csv',\n",
       "  '../data/processed/labels/allen_m1_region_labels.csv',\n",
       "  '../data/processed/labels/whole_brain_bhaduri_labels.csv'])"
      ]
     },
     "execution_count": 8,
     "metadata": {},
     "output_type": "execute_result"
    }
   ],
   "source": [
    "datafiles, labelfiles = list(INTERIM_DATA_AND_LABEL_FILES_LIST.keys()), list(INTERIM_DATA_AND_LABEL_FILES_LIST.values())\n",
    "\n",
    "datafiles = [os.path.join('..', 'data', 'interim', f) for f in datafiles]\n",
    "labelfiles = [os.path.join('..', 'data', 'processed/labels', f) for f in labelfiles]\n",
    "datafiles, labelfiles"
   ]
  },
  {
   "cell_type": "code",
   "execution_count": 9,
   "id": "d07b88a9",
   "metadata": {
    "scrolled": false
   },
   "outputs": [],
   "source": [
    "train = GeneExpressionData(datafiles[0], labelfiles[0], 'Type', skip=3)\n",
    "loader = DataLoader(train, batch_size=4)\n",
    "currgenes = train.columns"
   ]
  },
  {
   "cell_type": "code",
   "execution_count": 10,
   "id": "541c6dc4",
   "metadata": {},
   "outputs": [
    {
     "data": {
      "text/plain": [
       "19765"
      ]
     },
     "execution_count": 10,
     "metadata": {},
     "output_type": "execute_result"
    }
   ],
   "source": [
    "onedsample = train[0][0]\n",
    "len(onedsample)"
   ]
  },
  {
   "cell_type": "code",
   "execution_count": 11,
   "id": "8e00668b",
   "metadata": {},
   "outputs": [
    {
     "data": {
      "text/plain": [
       "tensor([0., 0., 0.,  ..., 0., 0., 0.])"
      ]
     },
     "execution_count": 11,
     "metadata": {},
     "output_type": "execute_result"
    }
   ],
   "source": [
    "t = (clean_sample(onedsample, refgenes, currgenes))\n",
    "t"
   ]
  },
  {
   "cell_type": "code",
   "execution_count": 12,
   "id": "09ea2c27",
   "metadata": {},
   "outputs": [
    {
     "data": {
      "text/plain": [
       "16604"
      ]
     },
     "execution_count": 12,
     "metadata": {},
     "output_type": "execute_result"
    }
   ],
   "source": [
    "len(t)"
   ]
  },
  {
   "cell_type": "code",
   "execution_count": 13,
   "id": "23097229",
   "metadata": {},
   "outputs": [],
   "source": [
    "# twodsample = next(iter(loader))[0]\n",
    "# twodsample"
   ]
  },
  {
   "cell_type": "code",
   "execution_count": 14,
   "id": "5345a512",
   "metadata": {},
   "outputs": [],
   "source": [
    "# %%timeit\n",
    "\n",
    "# clean_sample(twodsample, refgenes, currgenes)"
   ]
  },
  {
   "cell_type": "code",
   "execution_count": null,
   "id": "33f9cc93",
   "metadata": {
    "scrolled": true
   },
   "outputs": [],
   "source": []
  },
  {
   "cell_type": "code",
   "execution_count": 15,
   "id": "ab88a2c3",
   "metadata": {
    "scrolled": true
   },
   "outputs": [],
   "source": [
    "# for X, y in tqdm(loader):\n",
    "#     X = clean_sample(X, refgenes, currgenes)"
   ]
  },
  {
   "cell_type": "code",
   "execution_count": 16,
   "id": "0a69eda4",
   "metadata": {},
   "outputs": [
    {
     "data": {
      "text/plain": [
       "2"
      ]
     },
     "execution_count": 16,
     "metadata": {},
     "output_type": "execute_result"
    }
   ],
   "source": [
    "sample.ndim"
   ]
  },
  {
   "cell_type": "code",
   "execution_count": 17,
   "id": "263e2681",
   "metadata": {},
   "outputs": [],
   "source": [
    "temp = pd.read_csv(datafiles[0], nrows=1, header=1).columns "
   ]
  },
  {
   "cell_type": "code",
   "execution_count": 18,
   "id": "015779ad",
   "metadata": {},
   "outputs": [],
   "source": [
    "# cols = []\n",
    "# for file in datafiles:\n",
    "#     # Read in columns, split by | (since some are PVALB|PVALB), and make sure all are uppercase\n",
    "#     temp = pd.read_csv(file, nrows=1, header=1).columns \n",
    "#     temp = [x.split('|')[0].upper().strip() for x in temp]\n",
    "    \n",
    "#     print(f'Temp is {temp[0:5]}...')\n",
    "#     cols.append(set(temp))\n",
    "\n",
    "# unique = list(set.intersection(*cols))\n",
    "# unique = sorted(unique)"
   ]
  },
  {
   "cell_type": "code",
   "execution_count": 19,
   "id": "8e128002",
   "metadata": {},
   "outputs": [],
   "source": [
    "# len(unique)"
   ]
  },
  {
   "cell_type": "code",
   "execution_count": 20,
   "id": "0fbb29f6",
   "metadata": {},
   "outputs": [],
   "source": [
    "# temp = pd.read_csv(datafiles[0], nrows=1, header=1).columns \n",
    "# temp = [x.strip().upper() for x in temp]\n",
    "# l = train.features"
   ]
  },
  {
   "cell_type": "code",
   "execution_count": 21,
   "id": "f3c3d472",
   "metadata": {},
   "outputs": [],
   "source": [
    "# l == temp"
   ]
  },
  {
   "cell_type": "code",
   "execution_count": 22,
   "id": "87674c39",
   "metadata": {},
   "outputs": [],
   "source": [
    "# len(set(unique).intersection(l))"
   ]
  },
  {
   "cell_type": "code",
   "execution_count": 23,
   "id": "24e0ee10",
   "metadata": {},
   "outputs": [],
   "source": [
    "# len(set(unique))"
   ]
  },
  {
   "cell_type": "code",
   "execution_count": 24,
   "id": "5dba3eb0",
   "metadata": {},
   "outputs": [],
   "source": [
    "# len(set(unique).intersection([x.upper().strip() for x in l]))"
   ]
  },
  {
   "cell_type": "code",
   "execution_count": null,
   "id": "15cc02b0",
   "metadata": {},
   "outputs": [],
   "source": []
  },
  {
   "cell_type": "code",
   "execution_count": 25,
   "id": "041a9afe",
   "metadata": {},
   "outputs": [
    {
     "name": "stdout",
     "output_type": "stream",
     "text": [
      "Model initialized. N_features = 19765, N_labels = 9. Metrics are {'accuracy': <function accuracy at 0x7f9234573f70>, 'precision': <function precision at 0x7f92345975e0>, 'recall': <function recall at 0x7f9234597700>} and weighted_metrics = False\n"
     ]
    }
   ],
   "source": [
    "train = GeneExpressionData(datafiles[0], labelfiles[0], 'Type', skip=3)\n",
    "loader = DataLoader(train, batch_size=4)\n",
    "\n",
    "model = GeneClassifier(\n",
    "    N_features=len(train.columns),\n",
    "    N_labels=len(train.labels)\n",
    ")"
   ]
  },
  {
   "cell_type": "code",
   "execution_count": 26,
   "id": "842f0356",
   "metadata": {
    "scrolled": true
   },
   "outputs": [
    {
     "data": {
      "text/plain": [
       "tensor([[2.8467, 0.0000, 0.0000,  ..., 0.0000, 0.0000, 0.0000],\n",
       "        [0.0000, 0.0000, 0.0000,  ..., 0.0000, 0.0000, 0.0000],\n",
       "        [0.0000, 1.8507, 0.0000,  ..., 0.0000, 0.0000, 0.0000],\n",
       "        [1.6067, 0.0000, 0.0000,  ..., 0.0000, 0.0000, 0.0000]])"
      ]
     },
     "execution_count": 26,
     "metadata": {},
     "output_type": "execute_result"
    }
   ],
   "source": [
    "sample = next(iter(loader))[0]\n",
    "sample"
   ]
  },
  {
   "cell_type": "code",
   "execution_count": 27,
   "id": "338da83c",
   "metadata": {},
   "outputs": [],
   "source": [
    "# %%timeit\n",
    "\n",
    "# model(sample)"
   ]
  },
  {
   "cell_type": "markdown",
   "id": "ab419a27",
   "metadata": {},
   "source": [
    "Now let's time iterating over our dataloader with and without the extra data cleaning"
   ]
  },
  {
   "cell_type": "code",
   "execution_count": 28,
   "id": "ea73cfb3",
   "metadata": {
    "scrolled": true
   },
   "outputs": [],
   "source": [
    "# for X, y in tqdm(loader):\n",
    "#     X\n",
    "#     model(X)"
   ]
  },
  {
   "cell_type": "code",
   "execution_count": 29,
   "id": "7dacaa60",
   "metadata": {
    "scrolled": true
   },
   "outputs": [
    {
     "name": "stdout",
     "output_type": "stream",
     "text": [
      "Model initialized. N_features = 16604, N_labels = 9. Metrics are {'accuracy': <function accuracy at 0x7f9234573f70>, 'precision': <function precision at 0x7f92345975e0>, 'recall': <function recall at 0x7f9234597700>} and weighted_metrics = False\n"
     ]
    }
   ],
   "source": [
    "train = GeneExpressionData(datafiles[0], labelfiles[0], 'Type', skip=3)\n",
    "loader = DataLoader(train, batch_size=4)\n",
    "\n",
    "model = GeneClassifier(\n",
    "    N_features=len(refgenes),\n",
    "    N_labels=len(train.labels)\n",
    ")\n",
    "\n",
    "# for X, y in tqdm(loader):\n",
    "#     X = clean_sample(X, refgenes, train.columns)\n",
    "#     model(X)"
   ]
  },
  {
   "cell_type": "code",
   "execution_count": 30,
   "id": "a0a9595c",
   "metadata": {},
   "outputs": [],
   "source": [
    "df1_data = GeneExpressionData(datafiles[0], labelfiles[0], 'Type', skip=3)\n",
    "df2_data = GeneExpressionData(datafiles[1], labelfiles[1], 'Type', skip=2)\n",
    "df3_data = GeneExpressionData(datafiles[2], labelfiles[2], 'Type', skip=3)\n",
    "df4_data = GeneExpressionData(datafiles[3], labelfiles[3], 'Type', skip=3)"
   ]
  },
  {
   "cell_type": "code",
   "execution_count": 31,
   "id": "a9ec1db9",
   "metadata": {},
   "outputs": [
    {
     "data": {
      "text/plain": [
       "(tensor([0., 0., 0.,  ..., 0., 0., 0.]), 7)"
      ]
     },
     "execution_count": 31,
     "metadata": {},
     "output_type": "execute_result"
    }
   ],
   "source": [
    "df3_data[0]"
   ]
  },
  {
   "cell_type": "code",
   "execution_count": 32,
   "id": "29ab9245",
   "metadata": {},
   "outputs": [
    {
     "data": {
      "text/plain": [
       "(tensor([0., 0., 0.,  ..., 0., 0., 0.]), 16)"
      ]
     },
     "execution_count": 32,
     "metadata": {},
     "output_type": "execute_result"
    }
   ],
   "source": [
    "df4_data[0]"
   ]
  },
  {
   "cell_type": "code",
   "execution_count": 33,
   "id": "8c9f4b4f",
   "metadata": {
    "scrolled": false
   },
   "outputs": [],
   "source": [
    "from src.models.lib.data import _generate_stratified_dataset\n",
    "\n",
    "train, test = _generate_stratified_dataset(\n",
    "        dataset_files=datafiles,\n",
    "        label_files=labelfiles,\n",
    "        class_label='Type',\n",
    "    )\n"
   ]
  },
  {
   "cell_type": "code",
   "execution_count": 34,
   "id": "b6d626a1",
   "metadata": {},
   "outputs": [],
   "source": [
    "# train[0]"
   ]
  },
  {
   "cell_type": "markdown",
   "id": "7abbb868",
   "metadata": {},
   "source": [
    "We can see that it's much faster to clean the sample on each minibatch, since numpy clearly scales well under-the-hood. Therefore, we'll have to write a manual training loop as we can no longer use pytorch lightning."
   ]
  },
  {
   "cell_type": "code",
   "execution_count": 35,
   "id": "f34758e2",
   "metadata": {},
   "outputs": [],
   "source": [
    "from pytorch_lightning import Trainer\n",
    "\n",
    "# train = GeneExpressionData(datafiles[0], labelfiles[0], 'Type', skip=3)\n",
    "# loader = DataLoader(train, batch_size=4)\n",
    "\n",
    "# model = GeneClassifier(\n",
    "#     N_features=len(train.columns),\n",
    "#     load\n",
    "# )"
   ]
  },
  {
   "cell_type": "code",
   "execution_count": 36,
   "id": "54c69044",
   "metadata": {},
   "outputs": [],
   "source": [
    "# combined, test, insize, numlabels, weights = generate_datasets(datafiles, labelfiles, 'Type')\n",
    "# numlabels"
   ]
  },
  {
   "cell_type": "code",
   "execution_count": 37,
   "id": "8e1dd22b",
   "metadata": {},
   "outputs": [
    {
     "name": "stdout",
     "output_type": "stream",
     "text": [
      "Model initialized. N_features = 19765, N_labels = 17. Metrics are {'accuracy': <function accuracy at 0x7f9234573f70>, 'precision': <function precision at 0x7f92345975e0>, 'recall': <function recall at 0x7f9234597700>} and weighted_metrics = False\n"
     ]
    }
   ],
   "source": [
    "train = GeneExpressionData(datafiles[0], labelfiles[0], 'Type', skip=3)\n",
    "trainloader = DataLoader(train, batch_size=4)\n",
    "\n",
    "net = GeneClassifier(\n",
    "    N_features=len(train.columns),\n",
    "    N_labels=max(train.labels)\n",
    ")"
   ]
  },
  {
   "cell_type": "code",
   "execution_count": 38,
   "id": "2aec7ee9",
   "metadata": {},
   "outputs": [],
   "source": [
    "loaders = []\n",
    "refgenes = gene_intersection()"
   ]
  },
  {
   "cell_type": "code",
   "execution_count": 39,
   "id": "27bbbb04",
   "metadata": {},
   "outputs": [],
   "source": [
    "for datafile, labelfile in zip(datafiles, labelfiles):\n",
    "    data = GeneExpressionData(\n",
    "            datafile,\n",
    "            labelfile,\n",
    "            'Type',\n",
    "            cast=False,\n",
    "    )\n",
    "    \n",
    "#     print(data[0][0][0:5])\n",
    "    loaders.append(data)"
   ]
  },
  {
   "cell_type": "code",
   "execution_count": 40,
   "id": "a0cccb93",
   "metadata": {},
   "outputs": [],
   "source": [
    "# for data in loaders:\n",
    "#     print(data.name)\n",
    "#     print(data[0][0][0:5])"
   ]
  },
  {
   "cell_type": "code",
   "execution_count": 41,
   "id": "a40988a5",
   "metadata": {},
   "outputs": [],
   "source": [
    "loaders = [DataLoader(data, batch_size=4) for data in loaders]"
   ]
  },
  {
   "cell_type": "code",
   "execution_count": 42,
   "id": "d98b3a6f",
   "metadata": {},
   "outputs": [],
   "source": [
    "df1 = pd.read_csv(datafiles[0], nrows=75, header=1)\n",
    "df2 = pd.read_csv(datafiles[1], nrows=75, header=1)\n",
    "df3 = pd.read_csv(datafiles[2], nrows=75, header=1)\n",
    "df4 = pd.read_csv(datafiles[3], nrows=75, header=1)\n",
    "\n",
    "df1_labels = pd.read_csv(labelfiles[0])\n",
    "df2_labels = pd.read_csv(labelfiles[1])\n",
    "df3_labels = pd.read_csv(labelfiles[2])\n",
    "df4_labels = pd.read_csv(labelfiles[3])"
   ]
  },
  {
   "cell_type": "code",
   "execution_count": 43,
   "id": "f0bd59a4",
   "metadata": {
    "scrolled": true
   },
   "outputs": [
    {
     "data": {
      "text/plain": [
       "189404"
      ]
     },
     "execution_count": 43,
     "metadata": {},
     "output_type": "execute_result"
    }
   ],
   "source": [
    "df1_labels.loc[186471, 'cell']"
   ]
  },
  {
   "cell_type": "code",
   "execution_count": 44,
   "id": "08bc8f69",
   "metadata": {},
   "outputs": [
    {
     "data": {
      "text/plain": [
       "4     122958\n",
       "16     29563\n",
       "7      20609\n",
       "8       4510\n",
       "6       3863\n",
       "17      2451\n",
       "11      1888\n",
       "9        363\n",
       "3        271\n",
       "Name: Type, dtype: int64"
      ]
     },
     "execution_count": 44,
     "metadata": {},
     "output_type": "execute_result"
    }
   ],
   "source": [
    "df1_labels['Type'].value_counts()"
   ]
  },
  {
   "cell_type": "code",
   "execution_count": 45,
   "id": "4c4d43f6",
   "metadata": {
    "scrolled": true
   },
   "outputs": [
    {
     "data": {
      "text/html": [
       "<div>\n",
       "<style scoped>\n",
       "    .dataframe tbody tr th:only-of-type {\n",
       "        vertical-align: middle;\n",
       "    }\n",
       "\n",
       "    .dataframe tbody tr th {\n",
       "        vertical-align: top;\n",
       "    }\n",
       "\n",
       "    .dataframe thead th {\n",
       "        text-align: right;\n",
       "    }\n",
       "</style>\n",
       "<table border=\"1\" class=\"dataframe\">\n",
       "  <thead>\n",
       "    <tr style=\"text-align: right;\">\n",
       "      <th></th>\n",
       "      <th>DDX11L1|DDX11L1</th>\n",
       "      <th>WASH7P|WASH7P</th>\n",
       "      <th>MIR6859-1|MIR6859-1</th>\n",
       "      <th>MIR1302-2|MIR1302-2</th>\n",
       "      <th>FAM138A|FAM138A</th>\n",
       "      <th>LOC105379212|LOC105379212</th>\n",
       "      <th>OR4G4P|OR4G4P</th>\n",
       "      <th>OR4G11P|OR4G11P</th>\n",
       "      <th>OR4F5|OR4F5</th>\n",
       "      <th>LOC105379213|LOC105379213</th>\n",
       "      <th>...</th>\n",
       "      <th>LOC105374091|LOC105374091</th>\n",
       "      <th>PLXNA1|PLXNA1</th>\n",
       "      <th>LOC105374092|LOC105374092</th>\n",
       "      <th>C3orf56|C3orf56</th>\n",
       "      <th>LOC101060159|LOC101060159</th>\n",
       "      <th>LOC105374093|LOC105374093</th>\n",
       "      <th>LOC100419008|LOC100419008</th>\n",
       "      <th>LOC101927123|LOC101927123</th>\n",
       "      <th>LOC105374094|LOC105374094</th>\n",
       "      <th>LINC01471|LINC01471</th>\n",
       "    </tr>\n",
       "  </thead>\n",
       "  <tbody>\n",
       "    <tr>\n",
       "      <th>0</th>\n",
       "      <td>0</td>\n",
       "      <td>0</td>\n",
       "      <td>0</td>\n",
       "      <td>0</td>\n",
       "      <td>0</td>\n",
       "      <td>0</td>\n",
       "      <td>0</td>\n",
       "      <td>0</td>\n",
       "      <td>0</td>\n",
       "      <td>0</td>\n",
       "      <td>...</td>\n",
       "      <td>0</td>\n",
       "      <td>0</td>\n",
       "      <td>0</td>\n",
       "      <td>0</td>\n",
       "      <td>0</td>\n",
       "      <td>0</td>\n",
       "      <td>0</td>\n",
       "      <td>0</td>\n",
       "      <td>0</td>\n",
       "      <td>0</td>\n",
       "    </tr>\n",
       "    <tr>\n",
       "      <th>1</th>\n",
       "      <td>0</td>\n",
       "      <td>0</td>\n",
       "      <td>0</td>\n",
       "      <td>0</td>\n",
       "      <td>0</td>\n",
       "      <td>0</td>\n",
       "      <td>0</td>\n",
       "      <td>0</td>\n",
       "      <td>0</td>\n",
       "      <td>0</td>\n",
       "      <td>...</td>\n",
       "      <td>0</td>\n",
       "      <td>0</td>\n",
       "      <td>0</td>\n",
       "      <td>0</td>\n",
       "      <td>0</td>\n",
       "      <td>0</td>\n",
       "      <td>0</td>\n",
       "      <td>0</td>\n",
       "      <td>0</td>\n",
       "      <td>0</td>\n",
       "    </tr>\n",
       "    <tr>\n",
       "      <th>2</th>\n",
       "      <td>0</td>\n",
       "      <td>0</td>\n",
       "      <td>0</td>\n",
       "      <td>0</td>\n",
       "      <td>0</td>\n",
       "      <td>0</td>\n",
       "      <td>0</td>\n",
       "      <td>0</td>\n",
       "      <td>0</td>\n",
       "      <td>0</td>\n",
       "      <td>...</td>\n",
       "      <td>0</td>\n",
       "      <td>0</td>\n",
       "      <td>0</td>\n",
       "      <td>0</td>\n",
       "      <td>0</td>\n",
       "      <td>0</td>\n",
       "      <td>0</td>\n",
       "      <td>0</td>\n",
       "      <td>0</td>\n",
       "      <td>0</td>\n",
       "    </tr>\n",
       "    <tr>\n",
       "      <th>3</th>\n",
       "      <td>0</td>\n",
       "      <td>0</td>\n",
       "      <td>0</td>\n",
       "      <td>0</td>\n",
       "      <td>0</td>\n",
       "      <td>0</td>\n",
       "      <td>0</td>\n",
       "      <td>0</td>\n",
       "      <td>0</td>\n",
       "      <td>0</td>\n",
       "      <td>...</td>\n",
       "      <td>0</td>\n",
       "      <td>0</td>\n",
       "      <td>0</td>\n",
       "      <td>0</td>\n",
       "      <td>0</td>\n",
       "      <td>0</td>\n",
       "      <td>0</td>\n",
       "      <td>0</td>\n",
       "      <td>0</td>\n",
       "      <td>0</td>\n",
       "    </tr>\n",
       "    <tr>\n",
       "      <th>4</th>\n",
       "      <td>0</td>\n",
       "      <td>0</td>\n",
       "      <td>0</td>\n",
       "      <td>0</td>\n",
       "      <td>0</td>\n",
       "      <td>0</td>\n",
       "      <td>0</td>\n",
       "      <td>0</td>\n",
       "      <td>0</td>\n",
       "      <td>0</td>\n",
       "      <td>...</td>\n",
       "      <td>0</td>\n",
       "      <td>0</td>\n",
       "      <td>0</td>\n",
       "      <td>0</td>\n",
       "      <td>0</td>\n",
       "      <td>0</td>\n",
       "      <td>0</td>\n",
       "      <td>0</td>\n",
       "      <td>0</td>\n",
       "      <td>0</td>\n",
       "    </tr>\n",
       "    <tr>\n",
       "      <th>...</th>\n",
       "      <td>...</td>\n",
       "      <td>...</td>\n",
       "      <td>...</td>\n",
       "      <td>...</td>\n",
       "      <td>...</td>\n",
       "      <td>...</td>\n",
       "      <td>...</td>\n",
       "      <td>...</td>\n",
       "      <td>...</td>\n",
       "      <td>...</td>\n",
       "      <td>...</td>\n",
       "      <td>...</td>\n",
       "      <td>...</td>\n",
       "      <td>...</td>\n",
       "      <td>...</td>\n",
       "      <td>...</td>\n",
       "      <td>...</td>\n",
       "      <td>...</td>\n",
       "      <td>...</td>\n",
       "      <td>...</td>\n",
       "      <td>...</td>\n",
       "    </tr>\n",
       "    <tr>\n",
       "      <th>70</th>\n",
       "      <td>0</td>\n",
       "      <td>0</td>\n",
       "      <td>0</td>\n",
       "      <td>0</td>\n",
       "      <td>0</td>\n",
       "      <td>0</td>\n",
       "      <td>0</td>\n",
       "      <td>0</td>\n",
       "      <td>0</td>\n",
       "      <td>0</td>\n",
       "      <td>...</td>\n",
       "      <td>0</td>\n",
       "      <td>1</td>\n",
       "      <td>0</td>\n",
       "      <td>0</td>\n",
       "      <td>0</td>\n",
       "      <td>0</td>\n",
       "      <td>0</td>\n",
       "      <td>0</td>\n",
       "      <td>0</td>\n",
       "      <td>0</td>\n",
       "    </tr>\n",
       "    <tr>\n",
       "      <th>71</th>\n",
       "      <td>0</td>\n",
       "      <td>0</td>\n",
       "      <td>0</td>\n",
       "      <td>0</td>\n",
       "      <td>0</td>\n",
       "      <td>0</td>\n",
       "      <td>0</td>\n",
       "      <td>0</td>\n",
       "      <td>0</td>\n",
       "      <td>0</td>\n",
       "      <td>...</td>\n",
       "      <td>0</td>\n",
       "      <td>0</td>\n",
       "      <td>0</td>\n",
       "      <td>0</td>\n",
       "      <td>0</td>\n",
       "      <td>0</td>\n",
       "      <td>0</td>\n",
       "      <td>0</td>\n",
       "      <td>0</td>\n",
       "      <td>0</td>\n",
       "    </tr>\n",
       "    <tr>\n",
       "      <th>72</th>\n",
       "      <td>0</td>\n",
       "      <td>0</td>\n",
       "      <td>0</td>\n",
       "      <td>0</td>\n",
       "      <td>0</td>\n",
       "      <td>0</td>\n",
       "      <td>0</td>\n",
       "      <td>0</td>\n",
       "      <td>0</td>\n",
       "      <td>0</td>\n",
       "      <td>...</td>\n",
       "      <td>0</td>\n",
       "      <td>0</td>\n",
       "      <td>0</td>\n",
       "      <td>0</td>\n",
       "      <td>0</td>\n",
       "      <td>0</td>\n",
       "      <td>0</td>\n",
       "      <td>0</td>\n",
       "      <td>0</td>\n",
       "      <td>0</td>\n",
       "    </tr>\n",
       "    <tr>\n",
       "      <th>73</th>\n",
       "      <td>0</td>\n",
       "      <td>0</td>\n",
       "      <td>0</td>\n",
       "      <td>0</td>\n",
       "      <td>0</td>\n",
       "      <td>0</td>\n",
       "      <td>0</td>\n",
       "      <td>0</td>\n",
       "      <td>0</td>\n",
       "      <td>0</td>\n",
       "      <td>...</td>\n",
       "      <td>0</td>\n",
       "      <td>0</td>\n",
       "      <td>0</td>\n",
       "      <td>0</td>\n",
       "      <td>0</td>\n",
       "      <td>0</td>\n",
       "      <td>0</td>\n",
       "      <td>0</td>\n",
       "      <td>0</td>\n",
       "      <td>0</td>\n",
       "    </tr>\n",
       "    <tr>\n",
       "      <th>74</th>\n",
       "      <td>0</td>\n",
       "      <td>0</td>\n",
       "      <td>0</td>\n",
       "      <td>0</td>\n",
       "      <td>0</td>\n",
       "      <td>0</td>\n",
       "      <td>0</td>\n",
       "      <td>0</td>\n",
       "      <td>0</td>\n",
       "      <td>0</td>\n",
       "      <td>...</td>\n",
       "      <td>0</td>\n",
       "      <td>0</td>\n",
       "      <td>0</td>\n",
       "      <td>0</td>\n",
       "      <td>0</td>\n",
       "      <td>0</td>\n",
       "      <td>0</td>\n",
       "      <td>0</td>\n",
       "      <td>0</td>\n",
       "      <td>0</td>\n",
       "    </tr>\n",
       "  </tbody>\n",
       "</table>\n",
       "<p>75 rows × 50281 columns</p>\n",
       "</div>"
      ],
      "text/plain": [
       "    DDX11L1|DDX11L1  WASH7P|WASH7P  MIR6859-1|MIR6859-1  MIR1302-2|MIR1302-2  \\\n",
       "0                 0              0                    0                    0   \n",
       "1                 0              0                    0                    0   \n",
       "2                 0              0                    0                    0   \n",
       "3                 0              0                    0                    0   \n",
       "4                 0              0                    0                    0   \n",
       "..              ...            ...                  ...                  ...   \n",
       "70                0              0                    0                    0   \n",
       "71                0              0                    0                    0   \n",
       "72                0              0                    0                    0   \n",
       "73                0              0                    0                    0   \n",
       "74                0              0                    0                    0   \n",
       "\n",
       "    FAM138A|FAM138A  LOC105379212|LOC105379212  OR4G4P|OR4G4P  \\\n",
       "0                 0                          0              0   \n",
       "1                 0                          0              0   \n",
       "2                 0                          0              0   \n",
       "3                 0                          0              0   \n",
       "4                 0                          0              0   \n",
       "..              ...                        ...            ...   \n",
       "70                0                          0              0   \n",
       "71                0                          0              0   \n",
       "72                0                          0              0   \n",
       "73                0                          0              0   \n",
       "74                0                          0              0   \n",
       "\n",
       "    OR4G11P|OR4G11P  OR4F5|OR4F5  LOC105379213|LOC105379213  ...  \\\n",
       "0                 0            0                          0  ...   \n",
       "1                 0            0                          0  ...   \n",
       "2                 0            0                          0  ...   \n",
       "3                 0            0                          0  ...   \n",
       "4                 0            0                          0  ...   \n",
       "..              ...          ...                        ...  ...   \n",
       "70                0            0                          0  ...   \n",
       "71                0            0                          0  ...   \n",
       "72                0            0                          0  ...   \n",
       "73                0            0                          0  ...   \n",
       "74                0            0                          0  ...   \n",
       "\n",
       "    LOC105374091|LOC105374091  PLXNA1|PLXNA1  LOC105374092|LOC105374092  \\\n",
       "0                           0              0                          0   \n",
       "1                           0              0                          0   \n",
       "2                           0              0                          0   \n",
       "3                           0              0                          0   \n",
       "4                           0              0                          0   \n",
       "..                        ...            ...                        ...   \n",
       "70                          0              1                          0   \n",
       "71                          0              0                          0   \n",
       "72                          0              0                          0   \n",
       "73                          0              0                          0   \n",
       "74                          0              0                          0   \n",
       "\n",
       "    C3orf56|C3orf56  LOC101060159|LOC101060159  LOC105374093|LOC105374093  \\\n",
       "0                 0                          0                          0   \n",
       "1                 0                          0                          0   \n",
       "2                 0                          0                          0   \n",
       "3                 0                          0                          0   \n",
       "4                 0                          0                          0   \n",
       "..              ...                        ...                        ...   \n",
       "70                0                          0                          0   \n",
       "71                0                          0                          0   \n",
       "72                0                          0                          0   \n",
       "73                0                          0                          0   \n",
       "74                0                          0                          0   \n",
       "\n",
       "    LOC100419008|LOC100419008  LOC101927123|LOC101927123  \\\n",
       "0                           0                          0   \n",
       "1                           0                          0   \n",
       "2                           0                          0   \n",
       "3                           0                          0   \n",
       "4                           0                          0   \n",
       "..                        ...                        ...   \n",
       "70                          0                          0   \n",
       "71                          0                          0   \n",
       "72                          0                          0   \n",
       "73                          0                          0   \n",
       "74                          0                          0   \n",
       "\n",
       "    LOC105374094|LOC105374094  LINC01471|LINC01471  \n",
       "0                           0                    0  \n",
       "1                           0                    0  \n",
       "2                           0                    0  \n",
       "3                           0                    0  \n",
       "4                           0                    0  \n",
       "..                        ...                  ...  \n",
       "70                          0                    0  \n",
       "71                          0                    0  \n",
       "72                          0                    0  \n",
       "73                          0                    0  \n",
       "74                          0                    0  \n",
       "\n",
       "[75 rows x 50281 columns]"
      ]
     },
     "execution_count": 45,
     "metadata": {},
     "output_type": "execute_result"
    }
   ],
   "source": [
    "df3"
   ]
  },
  {
   "cell_type": "code",
   "execution_count": 46,
   "id": "f48f71ee",
   "metadata": {
    "scrolled": true
   },
   "outputs": [
    {
     "data": {
      "text/html": [
       "<div>\n",
       "<style scoped>\n",
       "    .dataframe tbody tr th:only-of-type {\n",
       "        vertical-align: middle;\n",
       "    }\n",
       "\n",
       "    .dataframe tbody tr th {\n",
       "        vertical-align: top;\n",
       "    }\n",
       "\n",
       "    .dataframe thead th {\n",
       "        text-align: right;\n",
       "    }\n",
       "</style>\n",
       "<table border=\"1\" class=\"dataframe\">\n",
       "  <thead>\n",
       "    <tr style=\"text-align: right;\">\n",
       "      <th></th>\n",
       "      <th>RP11-34P13.7|RP11-34P13.7</th>\n",
       "      <th>FO538757.2|FO538757.2</th>\n",
       "      <th>AP006222.2|AP006222.2</th>\n",
       "      <th>RP4-669L17.10|RP4-669L17.10</th>\n",
       "      <th>RP11-206L10.9|RP11-206L10.9</th>\n",
       "      <th>LINC00115|LINC00115</th>\n",
       "      <th>FAM41C|FAM41C</th>\n",
       "      <th>RP11-54O7.16|RP11-54O7.16</th>\n",
       "      <th>RP11-54O7.1|RP11-54O7.1</th>\n",
       "      <th>RP11-54O7.2|RP11-54O7.2</th>\n",
       "      <th>...</th>\n",
       "      <th>FADS2|FADS2</th>\n",
       "      <th>FADS1|FADS1</th>\n",
       "      <th>FADS3|FADS3</th>\n",
       "      <th>BEST1|BEST1</th>\n",
       "      <th>FTH1|FTH1</th>\n",
       "      <th>RP11-810P12.5|RP11-810P12.5</th>\n",
       "      <th>INCENP|INCENP</th>\n",
       "      <th>RP11-703H8.7|RP11-703H8.7</th>\n",
       "      <th>ASRGL1|ASRGL1</th>\n",
       "      <th>CTD-2531D15.5|CTD-2531D15.5</th>\n",
       "    </tr>\n",
       "  </thead>\n",
       "  <tbody>\n",
       "    <tr>\n",
       "      <th>0</th>\n",
       "      <td>0</td>\n",
       "      <td>0</td>\n",
       "      <td>0</td>\n",
       "      <td>0</td>\n",
       "      <td>0</td>\n",
       "      <td>1</td>\n",
       "      <td>0</td>\n",
       "      <td>0</td>\n",
       "      <td>0</td>\n",
       "      <td>0</td>\n",
       "      <td>...</td>\n",
       "      <td>0</td>\n",
       "      <td>0</td>\n",
       "      <td>0</td>\n",
       "      <td>0</td>\n",
       "      <td>0</td>\n",
       "      <td>0</td>\n",
       "      <td>0</td>\n",
       "      <td>0</td>\n",
       "      <td>0</td>\n",
       "      <td>0</td>\n",
       "    </tr>\n",
       "    <tr>\n",
       "      <th>1</th>\n",
       "      <td>0</td>\n",
       "      <td>1</td>\n",
       "      <td>0</td>\n",
       "      <td>0</td>\n",
       "      <td>0</td>\n",
       "      <td>0</td>\n",
       "      <td>0</td>\n",
       "      <td>0</td>\n",
       "      <td>0</td>\n",
       "      <td>0</td>\n",
       "      <td>...</td>\n",
       "      <td>0</td>\n",
       "      <td>0</td>\n",
       "      <td>0</td>\n",
       "      <td>0</td>\n",
       "      <td>0</td>\n",
       "      <td>0</td>\n",
       "      <td>0</td>\n",
       "      <td>0</td>\n",
       "      <td>0</td>\n",
       "      <td>0</td>\n",
       "    </tr>\n",
       "    <tr>\n",
       "      <th>2</th>\n",
       "      <td>0</td>\n",
       "      <td>1</td>\n",
       "      <td>0</td>\n",
       "      <td>0</td>\n",
       "      <td>0</td>\n",
       "      <td>0</td>\n",
       "      <td>0</td>\n",
       "      <td>0</td>\n",
       "      <td>0</td>\n",
       "      <td>0</td>\n",
       "      <td>...</td>\n",
       "      <td>0</td>\n",
       "      <td>0</td>\n",
       "      <td>0</td>\n",
       "      <td>0</td>\n",
       "      <td>0</td>\n",
       "      <td>0</td>\n",
       "      <td>0</td>\n",
       "      <td>0</td>\n",
       "      <td>0</td>\n",
       "      <td>0</td>\n",
       "    </tr>\n",
       "    <tr>\n",
       "      <th>3</th>\n",
       "      <td>0</td>\n",
       "      <td>1</td>\n",
       "      <td>0</td>\n",
       "      <td>0</td>\n",
       "      <td>0</td>\n",
       "      <td>0</td>\n",
       "      <td>0</td>\n",
       "      <td>0</td>\n",
       "      <td>0</td>\n",
       "      <td>0</td>\n",
       "      <td>...</td>\n",
       "      <td>0</td>\n",
       "      <td>0</td>\n",
       "      <td>0</td>\n",
       "      <td>0</td>\n",
       "      <td>0</td>\n",
       "      <td>0</td>\n",
       "      <td>0</td>\n",
       "      <td>0</td>\n",
       "      <td>0</td>\n",
       "      <td>0</td>\n",
       "    </tr>\n",
       "    <tr>\n",
       "      <th>4</th>\n",
       "      <td>0</td>\n",
       "      <td>1</td>\n",
       "      <td>0</td>\n",
       "      <td>0</td>\n",
       "      <td>0</td>\n",
       "      <td>0</td>\n",
       "      <td>0</td>\n",
       "      <td>0</td>\n",
       "      <td>0</td>\n",
       "      <td>0</td>\n",
       "      <td>...</td>\n",
       "      <td>0</td>\n",
       "      <td>0</td>\n",
       "      <td>0</td>\n",
       "      <td>0</td>\n",
       "      <td>0</td>\n",
       "      <td>0</td>\n",
       "      <td>0</td>\n",
       "      <td>0</td>\n",
       "      <td>0</td>\n",
       "      <td>0</td>\n",
       "    </tr>\n",
       "    <tr>\n",
       "      <th>...</th>\n",
       "      <td>...</td>\n",
       "      <td>...</td>\n",
       "      <td>...</td>\n",
       "      <td>...</td>\n",
       "      <td>...</td>\n",
       "      <td>...</td>\n",
       "      <td>...</td>\n",
       "      <td>...</td>\n",
       "      <td>...</td>\n",
       "      <td>...</td>\n",
       "      <td>...</td>\n",
       "      <td>...</td>\n",
       "      <td>...</td>\n",
       "      <td>...</td>\n",
       "      <td>...</td>\n",
       "      <td>...</td>\n",
       "      <td>...</td>\n",
       "      <td>...</td>\n",
       "      <td>...</td>\n",
       "      <td>...</td>\n",
       "      <td>...</td>\n",
       "    </tr>\n",
       "    <tr>\n",
       "      <th>70</th>\n",
       "      <td>0</td>\n",
       "      <td>0</td>\n",
       "      <td>0</td>\n",
       "      <td>0</td>\n",
       "      <td>0</td>\n",
       "      <td>0</td>\n",
       "      <td>0</td>\n",
       "      <td>0</td>\n",
       "      <td>0</td>\n",
       "      <td>0</td>\n",
       "      <td>...</td>\n",
       "      <td>0</td>\n",
       "      <td>0</td>\n",
       "      <td>0</td>\n",
       "      <td>0</td>\n",
       "      <td>0</td>\n",
       "      <td>0</td>\n",
       "      <td>0</td>\n",
       "      <td>0</td>\n",
       "      <td>0</td>\n",
       "      <td>0</td>\n",
       "    </tr>\n",
       "    <tr>\n",
       "      <th>71</th>\n",
       "      <td>0</td>\n",
       "      <td>0</td>\n",
       "      <td>1</td>\n",
       "      <td>0</td>\n",
       "      <td>0</td>\n",
       "      <td>0</td>\n",
       "      <td>0</td>\n",
       "      <td>0</td>\n",
       "      <td>0</td>\n",
       "      <td>0</td>\n",
       "      <td>...</td>\n",
       "      <td>0</td>\n",
       "      <td>0</td>\n",
       "      <td>0</td>\n",
       "      <td>0</td>\n",
       "      <td>0</td>\n",
       "      <td>0</td>\n",
       "      <td>0</td>\n",
       "      <td>0</td>\n",
       "      <td>0</td>\n",
       "      <td>0</td>\n",
       "    </tr>\n",
       "    <tr>\n",
       "      <th>72</th>\n",
       "      <td>0</td>\n",
       "      <td>0</td>\n",
       "      <td>0</td>\n",
       "      <td>0</td>\n",
       "      <td>0</td>\n",
       "      <td>0</td>\n",
       "      <td>0</td>\n",
       "      <td>0</td>\n",
       "      <td>0</td>\n",
       "      <td>0</td>\n",
       "      <td>...</td>\n",
       "      <td>0</td>\n",
       "      <td>0</td>\n",
       "      <td>0</td>\n",
       "      <td>0</td>\n",
       "      <td>0</td>\n",
       "      <td>0</td>\n",
       "      <td>0</td>\n",
       "      <td>0</td>\n",
       "      <td>0</td>\n",
       "      <td>0</td>\n",
       "    </tr>\n",
       "    <tr>\n",
       "      <th>73</th>\n",
       "      <td>0</td>\n",
       "      <td>1</td>\n",
       "      <td>0</td>\n",
       "      <td>0</td>\n",
       "      <td>0</td>\n",
       "      <td>0</td>\n",
       "      <td>0</td>\n",
       "      <td>0</td>\n",
       "      <td>0</td>\n",
       "      <td>0</td>\n",
       "      <td>...</td>\n",
       "      <td>0</td>\n",
       "      <td>0</td>\n",
       "      <td>0</td>\n",
       "      <td>0</td>\n",
       "      <td>0</td>\n",
       "      <td>0</td>\n",
       "      <td>0</td>\n",
       "      <td>0</td>\n",
       "      <td>1</td>\n",
       "      <td>0</td>\n",
       "    </tr>\n",
       "    <tr>\n",
       "      <th>74</th>\n",
       "      <td>0</td>\n",
       "      <td>0</td>\n",
       "      <td>0</td>\n",
       "      <td>0</td>\n",
       "      <td>0</td>\n",
       "      <td>0</td>\n",
       "      <td>0</td>\n",
       "      <td>0</td>\n",
       "      <td>0</td>\n",
       "      <td>0</td>\n",
       "      <td>...</td>\n",
       "      <td>0</td>\n",
       "      <td>0</td>\n",
       "      <td>0</td>\n",
       "      <td>0</td>\n",
       "      <td>0</td>\n",
       "      <td>0</td>\n",
       "      <td>0</td>\n",
       "      <td>0</td>\n",
       "      <td>0</td>\n",
       "      <td>0</td>\n",
       "    </tr>\n",
       "  </tbody>\n",
       "</table>\n",
       "<p>75 rows × 30741 columns</p>\n",
       "</div>"
      ],
      "text/plain": [
       "    RP11-34P13.7|RP11-34P13.7  FO538757.2|FO538757.2  AP006222.2|AP006222.2  \\\n",
       "0                           0                      0                      0   \n",
       "1                           0                      1                      0   \n",
       "2                           0                      1                      0   \n",
       "3                           0                      1                      0   \n",
       "4                           0                      1                      0   \n",
       "..                        ...                    ...                    ...   \n",
       "70                          0                      0                      0   \n",
       "71                          0                      0                      1   \n",
       "72                          0                      0                      0   \n",
       "73                          0                      1                      0   \n",
       "74                          0                      0                      0   \n",
       "\n",
       "    RP4-669L17.10|RP4-669L17.10  RP11-206L10.9|RP11-206L10.9  \\\n",
       "0                             0                            0   \n",
       "1                             0                            0   \n",
       "2                             0                            0   \n",
       "3                             0                            0   \n",
       "4                             0                            0   \n",
       "..                          ...                          ...   \n",
       "70                            0                            0   \n",
       "71                            0                            0   \n",
       "72                            0                            0   \n",
       "73                            0                            0   \n",
       "74                            0                            0   \n",
       "\n",
       "    LINC00115|LINC00115  FAM41C|FAM41C  RP11-54O7.16|RP11-54O7.16  \\\n",
       "0                     1              0                          0   \n",
       "1                     0              0                          0   \n",
       "2                     0              0                          0   \n",
       "3                     0              0                          0   \n",
       "4                     0              0                          0   \n",
       "..                  ...            ...                        ...   \n",
       "70                    0              0                          0   \n",
       "71                    0              0                          0   \n",
       "72                    0              0                          0   \n",
       "73                    0              0                          0   \n",
       "74                    0              0                          0   \n",
       "\n",
       "    RP11-54O7.1|RP11-54O7.1  RP11-54O7.2|RP11-54O7.2  ...  FADS2|FADS2  \\\n",
       "0                         0                        0  ...            0   \n",
       "1                         0                        0  ...            0   \n",
       "2                         0                        0  ...            0   \n",
       "3                         0                        0  ...            0   \n",
       "4                         0                        0  ...            0   \n",
       "..                      ...                      ...  ...          ...   \n",
       "70                        0                        0  ...            0   \n",
       "71                        0                        0  ...            0   \n",
       "72                        0                        0  ...            0   \n",
       "73                        0                        0  ...            0   \n",
       "74                        0                        0  ...            0   \n",
       "\n",
       "    FADS1|FADS1  FADS3|FADS3  BEST1|BEST1  FTH1|FTH1  \\\n",
       "0             0            0            0          0   \n",
       "1             0            0            0          0   \n",
       "2             0            0            0          0   \n",
       "3             0            0            0          0   \n",
       "4             0            0            0          0   \n",
       "..          ...          ...          ...        ...   \n",
       "70            0            0            0          0   \n",
       "71            0            0            0          0   \n",
       "72            0            0            0          0   \n",
       "73            0            0            0          0   \n",
       "74            0            0            0          0   \n",
       "\n",
       "    RP11-810P12.5|RP11-810P12.5  INCENP|INCENP  RP11-703H8.7|RP11-703H8.7  \\\n",
       "0                             0              0                          0   \n",
       "1                             0              0                          0   \n",
       "2                             0              0                          0   \n",
       "3                             0              0                          0   \n",
       "4                             0              0                          0   \n",
       "..                          ...            ...                        ...   \n",
       "70                            0              0                          0   \n",
       "71                            0              0                          0   \n",
       "72                            0              0                          0   \n",
       "73                            0              0                          0   \n",
       "74                            0              0                          0   \n",
       "\n",
       "    ASRGL1|ASRGL1  CTD-2531D15.5|CTD-2531D15.5  \n",
       "0               0                            0  \n",
       "1               0                            0  \n",
       "2               0                            0  \n",
       "3               0                            0  \n",
       "4               0                            0  \n",
       "..            ...                          ...  \n",
       "70              0                            0  \n",
       "71              0                            0  \n",
       "72              0                            0  \n",
       "73              1                            0  \n",
       "74              0                            0  \n",
       "\n",
       "[75 rows x 30741 columns]"
      ]
     },
     "execution_count": 46,
     "metadata": {},
     "output_type": "execute_result"
    }
   ],
   "source": [
    "df4"
   ]
  },
  {
   "cell_type": "code",
   "execution_count": 47,
   "id": "caa7d39b",
   "metadata": {},
   "outputs": [],
   "source": [
    "df1_data = GeneExpressionData(datafiles[0], labelfiles[0], 'Type', skip=3)\n",
    "df2_data = GeneExpressionData(datafiles[1], labelfiles[1], 'Type', skip=3)\n",
    "df3_data = GeneExpressionData(datafiles[2], labelfiles[2], 'Type', skip=3)\n",
    "df4_data = GeneExpressionData(datafiles[3], labelfiles[3], 'Type', skip=3)"
   ]
  },
  {
   "cell_type": "code",
   "execution_count": 48,
   "id": "bec0a086",
   "metadata": {},
   "outputs": [],
   "source": [
    "datasets = [df1_data, df2_data, df3_data, df4_data]"
   ]
  },
  {
   "cell_type": "code",
   "execution_count": 49,
   "id": "03ec6c49",
   "metadata": {},
   "outputs": [
    {
     "name": "stdout",
     "output_type": "stream",
     "text": [
      "['FO538757.2', 'AP006222.2', 'RP11-206L10.9', 'FAM41C', 'NOC2L', 'AGRN', 'C1ORF159', 'ACAP3', 'CPSF3L', 'AURKAIP1']\n",
      "['3.8-1.2', '3.8-1.3', '3.8-1.4', '3.8-1.5', '5-HT3C2', 'A1BG', 'A1BG-AS1', 'A1CF', 'A2M', 'A2M-AS1']\n",
      "['DDX11L1', 'WASH7P', 'MIR6859-1', 'MIR1302-2', 'FAM138A', 'LOC105379212', 'OR4G4P', 'OR4G11P', 'OR4F5', 'LOC105379213']\n",
      "['RP11-34P13.7', 'FO538757.2', 'AP006222.2', 'RP4-669L17.10', 'RP11-206L10.9', 'LINC00115', 'FAM41C', 'RP11-54O7.16', 'RP11-54O7.1', 'RP11-54O7.2']\n"
     ]
    }
   ],
   "source": [
    "for dataset in datasets:\n",
    "    print(dataset.columns[0:10])"
   ]
  },
  {
   "cell_type": "code",
   "execution_count": 50,
   "id": "75d1e97e",
   "metadata": {},
   "outputs": [
    {
     "data": {
      "text/plain": [
       "50281"
      ]
     },
     "execution_count": 50,
     "metadata": {},
     "output_type": "execute_result"
    }
   ],
   "source": [
    "df2_data = GeneExpressionData(datafiles[1], labelfiles[1], 'Type', skip=2)\n",
    "len(df2_data[0][0])"
   ]
  },
  {
   "cell_type": "code",
   "execution_count": 51,
   "id": "c5403791",
   "metadata": {},
   "outputs": [
    {
     "data": {
      "text/plain": [
       "(tensor([0., 0., 0.,  ..., 0., 0., 0.]), 7)"
      ]
     },
     "execution_count": 51,
     "metadata": {},
     "output_type": "execute_result"
    }
   ],
   "source": [
    "df2_data[0]"
   ]
  },
  {
   "cell_type": "code",
   "execution_count": 52,
   "id": "a858e6bf",
   "metadata": {},
   "outputs": [
    {
     "data": {
      "text/plain": [
       "True"
      ]
     },
     "execution_count": 52,
     "metadata": {},
     "output_type": "execute_result"
    }
   ],
   "source": [
    "all(np.isclose(df1_data[0][0], df1.loc[0, :].values))"
   ]
  },
  {
   "cell_type": "code",
   "execution_count": 53,
   "id": "63f421b3",
   "metadata": {},
   "outputs": [
    {
     "data": {
      "text/plain": [
       "True"
      ]
     },
     "execution_count": 53,
     "metadata": {},
     "output_type": "execute_result"
    }
   ],
   "source": [
    "all(np.isclose(df2_data[0][0], df2.loc[0, :].values))"
   ]
  },
  {
   "cell_type": "code",
   "execution_count": 54,
   "id": "4f86e196",
   "metadata": {},
   "outputs": [
    {
     "data": {
      "text/plain": [
       "True"
      ]
     },
     "execution_count": 54,
     "metadata": {},
     "output_type": "execute_result"
    }
   ],
   "source": [
    "all(np.isclose(df3_data[0][0], df3.loc[0, :].values))"
   ]
  },
  {
   "cell_type": "code",
   "execution_count": 55,
   "id": "a565ed7b",
   "metadata": {},
   "outputs": [
    {
     "data": {
      "text/plain": [
       "True"
      ]
     },
     "execution_count": 55,
     "metadata": {},
     "output_type": "execute_result"
    }
   ],
   "source": [
    "all(np.isclose(df3_data[0][0], df3.loc[0, :].values))"
   ]
  },
  {
   "cell_type": "markdown",
   "id": "9871eb81",
   "metadata": {},
   "source": [
    "The falses makes sense since the indices arent being changed when we're reading in the pure dataframes"
   ]
  },
  {
   "cell_type": "code",
   "execution_count": 56,
   "id": "d1f8830d",
   "metadata": {
    "scrolled": true
   },
   "outputs": [
    {
     "data": {
      "text/plain": [
       "tensor([0., 0., 0.,  ..., 0., 0., 0.])"
      ]
     },
     "execution_count": 56,
     "metadata": {},
     "output_type": "execute_result"
    }
   ],
   "source": [
    "k1 = df2_data[0][0]\n",
    "k1"
   ]
  },
  {
   "cell_type": "code",
   "execution_count": 57,
   "id": "3e585971",
   "metadata": {
    "scrolled": true
   },
   "outputs": [
    {
     "data": {
      "text/plain": [
       "28177.153316117652"
      ]
     },
     "execution_count": 57,
     "metadata": {},
     "output_type": "execute_result"
    }
   ],
   "source": [
    "np.linalg.norm(df2.iloc[1, :] - k1.numpy())"
   ]
  },
  {
   "cell_type": "code",
   "execution_count": 58,
   "id": "bd354ccd",
   "metadata": {},
   "outputs": [
    {
     "data": {
      "text/html": [
       "<div>\n",
       "<style scoped>\n",
       "    .dataframe tbody tr th:only-of-type {\n",
       "        vertical-align: middle;\n",
       "    }\n",
       "\n",
       "    .dataframe tbody tr th {\n",
       "        vertical-align: top;\n",
       "    }\n",
       "\n",
       "    .dataframe thead th {\n",
       "        text-align: right;\n",
       "    }\n",
       "</style>\n",
       "<table border=\"1\" class=\"dataframe\">\n",
       "  <thead>\n",
       "    <tr style=\"text-align: right;\">\n",
       "      <th></th>\n",
       "      <th>cell</th>\n",
       "      <th>Type</th>\n",
       "    </tr>\n",
       "  </thead>\n",
       "  <tbody>\n",
       "    <tr>\n",
       "      <th>0</th>\n",
       "      <td>1</td>\n",
       "      <td>7</td>\n",
       "    </tr>\n",
       "    <tr>\n",
       "      <th>1</th>\n",
       "      <td>2</td>\n",
       "      <td>7</td>\n",
       "    </tr>\n",
       "    <tr>\n",
       "      <th>2</th>\n",
       "      <td>3</td>\n",
       "      <td>7</td>\n",
       "    </tr>\n",
       "    <tr>\n",
       "      <th>3</th>\n",
       "      <td>4</td>\n",
       "      <td>7</td>\n",
       "    </tr>\n",
       "    <tr>\n",
       "      <th>4</th>\n",
       "      <td>5</td>\n",
       "      <td>7</td>\n",
       "    </tr>\n",
       "    <tr>\n",
       "      <th>...</th>\n",
       "      <td>...</td>\n",
       "      <td>...</td>\n",
       "    </tr>\n",
       "    <tr>\n",
       "      <th>47504</th>\n",
       "      <td>49489</td>\n",
       "      <td>0</td>\n",
       "    </tr>\n",
       "    <tr>\n",
       "      <th>47505</th>\n",
       "      <td>49490</td>\n",
       "      <td>7</td>\n",
       "    </tr>\n",
       "    <tr>\n",
       "      <th>47506</th>\n",
       "      <td>49491</td>\n",
       "      <td>7</td>\n",
       "    </tr>\n",
       "    <tr>\n",
       "      <th>47507</th>\n",
       "      <td>49492</td>\n",
       "      <td>12</td>\n",
       "    </tr>\n",
       "    <tr>\n",
       "      <th>47508</th>\n",
       "      <td>49493</td>\n",
       "      <td>12</td>\n",
       "    </tr>\n",
       "  </tbody>\n",
       "</table>\n",
       "<p>47509 rows × 2 columns</p>\n",
       "</div>"
      ],
      "text/plain": [
       "        cell  Type\n",
       "0          1     7\n",
       "1          2     7\n",
       "2          3     7\n",
       "3          4     7\n",
       "4          5     7\n",
       "...      ...   ...\n",
       "47504  49489     0\n",
       "47505  49490     7\n",
       "47506  49491     7\n",
       "47507  49492    12\n",
       "47508  49493    12\n",
       "\n",
       "[47509 rows x 2 columns]"
      ]
     },
     "execution_count": 58,
     "metadata": {},
     "output_type": "execute_result"
    }
   ],
   "source": [
    "df2_labels"
   ]
  },
  {
   "cell_type": "code",
   "execution_count": 59,
   "id": "b6ae7cab",
   "metadata": {},
   "outputs": [
    {
     "data": {
      "text/html": [
       "<div>\n",
       "<style scoped>\n",
       "    .dataframe tbody tr th:only-of-type {\n",
       "        vertical-align: middle;\n",
       "    }\n",
       "\n",
       "    .dataframe tbody tr th {\n",
       "        vertical-align: top;\n",
       "    }\n",
       "\n",
       "    .dataframe thead th {\n",
       "        text-align: right;\n",
       "    }\n",
       "</style>\n",
       "<table border=\"1\" class=\"dataframe\">\n",
       "  <thead>\n",
       "    <tr style=\"text-align: right;\">\n",
       "      <th></th>\n",
       "      <th>Unnamed: 0</th>\n",
       "      <th>Type</th>\n",
       "    </tr>\n",
       "  </thead>\n",
       "  <tbody>\n",
       "    <tr>\n",
       "      <th>0</th>\n",
       "      <td>0</td>\n",
       "      <td>Exclude</td>\n",
       "    </tr>\n",
       "    <tr>\n",
       "      <th>1</th>\n",
       "      <td>1</td>\n",
       "      <td>Interneuron</td>\n",
       "    </tr>\n",
       "    <tr>\n",
       "      <th>2</th>\n",
       "      <td>2</td>\n",
       "      <td>Interneuron</td>\n",
       "    </tr>\n",
       "    <tr>\n",
       "      <th>3</th>\n",
       "      <td>3</td>\n",
       "      <td>Interneuron</td>\n",
       "    </tr>\n",
       "    <tr>\n",
       "      <th>4</th>\n",
       "      <td>4</td>\n",
       "      <td>Interneuron</td>\n",
       "    </tr>\n",
       "    <tr>\n",
       "      <th>...</th>\n",
       "      <td>...</td>\n",
       "      <td>...</td>\n",
       "    </tr>\n",
       "    <tr>\n",
       "      <th>49489</th>\n",
       "      <td>49489</td>\n",
       "      <td>Astrocyte</td>\n",
       "    </tr>\n",
       "    <tr>\n",
       "      <th>49490</th>\n",
       "      <td>49490</td>\n",
       "      <td>Interneuron</td>\n",
       "    </tr>\n",
       "    <tr>\n",
       "      <th>49491</th>\n",
       "      <td>49491</td>\n",
       "      <td>Interneuron</td>\n",
       "    </tr>\n",
       "    <tr>\n",
       "      <th>49492</th>\n",
       "      <td>49492</td>\n",
       "      <td>Oligodendrocyte</td>\n",
       "    </tr>\n",
       "    <tr>\n",
       "      <th>49493</th>\n",
       "      <td>49493</td>\n",
       "      <td>Oligodendrocyte</td>\n",
       "    </tr>\n",
       "  </tbody>\n",
       "</table>\n",
       "<p>49494 rows × 2 columns</p>\n",
       "</div>"
      ],
      "text/plain": [
       "       Unnamed: 0             Type\n",
       "0               0          Exclude\n",
       "1               1      Interneuron\n",
       "2               2      Interneuron\n",
       "3               3      Interneuron\n",
       "4               4      Interneuron\n",
       "...           ...              ...\n",
       "49489       49489        Astrocyte\n",
       "49490       49490      Interneuron\n",
       "49491       49491      Interneuron\n",
       "49492       49492  Oligodendrocyte\n",
       "49493       49493  Oligodendrocyte\n",
       "\n",
       "[49494 rows x 2 columns]"
      ]
     },
     "execution_count": 59,
     "metadata": {},
     "output_type": "execute_result"
    }
   ],
   "source": [
    "df2_labels_raw = pd.read_csv('../data/interim/labels/allen_cortex_labels.csv')\n",
    "df2_labels_raw"
   ]
  },
  {
   "cell_type": "code",
   "execution_count": 60,
   "id": "fca1f516",
   "metadata": {},
   "outputs": [
    {
     "data": {
      "text/plain": [
       "(tensor([0., 0., 0.,  ..., 0., 0., 0.]), 7)"
      ]
     },
     "execution_count": 60,
     "metadata": {},
     "output_type": "execute_result"
    }
   ],
   "source": [
    "df2_data[0]"
   ]
  },
  {
   "cell_type": "code",
   "execution_count": 61,
   "id": "8d804e9b",
   "metadata": {},
   "outputs": [
    {
     "data": {
      "text/html": [
       "<div>\n",
       "<style scoped>\n",
       "    .dataframe tbody tr th:only-of-type {\n",
       "        vertical-align: middle;\n",
       "    }\n",
       "\n",
       "    .dataframe tbody tr th {\n",
       "        vertical-align: top;\n",
       "    }\n",
       "\n",
       "    .dataframe thead th {\n",
       "        text-align: right;\n",
       "    }\n",
       "</style>\n",
       "<table border=\"1\" class=\"dataframe\">\n",
       "  <thead>\n",
       "    <tr style=\"text-align: right;\">\n",
       "      <th></th>\n",
       "      <th>cell</th>\n",
       "      <th>Type</th>\n",
       "    </tr>\n",
       "  </thead>\n",
       "  <tbody>\n",
       "    <tr>\n",
       "      <th>0</th>\n",
       "      <td>1</td>\n",
       "      <td>7</td>\n",
       "    </tr>\n",
       "    <tr>\n",
       "      <th>1</th>\n",
       "      <td>2</td>\n",
       "      <td>7</td>\n",
       "    </tr>\n",
       "    <tr>\n",
       "      <th>2</th>\n",
       "      <td>3</td>\n",
       "      <td>7</td>\n",
       "    </tr>\n",
       "    <tr>\n",
       "      <th>3</th>\n",
       "      <td>4</td>\n",
       "      <td>7</td>\n",
       "    </tr>\n",
       "    <tr>\n",
       "      <th>4</th>\n",
       "      <td>5</td>\n",
       "      <td>7</td>\n",
       "    </tr>\n",
       "    <tr>\n",
       "      <th>5</th>\n",
       "      <td>6</td>\n",
       "      <td>7</td>\n",
       "    </tr>\n",
       "    <tr>\n",
       "      <th>6</th>\n",
       "      <td>7</td>\n",
       "      <td>7</td>\n",
       "    </tr>\n",
       "    <tr>\n",
       "      <th>7</th>\n",
       "      <td>8</td>\n",
       "      <td>7</td>\n",
       "    </tr>\n",
       "    <tr>\n",
       "      <th>8</th>\n",
       "      <td>9</td>\n",
       "      <td>7</td>\n",
       "    </tr>\n",
       "    <tr>\n",
       "      <th>9</th>\n",
       "      <td>11</td>\n",
       "      <td>15</td>\n",
       "    </tr>\n",
       "  </tbody>\n",
       "</table>\n",
       "</div>"
      ],
      "text/plain": [
       "   cell  Type\n",
       "0     1     7\n",
       "1     2     7\n",
       "2     3     7\n",
       "3     4     7\n",
       "4     5     7\n",
       "5     6     7\n",
       "6     7     7\n",
       "7     8     7\n",
       "8     9     7\n",
       "9    11    15"
      ]
     },
     "execution_count": 61,
     "metadata": {},
     "output_type": "execute_result"
    }
   ],
   "source": [
    "df2_labels.head(10)"
   ]
  },
  {
   "cell_type": "code",
   "execution_count": 62,
   "id": "c61ce15e",
   "metadata": {},
   "outputs": [
    {
     "data": {
      "text/plain": [
       "True"
      ]
     },
     "execution_count": 62,
     "metadata": {},
     "output_type": "execute_result"
    }
   ],
   "source": [
    "all(np.isclose(df2.loc[0, :], df2_data[0][0]))"
   ]
  },
  {
   "cell_type": "code",
   "execution_count": 63,
   "id": "e7d4d3de",
   "metadata": {},
   "outputs": [
    {
     "data": {
      "text/plain": [
       "True"
      ]
     },
     "execution_count": 63,
     "metadata": {},
     "output_type": "execute_result"
    }
   ],
   "source": [
    "df2_data = GeneExpressionData(datafiles[1], labelfiles[1], 'Type', skip=3)\n",
    "all(np.isclose(df2.loc[1, :], df2_data[0][0]))"
   ]
  },
  {
   "cell_type": "code",
   "execution_count": 64,
   "id": "22fe1101",
   "metadata": {},
   "outputs": [
    {
     "data": {
      "text/plain": [
       "(tensor([0., 0., 0.,  ..., 0., 0., 0.]), 7)"
      ]
     },
     "execution_count": 64,
     "metadata": {},
     "output_type": "execute_result"
    }
   ],
   "source": [
    "df2_data[0]"
   ]
  },
  {
   "cell_type": "code",
   "execution_count": null,
   "id": "7e74fc03",
   "metadata": {},
   "outputs": [],
   "source": []
  },
  {
   "cell_type": "code",
   "execution_count": 65,
   "id": "6e8e9587",
   "metadata": {},
   "outputs": [
    {
     "data": {
      "text/html": [
       "<div>\n",
       "<style scoped>\n",
       "    .dataframe tbody tr th:only-of-type {\n",
       "        vertical-align: middle;\n",
       "    }\n",
       "\n",
       "    .dataframe tbody tr th {\n",
       "        vertical-align: top;\n",
       "    }\n",
       "\n",
       "    .dataframe thead th {\n",
       "        text-align: right;\n",
       "    }\n",
       "</style>\n",
       "<table border=\"1\" class=\"dataframe\">\n",
       "  <thead>\n",
       "    <tr style=\"text-align: right;\">\n",
       "      <th></th>\n",
       "      <th>cell</th>\n",
       "      <th>Type</th>\n",
       "    </tr>\n",
       "  </thead>\n",
       "  <tbody>\n",
       "    <tr>\n",
       "      <th>0</th>\n",
       "      <td>0</td>\n",
       "      <td>16</td>\n",
       "    </tr>\n",
       "    <tr>\n",
       "      <th>1</th>\n",
       "      <td>1</td>\n",
       "      <td>2</td>\n",
       "    </tr>\n",
       "    <tr>\n",
       "      <th>2</th>\n",
       "      <td>2</td>\n",
       "      <td>2</td>\n",
       "    </tr>\n",
       "    <tr>\n",
       "      <th>3</th>\n",
       "      <td>3</td>\n",
       "      <td>4</td>\n",
       "    </tr>\n",
       "    <tr>\n",
       "      <th>4</th>\n",
       "      <td>4</td>\n",
       "      <td>2</td>\n",
       "    </tr>\n",
       "    <tr>\n",
       "      <th>5</th>\n",
       "      <td>7</td>\n",
       "      <td>16</td>\n",
       "    </tr>\n",
       "    <tr>\n",
       "      <th>6</th>\n",
       "      <td>8</td>\n",
       "      <td>2</td>\n",
       "    </tr>\n",
       "    <tr>\n",
       "      <th>7</th>\n",
       "      <td>9</td>\n",
       "      <td>2</td>\n",
       "    </tr>\n",
       "    <tr>\n",
       "      <th>8</th>\n",
       "      <td>10</td>\n",
       "      <td>4</td>\n",
       "    </tr>\n",
       "    <tr>\n",
       "      <th>9</th>\n",
       "      <td>11</td>\n",
       "      <td>2</td>\n",
       "    </tr>\n",
       "  </tbody>\n",
       "</table>\n",
       "</div>"
      ],
      "text/plain": [
       "   cell  Type\n",
       "0     0    16\n",
       "1     1     2\n",
       "2     2     2\n",
       "3     3     4\n",
       "4     4     2\n",
       "5     7    16\n",
       "6     8     2\n",
       "7     9     2\n",
       "8    10     4\n",
       "9    11     2"
      ]
     },
     "execution_count": 65,
     "metadata": {},
     "output_type": "execute_result"
    }
   ],
   "source": [
    "df4_labels.head(10)"
   ]
  },
  {
   "cell_type": "code",
   "execution_count": 66,
   "id": "9f3740b5",
   "metadata": {},
   "outputs": [
    {
     "data": {
      "text/plain": [
       "7"
      ]
     },
     "execution_count": 66,
     "metadata": {},
     "output_type": "execute_result"
    }
   ],
   "source": [
    "df4_labels.loc[5, 'cell']"
   ]
  },
  {
   "cell_type": "code",
   "execution_count": 67,
   "id": "9995d3b9",
   "metadata": {},
   "outputs": [
    {
     "data": {
      "text/plain": [
       "(tensor([0., 0., 0.,  ..., 0., 0., 0.]), 16)"
      ]
     },
     "execution_count": 67,
     "metadata": {},
     "output_type": "execute_result"
    }
   ],
   "source": [
    "df4_data[5]"
   ]
  },
  {
   "cell_type": "code",
   "execution_count": 68,
   "id": "38db32b4",
   "metadata": {},
   "outputs": [
    {
     "data": {
      "text/plain": [
       "0.0"
      ]
     },
     "execution_count": 68,
     "metadata": {},
     "output_type": "execute_result"
    }
   ],
   "source": [
    "np.linalg.norm(df4.loc[7, :].values - df4_data[5][0].numpy())"
   ]
  },
  {
   "cell_type": "markdown",
   "id": "c61a2f80",
   "metadata": {},
   "source": [
    "Ok, so this issue of non-matching just seems to be with the second dataset, which also requires a different skip number and seems to have some weird behavior. Investigate this one more, which is `allen_cortex_T.csv`."
   ]
  },
  {
   "cell_type": "code",
   "execution_count": 69,
   "id": "08f6fed0",
   "metadata": {
    "scrolled": true
   },
   "outputs": [
    {
     "name": "stdout",
     "output_type": "stream",
     "text": [
      "True\n",
      "True\n",
      "True\n",
      "True\n",
      "True\n",
      "True\n",
      "True\n",
      "True\n",
      "True\n",
      "True\n",
      "True\n",
      "True\n",
      "True\n",
      "True\n",
      "True\n",
      "True\n",
      "True\n",
      "True\n",
      "True\n",
      "True\n",
      "True\n",
      "True\n",
      "True\n",
      "True\n",
      "True\n",
      "True\n",
      "True\n",
      "True\n",
      "True\n",
      "True\n",
      "True\n",
      "True\n",
      "True\n",
      "True\n",
      "True\n",
      "True\n",
      "True\n",
      "True\n",
      "True\n",
      "True\n",
      "True\n",
      "True\n",
      "True\n",
      "True\n",
      "True\n",
      "True\n",
      "True\n",
      "True\n",
      "True\n",
      "True\n"
     ]
    }
   ],
   "source": [
    "for i in range(50):\n",
    "    k = df1.loc[df1_labels.loc[i, 'cell']]\n",
    "    s = df1_data[i][0]\n",
    "    \n",
    "    print(all(np.isclose(k, s)))"
   ]
  },
  {
   "cell_type": "code",
   "execution_count": 70,
   "id": "6ec35d13",
   "metadata": {
    "scrolled": true
   },
   "outputs": [
    {
     "name": "stdout",
     "output_type": "stream",
     "text": [
      "True\n",
      "True\n",
      "True\n",
      "True\n",
      "True\n",
      "True\n",
      "True\n",
      "True\n",
      "True\n",
      "True\n",
      "True\n",
      "True\n",
      "True\n",
      "True\n",
      "True\n",
      "True\n",
      "True\n",
      "True\n",
      "True\n",
      "True\n",
      "True\n",
      "True\n",
      "True\n",
      "True\n",
      "True\n",
      "True\n",
      "True\n",
      "True\n",
      "True\n",
      "True\n",
      "True\n",
      "True\n",
      "True\n",
      "True\n",
      "True\n",
      "True\n",
      "True\n",
      "True\n",
      "True\n",
      "True\n",
      "True\n",
      "True\n",
      "True\n",
      "True\n",
      "True\n",
      "True\n",
      "True\n",
      "True\n",
      "True\n",
      "True\n"
     ]
    }
   ],
   "source": [
    "for i in range(50):\n",
    "    k = df2.loc[df2_labels.loc[i, 'cell']]\n",
    "    s = df2_data[i][0]\n",
    "    \n",
    "    print(all(np.isclose(k, s)))"
   ]
  },
  {
   "cell_type": "code",
   "execution_count": 71,
   "id": "dd9ea9ff",
   "metadata": {},
   "outputs": [
    {
     "data": {
      "text/plain": [
       "(tensor([0., 0., 0.,  ..., 0., 0., 0.]), 7)"
      ]
     },
     "execution_count": 71,
     "metadata": {},
     "output_type": "execute_result"
    }
   ],
   "source": [
    "df2_data = GeneExpressionData(datafiles[1], labelfiles[1], 'Type', skip=3)\n",
    "df2_data[0]"
   ]
  },
  {
   "cell_type": "code",
   "execution_count": 72,
   "id": "1e53a875",
   "metadata": {},
   "outputs": [
    {
     "data": {
      "text/plain": [
       "(tensor([0., 0., 0.,  ..., 0., 0., 0.]), 7)"
      ]
     },
     "execution_count": 72,
     "metadata": {},
     "output_type": "execute_result"
    }
   ],
   "source": [
    "df2_data[1]"
   ]
  },
  {
   "cell_type": "code",
   "execution_count": 73,
   "id": "97e7735d",
   "metadata": {
    "scrolled": true
   },
   "outputs": [
    {
     "name": "stdout",
     "output_type": "stream",
     "text": [
      "True\n",
      "True\n",
      "True\n",
      "True\n",
      "True\n",
      "True\n",
      "True\n",
      "True\n",
      "True\n",
      "True\n",
      "True\n",
      "True\n",
      "True\n",
      "True\n",
      "True\n",
      "True\n",
      "True\n",
      "True\n",
      "True\n",
      "True\n",
      "True\n",
      "True\n",
      "True\n",
      "True\n",
      "True\n",
      "True\n",
      "True\n",
      "True\n",
      "True\n",
      "True\n",
      "True\n",
      "True\n",
      "True\n",
      "True\n",
      "True\n",
      "True\n",
      "True\n",
      "True\n",
      "True\n",
      "True\n",
      "True\n",
      "True\n",
      "True\n",
      "True\n",
      "True\n",
      "True\n",
      "True\n",
      "True\n",
      "True\n",
      "True\n"
     ]
    }
   ],
   "source": [
    "for i in range(50):\n",
    "    k = df2.loc[df2_labels.loc[i, 'cell']]\n",
    "    s = df2_data[i][0]\n",
    "    \n",
    "    print(all(np.isclose(k, s)))"
   ]
  },
  {
   "cell_type": "code",
   "execution_count": 74,
   "id": "abca0431",
   "metadata": {
    "scrolled": true
   },
   "outputs": [
    {
     "name": "stdout",
     "output_type": "stream",
     "text": [
      "True\n",
      "True\n",
      "True\n",
      "True\n",
      "True\n",
      "True\n",
      "True\n",
      "True\n",
      "True\n",
      "True\n",
      "True\n",
      "True\n",
      "True\n",
      "True\n",
      "True\n",
      "True\n",
      "True\n",
      "True\n",
      "True\n",
      "True\n",
      "True\n",
      "True\n",
      "True\n",
      "True\n",
      "True\n",
      "True\n",
      "True\n",
      "True\n",
      "True\n",
      "True\n",
      "True\n",
      "True\n",
      "True\n",
      "True\n",
      "True\n",
      "True\n",
      "True\n",
      "True\n",
      "True\n",
      "True\n",
      "True\n",
      "True\n",
      "True\n",
      "True\n",
      "True\n",
      "True\n",
      "True\n",
      "True\n",
      "True\n",
      "True\n"
     ]
    }
   ],
   "source": [
    "for i in range(50):\n",
    "    k = df3.loc[df3_labels.loc[i, 'cell']]\n",
    "    s = df3_data[i][0]\n",
    "    \n",
    "    print(all(np.isclose(k, s)))"
   ]
  },
  {
   "cell_type": "code",
   "execution_count": 75,
   "id": "08afe6cb",
   "metadata": {
    "scrolled": true
   },
   "outputs": [
    {
     "name": "stdout",
     "output_type": "stream",
     "text": [
      "True\n",
      "True\n",
      "True\n",
      "True\n",
      "True\n",
      "True\n",
      "True\n",
      "True\n",
      "True\n",
      "True\n",
      "True\n",
      "True\n",
      "True\n",
      "True\n",
      "True\n",
      "True\n",
      "True\n",
      "True\n",
      "True\n",
      "True\n",
      "True\n",
      "True\n",
      "True\n",
      "True\n",
      "True\n",
      "True\n",
      "True\n",
      "True\n",
      "True\n",
      "True\n",
      "True\n",
      "True\n",
      "True\n",
      "True\n",
      "True\n",
      "True\n",
      "True\n",
      "True\n",
      "True\n",
      "True\n",
      "True\n",
      "True\n",
      "True\n",
      "True\n",
      "True\n",
      "True\n",
      "True\n",
      "True\n",
      "True\n",
      "True\n"
     ]
    }
   ],
   "source": [
    "for i in range(50):\n",
    "    k = df4.loc[df4_labels.loc[i, 'cell']]\n",
    "    s = df4_data[i][0]\n",
    "    \n",
    "    print(all(np.isclose(k, s)))"
   ]
  },
  {
   "cell_type": "markdown",
   "id": "e595c171",
   "metadata": {},
   "source": [
    "Now, let's write our training loop using all four datasets."
   ]
  },
  {
   "cell_type": "code",
   "execution_count": 76,
   "id": "875f3a80",
   "metadata": {},
   "outputs": [],
   "source": [
    "loaders = [df1_data, df2_data, df3_data, df4_data]\n",
    "loaders = [DataLoader(data, batch_size=2) for data in loaders]"
   ]
  },
  {
   "cell_type": "code",
   "execution_count": 77,
   "id": "e235ff0d",
   "metadata": {},
   "outputs": [
    {
     "data": {
      "text/plain": [
       "[tensor([[2.8467, 0.0000, 0.0000,  ..., 0.0000, 0.0000, 0.0000],\n",
       "         [0.0000, 0.0000, 0.0000,  ..., 0.0000, 0.0000, 0.0000]]),\n",
       " tensor([16, 16])]"
      ]
     },
     "execution_count": 77,
     "metadata": {},
     "output_type": "execute_result"
    }
   ],
   "source": [
    "next(iter(loaders[0]))"
   ]
  },
  {
   "cell_type": "markdown",
   "id": "bfc96e6f",
   "metadata": {},
   "source": [
    "Now, let's time the DataLoader vs the custom DataLoader from Pytorch Tabular found here: https://github.com/hcarlens/pytorch-tabular/blob/master/fast_tensor_data_loader.py"
   ]
  },
  {
   "cell_type": "code",
   "execution_count": 78,
   "id": "92d4f5ac",
   "metadata": {},
   "outputs": [],
   "source": [
    "train = GeneExpressionData(datafiles[0], labelfiles[0], 'Type', skip=3)\n",
    "\n",
    "trainloader = DataLoader(train, batch_size=4)\n",
    "fastloader = FastTensorDataLoader(train, batch_size=4)"
   ]
  },
  {
   "cell_type": "code",
   "execution_count": 101,
   "id": "1db59b71",
   "metadata": {
    "scrolled": true
   },
   "outputs": [
    {
     "name": "stderr",
     "output_type": "stream",
     "text": [
      "  0%|▉                                                                                                                                                                                                                     | 200/46619 [00:03<15:19, 50.48it/s]\n"
     ]
    }
   ],
   "source": [
    "for i, sample in enumerate(tqdm(trainloader)):\n",
    "    X, y = sample \n",
    "    net(X)\n",
    "    if i == 200:\n",
    "        break"
   ]
  },
  {
   "cell_type": "code",
   "execution_count": 102,
   "id": "10a2645f",
   "metadata": {},
   "outputs": [
    {
     "name": "stderr",
     "output_type": "stream",
     "text": [
      "  0%|▉                                                                                                                                                                                                                    | 200/46619 [00:01<05:53, 131.46it/s]\n"
     ]
    }
   ],
   "source": [
    "for i, sample in enumerate(tqdm(fastloader)):\n",
    "    t = sample\n",
    "    \n",
    "    if i == 200:\n",
    "        break"
   ]
  },
  {
   "cell_type": "code",
   "execution_count": 103,
   "id": "144a198e",
   "metadata": {},
   "outputs": [],
   "source": [
    "s = next(iter(fastloader))"
   ]
  },
  {
   "cell_type": "code",
   "execution_count": 109,
   "id": "b3b639af",
   "metadata": {},
   "outputs": [
    {
     "data": {
      "text/plain": [
       "([(tensor([2.8467, 0.0000, 0.0000,  ..., 0.0000, 0.0000, 0.0000]), 16),\n",
       "  (tensor([0., 0., 0.,  ..., 0., 0., 0.]), 16),\n",
       "  (tensor([0.0000, 1.8507, 0.0000,  ..., 0.0000, 0.0000, 0.0000]), 4),\n",
       "  (tensor([1.6067, 0.0000, 0.0000,  ..., 0.0000, 0.0000, 0.0000]), 4)],)"
      ]
     },
     "execution_count": 109,
     "metadata": {},
     "output_type": "execute_result"
    }
   ],
   "source": [
    "s"
   ]
  },
  {
   "cell_type": "code",
   "execution_count": 98,
   "id": "eda07060",
   "metadata": {},
   "outputs": [
    {
     "data": {
      "text/plain": [
       "[(tensor([2.8467, 0.0000, 0.0000,  ..., 0.0000, 0.0000, 0.0000]), 16),\n",
       " (tensor([0., 0., 0.,  ..., 0., 0., 0.]), 16),\n",
       " (tensor([0.0000, 1.8507, 0.0000,  ..., 0.0000, 0.0000, 0.0000]), 4),\n",
       " (tensor([1.6067, 0.0000, 0.0000,  ..., 0.0000, 0.0000, 0.0000]), 4),\n",
       " (tensor([0., 0., 0.,  ..., 0., 0., 0.]), 4)]"
      ]
     },
     "execution_count": 98,
     "metadata": {},
     "output_type": "execute_result"
    }
   ],
   "source": [
    "x = [df1_data[i] for i in range(5)]\n",
    "x"
   ]
  },
  {
   "cell_type": "code",
   "execution_count": 100,
   "id": "7ec9950e",
   "metadata": {},
   "outputs": [
    {
     "data": {
      "text/plain": [
       "[tensor([[2.8467, 0.0000, 0.0000,  ..., 0.0000, 0.0000, 0.0000],\n",
       "         [0.0000, 0.0000, 0.0000,  ..., 0.0000, 0.0000, 0.0000],\n",
       "         [0.0000, 1.8507, 0.0000,  ..., 0.0000, 0.0000, 0.0000],\n",
       "         [1.6067, 0.0000, 0.0000,  ..., 0.0000, 0.0000, 0.0000]]),\n",
       " tensor([16, 16,  4,  4])]"
      ]
     },
     "execution_count": 100,
     "metadata": {},
     "output_type": "execute_result"
    }
   ],
   "source": [
    "next(iter(trainloader))"
   ]
  },
  {
   "cell_type": "code",
   "execution_count": 110,
   "id": "d103d9f5",
   "metadata": {
    "scrolled": true
   },
   "outputs": [
    {
     "name": "stdout",
     "output_type": "stream",
     "text": [
      "Training on 0\n"
     ]
    },
    {
     "name": "stderr",
     "output_type": "stream",
     "text": [
      "  0%|                                                                                                                                                                                                                      | 1/93238 [00:00<4:53:41,  5.29it/s]"
     ]
    },
    {
     "name": "stdout",
     "output_type": "stream",
     "text": [
      "[1,     1] loss: 0.001\n"
     ]
    },
    {
     "name": "stderr",
     "output_type": "stream",
     "text": [
      "  0%|                                                                                                                                                                                                                     | 15/93238 [00:00<1:02:06, 25.01it/s]"
     ]
    },
    {
     "name": "stdout",
     "output_type": "stream",
     "text": [
      "[1,    11] loss: 0.015\n"
     ]
    },
    {
     "name": "stderr",
     "output_type": "stream",
     "text": [
      "  0%|                                                                                                                                                                                                                       | 24/93238 [00:01<57:15, 27.13it/s]"
     ]
    },
    {
     "name": "stdout",
     "output_type": "stream",
     "text": [
      "[1,    21] loss: 0.011\n"
     ]
    },
    {
     "name": "stderr",
     "output_type": "stream",
     "text": [
      "  0%|                                                                                                                                                                                                                       | 36/93238 [00:01<55:14, 28.12it/s]"
     ]
    },
    {
     "name": "stdout",
     "output_type": "stream",
     "text": [
      "[1,    31] loss: 0.017\n"
     ]
    },
    {
     "name": "stderr",
     "output_type": "stream",
     "text": [
      "  0%|                                                                                                                                                                                                                       | 45/93238 [00:01<54:33, 28.47it/s]"
     ]
    },
    {
     "name": "stdout",
     "output_type": "stream",
     "text": [
      "[1,    41] loss: 0.013\n"
     ]
    },
    {
     "name": "stderr",
     "output_type": "stream",
     "text": [
      "  0%|                                                                                                                                                                                                                       | 54/93238 [00:02<54:05, 28.71it/s]"
     ]
    },
    {
     "name": "stdout",
     "output_type": "stream",
     "text": [
      "[1,    51] loss: 0.007\n"
     ]
    },
    {
     "name": "stderr",
     "output_type": "stream",
     "text": [
      "  0%|▏                                                                                                                                                                                                                      | 66/93238 [00:02<54:32, 28.47it/s]"
     ]
    },
    {
     "name": "stdout",
     "output_type": "stream",
     "text": [
      "[1,    61] loss: 0.014\n"
     ]
    },
    {
     "name": "stderr",
     "output_type": "stream",
     "text": [
      "  0%|▏                                                                                                                                                                                                                      | 74/93238 [00:02<59:40, 26.02it/s]"
     ]
    },
    {
     "name": "stdout",
     "output_type": "stream",
     "text": [
      "[1,    71] loss: 0.012\n"
     ]
    },
    {
     "name": "stderr",
     "output_type": "stream",
     "text": [
      "\n"
     ]
    },
    {
     "ename": "KeyboardInterrupt",
     "evalue": "",
     "output_type": "error",
     "traceback": [
      "\u001b[0;31m---------------------------------------------------------------------------\u001b[0m",
      "\u001b[0;31mKeyboardInterrupt\u001b[0m                         Traceback (most recent call last)",
      "\u001b[0;32m/var/folders/pd/jsjcl0fn7w57s5mfr34b20pm0000gn/T/ipykernel_95403/4017752262.py\u001b[0m in \u001b[0;36m<module>\u001b[0;34m\u001b[0m\n\u001b[1;32m     20\u001b[0m             \u001b[0mloss\u001b[0m \u001b[0;34m=\u001b[0m \u001b[0mcriterion\u001b[0m\u001b[0;34m(\u001b[0m\u001b[0moutputs\u001b[0m\u001b[0;34m,\u001b[0m \u001b[0mlabels\u001b[0m\u001b[0;34m)\u001b[0m\u001b[0;34m\u001b[0m\u001b[0;34m\u001b[0m\u001b[0m\n\u001b[1;32m     21\u001b[0m             \u001b[0mloss\u001b[0m\u001b[0;34m.\u001b[0m\u001b[0mbackward\u001b[0m\u001b[0;34m(\u001b[0m\u001b[0;34m)\u001b[0m\u001b[0;34m\u001b[0m\u001b[0;34m\u001b[0m\u001b[0m\n\u001b[0;32m---> 22\u001b[0;31m             \u001b[0moptimizer\u001b[0m\u001b[0;34m.\u001b[0m\u001b[0mstep\u001b[0m\u001b[0;34m(\u001b[0m\u001b[0;34m)\u001b[0m\u001b[0;34m\u001b[0m\u001b[0;34m\u001b[0m\u001b[0m\n\u001b[0m\u001b[1;32m     23\u001b[0m \u001b[0;34m\u001b[0m\u001b[0m\n\u001b[1;32m     24\u001b[0m             \u001b[0;31m# print statistics\u001b[0m\u001b[0;34m\u001b[0m\u001b[0;34m\u001b[0m\u001b[0m\n",
      "\u001b[0;32m~/miniconda3/envs/base-data-science/lib/python3.9/site-packages/torch/optim/optimizer.py\u001b[0m in \u001b[0;36mwrapper\u001b[0;34m(*args, **kwargs)\u001b[0m\n\u001b[1;32m     86\u001b[0m                 \u001b[0mprofile_name\u001b[0m \u001b[0;34m=\u001b[0m \u001b[0;34m\"Optimizer.step#{}.step\"\u001b[0m\u001b[0;34m.\u001b[0m\u001b[0mformat\u001b[0m\u001b[0;34m(\u001b[0m\u001b[0mobj\u001b[0m\u001b[0;34m.\u001b[0m\u001b[0m__class__\u001b[0m\u001b[0;34m.\u001b[0m\u001b[0m__name__\u001b[0m\u001b[0;34m)\u001b[0m\u001b[0;34m\u001b[0m\u001b[0;34m\u001b[0m\u001b[0m\n\u001b[1;32m     87\u001b[0m                 \u001b[0;32mwith\u001b[0m \u001b[0mtorch\u001b[0m\u001b[0;34m.\u001b[0m\u001b[0mautograd\u001b[0m\u001b[0;34m.\u001b[0m\u001b[0mprofiler\u001b[0m\u001b[0;34m.\u001b[0m\u001b[0mrecord_function\u001b[0m\u001b[0;34m(\u001b[0m\u001b[0mprofile_name\u001b[0m\u001b[0;34m)\u001b[0m\u001b[0;34m:\u001b[0m\u001b[0;34m\u001b[0m\u001b[0;34m\u001b[0m\u001b[0m\n\u001b[0;32m---> 88\u001b[0;31m                     \u001b[0;32mreturn\u001b[0m \u001b[0mfunc\u001b[0m\u001b[0;34m(\u001b[0m\u001b[0;34m*\u001b[0m\u001b[0margs\u001b[0m\u001b[0;34m,\u001b[0m \u001b[0;34m**\u001b[0m\u001b[0mkwargs\u001b[0m\u001b[0;34m)\u001b[0m\u001b[0;34m\u001b[0m\u001b[0;34m\u001b[0m\u001b[0m\n\u001b[0m\u001b[1;32m     89\u001b[0m             \u001b[0;32mreturn\u001b[0m \u001b[0mwrapper\u001b[0m\u001b[0;34m\u001b[0m\u001b[0;34m\u001b[0m\u001b[0m\n\u001b[1;32m     90\u001b[0m \u001b[0;34m\u001b[0m\u001b[0m\n",
      "\u001b[0;32m~/miniconda3/envs/base-data-science/lib/python3.9/site-packages/torch/autograd/grad_mode.py\u001b[0m in \u001b[0;36mdecorate_context\u001b[0;34m(*args, **kwargs)\u001b[0m\n\u001b[1;32m     26\u001b[0m         \u001b[0;32mdef\u001b[0m \u001b[0mdecorate_context\u001b[0m\u001b[0;34m(\u001b[0m\u001b[0;34m*\u001b[0m\u001b[0margs\u001b[0m\u001b[0;34m,\u001b[0m \u001b[0;34m**\u001b[0m\u001b[0mkwargs\u001b[0m\u001b[0;34m)\u001b[0m\u001b[0;34m:\u001b[0m\u001b[0;34m\u001b[0m\u001b[0;34m\u001b[0m\u001b[0m\n\u001b[1;32m     27\u001b[0m             \u001b[0;32mwith\u001b[0m \u001b[0mself\u001b[0m\u001b[0;34m.\u001b[0m\u001b[0m__class__\u001b[0m\u001b[0;34m(\u001b[0m\u001b[0;34m)\u001b[0m\u001b[0;34m:\u001b[0m\u001b[0;34m\u001b[0m\u001b[0;34m\u001b[0m\u001b[0m\n\u001b[0;32m---> 28\u001b[0;31m                 \u001b[0;32mreturn\u001b[0m \u001b[0mfunc\u001b[0m\u001b[0;34m(\u001b[0m\u001b[0;34m*\u001b[0m\u001b[0margs\u001b[0m\u001b[0;34m,\u001b[0m \u001b[0;34m**\u001b[0m\u001b[0mkwargs\u001b[0m\u001b[0;34m)\u001b[0m\u001b[0;34m\u001b[0m\u001b[0;34m\u001b[0m\u001b[0m\n\u001b[0m\u001b[1;32m     29\u001b[0m         \u001b[0;32mreturn\u001b[0m \u001b[0mcast\u001b[0m\u001b[0;34m(\u001b[0m\u001b[0mF\u001b[0m\u001b[0;34m,\u001b[0m \u001b[0mdecorate_context\u001b[0m\u001b[0;34m)\u001b[0m\u001b[0;34m\u001b[0m\u001b[0;34m\u001b[0m\u001b[0m\n\u001b[1;32m     30\u001b[0m \u001b[0;34m\u001b[0m\u001b[0m\n",
      "\u001b[0;32m~/miniconda3/envs/base-data-science/lib/python3.9/site-packages/torch/optim/sgd.py\u001b[0m in \u001b[0;36mstep\u001b[0;34m(self, closure)\u001b[0m\n\u001b[1;32m    134\u001b[0m                         \u001b[0mmomentum_buffer_list\u001b[0m\u001b[0;34m.\u001b[0m\u001b[0mappend\u001b[0m\u001b[0;34m(\u001b[0m\u001b[0mstate\u001b[0m\u001b[0;34m[\u001b[0m\u001b[0;34m'momentum_buffer'\u001b[0m\u001b[0;34m]\u001b[0m\u001b[0;34m)\u001b[0m\u001b[0;34m\u001b[0m\u001b[0;34m\u001b[0m\u001b[0m\n\u001b[1;32m    135\u001b[0m \u001b[0;34m\u001b[0m\u001b[0m\n\u001b[0;32m--> 136\u001b[0;31m             F.sgd(params_with_grad,\n\u001b[0m\u001b[1;32m    137\u001b[0m                   \u001b[0md_p_list\u001b[0m\u001b[0;34m,\u001b[0m\u001b[0;34m\u001b[0m\u001b[0;34m\u001b[0m\u001b[0m\n\u001b[1;32m    138\u001b[0m                   \u001b[0mmomentum_buffer_list\u001b[0m\u001b[0;34m,\u001b[0m\u001b[0;34m\u001b[0m\u001b[0;34m\u001b[0m\u001b[0m\n",
      "\u001b[0;32m~/miniconda3/envs/base-data-science/lib/python3.9/site-packages/torch/optim/_functional.py\u001b[0m in \u001b[0;36msgd\u001b[0;34m(params, d_p_list, momentum_buffer_list, weight_decay, momentum, lr, dampening, nesterov)\u001b[0m\n\u001b[1;32m    178\u001b[0m                 \u001b[0md_p\u001b[0m \u001b[0;34m=\u001b[0m \u001b[0mbuf\u001b[0m\u001b[0;34m\u001b[0m\u001b[0;34m\u001b[0m\u001b[0m\n\u001b[1;32m    179\u001b[0m \u001b[0;34m\u001b[0m\u001b[0m\n\u001b[0;32m--> 180\u001b[0;31m         \u001b[0mparam\u001b[0m\u001b[0;34m.\u001b[0m\u001b[0madd_\u001b[0m\u001b[0;34m(\u001b[0m\u001b[0md_p\u001b[0m\u001b[0;34m,\u001b[0m \u001b[0malpha\u001b[0m\u001b[0;34m=\u001b[0m\u001b[0;34m-\u001b[0m\u001b[0mlr\u001b[0m\u001b[0;34m)\u001b[0m\u001b[0;34m\u001b[0m\u001b[0;34m\u001b[0m\u001b[0m\n\u001b[0m\u001b[1;32m    181\u001b[0m \u001b[0;34m\u001b[0m\u001b[0m\n\u001b[1;32m    182\u001b[0m \u001b[0;34m\u001b[0m\u001b[0m\n",
      "\u001b[0;31mKeyboardInterrupt\u001b[0m: "
     ]
    }
   ],
   "source": [
    "import torch.optim as optim\n",
    "import torch.nn as nn\n",
    "import wandb\n",
    "\n",
    "criterion = nn.CrossEntropyLoss()\n",
    "optimizer = optim.SGD(net.parameters(), lr=0.001, momentum=0.9)\n",
    "\n",
    "for epoch in range(100):  # loop over the dataset multiple times\n",
    "    \n",
    "    running_loss = 0.0\n",
    "    for trainidx, trainloader in enumerate(loaders):\n",
    "        print(f'Training on {trainidx}')\n",
    "        for i, data in enumerate(tqdm(trainloader), 0):\n",
    "            inputs, labels = data\n",
    "\n",
    "            optimizer.zero_grad()\n",
    "\n",
    "            # forward + backward + optimize\n",
    "            outputs = net(inputs)\n",
    "            loss = criterion(outputs, labels)\n",
    "            loss.backward()\n",
    "            optimizer.step()\n",
    "\n",
    "            # print statistics\n",
    "            running_loss += loss.item()\n",
    "            if i % 10 == 0:    # print every 2000 mini-batches\n",
    "                print(f'[{epoch + 1}, {i + 1:5d}] loss: {running_loss / 2000:.3f}')\n",
    "                running_loss = 0.0\n",
    "\n",
    "print('Finished Training')"
   ]
  },
  {
   "cell_type": "code",
   "execution_count": null,
   "id": "f9d7d2e7",
   "metadata": {},
   "outputs": [],
   "source": [
    "def train_batch(images, labels, model, optimizer, criterion):\n",
    "    images, labels = images.to(device), labels.to(device)\n",
    "    \n",
    "    # Forward pass ➡\n",
    "    outputs = model(images)\n",
    "    loss = criterion(outputs, labels)\n",
    "    \n",
    "    # Backward pass ⬅\n",
    "    optimizer.zero_grad()\n",
    "    loss.backward()\n",
    "\n",
    "    # Step with optimizer\n",
    "    optimizer.step()\n",
    "\n",
    "    return loss"
   ]
  },
  {
   "cell_type": "code",
   "execution_count": null,
   "id": "c96b8983",
   "metadata": {},
   "outputs": [],
   "source": []
  },
  {
   "cell_type": "code",
   "execution_count": null,
   "id": "d1c4e113",
   "metadata": {},
   "outputs": [],
   "source": []
  },
  {
   "cell_type": "code",
   "execution_count": null,
   "id": "80c1172a",
   "metadata": {},
   "outputs": [],
   "source": []
  },
  {
   "cell_type": "markdown",
   "id": "107b9ea5",
   "metadata": {},
   "source": [
    "## Linecache speed testing \n",
    "\n",
    "If we can improve the speed of our __getitem__ method, we can train our model a lot faster. Since currently it requires two list comprehensions, let's see if we can increase the time "
   ]
  },
  {
   "cell_type": "code",
   "execution_count": 85,
   "id": "1298c67d",
   "metadata": {},
   "outputs": [],
   "source": [
    "import linecache \n",
    "\n",
    "line = linecache.getline('../data/interim/primary_bhaduri_T.csv', 5)\n",
    "line = np.array(line.split(','), dtype=np.float32)"
   ]
  },
  {
   "cell_type": "code",
   "execution_count": 86,
   "id": "c93f98de",
   "metadata": {},
   "outputs": [
    {
     "name": "stdout",
     "output_type": "stream",
     "text": [
      "1.86 ms ± 5.78 µs per loop (mean ± std. dev. of 7 runs, 1000 loops each)\n"
     ]
    }
   ],
   "source": [
    "%%timeit \n",
    "\n",
    "line = linecache.getline('../data/interim/primary_bhaduri_T.csv', 5)\n",
    "line = np.array(line.split(','), dtype=np.float32)"
   ]
  },
  {
   "cell_type": "code",
   "execution_count": 87,
   "id": "0bcb311c",
   "metadata": {},
   "outputs": [
    {
     "data": {
      "text/plain": [
       "'../data/interim/primary_bhaduri_T.csv'"
      ]
     },
     "execution_count": 87,
     "metadata": {},
     "output_type": "execute_result"
    }
   ],
   "source": [
    "df1_data.name"
   ]
  },
  {
   "cell_type": "code",
   "execution_count": 88,
   "id": "72034ba9",
   "metadata": {},
   "outputs": [
    {
     "name": "stdout",
     "output_type": "stream",
     "text": [
      "1.87 ms ± 9.75 µs per loop (mean ± std. dev. of 7 runs, 1000 loops each)\n"
     ]
    }
   ],
   "source": [
    "%%timeit \n",
    "\n",
    "line = df1_data[5]"
   ]
  },
  {
   "cell_type": "code",
   "execution_count": null,
   "id": "7b15d9de",
   "metadata": {},
   "outputs": [],
   "source": []
  }
 ],
 "metadata": {
  "kernelspec": {
   "display_name": "Python [conda env:base-data-science]",
   "language": "python",
   "name": "conda-env-base-data-science-py"
  },
  "language_info": {
   "codemirror_mode": {
    "name": "ipython",
    "version": 3
   },
   "file_extension": ".py",
   "mimetype": "text/x-python",
   "name": "python",
   "nbconvert_exporter": "python",
   "pygments_lexer": "ipython3",
   "version": "3.9.7"
  }
 },
 "nbformat": 4,
 "nbformat_minor": 5
}
