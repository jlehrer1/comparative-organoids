{
 "cells": [
  {
   "cell_type": "markdown",
   "id": "bfe5f157",
   "metadata": {},
   "source": [
    "# Data Validation and Sanity Checks\n",
    "\n",
    "In this notebook, we'll compare the outputs of our GeneExpressionData class with the original expression matrices and labels"
   ]
  },
  {
   "cell_type": "code",
   "execution_count": 1,
   "id": "be54c4a5",
   "metadata": {},
   "outputs": [],
   "source": [
    "import pandas as pd \n",
    "import os\n",
    "import sys\n",
    "import pandas as pd\n",
    "import numpy as np\n",
    "from torch.utils.data import *\n",
    "from tqdm import tqdm\n",
    "import linecache \n",
    "from pytorch_tabnet.tab_model import TabNetClassifier\n",
    "sys.path.append('../src/')\n",
    "sys.path.append('..')\n",
    "\n",
    "from src.models.lib.neural import GeneClassifier"
   ]
  },
  {
   "cell_type": "code",
   "execution_count": 2,
   "id": "16540141",
   "metadata": {},
   "outputs": [],
   "source": [
    "from src.models.lib.data import *\n",
    "from src.helper import *"
   ]
  },
  {
   "cell_type": "markdown",
   "id": "3b051193",
   "metadata": {},
   "source": [
    "## Intersection between reference columns with current dataset columns \n",
    "\n",
    "Here, we'll write test code for the methods used in mapping an arbitrary dataset sample to a list of given reference columns, since this method being correct is extremely important "
   ]
  },
  {
   "cell_type": "code",
   "execution_count": 3,
   "id": "25c97585",
   "metadata": {},
   "outputs": [],
   "source": [
    "def clean_sample(sample, refgenes, currgenes):\n",
    "    intersection = np.intersect1d(currgenes, refgenes, return_indices=True)\n",
    "    indices = intersection[1] # List of indices in currgenes that equal refgenes \n",
    "    \n",
    "    axis = (1 if sample.ndim == 2 else 0)\n",
    "    sample = np.sort(sample, axis=axis)\n",
    "    sample = np.take(sample, indices, axis=axis)\n",
    "\n",
    "    return torch.from_numpy(sample)"
   ]
  },
  {
   "cell_type": "markdown",
   "id": "ff6999a2",
   "metadata": {},
   "source": [
    "### Unit Test Example 01"
   ]
  },
  {
   "cell_type": "code",
   "execution_count": 4,
   "id": "b7e7870f",
   "metadata": {},
   "outputs": [],
   "source": [
    "def test1():\n",
    "    ref = ['a', 'b', 'c']\n",
    "    curr = ['b', 'a', 'c', 'd'] \n",
    "    sample = np.array([1,2,3,4]) # Want --> [2,1,3]\n",
    "\n",
    "    result = clean_sample(sample, ref, curr)\n",
    "    desired = torch.from_numpy(np.array([2,1,3]))\n",
    "    \n",
    "    assert torch.equal(result, desired)\n",
    "    \n",
    "def test2():\n",
    "    ref = ['a', 'b', 'c']\n",
    "    curr = ['c', 'd', 'b', 'a']\n",
    "\n",
    "    sample = np.array(\n",
    "        [[1,2,3,4],\n",
    "         [5,6,7,8]]\n",
    "    ) \n",
    "    # --> want [[4, 3, 1],\n",
    "    #           [8, 7, 5]]\n",
    "\n",
    "    res = clean_sample(sample, ref, curr)\n",
    "    desired = torch.from_numpy(np.array([\n",
    "        [4,3,1],\n",
    "        [8,7,5]\n",
    "    ]))\n",
    "    \n",
    "    assert torch.equal(res, desired)\n",
    "    \n",
    "test1()\n",
    "test2()"
   ]
  },
  {
   "cell_type": "markdown",
   "id": "3eae7338",
   "metadata": {},
   "source": [
    "From initial tests, `clean_sample` seems to be working correctly."
   ]
  },
  {
   "cell_type": "markdown",
   "id": "c5e8212a",
   "metadata": {},
   "source": [
    "## Validation of GeneExpressionData class with the original expression matrices and label files \n",
    "\n",
    "In this section, we'll confirm that the GeneExpressionData method returns the correct (sample, label) pairs relative to the original expression matrices and raw label files."
   ]
  },
  {
   "cell_type": "code",
   "execution_count": 7,
   "id": "acc0ebd5",
   "metadata": {},
   "outputs": [],
   "source": [
    "datafiles, labelfiles = list(INTERIM_DATA_AND_LABEL_FILES_LIST.keys()), list(INTERIM_DATA_AND_LABEL_FILES_LIST.values())\n",
    "\n",
    "datafiles = [os.path.join('..', 'data', 'interim', f) for f in datafiles]\n",
    "labelfiles = [os.path.join('..', 'data', 'processed/labels', f) for f in labelfiles]\n"
   ]
  },
  {
   "cell_type": "markdown",
   "id": "14ee25b0",
   "metadata": {},
   "source": [
    "Next, we define a function that takes the first `N` samples from the GeneExpressionData object and from the raw expression matrix and compares the samples to make sure they are equal."
   ]
  },
  {
   "cell_type": "code",
   "execution_count": 9,
   "id": "3704fbd0",
   "metadata": {
    "scrolled": true
   },
   "outputs": [],
   "source": [
    "N = 5\n",
    "\n",
    "def test_first_n(n, datafile, labelfile):\n",
    "    data = GeneExpressionData(datafile, labelfile, 'Type', skip=3)\n",
    "    cols = data.columns\n",
    "    \n",
    "    # Generate dict with half precision values to read this into my 16gb memory\n",
    "    dtype_cols = dict(zip(cols, [np.float32]*len(cols)))\n",
    "    \n",
    "    data_df = pd.read_csv(datafile, nrows=2*n, header=1, dtype=dtype_cols) # Might need some extras since numerical index drops some values\n",
    "    label_df = pd.read_csv(labelfile, nrows=n)\n",
    "\n",
    "    similar = []\n",
    "    for i in range(n):\n",
    "        idx = label_df.loc[i, 'cell']\n",
    "        \n",
    "        datasample = data[i][0]\n",
    "        dfsample = torch.from_numpy(data_df.loc[idx, :].values).float()\n",
    "        \n",
    "        isclose = all(torch.isclose(datasample, dfsample))\n",
    "        \n",
    "        similar.append(isclose)\n",
    "    \n",
    "    print(f\"First {n=} columns of expression matrix is equal to GeneExpressionData: {all(p for p in similar)}\")\n",
    "\n",
    "for datafile, labelfile in zip(datafiles, labelfiles):\n",
    "    print(f'{datafile=}')\n",
    "    test_first_n(N, datafile, labelfile)\n",
    "    "
   ]
  },
  {
   "cell_type": "code",
   "execution_count": 10,
   "id": "f5421795",
   "metadata": {},
   "outputs": [
    {
     "name": "stdout",
     "output_type": "stream",
     "text": [
      "1 False\n",
      "2 False\n",
      "3 False\n",
      "4 False\n",
      "5 False\n",
      "First n=5 columns of expression matrix is equal to GeneExpressionData: False\n"
     ]
    }
   ],
   "source": [
    "test_first_n(5, datafiles[1], labelfiles[1])"
   ]
  },
  {
   "cell_type": "code",
   "execution_count": 22,
   "id": "541c6dc4",
   "metadata": {},
   "outputs": [
    {
     "data": {
      "text/plain": [
       "1"
      ]
     },
     "execution_count": 22,
     "metadata": {},
     "output_type": "execute_result"
    }
   ],
   "source": [
    "data = GeneExpressionData(datafiles[1], labelfiles[1], 'Type', skip=3)\n",
    "\n",
    "data_df = pd.read_csv(datafiles[1], header=1, nrows=10)\n",
    "label_df = pd.read_csv(labelfiles[1], nrows=10)\n",
    "\n",
    "test_idx = label_df.loc[0, 'cell']\n",
    "test_idx"
   ]
  },
  {
   "cell_type": "code",
   "execution_count": 29,
   "id": "8e00668b",
   "metadata": {},
   "outputs": [
    {
     "data": {
      "text/plain": [
       "True"
      ]
     },
     "execution_count": 29,
     "metadata": {},
     "output_type": "execute_result"
    }
   ],
   "source": [
    "s1 = data_df.loc[test_idx, :].values\n",
    "s2 = data[0][0]\n",
    "\n",
    "all(np.isclose(s1, s2))"
   ]
  },
  {
   "cell_type": "code",
   "execution_count": 30,
   "id": "09ea2c27",
   "metadata": {},
   "outputs": [
    {
     "data": {
      "text/html": [
       "<div>\n",
       "<style scoped>\n",
       "    .dataframe tbody tr th:only-of-type {\n",
       "        vertical-align: middle;\n",
       "    }\n",
       "\n",
       "    .dataframe tbody tr th {\n",
       "        vertical-align: top;\n",
       "    }\n",
       "\n",
       "    .dataframe thead th {\n",
       "        text-align: right;\n",
       "    }\n",
       "</style>\n",
       "<table border=\"1\" class=\"dataframe\">\n",
       "  <thead>\n",
       "    <tr style=\"text-align: right;\">\n",
       "      <th></th>\n",
       "      <th>cell</th>\n",
       "      <th>Type</th>\n",
       "    </tr>\n",
       "  </thead>\n",
       "  <tbody>\n",
       "    <tr>\n",
       "      <th>0</th>\n",
       "      <td>1</td>\n",
       "      <td>7</td>\n",
       "    </tr>\n",
       "    <tr>\n",
       "      <th>1</th>\n",
       "      <td>2</td>\n",
       "      <td>7</td>\n",
       "    </tr>\n",
       "    <tr>\n",
       "      <th>2</th>\n",
       "      <td>3</td>\n",
       "      <td>7</td>\n",
       "    </tr>\n",
       "    <tr>\n",
       "      <th>3</th>\n",
       "      <td>4</td>\n",
       "      <td>7</td>\n",
       "    </tr>\n",
       "    <tr>\n",
       "      <th>4</th>\n",
       "      <td>5</td>\n",
       "      <td>7</td>\n",
       "    </tr>\n",
       "    <tr>\n",
       "      <th>5</th>\n",
       "      <td>6</td>\n",
       "      <td>7</td>\n",
       "    </tr>\n",
       "    <tr>\n",
       "      <th>6</th>\n",
       "      <td>7</td>\n",
       "      <td>7</td>\n",
       "    </tr>\n",
       "    <tr>\n",
       "      <th>7</th>\n",
       "      <td>8</td>\n",
       "      <td>7</td>\n",
       "    </tr>\n",
       "    <tr>\n",
       "      <th>8</th>\n",
       "      <td>9</td>\n",
       "      <td>7</td>\n",
       "    </tr>\n",
       "    <tr>\n",
       "      <th>9</th>\n",
       "      <td>11</td>\n",
       "      <td>15</td>\n",
       "    </tr>\n",
       "  </tbody>\n",
       "</table>\n",
       "</div>"
      ],
      "text/plain": [
       "   cell  Type\n",
       "0     1     7\n",
       "1     2     7\n",
       "2     3     7\n",
       "3     4     7\n",
       "4     5     7\n",
       "5     6     7\n",
       "6     7     7\n",
       "7     8     7\n",
       "8     9     7\n",
       "9    11    15"
      ]
     },
     "execution_count": 30,
     "metadata": {},
     "output_type": "execute_result"
    }
   ],
   "source": [
    "label_df"
   ]
  },
  {
   "cell_type": "markdown",
   "id": "4e798d8c",
   "metadata": {},
   "source": [
    "## TabNet Classifier validation\n",
    "\n",
    "Since the TabNet package is designed to be used with the `sklearn` API, we'll write a custom `pl.LightningModule` with the TabNet classifier as the base class, and make sure that the correct `forward` method is returned. Essentially, validating that our wrapper doesn't change any internals."
   ]
  },
  {
   "cell_type": "code",
   "execution_count": null,
   "id": "09ca1986",
   "metadata": {},
   "outputs": [],
   "source": [
    "from pytorch_tabnet.tab_model import TabNetClassifier\n",
    "\n",
    "model = TabNetClassifier()\n",
    "train, val, test = generate_dataloaders(datafiles=datafiles, labelfiles=labelfiles, class_label='Type', skip=3, batch_size=4, num_workers=0)"
   ]
  },
  {
   "cell_type": "code",
   "execution_count": null,
   "id": "3d246864",
   "metadata": {},
   "outputs": [],
   "source": [
    "sample = next(iter(train))\n",
    "sample"
   ]
  },
  {
   "cell_type": "code",
   "execution_count": null,
   "id": "3f50d867",
   "metadata": {},
   "outputs": [],
   "source": [
    "model(sample[0])"
   ]
  },
  {
   "cell_type": "code",
   "execution_count": 31,
   "id": "0e1a8931",
   "metadata": {},
   "outputs": [
    {
     "data": {
      "text/plain": [
       "10"
      ]
     },
     "execution_count": 31,
     "metadata": {},
     "output_type": "execute_result"
    }
   ],
   "source": [
    "sum(i for i in range(5))"
   ]
  },
  {
   "cell_type": "code",
   "execution_count": null,
   "id": "3f493e9d",
   "metadata": {},
   "outputs": [],
   "source": []
  }
 ],
 "metadata": {
  "kernelspec": {
   "display_name": "Python [conda env:base-data-science] *",
   "language": "python",
   "name": "conda-env-base-data-science-py"
  },
  "language_info": {
   "codemirror_mode": {
    "name": "ipython",
    "version": 3
   },
   "file_extension": ".py",
   "mimetype": "text/x-python",
   "name": "python",
   "nbconvert_exporter": "python",
   "pygments_lexer": "ipython3",
   "version": "3.9.7"
  }
 },
 "nbformat": 4,
 "nbformat_minor": 5
}
