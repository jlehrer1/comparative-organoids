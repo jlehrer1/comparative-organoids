{
 "cells": [
  {
   "cell_type": "markdown",
   "id": "bfe5f157",
   "metadata": {},
   "source": [
    "# Data Validation and Sanity Checks\n",
    "\n",
    "In this notebook, we'll compare the outputs of our GeneExpressionData class with the original expression matrices and labels"
   ]
  },
  {
   "cell_type": "code",
   "execution_count": 1,
   "id": "be54c4a5",
   "metadata": {},
   "outputs": [],
   "source": [
    "import pandas as pd \n",
    "import os\n",
    "import sys\n",
    "import pandas as pd\n",
    "import numpy as np\n",
    "from torch.utils.data import *\n",
    "from tqdm import tqdm\n",
    "import linecache \n",
    "from pytorch_tabnet.tab_model import TabNetClassifier\n",
    "sys.path.append('../src/')\n",
    "sys.path.append('..')\n",
    "\n",
    "from src.models.lib.neural import GeneClassifier"
   ]
  },
  {
   "cell_type": "code",
   "execution_count": 2,
   "id": "16540141",
   "metadata": {},
   "outputs": [],
   "source": [
    "from src.models.lib.data import *\n",
    "from src.helper import *"
   ]
  },
  {
   "cell_type": "markdown",
   "id": "3b051193",
   "metadata": {},
   "source": [
    "## Intersection between reference columns with current dataset columns \n",
    "\n",
    "Here, we'll write test code for the methods used in mapping an arbitrary dataset sample to a list of given reference columns, since this method being correct is extremely important "
   ]
  },
  {
   "cell_type": "code",
   "execution_count": 3,
   "id": "25c97585",
   "metadata": {},
   "outputs": [],
   "source": [
    "def clean_sample(sample, refgenes, currgenes):\n",
    "    intersection = np.intersect1d(currgenes, refgenes, return_indices=True)\n",
    "    indices = intersection[1] # List of indices in currgenes that equal refgenes \n",
    "    \n",
    "    axis = (1 if sample.ndim == 2 else 0)\n",
    "    sample = np.sort(sample, axis=axis)\n",
    "    sample = np.take(sample, indices, axis=axis)\n",
    "\n",
    "    return torch.from_numpy(sample)"
   ]
  },
  {
   "cell_type": "markdown",
   "id": "ff6999a2",
   "metadata": {},
   "source": [
    "### Unit Test Example 01"
   ]
  },
  {
   "cell_type": "code",
   "execution_count": 4,
   "id": "b7e7870f",
   "metadata": {},
   "outputs": [],
   "source": [
    "def test1():\n",
    "    ref = ['a', 'b', 'c']\n",
    "    curr = ['b', 'a', 'c', 'd'] \n",
    "    sample = np.array([1,2,3,4]) # Want --> [2,1,3]\n",
    "\n",
    "    result = clean_sample(sample, ref, curr)\n",
    "    desired = torch.from_numpy(np.array([2,1,3]))\n",
    "    \n",
    "    assert torch.equal(result, desired)\n",
    "    \n",
    "def test2():\n",
    "    ref = ['a', 'b', 'c']\n",
    "    curr = ['c', 'd', 'b', 'a']\n",
    "\n",
    "    sample = np.array(\n",
    "        [[1,2,3,4],\n",
    "         [5,6,7,8]]\n",
    "    ) \n",
    "    # --> want [[4, 3, 1],\n",
    "    #           [8, 7, 5]]\n",
    "\n",
    "    res = clean_sample(sample, ref, curr)\n",
    "    desired = torch.from_numpy(np.array([\n",
    "        [4,3,1],\n",
    "        [8,7,5]\n",
    "    ]))\n",
    "    \n",
    "    assert torch.equal(res, desired)\n",
    "    \n",
    "test1()\n",
    "test2()"
   ]
  },
  {
   "cell_type": "markdown",
   "id": "3eae7338",
   "metadata": {},
   "source": [
    "From initial tests, `clean_sample` seems to be working correctly."
   ]
  },
  {
   "cell_type": "markdown",
   "id": "c5e8212a",
   "metadata": {},
   "source": [
    "## Validation of GeneExpressionData class with the original expression matrices and label files \n",
    "\n",
    "In this section, we'll confirm that the GeneExpressionData method returns the correct (sample, label) pairs relative to the original expression matrices and raw label files."
   ]
  },
  {
   "cell_type": "code",
   "execution_count": 5,
   "id": "acc0ebd5",
   "metadata": {
    "scrolled": true
   },
   "outputs": [
    {
     "data": {
      "text/plain": [
       "0              0\n",
       "1              1\n",
       "2              2\n",
       "3              3\n",
       "4              4\n",
       "           ...  \n",
       "186471    189404\n",
       "186472    189405\n",
       "186473    189406\n",
       "186474    189407\n",
       "186475    189408\n",
       "Name: cell, Length: 186476, dtype: int64"
      ]
     },
     "metadata": {},
     "output_type": "display_data"
    },
    {
     "data": {
      "text/plain": [
       "0            1\n",
       "1            2\n",
       "2            3\n",
       "3            4\n",
       "4            5\n",
       "         ...  \n",
       "47504    49489\n",
       "47505    49490\n",
       "47506    49491\n",
       "47507    49492\n",
       "47508    49493\n",
       "Name: cell, Length: 47509, dtype: int64"
      ]
     },
     "metadata": {},
     "output_type": "display_data"
    },
    {
     "data": {
      "text/plain": [
       "0            0\n",
       "1            1\n",
       "2            2\n",
       "3            3\n",
       "4            4\n",
       "         ...  \n",
       "76528    76528\n",
       "76529    76529\n",
       "76530    76530\n",
       "76531    76531\n",
       "76532    76532\n",
       "Name: cell, Length: 76533, dtype: int64"
      ]
     },
     "metadata": {},
     "output_type": "display_data"
    },
    {
     "data": {
      "text/plain": [
       "0              0\n",
       "1              1\n",
       "2              2\n",
       "3              3\n",
       "4              4\n",
       "           ...  \n",
       "659546    691923\n",
       "659547    691924\n",
       "659548    691925\n",
       "659549    691926\n",
       "659550    691927\n",
       "Name: cell, Length: 659551, dtype: int64"
      ]
     },
     "metadata": {},
     "output_type": "display_data"
    }
   ],
   "source": [
    "datafiles, labelfiles = list(INTERIM_DATA_AND_LABEL_FILES_LIST.keys()), list(INTERIM_DATA_AND_LABEL_FILES_LIST.values())\n",
    "\n",
    "datafiles = [os.path.join('..', 'data', 'interim', f) for f in datafiles]\n",
    "labelfiles = [os.path.join('..', 'data', 'processed/labels', f) for f in labelfiles]\n",
    "\n",
    "for labelfile in labelfiles:\n",
    "    display(pd.read_csv(labelfile)['cell'])"
   ]
  },
  {
   "cell_type": "markdown",
   "id": "17ab43b0",
   "metadata": {},
   "source": [
    "Next, we define a function that takes the first `N` samples from the GeneExpressionData object and from the raw expression matrix and compares the samples to make sure they are equal."
   ]
  },
  {
   "cell_type": "code",
   "execution_count": 6,
   "id": "3704fbd0",
   "metadata": {
    "scrolled": true
   },
   "outputs": [],
   "source": [
    "N = 5\n",
    "\n",
    "def test_first_n(n, datafile, labelfile):\n",
    "    data = GeneExpressionData(datafile, labelfile, 'Type', skip=3, index_col='cell')\n",
    "    cols = data.columns\n",
    "    \n",
    "    # Generate dict with half precision values to read this into my 16gb memory\n",
    "    data_df = pd.read_csv(datafile, nrows=2*n, header=1, dtype=np.float32) # Might need some extras since numerical index drops some values\n",
    "    label_df = pd.read_csv(labelfile, nrows=n)\n",
    "    similar = []\n",
    "    for i in range(n):\n",
    "        datasample = data[i][0]\n",
    "\n",
    "        idx = label_df.loc[i, 'cell']\n",
    "        dfsample = torch.from_numpy(data_df.loc[idx, :].values).float()\n",
    "        \n",
    "        isclose = all(torch.isclose(datasample, dfsample))\n",
    "        \n",
    "        similar.append(isclose)\n",
    "    \n",
    "    print(f\"First {n=} columns of expression matrix is equal to GeneExpressionData: {all(p for p in similar)}\")\n",
    "\n",
    "def test_split(n, datafile, labelfile, class_label='Type', index_col='cell'):\n",
    "    from sklearn.model_selection import train_test_split \n",
    "    # 2*n is usually enough to capture differences in index_col\n",
    "\n",
    "    label_df = pd.read_csv(labelfile, nrows=n)\n",
    "    data_df = pd.read_csv(datafile, nrows=2*n + 1, dtype=np.float32, header=1)\n",
    "    display(label_df)\n",
    "\n",
    "    labels = label_df.loc[:, class_label]\n",
    "    \n",
    "    train, _ = train_test_split(labels, random_state=42)\n",
    "    train = train.index \n",
    "    \n",
    "    train_labeldf = label_df.loc[train, :].reset_index(drop=True)\n",
    "\n",
    "    train = GeneExpressionData(\n",
    "            datafile,\n",
    "            labelfile,\n",
    "            index_col=index_col,\n",
    "            class_label=class_label,\n",
    "            indices=train,\n",
    "        )\n",
    "    \n",
    "    train_similar = []\n",
    "    for i in range(n):\n",
    "        trainsample = train[i][0]\n",
    "        df_idx = train_labeldf.loc[i, index_col]\n",
    "        print(df_idx)\n",
    "        trainsample_fromdf = torch.from_numpy(\n",
    "            data_df.loc[df_idx, :].values\n",
    "        )\n",
    "        \n",
    "        train_similar.append(\n",
    "            all(torch.isclose(trainsample, trainsample_fromdf))\n",
    "        )\n",
    "        \n",
    "    assert all(p for p in train_similar) # all train are similar \n"
   ]
  },
  {
   "cell_type": "code",
   "execution_count": 7,
   "id": "a51a51e2",
   "metadata": {
    "scrolled": true
   },
   "outputs": [],
   "source": [
    "# test_split(10, datafiles[1], labelfiles[1])"
   ]
  },
  {
   "cell_type": "code",
   "execution_count": 8,
   "id": "f5421795",
   "metadata": {
    "scrolled": false
   },
   "outputs": [],
   "source": [
    "# train._labeldf"
   ]
  },
  {
   "cell_type": "markdown",
   "id": "a42bcdbb",
   "metadata": {},
   "source": [
    "## h5ad data tests (via numpy array indexing)"
   ]
  },
  {
   "cell_type": "code",
   "execution_count": 9,
   "id": "1d450387",
   "metadata": {},
   "outputs": [],
   "source": [
    "import scanpy as sc \n",
    "import anndata as an \n",
    "\n",
    "rand = pd.DataFrame(np.random.randint(0, 10, size=[10, 10]))\n",
    "obs = [f'cell{i}' for i in range(10)]\n",
    "var = [f'col{i}' for i in range(10)]"
   ]
  },
  {
   "cell_type": "code",
   "execution_count": 10,
   "id": "293266f9",
   "metadata": {},
   "outputs": [
    {
     "data": {
      "text/plain": [
       "array([1, 1, 1, 0, 1, 0, 1, 0, 0, 0])"
      ]
     },
     "execution_count": 10,
     "metadata": {},
     "output_type": "execute_result"
    }
   ],
   "source": [
    "labels = np.random.randint(0, 2, size=[10])\n",
    "labels"
   ]
  },
  {
   "cell_type": "code",
   "execution_count": 11,
   "id": "99fb42fc",
   "metadata": {},
   "outputs": [],
   "source": [
    "labels = pd.Series(labels, obs)\n",
    "labels.index.name = 'cell'"
   ]
  },
  {
   "cell_type": "code",
   "execution_count": 12,
   "id": "38d3e557",
   "metadata": {},
   "outputs": [],
   "source": [
    "labels.to_csv('h5ad_test_labels.csv')"
   ]
  },
  {
   "cell_type": "code",
   "execution_count": 13,
   "id": "ea0e4bf0",
   "metadata": {},
   "outputs": [
    {
     "data": {
      "text/html": [
       "<div>\n",
       "<style scoped>\n",
       "    .dataframe tbody tr th:only-of-type {\n",
       "        vertical-align: middle;\n",
       "    }\n",
       "\n",
       "    .dataframe tbody tr th {\n",
       "        vertical-align: top;\n",
       "    }\n",
       "\n",
       "    .dataframe thead th {\n",
       "        text-align: right;\n",
       "    }\n",
       "</style>\n",
       "<table border=\"1\" class=\"dataframe\">\n",
       "  <thead>\n",
       "    <tr style=\"text-align: right;\">\n",
       "      <th></th>\n",
       "      <th>cell</th>\n",
       "      <th>0</th>\n",
       "    </tr>\n",
       "  </thead>\n",
       "  <tbody>\n",
       "    <tr>\n",
       "      <th>0</th>\n",
       "      <td>cell0</td>\n",
       "      <td>1</td>\n",
       "    </tr>\n",
       "    <tr>\n",
       "      <th>1</th>\n",
       "      <td>cell1</td>\n",
       "      <td>1</td>\n",
       "    </tr>\n",
       "    <tr>\n",
       "      <th>2</th>\n",
       "      <td>cell2</td>\n",
       "      <td>1</td>\n",
       "    </tr>\n",
       "    <tr>\n",
       "      <th>3</th>\n",
       "      <td>cell3</td>\n",
       "      <td>0</td>\n",
       "    </tr>\n",
       "    <tr>\n",
       "      <th>4</th>\n",
       "      <td>cell4</td>\n",
       "      <td>1</td>\n",
       "    </tr>\n",
       "  </tbody>\n",
       "</table>\n",
       "</div>"
      ],
      "text/plain": [
       "    cell  0\n",
       "0  cell0  1\n",
       "1  cell1  1\n",
       "2  cell2  1\n",
       "3  cell3  0\n",
       "4  cell4  1"
      ]
     },
     "execution_count": 13,
     "metadata": {},
     "output_type": "execute_result"
    }
   ],
   "source": [
    "labels = pd.read_csv('h5ad_test_labels.csv')\n",
    "labels.head()"
   ]
  },
  {
   "cell_type": "code",
   "execution_count": 14,
   "id": "1b3280b2",
   "metadata": {},
   "outputs": [],
   "source": [
    "dataset=an.AnnData(\n",
    "    X=rand,\n",
    "    obs=obs,\n",
    "    var=var\n",
    ")"
   ]
  },
  {
   "cell_type": "code",
   "execution_count": 15,
   "id": "daf0b391",
   "metadata": {},
   "outputs": [
    {
     "data": {
      "text/plain": [
       "0.0"
      ]
     },
     "execution_count": 15,
     "metadata": {},
     "output_type": "execute_result"
    }
   ],
   "source": [
    "np.linalg.norm(dataset.X - rand) # good, nothing is changed"
   ]
  },
  {
   "cell_type": "code",
   "execution_count": 16,
   "id": "6aaa74b3",
   "metadata": {},
   "outputs": [],
   "source": [
    "from sklearn.model_selection import train_test_split\n",
    "\n",
    "trainindex, valindex = train_test_split(labels.loc[:, '0'], random_state=0)"
   ]
  },
  {
   "cell_type": "code",
   "execution_count": 17,
   "id": "1e8d9fcf",
   "metadata": {},
   "outputs": [
    {
     "data": {
      "text/plain": [
       "(9    0\n",
       " 1    1\n",
       " 6    1\n",
       " 7    0\n",
       " 3    0\n",
       " 0    1\n",
       " 5    0\n",
       " Name: 0, dtype: int64,\n",
       " 2    1\n",
       " 8    0\n",
       " 4    1\n",
       " Name: 0, dtype: int64)"
      ]
     },
     "execution_count": 17,
     "metadata": {},
     "output_type": "execute_result"
    }
   ],
   "source": [
    "trainindex, valindex"
   ]
  },
  {
   "cell_type": "code",
   "execution_count": 18,
   "id": "58190588",
   "metadata": {},
   "outputs": [],
   "source": [
    "train, val = dataset.X[trainindex.index], dataset.X[valindex.index]"
   ]
  },
  {
   "cell_type": "code",
   "execution_count": 19,
   "id": "c6cc7312",
   "metadata": {},
   "outputs": [],
   "source": [
    "from scipy.sparse import issparse \n",
    "from torch.utils.data import Dataset\n",
    "\n",
    "class NumpyStream(Dataset):\n",
    "    def __init__(self,\n",
    "        matrix: np.ndarray,\n",
    "        labels: List[any]=None,\n",
    "        columns: List[any]=None,\n",
    "        *args,\n",
    "        **kwargs,\n",
    "    ) -> None:\n",
    "        super().__init__()\n",
    "        self.data = matrix\n",
    "        self.labels = labels \n",
    "        \n",
    "    def __getitem__(self, idx):\n",
    "        if isinstance(idx, slice):\n",
    "            step = (1 if idx.step is None else idx.step)\n",
    "            idxs = range(idx.start, idx.stop, step)\n",
    "            return [self[i] for i in idxs]\n",
    "\n",
    "        data = self.data[idx, :]\n",
    "        return (\n",
    "            torch.from_numpy(data), \n",
    "            self.labels[idx]\n",
    "        )\n",
    "    \n",
    "    def __len__(self):\n",
    "        return len(self.data)\n"
   ]
  },
  {
   "cell_type": "code",
   "execution_count": 20,
   "id": "7be0dea8",
   "metadata": {},
   "outputs": [],
   "source": [
    "testdata = NumpyStream(\n",
    "    matrix=dataset.X[trainindex.index, :],\n",
    "    labels=trainindex.values\n",
    ")"
   ]
  },
  {
   "cell_type": "code",
   "execution_count": 21,
   "id": "2eae95f0",
   "metadata": {
    "scrolled": true
   },
   "outputs": [
    {
     "data": {
      "text/plain": [
       "array([[0., 0., 0., 0., 0., 0., 0., 0., 0., 0.],\n",
       "       [0., 0., 0., 0., 0., 0., 0., 0., 0., 0.],\n",
       "       [0., 0., 0., 0., 0., 0., 0., 0., 0., 0.],\n",
       "       [0., 0., 0., 0., 0., 0., 0., 0., 0., 0.],\n",
       "       [0., 0., 0., 0., 0., 0., 0., 0., 0., 0.],\n",
       "       [0., 0., 0., 0., 0., 0., 0., 0., 0., 0.],\n",
       "       [0., 0., 0., 0., 0., 0., 0., 0., 0., 0.]], dtype=float32)"
      ]
     },
     "execution_count": 21,
     "metadata": {},
     "output_type": "execute_result"
    }
   ],
   "source": [
    "testdata.data - train"
   ]
  },
  {
   "cell_type": "code",
   "execution_count": 22,
   "id": "3c40012d",
   "metadata": {},
   "outputs": [
    {
     "data": {
      "text/plain": [
       "array([[7., 2., 8., 2., 4., 1., 6., 5., 1., 8.],\n",
       "       [2., 2., 6., 5., 7., 7., 6., 2., 3., 0.],\n",
       "       [9., 3., 1., 4., 3., 8., 2., 1., 0., 6.],\n",
       "       [9., 4., 5., 4., 1., 3., 2., 2., 8., 2.],\n",
       "       [8., 6., 0., 3., 9., 4., 4., 0., 6., 5.],\n",
       "       [6., 7., 9., 5., 2., 2., 9., 8., 2., 4.],\n",
       "       [9., 6., 1., 2., 7., 7., 1., 4., 5., 5.]], dtype=float32)"
      ]
     },
     "execution_count": 22,
     "metadata": {},
     "output_type": "execute_result"
    }
   ],
   "source": [
    "dataset.X[trainindex.index, :]"
   ]
  },
  {
   "cell_type": "code",
   "execution_count": 23,
   "id": "c5a5a4c6",
   "metadata": {},
   "outputs": [
    {
     "data": {
      "text/plain": [
       "0    7\n",
       "1    2\n",
       "2    8\n",
       "3    2\n",
       "4    4\n",
       "5    1\n",
       "6    6\n",
       "7    5\n",
       "8    1\n",
       "9    8\n",
       "Name: 9, dtype: int64"
      ]
     },
     "execution_count": 23,
     "metadata": {},
     "output_type": "execute_result"
    }
   ],
   "source": [
    "rand.loc[9, :]"
   ]
  },
  {
   "cell_type": "markdown",
   "id": "942bf33a",
   "metadata": {},
   "source": [
    "## Comparison with already written method \n",
    "\n"
   ]
  },
  {
   "cell_type": "code",
   "execution_count": 24,
   "id": "2c2a84c7",
   "metadata": {},
   "outputs": [],
   "source": [
    "# Make stratified split on labels\n",
    "current_labels = labels.loc[:, '0']\n",
    "\n",
    "traintest, valtest = (\n",
    "    NumpyStream(\n",
    "        matrix=dataset.X[split.index],\n",
    "        labels=split.values,\n",
    "    )\n",
    "    for split in [trainindex, valindex]\n",
    ")"
   ]
  },
  {
   "cell_type": "code",
   "execution_count": 25,
   "id": "d4a1d9d3",
   "metadata": {},
   "outputs": [
    {
     "data": {
      "text/plain": [
       "array([[0., 0., 0., 0., 0., 0., 0., 0., 0., 0.],\n",
       "       [0., 0., 0., 0., 0., 0., 0., 0., 0., 0.],\n",
       "       [0., 0., 0., 0., 0., 0., 0., 0., 0., 0.],\n",
       "       [0., 0., 0., 0., 0., 0., 0., 0., 0., 0.],\n",
       "       [0., 0., 0., 0., 0., 0., 0., 0., 0., 0.],\n",
       "       [0., 0., 0., 0., 0., 0., 0., 0., 0., 0.],\n",
       "       [0., 0., 0., 0., 0., 0., 0., 0., 0., 0.]], dtype=float32)"
      ]
     },
     "execution_count": 25,
     "metadata": {},
     "output_type": "execute_result"
    }
   ],
   "source": [
    "traintest.data - train"
   ]
  },
  {
   "cell_type": "code",
   "execution_count": 26,
   "id": "58904496",
   "metadata": {},
   "outputs": [
    {
     "data": {
      "text/plain": [
       "array([ True,  True,  True,  True,  True,  True,  True])"
      ]
     },
     "execution_count": 26,
     "metadata": {},
     "output_type": "execute_result"
    }
   ],
   "source": [
    "trainindex.values == traintest.labels"
   ]
  },
  {
   "cell_type": "code",
   "execution_count": 27,
   "id": "11411c2c",
   "metadata": {},
   "outputs": [
    {
     "data": {
      "text/plain": [
       "AnnData object with n_obs × n_vars = 141069 × 34430\n",
       "    obs: 'dataset_name', 'batch_name', 'timepoint', 'region', 'class', 'hires_leiden', 'leiden', 'n_genes', 'latent_cell_probability', 'latent_time', 'n_counts'\n",
       "    var: 'feature_type-0-10', 'id-0-10', 'name-0-10', 'mean', 'std'\n",
       "    uns: 'allen_class_label_colors', 'allen_cluster_label_colors', 'cc_velocity_graph', 'cc_velocity_graph_neg', 'cc_velocity_params', 'class_colors', 'classes', 'hvg', 'iroot', 'leiden', 'linear_velocity_graph', 'linear_velocity_graph_neg', 'linear_velocity_params', 'neighbors', 'pca', 'recover_dynamics', 'region_colors', 'regions', 'simplified_allen_colors', 'supervised_name_colors', 'umap', 'velocity_params'\n",
       "    obsm: 'X_pca', 'X_umap', 'cc_velocity_umap', 'linear_velocity_umap'\n",
       "    varm: 'PCs', 'loss'\n",
       "    obsp: 'connectivities', 'distances'"
      ]
     },
     "execution_count": 27,
     "metadata": {},
     "output_type": "execute_result"
    }
   ],
   "source": [
    "mouseatlas = an.read_h5ad('../data/mouse/MouseAdultInhibitoryNeurons.h5ad')\n",
    "\n",
    "mouseatlas"
   ]
  },
  {
   "cell_type": "code",
   "execution_count": 36,
   "id": "ee1a12c4",
   "metadata": {},
   "outputs": [
    {
     "data": {
      "text/html": [
       "<div>\n",
       "<style scoped>\n",
       "    .dataframe tbody tr th:only-of-type {\n",
       "        vertical-align: middle;\n",
       "    }\n",
       "\n",
       "    .dataframe tbody tr th {\n",
       "        vertical-align: top;\n",
       "    }\n",
       "\n",
       "    .dataframe thead th {\n",
       "        text-align: right;\n",
       "    }\n",
       "</style>\n",
       "<table border=\"1\" class=\"dataframe\">\n",
       "  <thead>\n",
       "    <tr style=\"text-align: right;\">\n",
       "      <th></th>\n",
       "      <th>class</th>\n",
       "      <th>numeric_class</th>\n",
       "    </tr>\n",
       "  </thead>\n",
       "  <tbody>\n",
       "    <tr>\n",
       "      <th>0</th>\n",
       "      <td>S-phase_MCM4/H43C</td>\n",
       "      <td>36</td>\n",
       "    </tr>\n",
       "    <tr>\n",
       "      <th>1</th>\n",
       "      <td>S-phase_MCM4/H43C</td>\n",
       "      <td>36</td>\n",
       "    </tr>\n",
       "    <tr>\n",
       "      <th>2</th>\n",
       "      <td>Ctx_LHX6/SST</td>\n",
       "      <td>9</td>\n",
       "    </tr>\n",
       "    <tr>\n",
       "      <th>3</th>\n",
       "      <td>Str_LHX8/CHAT</td>\n",
       "      <td>40</td>\n",
       "    </tr>\n",
       "    <tr>\n",
       "      <th>4</th>\n",
       "      <td>Str_LHX8/CHAT</td>\n",
       "      <td>40</td>\n",
       "    </tr>\n",
       "    <tr>\n",
       "      <th>...</th>\n",
       "      <td>...</td>\n",
       "      <td>...</td>\n",
       "    </tr>\n",
       "    <tr>\n",
       "      <th>141064</th>\n",
       "      <td>S-phase_MCM4/H43C</td>\n",
       "      <td>36</td>\n",
       "    </tr>\n",
       "    <tr>\n",
       "      <th>141065</th>\n",
       "      <td>Transition</td>\n",
       "      <td>41</td>\n",
       "    </tr>\n",
       "    <tr>\n",
       "      <th>141066</th>\n",
       "      <td>Transition</td>\n",
       "      <td>41</td>\n",
       "    </tr>\n",
       "    <tr>\n",
       "      <th>141067</th>\n",
       "      <td>S-phase_MCM4/H43C</td>\n",
       "      <td>36</td>\n",
       "    </tr>\n",
       "    <tr>\n",
       "      <th>141068</th>\n",
       "      <td>S-phase_MCM4/H43C</td>\n",
       "      <td>36</td>\n",
       "    </tr>\n",
       "  </tbody>\n",
       "</table>\n",
       "<p>141069 rows × 2 columns</p>\n",
       "</div>"
      ],
      "text/plain": [
       "                    class  numeric_class\n",
       "0       S-phase_MCM4/H43C             36\n",
       "1       S-phase_MCM4/H43C             36\n",
       "2            Ctx_LHX6/SST              9\n",
       "3           Str_LHX8/CHAT             40\n",
       "4           Str_LHX8/CHAT             40\n",
       "...                   ...            ...\n",
       "141064  S-phase_MCM4/H43C             36\n",
       "141065         Transition             41\n",
       "141066         Transition             41\n",
       "141067  S-phase_MCM4/H43C             36\n",
       "141068  S-phase_MCM4/H43C             36\n",
       "\n",
       "[141069 rows x 2 columns]"
      ]
     },
     "execution_count": 36,
     "metadata": {},
     "output_type": "execute_result"
    }
   ],
   "source": [
    "mouselabels = pd.read_csv('../data/mouse/MouseAdultInhibitoryNeurons_labels.csv')\n",
    "# mouselabels = mouselabels.loc[mouselabels['numeric_class'].isin(list(range(0, 5)))]\n",
    "\n",
    "mouselabels"
   ]
  },
  {
   "cell_type": "code",
   "execution_count": 37,
   "id": "ed0f67d2",
   "metadata": {},
   "outputs": [
    {
     "data": {
      "text/plain": [
       "array([0.      , 0.      , 2.229903, ..., 0.      , 0.      , 0.      ],\n",
       "      dtype=float32)"
      ]
     },
     "execution_count": 37,
     "metadata": {},
     "output_type": "execute_result"
    }
   ],
   "source": [
    "mouseatlas.X[0] - mouseatlas.X[141068]"
   ]
  },
  {
   "cell_type": "code",
   "execution_count": 40,
   "id": "405d3ae9",
   "metadata": {},
   "outputs": [
    {
     "data": {
      "text/plain": [
       "array([0.      , 0.      , 2.229903, ..., 0.      , 0.      , 0.      ],\n",
       "      dtype=float32)"
      ]
     },
     "execution_count": 40,
     "metadata": {},
     "output_type": "execute_result"
    }
   ],
   "source": [
    "mouseatlas.X[0] - mouseatlas.X[141065]"
   ]
  },
  {
   "cell_type": "code",
   "execution_count": 55,
   "id": "479f2d56",
   "metadata": {},
   "outputs": [],
   "source": [
    "from xgboost import XGBClassifier"
   ]
  },
  {
   "cell_type": "code",
   "execution_count": null,
   "id": "262d8e78",
   "metadata": {},
   "outputs": [],
   "source": [
    "classifier = XGBClassifier()\n",
    "\n",
    "classifier.fit(mouseatlas.X, mouselabels.loc[:, 'numeric_class'].values)"
   ]
  },
  {
   "cell_type": "code",
   "execution_count": null,
   "id": "dc6ed8cc",
   "metadata": {},
   "outputs": [],
   "source": []
  }
 ],
 "metadata": {
  "kernelspec": {
   "display_name": "Python [conda env:base-data-science]",
   "language": "python",
   "name": "conda-env-base-data-science-py"
  },
  "language_info": {
   "codemirror_mode": {
    "name": "ipython",
    "version": 3
   },
   "file_extension": ".py",
   "mimetype": "text/x-python",
   "name": "python",
   "nbconvert_exporter": "python",
   "pygments_lexer": "ipython3",
   "version": "3.9.7"
  }
 },
 "nbformat": 4,
 "nbformat_minor": 5
}
