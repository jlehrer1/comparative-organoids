{
 "cells": [
  {
   "cell_type": "code",
   "execution_count": 1,
   "id": "186d8682",
   "metadata": {},
   "outputs": [],
   "source": [
    "import scanpy as sc \n",
    "import pandas as pd "
   ]
  },
  {
   "cell_type": "code",
   "execution_count": 2,
   "id": "ea597b79",
   "metadata": {},
   "outputs": [
    {
     "name": "stderr",
     "output_type": "stream",
     "text": [
      "Variable names are not unique. To make them unique, call `.var_names_make_unique`.\n"
     ]
    }
   ],
   "source": [
    "adata = sc.read_h5ad(\"/Users/julian/Downloads/Mo_PV_paper_TDTomato_mouseonly.h5ad\")\n",
    "adata.var_names_make_unique()"
   ]
  },
  {
   "cell_type": "code",
   "execution_count": 3,
   "id": "b53f0bb5",
   "metadata": {},
   "outputs": [
    {
     "data": {
      "text/plain": [
       "(1624, 32286)"
      ]
     },
     "execution_count": 3,
     "metadata": {},
     "output_type": "execute_result"
    }
   ],
   "source": [
    "adata.shape"
   ]
  },
  {
   "cell_type": "code",
   "execution_count": 5,
   "id": "7dea8490",
   "metadata": {
    "scrolled": true
   },
   "outputs": [
    {
     "data": {
      "text/plain": [
       "<1624x32286 sparse matrix of type '<class 'numpy.float32'>'\n",
       "\twith 4503058 stored elements in Compressed Sparse Row format>"
      ]
     },
     "execution_count": 5,
     "metadata": {},
     "output_type": "execute_result"
    }
   ],
   "source": [
    "adata.X"
   ]
  },
  {
   "cell_type": "code",
   "execution_count": 10,
   "id": "ce16fdf8",
   "metadata": {},
   "outputs": [
    {
     "data": {
      "text/plain": [
       "Index(['Xkr4', 'Gm1992', 'Gm19938', 'Gm37381', 'Rp1', 'Sox17', 'Gm37587',\n",
       "       'Gm37323', 'Mrpl15', 'Lypla1',\n",
       "       ...\n",
       "       'AC163611.1', 'AC163611.2', 'AC140365.1', 'AC124606.2', 'AC124606.1',\n",
       "       'AC133095.2', 'AC133095.1', 'AC234645.1', 'AC149090.1', 'TDTomato'],\n",
       "      dtype='object', length=32286)"
      ]
     },
     "execution_count": 10,
     "metadata": {},
     "output_type": "execute_result"
    }
   ],
   "source": [
    "adata.var.index"
   ]
  },
  {
   "cell_type": "code",
   "execution_count": 12,
   "id": "b88052bd",
   "metadata": {},
   "outputs": [
    {
     "data": {
      "text/plain": [
       "AnnData object with n_obs × n_vars = 1624 × 32286\n",
       "    var: 'gene_ids', 'feature_types', 'genome'"
      ]
     },
     "execution_count": 12,
     "metadata": {},
     "output_type": "execute_result"
    }
   ],
   "source": [
    "adata"
   ]
  },
  {
   "cell_type": "code",
   "execution_count": 6,
   "id": "5a85aa5d",
   "metadata": {},
   "outputs": [
    {
     "data": {
      "image/png": "[encoded data removed]",
      "text/plain": [
       "<Figure size 432x288 with 1 Axes>"
      ]
     },
     "metadata": {},
     "output_type": "display_data"
    }
   ],
   "source": [
    "sc.pl.pca(adata)"
   ]
  },
  {
   "cell_type": "code",
   "execution_count": 13,
   "id": "8e6f9162",
   "metadata": {
    "scrolled": true
   },
   "outputs": [
    {
     "data": {
      "text/html": [
       "<div>\n",
       "<style scoped>\n",
       "    .dataframe tbody tr th:only-of-type {\n",
       "        vertical-align: middle;\n",
       "    }\n",
       "\n",
       "    .dataframe tbody tr th {\n",
       "        vertical-align: top;\n",
       "    }\n",
       "\n",
       "    .dataframe thead th {\n",
       "        text-align: right;\n",
       "    }\n",
       "</style>\n",
       "<table border=\"1\" class=\"dataframe\">\n",
       "  <thead>\n",
       "    <tr style=\"text-align: right;\">\n",
       "      <th></th>\n",
       "      <th>Xkr4</th>\n",
       "      <th>Gm1992</th>\n",
       "      <th>Gm19938</th>\n",
       "      <th>Gm37381</th>\n",
       "      <th>Rp1</th>\n",
       "      <th>Sox17</th>\n",
       "      <th>Gm37587</th>\n",
       "      <th>Gm37323</th>\n",
       "      <th>Mrpl15</th>\n",
       "      <th>Lypla1</th>\n",
       "      <th>...</th>\n",
       "      <th>AC163611.1</th>\n",
       "      <th>AC163611.2</th>\n",
       "      <th>AC140365.1</th>\n",
       "      <th>AC124606.2</th>\n",
       "      <th>AC124606.1</th>\n",
       "      <th>AC133095.2</th>\n",
       "      <th>AC133095.1</th>\n",
       "      <th>AC234645.1</th>\n",
       "      <th>AC149090.1</th>\n",
       "      <th>TDTomato</th>\n",
       "    </tr>\n",
       "  </thead>\n",
       "  <tbody>\n",
       "    <tr>\n",
       "      <th>AAACCCAGTTCCCAAA-1</th>\n",
       "      <td>0.0</td>\n",
       "      <td>0.0</td>\n",
       "      <td>0.0</td>\n",
       "      <td>0.0</td>\n",
       "      <td>0.0</td>\n",
       "      <td>0.0</td>\n",
       "      <td>0.0</td>\n",
       "      <td>0.0</td>\n",
       "      <td>0.0</td>\n",
       "      <td>0.0</td>\n",
       "      <td>...</td>\n",
       "      <td>0.0</td>\n",
       "      <td>0.0</td>\n",
       "      <td>0.0</td>\n",
       "      <td>0.0</td>\n",
       "      <td>0.0</td>\n",
       "      <td>0.0</td>\n",
       "      <td>0.0</td>\n",
       "      <td>0.0</td>\n",
       "      <td>0.0</td>\n",
       "      <td>0.0</td>\n",
       "    </tr>\n",
       "    <tr>\n",
       "      <th>AAACCCATCGATCCAA-1</th>\n",
       "      <td>1.0</td>\n",
       "      <td>0.0</td>\n",
       "      <td>0.0</td>\n",
       "      <td>0.0</td>\n",
       "      <td>0.0</td>\n",
       "      <td>0.0</td>\n",
       "      <td>0.0</td>\n",
       "      <td>0.0</td>\n",
       "      <td>1.0</td>\n",
       "      <td>0.0</td>\n",
       "      <td>...</td>\n",
       "      <td>0.0</td>\n",
       "      <td>0.0</td>\n",
       "      <td>0.0</td>\n",
       "      <td>0.0</td>\n",
       "      <td>0.0</td>\n",
       "      <td>0.0</td>\n",
       "      <td>0.0</td>\n",
       "      <td>0.0</td>\n",
       "      <td>6.0</td>\n",
       "      <td>0.0</td>\n",
       "    </tr>\n",
       "    <tr>\n",
       "      <th>AAACGAAGTCAGCGTC-1</th>\n",
       "      <td>0.0</td>\n",
       "      <td>0.0</td>\n",
       "      <td>0.0</td>\n",
       "      <td>0.0</td>\n",
       "      <td>0.0</td>\n",
       "      <td>0.0</td>\n",
       "      <td>0.0</td>\n",
       "      <td>0.0</td>\n",
       "      <td>3.0</td>\n",
       "      <td>0.0</td>\n",
       "      <td>...</td>\n",
       "      <td>0.0</td>\n",
       "      <td>0.0</td>\n",
       "      <td>0.0</td>\n",
       "      <td>0.0</td>\n",
       "      <td>0.0</td>\n",
       "      <td>0.0</td>\n",
       "      <td>0.0</td>\n",
       "      <td>0.0</td>\n",
       "      <td>9.0</td>\n",
       "      <td>0.0</td>\n",
       "    </tr>\n",
       "    <tr>\n",
       "      <th>AAACGAATCATTTCCA-1</th>\n",
       "      <td>0.0</td>\n",
       "      <td>0.0</td>\n",
       "      <td>0.0</td>\n",
       "      <td>0.0</td>\n",
       "      <td>0.0</td>\n",
       "      <td>0.0</td>\n",
       "      <td>0.0</td>\n",
       "      <td>0.0</td>\n",
       "      <td>0.0</td>\n",
       "      <td>0.0</td>\n",
       "      <td>...</td>\n",
       "      <td>0.0</td>\n",
       "      <td>0.0</td>\n",
       "      <td>0.0</td>\n",
       "      <td>0.0</td>\n",
       "      <td>0.0</td>\n",
       "      <td>0.0</td>\n",
       "      <td>0.0</td>\n",
       "      <td>0.0</td>\n",
       "      <td>1.0</td>\n",
       "      <td>0.0</td>\n",
       "    </tr>\n",
       "    <tr>\n",
       "      <th>AAACGAATCTATGTGG-1</th>\n",
       "      <td>1.0</td>\n",
       "      <td>0.0</td>\n",
       "      <td>1.0</td>\n",
       "      <td>0.0</td>\n",
       "      <td>0.0</td>\n",
       "      <td>0.0</td>\n",
       "      <td>0.0</td>\n",
       "      <td>0.0</td>\n",
       "      <td>1.0</td>\n",
       "      <td>0.0</td>\n",
       "      <td>...</td>\n",
       "      <td>0.0</td>\n",
       "      <td>0.0</td>\n",
       "      <td>0.0</td>\n",
       "      <td>0.0</td>\n",
       "      <td>0.0</td>\n",
       "      <td>0.0</td>\n",
       "      <td>0.0</td>\n",
       "      <td>0.0</td>\n",
       "      <td>1.0</td>\n",
       "      <td>0.0</td>\n",
       "    </tr>\n",
       "    <tr>\n",
       "      <th>...</th>\n",
       "      <td>...</td>\n",
       "      <td>...</td>\n",
       "      <td>...</td>\n",
       "      <td>...</td>\n",
       "      <td>...</td>\n",
       "      <td>...</td>\n",
       "      <td>...</td>\n",
       "      <td>...</td>\n",
       "      <td>...</td>\n",
       "      <td>...</td>\n",
       "      <td>...</td>\n",
       "      <td>...</td>\n",
       "      <td>...</td>\n",
       "      <td>...</td>\n",
       "      <td>...</td>\n",
       "      <td>...</td>\n",
       "      <td>...</td>\n",
       "      <td>...</td>\n",
       "      <td>...</td>\n",
       "      <td>...</td>\n",
       "      <td>...</td>\n",
       "    </tr>\n",
       "    <tr>\n",
       "      <th>TTTGATCTCCGGCTTT-1</th>\n",
       "      <td>0.0</td>\n",
       "      <td>0.0</td>\n",
       "      <td>0.0</td>\n",
       "      <td>0.0</td>\n",
       "      <td>0.0</td>\n",
       "      <td>0.0</td>\n",
       "      <td>0.0</td>\n",
       "      <td>0.0</td>\n",
       "      <td>0.0</td>\n",
       "      <td>0.0</td>\n",
       "      <td>...</td>\n",
       "      <td>0.0</td>\n",
       "      <td>0.0</td>\n",
       "      <td>0.0</td>\n",
       "      <td>0.0</td>\n",
       "      <td>0.0</td>\n",
       "      <td>0.0</td>\n",
       "      <td>0.0</td>\n",
       "      <td>0.0</td>\n",
       "      <td>0.0</td>\n",
       "      <td>0.0</td>\n",
       "    </tr>\n",
       "    <tr>\n",
       "      <th>TTTGGAGAGGAGAGTA-1</th>\n",
       "      <td>2.0</td>\n",
       "      <td>0.0</td>\n",
       "      <td>0.0</td>\n",
       "      <td>0.0</td>\n",
       "      <td>0.0</td>\n",
       "      <td>0.0</td>\n",
       "      <td>0.0</td>\n",
       "      <td>0.0</td>\n",
       "      <td>0.0</td>\n",
       "      <td>0.0</td>\n",
       "      <td>...</td>\n",
       "      <td>0.0</td>\n",
       "      <td>0.0</td>\n",
       "      <td>0.0</td>\n",
       "      <td>0.0</td>\n",
       "      <td>0.0</td>\n",
       "      <td>0.0</td>\n",
       "      <td>0.0</td>\n",
       "      <td>0.0</td>\n",
       "      <td>0.0</td>\n",
       "      <td>0.0</td>\n",
       "    </tr>\n",
       "    <tr>\n",
       "      <th>TTTGGTTGTGCCCGTA-1</th>\n",
       "      <td>3.0</td>\n",
       "      <td>0.0</td>\n",
       "      <td>0.0</td>\n",
       "      <td>0.0</td>\n",
       "      <td>0.0</td>\n",
       "      <td>0.0</td>\n",
       "      <td>0.0</td>\n",
       "      <td>0.0</td>\n",
       "      <td>1.0</td>\n",
       "      <td>0.0</td>\n",
       "      <td>...</td>\n",
       "      <td>0.0</td>\n",
       "      <td>0.0</td>\n",
       "      <td>0.0</td>\n",
       "      <td>0.0</td>\n",
       "      <td>0.0</td>\n",
       "      <td>0.0</td>\n",
       "      <td>0.0</td>\n",
       "      <td>0.0</td>\n",
       "      <td>3.0</td>\n",
       "      <td>0.0</td>\n",
       "    </tr>\n",
       "    <tr>\n",
       "      <th>TTTGGTTTCTTCTGGC-1</th>\n",
       "      <td>0.0</td>\n",
       "      <td>0.0</td>\n",
       "      <td>1.0</td>\n",
       "      <td>0.0</td>\n",
       "      <td>0.0</td>\n",
       "      <td>0.0</td>\n",
       "      <td>0.0</td>\n",
       "      <td>0.0</td>\n",
       "      <td>0.0</td>\n",
       "      <td>0.0</td>\n",
       "      <td>...</td>\n",
       "      <td>0.0</td>\n",
       "      <td>0.0</td>\n",
       "      <td>0.0</td>\n",
       "      <td>0.0</td>\n",
       "      <td>0.0</td>\n",
       "      <td>0.0</td>\n",
       "      <td>0.0</td>\n",
       "      <td>0.0</td>\n",
       "      <td>0.0</td>\n",
       "      <td>0.0</td>\n",
       "    </tr>\n",
       "    <tr>\n",
       "      <th>TTTGTTGGTACCCACG-1</th>\n",
       "      <td>1.0</td>\n",
       "      <td>0.0</td>\n",
       "      <td>0.0</td>\n",
       "      <td>0.0</td>\n",
       "      <td>0.0</td>\n",
       "      <td>0.0</td>\n",
       "      <td>0.0</td>\n",
       "      <td>0.0</td>\n",
       "      <td>0.0</td>\n",
       "      <td>0.0</td>\n",
       "      <td>...</td>\n",
       "      <td>0.0</td>\n",
       "      <td>0.0</td>\n",
       "      <td>0.0</td>\n",
       "      <td>0.0</td>\n",
       "      <td>0.0</td>\n",
       "      <td>0.0</td>\n",
       "      <td>0.0</td>\n",
       "      <td>0.0</td>\n",
       "      <td>4.0</td>\n",
       "      <td>0.0</td>\n",
       "    </tr>\n",
       "  </tbody>\n",
       "</table>\n",
       "<p>1624 rows × 32286 columns</p>\n",
       "</div>"
      ],
      "text/plain": [
       "                    Xkr4  Gm1992  Gm19938  Gm37381  Rp1  Sox17  Gm37587  \\\n",
       "AAACCCAGTTCCCAAA-1   0.0     0.0      0.0      0.0  0.0    0.0      0.0   \n",
       "AAACCCATCGATCCAA-1   1.0     0.0      0.0      0.0  0.0    0.0      0.0   \n",
       "AAACGAAGTCAGCGTC-1   0.0     0.0      0.0      0.0  0.0    0.0      0.0   \n",
       "AAACGAATCATTTCCA-1   0.0     0.0      0.0      0.0  0.0    0.0      0.0   \n",
       "AAACGAATCTATGTGG-1   1.0     0.0      1.0      0.0  0.0    0.0      0.0   \n",
       "...                  ...     ...      ...      ...  ...    ...      ...   \n",
       "TTTGATCTCCGGCTTT-1   0.0     0.0      0.0      0.0  0.0    0.0      0.0   \n",
       "TTTGGAGAGGAGAGTA-1   2.0     0.0      0.0      0.0  0.0    0.0      0.0   \n",
       "TTTGGTTGTGCCCGTA-1   3.0     0.0      0.0      0.0  0.0    0.0      0.0   \n",
       "TTTGGTTTCTTCTGGC-1   0.0     0.0      1.0      0.0  0.0    0.0      0.0   \n",
       "TTTGTTGGTACCCACG-1   1.0     0.0      0.0      0.0  0.0    0.0      0.0   \n",
       "\n",
       "                    Gm37323  Mrpl15  Lypla1  ...  AC163611.1  AC163611.2  \\\n",
       "AAACCCAGTTCCCAAA-1      0.0     0.0     0.0  ...         0.0         0.0   \n",
       "AAACCCATCGATCCAA-1      0.0     1.0     0.0  ...         0.0         0.0   \n",
       "AAACGAAGTCAGCGTC-1      0.0     3.0     0.0  ...         0.0         0.0   \n",
       "AAACGAATCATTTCCA-1      0.0     0.0     0.0  ...         0.0         0.0   \n",
       "AAACGAATCTATGTGG-1      0.0     1.0     0.0  ...         0.0         0.0   \n",
       "...                     ...     ...     ...  ...         ...         ...   \n",
       "TTTGATCTCCGGCTTT-1      0.0     0.0     0.0  ...         0.0         0.0   \n",
       "TTTGGAGAGGAGAGTA-1      0.0     0.0     0.0  ...         0.0         0.0   \n",
       "TTTGGTTGTGCCCGTA-1      0.0     1.0     0.0  ...         0.0         0.0   \n",
       "TTTGGTTTCTTCTGGC-1      0.0     0.0     0.0  ...         0.0         0.0   \n",
       "TTTGTTGGTACCCACG-1      0.0     0.0     0.0  ...         0.0         0.0   \n",
       "\n",
       "                    AC140365.1  AC124606.2  AC124606.1  AC133095.2  \\\n",
       "AAACCCAGTTCCCAAA-1         0.0         0.0         0.0         0.0   \n",
       "AAACCCATCGATCCAA-1         0.0         0.0         0.0         0.0   \n",
       "AAACGAAGTCAGCGTC-1         0.0         0.0         0.0         0.0   \n",
       "AAACGAATCATTTCCA-1         0.0         0.0         0.0         0.0   \n",
       "AAACGAATCTATGTGG-1         0.0         0.0         0.0         0.0   \n",
       "...                        ...         ...         ...         ...   \n",
       "TTTGATCTCCGGCTTT-1         0.0         0.0         0.0         0.0   \n",
       "TTTGGAGAGGAGAGTA-1         0.0         0.0         0.0         0.0   \n",
       "TTTGGTTGTGCCCGTA-1         0.0         0.0         0.0         0.0   \n",
       "TTTGGTTTCTTCTGGC-1         0.0         0.0         0.0         0.0   \n",
       "TTTGTTGGTACCCACG-1         0.0         0.0         0.0         0.0   \n",
       "\n",
       "                    AC133095.1  AC234645.1  AC149090.1  TDTomato  \n",
       "AAACCCAGTTCCCAAA-1         0.0         0.0         0.0       0.0  \n",
       "AAACCCATCGATCCAA-1         0.0         0.0         6.0       0.0  \n",
       "AAACGAAGTCAGCGTC-1         0.0         0.0         9.0       0.0  \n",
       "AAACGAATCATTTCCA-1         0.0         0.0         1.0       0.0  \n",
       "AAACGAATCTATGTGG-1         0.0         0.0         1.0       0.0  \n",
       "...                        ...         ...         ...       ...  \n",
       "TTTGATCTCCGGCTTT-1         0.0         0.0         0.0       0.0  \n",
       "TTTGGAGAGGAGAGTA-1         0.0         0.0         0.0       0.0  \n",
       "TTTGGTTGTGCCCGTA-1         0.0         0.0         3.0       0.0  \n",
       "TTTGGTTTCTTCTGGC-1         0.0         0.0         0.0       0.0  \n",
       "TTTGTTGGTACCCACG-1         0.0         0.0         4.0       0.0  \n",
       "\n",
       "[1624 rows x 32286 columns]"
      ]
     },
     "execution_count": 13,
     "metadata": {},
     "output_type": "execute_result"
    }
   ],
   "source": [
    "adata.to_df()"
   ]
  },
  {
   "cell_type": "code",
   "execution_count": 19,
   "id": "f796cd2d",
   "metadata": {},
   "outputs": [],
   "source": [
    "arr2 = sc.read_text(\"exprMatrix.tsv.gz\")"
   ]
  },
  {
   "cell_type": "code",
   "execution_count": 20,
   "id": "9e10d32b",
   "metadata": {},
   "outputs": [
    {
     "data": {
      "text/plain": [
       "AnnData object with n_obs × n_vars = 56864 × 4261"
      ]
     },
     "execution_count": 20,
     "metadata": {},
     "output_type": "execute_result"
    }
   ],
   "source": [
    "arr2"
   ]
  },
  {
   "cell_type": "code",
   "execution_count": 10,
   "id": "1d0932e2",
   "metadata": {},
   "outputs": [],
   "source": [
    "arr2 = arr2.transpose()"
   ]
  },
  {
   "cell_type": "code",
   "execution_count": 11,
   "id": "b00ac6d4",
   "metadata": {},
   "outputs": [
    {
     "data": {
      "text/plain": [
       "(4261, 56864)"
      ]
     },
     "execution_count": 11,
     "metadata": {},
     "output_type": "execute_result"
    }
   ],
   "source": [
    "arr2.X.shape"
   ]
  },
  {
   "cell_type": "code",
   "execution_count": null,
   "id": "edb9e364",
   "metadata": {},
   "outputs": [],
   "source": []
  },
  {
   "cell_type": "code",
   "execution_count": null,
   "id": "58335830",
   "metadata": {},
   "outputs": [],
   "source": []
  },
  {
   "cell_type": "code",
   "execution_count": null,
   "id": "c594f6a2",
   "metadata": {},
   "outputs": [],
   "source": []
  }
 ],
 "metadata": {
  "kernelspec": {
   "display_name": "Python [conda env:base-data-science]",
   "language": "python",
   "name": "conda-env-base-data-science-py"
  },
  "language_info": {
   "codemirror_mode": {
    "name": "ipython",
    "version": 3
   },
   "file_extension": ".py",
   "mimetype": "text/x-python",
   "name": "python",
   "nbconvert_exporter": "python",
   "pygments_lexer": "ipython3",
   "version": "3.9.7"
  }
 },
 "nbformat": 4,
 "nbformat_minor": 5
}
