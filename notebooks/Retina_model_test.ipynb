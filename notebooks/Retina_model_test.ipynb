{
 "cells": [
  {
   "cell_type": "code",
   "execution_count": 15,
   "id": "3e916ec5",
   "metadata": {},
   "outputs": [],
   "source": [
    "import pandas as pd \n",
    "import scsims\n",
    "from sklearn.preprocessing import LabelEncoder\n",
    "import sys\n",
    "\n",
    "sys.path.append('../src')\n",
    "sys.path.append('../tests')\n",
    "from models.lib.lightning_train import DataModule, generate_trainer\n",
    "from models.lib.neural import GeneClassifier\n",
    "from models.lib.data import *"
   ]
  },
  {
   "cell_type": "markdown",
   "id": "b56853d6",
   "metadata": {},
   "source": [
    "Let's do some simple preprocessing for training, and then test our library"
   ]
  },
  {
   "cell_type": "code",
   "execution_count": 2,
   "id": "61b897bb",
   "metadata": {},
   "outputs": [
    {
     "data": {
      "text/html": [
       "<div>\n",
       "<style scoped>\n",
       "    .dataframe tbody tr th:only-of-type {\n",
       "        vertical-align: middle;\n",
       "    }\n",
       "\n",
       "    .dataframe tbody tr th {\n",
       "        vertical-align: top;\n",
       "    }\n",
       "\n",
       "    .dataframe thead th {\n",
       "        text-align: right;\n",
       "    }\n",
       "</style>\n",
       "<table border=\"1\" class=\"dataframe\">\n",
       "  <thead>\n",
       "    <tr style=\"text-align: right;\">\n",
       "      <th></th>\n",
       "      <th>index</th>\n",
       "      <th>Expressed Genes</th>\n",
       "      <th>UMI Count</th>\n",
       "      <th>Percent Mitochond.</th>\n",
       "      <th>BroadCellType</th>\n",
       "      <th>CellType</th>\n",
       "      <th>Donor</th>\n",
       "      <th>class_label</th>\n",
       "    </tr>\n",
       "    <tr>\n",
       "      <th>cell</th>\n",
       "      <th></th>\n",
       "      <th></th>\n",
       "      <th></th>\n",
       "      <th></th>\n",
       "      <th></th>\n",
       "      <th></th>\n",
       "      <th></th>\n",
       "      <th></th>\n",
       "    </tr>\n",
       "  </thead>\n",
       "  <tbody>\n",
       "    <tr>\n",
       "      <th>0</th>\n",
       "      <td>0024369980fd003553cbc9dfe29f7f95</td>\n",
       "      <td>2351</td>\n",
       "      <td>6060.0</td>\n",
       "      <td>4.125413</td>\n",
       "      <td>retinal rod cell</td>\n",
       "      <td>retinal rod cell type A</td>\n",
       "      <td>b8049daa-7458-47bf-8ec2-3f5c56d2cb34</td>\n",
       "      <td>9</td>\n",
       "    </tr>\n",
       "    <tr>\n",
       "      <th>2</th>\n",
       "      <td>0037f1b36684cb59b84d3585ca55ff69</td>\n",
       "      <td>950</td>\n",
       "      <td>1507.0</td>\n",
       "      <td>0.597213</td>\n",
       "      <td>retinal rod cell</td>\n",
       "      <td>retinal rod cell type B</td>\n",
       "      <td>427c0a62-9baf-42ab-a3a3-f48d10544280</td>\n",
       "      <td>10</td>\n",
       "    </tr>\n",
       "    <tr>\n",
       "      <th>3</th>\n",
       "      <td>00390952646f52d11a9ab9bba7d6ac51</td>\n",
       "      <td>961</td>\n",
       "      <td>1962.0</td>\n",
       "      <td>7.543323</td>\n",
       "      <td>retinal rod cell</td>\n",
       "      <td>retinal rod cell type A</td>\n",
       "      <td>b8049daa-7458-47bf-8ec2-3f5c56d2cb34</td>\n",
       "      <td>9</td>\n",
       "    </tr>\n",
       "    <tr>\n",
       "      <th>4</th>\n",
       "      <td>005b3351658380695a5dc46c384d72d7</td>\n",
       "      <td>858</td>\n",
       "      <td>1384.0</td>\n",
       "      <td>0.144509</td>\n",
       "      <td>retinal rod cell</td>\n",
       "      <td>retinal rod cell type B</td>\n",
       "      <td>b8049daa-7458-47bf-8ec2-3f5c56d2cb34</td>\n",
       "      <td>10</td>\n",
       "    </tr>\n",
       "    <tr>\n",
       "      <th>6</th>\n",
       "      <td>00906832f470fc434a52ac7d678a95bc</td>\n",
       "      <td>532</td>\n",
       "      <td>1054.0</td>\n",
       "      <td>6.451613</td>\n",
       "      <td>retinal rod cell</td>\n",
       "      <td>retinal rod cell type A</td>\n",
       "      <td>427c0a62-9baf-42ab-a3a3-f48d10544280</td>\n",
       "      <td>9</td>\n",
       "    </tr>\n",
       "    <tr>\n",
       "      <th>...</th>\n",
       "      <td>...</td>\n",
       "      <td>...</td>\n",
       "      <td>...</td>\n",
       "      <td>...</td>\n",
       "      <td>...</td>\n",
       "      <td>...</td>\n",
       "      <td>...</td>\n",
       "      <td>...</td>\n",
       "    </tr>\n",
       "    <tr>\n",
       "      <th>19684</th>\n",
       "      <td>ff61c0c282f41e4a37885b05342441da</td>\n",
       "      <td>1494</td>\n",
       "      <td>3320.0</td>\n",
       "      <td>2.289157</td>\n",
       "      <td>retinal rod cell</td>\n",
       "      <td>retinal rod cell type B</td>\n",
       "      <td>427c0a62-9baf-42ab-a3a3-f48d10544280</td>\n",
       "      <td>10</td>\n",
       "    </tr>\n",
       "    <tr>\n",
       "      <th>19689</th>\n",
       "      <td>ffa4633bef82949d2c6ac17b3ddf46e9</td>\n",
       "      <td>1813</td>\n",
       "      <td>4129.0</td>\n",
       "      <td>3.996125</td>\n",
       "      <td>retinal rod cell</td>\n",
       "      <td>retinal rod cell type A</td>\n",
       "      <td>b8049daa-7458-47bf-8ec2-3f5c56d2cb34</td>\n",
       "      <td>9</td>\n",
       "    </tr>\n",
       "    <tr>\n",
       "      <th>19690</th>\n",
       "      <td>ffa5758b0600f47722fdc755444dfe0c</td>\n",
       "      <td>2692</td>\n",
       "      <td>8244.0</td>\n",
       "      <td>16.460457</td>\n",
       "      <td>retinal cone cell</td>\n",
       "      <td>retinal cone cell</td>\n",
       "      <td>b8049daa-7458-47bf-8ec2-3f5c56d2cb34</td>\n",
       "      <td>7</td>\n",
       "    </tr>\n",
       "    <tr>\n",
       "      <th>19691</th>\n",
       "      <td>ffd3fd6119de767f3c3b8c47b2c28bf0</td>\n",
       "      <td>516</td>\n",
       "      <td>896.0</td>\n",
       "      <td>3.794643</td>\n",
       "      <td>retinal rod cell</td>\n",
       "      <td>retinal rod cell type A</td>\n",
       "      <td>427c0a62-9baf-42ab-a3a3-f48d10544280</td>\n",
       "      <td>9</td>\n",
       "    </tr>\n",
       "    <tr>\n",
       "      <th>19693</th>\n",
       "      <td>fffd3d11e75c6c544e6741967b3edb7a</td>\n",
       "      <td>1896</td>\n",
       "      <td>4175.0</td>\n",
       "      <td>4.550898</td>\n",
       "      <td>retinal rod cell</td>\n",
       "      <td>retinal rod cell type A</td>\n",
       "      <td>b8049daa-7458-47bf-8ec2-3f5c56d2cb34</td>\n",
       "      <td>9</td>\n",
       "    </tr>\n",
       "  </tbody>\n",
       "</table>\n",
       "<p>16446 rows × 8 columns</p>\n",
       "</div>"
      ],
      "text/plain": [
       "                                  index  Expressed Genes  UMI Count  \\\n",
       "cell                                                                  \n",
       "0      0024369980fd003553cbc9dfe29f7f95             2351     6060.0   \n",
       "2      0037f1b36684cb59b84d3585ca55ff69              950     1507.0   \n",
       "3      00390952646f52d11a9ab9bba7d6ac51              961     1962.0   \n",
       "4      005b3351658380695a5dc46c384d72d7              858     1384.0   \n",
       "6      00906832f470fc434a52ac7d678a95bc              532     1054.0   \n",
       "...                                 ...              ...        ...   \n",
       "19684  ff61c0c282f41e4a37885b05342441da             1494     3320.0   \n",
       "19689  ffa4633bef82949d2c6ac17b3ddf46e9             1813     4129.0   \n",
       "19690  ffa5758b0600f47722fdc755444dfe0c             2692     8244.0   \n",
       "19691  ffd3fd6119de767f3c3b8c47b2c28bf0              516      896.0   \n",
       "19693  fffd3d11e75c6c544e6741967b3edb7a             1896     4175.0   \n",
       "\n",
       "       Percent Mitochond.      BroadCellType                 CellType  \\\n",
       "cell                                                                    \n",
       "0                4.125413   retinal rod cell  retinal rod cell type A   \n",
       "2                0.597213   retinal rod cell  retinal rod cell type B   \n",
       "3                7.543323   retinal rod cell  retinal rod cell type A   \n",
       "4                0.144509   retinal rod cell  retinal rod cell type B   \n",
       "6                6.451613   retinal rod cell  retinal rod cell type A   \n",
       "...                   ...                ...                      ...   \n",
       "19684            2.289157   retinal rod cell  retinal rod cell type B   \n",
       "19689            3.996125   retinal rod cell  retinal rod cell type A   \n",
       "19690           16.460457  retinal cone cell        retinal cone cell   \n",
       "19691            3.794643   retinal rod cell  retinal rod cell type A   \n",
       "19693            4.550898   retinal rod cell  retinal rod cell type A   \n",
       "\n",
       "                                      Donor  class_label  \n",
       "cell                                                      \n",
       "0      b8049daa-7458-47bf-8ec2-3f5c56d2cb34            9  \n",
       "2      427c0a62-9baf-42ab-a3a3-f48d10544280           10  \n",
       "3      b8049daa-7458-47bf-8ec2-3f5c56d2cb34            9  \n",
       "4      b8049daa-7458-47bf-8ec2-3f5c56d2cb34           10  \n",
       "6      427c0a62-9baf-42ab-a3a3-f48d10544280            9  \n",
       "...                                     ...          ...  \n",
       "19684  427c0a62-9baf-42ab-a3a3-f48d10544280           10  \n",
       "19689  b8049daa-7458-47bf-8ec2-3f5c56d2cb34            9  \n",
       "19690  b8049daa-7458-47bf-8ec2-3f5c56d2cb34            7  \n",
       "19691  427c0a62-9baf-42ab-a3a3-f48d10544280            9  \n",
       "19693  b8049daa-7458-47bf-8ec2-3f5c56d2cb34            9  \n",
       "\n",
       "[16446 rows x 8 columns]"
      ]
     },
     "execution_count": 2,
     "metadata": {},
     "output_type": "execute_result"
    }
   ],
   "source": [
    "# le = LabelEncoder()\n",
    "\n",
    "# labels = pd.read_csv('../data/retina/retina_labels.tsv', sep='\\t')\n",
    "# labels = labels[labels['CellType'] != 'unannotated']\n",
    "# labels['class_label'] = le.fit_transform(labels['CellType'])\n",
    "# labels.index.name = 'cell'\n",
    "\n",
    "# labels.to_csv('../data/retina/retina_labels_numeric.csv')\n",
    "\n",
    "label_df = pd.read_csv('../data/retina/retina_labels_numeric.csv', index_col='cell')\n",
    "label_df"
   ]
  },
  {
   "cell_type": "code",
   "execution_count": 3,
   "id": "2202fc26",
   "metadata": {},
   "outputs": [],
   "source": [
    "datafiles = ['../data/retina/retina_T.csv']\n",
    "labelfiles = ['../data/retina/retina_labels_numeric.csv']\n",
    "\n",
    "module = DataModule(\n",
    "    datafiles=['../data/retina/retina_T.csv'],\n",
    "    labelfiles=['../data/retina/retina_labels_numeric.csv'],\n",
    "    class_label='class_label',\n",
    "    batch_size=4,\n",
    "    num_workers=0,\n",
    "    skip=3,\n",
    "    shuffle=True,\n",
    "    drop_last=True,\n",
    "    index_col='cell',\n",
    ")"
   ]
  },
  {
   "cell_type": "code",
   "execution_count": 4,
   "id": "e52d24a9",
   "metadata": {
    "scrolled": false
   },
   "outputs": [
    {
     "name": "stdout",
     "output_type": "stream",
     "text": [
      "Model initialized. input_dim = 37475, output_dim = 13. Metrics are dict_keys(['accuracy', 'precision', 'recall']) and weighted_metrics = False\n"
     ]
    }
   ],
   "source": [
    "model = GeneClassifier(\n",
    "    input_dim=module.num_features,\n",
    "    output_dim=module.num_labels,\n",
    "    weights=None\n",
    ")"
   ]
  },
  {
   "cell_type": "code",
   "execution_count": 5,
   "id": "bd9f2ded",
   "metadata": {
    "scrolled": false
   },
   "outputs": [
    {
     "name": "stdout",
     "output_type": "stream",
     "text": [
      "Device is cpu\n",
      "../data/retina/retina_T.csv exists, continuing...\n",
      "../data/retina/retina_labels_numeric.csv exists, continuing...\n",
      "\n"
     ]
    },
    {
     "name": "stderr",
     "output_type": "stream",
     "text": [
      "GPU available: False, used: False\n",
      "TPU available: False, using: 0 TPU cores\n",
      "IPU available: False, using: 0 IPUs\n"
     ]
    },
    {
     "name": "stdout",
     "output_type": "stream",
     "text": [
      "Model initialized. input_dim = 37475, output_dim = 13. Metrics are dict_keys(['accuracy', 'precision', 'recall']) and weighted_metrics = False\n"
     ]
    }
   ],
   "source": [
    "trainer, model, module = generate_trainer(\n",
    "    datafiles=['../data/retina/retina_T.csv'],\n",
    "    labelfiles=['../data/retina/retina_labels_numeric.csv'],\n",
    "    class_label='class_label',\n",
    "    index_col='cell',\n",
    "    batch_size=4,\n",
    "    num_workers=0,\n",
    "    skip=3,\n",
    "    shuffle=True,\n",
    "    drop_last=True,\n",
    "    weighted_metrics=False,\n",
    "    normalize=True,\n",
    ")\n",
    "\n",
    "trainer.fit(model, datamodule=module)"
   ]
  },
  {
   "cell_type": "code",
   "execution_count": 7,
   "id": "7864cac6",
   "metadata": {
    "scrolled": true
   },
   "outputs": [
    {
     "name": "stdout",
     "output_type": "stream",
     "text": [
      "Creating train/val/test DataLoaders...\n",
      "Extension .csv not recognized,                 interpreting as .csv. To silence this warning, pass in explicit file types.\n",
      "Done, continuing to training.\n"
     ]
    }
   ],
   "source": [
    "module.setup()\n",
    "\n",
    "trainloader = module.trainloader"
   ]
  },
  {
   "cell_type": "code",
   "execution_count": 19,
   "id": "6f0c7957",
   "metadata": {},
   "outputs": [
    {
     "data": {
      "text/plain": [
       "[(tensor([0., 1., 0.,  ..., 0., 0., 0.]), 10),\n",
       " (tensor([0., 0., 0.,  ..., 0., 0., 0.]), 9),\n",
       " (tensor([0., 0., 0.,  ..., 0., 0., 0.]), 9),\n",
       " (tensor([0., 1., 0.,  ..., 0., 0., 0.]), 10),\n",
       " (tensor([0., 0., 0.,  ..., 0., 0., 0.]), 3),\n",
       " (tensor([0., 0., 0.,  ..., 0., 0., 0.]), 1),\n",
       " (tensor([0., 0., 0.,  ..., 0., 0., 0.]), 5),\n",
       " (tensor([0., 1., 0.,  ..., 0., 0., 0.]), 9),\n",
       " (tensor([0., 0., 0.,  ..., 0., 0., 0.]), 10),\n",
       " (tensor([0., 0., 0.,  ..., 0., 0., 0.]), 10),\n",
       " (tensor([0., 0., 0.,  ..., 0., 0., 0.]), 9),\n",
       " (tensor([0., 0., 0.,  ..., 0., 0., 0.]), 10),\n",
       " (tensor([0., 1., 0.,  ..., 0., 0., 0.]), 9),\n",
       " (tensor([0., 0., 0.,  ..., 0., 0., 0.]), 9),\n",
       " (tensor([0., 0., 0.,  ..., 0., 0., 0.]), 11),\n",
       " (tensor([0., 0., 0.,  ..., 0., 0., 0.]), 7),\n",
       " (tensor([0., 0., 0.,  ..., 0., 0., 0.]), 11),\n",
       " (tensor([0., 0., 0.,  ..., 0., 0., 0.]), 10),\n",
       " (tensor([0., 2., 0.,  ..., 0., 0., 0.]), 10),\n",
       " (tensor([0., 0., 0.,  ..., 0., 0., 0.]), 10),\n",
       " (tensor([0., 0., 0.,  ..., 0., 0., 0.]), 10),\n",
       " (tensor([0., 0., 0.,  ..., 0., 0., 0.]), 9),\n",
       " (tensor([0., 0., 0.,  ..., 0., 0., 0.]), 9),\n",
       " (tensor([0., 0., 0.,  ..., 0., 0., 0.]), 9),\n",
       " (tensor([0., 0., 0.,  ..., 0., 0., 0.]), 9),\n",
       " (tensor([0., 0., 0.,  ..., 0., 0., 0.]), 9),\n",
       " (tensor([0., 0., 0.,  ..., 0., 0., 0.]), 6),\n",
       " (tensor([0., 0., 0.,  ..., 0., 0., 0.]), 10),\n",
       " (tensor([0., 0., 0.,  ..., 0., 0., 0.]), 9),\n",
       " (tensor([0., 0., 0.,  ..., 0., 0., 0.]), 10),\n",
       " (tensor([0., 0., 0.,  ..., 0., 0., 0.]), 10),\n",
       " (tensor([0., 0., 0.,  ..., 0., 0., 0.]), 9),\n",
       " (tensor([0., 1., 0.,  ..., 0., 0., 0.]), 10),\n",
       " (tensor([0., 1., 0.,  ..., 0., 0., 0.]), 9),\n",
       " (tensor([0., 1., 0.,  ..., 0., 0., 0.]), 10),\n",
       " (tensor([0., 0., 0.,  ..., 0., 0., 0.]), 9),\n",
       " (tensor([0., 0., 0.,  ..., 0., 0., 0.]), 5),\n",
       " (tensor([0., 0., 0.,  ..., 0., 0., 0.]), 12),\n",
       " (tensor([0., 1., 0.,  ..., 0., 0., 0.]), 10),\n",
       " (tensor([0., 0., 0.,  ..., 0., 0., 0.]), 9),\n",
       " (tensor([0., 0., 0.,  ..., 0., 0., 0.]), 10),\n",
       " (tensor([0., 0., 0.,  ..., 0., 0., 0.]), 10),\n",
       " (tensor([0., 0., 1.,  ..., 0., 0., 0.]), 4),\n",
       " (tensor([0., 0., 0.,  ..., 0., 0., 0.]), 9),\n",
       " (tensor([0., 0., 0.,  ..., 0., 0., 0.]), 10),\n",
       " (tensor([0., 0., 0.,  ..., 0., 0., 0.]), 3),\n",
       " (tensor([0., 0., 0.,  ..., 0., 0., 0.]), 9),\n",
       " (tensor([0., 0., 0.,  ..., 0., 0., 0.]), 9),\n",
       " (tensor([0., 0., 0.,  ..., 0., 0., 0.]), 9),\n",
       " (tensor([0., 0., 0.,  ..., 0., 0., 0.]), 9)]"
      ]
     },
     "execution_count": 19,
     "metadata": {},
     "output_type": "execute_result"
    }
   ],
   "source": [
    "trainloader.dataset[0:50]"
   ]
  },
  {
   "cell_type": "code",
   "execution_count": 17,
   "id": "2b28b608",
   "metadata": {
    "scrolled": true
   },
   "outputs": [
    {
     "name": "stdout",
     "output_type": "stream",
     "text": [
      "First n=100 columns of expression matrix is equal to GeneExpressionData: True\n"
     ]
    }
   ],
   "source": [
    "def _test_first_n_samples(n, datafile, labelfile):\n",
    "    data = GeneExpressionData(\n",
    "        datafile, \n",
    "        labelfile, \n",
    "        'class_label', \n",
    "        skip=3,\n",
    "        index_col='cell'\n",
    "    )\n",
    "    cols = data.columns\n",
    "    \n",
    "    # Generate dict with half precision values to read this into my 16gb memory\n",
    "    dtype_cols = dict(zip(cols, [np.float32]*len(cols)))\n",
    "    \n",
    "    data_df = pd.read_csv(datafile, nrows=2*n, header=1, dtype=dtype_cols) # Might need some extras since numerical index drops some values\n",
    "    label_df = pd.read_csv(labelfile, nrows=n)\n",
    "\n",
    "    similar = []\n",
    "    for i in range(n):\n",
    "        datasample = data[i][0]\n",
    "\n",
    "        dfsample = torch.from_numpy(data_df.loc[label_df.loc[i, 'cell'], :].values).float()\n",
    "        isclose = all(torch.isclose(datasample, dfsample))\n",
    "        similar.append(isclose)\n",
    "    \n",
    "    print(f\"First {n=} columns of expression matrix is equal to GeneExpressionData: {all(p for p in similar)}\")\n",
    "\n",
    "    assert (all(p for p in similar))\n",
    "\n",
    "_test_first_n_samples(100, '../data/retina/retina_T.csv', '../data/retina/retina_labels_numeric.csv')\n"
   ]
  },
  {
   "cell_type": "code",
   "execution_count": null,
   "id": "38e0ae4e",
   "metadata": {},
   "outputs": [],
   "source": [
    "idk = module.trainloader.dataset._labeldf['cell']\n",
    "idk"
   ]
  },
  {
   "cell_type": "code",
   "execution_count": null,
   "id": "33aa6ff2",
   "metadata": {},
   "outputs": [],
   "source": [
    "df = pd.read_csv('../data/retina/retina_labels_numeric.csv')\n",
    "labels = df.loc[:, 'class_label']"
   ]
  },
  {
   "cell_type": "code",
   "execution_count": null,
   "id": "f14bfb01",
   "metadata": {},
   "outputs": [],
   "source": [
    "df.loc[idk, :]"
   ]
  },
  {
   "cell_type": "code",
   "execution_count": null,
   "id": "b0ae404c",
   "metadata": {},
   "outputs": [],
   "source": [
    "from sklearn.model_selection import train_test_split \n",
    "\n",
    "trainsplit, valsplit = train_test_split(labels, stratify=labels)\n",
    "\n",
    "trainsplit, valsplit"
   ]
  },
  {
   "cell_type": "code",
   "execution_count": null,
   "id": "c3e2b94d",
   "metadata": {},
   "outputs": [],
   "source": [
    "df.loc[trainsplit, :]"
   ]
  },
  {
   "cell_type": "code",
   "execution_count": null,
   "id": "9a10cc9b",
   "metadata": {},
   "outputs": [],
   "source": [
    "df.to_csv('test.csv')\n",
    "\n",
    "pd.read_csv('test.csv')"
   ]
  },
  {
   "cell_type": "code",
   "execution_count": null,
   "id": "e8e656b7",
   "metadata": {},
   "outputs": [],
   "source": [
    "df.to_csv('')"
   ]
  },
  {
   "cell_type": "code",
   "execution_count": null,
   "id": "6e8c48d9",
   "metadata": {},
   "outputs": [],
   "source": []
  }
 ],
 "metadata": {
  "kernelspec": {
   "display_name": "Python [conda env:base-data-science]",
   "language": "python",
   "name": "conda-env-base-data-science-py"
  },
  "language_info": {
   "codemirror_mode": {
    "name": "ipython",
    "version": 3
   },
   "file_extension": ".py",
   "mimetype": "text/x-python",
   "name": "python",
   "nbconvert_exporter": "python",
   "pygments_lexer": "ipython3",
   "version": "3.9.7"
  }
 },
 "nbformat": 4,
 "nbformat_minor": 5
}
