{
 "cells": [
  {
   "cell_type": "code",
   "execution_count": null,
   "id": "3e916ec5",
   "metadata": {},
   "outputs": [],
   "source": [
    "import pandas as pd \n",
    "import scsims\n",
    "from sklearn.preprocessing import LabelEncoder\n",
    "import sys\n",
    "import anndata as an\n",
    "import scanpy as sp\n",
    "import h5py\n",
    "\n",
    "sys.path.append('../src')\n",
    "sys.path.append('../tests')\n",
    "\n",
    "from models.lib.lightning_train import DataModule, generate_trainer\n",
    "from models.lib.data import *\n",
    "from models.lib.neural import *\n",
    "from pytorch_lightning.loggers import WandbLogger\n",
    "from torchmetrics.functional import *\n",
    "import pandas as pd\n",
    "from scipy.sparse import csr_matrix\n",
    "from pytorch_lightning.callbacks.early_stopping import EarlyStopping\n",
    "\n",
    "from bigcsv.bigcsv import experimental_to_h5ad"
   ]
  },
  {
   "cell_type": "markdown",
   "id": "b56853d6",
   "metadata": {},
   "source": [
    "Let's do some simple preprocessing for training, and then test our library"
   ]
  },
  {
   "cell_type": "code",
   "execution_count": null,
   "id": "61b897bb",
   "metadata": {
    "scrolled": true
   },
   "outputs": [],
   "source": [
    "# le = LabelEncoder()\n",
    "\n",
    "# labels = pd.read_csv('../data/retina/retina_labels.tsv', sep='\\t')\n",
    "# labels = labels[labels['CellType'].isin(['retinal rod cell type B', 'retinal rod cell type A'])]\n",
    "# labels = labels[labels['CellType'] != 'unannotated']\n",
    "# labels['class_label'] = le.fit_transform(labels['CellType'])\n",
    "\n",
    "# labels.index.name = 'cell'\n",
    "# # labels = labels.iloc[0:5000, :]\n",
    "# labels.to_csv('../data/retina/retina_labels_numeric.csv')\n",
    "\n",
    "# # label_df = pd.read_csv('../data/retina/retina_labels_numeric.csv', index_col='cell')\n",
    "# # label_df\n",
    "\n",
    "# # labels.to_csv('../data/retina/retina_labels_numeric.csv')\n",
    "\n",
    "# labels = pd.read_csv('../data/retina/retina_labels_numeric.csv')\n",
    "# labels.loc[:, 'class_label']"
   ]
  },
  {
   "cell_type": "code",
   "execution_count": null,
   "id": "bc90ff18",
   "metadata": {},
   "outputs": [],
   "source": [
    "# labels = pd.read_csv('../data/retina/raw_labels.tsv', sep='\\t')\n",
    "# corrected = pd.read_csv('../data/retina/retina_labels_numeric.csv')"
   ]
  },
  {
   "cell_type": "code",
   "execution_count": 4,
   "id": "dfe21b68",
   "metadata": {},
   "outputs": [],
   "source": [
    "# from sklearn.model_selection import train_test_split\n",
    "# trainsplit, valsplit = train_test_split(current_labels, stratify=current_labels, random_state=42)\n",
    "# trainsplit"
   ]
  },
  {
   "cell_type": "code",
   "execution_count": 5,
   "id": "15305e1a",
   "metadata": {},
   "outputs": [
    {
     "name": "stdout",
     "output_type": "stream",
     "text": [
      "(16446, 8)\n"
     ]
    }
   ],
   "source": [
    "corrected = pd.read_csv('../data/retina/retina_labels_numeric.csv', index_col='cell')\n",
    "print(corrected.shape)\n",
    "# current_labels = corrected['CellType']\n",
    "\n",
    "# trainsplit, valsplit = train_test_split(current_labels, stratify=current_labels, random_state=42)\n",
    "# trainsplit"
   ]
  },
  {
   "cell_type": "code",
   "execution_count": 6,
   "id": "d5c976b9",
   "metadata": {},
   "outputs": [
    {
     "name": "stdout",
     "output_type": "stream",
     "text": [
      "Creating train/val/test DataLoaders...\n"
     ]
    },
    {
     "name": "stderr",
     "output_type": "stream",
     "text": [
      "Variable names are not unique. To make them unique, call `.var_names_make_unique`.\n"
     ]
    },
    {
     "name": "stdout",
     "output_type": "stream",
     "text": [
      "Done, continuing to training.\n",
      "Calculating weights\n"
     ]
    }
   ],
   "source": [
    "module = DataModule(\n",
    "    datafiles=['../data/retina/retina_T.h5ad'],\n",
    "    labelfiles=['../data/retina/retina_labels_numeric.csv'],\n",
    "    class_label='class_label',\n",
    "    index_col='cell',\n",
    "    batch_size=16,\n",
    "    num_workers=8,\n",
    "    shuffle=True,\n",
    "    drop_last=True,\n",
    "    normalize=True,\n",
    ")\n",
    "\n",
    "module.setup()"
   ]
  },
  {
   "cell_type": "code",
   "execution_count": 7,
   "id": "7f8d2ab7",
   "metadata": {},
   "outputs": [
    {
     "name": "stdout",
     "output_type": "stream",
     "text": [
      "mkdir: checkpoints: File exists\r\n"
     ]
    }
   ],
   "source": [
    "!mkdir checkpoints"
   ]
  },
  {
   "cell_type": "code",
   "execution_count": 8,
   "id": "2babcc56",
   "metadata": {},
   "outputs": [],
   "source": [
    "import pytorch_lightning as pl\n",
    "\n",
    "lr_monitor = pl.callbacks.LearningRateMonitor(logging_interval='epoch')\n",
    "checkpoint = pl.callbacks.ModelCheckpoint(\n",
    "    dirpath='checkpoints', \n",
    "    filename='{epoch}-{weighted_val_accuracy}'\n",
    ")\n",
    "# pruner = pl.callbacks.ModelPruning()\n",
    "progressbar = pl.callbacks.RichProgressBar()"
   ]
  },
  {
   "cell_type": "code",
   "execution_count": 9,
   "id": "d3f1891f",
   "metadata": {},
   "outputs": [
    {
     "name": "stdout",
     "output_type": "stream",
     "text": [
      "Initializing network\n",
      "Initializing explain matrix\n"
     ]
    },
    {
     "name": "stderr",
     "output_type": "stream",
     "text": [
      "GPU available: False, used: False\n",
      "TPU available: False, using: 0 TPU cores\n",
      "IPU available: False, using: 0 IPUs\n"
     ]
    }
   ],
   "source": [
    "tabnetmodel = TabNetLightning(\n",
    "    input_dim=module.num_features,\n",
    "    output_dim=module.num_labels,\n",
    "    optim_params={\n",
    "        'optimizer': torch.optim.Adam,\n",
    "        'lr': 0.02,\n",
    "        'weight_decay': 0,\n",
    "    },\n",
    "    scheduler_params={\n",
    "        'scheduler': torch.optim.lr_scheduler.ReduceLROnPlateau,\n",
    "        'factor': 0.001,\n",
    "    },\n",
    "    metrics={\n",
    "        'accuracy': accuracy,\n",
    "        'precision': precision,\n",
    "        'recall': recall,\n",
    "    },\n",
    ")\n",
    "\n",
    "wandb_logger = WandbLogger(\n",
    "    project=f\"Retina Model\",\n",
    "    name='local-retina-model'\n",
    ")\n",
    "\n",
    "early_stop = EarlyStopping(\n",
    "    monitor=\"weighted_val_accuracy\", \n",
    "    min_delta=0.00, \n",
    "    patience=3,\n",
    "    verbose=False, \n",
    "    mode=\"max\"\n",
    ")\n",
    "\n",
    "trainer = pl.Trainer(\n",
    "    logger=wandb_logger,\n",
    "    callbacks=[early_stop, lr_monitor, checkpoint],\n",
    "    max_epochs=100,\n",
    ")"
   ]
  },
  {
   "cell_type": "code",
   "execution_count": null,
   "id": "aeb2155f",
   "metadata": {
    "scrolled": false
   },
   "outputs": [
    {
     "name": "stderr",
     "output_type": "stream",
     "text": [
      "/Users/julian/miniconda3/envs/base-data-science/lib/python3.9/site-packages/pytorch_lightning/core/datamodule.py:469: LightningDeprecationWarning: DataModule.setup has already been called, so it will not be called again. In v1.6 this behavior will change to always call DataModule.setup.\n",
      "  rank_zero_deprecation(\n",
      "\u001b[34m\u001b[1mwandb\u001b[0m: Currently logged in as: \u001b[33mjlehrer1\u001b[0m (use `wandb login --relogin` to force relogin)\n"
     ]
    },
    {
     "data": {
      "text/html": [
       "wandb version 0.12.15 is available!  To upgrade, please run:\n",
       " $ pip install wandb --upgrade"
      ],
      "text/plain": [
       "<IPython.core.display.HTML object>"
      ]
     },
     "metadata": {},
     "output_type": "display_data"
    },
    {
     "data": {
      "text/html": [
       "Tracking run with wandb version 0.12.11"
      ],
      "text/plain": [
       "<IPython.core.display.HTML object>"
      ]
     },
     "metadata": {},
     "output_type": "display_data"
    },
    {
     "data": {
      "text/html": [
       "Run data is saved locally in <code>/Users/julian/Documents/Projects/organoid-classification/notebooks/wandb/run-20220502_202501-aamhb0xq</code>"
      ],
      "text/plain": [
       "<IPython.core.display.HTML object>"
      ]
     },
     "metadata": {},
     "output_type": "display_data"
    },
    {
     "data": {
      "text/html": [
       "Syncing run <strong><a href=\"https://wandb.ai/jlehrer1/Retina%20Model/runs/aamhb0xq\" target=\"_blank\">local-retina-model</a></strong> to <a href=\"https://wandb.ai/jlehrer1/Retina%20Model\" target=\"_blank\">Weights & Biases</a> (<a href=\"https://wandb.me/run\" target=\"_blank\">docs</a>)<br/>"
      ],
      "text/plain": [
       "<IPython.core.display.HTML object>"
      ]
     },
     "metadata": {},
     "output_type": "display_data"
    },
    {
     "data": {
      "text/html": [
       "<pre style=\"white-space:pre;overflow-x:auto;line-height:normal;font-family:Menlo,'DejaVu Sans Mono',consolas,'Courier New',monospace\">┏━━━┳━━━━━━━━━┳━━━━━━━━┳━━━━━━━━┓\n",
       "┃<span style=\"color: #800080; text-decoration-color: #800080; font-weight: bold\">   </span>┃<span style=\"color: #800080; text-decoration-color: #800080; font-weight: bold\"> Name    </span>┃<span style=\"color: #800080; text-decoration-color: #800080; font-weight: bold\"> Type   </span>┃<span style=\"color: #800080; text-decoration-color: #800080; font-weight: bold\"> Params </span>┃\n",
       "┡━━━╇━━━━━━━━━╇━━━━━━━━╇━━━━━━━━┩\n",
       "│<span style=\"color: #7f7f7f; text-decoration-color: #7f7f7f\"> 0 </span>│ network │ TabNet │  2.5 M │\n",
       "└───┴─────────┴────────┴────────┘\n",
       "</pre>\n"
      ],
      "text/plain": [
       "┏━━━┳━━━━━━━━━┳━━━━━━━━┳━━━━━━━━┓\n",
       "┃\u001b[1;35m \u001b[0m\u001b[1;35m \u001b[0m\u001b[1;35m \u001b[0m┃\u001b[1;35m \u001b[0m\u001b[1;35mName   \u001b[0m\u001b[1;35m \u001b[0m┃\u001b[1;35m \u001b[0m\u001b[1;35mType  \u001b[0m\u001b[1;35m \u001b[0m┃\u001b[1;35m \u001b[0m\u001b[1;35mParams\u001b[0m\u001b[1;35m \u001b[0m┃\n",
       "┡━━━╇━━━━━━━━━╇━━━━━━━━╇━━━━━━━━┩\n",
       "│\u001b[2m \u001b[0m\u001b[2m0\u001b[0m\u001b[2m \u001b[0m│ network │ TabNet │  2.5 M │\n",
       "└───┴─────────┴────────┴────────┘\n"
      ]
     },
     "metadata": {},
     "output_type": "display_data"
    },
    {
     "data": {
      "text/html": [
       "<pre style=\"white-space:pre;overflow-x:auto;line-height:normal;font-family:Menlo,'DejaVu Sans Mono',consolas,'Courier New',monospace\"><span style=\"font-weight: bold\">Trainable params</span>: 2.5 M                                                                      \n",
       "<span style=\"font-weight: bold\">Non-trainable params</span>: 0                                                                      \n",
       "<span style=\"font-weight: bold\">Total params</span>: 2.5 M                                                                          \n",
       "<span style=\"font-weight: bold\">Total estimated model params size (MB)</span>: 9                                                    \n",
       "</pre>\n"
      ],
      "text/plain": [
       "\u001b[1mTrainable params\u001b[0m: 2.5 M                                                                      \n",
       "\u001b[1mNon-trainable params\u001b[0m: 0                                                                      \n",
       "\u001b[1mTotal params\u001b[0m: 2.5 M                                                                          \n",
       "\u001b[1mTotal estimated model params size (MB)\u001b[0m: 9                                                    \n"
      ]
     },
     "metadata": {},
     "output_type": "display_data"
    },
    {
     "data": {
      "application/vnd.jupyter.widget-view+json": {
       "model_id": "2728cb8b5c69428d963a9a63943bf282",
       "version_major": 2,
       "version_minor": 0
      },
      "text/plain": [
       "Output()"
      ]
     },
     "metadata": {},
     "output_type": "display_data"
    },
    {
     "data": {
      "text/html": [
       "<pre style=\"white-space:pre;overflow-x:auto;line-height:normal;font-family:Menlo,'DejaVu Sans Mono',consolas,'Courier New',monospace\">/Users/julian/miniconda3/envs/base-data-science/lib/python3.9/site-packages/pytorch_lightning\n",
       "/trainer/data_loading.py:453: UserWarning: Your `val_dataloader` has `shuffle=True`,it is \n",
       "strongly recommended that you turn this off for val/test/predict dataloaders.\n",
       "  rank_zero_warn(\n",
       "</pre>\n"
      ],
      "text/plain": [
       "/Users/julian/miniconda3/envs/base-data-science/lib/python3.9/site-packages/pytorch_lightning\n",
       "/trainer/data_loading.py:453: UserWarning: Your `val_dataloader` has `shuffle=True`,it is \n",
       "strongly recommended that you turn this off for val/test/predict dataloaders.\n",
       "  rank_zero_warn(\n"
      ]
     },
     "metadata": {},
     "output_type": "display_data"
    },
    {
     "data": {
      "text/html": [
       "<pre style=\"white-space:pre;overflow-x:auto;line-height:normal;font-family:Menlo,'DejaVu Sans Mono',consolas,'Courier New',monospace\">/Users/julian/miniconda3/envs/base-data-science/lib/python3.9/site-packages/pytorch_lightning\n",
       "/trainer/data_loading.py:111: UserWarning: The dataloader, val_dataloader 0, does not have \n",
       "many workers which may be a bottleneck. Consider increasing the value of the `num_workers` \n",
       "argument` (try 10 which is the number of cpus on this machine) in the `DataLoader` init to \n",
       "improve performance.\n",
       "  rank_zero_warn(\n",
       "</pre>\n"
      ],
      "text/plain": [
       "/Users/julian/miniconda3/envs/base-data-science/lib/python3.9/site-packages/pytorch_lightning\n",
       "/trainer/data_loading.py:111: UserWarning: The dataloader, val_dataloader 0, does not have \n",
       "many workers which may be a bottleneck. Consider increasing the value of the `num_workers` \n",
       "argument` (try 10 which is the number of cpus on this machine) in the `DataLoader` init to \n",
       "improve performance.\n",
       "  rank_zero_warn(\n"
      ]
     },
     "metadata": {},
     "output_type": "display_data"
    },
    {
     "name": "stderr",
     "output_type": "stream",
     "text": [
      "/Users/julian/miniconda3/envs/base-data-science/lib/python3.9/site-packages/pytorch_lightning/callbacks/model_checkpoint.py:623: UserWarning: Checkpoint directory /Users/julian/Documents/Projects/organoid-classification/notebooks/checkpoints exists and is not empty.\n",
      "  rank_zero_warn(f\"Checkpoint directory {dirpath} exists and is not empty.\")\n"
     ]
    },
    {
     "data": {
      "text/html": [
       "<pre style=\"white-space:pre;overflow-x:auto;line-height:normal;font-family:Menlo,'DejaVu Sans Mono',consolas,'Courier New',monospace\">/Users/julian/miniconda3/envs/base-data-science/lib/python3.9/site-packages/pytorch_lightning\n",
       "/trainer/data_loading.py:111: UserWarning: The dataloader, train_dataloader, does not have \n",
       "many workers which may be a bottleneck. Consider increasing the value of the `num_workers` \n",
       "argument` (try 10 which is the number of cpus on this machine) in the `DataLoader` init to \n",
       "improve performance.\n",
       "  rank_zero_warn(\n",
       "</pre>\n"
      ],
      "text/plain": [
       "/Users/julian/miniconda3/envs/base-data-science/lib/python3.9/site-packages/pytorch_lightning\n",
       "/trainer/data_loading.py:111: UserWarning: The dataloader, train_dataloader, does not have \n",
       "many workers which may be a bottleneck. Consider increasing the value of the `num_workers` \n",
       "argument` (try 10 which is the number of cpus on this machine) in the `DataLoader` init to \n",
       "improve performance.\n",
       "  rank_zero_warn(\n"
      ]
     },
     "metadata": {},
     "output_type": "display_data"
    }
   ],
   "source": [
    "trainer.fit(tabnetmodel, datamodule=module)"
   ]
  },
  {
   "cell_type": "code",
   "execution_count": 10,
   "id": "aad793f4",
   "metadata": {},
   "outputs": [
    {
     "data": {
      "text/plain": [
       "array(['Unknown', 'Glial-F1', 'Cones-Fov', 'Bipolar-1', 'Horizontal',\n",
       "       'Endothelial', 'Pericytes', 'Glial-P3', 'Bipolar-2', 'Rods-1',\n",
       "       'RGC', 'Rods-2', 'Glial-F2', 'Amacrine', 'Microglia', 'Glial-P2',\n",
       "       'Glial-P1', 'Cones-Periph'], dtype=object)"
      ]
     },
     "execution_count": 10,
     "metadata": {},
     "output_type": "execute_result"
    }
   ],
   "source": [
    "pd.read_csv('../data/retina/fovea_for_test_labels.tsv', sep='\\t')['celltype'].unique()"
   ]
  },
  {
   "cell_type": "code",
   "execution_count": 13,
   "id": "508289e9",
   "metadata": {},
   "outputs": [
    {
     "data": {
      "text/plain": [
       "array(['retinal rod cell type A', 'retinal rod cell type B',\n",
       "       'retinal bipolar neuron type B', 'retinal rod cell type C',\n",
       "       'unspecified', 'retinal bipolar neuron type C', 'Muller cell',\n",
       "       'retinal cone cell', 'retinal bipolar neuron type A',\n",
       "       'amacrine cell', 'retinal bipolar neuron type D',\n",
       "       'retinal ganglion cell', 'microglial cell'], dtype=object)"
      ]
     },
     "execution_count": 13,
     "metadata": {},
     "output_type": "execute_result"
    }
   ],
   "source": [
    "pd.read_csv('../data/retina/retina_labels_numeric.csv')['CellType'].unique()"
   ]
  },
  {
   "cell_type": "code",
   "execution_count": null,
   "id": "4c0b2ea6",
   "metadata": {},
   "outputs": [],
   "source": []
  }
 ],
 "metadata": {
  "kernelspec": {
   "display_name": "Python [conda env:base-data-science] *",
   "language": "python",
   "name": "conda-env-base-data-science-py"
  },
  "language_info": {
   "codemirror_mode": {
    "name": "ipython",
    "version": 3
   },
   "file_extension": ".py",
   "mimetype": "text/x-python",
   "name": "python",
   "nbconvert_exporter": "python",
   "pygments_lexer": "ipython3",
   "version": "3.9.7"
  }
 },
 "nbformat": 4,
 "nbformat_minor": 5
}
