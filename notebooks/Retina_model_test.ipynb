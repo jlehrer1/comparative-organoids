{
 "cells": [
  {
   "cell_type": "code",
   "execution_count": 1,
   "id": "3e916ec5",
   "metadata": {},
   "outputs": [],
   "source": [
    "import pandas as pd \n",
    "import scsims\n",
    "from sklearn.preprocessing import LabelEncoder\n",
    "import sys\n",
    "import anndata as an\n",
    "import scanpy as sp\n",
    "import h5py\n",
    "\n",
    "sys.path.append('../src')\n",
    "sys.path.append('../tests')\n",
    "from models.lib.lightning_train import DataModule, generate_trainer\n",
    "from models.lib.neural import GeneClassifier\n",
    "from models.lib.data import *\n",
    "from models.lib.neural import *\n",
    "from pytorch_lightning.loggers import WandbLogger\n",
    "from torchmetrics.functional import *"
   ]
  },
  {
   "cell_type": "markdown",
   "id": "b56853d6",
   "metadata": {},
   "source": [
    "Let's do some simple preprocessing for training, and then test our library"
   ]
  },
  {
   "cell_type": "code",
   "execution_count": 2,
   "id": "61b897bb",
   "metadata": {
    "scrolled": true
   },
   "outputs": [],
   "source": [
    "# le = LabelEncoder()\n",
    "\n",
    "# labels = pd.read_csv('../data/retina/retina_labels.tsv', sep='\\t')\n",
    "# labels = labels[labels['CellType'].isin(['retinal rod cell type B', 'retinal rod cell type A'])]\n",
    "# labels = labels[labels['CellType'] != 'unannotated']\n",
    "# labels['class_label'] = le.fit_transform(labels['CellType'])\n",
    "\n",
    "# labels.index.name = 'cell'\n",
    "# # labels = labels.iloc[0:5000, :]\n",
    "# labels.to_csv('../data/retina/retina_labels_numeric.csv')\n",
    "\n",
    "# # label_df = pd.read_csv('../data/retina/retina_labels_numeric.csv', index_col='cell')\n",
    "# # # label_df\n",
    "\n",
    "# # labels.to_csv('../data/retina/retina_labels_numeric.csv')\n",
    "\n",
    "# labels = pd.read_csv('../data/retina/retina_labels_numeric.csv')\n",
    "# labels.loc[:, 'class_label']"
   ]
  },
  {
   "cell_type": "code",
   "execution_count": 3,
   "id": "bc90ff18",
   "metadata": {},
   "outputs": [
    {
     "data": {
      "text/plain": [
       "10    6142\n",
       "9     5924\n",
       "3      714\n",
       "0      612\n",
       "7      583\n",
       "4      566\n",
       "12     456\n",
       "5      421\n",
       "6      369\n",
       "1      281\n",
       "11     173\n",
       "2      142\n",
       "8       63\n",
       "Name: class_label, dtype: int64"
      ]
     },
     "execution_count": 3,
     "metadata": {},
     "output_type": "execute_result"
    }
   ],
   "source": [
    "labels = pd.read_csv('../data/retina/retina_labels_numeric.csv')\n",
    "labels.loc[:, 'class_label'].value_counts()"
   ]
  },
  {
   "cell_type": "code",
   "execution_count": 4,
   "id": "d5c976b9",
   "metadata": {},
   "outputs": [],
   "source": [
    "module = DataModule(\n",
    "    datafiles=['../data/retina/retina_T.csv'],\n",
    "    labelfiles=['../data/retina/retina_labels_numeric.csv'],\n",
    "    class_label='class_label',\n",
    "    index_col='cell',\n",
    "#     sep=',',\n",
    "    batch_size=16,\n",
    "    num_workers=0,\n",
    "    skip=3,\n",
    "    shuffle=True,\n",
    "    drop_last=True,\n",
    "    normalize=True,\n",
    ")"
   ]
  },
  {
   "cell_type": "code",
   "execution_count": 6,
   "id": "dcf1ca37",
   "metadata": {},
   "outputs": [
    {
     "name": "stderr",
     "output_type": "stream",
     "text": [
      "/Users/julian/miniconda3/envs/base-data-science/lib/python3.9/site-packages/pytorch_lightning/core/datamodule.py:469: LightningDeprecationWarning: DataModule.setup has already been called, so it will not be called again. In v1.6 this behavior will change to always call DataModule.setup.\n",
      "  rank_zero_deprecation(\n"
     ]
    },
    {
     "name": "stdout",
     "output_type": "stream",
     "text": [
      "IN TOTALCLSASWIRIGHTS sep=',' GOD FUCKIGN DAMMIOT\n"
     ]
    },
    {
     "data": {
      "text/plain": [
       "tensor([ 2.0671,  4.5021,  8.9090,  1.7718,  2.2351,  3.0049,  3.4284,  2.1699,\n",
       "        20.0806,  0.2136,  0.2060,  7.3126,  2.7743])"
      ]
     },
     "execution_count": 6,
     "metadata": {},
     "output_type": "execute_result"
    }
   ],
   "source": [
    "module.setup()\n",
    "next(iter(module.trainloader))\n",
    "compute_class_weights(['../data/retina/retina_labels_numeric.csv'], 'class_label')"
   ]
  },
  {
   "cell_type": "code",
   "execution_count": null,
   "id": "756bd9c5",
   "metadata": {},
   "outputs": [],
   "source": [
    "tabnetmodel = TabNetLightning(\n",
    "    input_dim=module.num_features,\n",
    "    output_dim=module.num_labels,\n",
    "    optim_params={\n",
    "        'optimizer': torch.optim.Adam,\n",
    "        'lr': 0.2,\n",
    "        'weight_decay': 0,\n",
    "    },\n",
    "    scheduler_params={\n",
    "        'scheduler': torch.optim.lr_scheduler.StepLR,\n",
    "        'step_size': 1e-5,\n",
    "    },\n",
    "    metrics={\n",
    "        'confusionmatrix': confusion_matrix,\n",
    "        'accuracy': accuracy,\n",
    "        'precision': precision,\n",
    "        'recall': recall,\n",
    "    },\n",
    ")\n",
    "\n",
    "wandb_logger = WandbLogger(\n",
    "    project=f\"tabnet-classifer-sweep\",\n",
    "    name='local-retina-model'\n",
    ")\n",
    "\n",
    "trainer = pl.Trainer(\n",
    "    gpus=(1 if torch.cuda.is_available() else 0),\n",
    "    auto_lr_find=False,\n",
    "    logger=wandb_logger,\n",
    "    max_epochs=100,\n",
    ")"
   ]
  },
  {
   "cell_type": "code",
   "execution_count": null,
   "id": "4479a4f6",
   "metadata": {},
   "outputs": [
    {
     "name": "stdout",
     "output_type": "stream",
     "text": [
      "Creating train/val/test DataLoaders...\n",
      "Done, continuing to training.\n"
     ]
    },
    {
     "name": "stderr",
     "output_type": "stream",
     "text": [
      "\u001b[34m\u001b[1mwandb\u001b[0m: Currently logged in as: \u001b[33mjlehrer1\u001b[0m (use `wandb login --relogin` to force relogin)\n"
     ]
    },
    {
     "data": {
      "text/html": [
       "wandb version 0.12.15 is available!  To upgrade, please run:\n",
       " $ pip install wandb --upgrade"
      ],
      "text/plain": [
       "<IPython.core.display.HTML object>"
      ]
     },
     "metadata": {},
     "output_type": "display_data"
    },
    {
     "data": {
      "text/html": [
       "Tracking run with wandb version 0.12.11"
      ],
      "text/plain": [
       "<IPython.core.display.HTML object>"
      ]
     },
     "metadata": {},
     "output_type": "display_data"
    },
    {
     "data": {
      "text/html": [
       "Run data is saved locally in <code>/Users/julian/Documents/Projects/organoid-classification/notebooks/wandb/run-20220428_195704-nksadzo0</code>"
      ],
      "text/plain": [
       "<IPython.core.display.HTML object>"
      ]
     },
     "metadata": {},
     "output_type": "display_data"
    },
    {
     "data": {
      "text/html": [
       "Syncing run <strong><a href=\"https://wandb.ai/jlehrer1/tabnet-classifer-sweep/runs/nksadzo0\" target=\"_blank\">local-retina-model</a></strong> to <a href=\"https://wandb.ai/jlehrer1/tabnet-classifer-sweep\" target=\"_blank\">Weights & Biases</a> (<a href=\"https://wandb.me/run\" target=\"_blank\">docs</a>)<br/>"
      ],
      "text/plain": [
       "<IPython.core.display.HTML object>"
      ]
     },
     "metadata": {},
     "output_type": "display_data"
    },
    {
     "name": "stderr",
     "output_type": "stream",
     "text": [
      "\n",
      "  | Name    | Type   | Params\n",
      "-----------------------------------\n",
      "0 | network | TabNet | 2.5 M \n",
      "-----------------------------------\n",
      "2.5 M     Trainable params\n",
      "0         Non-trainable params\n",
      "2.5 M     Total params\n",
      "9.916     Total estimated model params size (MB)\n"
     ]
    },
    {
     "data": {
      "application/vnd.jupyter.widget-view+json": {
       "model_id": "",
       "version_major": 2,
       "version_minor": 0
      },
      "text/plain": [
       "Validation sanity check: 0it [00:00, ?it/s]"
      ]
     },
     "metadata": {},
     "output_type": "display_data"
    },
    {
     "name": "stderr",
     "output_type": "stream",
     "text": [
      "/Users/julian/miniconda3/envs/base-data-science/lib/python3.9/site-packages/pytorch_lightning/trainer/data_loading.py:453: UserWarning: Your `val_dataloader` has `shuffle=True`,it is strongly recommended that you turn this off for val/test/predict dataloaders.\n",
      "  rank_zero_warn(\n",
      "/Users/julian/miniconda3/envs/base-data-science/lib/python3.9/site-packages/pytorch_lightning/trainer/data_loading.py:111: UserWarning: The dataloader, val_dataloader 0, does not have many workers which may be a bottleneck. Consider increasing the value of the `num_workers` argument` (try 10 which is the number of cpus on this machine) in the `DataLoader` init to improve performance.\n",
      "  rank_zero_warn(\n",
      "/Users/julian/miniconda3/envs/base-data-science/lib/python3.9/site-packages/pytorch_lightning/trainer/connectors/logger_connector/result.py:219: UserWarning: You called `self.log('val_confusionmatrix', ...)` in your `validation_step` but the value needs to be floating point. Converting it to torch.float32.\n",
      "  warning_cache.warn(\n",
      "/Users/julian/miniconda3/envs/base-data-science/lib/python3.9/site-packages/pytorch_lightning/trainer/data_loading.py:111: UserWarning: The dataloader, train_dataloader, does not have many workers which may be a bottleneck. Consider increasing the value of the `num_workers` argument` (try 10 which is the number of cpus on this machine) in the `DataLoader` init to improve performance.\n",
      "  rank_zero_warn(\n"
     ]
    },
    {
     "data": {
      "application/vnd.jupyter.widget-view+json": {
       "model_id": "87e795a94d9940358357d004e85d6f26",
       "version_major": 2,
       "version_minor": 0
      },
      "text/plain": [
       "Training: 0it [00:00, ?it/s]"
      ]
     },
     "metadata": {},
     "output_type": "display_data"
    },
    {
     "name": "stderr",
     "output_type": "stream",
     "text": [
      "/Users/julian/miniconda3/envs/base-data-science/lib/python3.9/site-packages/pytorch_lightning/trainer/connectors/logger_connector/result.py:219: UserWarning: You called `self.log('train_confusionmatrix', ...)` in your `training_step` but the value needs to be floating point. Converting it to torch.float32.\n",
      "  warning_cache.warn(\n"
     ]
    },
    {
     "data": {
      "application/vnd.jupyter.widget-view+json": {
       "model_id": "",
       "version_major": 2,
       "version_minor": 0
      },
      "text/plain": [
       "Validating: 0it [00:00, ?it/s]"
      ]
     },
     "metadata": {},
     "output_type": "display_data"
    },
    {
     "data": {
      "application/vnd.jupyter.widget-view+json": {
       "model_id": "",
       "version_major": 2,
       "version_minor": 0
      },
      "text/plain": [
       "Validating: 0it [00:00, ?it/s]"
      ]
     },
     "metadata": {},
     "output_type": "display_data"
    },
    {
     "data": {
      "application/vnd.jupyter.widget-view+json": {
       "model_id": "",
       "version_major": 2,
       "version_minor": 0
      },
      "text/plain": [
       "Validating: 0it [00:00, ?it/s]"
      ]
     },
     "metadata": {},
     "output_type": "display_data"
    },
    {
     "data": {
      "application/vnd.jupyter.widget-view+json": {
       "model_id": "",
       "version_major": 2,
       "version_minor": 0
      },
      "text/plain": [
       "Validating: 0it [00:00, ?it/s]"
      ]
     },
     "metadata": {},
     "output_type": "display_data"
    },
    {
     "data": {
      "application/vnd.jupyter.widget-view+json": {
       "model_id": "",
       "version_major": 2,
       "version_minor": 0
      },
      "text/plain": [
       "Validating: 0it [00:00, ?it/s]"
      ]
     },
     "metadata": {},
     "output_type": "display_data"
    },
    {
     "data": {
      "application/vnd.jupyter.widget-view+json": {
       "model_id": "",
       "version_major": 2,
       "version_minor": 0
      },
      "text/plain": [
       "Validating: 0it [00:00, ?it/s]"
      ]
     },
     "metadata": {},
     "output_type": "display_data"
    },
    {
     "data": {
      "application/vnd.jupyter.widget-view+json": {
       "model_id": "",
       "version_major": 2,
       "version_minor": 0
      },
      "text/plain": [
       "Validating: 0it [00:00, ?it/s]"
      ]
     },
     "metadata": {},
     "output_type": "display_data"
    },
    {
     "data": {
      "application/vnd.jupyter.widget-view+json": {
       "model_id": "",
       "version_major": 2,
       "version_minor": 0
      },
      "text/plain": [
       "Validating: 0it [00:00, ?it/s]"
      ]
     },
     "metadata": {},
     "output_type": "display_data"
    },
    {
     "data": {
      "application/vnd.jupyter.widget-view+json": {
       "model_id": "",
       "version_major": 2,
       "version_minor": 0
      },
      "text/plain": [
       "Validating: 0it [00:00, ?it/s]"
      ]
     },
     "metadata": {},
     "output_type": "display_data"
    },
    {
     "data": {
      "application/vnd.jupyter.widget-view+json": {
       "model_id": "",
       "version_major": 2,
       "version_minor": 0
      },
      "text/plain": [
       "Validating: 0it [00:00, ?it/s]"
      ]
     },
     "metadata": {},
     "output_type": "display_data"
    },
    {
     "data": {
      "application/vnd.jupyter.widget-view+json": {
       "model_id": "",
       "version_major": 2,
       "version_minor": 0
      },
      "text/plain": [
       "Validating: 0it [00:00, ?it/s]"
      ]
     },
     "metadata": {},
     "output_type": "display_data"
    },
    {
     "data": {
      "application/vnd.jupyter.widget-view+json": {
       "model_id": "",
       "version_major": 2,
       "version_minor": 0
      },
      "text/plain": [
       "Validating: 0it [00:00, ?it/s]"
      ]
     },
     "metadata": {},
     "output_type": "display_data"
    },
    {
     "data": {
      "application/vnd.jupyter.widget-view+json": {
       "model_id": "",
       "version_major": 2,
       "version_minor": 0
      },
      "text/plain": [
       "Validating: 0it [00:00, ?it/s]"
      ]
     },
     "metadata": {},
     "output_type": "display_data"
    },
    {
     "data": {
      "application/vnd.jupyter.widget-view+json": {
       "model_id": "",
       "version_major": 2,
       "version_minor": 0
      },
      "text/plain": [
       "Validating: 0it [00:00, ?it/s]"
      ]
     },
     "metadata": {},
     "output_type": "display_data"
    },
    {
     "data": {
      "application/vnd.jupyter.widget-view+json": {
       "model_id": "",
       "version_major": 2,
       "version_minor": 0
      },
      "text/plain": [
       "Validating: 0it [00:00, ?it/s]"
      ]
     },
     "metadata": {},
     "output_type": "display_data"
    },
    {
     "data": {
      "application/vnd.jupyter.widget-view+json": {
       "model_id": "81a3b26ab96241bb888560c74114fa03",
       "version_major": 2,
       "version_minor": 0
      },
      "text/plain": [
       "Validating: 0it [00:00, ?it/s]"
      ]
     },
     "metadata": {},
     "output_type": "display_data"
    }
   ],
   "source": [
    "trainer.fit(tabnetmodel, datamodule=module)"
   ]
  },
  {
   "cell_type": "code",
   "execution_count": null,
   "id": "59e97784",
   "metadata": {},
   "outputs": [],
   "source": [
    "orig = an.read_h5ad('../data/retina/retina.h5ad')"
   ]
  },
  {
   "cell_type": "code",
   "execution_count": null,
   "id": "4010c5e4",
   "metadata": {
    "scrolled": false
   },
   "outputs": [],
   "source": [
    "t = GeneExpressionData(\n",
    "    filename='../data/retina/retina_T.csv',\n",
    "    labelname='../data/retina/retina_labels_numeric.csv',\n",
    "    index_col='cell',\n",
    "    class_label='numeric_class',\n",
    ")"
   ]
  },
  {
   "cell_type": "code",
   "execution_count": null,
   "id": "1e68cf20",
   "metadata": {},
   "outputs": [],
   "source": [
    "t.columns.__len__()"
   ]
  },
  {
   "cell_type": "code",
   "execution_count": null,
   "id": "1b2b2a65",
   "metadata": {},
   "outputs": [],
   "source": [
    "from bigcsv import BigCSV\n",
    "\n",
    "converter = BigCSV(\n",
    "    file='../data/retina/retina_T.csv',\n",
    "    outfile='../data/retina/retina_test.h5ad',\n",
    "    save_chunks=True,\n",
    "    chunkfolder='./chunks'\n",
    ")\n",
    "\n",
    "converter.to_h5ad()"
   ]
  },
  {
   "cell_type": "code",
   "execution_count": null,
   "id": "16a09794",
   "metadata": {},
   "outputs": [],
   "source": []
  }
 ],
 "metadata": {
  "kernelspec": {
   "display_name": "Python [conda env:base-data-science]",
   "language": "python",
   "name": "conda-env-base-data-science-py"
  },
  "language_info": {
   "codemirror_mode": {
    "name": "ipython",
    "version": 3
   },
   "file_extension": ".py",
   "mimetype": "text/x-python",
   "name": "python",
   "nbconvert_exporter": "python",
   "pygments_lexer": "ipython3",
   "version": "3.9.7"
  }
 },
 "nbformat": 4,
 "nbformat_minor": 5
}
