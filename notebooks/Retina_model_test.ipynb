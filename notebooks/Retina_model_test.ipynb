{
 "cells": [
  {
   "cell_type": "code",
   "execution_count": 1,
   "id": "3e916ec5",
   "metadata": {},
   "outputs": [],
   "source": [
    "import pandas as pd \n",
    "import scsims\n",
    "from sklearn.preprocessing import LabelEncoder\n",
    "import sys\n",
    "\n",
    "sys.path.append('../src')\n",
    "sys.path.append('../tests')\n",
    "from models.lib.lightning_train import DataModule, generate_trainer\n",
    "from models.lib.neural import GeneClassifier\n",
    "from models.lib.data import *"
   ]
  },
  {
   "cell_type": "markdown",
   "id": "b56853d6",
   "metadata": {},
   "source": [
    "Let's do some simple preprocessing for training, and then test our library"
   ]
  },
  {
   "cell_type": "code",
   "execution_count": 15,
   "id": "61b897bb",
   "metadata": {},
   "outputs": [
    {
     "data": {
      "text/html": [
       "<div>\n",
       "<style scoped>\n",
       "    .dataframe tbody tr th:only-of-type {\n",
       "        vertical-align: middle;\n",
       "    }\n",
       "\n",
       "    .dataframe tbody tr th {\n",
       "        vertical-align: top;\n",
       "    }\n",
       "\n",
       "    .dataframe thead th {\n",
       "        text-align: right;\n",
       "    }\n",
       "</style>\n",
       "<table border=\"1\" class=\"dataframe\">\n",
       "  <thead>\n",
       "    <tr style=\"text-align: right;\">\n",
       "      <th></th>\n",
       "      <th>cell</th>\n",
       "      <th>index</th>\n",
       "      <th>Expressed Genes</th>\n",
       "      <th>UMI Count</th>\n",
       "      <th>Percent Mitochond.</th>\n",
       "      <th>BroadCellType</th>\n",
       "      <th>CellType</th>\n",
       "      <th>Donor</th>\n",
       "      <th>class_label</th>\n",
       "    </tr>\n",
       "  </thead>\n",
       "  <tbody>\n",
       "    <tr>\n",
       "      <th>0</th>\n",
       "      <td>0</td>\n",
       "      <td>0024369980fd003553cbc9dfe29f7f95</td>\n",
       "      <td>2351</td>\n",
       "      <td>6060.0</td>\n",
       "      <td>4.125413</td>\n",
       "      <td>retinal rod cell</td>\n",
       "      <td>retinal rod cell type A</td>\n",
       "      <td>b8049daa-7458-47bf-8ec2-3f5c56d2cb34</td>\n",
       "      <td>9</td>\n",
       "    </tr>\n",
       "    <tr>\n",
       "      <th>1</th>\n",
       "      <td>1</td>\n",
       "      <td>002f621cb1c922521e488d9cbf8b707d</td>\n",
       "      <td>5868</td>\n",
       "      <td>28695.0</td>\n",
       "      <td>3.896149</td>\n",
       "      <td>unannotated</td>\n",
       "      <td>unannotated</td>\n",
       "      <td>b8049daa-7458-47bf-8ec2-3f5c56d2cb34</td>\n",
       "      <td>12</td>\n",
       "    </tr>\n",
       "    <tr>\n",
       "      <th>2</th>\n",
       "      <td>2</td>\n",
       "      <td>0037f1b36684cb59b84d3585ca55ff69</td>\n",
       "      <td>950</td>\n",
       "      <td>1507.0</td>\n",
       "      <td>0.597213</td>\n",
       "      <td>retinal rod cell</td>\n",
       "      <td>retinal rod cell type B</td>\n",
       "      <td>427c0a62-9baf-42ab-a3a3-f48d10544280</td>\n",
       "      <td>10</td>\n",
       "    </tr>\n",
       "    <tr>\n",
       "      <th>3</th>\n",
       "      <td>3</td>\n",
       "      <td>00390952646f52d11a9ab9bba7d6ac51</td>\n",
       "      <td>961</td>\n",
       "      <td>1962.0</td>\n",
       "      <td>7.543323</td>\n",
       "      <td>retinal rod cell</td>\n",
       "      <td>retinal rod cell type A</td>\n",
       "      <td>b8049daa-7458-47bf-8ec2-3f5c56d2cb34</td>\n",
       "      <td>9</td>\n",
       "    </tr>\n",
       "    <tr>\n",
       "      <th>4</th>\n",
       "      <td>4</td>\n",
       "      <td>005b3351658380695a5dc46c384d72d7</td>\n",
       "      <td>858</td>\n",
       "      <td>1384.0</td>\n",
       "      <td>0.144509</td>\n",
       "      <td>retinal rod cell</td>\n",
       "      <td>retinal rod cell type B</td>\n",
       "      <td>b8049daa-7458-47bf-8ec2-3f5c56d2cb34</td>\n",
       "      <td>10</td>\n",
       "    </tr>\n",
       "    <tr>\n",
       "      <th>...</th>\n",
       "      <td>...</td>\n",
       "      <td>...</td>\n",
       "      <td>...</td>\n",
       "      <td>...</td>\n",
       "      <td>...</td>\n",
       "      <td>...</td>\n",
       "      <td>...</td>\n",
       "      <td>...</td>\n",
       "      <td>...</td>\n",
       "    </tr>\n",
       "    <tr>\n",
       "      <th>4995</th>\n",
       "      <td>4995</td>\n",
       "      <td>fe3024f42c4a82e5dcb5c31e3c930ecb</td>\n",
       "      <td>8633</td>\n",
       "      <td>54861.0</td>\n",
       "      <td>1.656915</td>\n",
       "      <td>unannotated</td>\n",
       "      <td>unannotated</td>\n",
       "      <td>427c0a62-9baf-42ab-a3a3-f48d10544280</td>\n",
       "      <td>12</td>\n",
       "    </tr>\n",
       "    <tr>\n",
       "      <th>4996</th>\n",
       "      <td>4996</td>\n",
       "      <td>fe324f69654a898c27a875a0174a1100</td>\n",
       "      <td>517</td>\n",
       "      <td>771.0</td>\n",
       "      <td>0.389105</td>\n",
       "      <td>unannotated</td>\n",
       "      <td>unannotated</td>\n",
       "      <td>b8049daa-7458-47bf-8ec2-3f5c56d2cb34</td>\n",
       "      <td>12</td>\n",
       "    </tr>\n",
       "    <tr>\n",
       "      <th>4997</th>\n",
       "      <td>4997</td>\n",
       "      <td>fe5d128cf902eea5aae5149fbc63a061</td>\n",
       "      <td>1056</td>\n",
       "      <td>1763.0</td>\n",
       "      <td>0.283607</td>\n",
       "      <td>retinal rod cell</td>\n",
       "      <td>retinal rod cell type B</td>\n",
       "      <td>b8049daa-7458-47bf-8ec2-3f5c56d2cb34</td>\n",
       "      <td>10</td>\n",
       "    </tr>\n",
       "    <tr>\n",
       "      <th>4998</th>\n",
       "      <td>4998</td>\n",
       "      <td>fe6e08381b583066f5d573b142851a0e</td>\n",
       "      <td>935</td>\n",
       "      <td>1379.0</td>\n",
       "      <td>0.290065</td>\n",
       "      <td>retinal rod cell</td>\n",
       "      <td>retinal rod cell type B</td>\n",
       "      <td>b8049daa-7458-47bf-8ec2-3f5c56d2cb34</td>\n",
       "      <td>10</td>\n",
       "    </tr>\n",
       "    <tr>\n",
       "      <th>4999</th>\n",
       "      <td>4999</td>\n",
       "      <td>fe706b737093684400985bb5b762a0aa</td>\n",
       "      <td>2560</td>\n",
       "      <td>5952.0</td>\n",
       "      <td>1.696909</td>\n",
       "      <td>retinal rod cell</td>\n",
       "      <td>retinal rod cell type A</td>\n",
       "      <td>66b7152c-8e94-412b-b0e4-f8fbf554df5a</td>\n",
       "      <td>9</td>\n",
       "    </tr>\n",
       "  </tbody>\n",
       "</table>\n",
       "<p>5000 rows × 9 columns</p>\n",
       "</div>"
      ],
      "text/plain": [
       "      cell                             index  Expressed Genes  UMI Count  \\\n",
       "0        0  0024369980fd003553cbc9dfe29f7f95             2351     6060.0   \n",
       "1        1  002f621cb1c922521e488d9cbf8b707d             5868    28695.0   \n",
       "2        2  0037f1b36684cb59b84d3585ca55ff69              950     1507.0   \n",
       "3        3  00390952646f52d11a9ab9bba7d6ac51              961     1962.0   \n",
       "4        4  005b3351658380695a5dc46c384d72d7              858     1384.0   \n",
       "...    ...                               ...              ...        ...   \n",
       "4995  4995  fe3024f42c4a82e5dcb5c31e3c930ecb             8633    54861.0   \n",
       "4996  4996  fe324f69654a898c27a875a0174a1100              517      771.0   \n",
       "4997  4997  fe5d128cf902eea5aae5149fbc63a061             1056     1763.0   \n",
       "4998  4998  fe6e08381b583066f5d573b142851a0e              935     1379.0   \n",
       "4999  4999  fe706b737093684400985bb5b762a0aa             2560     5952.0   \n",
       "\n",
       "      Percent Mitochond.     BroadCellType                 CellType  \\\n",
       "0               4.125413  retinal rod cell  retinal rod cell type A   \n",
       "1               3.896149       unannotated              unannotated   \n",
       "2               0.597213  retinal rod cell  retinal rod cell type B   \n",
       "3               7.543323  retinal rod cell  retinal rod cell type A   \n",
       "4               0.144509  retinal rod cell  retinal rod cell type B   \n",
       "...                  ...               ...                      ...   \n",
       "4995            1.656915       unannotated              unannotated   \n",
       "4996            0.389105       unannotated              unannotated   \n",
       "4997            0.283607  retinal rod cell  retinal rod cell type B   \n",
       "4998            0.290065  retinal rod cell  retinal rod cell type B   \n",
       "4999            1.696909  retinal rod cell  retinal rod cell type A   \n",
       "\n",
       "                                     Donor  class_label  \n",
       "0     b8049daa-7458-47bf-8ec2-3f5c56d2cb34            9  \n",
       "1     b8049daa-7458-47bf-8ec2-3f5c56d2cb34           12  \n",
       "2     427c0a62-9baf-42ab-a3a3-f48d10544280           10  \n",
       "3     b8049daa-7458-47bf-8ec2-3f5c56d2cb34            9  \n",
       "4     b8049daa-7458-47bf-8ec2-3f5c56d2cb34           10  \n",
       "...                                    ...          ...  \n",
       "4995  427c0a62-9baf-42ab-a3a3-f48d10544280           12  \n",
       "4996  b8049daa-7458-47bf-8ec2-3f5c56d2cb34           12  \n",
       "4997  b8049daa-7458-47bf-8ec2-3f5c56d2cb34           10  \n",
       "4998  b8049daa-7458-47bf-8ec2-3f5c56d2cb34           10  \n",
       "4999  66b7152c-8e94-412b-b0e4-f8fbf554df5a            9  \n",
       "\n",
       "[5000 rows x 9 columns]"
      ]
     },
     "execution_count": 15,
     "metadata": {},
     "output_type": "execute_result"
    }
   ],
   "source": [
    "le = LabelEncoder()\n",
    "\n",
    "labels = pd.read_csv('../data/retina/retina_labels.tsv', sep='\\t')\n",
    "# labels = labels[labels['CellType'].isin(['retinal rod cell type B', 'retinal rod cell type A'])]\n",
    "# labels = labels[labels['CellType'] != 'unannotated']\n",
    "labels['class_label'] = le.fit_transform(labels['CellType'])\n",
    "\n",
    "labels.index.name = 'cell'\n",
    "labels = labels.iloc[0:5000, :]\n",
    "labels.to_csv('../data/retina/retina_labels_numeric.csv')\n",
    "\n",
    "# label_df = pd.read_csv('../data/retina/retina_labels_numeric.csv', index_col='cell')\n",
    "# # label_df\n",
    "\n",
    "# labels.to_csv('../data/retina/retina_labels_numeric.csv')\n",
    "\n",
    "label_df = pd.read_csv('../data/retina/retina_labels_numeric.csv')\n",
    "label_df"
   ]
  },
  {
   "cell_type": "code",
   "execution_count": 3,
   "id": "2202fc26",
   "metadata": {},
   "outputs": [],
   "source": [
    "datafiles = ['../data/retina/retina_T.csv']\n",
    "labelfiles = ['../data/retina/retina_labels_numeric.csv']\n",
    "\n",
    "module = DataModule(\n",
    "    datafiles=['../data/retina/retina_T.csv'],\n",
    "    labelfiles=['../data/retina/retina_labels_numeric.csv'],\n",
    "    class_label='class_label',\n",
    "    batch_size=4,\n",
    "    num_workers=0,\n",
    "    skip=3,\n",
    "    shuffle=True,\n",
    "    drop_last=True,\n",
    "    index_col='cell',\n",
    ")\n",
    "\n",
    "# total_class_weights(labelfiles, 'class_label')"
   ]
  },
  {
   "cell_type": "code",
   "execution_count": 4,
   "id": "e52d24a9",
   "metadata": {
    "scrolled": false
   },
   "outputs": [
    {
     "name": "stdout",
     "output_type": "stream",
     "text": [
      "Model initialized. input_dim = 37475, output_dim = 13. Metrics are dict_keys(['accuracy', 'precision', 'recall']) and weighted_metrics = False\n"
     ]
    }
   ],
   "source": [
    "model = GeneClassifier(\n",
    "    input_dim=module.num_features,\n",
    "    output_dim=module.num_labels,\n",
    "    weights=total_class_weights(['../data/retina/retina_labels_numeric.csv'], 'class_label'),\n",
    "    optim_params={\n",
    "        'optimizer': torch.optim.Adam,\n",
    "        'lr': 0.02,\n",
    "        'weight_decay': 0,\n",
    "    },\n",
    "    scheduler_params={\n",
    "        'scheduler': torch.optim.lr_scheduler.StepLR,\n",
    "        'step_size': 20,\n",
    "        'gamma': 0.001,\n",
    "    }\n",
    ")"
   ]
  },
  {
   "cell_type": "code",
   "execution_count": 5,
   "id": "e0df4346",
   "metadata": {},
   "outputs": [],
   "source": [
    "# model.configure_optimizers()"
   ]
  },
  {
   "cell_type": "code",
   "execution_count": 6,
   "id": "d5c976b9",
   "metadata": {},
   "outputs": [],
   "source": [
    "# model(next(iter(module.trainloader)))"
   ]
  },
  {
   "cell_type": "code",
   "execution_count": 8,
   "id": "bd9f2ded",
   "metadata": {
    "scrolled": false
   },
   "outputs": [
    {
     "name": "stdout",
     "output_type": "stream",
     "text": [
      "Device is cpu\n",
      "../data/retina/retina_T.csv exists, continuing...\n",
      "../data/retina/retina_labels_numeric.csv exists, continuing...\n",
      "\n"
     ]
    },
    {
     "name": "stderr",
     "output_type": "stream",
     "text": [
      "GPU available: False, used: False\n",
      "TPU available: False, using: 0 TPU cores\n",
      "IPU available: False, using: 0 IPUs\n"
     ]
    },
    {
     "name": "stdout",
     "output_type": "stream",
     "text": [
      "Model initialized. input_dim = 37475, output_dim = 13. Metrics are dict_keys(['accuracy', 'precision', 'recall']) and weighted_metrics = False\n"
     ]
    },
    {
     "data": {
      "text/plain": [
       "{'scheduler': torch.optim.lr_scheduler.StepLR, 'step_size': 20, 'gamma': 0.001}"
      ]
     },
     "execution_count": 8,
     "metadata": {},
     "output_type": "execute_result"
    }
   ],
   "source": [
    "trainer, genmodel, module = generate_trainer(\n",
    "    datafiles=['../data/retina/retina_T.csv'],\n",
    "    labelfiles=['../data/retina/retina_labels_numeric.csv'],\n",
    "    class_label='class_label',\n",
    "    index_col='cell',\n",
    "    batch_size=4,\n",
    "    num_workers=0,\n",
    "    skip=3,\n",
    "    shuffle=True,\n",
    "    drop_last=True,\n",
    "    weighted_metrics=False,\n",
    "    normalize=True,\n",
    "    weights=total_class_weights(['../data/retina/retina_labels_numeric.csv'], 'class_label'),\n",
    "    wandb_name='local-retina-model',\n",
    "        optim_params={\n",
    "        'optimizer': torch.optim.Adam,\n",
    "        'lr': 0.02,\n",
    "        'weight_decay': 0,\n",
    "    },\n",
    "    scheduler_params={\n",
    "        'scheduler': torch.optim.lr_scheduler.StepLR,\n",
    "        'step_size': 20,\n",
    "        'gamma': 0.001,\n",
    "    }\n",
    ")\n",
    "\n",
    "genmodel.scheduler_params"
   ]
  },
  {
   "cell_type": "code",
   "execution_count": 18,
   "id": "7864cac6",
   "metadata": {
    "scrolled": false
   },
   "outputs": [
    {
     "name": "stdout",
     "output_type": "stream",
     "text": [
      "Creating train/val/test DataLoaders...\n",
      "Done, continuing to training.\n"
     ]
    },
    {
     "name": "stderr",
     "output_type": "stream",
     "text": [
      "\u001b[34m\u001b[1mwandb\u001b[0m: Currently logged in as: \u001b[33mjlehrer1\u001b[0m (use `wandb login --relogin` to force relogin)\n"
     ]
    },
    {
     "data": {
      "text/html": [
       "wandb version 0.12.14 is available!  To upgrade, please run:\n",
       " $ pip install wandb --upgrade"
      ],
      "text/plain": [
       "<IPython.core.display.HTML object>"
      ]
     },
     "metadata": {},
     "output_type": "display_data"
    },
    {
     "data": {
      "text/html": [
       "Tracking run with wandb version 0.12.11"
      ],
      "text/plain": [
       "<IPython.core.display.HTML object>"
      ]
     },
     "metadata": {},
     "output_type": "display_data"
    },
    {
     "data": {
      "text/html": [
       "Run data is saved locally in <code>/Users/julian/Documents/Projects/organoid-classification/notebooks/wandb/run-20220421_081723-12hi2utn</code>"
      ],
      "text/plain": [
       "<IPython.core.display.HTML object>"
      ]
     },
     "metadata": {},
     "output_type": "display_data"
    },
    {
     "data": {
      "text/html": [
       "Syncing run <strong><a href=\"https://wandb.ai/jlehrer1/tabnet-classifer-sweep/runs/12hi2utn\" target=\"_blank\">local-retina-model</a></strong> to <a href=\"https://wandb.ai/jlehrer1/tabnet-classifer-sweep\" target=\"_blank\">Weights & Biases</a> (<a href=\"https://wandb.me/run\" target=\"_blank\">docs</a>)<br/>"
      ],
      "text/plain": [
       "<IPython.core.display.HTML object>"
      ]
     },
     "metadata": {},
     "output_type": "display_data"
    },
    {
     "name": "stderr",
     "output_type": "stream",
     "text": [
      "\n",
      "  | Name       | Type                 | Params\n",
      "----------------------------------------------------\n",
      "0 | base_model | TabNetGeneClassifier | 2.5 M \n",
      "----------------------------------------------------\n",
      "2.5 M     Trainable params\n",
      "0         Non-trainable params\n",
      "2.5 M     Total params\n",
      "9.916     Total estimated model params size (MB)\n"
     ]
    },
    {
     "data": {
      "application/vnd.jupyter.widget-view+json": {
       "model_id": "",
       "version_major": 2,
       "version_minor": 0
      },
      "text/plain": [
       "Validation sanity check: 0it [00:00, ?it/s]"
      ]
     },
     "metadata": {},
     "output_type": "display_data"
    },
    {
     "name": "stderr",
     "output_type": "stream",
     "text": [
      "/Users/julian/miniconda3/envs/base-data-science/lib/python3.9/site-packages/pytorch_lightning/trainer/data_loading.py:453: UserWarning: Your `val_dataloader` has `shuffle=True`,it is strongly recommended that you turn this off for val/test/predict dataloaders.\n",
      "  rank_zero_warn(\n",
      "/Users/julian/miniconda3/envs/base-data-science/lib/python3.9/site-packages/pytorch_lightning/trainer/data_loading.py:111: UserWarning: The dataloader, val_dataloader 0, does not have many workers which may be a bottleneck. Consider increasing the value of the `num_workers` argument` (try 10 which is the number of cpus on this machine) in the `DataLoader` init to improve performance.\n",
      "  rank_zero_warn(\n",
      "/Users/julian/miniconda3/envs/base-data-science/lib/python3.9/site-packages/pytorch_lightning/trainer/data_loading.py:111: UserWarning: The dataloader, train_dataloader, does not have many workers which may be a bottleneck. Consider increasing the value of the `num_workers` argument` (try 10 which is the number of cpus on this machine) in the `DataLoader` init to improve performance.\n",
      "  rank_zero_warn(\n"
     ]
    },
    {
     "data": {
      "application/vnd.jupyter.widget-view+json": {
       "model_id": "2b4d071bb1da44089c7a896349622442",
       "version_major": 2,
       "version_minor": 0
      },
      "text/plain": [
       "Training: 0it [00:00, ?it/s]"
      ]
     },
     "metadata": {},
     "output_type": "display_data"
    },
    {
     "data": {
      "application/vnd.jupyter.widget-view+json": {
       "model_id": "",
       "version_major": 2,
       "version_minor": 0
      },
      "text/plain": [
       "Validating: 0it [00:00, ?it/s]"
      ]
     },
     "metadata": {},
     "output_type": "display_data"
    },
    {
     "data": {
      "application/vnd.jupyter.widget-view+json": {
       "model_id": "",
       "version_major": 2,
       "version_minor": 0
      },
      "text/plain": [
       "Validating: 0it [00:00, ?it/s]"
      ]
     },
     "metadata": {},
     "output_type": "display_data"
    },
    {
     "name": "stderr",
     "output_type": "stream",
     "text": [
      "/Users/julian/miniconda3/envs/base-data-science/lib/python3.9/site-packages/pytorch_lightning/trainer/trainer.py:685: UserWarning: Detected KeyboardInterrupt, attempting graceful shutdown...\n",
      "  rank_zero_warn(\"Detected KeyboardInterrupt, attempting graceful shutdown...\")\n"
     ]
    }
   ],
   "source": [
    "trainer.fit(model, datamodule=module)"
   ]
  },
  {
   "cell_type": "code",
   "execution_count": 8,
   "id": "46a91883",
   "metadata": {
    "scrolled": true
   },
   "outputs": [
    {
     "data": {
      "text/plain": [
       "[(tensor([0., 0., 1.,  ..., 0., 0., 0.]), 2),\n",
       " (tensor([0., 0., 0.,  ..., 0., 0., 0.]), 4),\n",
       " (tensor([0., 0., 0.,  ..., 0., 0., 0.]), 9),\n",
       " (tensor([0., 1., 0.,  ..., 0., 0., 0.]), 9),\n",
       " (tensor([0., 0., 1.,  ..., 0., 0., 0.]), 7),\n",
       " (tensor([0., 0., 0.,  ..., 0., 0., 0.]), 9),\n",
       " (tensor([0., 0., 0.,  ..., 0., 0., 0.]), 10),\n",
       " (tensor([0., 0., 0.,  ..., 0., 0., 0.]), 9),\n",
       " (tensor([0., 1., 0.,  ..., 0., 0., 0.]), 10),\n",
       " (tensor([0., 0., 0.,  ..., 0., 0., 0.]), 9),\n",
       " (tensor([0., 0., 0.,  ..., 0., 0., 0.]), 9),\n",
       " (tensor([0., 0., 0.,  ..., 0., 0., 0.]), 9),\n",
       " (tensor([0., 0., 0.,  ..., 0., 0., 0.]), 1),\n",
       " (tensor([0., 1., 0.,  ..., 0., 0., 0.]), 9),\n",
       " (tensor([0., 0., 0.,  ..., 0., 0., 0.]), 7),\n",
       " (tensor([0., 0., 0.,  ..., 0., 0., 0.]), 0),\n",
       " (tensor([0., 0., 0.,  ..., 0., 0., 0.]), 9),\n",
       " (tensor([0., 0., 0.,  ..., 0., 0., 0.]), 10),\n",
       " (tensor([0., 0., 0.,  ..., 0., 0., 0.]), 9),\n",
       " (tensor([0., 0., 0.,  ..., 0., 0., 0.]), 1),\n",
       " (tensor([0., 0., 0.,  ..., 0., 0., 0.]), 9),\n",
       " (tensor([0., 0., 0.,  ..., 0., 0., 0.]), 9),\n",
       " (tensor([0., 0., 0.,  ..., 0., 0., 0.]), 4),\n",
       " (tensor([0., 0., 2.,  ..., 0., 0., 0.]), 9),\n",
       " (tensor([0., 0., 0.,  ..., 0., 0., 0.]), 10),\n",
       " (tensor([0., 1., 1.,  ..., 0., 0., 0.]), 10),\n",
       " (tensor([0., 0., 0.,  ..., 0., 0., 0.]), 10),\n",
       " (tensor([0., 1., 0.,  ..., 0., 0., 0.]), 4),\n",
       " (tensor([0., 1., 0.,  ..., 0., 0., 0.]), 10),\n",
       " (tensor([0., 1., 0.,  ..., 0., 0., 0.]), 9),\n",
       " (tensor([0., 0., 0.,  ..., 0., 0., 0.]), 2),\n",
       " (tensor([0., 1., 0.,  ..., 0., 0., 0.]), 7),\n",
       " (tensor([0., 1., 0.,  ..., 0., 0., 0.]), 9),\n",
       " (tensor([0., 0., 0.,  ..., 0., 0., 0.]), 9),\n",
       " (tensor([0., 0., 0.,  ..., 0., 0., 0.]), 10),\n",
       " (tensor([0., 0., 0.,  ..., 0., 0., 0.]), 10),\n",
       " (tensor([0., 0., 0.,  ..., 0., 0., 0.]), 10),\n",
       " (tensor([0., 0., 0.,  ..., 0., 0., 0.]), 9),\n",
       " (tensor([0., 0., 0.,  ..., 0., 0., 0.]), 7),\n",
       " (tensor([0., 0., 0.,  ..., 0., 0., 0.]), 0),\n",
       " (tensor([0., 0., 0.,  ..., 0., 0., 0.]), 10),\n",
       " (tensor([0., 2., 0.,  ..., 0., 0., 0.]), 9),\n",
       " (tensor([0., 0., 0.,  ..., 0., 0., 0.]), 11),\n",
       " (tensor([0., 0., 0.,  ..., 0., 0., 0.]), 9),\n",
       " (tensor([0., 0., 0.,  ..., 0., 0., 0.]), 10),\n",
       " (tensor([0., 0., 0.,  ..., 0., 0., 0.]), 6),\n",
       " (tensor([0., 0., 0.,  ..., 0., 0., 0.]), 10),\n",
       " (tensor([0., 0., 0.,  ..., 0., 0., 0.]), 10),\n",
       " (tensor([0., 0., 0.,  ..., 0., 0., 0.]), 9),\n",
       " (tensor([0., 0., 0.,  ..., 0., 0., 0.]), 9)]"
      ]
     },
     "execution_count": 8,
     "metadata": {},
     "output_type": "execute_result"
    }
   ],
   "source": [
    "trainloader.dataset[0:50]"
   ]
  },
  {
   "cell_type": "code",
   "execution_count": 9,
   "id": "2b28b608",
   "metadata": {
    "scrolled": true
   },
   "outputs": [
    {
     "name": "stdout",
     "output_type": "stream",
     "text": [
      "First n=100 columns of expression matrix is equal to GeneExpressionData: True\n"
     ]
    }
   ],
   "source": [
    "def _test_first_n_samples(n, datafile, labelfile):\n",
    "    data = GeneExpressionData(\n",
    "        datafile, \n",
    "        labelfile, \n",
    "        'class_label', \n",
    "        skip=3,\n",
    "        index_col='cell'\n",
    "    )\n",
    "    cols = data.columns\n",
    "    \n",
    "    # Generate dict with half precision values to read this into my 16gb memory\n",
    "    dtype_cols = dict(zip(cols, [np.float32]*len(cols)))\n",
    "    \n",
    "    data_df = pd.read_csv(datafile, nrows=2*n, header=1, dtype=dtype_cols) # Might need some extras since numerical index drops some values\n",
    "    label_df = pd.read_csv(labelfile, nrows=n)\n",
    "\n",
    "    similar = []\n",
    "    for i in range(n):\n",
    "        datasample = data[i][0]\n",
    "\n",
    "        dfsample = torch.from_numpy(data_df.loc[label_df.loc[i, 'cell'], :].values).float()\n",
    "        isclose = all(torch.isclose(datasample, dfsample))\n",
    "        similar.append(isclose)\n",
    "    \n",
    "    print(f\"First {n=} columns of expression matrix is equal to GeneExpressionData: {all(p for p in similar)}\")\n",
    "\n",
    "    assert (all(p for p in similar))\n",
    "\n",
    "_test_first_n_samples(100, '../data/retina/retina_T.csv', '../data/retina/retina_labels_numeric.csv')\n"
   ]
  },
  {
   "cell_type": "code",
   "execution_count": 10,
   "id": "38e0ae4e",
   "metadata": {},
   "outputs": [
    {
     "data": {
      "text/plain": [
       "0        507\n",
       "1        840\n",
       "2       4529\n",
       "3       3166\n",
       "4        119\n",
       "        ... \n",
       "3195    5101\n",
       "3196    4513\n",
       "3197    1811\n",
       "3198    2809\n",
       "3199    3403\n",
       "Name: cell, Length: 3200, dtype: int64"
      ]
     },
     "execution_count": 10,
     "metadata": {},
     "output_type": "execute_result"
    }
   ],
   "source": [
    "idk = module.trainloader.dataset._labeldf['cell']\n",
    "idk"
   ]
  },
  {
   "cell_type": "code",
   "execution_count": 11,
   "id": "33aa6ff2",
   "metadata": {},
   "outputs": [],
   "source": [
    "df = pd.read_csv('../data/retina/retina_labels_numeric.csv')\n",
    "labels = df.loc[:, 'class_label']"
   ]
  },
  {
   "cell_type": "code",
   "execution_count": 12,
   "id": "f14bfb01",
   "metadata": {},
   "outputs": [
    {
     "ename": "KeyError",
     "evalue": "'[5419, 5261, 5888, 5228, 5865, 5907, 5443, 5690, 5065, 5521, 5711, 5278, 5066, 5183, 5886, 5341, 5190, 5291, 5352, 5442, 5851, 5127, 5571, 5671, 5402, 5908, 5217, 5689, 5450, 5826, 5078, 5901, 5968, 5679, 5801, 5399, 5877, 5936, 5077, 5041, 5320, 5727, 5417, 5062, 5853, 5663, 5566, 5611, 5006, 5416, 5439, 5311, 5444, 5013, 5875, 5568, 5536, 5724, 5104, 5703, 5043, 5507, 5187, 5328, 5838, 5499, 5501, 5687, 5426, 5956, 5008, 5007, 5286, 5932, 5095, 5684, 5622, 5661, 5230, 5103, 5146, 5856, 5791, 5699, 5233, 5691, 5281, 5542, 5781, 5138, 5162, 5576, 5203, 5831, 5764, 5837, 5418, 5751, 5782, 5969, 5120, 5510, 5345, 5780, 5909, 5317, 5587, 5806, 5064, 5946, 5111, 5462, 5292, 5963, 5213, 5547, 5174, 5383, 5609, 5563, 5754, 5493, 5768, 5743, 5196, 5000, 5842, 5539, 5160, 5342, 5159, 5720, 5506, 5735, 5939, 5668, 5833, 5238, 5861, 5454, 5169, 5893, 5516, 5825, 5260, 5744, 5089, 5974, 5855, 5753, 5897, 5583, 5215, 5591, 5766, 5274, 5721, 5965, 5172, 5221, 5657, 5386, 5059, 5824, 5258, 5241, 5944, 5459, 5529, 5652, 5491, 5630, 5455, 5787, 5457, 5447, 5867, 5520, 5347, 5482, 5880, 5441, 5528, 5540, 5039, 5055, 5373, 5890, 5488, 5245, 5934, 5749, 5208, 5075, 5315, 5554, 5592, 5414, 5916, 5266, 5827, 5408, 5562, 5509, 5955, 5495, 5945, 5087, 5466, 5905, 5431, 5613, 5128, 5560, 5804, 5808, 5818, 5857, 5896, 5904, 5559, 5051, 5173, 5411, 5218, 5874, 5685, 5489, 5374, 5604, 5478, 5012, 5603, 5675, 5253, 5854, 5900, 5664, 5589, 5565, 5050, 5390, 5446, 5375, 5752, 5011, 5225, 5580, 5847, 5370, 5596, 5385, 5915, 5656, 5740, 5556, 5199, 5940, 5645, 5157, 5309, 5778, 5517, 5555, 5931, 5866, 5814, 5810, 5330, 5700, 5879, 5954, 5037, 5356, 5349, 5336, 5144, 5046, 5329, 5792, 5139, 5860, 5242, 5222, 5557, 5716, 5821, 5813, 5708, 5551, 5706, 5496, 5967, 5257, 5294, 5250, 5654, 5313, 5209, 5846, 5881, 5152, 5394, 5360, 5279, 5181, 5470, 5615, 5158, 5397, 5353, 5961, 5302, 5205, 5798, 5118, 5076, 5282, 5021, 5848, 5747, 5463, 5165, 5140, 5632, 5964, 5391, 5662, 5958, 5594, 5400, 5550, 5303, 5358, 5902, 5384, 5692, 5582, 5068, 5546, 5105, 5073, 5167, 5314, 5490, 5796, 5949, 5677, 5004, 5579, 5371, 5136, 5161, 5734, 5659, 5497, 5308, 5106, 5800, 5398, 5709, 5577, 5770, 5082, 5249, 5930, 5154, 5340, 5332, 5179, 5093, 5891, 5918, 5379, 5830, 5207, 5572, 5937, 5150, 5083, 5404, 5925, 5396, 5959, 5725, 5392, 5026, 5514, 5301, 5058, 5805, 5289, 5569, 5022, 5052, 5494, 5649, 5348, 5240, 5524, 5350, 5717, 5852, 5166, 5698, 5244, 5284, 5829, 5251, 5085, 5132, 5201, 5845, 5732, 5815, 5246, 5237, 5617, 5500, 5133, 5849, 5378, 5056, 5048, 5552, 5440, 5921, 5667, 5718, 5919, 5176, 5750, 5526, 5602, 5255, 5010, 5197, 5366, 5903, 5436, 5898, 5468, 5475, 5773, 5036, 5393, 5626, 5712, 5828, 5428, 5715, 5382, 5368, 5098, 5100, 5388, 5092, 5643, 5666, 5191, 5028, 5091, 5681, 5422, 5548, 5322, 5465, 5962, 5272, 5612, 5080, 5614, 5731, 5923, 5485, 5412, 5125, 5640, 5504, 5525, 5304, 5606, 5084, 5029, 5259, 5401, 5618, 5413, 5638, 5112, 5079, 5256, 5644, 5820, 5267, 5188, 5811, 5331, 5492, 5236, 5002, 5906, 5425, 5175, 5876, 5776, 5143, 5530, 5243, 5755, 5873, 5472, 5337, 5339, 5803, 5124, 5481, 5636, 5480, 5338, 5101] not in index'",
     "output_type": "error",
     "traceback": [
      "\u001b[0;31m---------------------------------------------------------------------------\u001b[0m",
      "\u001b[0;31mKeyError\u001b[0m                                  Traceback (most recent call last)",
      "\u001b[0;32m/var/folders/pd/jsjcl0fn7w57s5mfr34b20pm0000gn/T/ipykernel_94197/1483304139.py\u001b[0m in \u001b[0;36m<module>\u001b[0;34m\u001b[0m\n\u001b[0;32m----> 1\u001b[0;31m \u001b[0mdf\u001b[0m\u001b[0;34m.\u001b[0m\u001b[0mloc\u001b[0m\u001b[0;34m[\u001b[0m\u001b[0midk\u001b[0m\u001b[0;34m,\u001b[0m \u001b[0;34m:\u001b[0m\u001b[0;34m]\u001b[0m\u001b[0;34m\u001b[0m\u001b[0;34m\u001b[0m\u001b[0m\n\u001b[0m",
      "\u001b[0;32m~/miniconda3/envs/base-data-science/lib/python3.9/site-packages/pandas/core/indexing.py\u001b[0m in \u001b[0;36m__getitem__\u001b[0;34m(self, key)\u001b[0m\n\u001b[1;32m    959\u001b[0m             \u001b[0;32mif\u001b[0m \u001b[0mself\u001b[0m\u001b[0;34m.\u001b[0m\u001b[0m_is_scalar_access\u001b[0m\u001b[0;34m(\u001b[0m\u001b[0mkey\u001b[0m\u001b[0;34m)\u001b[0m\u001b[0;34m:\u001b[0m\u001b[0;34m\u001b[0m\u001b[0;34m\u001b[0m\u001b[0m\n\u001b[1;32m    960\u001b[0m                 \u001b[0;32mreturn\u001b[0m \u001b[0mself\u001b[0m\u001b[0;34m.\u001b[0m\u001b[0mobj\u001b[0m\u001b[0;34m.\u001b[0m\u001b[0m_get_value\u001b[0m\u001b[0;34m(\u001b[0m\u001b[0;34m*\u001b[0m\u001b[0mkey\u001b[0m\u001b[0;34m,\u001b[0m \u001b[0mtakeable\u001b[0m\u001b[0;34m=\u001b[0m\u001b[0mself\u001b[0m\u001b[0;34m.\u001b[0m\u001b[0m_takeable\u001b[0m\u001b[0;34m)\u001b[0m\u001b[0;34m\u001b[0m\u001b[0;34m\u001b[0m\u001b[0m\n\u001b[0;32m--> 961\u001b[0;31m             \u001b[0;32mreturn\u001b[0m \u001b[0mself\u001b[0m\u001b[0;34m.\u001b[0m\u001b[0m_getitem_tuple\u001b[0m\u001b[0;34m(\u001b[0m\u001b[0mkey\u001b[0m\u001b[0;34m)\u001b[0m\u001b[0;34m\u001b[0m\u001b[0;34m\u001b[0m\u001b[0m\n\u001b[0m\u001b[1;32m    962\u001b[0m         \u001b[0;32melse\u001b[0m\u001b[0;34m:\u001b[0m\u001b[0;34m\u001b[0m\u001b[0;34m\u001b[0m\u001b[0m\n\u001b[1;32m    963\u001b[0m             \u001b[0;31m# we by definition only have the 0th axis\u001b[0m\u001b[0;34m\u001b[0m\u001b[0;34m\u001b[0m\u001b[0m\n",
      "\u001b[0;32m~/miniconda3/envs/base-data-science/lib/python3.9/site-packages/pandas/core/indexing.py\u001b[0m in \u001b[0;36m_getitem_tuple\u001b[0;34m(self, tup)\u001b[0m\n\u001b[1;32m   1147\u001b[0m             \u001b[0;32mreturn\u001b[0m \u001b[0mself\u001b[0m\u001b[0;34m.\u001b[0m\u001b[0m_multi_take\u001b[0m\u001b[0;34m(\u001b[0m\u001b[0mtup\u001b[0m\u001b[0;34m)\u001b[0m\u001b[0;34m\u001b[0m\u001b[0;34m\u001b[0m\u001b[0m\n\u001b[1;32m   1148\u001b[0m \u001b[0;34m\u001b[0m\u001b[0m\n\u001b[0;32m-> 1149\u001b[0;31m         \u001b[0;32mreturn\u001b[0m \u001b[0mself\u001b[0m\u001b[0;34m.\u001b[0m\u001b[0m_getitem_tuple_same_dim\u001b[0m\u001b[0;34m(\u001b[0m\u001b[0mtup\u001b[0m\u001b[0;34m)\u001b[0m\u001b[0;34m\u001b[0m\u001b[0;34m\u001b[0m\u001b[0m\n\u001b[0m\u001b[1;32m   1150\u001b[0m \u001b[0;34m\u001b[0m\u001b[0m\n\u001b[1;32m   1151\u001b[0m     \u001b[0;32mdef\u001b[0m \u001b[0m_get_label\u001b[0m\u001b[0;34m(\u001b[0m\u001b[0mself\u001b[0m\u001b[0;34m,\u001b[0m \u001b[0mlabel\u001b[0m\u001b[0;34m,\u001b[0m \u001b[0maxis\u001b[0m\u001b[0;34m:\u001b[0m \u001b[0mint\u001b[0m\u001b[0;34m)\u001b[0m\u001b[0;34m:\u001b[0m\u001b[0;34m\u001b[0m\u001b[0;34m\u001b[0m\u001b[0m\n",
      "\u001b[0;32m~/miniconda3/envs/base-data-science/lib/python3.9/site-packages/pandas/core/indexing.py\u001b[0m in \u001b[0;36m_getitem_tuple_same_dim\u001b[0;34m(self, tup)\u001b[0m\n\u001b[1;32m    825\u001b[0m                 \u001b[0;32mcontinue\u001b[0m\u001b[0;34m\u001b[0m\u001b[0;34m\u001b[0m\u001b[0m\n\u001b[1;32m    826\u001b[0m \u001b[0;34m\u001b[0m\u001b[0m\n\u001b[0;32m--> 827\u001b[0;31m             \u001b[0mretval\u001b[0m \u001b[0;34m=\u001b[0m \u001b[0mgetattr\u001b[0m\u001b[0;34m(\u001b[0m\u001b[0mretval\u001b[0m\u001b[0;34m,\u001b[0m \u001b[0mself\u001b[0m\u001b[0;34m.\u001b[0m\u001b[0mname\u001b[0m\u001b[0;34m)\u001b[0m\u001b[0;34m.\u001b[0m\u001b[0m_getitem_axis\u001b[0m\u001b[0;34m(\u001b[0m\u001b[0mkey\u001b[0m\u001b[0;34m,\u001b[0m \u001b[0maxis\u001b[0m\u001b[0;34m=\u001b[0m\u001b[0mi\u001b[0m\u001b[0;34m)\u001b[0m\u001b[0;34m\u001b[0m\u001b[0;34m\u001b[0m\u001b[0m\n\u001b[0m\u001b[1;32m    828\u001b[0m             \u001b[0;31m# We should never have retval.ndim < self.ndim, as that should\u001b[0m\u001b[0;34m\u001b[0m\u001b[0;34m\u001b[0m\u001b[0m\n\u001b[1;32m    829\u001b[0m             \u001b[0;31m#  be handled by the _getitem_lowerdim call above.\u001b[0m\u001b[0;34m\u001b[0m\u001b[0;34m\u001b[0m\u001b[0m\n",
      "\u001b[0;32m~/miniconda3/envs/base-data-science/lib/python3.9/site-packages/pandas/core/indexing.py\u001b[0m in \u001b[0;36m_getitem_axis\u001b[0;34m(self, key, axis)\u001b[0m\n\u001b[1;32m   1189\u001b[0m                     \u001b[0;32mraise\u001b[0m \u001b[0mValueError\u001b[0m\u001b[0;34m(\u001b[0m\u001b[0;34m\"Cannot index with multidimensional key\"\u001b[0m\u001b[0;34m)\u001b[0m\u001b[0;34m\u001b[0m\u001b[0;34m\u001b[0m\u001b[0m\n\u001b[1;32m   1190\u001b[0m \u001b[0;34m\u001b[0m\u001b[0m\n\u001b[0;32m-> 1191\u001b[0;31m                 \u001b[0;32mreturn\u001b[0m \u001b[0mself\u001b[0m\u001b[0;34m.\u001b[0m\u001b[0m_getitem_iterable\u001b[0m\u001b[0;34m(\u001b[0m\u001b[0mkey\u001b[0m\u001b[0;34m,\u001b[0m \u001b[0maxis\u001b[0m\u001b[0;34m=\u001b[0m\u001b[0maxis\u001b[0m\u001b[0;34m)\u001b[0m\u001b[0;34m\u001b[0m\u001b[0;34m\u001b[0m\u001b[0m\n\u001b[0m\u001b[1;32m   1192\u001b[0m \u001b[0;34m\u001b[0m\u001b[0m\n\u001b[1;32m   1193\u001b[0m             \u001b[0;31m# nested tuple slicing\u001b[0m\u001b[0;34m\u001b[0m\u001b[0;34m\u001b[0m\u001b[0m\n",
      "\u001b[0;32m~/miniconda3/envs/base-data-science/lib/python3.9/site-packages/pandas/core/indexing.py\u001b[0m in \u001b[0;36m_getitem_iterable\u001b[0;34m(self, key, axis)\u001b[0m\n\u001b[1;32m   1130\u001b[0m \u001b[0;34m\u001b[0m\u001b[0m\n\u001b[1;32m   1131\u001b[0m         \u001b[0;31m# A collection of keys\u001b[0m\u001b[0;34m\u001b[0m\u001b[0;34m\u001b[0m\u001b[0m\n\u001b[0;32m-> 1132\u001b[0;31m         \u001b[0mkeyarr\u001b[0m\u001b[0;34m,\u001b[0m \u001b[0mindexer\u001b[0m \u001b[0;34m=\u001b[0m \u001b[0mself\u001b[0m\u001b[0;34m.\u001b[0m\u001b[0m_get_listlike_indexer\u001b[0m\u001b[0;34m(\u001b[0m\u001b[0mkey\u001b[0m\u001b[0;34m,\u001b[0m \u001b[0maxis\u001b[0m\u001b[0;34m)\u001b[0m\u001b[0;34m\u001b[0m\u001b[0;34m\u001b[0m\u001b[0m\n\u001b[0m\u001b[1;32m   1133\u001b[0m         return self.obj._reindex_with_indexers(\n\u001b[1;32m   1134\u001b[0m             \u001b[0;34m{\u001b[0m\u001b[0maxis\u001b[0m\u001b[0;34m:\u001b[0m \u001b[0;34m[\u001b[0m\u001b[0mkeyarr\u001b[0m\u001b[0;34m,\u001b[0m \u001b[0mindexer\u001b[0m\u001b[0;34m]\u001b[0m\u001b[0;34m}\u001b[0m\u001b[0;34m,\u001b[0m \u001b[0mcopy\u001b[0m\u001b[0;34m=\u001b[0m\u001b[0;32mTrue\u001b[0m\u001b[0;34m,\u001b[0m \u001b[0mallow_dups\u001b[0m\u001b[0;34m=\u001b[0m\u001b[0;32mTrue\u001b[0m\u001b[0;34m\u001b[0m\u001b[0;34m\u001b[0m\u001b[0m\n",
      "\u001b[0;32m~/miniconda3/envs/base-data-science/lib/python3.9/site-packages/pandas/core/indexing.py\u001b[0m in \u001b[0;36m_get_listlike_indexer\u001b[0;34m(self, key, axis)\u001b[0m\n\u001b[1;32m   1325\u001b[0m         \u001b[0maxis_name\u001b[0m \u001b[0;34m=\u001b[0m \u001b[0mself\u001b[0m\u001b[0;34m.\u001b[0m\u001b[0mobj\u001b[0m\u001b[0;34m.\u001b[0m\u001b[0m_get_axis_name\u001b[0m\u001b[0;34m(\u001b[0m\u001b[0maxis\u001b[0m\u001b[0;34m)\u001b[0m\u001b[0;34m\u001b[0m\u001b[0;34m\u001b[0m\u001b[0m\n\u001b[1;32m   1326\u001b[0m \u001b[0;34m\u001b[0m\u001b[0m\n\u001b[0;32m-> 1327\u001b[0;31m         \u001b[0mkeyarr\u001b[0m\u001b[0;34m,\u001b[0m \u001b[0mindexer\u001b[0m \u001b[0;34m=\u001b[0m \u001b[0max\u001b[0m\u001b[0;34m.\u001b[0m\u001b[0m_get_indexer_strict\u001b[0m\u001b[0;34m(\u001b[0m\u001b[0mkey\u001b[0m\u001b[0;34m,\u001b[0m \u001b[0maxis_name\u001b[0m\u001b[0;34m)\u001b[0m\u001b[0;34m\u001b[0m\u001b[0;34m\u001b[0m\u001b[0m\n\u001b[0m\u001b[1;32m   1328\u001b[0m \u001b[0;34m\u001b[0m\u001b[0m\n\u001b[1;32m   1329\u001b[0m         \u001b[0;32mreturn\u001b[0m \u001b[0mkeyarr\u001b[0m\u001b[0;34m,\u001b[0m \u001b[0mindexer\u001b[0m\u001b[0;34m\u001b[0m\u001b[0;34m\u001b[0m\u001b[0m\n",
      "\u001b[0;32m~/miniconda3/envs/base-data-science/lib/python3.9/site-packages/pandas/core/indexes/base.py\u001b[0m in \u001b[0;36m_get_indexer_strict\u001b[0;34m(self, key, axis_name)\u001b[0m\n\u001b[1;32m   5780\u001b[0m             \u001b[0mkeyarr\u001b[0m\u001b[0;34m,\u001b[0m \u001b[0mindexer\u001b[0m\u001b[0;34m,\u001b[0m \u001b[0mnew_indexer\u001b[0m \u001b[0;34m=\u001b[0m \u001b[0mself\u001b[0m\u001b[0;34m.\u001b[0m\u001b[0m_reindex_non_unique\u001b[0m\u001b[0;34m(\u001b[0m\u001b[0mkeyarr\u001b[0m\u001b[0;34m)\u001b[0m\u001b[0;34m\u001b[0m\u001b[0;34m\u001b[0m\u001b[0m\n\u001b[1;32m   5781\u001b[0m \u001b[0;34m\u001b[0m\u001b[0m\n\u001b[0;32m-> 5782\u001b[0;31m         \u001b[0mself\u001b[0m\u001b[0;34m.\u001b[0m\u001b[0m_raise_if_missing\u001b[0m\u001b[0;34m(\u001b[0m\u001b[0mkeyarr\u001b[0m\u001b[0;34m,\u001b[0m \u001b[0mindexer\u001b[0m\u001b[0;34m,\u001b[0m \u001b[0maxis_name\u001b[0m\u001b[0;34m)\u001b[0m\u001b[0;34m\u001b[0m\u001b[0;34m\u001b[0m\u001b[0m\n\u001b[0m\u001b[1;32m   5783\u001b[0m \u001b[0;34m\u001b[0m\u001b[0m\n\u001b[1;32m   5784\u001b[0m         \u001b[0mkeyarr\u001b[0m \u001b[0;34m=\u001b[0m \u001b[0mself\u001b[0m\u001b[0;34m.\u001b[0m\u001b[0mtake\u001b[0m\u001b[0;34m(\u001b[0m\u001b[0mindexer\u001b[0m\u001b[0;34m)\u001b[0m\u001b[0;34m\u001b[0m\u001b[0;34m\u001b[0m\u001b[0m\n",
      "\u001b[0;32m~/miniconda3/envs/base-data-science/lib/python3.9/site-packages/pandas/core/indexes/base.py\u001b[0m in \u001b[0;36m_raise_if_missing\u001b[0;34m(self, key, indexer, axis_name)\u001b[0m\n\u001b[1;32m   5843\u001b[0m \u001b[0;34m\u001b[0m\u001b[0m\n\u001b[1;32m   5844\u001b[0m             \u001b[0mnot_found\u001b[0m \u001b[0;34m=\u001b[0m \u001b[0mlist\u001b[0m\u001b[0;34m(\u001b[0m\u001b[0mensure_index\u001b[0m\u001b[0;34m(\u001b[0m\u001b[0mkey\u001b[0m\u001b[0;34m)\u001b[0m\u001b[0;34m[\u001b[0m\u001b[0mmissing_mask\u001b[0m\u001b[0;34m.\u001b[0m\u001b[0mnonzero\u001b[0m\u001b[0;34m(\u001b[0m\u001b[0;34m)\u001b[0m\u001b[0;34m[\u001b[0m\u001b[0;36m0\u001b[0m\u001b[0;34m]\u001b[0m\u001b[0;34m]\u001b[0m\u001b[0;34m.\u001b[0m\u001b[0munique\u001b[0m\u001b[0;34m(\u001b[0m\u001b[0;34m)\u001b[0m\u001b[0;34m)\u001b[0m\u001b[0;34m\u001b[0m\u001b[0;34m\u001b[0m\u001b[0m\n\u001b[0;32m-> 5845\u001b[0;31m             \u001b[0;32mraise\u001b[0m \u001b[0mKeyError\u001b[0m\u001b[0;34m(\u001b[0m\u001b[0;34mf\"{not_found} not in index\"\u001b[0m\u001b[0;34m)\u001b[0m\u001b[0;34m\u001b[0m\u001b[0;34m\u001b[0m\u001b[0m\n\u001b[0m\u001b[1;32m   5846\u001b[0m \u001b[0;34m\u001b[0m\u001b[0m\n\u001b[1;32m   5847\u001b[0m     \u001b[0;34m@\u001b[0m\u001b[0moverload\u001b[0m\u001b[0;34m\u001b[0m\u001b[0;34m\u001b[0m\u001b[0m\n",
      "\u001b[0;31mKeyError\u001b[0m: '[5419, 5261, 5888, 5228, 5865, 5907, 5443, 5690, 5065, 5521, 5711, 5278, 5066, 5183, 5886, 5341, 5190, 5291, 5352, 5442, 5851, 5127, 5571, 5671, 5402, 5908, 5217, 5689, 5450, 5826, 5078, 5901, 5968, 5679, 5801, 5399, 5877, 5936, 5077, 5041, 5320, 5727, 5417, 5062, 5853, 5663, 5566, 5611, 5006, 5416, 5439, 5311, 5444, 5013, 5875, 5568, 5536, 5724, 5104, 5703, 5043, 5507, 5187, 5328, 5838, 5499, 5501, 5687, 5426, 5956, 5008, 5007, 5286, 5932, 5095, 5684, 5622, 5661, 5230, 5103, 5146, 5856, 5791, 5699, 5233, 5691, 5281, 5542, 5781, 5138, 5162, 5576, 5203, 5831, 5764, 5837, 5418, 5751, 5782, 5969, 5120, 5510, 5345, 5780, 5909, 5317, 5587, 5806, 5064, 5946, 5111, 5462, 5292, 5963, 5213, 5547, 5174, 5383, 5609, 5563, 5754, 5493, 5768, 5743, 5196, 5000, 5842, 5539, 5160, 5342, 5159, 5720, 5506, 5735, 5939, 5668, 5833, 5238, 5861, 5454, 5169, 5893, 5516, 5825, 5260, 5744, 5089, 5974, 5855, 5753, 5897, 5583, 5215, 5591, 5766, 5274, 5721, 5965, 5172, 5221, 5657, 5386, 5059, 5824, 5258, 5241, 5944, 5459, 5529, 5652, 5491, 5630, 5455, 5787, 5457, 5447, 5867, 5520, 5347, 5482, 5880, 5441, 5528, 5540, 5039, 5055, 5373, 5890, 5488, 5245, 5934, 5749, 5208, 5075, 5315, 5554, 5592, 5414, 5916, 5266, 5827, 5408, 5562, 5509, 5955, 5495, 5945, 5087, 5466, 5905, 5431, 5613, 5128, 5560, 5804, 5808, 5818, 5857, 5896, 5904, 5559, 5051, 5173, 5411, 5218, 5874, 5685, 5489, 5374, 5604, 5478, 5012, 5603, 5675, 5253, 5854, 5900, 5664, 5589, 5565, 5050, 5390, 5446, 5375, 5752, 5011, 5225, 5580, 5847, 5370, 5596, 5385, 5915, 5656, 5740, 5556, 5199, 5940, 5645, 5157, 5309, 5778, 5517, 5555, 5931, 5866, 5814, 5810, 5330, 5700, 5879, 5954, 5037, 5356, 5349, 5336, 5144, 5046, 5329, 5792, 5139, 5860, 5242, 5222, 5557, 5716, 5821, 5813, 5708, 5551, 5706, 5496, 5967, 5257, 5294, 5250, 5654, 5313, 5209, 5846, 5881, 5152, 5394, 5360, 5279, 5181, 5470, 5615, 5158, 5397, 5353, 5961, 5302, 5205, 5798, 5118, 5076, 5282, 5021, 5848, 5747, 5463, 5165, 5140, 5632, 5964, 5391, 5662, 5958, 5594, 5400, 5550, 5303, 5358, 5902, 5384, 5692, 5582, 5068, 5546, 5105, 5073, 5167, 5314, 5490, 5796, 5949, 5677, 5004, 5579, 5371, 5136, 5161, 5734, 5659, 5497, 5308, 5106, 5800, 5398, 5709, 5577, 5770, 5082, 5249, 5930, 5154, 5340, 5332, 5179, 5093, 5891, 5918, 5379, 5830, 5207, 5572, 5937, 5150, 5083, 5404, 5925, 5396, 5959, 5725, 5392, 5026, 5514, 5301, 5058, 5805, 5289, 5569, 5022, 5052, 5494, 5649, 5348, 5240, 5524, 5350, 5717, 5852, 5166, 5698, 5244, 5284, 5829, 5251, 5085, 5132, 5201, 5845, 5732, 5815, 5246, 5237, 5617, 5500, 5133, 5849, 5378, 5056, 5048, 5552, 5440, 5921, 5667, 5718, 5919, 5176, 5750, 5526, 5602, 5255, 5010, 5197, 5366, 5903, 5436, 5898, 5468, 5475, 5773, 5036, 5393, 5626, 5712, 5828, 5428, 5715, 5382, 5368, 5098, 5100, 5388, 5092, 5643, 5666, 5191, 5028, 5091, 5681, 5422, 5548, 5322, 5465, 5962, 5272, 5612, 5080, 5614, 5731, 5923, 5485, 5412, 5125, 5640, 5504, 5525, 5304, 5606, 5084, 5029, 5259, 5401, 5618, 5413, 5638, 5112, 5079, 5256, 5644, 5820, 5267, 5188, 5811, 5331, 5492, 5236, 5002, 5906, 5425, 5175, 5876, 5776, 5143, 5530, 5243, 5755, 5873, 5472, 5337, 5339, 5803, 5124, 5481, 5636, 5480, 5338, 5101] not in index'"
     ]
    }
   ],
   "source": [
    "df.loc[idk, :]"
   ]
  },
  {
   "cell_type": "code",
   "execution_count": null,
   "id": "b0ae404c",
   "metadata": {},
   "outputs": [],
   "source": [
    "from sklearn.model_selection import train_test_split \n",
    "\n",
    "trainsplit, valsplit = train_test_split(labels, stratify=labels)\n",
    "\n",
    "trainsplit, valsplit"
   ]
  },
  {
   "cell_type": "code",
   "execution_count": null,
   "id": "c3e2b94d",
   "metadata": {},
   "outputs": [],
   "source": [
    "df.loc[trainsplit, :]"
   ]
  },
  {
   "cell_type": "code",
   "execution_count": null,
   "id": "9a10cc9b",
   "metadata": {},
   "outputs": [],
   "source": [
    "df.to_csv('test.csv')\n",
    "\n",
    "pd.read_csv('test.csv')"
   ]
  },
  {
   "cell_type": "code",
   "execution_count": null,
   "id": "e8e656b7",
   "metadata": {},
   "outputs": [],
   "source": [
    "df.to_csv('')"
   ]
  },
  {
   "cell_type": "code",
   "execution_count": null,
   "id": "db1e3a34",
   "metadata": {},
   "outputs": [],
   "source": []
  },
  {
   "cell_type": "code",
   "execution_count": null,
   "id": "6e8c48d9",
   "metadata": {},
   "outputs": [],
   "source": []
  }
 ],
 "metadata": {
  "kernelspec": {
   "display_name": "Python [conda env:base-data-science] *",
   "language": "python",
   "name": "conda-env-base-data-science-py"
  },
  "language_info": {
   "codemirror_mode": {
    "name": "ipython",
    "version": 3
   },
   "file_extension": ".py",
   "mimetype": "text/x-python",
   "name": "python",
   "nbconvert_exporter": "python",
   "pygments_lexer": "ipython3",
   "version": "3.9.7"
  }
 },
 "nbformat": 4,
 "nbformat_minor": 5
}
