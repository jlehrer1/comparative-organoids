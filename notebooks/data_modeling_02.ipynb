{
 "cells": [
  {
   "cell_type": "markdown",
   "id": "ac740763",
   "metadata": {},
   "source": [
    "# Data Modeling 02\n",
    "\n",
    "In this notebook, we'll use Dask to tune a classifier with HyperbandSearch, so that we can train many models in parallel on the PRP. "
   ]
  },
  {
   "cell_type": "code",
   "execution_count": 1,
   "id": "bb21ef4e",
   "metadata": {},
   "outputs": [],
   "source": [
    "import dask\n",
    "import numpy as np\n",
    "import matplotlib.pyplot as plt \n",
    "\n",
    "import dask.dataframe as dd\n",
    "from dask_ml.model_selection import train_test_split, HyperbandSearchCV, RandomizedSearchCV, GridSearchCV\n",
    "from dask_ml.linear_model import LogisticRegression"
   ]
  },
  {
   "cell_type": "markdown",
   "id": "6bf7411b",
   "metadata": {},
   "source": [
    "Now, let's read in our cleaned (and for this local example, reduced) data and train a model on it "
   ]
  },
  {
   "cell_type": "code",
   "execution_count": 42,
   "id": "d8f4ddd9",
   "metadata": {},
   "outputs": [],
   "source": [
    "X = dd.read_csv('../data/processed/primary_reduction_neighbors_15_components_3.csv')\n",
    "y = dd.read_csv('../data/processed/primary_labels_neighbors_15_components_50.csv', header=None)"
   ]
  },
  {
   "cell_type": "code",
   "execution_count": 43,
   "id": "4fbfcedf",
   "metadata": {},
   "outputs": [],
   "source": [
    "# y = y + 1"
   ]
  },
  {
   "cell_type": "code",
   "execution_count": 93,
   "id": "fbdc9fc2",
   "metadata": {},
   "outputs": [],
   "source": [
    "est = LogisticRegression(class_weight='balanced')\n",
    "\n",
    "grid = RandomizedSearchCV(\n",
    "    n_iter=15,\n",
    "    estimator=est,\n",
    "    param_distributions={\n",
    "        'penalty' : ['l1', 'l2'],\n",
    "        'C' : np.linspace(0.1, 100, 50)\n",
    "    },\n",
    "    scoring='balanced_accuracy',\n",
    ")"
   ]
  },
  {
   "cell_type": "code",
   "execution_count": 94,
   "id": "fa294aa1",
   "metadata": {},
   "outputs": [],
   "source": [
    "X_train, X_test, y_train, y_test = train_test_split(X, y, shuffle=True)"
   ]
  },
  {
   "cell_type": "code",
   "execution_count": 91,
   "id": "b47cd9b9",
   "metadata": {},
   "outputs": [
    {
     "data": {
      "text/html": [
       "<div>\n",
       "<style scoped>\n",
       "    .dataframe tbody tr th:only-of-type {\n",
       "        vertical-align: middle;\n",
       "    }\n",
       "\n",
       "    .dataframe tbody tr th {\n",
       "        vertical-align: top;\n",
       "    }\n",
       "\n",
       "    .dataframe thead th {\n",
       "        text-align: right;\n",
       "    }\n",
       "</style>\n",
       "<table border=\"1\" class=\"dataframe\">\n",
       "  <thead>\n",
       "    <tr style=\"text-align: right;\">\n",
       "      <th></th>\n",
       "      <th>0</th>\n",
       "      <th>1</th>\n",
       "      <th>2</th>\n",
       "    </tr>\n",
       "  </thead>\n",
       "  <tbody>\n",
       "    <tr>\n",
       "      <th>10078</th>\n",
       "      <td>0.174511</td>\n",
       "      <td>2.703613</td>\n",
       "      <td>4.892500</td>\n",
       "    </tr>\n",
       "    <tr>\n",
       "      <th>161248</th>\n",
       "      <td>-1.322768</td>\n",
       "      <td>9.670191</td>\n",
       "      <td>6.098368</td>\n",
       "    </tr>\n",
       "    <tr>\n",
       "      <th>105800</th>\n",
       "      <td>0.420085</td>\n",
       "      <td>4.968710</td>\n",
       "      <td>7.503746</td>\n",
       "    </tr>\n",
       "    <tr>\n",
       "      <th>188474</th>\n",
       "      <td>1.650733</td>\n",
       "      <td>3.510981</td>\n",
       "      <td>8.245358</td>\n",
       "    </tr>\n",
       "    <tr>\n",
       "      <th>95689</th>\n",
       "      <td>2.627469</td>\n",
       "      <td>2.725965</td>\n",
       "      <td>6.955181</td>\n",
       "    </tr>\n",
       "  </tbody>\n",
       "</table>\n",
       "</div>"
      ],
      "text/plain": [
       "               0         1         2\n",
       "10078   0.174511  2.703613  4.892500\n",
       "161248 -1.322768  9.670191  6.098368\n",
       "105800  0.420085  4.968710  7.503746\n",
       "188474  1.650733  3.510981  8.245358\n",
       "95689   2.627469  2.725965  6.955181"
      ]
     },
     "execution_count": 91,
     "metadata": {},
     "output_type": "execute_result"
    }
   ],
   "source": [
    "X_train.head()"
   ]
  },
  {
   "cell_type": "code",
   "execution_count": 92,
   "id": "5f3dfde7",
   "metadata": {},
   "outputs": [
    {
     "data": {
      "text/html": [
       "<div>\n",
       "<style scoped>\n",
       "    .dataframe tbody tr th:only-of-type {\n",
       "        vertical-align: middle;\n",
       "    }\n",
       "\n",
       "    .dataframe tbody tr th {\n",
       "        vertical-align: top;\n",
       "    }\n",
       "\n",
       "    .dataframe thead th {\n",
       "        text-align: right;\n",
       "    }\n",
       "</style>\n",
       "<table border=\"1\" class=\"dataframe\">\n",
       "  <thead>\n",
       "    <tr style=\"text-align: right;\">\n",
       "      <th></th>\n",
       "      <th>0</th>\n",
       "    </tr>\n",
       "  </thead>\n",
       "  <tbody>\n",
       "    <tr>\n",
       "      <th>10078</th>\n",
       "      <td>6.0</td>\n",
       "    </tr>\n",
       "    <tr>\n",
       "      <th>161248</th>\n",
       "      <td>12.0</td>\n",
       "    </tr>\n",
       "    <tr>\n",
       "      <th>105800</th>\n",
       "      <td>11.0</td>\n",
       "    </tr>\n",
       "    <tr>\n",
       "      <th>188474</th>\n",
       "      <td>2.0</td>\n",
       "    </tr>\n",
       "    <tr>\n",
       "      <th>95689</th>\n",
       "      <td>11.0</td>\n",
       "    </tr>\n",
       "  </tbody>\n",
       "</table>\n",
       "</div>"
      ],
      "text/plain": [
       "           0\n",
       "10078    6.0\n",
       "161248  12.0\n",
       "105800  11.0\n",
       "188474   2.0\n",
       "95689   11.0"
      ]
     },
     "execution_count": 92,
     "metadata": {},
     "output_type": "execute_result"
    }
   ],
   "source": [
    "y_train.head()"
   ]
  },
  {
   "cell_type": "code",
   "execution_count": 46,
   "id": "7abae0e9",
   "metadata": {},
   "outputs": [],
   "source": [
    "# best_est = grid.fit(X_train.values, y_train.values)"
   ]
  },
  {
   "cell_type": "code",
   "execution_count": 47,
   "id": "35fe3c7a",
   "metadata": {
    "scrolled": true
   },
   "outputs": [],
   "source": [
    "# best_est.cv_results_"
   ]
  },
  {
   "cell_type": "markdown",
   "id": "dc6d8ce0",
   "metadata": {},
   "source": [
    "Great, now let's see what the best estimator was!"
   ]
  },
  {
   "cell_type": "code",
   "execution_count": 48,
   "id": "826f77ef",
   "metadata": {},
   "outputs": [],
   "source": [
    "# best_est.best_score_"
   ]
  },
  {
   "cell_type": "markdown",
   "id": "69dc23e6",
   "metadata": {},
   "source": [
    "Now let's define a generalized class to do this hyperparameter tuning "
   ]
  },
  {
   "cell_type": "code",
   "execution_count": 95,
   "id": "ede92f10",
   "metadata": {},
   "outputs": [],
   "source": [
    "class GeneClassifier:\n",
    "    def __init__(self, est, params):\n",
    "        self.est = est\n",
    "        self.params = params\n",
    "        \n",
    "    def generate_model(self, X, y, n_iter=10):\n",
    "        grid = RandomizedSearchCV(\n",
    "            n_iter=n_iter,\n",
    "            estimator=self.est,\n",
    "            param_distributions=self.params,\n",
    "            scoring='balanced_accuracy'\n",
    "        )\n",
    "\n",
    "        self.grid = grid.fit(X, y)\n",
    "    \n",
    "    def best_score(self):\n",
    "        return self.grid.best_score_\n",
    "    \n",
    "    def best_model(self):\n",
    "        return self.grid.best_estimator_\n",
    "    \n",
    "    def best_params(self):\n",
    "        return self.grid.best_params_"
   ]
  },
  {
   "cell_type": "code",
   "execution_count": 96,
   "id": "e9a72ad1",
   "metadata": {},
   "outputs": [],
   "source": [
    "param_distributions = {\n",
    "        'penalty' : ['l1', 'l2'],\n",
    "        'C' : np.linspace(0.1, 100, 50)\n",
    "    },\n",
    "\n",
    "logistic_est = GeneClassifier(LogisticRegression(class_weight='balanced'), param_distributions)"
   ]
  },
  {
   "cell_type": "code",
   "execution_count": 97,
   "id": "85ad86ac",
   "metadata": {
    "scrolled": true
   },
   "outputs": [],
   "source": [
    "logistic_est.generate_model(X_train.values, y_train.values, n_iter=2)"
   ]
  },
  {
   "cell_type": "markdown",
   "id": "df47f8df",
   "metadata": {},
   "source": [
    "Finally, let's quickly test the balanced accuracy on the test set"
   ]
  },
  {
   "cell_type": "code",
   "execution_count": 84,
   "id": "aa9c05bb",
   "metadata": {},
   "outputs": [],
   "source": [
    "from sklearn.metrics import balanced_accuracy_score\n",
    "\n",
    "est = logistic_est.best_model()"
   ]
  },
  {
   "cell_type": "code",
   "execution_count": 86,
   "id": "f0bddec2",
   "metadata": {},
   "outputs": [
    {
     "data": {
      "text/plain": [
       "dask_ml.linear_model.glm.LogisticRegression"
      ]
     },
     "execution_count": 86,
     "metadata": {},
     "output_type": "execute_result"
    }
   ],
   "source": [
    "type(est)"
   ]
  },
  {
   "cell_type": "markdown",
   "id": "1b14c863",
   "metadata": {},
   "source": [
    "## LogisticRegression doesn't support multi-class\n",
    "\n",
    "So, ignore the above results"
   ]
  },
  {
   "cell_type": "markdown",
   "id": "3a3384bb",
   "metadata": {},
   "source": [
    "Now let's try this with a simple XGBClassifier (gradient boosted tree classifier)"
   ]
  },
  {
   "cell_type": "code",
   "execution_count": 98,
   "id": "c2f1fc51",
   "metadata": {},
   "outputs": [],
   "source": [
    "from xgboost import XGBClassifier\n",
    "\n",
    "params = {\n",
    "    'eta' : np.linspace(0, 1, 20),\n",
    "    'gamma': np.linspace(0, 1000, 20),\n",
    "    'max_depth': np.linspace(0, 1000, 20, dtype=int),\n",
    "}\n",
    "\n",
    "xgb_est = GeneClassifier(XGBClassifier(), params)"
   ]
  },
  {
   "cell_type": "markdown",
   "id": "07323df1",
   "metadata": {},
   "source": [
    "Using the XGBClassifier from `dask_ml` requires a distributed Client, so we'll just use the default classifier instead. "
   ]
  },
  {
   "cell_type": "code",
   "execution_count": null,
   "id": "74c3a2fe",
   "metadata": {
    "scrolled": true
   },
   "outputs": [
    {
     "name": "stderr",
     "output_type": "stream",
     "text": [
      "/Users/julian/miniconda3/envs/base-data-science/lib/python3.9/site-packages/xgboost/sklearn.py:1224: UserWarning: The use of label encoder in XGBClassifier is deprecated and will be removed in a future release. To remove this warning, do the following: 1) Pass option use_label_encoder=False when constructing XGBClassifier object; and 2) Encode your labels (y) as integers starting with 0, i.e. 0, 1, 2, ..., [num_class - 1].\n",
      "  warnings.warn(label_encoder_deprecation_msg, UserWarning)\n",
      "/Users/julian/miniconda3/envs/base-data-science/lib/python3.9/site-packages/sklearn/preprocessing/_label.py:98: DataConversionWarning: A column-vector y was passed when a 1d array was expected. Please change the shape of y to (n_samples, ), for example using ravel().\n",
      "  y = column_or_1d(y, warn=True)\n",
      "/Users/julian/miniconda3/envs/base-data-science/lib/python3.9/site-packages/sklearn/preprocessing/_label.py:133: DataConversionWarning: A column-vector y was passed when a 1d array was expected. Please change the shape of y to (n_samples, ), for example using ravel().\n",
      "  y = column_or_1d(y, warn=True)\n",
      "[15:33:47] WARNING: /Users/runner/miniforge3/conda-bld/xgboost-split_1637426408905/work/src/learner.cc:1115: Starting in XGBoost 1.3.0, the default evaluation metric used with the objective 'multi:softprob' was changed from 'merror' to 'mlogloss'. Explicitly set eval_metric if you'd like to restore the old behavior.\n",
      "[15:33:47] WARNING: /Users/runner/miniforge3/conda-bld/xgboost-split_1637426408905/work/src/learner.cc:1115: Starting in XGBoost 1.3.0, the default evaluation metric used with the objective 'multi:softprob' was changed from 'merror' to 'mlogloss'. Explicitly set eval_metric if you'd like to restore the old behavior.\n",
      "[15:33:47] WARNING: /Users/runner/miniforge3/conda-bld/xgboost-split_1637426408905/work/src/learner.cc:1115: Starting in XGBoost 1.3.0, the default evaluation metric used with the objective 'multi:softprob' was changed from 'merror' to 'mlogloss'. Explicitly set eval_metric if you'd like to restore the old behavior.\n",
      "[15:33:47] WARNING: /Users/runner/miniforge3/conda-bld/xgboost-split_1637426408905/work/src/learner.cc:1115: Starting in XGBoost 1.3.0, the default evaluation metric used with the objective 'multi:softprob' was changed from 'merror' to 'mlogloss'. Explicitly set eval_metric if you'd like to restore the old behavior.\n",
      "[15:33:47] WARNING: /Users/runner/miniforge3/conda-bld/xgboost-split_1637426408905/work/src/learner.cc:1115: Starting in XGBoost 1.3.0, the default evaluation metric used with the objective 'multi:softprob' was changed from 'merror' to 'mlogloss'. Explicitly set eval_metric if you'd like to restore the old behavior.\n",
      "[15:33:47] WARNING: /Users/runner/miniforge3/conda-bld/xgboost-split_1637426408905/work/src/learner.cc:1115: Starting in XGBoost 1.3.0, the default evaluation metric used with the objective 'multi:softprob' was changed from 'merror' to 'mlogloss'. Explicitly set eval_metric if you'd like to restore the old behavior.\n"
     ]
    }
   ],
   "source": [
    "xgb_est.generate_model(X_train.values, y_train.values, n_iter=2)"
   ]
  },
  {
   "cell_type": "code",
   "execution_count": null,
   "id": "f382de48",
   "metadata": {},
   "outputs": [],
   "source": [
    "xgb_est.best_params()"
   ]
  },
  {
   "cell_type": "code",
   "execution_count": null,
   "id": "d9c4794d",
   "metadata": {},
   "outputs": [],
   "source": []
  }
 ],
 "metadata": {
  "kernelspec": {
   "display_name": "Python [conda env:base-data-science] *",
   "language": "python",
   "name": "conda-env-base-data-science-py"
  },
  "language_info": {
   "codemirror_mode": {
    "name": "ipython",
    "version": 3
   },
   "file_extension": ".py",
   "mimetype": "text/x-python",
   "name": "python",
   "nbconvert_exporter": "python",
   "pygments_lexer": "ipython3",
   "version": "3.9.7"
  }
 },
 "nbformat": 4,
 "nbformat_minor": 5
}
