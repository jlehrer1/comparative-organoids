{
 "cells": [
  {
   "cell_type": "markdown",
   "id": "9765561c",
   "metadata": {},
   "source": [
    "# Data Modeling 02\n",
    "\n",
    "In this notebook, we'll use Dask to tune a classifier with HyperbandSearch, so that we can train many models in parallel on the PRP. "
   ]
  },
  {
   "cell_type": "code",
   "execution_count": 1,
   "id": "8ebb675a",
   "metadata": {},
   "outputs": [],
   "source": [
    "import dask\n",
    "import numpy as np\n",
    "import matplotlib.pyplot as plt \n",
    "\n",
    "import dask.dataframe as dd\n",
    "from dask_ml.model_selection import train_test_split, HyperbandSearchCV, RandomizedSearchCV, GridSearchCV\n",
    "from dask_ml.linear_model import LogisticRegression"
   ]
  },
  {
   "cell_type": "markdown",
   "id": "6d8ebcf4",
   "metadata": {},
   "source": [
    "Now, let's read in our cleaned (and for this local example, reduced) data and train a model on it "
   ]
  },
  {
   "cell_type": "code",
   "execution_count": 2,
   "id": "a9ed41d8",
   "metadata": {},
   "outputs": [],
   "source": [
    "X = dd.read_csv('../data/processed/primary_reduction_neighbors_15_components_3.csv')\n",
    "y = dd.read_csv('../data/processed/primary_labels_neighbors_15_components_50.csv', header=None)"
   ]
  },
  {
   "cell_type": "code",
   "execution_count": 3,
   "id": "5379d332",
   "metadata": {},
   "outputs": [],
   "source": [
    "# y = y + 1"
   ]
  },
  {
   "cell_type": "code",
   "execution_count": 4,
   "id": "7d265e69",
   "metadata": {},
   "outputs": [],
   "source": [
    "est = LogisticRegression(class_weight='balanced')\n",
    "\n",
    "grid = RandomizedSearchCV(\n",
    "    n_iter=15,\n",
    "    estimator=est,\n",
    "    param_distributions={\n",
    "        'penalty' : ['l1', 'l2'],\n",
    "        'C' : np.linspace(0.1, 100, 50)\n",
    "    },\n",
    "    scoring='balanced_accuracy',\n",
    ")"
   ]
  },
  {
   "cell_type": "code",
   "execution_count": 5,
   "id": "166bae38",
   "metadata": {},
   "outputs": [],
   "source": [
    "X_train, X_test, y_train, y_test = train_test_split(X, y, shuffle=True)"
   ]
  },
  {
   "cell_type": "code",
   "execution_count": 6,
   "id": "799c726c",
   "metadata": {},
   "outputs": [
    {
     "data": {
      "text/html": [
       "<div>\n",
       "<style scoped>\n",
       "    .dataframe tbody tr th:only-of-type {\n",
       "        vertical-align: middle;\n",
       "    }\n",
       "\n",
       "    .dataframe tbody tr th {\n",
       "        vertical-align: top;\n",
       "    }\n",
       "\n",
       "    .dataframe thead th {\n",
       "        text-align: right;\n",
       "    }\n",
       "</style>\n",
       "<table border=\"1\" class=\"dataframe\">\n",
       "  <thead>\n",
       "    <tr style=\"text-align: right;\">\n",
       "      <th></th>\n",
       "      <th>0</th>\n",
       "      <th>1</th>\n",
       "      <th>2</th>\n",
       "    </tr>\n",
       "  </thead>\n",
       "  <tbody>\n",
       "    <tr>\n",
       "      <th>67575</th>\n",
       "      <td>1.960368</td>\n",
       "      <td>1.299117</td>\n",
       "      <td>-0.212742</td>\n",
       "    </tr>\n",
       "    <tr>\n",
       "      <th>89917</th>\n",
       "      <td>4.305542</td>\n",
       "      <td>0.210048</td>\n",
       "      <td>7.261106</td>\n",
       "    </tr>\n",
       "    <tr>\n",
       "      <th>70364</th>\n",
       "      <td>3.158221</td>\n",
       "      <td>0.971542</td>\n",
       "      <td>0.213203</td>\n",
       "    </tr>\n",
       "    <tr>\n",
       "      <th>150005</th>\n",
       "      <td>1.889506</td>\n",
       "      <td>6.531239</td>\n",
       "      <td>4.297892</td>\n",
       "    </tr>\n",
       "    <tr>\n",
       "      <th>29714</th>\n",
       "      <td>3.637177</td>\n",
       "      <td>3.377710</td>\n",
       "      <td>3.172499</td>\n",
       "    </tr>\n",
       "  </tbody>\n",
       "</table>\n",
       "</div>"
      ],
      "text/plain": [
       "               0         1         2\n",
       "67575   1.960368  1.299117 -0.212742\n",
       "89917   4.305542  0.210048  7.261106\n",
       "70364   3.158221  0.971542  0.213203\n",
       "150005  1.889506  6.531239  4.297892\n",
       "29714   3.637177  3.377710  3.172499"
      ]
     },
     "execution_count": 6,
     "metadata": {},
     "output_type": "execute_result"
    }
   ],
   "source": [
    "X_train.head()"
   ]
  },
  {
   "cell_type": "code",
   "execution_count": 7,
   "id": "5a432019",
   "metadata": {},
   "outputs": [
    {
     "data": {
      "text/html": [
       "<div>\n",
       "<style scoped>\n",
       "    .dataframe tbody tr th:only-of-type {\n",
       "        vertical-align: middle;\n",
       "    }\n",
       "\n",
       "    .dataframe tbody tr th {\n",
       "        vertical-align: top;\n",
       "    }\n",
       "\n",
       "    .dataframe thead th {\n",
       "        text-align: right;\n",
       "    }\n",
       "</style>\n",
       "<table border=\"1\" class=\"dataframe\">\n",
       "  <thead>\n",
       "    <tr style=\"text-align: right;\">\n",
       "      <th></th>\n",
       "      <th>0</th>\n",
       "    </tr>\n",
       "  </thead>\n",
       "  <tbody>\n",
       "    <tr>\n",
       "      <th>67575</th>\n",
       "      <td>10.0</td>\n",
       "    </tr>\n",
       "    <tr>\n",
       "      <th>89917</th>\n",
       "      <td>7.0</td>\n",
       "    </tr>\n",
       "    <tr>\n",
       "      <th>70364</th>\n",
       "      <td>10.0</td>\n",
       "    </tr>\n",
       "    <tr>\n",
       "      <th>150005</th>\n",
       "      <td>-1.0</td>\n",
       "    </tr>\n",
       "    <tr>\n",
       "      <th>29714</th>\n",
       "      <td>9.0</td>\n",
       "    </tr>\n",
       "  </tbody>\n",
       "</table>\n",
       "</div>"
      ],
      "text/plain": [
       "           0\n",
       "67575   10.0\n",
       "89917    7.0\n",
       "70364   10.0\n",
       "150005  -1.0\n",
       "29714    9.0"
      ]
     },
     "execution_count": 7,
     "metadata": {},
     "output_type": "execute_result"
    }
   ],
   "source": [
    "y_train.head()"
   ]
  },
  {
   "cell_type": "code",
   "execution_count": 8,
   "id": "d81f4c1a",
   "metadata": {},
   "outputs": [],
   "source": [
    "# best_est = grid.fit(X_train.values, y_train.values)"
   ]
  },
  {
   "cell_type": "code",
   "execution_count": 9,
   "id": "9381b628",
   "metadata": {
    "scrolled": true
   },
   "outputs": [],
   "source": [
    "# best_est.cv_results_"
   ]
  },
  {
   "cell_type": "markdown",
   "id": "4eedba6a",
   "metadata": {},
   "source": [
    "Great, now let's see what the best estimator was!"
   ]
  },
  {
   "cell_type": "code",
   "execution_count": 10,
   "id": "462e1a02",
   "metadata": {},
   "outputs": [],
   "source": [
    "# best_est.best_score_"
   ]
  },
  {
   "cell_type": "markdown",
   "id": "cd664613",
   "metadata": {},
   "source": [
    "Now let's define a generalized class to do this hyperparameter tuning "
   ]
  },
  {
   "cell_type": "code",
   "execution_count": 11,
   "id": "106af143",
   "metadata": {},
   "outputs": [],
   "source": [
    "class GeneClassifier:\n",
    "    def __init__(self, est, params):\n",
    "        self.est = est\n",
    "        self.params = params\n",
    "        \n",
    "    def generate_model(self, X, y, n_iter=10):\n",
    "        grid = RandomizedSearchCV(\n",
    "            n_iter=n_iter,\n",
    "            estimator=self.est,\n",
    "            param_distributions=self.params,\n",
    "            scoring='balanced_accuracy',\n",
    "        )\n",
    "\n",
    "        self.grid = grid.fit(X, y)\n",
    "    \n",
    "    def best_score(self):\n",
    "        return self.grid.best_score_\n",
    "    \n",
    "    def best_model(self):\n",
    "        return self.grid.best_estimator_\n",
    "    \n",
    "    def best_params(self):\n",
    "        return self.grid.best_params_"
   ]
  },
  {
   "cell_type": "code",
   "execution_count": 12,
   "id": "025b77d4",
   "metadata": {},
   "outputs": [],
   "source": [
    "param_distributions = {\n",
    "        'penalty' : ['l1', 'l2'],\n",
    "        'C' : np.linspace(0.1, 100, 50)\n",
    "    },\n",
    "\n",
    "logistic_est = GeneClassifier(LogisticRegression(class_weight='balanced'), param_distributions)"
   ]
  },
  {
   "cell_type": "code",
   "execution_count": 13,
   "id": "f82c57f1",
   "metadata": {
    "scrolled": true
   },
   "outputs": [],
   "source": [
    "# logistic_est.generate_model(X_train.values, y_train.values, n_iter=2)"
   ]
  },
  {
   "cell_type": "markdown",
   "id": "cdd013f6",
   "metadata": {},
   "source": [
    "Finally, let's quickly test the balanced accuracy on the test set"
   ]
  },
  {
   "cell_type": "code",
   "execution_count": 14,
   "id": "e2495c60",
   "metadata": {},
   "outputs": [],
   "source": [
    "from sklearn.metrics import balanced_accuracy_score\n",
    "\n",
    "# est = logistic_est.best_model()"
   ]
  },
  {
   "cell_type": "markdown",
   "id": "e8b4151b",
   "metadata": {},
   "source": [
    "## LogisticRegression doesn't support multi-class\n",
    "\n",
    "So, ignore the above results"
   ]
  },
  {
   "cell_type": "markdown",
   "id": "07be3577",
   "metadata": {},
   "source": [
    "Now let's try this with a simple XGBClassifier (gradient boosted tree classifier)"
   ]
  },
  {
   "cell_type": "code",
   "execution_count": 17,
   "id": "777e4514",
   "metadata": {
    "scrolled": true
   },
   "outputs": [],
   "source": [
    "from xgboost import XGBClassifier\n",
    "\n",
    "params = {\n",
    "    'eta' : np.linspace(0, 1, 20),\n",
    "    'gamma': np.linspace(0, 1000, 20),\n",
    "    'max_depth': np.linspace(0, 1000, 20, dtype=int),\n",
    "}\n",
    "\n",
    "xgb_est = GeneClassifier(XGBClassifier(eval_metric='mlogloss'), params)"
   ]
  },
  {
   "cell_type": "markdown",
   "id": "0281d1a1",
   "metadata": {},
   "source": [
    "Using the XGBClassifier from `dask_ml` requires a distributed Client, so we'll just use the default classifier instead. "
   ]
  },
  {
   "cell_type": "code",
   "execution_count": null,
   "id": "352158a7",
   "metadata": {
    "scrolled": true
   },
   "outputs": [
    {
     "name": "stderr",
     "output_type": "stream",
     "text": [
      "/Users/julian/miniconda3/envs/base-data-science/lib/python3.9/site-packages/xgboost/sklearn.py:1224: UserWarning: The use of label encoder in XGBClassifier is deprecated and will be removed in a future release. To remove this warning, do the following: 1) Pass option use_label_encoder=False when constructing XGBClassifier object; and 2) Encode your labels (y) as integers starting with 0, i.e. 0, 1, 2, ..., [num_class - 1].\n",
      "  warnings.warn(label_encoder_deprecation_msg, UserWarning)\n",
      "/Users/julian/miniconda3/envs/base-data-science/lib/python3.9/site-packages/xgboost/sklearn.py:1224: UserWarning: The use of label encoder in XGBClassifier is deprecated and will be removed in a future release. To remove this warning, do the following: 1) Pass option use_label_encoder=False when constructing XGBClassifier object; and 2) Encode your labels (y) as integers starting with 0, i.e. 0, 1, 2, ..., [num_class - 1].\n",
      "  warnings.warn(label_encoder_deprecation_msg, UserWarning)\n",
      "/Users/julian/miniconda3/envs/base-data-science/lib/python3.9/site-packages/xgboost/sklearn.py:1224: UserWarning: The use of label encoder in XGBClassifier is deprecated and will be removed in a future release. To remove this warning, do the following: 1) Pass option use_label_encoder=False when constructing XGBClassifier object; and 2) Encode your labels (y) as integers starting with 0, i.e. 0, 1, 2, ..., [num_class - 1].\n",
      "  warnings.warn(label_encoder_deprecation_msg, UserWarning)\n",
      "/Users/julian/miniconda3/envs/base-data-science/lib/python3.9/site-packages/xgboost/sklearn.py:1224: UserWarning: The use of label encoder in XGBClassifier is deprecated and will be removed in a future release. To remove this warning, do the following: 1) Pass option use_label_encoder=False when constructing XGBClassifier object; and 2) Encode your labels (y) as integers starting with 0, i.e. 0, 1, 2, ..., [num_class - 1].\n",
      "  warnings.warn(label_encoder_deprecation_msg, UserWarning)\n",
      "/Users/julian/miniconda3/envs/base-data-science/lib/python3.9/site-packages/xgboost/sklearn.py:1224: UserWarning: The use of label encoder in XGBClassifier is deprecated and will be removed in a future release. To remove this warning, do the following: 1) Pass option use_label_encoder=False when constructing XGBClassifier object; and 2) Encode your labels (y) as integers starting with 0, i.e. 0, 1, 2, ..., [num_class - 1].\n",
      "  warnings.warn(label_encoder_deprecation_msg, UserWarning)\n",
      "/Users/julian/miniconda3/envs/base-data-science/lib/python3.9/site-packages/xgboost/sklearn.py:1224: UserWarning: The use of label encoder in XGBClassifier is deprecated and will be removed in a future release. To remove this warning, do the following: 1) Pass option use_label_encoder=False when constructing XGBClassifier object; and 2) Encode your labels (y) as integers starting with 0, i.e. 0, 1, 2, ..., [num_class - 1].\n",
      "  warnings.warn(label_encoder_deprecation_msg, UserWarning)\n",
      "/Users/julian/miniconda3/envs/base-data-science/lib/python3.9/site-packages/xgboost/sklearn.py:1224: UserWarning: The use of label encoder in XGBClassifier is deprecated and will be removed in a future release. To remove this warning, do the following: 1) Pass option use_label_encoder=False when constructing XGBClassifier object; and 2) Encode your labels (y) as integers starting with 0, i.e. 0, 1, 2, ..., [num_class - 1].\n",
      "  warnings.warn(label_encoder_deprecation_msg, UserWarning)\n",
      "/Users/julian/miniconda3/envs/base-data-science/lib/python3.9/site-packages/xgboost/sklearn.py:1224: UserWarning: The use of label encoder in XGBClassifier is deprecated and will be removed in a future release. To remove this warning, do the following: 1) Pass option use_label_encoder=False when constructing XGBClassifier object; and 2) Encode your labels (y) as integers starting with 0, i.e. 0, 1, 2, ..., [num_class - 1].\n",
      "  warnings.warn(label_encoder_deprecation_msg, UserWarning)\n",
      "/Users/julian/miniconda3/envs/base-data-science/lib/python3.9/site-packages/xgboost/sklearn.py:1224: UserWarning: The use of label encoder in XGBClassifier is deprecated and will be removed in a future release. To remove this warning, do the following: 1) Pass option use_label_encoder=False when constructing XGBClassifier object; and 2) Encode your labels (y) as integers starting with 0, i.e. 0, 1, 2, ..., [num_class - 1].\n",
      "  warnings.warn(label_encoder_deprecation_msg, UserWarning)\n",
      "/Users/julian/miniconda3/envs/base-data-science/lib/python3.9/site-packages/xgboost/sklearn.py:1224: UserWarning: The use of label encoder in XGBClassifier is deprecated and will be removed in a future release. To remove this warning, do the following: 1) Pass option use_label_encoder=False when constructing XGBClassifier object; and 2) Encode your labels (y) as integers starting with 0, i.e. 0, 1, 2, ..., [num_class - 1].\n",
      "  warnings.warn(label_encoder_deprecation_msg, UserWarning)\n",
      "/Users/julian/miniconda3/envs/base-data-science/lib/python3.9/site-packages/xgboost/sklearn.py:1224: UserWarning: The use of label encoder in XGBClassifier is deprecated and will be removed in a future release. To remove this warning, do the following: 1) Pass option use_label_encoder=False when constructing XGBClassifier object; and 2) Encode your labels (y) as integers starting with 0, i.e. 0, 1, 2, ..., [num_class - 1].\n",
      "  warnings.warn(label_encoder_deprecation_msg, UserWarning)\n",
      "/Users/julian/miniconda3/envs/base-data-science/lib/python3.9/site-packages/xgboost/sklearn.py:1224: UserWarning: The use of label encoder in XGBClassifier is deprecated and will be removed in a future release. To remove this warning, do the following: 1) Pass option use_label_encoder=False when constructing XGBClassifier object; and 2) Encode your labels (y) as integers starting with 0, i.e. 0, 1, 2, ..., [num_class - 1].\n",
      "  warnings.warn(label_encoder_deprecation_msg, UserWarning)\n",
      "/Users/julian/miniconda3/envs/base-data-science/lib/python3.9/site-packages/xgboost/sklearn.py:1224: UserWarning: The use of label encoder in XGBClassifier is deprecated and will be removed in a future release. To remove this warning, do the following: 1) Pass option use_label_encoder=False when constructing XGBClassifier object; and 2) Encode your labels (y) as integers starting with 0, i.e. 0, 1, 2, ..., [num_class - 1].\n",
      "  warnings.warn(label_encoder_deprecation_msg, UserWarning)\n",
      "/Users/julian/miniconda3/envs/base-data-science/lib/python3.9/site-packages/xgboost/sklearn.py:1224: UserWarning: The use of label encoder in XGBClassifier is deprecated and will be removed in a future release. To remove this warning, do the following: 1) Pass option use_label_encoder=False when constructing XGBClassifier object; and 2) Encode your labels (y) as integers starting with 0, i.e. 0, 1, 2, ..., [num_class - 1].\n",
      "  warnings.warn(label_encoder_deprecation_msg, UserWarning)\n",
      "/Users/julian/miniconda3/envs/base-data-science/lib/python3.9/site-packages/xgboost/sklearn.py:1224: UserWarning: The use of label encoder in XGBClassifier is deprecated and will be removed in a future release. To remove this warning, do the following: 1) Pass option use_label_encoder=False when constructing XGBClassifier object; and 2) Encode your labels (y) as integers starting with 0, i.e. 0, 1, 2, ..., [num_class - 1].\n",
      "  warnings.warn(label_encoder_deprecation_msg, UserWarning)\n",
      "/Users/julian/miniconda3/envs/base-data-science/lib/python3.9/site-packages/xgboost/sklearn.py:1224: UserWarning: The use of label encoder in XGBClassifier is deprecated and will be removed in a future release. To remove this warning, do the following: 1) Pass option use_label_encoder=False when constructing XGBClassifier object; and 2) Encode your labels (y) as integers starting with 0, i.e. 0, 1, 2, ..., [num_class - 1].\n",
      "  warnings.warn(label_encoder_deprecation_msg, UserWarning)\n",
      "/Users/julian/miniconda3/envs/base-data-science/lib/python3.9/site-packages/xgboost/sklearn.py:1224: UserWarning: The use of label encoder in XGBClassifier is deprecated and will be removed in a future release. To remove this warning, do the following: 1) Pass option use_label_encoder=False when constructing XGBClassifier object; and 2) Encode your labels (y) as integers starting with 0, i.e. 0, 1, 2, ..., [num_class - 1].\n",
      "  warnings.warn(label_encoder_deprecation_msg, UserWarning)\n"
     ]
    },
    {
     "name": "stderr",
     "output_type": "stream",
     "text": [
      "/Users/julian/miniconda3/envs/base-data-science/lib/python3.9/site-packages/xgboost/sklearn.py:1224: UserWarning: The use of label encoder in XGBClassifier is deprecated and will be removed in a future release. To remove this warning, do the following: 1) Pass option use_label_encoder=False when constructing XGBClassifier object; and 2) Encode your labels (y) as integers starting with 0, i.e. 0, 1, 2, ..., [num_class - 1].\n",
      "  warnings.warn(label_encoder_deprecation_msg, UserWarning)\n",
      "/Users/julian/miniconda3/envs/base-data-science/lib/python3.9/site-packages/xgboost/sklearn.py:1224: UserWarning: The use of label encoder in XGBClassifier is deprecated and will be removed in a future release. To remove this warning, do the following: 1) Pass option use_label_encoder=False when constructing XGBClassifier object; and 2) Encode your labels (y) as integers starting with 0, i.e. 0, 1, 2, ..., [num_class - 1].\n",
      "  warnings.warn(label_encoder_deprecation_msg, UserWarning)\n",
      "/Users/julian/miniconda3/envs/base-data-science/lib/python3.9/site-packages/xgboost/sklearn.py:1224: UserWarning: The use of label encoder in XGBClassifier is deprecated and will be removed in a future release. To remove this warning, do the following: 1) Pass option use_label_encoder=False when constructing XGBClassifier object; and 2) Encode your labels (y) as integers starting with 0, i.e. 0, 1, 2, ..., [num_class - 1].\n",
      "  warnings.warn(label_encoder_deprecation_msg, UserWarning)\n",
      "/Users/julian/miniconda3/envs/base-data-science/lib/python3.9/site-packages/xgboost/sklearn.py:1224: UserWarning: The use of label encoder in XGBClassifier is deprecated and will be removed in a future release. To remove this warning, do the following: 1) Pass option use_label_encoder=False when constructing XGBClassifier object; and 2) Encode your labels (y) as integers starting with 0, i.e. 0, 1, 2, ..., [num_class - 1].\n",
      "  warnings.warn(label_encoder_deprecation_msg, UserWarning)\n",
      "/Users/julian/miniconda3/envs/base-data-science/lib/python3.9/site-packages/xgboost/sklearn.py:1224: UserWarning: The use of label encoder in XGBClassifier is deprecated and will be removed in a future release. To remove this warning, do the following: 1) Pass option use_label_encoder=False when constructing XGBClassifier object; and 2) Encode your labels (y) as integers starting with 0, i.e. 0, 1, 2, ..., [num_class - 1].\n",
      "  warnings.warn(label_encoder_deprecation_msg, UserWarning)\n",
      "/Users/julian/miniconda3/envs/base-data-science/lib/python3.9/site-packages/xgboost/sklearn.py:1224: UserWarning: The use of label encoder in XGBClassifier is deprecated and will be removed in a future release. To remove this warning, do the following: 1) Pass option use_label_encoder=False when constructing XGBClassifier object; and 2) Encode your labels (y) as integers starting with 0, i.e. 0, 1, 2, ..., [num_class - 1].\n",
      "  warnings.warn(label_encoder_deprecation_msg, UserWarning)\n",
      "/Users/julian/miniconda3/envs/base-data-science/lib/python3.9/site-packages/xgboost/sklearn.py:1224: UserWarning: The use of label encoder in XGBClassifier is deprecated and will be removed in a future release. To remove this warning, do the following: 1) Pass option use_label_encoder=False when constructing XGBClassifier object; and 2) Encode your labels (y) as integers starting with 0, i.e. 0, 1, 2, ..., [num_class - 1].\n",
      "  warnings.warn(label_encoder_deprecation_msg, UserWarning)\n",
      "/Users/julian/miniconda3/envs/base-data-science/lib/python3.9/site-packages/xgboost/sklearn.py:1224: UserWarning: The use of label encoder in XGBClassifier is deprecated and will be removed in a future release. To remove this warning, do the following: 1) Pass option use_label_encoder=False when constructing XGBClassifier object; and 2) Encode your labels (y) as integers starting with 0, i.e. 0, 1, 2, ..., [num_class - 1].\n",
      "  warnings.warn(label_encoder_deprecation_msg, UserWarning)\n",
      "/Users/julian/miniconda3/envs/base-data-science/lib/python3.9/site-packages/xgboost/sklearn.py:1224: UserWarning: The use of label encoder in XGBClassifier is deprecated and will be removed in a future release. To remove this warning, do the following: 1) Pass option use_label_encoder=False when constructing XGBClassifier object; and 2) Encode your labels (y) as integers starting with 0, i.e. 0, 1, 2, ..., [num_class - 1].\n",
      "  warnings.warn(label_encoder_deprecation_msg, UserWarning)\n",
      "/Users/julian/miniconda3/envs/base-data-science/lib/python3.9/site-packages/xgboost/sklearn.py:1224: UserWarning: The use of label encoder in XGBClassifier is deprecated and will be removed in a future release. To remove this warning, do the following: 1) Pass option use_label_encoder=False when constructing XGBClassifier object; and 2) Encode your labels (y) as integers starting with 0, i.e. 0, 1, 2, ..., [num_class - 1].\n",
      "  warnings.warn(label_encoder_deprecation_msg, UserWarning)\n",
      "/Users/julian/miniconda3/envs/base-data-science/lib/python3.9/site-packages/xgboost/sklearn.py:1224: UserWarning: The use of label encoder in XGBClassifier is deprecated and will be removed in a future release. To remove this warning, do the following: 1) Pass option use_label_encoder=False when constructing XGBClassifier object; and 2) Encode your labels (y) as integers starting with 0, i.e. 0, 1, 2, ..., [num_class - 1].\n",
      "  warnings.warn(label_encoder_deprecation_msg, UserWarning)\n"
     ]
    }
   ],
   "source": [
    "xgb_est.generate_model(X_train.values, y_train.values.compute().ravel(), n_iter=50)"
   ]
  },
  {
   "cell_type": "code",
   "execution_count": null,
   "id": "86280591",
   "metadata": {},
   "outputs": [],
   "source": [
    "xgb_est.best_params()"
   ]
  },
  {
   "cell_type": "code",
   "execution_count": null,
   "id": "1b19ac99",
   "metadata": {},
   "outputs": [],
   "source": [
    "xgb_est.best_score()"
   ]
  },
  {
   "cell_type": "code",
   "execution_count": null,
   "id": "54bff0eb",
   "metadata": {},
   "outputs": [],
   "source": []
  }
 ],
 "metadata": {
  "kernelspec": {
   "display_name": "Python [conda env:base-data-science] *",
   "language": "python",
   "name": "conda-env-base-data-science-py"
  },
  "language_info": {
   "codemirror_mode": {
    "name": "ipython",
    "version": 3
   },
   "file_extension": ".py",
   "mimetype": "text/x-python",
   "name": "python",
   "nbconvert_exporter": "python",
   "pygments_lexer": "ipython3",
   "version": "3.9.7"
  }
 },
 "nbformat": 4,
 "nbformat_minor": 5
}
