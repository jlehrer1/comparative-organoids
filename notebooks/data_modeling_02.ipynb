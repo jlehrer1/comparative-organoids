{
 "cells": [
  {
   "cell_type": "markdown",
   "id": "e489a0bc",
   "metadata": {},
   "source": [
    "# Data Modeling 02\n",
    "\n",
    "In this notebook, we'll use Dask to tune a classifier with HyperbandSearch, so that we can train many models in parallel on the PRP. "
   ]
  },
  {
   "cell_type": "code",
   "execution_count": 31,
   "id": "5f892062",
   "metadata": {},
   "outputs": [],
   "source": [
    "import dask\n",
    "import numpy as np\n",
    "import matplotlib.pyplot as plt \n",
    "\n",
    "import dask.dataframe as dd\n",
    "from dask_ml.model_selection import train_test_split, HyperbandSearchCV, RandomizedSearchCV, GridSearchCV\n",
    "from dask_ml.linear_model import LogisticRegression"
   ]
  },
  {
   "cell_type": "markdown",
   "id": "ee2d929d",
   "metadata": {},
   "source": [
    "Now, let's read in our cleaned (and for this local example, reduced) data and train a model on it "
   ]
  },
  {
   "cell_type": "code",
   "execution_count": 62,
   "id": "0c461a86",
   "metadata": {},
   "outputs": [],
   "source": [
    "X = dd.read_csv('../data/processed/primary_reduction_neighbors_15_components_3.csv')\n",
    "y = dd.read_csv('../data/processed/primary_labels_neighbors_15_components_50.csv', header=None)"
   ]
  },
  {
   "cell_type": "code",
   "execution_count": 80,
   "id": "835a4af3",
   "metadata": {},
   "outputs": [],
   "source": [
    "est = LogisticRegression()\n",
    "\n",
    "grid = RandomizedSearchCV(\n",
    "    n_iter=15,\n",
    "    estimator=est,\n",
    "    param_distributions={\n",
    "        'penalty' : ['l1', 'l2'],\n",
    "        'C' : np.linspace(0.1, 100, 50)\n",
    "    },\n",
    "    scoring='balanced_accuracy',\n",
    ")"
   ]
  },
  {
   "cell_type": "code",
   "execution_count": 81,
   "id": "46b23208",
   "metadata": {},
   "outputs": [],
   "source": [
    "X_train, X_test, y_train, y_test = train_test_split(X, y, shuffle=True)"
   ]
  },
  {
   "cell_type": "code",
   "execution_count": 82,
   "id": "f6988ccb",
   "metadata": {},
   "outputs": [],
   "source": [
    "best_est = grid.fit(X_train.values, y_train.values)"
   ]
  },
  {
   "cell_type": "code",
   "execution_count": 83,
   "id": "ec16c772",
   "metadata": {
    "scrolled": true
   },
   "outputs": [
    {
     "data": {
      "text/plain": [
       "{'params': [{'penalty': 'l2', 'C': 49.030612244897966},\n",
       "  {'penalty': 'l1', 'C': 73.49591836734695},\n",
       "  {'penalty': 'l2', 'C': 26.604081632653067},\n",
       "  {'penalty': 'l2', 'C': 75.53469387755102},\n",
       "  {'penalty': 'l1', 'C': 28.642857142857146},\n",
       "  {'penalty': 'l1', 'C': 22.5265306122449},\n",
       "  {'penalty': 'l1', 'C': 77.57346938775511},\n",
       "  {'penalty': 'l2', 'C': 93.88367346938776},\n",
       "  {'penalty': 'l1', 'C': 4.177551020408163},\n",
       "  {'penalty': 'l1', 'C': 36.79795918367348},\n",
       "  {'penalty': 'l2', 'C': 89.8061224489796},\n",
       "  {'penalty': 'l1', 'C': 6.216326530612245},\n",
       "  {'penalty': 'l2', 'C': 40.87551020408164},\n",
       "  {'penalty': 'l1', 'C': 89.8061224489796},\n",
       "  {'penalty': 'l1', 'C': 100.0}],\n",
       " 'mean_fit_time': array([ 9.71278294, 10.70838801, 10.27951299, 11.82670919, 12.62142772,\n",
       "        12.74563172, 12.57570108, 11.91387925, 12.33058006, 12.26729521,\n",
       "        11.38746392, 12.31507067, 11.13221544,  9.52779222,  7.88915701]),\n",
       " 'std_fit_time': array([0.12342913, 0.35875605, 0.15985116, 0.72564082, 0.23096534,\n",
       "        0.19765189, 0.06773269, 0.21759577, 0.32040355, 0.29446453,\n",
       "        0.10694722, 0.66733498, 0.15574464, 1.47309698, 0.06986169]),\n",
       " 'mean_score_time': array([0.12407029, 0.12123458, 0.17722015, 0.12034608, 0.15932388,\n",
       "        0.14113236, 0.14003842, 0.12091154, 0.11863222, 0.15823058,\n",
       "        0.12147201, 0.12102944, 0.18702572, 0.11350008, 0.10989822]),\n",
       " 'std_score_time': array([0.00339072, 0.00170803, 0.04268655, 0.00121195, 0.049105  ,\n",
       "        0.03046701, 0.02050308, 0.00120513, 0.00040471, 0.04504481,\n",
       "        0.0008092 , 0.00538804, 0.05020945, 0.0004661 , 0.00239215]),\n",
       " 'split0_test_score': array([0.07142857, 0.07142857, 0.07142857, 0.07142857, 0.07142857,\n",
       "        0.07142857, 0.07142857, 0.07142857, 0.07142857, 0.07142857,\n",
       "        0.07142857, 0.07142857, 0.07142857, 0.07142857, 0.07142857]),\n",
       " 'split1_test_score': array([0.07142857, 0.07142857, 0.07142857, 0.07142857, 0.07142857,\n",
       "        0.07142857, 0.07142857, 0.07142857, 0.07142857, 0.07142857,\n",
       "        0.07142857, 0.07142857, 0.07142857, 0.07142857, 0.07142857]),\n",
       " 'split2_test_score': array([0.07142857, 0.07142857, 0.07142857, 0.07142857, 0.07142857,\n",
       "        0.07142857, 0.07142857, 0.07142857, 0.07142857, 0.07142857,\n",
       "        0.07142857, 0.07142857, 0.07142857, 0.07142857, 0.07142857]),\n",
       " 'mean_test_score': array([0.07142857, 0.07142857, 0.07142857, 0.07142857, 0.07142857,\n",
       "        0.07142857, 0.07142857, 0.07142857, 0.07142857, 0.07142857,\n",
       "        0.07142857, 0.07142857, 0.07142857, 0.07142857, 0.07142857]),\n",
       " 'std_test_score': array([0., 0., 0., 0., 0., 0., 0., 0., 0., 0., 0., 0., 0., 0., 0.]),\n",
       " 'rank_test_score': array([1, 1, 1, 1, 1, 1, 1, 1, 1, 1, 1, 1, 1, 1, 1], dtype=int32),\n",
       " 'param_penalty': masked_array(data=['l2', 'l1', 'l2', 'l2', 'l1', 'l1', 'l1', 'l2', 'l1',\n",
       "                    'l1', 'l2', 'l1', 'l2', 'l1', 'l1'],\n",
       "              mask=[False, False, False, False, False, False, False, False,\n",
       "                    False, False, False, False, False, False, False],\n",
       "        fill_value='?',\n",
       "             dtype=object),\n",
       " 'param_C': masked_array(data=[49.030612244897966, 73.49591836734695,\n",
       "                    26.604081632653067, 75.53469387755102,\n",
       "                    28.642857142857146, 22.5265306122449,\n",
       "                    77.57346938775511, 93.88367346938776,\n",
       "                    4.177551020408163, 36.79795918367348, 89.8061224489796,\n",
       "                    6.216326530612245, 40.87551020408164, 89.8061224489796,\n",
       "                    100.0],\n",
       "              mask=[False, False, False, False, False, False, False, False,\n",
       "                    False, False, False, False, False, False, False],\n",
       "        fill_value='?',\n",
       "             dtype=object)}"
      ]
     },
     "execution_count": 83,
     "metadata": {},
     "output_type": "execute_result"
    }
   ],
   "source": [
    "best_est.cv_results_"
   ]
  },
  {
   "cell_type": "markdown",
   "id": "c82ad624",
   "metadata": {},
   "source": [
    "Great, now let's see what the best estimator was!"
   ]
  },
  {
   "cell_type": "code",
   "execution_count": 85,
   "id": "affdc789",
   "metadata": {},
   "outputs": [
    {
     "data": {
      "text/plain": [
       "0.07142857142857142"
      ]
     },
     "execution_count": 85,
     "metadata": {},
     "output_type": "execute_result"
    }
   ],
   "source": [
    "best_est.best_score_"
   ]
  },
  {
   "cell_type": "markdown",
   "id": "535f4511",
   "metadata": {},
   "source": [
    "Now let's define a generalized class to do this hyperparameter tuning "
   ]
  },
  {
   "cell_type": "code",
   "execution_count": null,
   "id": "e760b95d",
   "metadata": {},
   "outputs": [],
   "source": []
  },
  {
   "cell_type": "code",
   "execution_count": null,
   "id": "98f330af",
   "metadata": {},
   "outputs": [],
   "source": []
  },
  {
   "cell_type": "code",
   "execution_count": null,
   "id": "62ecc8e0",
   "metadata": {},
   "outputs": [],
   "source": []
  }
 ],
 "metadata": {
  "kernelspec": {
   "display_name": "Python [conda env:base-data-science] *",
   "language": "python",
   "name": "conda-env-base-data-science-py"
  },
  "language_info": {
   "codemirror_mode": {
    "name": "ipython",
    "version": 3
   },
   "file_extension": ".py",
   "mimetype": "text/x-python",
   "name": "python",
   "nbconvert_exporter": "python",
   "pygments_lexer": "ipython3",
   "version": "3.9.7"
  }
 },
 "nbformat": 4,
 "nbformat_minor": 5
}
