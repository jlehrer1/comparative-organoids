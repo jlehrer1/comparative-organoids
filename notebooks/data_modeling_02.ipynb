{
 "cells": [
  {
   "cell_type": "markdown",
   "id": "3235a713",
   "metadata": {},
   "source": [
    "# Data Modeling 02\n",
    "\n",
    "In this notebook, we'll use Dask to tune a classifier with HyperbandSearch, so that we can train many models in parallel on the PRP. "
   ]
  },
  {
   "cell_type": "code",
   "execution_count": 1,
   "id": "12a2c620",
   "metadata": {},
   "outputs": [],
   "source": [
    "import dask\n",
    "import numpy as np\n",
    "import matplotlib.pyplot as plt \n",
    "\n",
    "import dask.dataframe as dd\n",
    "from dask_ml.model_selection import train_test_split, HyperbandSearchCV, RandomizedSearchCV, GridSearchCV\n",
    "from dask_ml.linear_model import LogisticRegression"
   ]
  },
  {
   "cell_type": "markdown",
   "id": "415a3cf5",
   "metadata": {},
   "source": [
    "Now, let's read in our cleaned (and for this local example, reduced) data and train a model on it "
   ]
  },
  {
   "cell_type": "code",
   "execution_count": 42,
   "id": "bcdd393a",
   "metadata": {},
   "outputs": [],
   "source": [
    "X = dd.read_csv('../data/processed/primary_reduction_neighbors_15_components_3.csv')\n",
    "y = dd.read_csv('../data/processed/primary_labels_neighbors_15_components_50.csv', header=None)"
   ]
  },
  {
   "cell_type": "code",
   "execution_count": 43,
   "id": "f32860e3",
   "metadata": {},
   "outputs": [],
   "source": [
    "# y = y + 1"
   ]
  },
  {
   "cell_type": "code",
   "execution_count": 44,
   "id": "739d158c",
   "metadata": {},
   "outputs": [],
   "source": [
    "est = LogisticRegression()\n",
    "\n",
    "grid = RandomizedSearchCV(\n",
    "    n_iter=15,\n",
    "    estimator=est,\n",
    "    param_distributions={\n",
    "        'penalty' : ['l1', 'l2'],\n",
    "        'C' : np.linspace(0.1, 100, 50)\n",
    "    },\n",
    "    scoring='balanced_accuracy',\n",
    ")"
   ]
  },
  {
   "cell_type": "code",
   "execution_count": 45,
   "id": "ec9cf8e2",
   "metadata": {},
   "outputs": [],
   "source": [
    "X_train, X_test, y_train, y_test = train_test_split(X, y, shuffle=True)"
   ]
  },
  {
   "cell_type": "code",
   "execution_count": 46,
   "id": "40a1ee46",
   "metadata": {},
   "outputs": [],
   "source": [
    "# best_est = grid.fit(X_train.values, y_train.values)"
   ]
  },
  {
   "cell_type": "code",
   "execution_count": 47,
   "id": "5fbdcc06",
   "metadata": {
    "scrolled": true
   },
   "outputs": [],
   "source": [
    "# best_est.cv_results_"
   ]
  },
  {
   "cell_type": "markdown",
   "id": "00506ff4",
   "metadata": {},
   "source": [
    "Great, now let's see what the best estimator was!"
   ]
  },
  {
   "cell_type": "code",
   "execution_count": 48,
   "id": "ba4cc74b",
   "metadata": {},
   "outputs": [],
   "source": [
    "# best_est.best_score_"
   ]
  },
  {
   "cell_type": "markdown",
   "id": "cbc46341",
   "metadata": {},
   "source": [
    "Now let's define a generalized class to do this hyperparameter tuning "
   ]
  },
  {
   "cell_type": "code",
   "execution_count": 49,
   "id": "edf030e6",
   "metadata": {},
   "outputs": [],
   "source": [
    "class GeneClassifier:\n",
    "    def __init__(self, est, params):\n",
    "        self.est = est\n",
    "        self.params = params\n",
    "        \n",
    "    def generate_model(self, X, y, n_iter=10):\n",
    "        grid = RandomizedSearchCV(\n",
    "            n_iter=n_iter,\n",
    "            estimator=self.est,\n",
    "            param_distributions=self.params,\n",
    "            scoring='balanced_accuracy'\n",
    "        )\n",
    "\n",
    "        result = grid.fit(X, y)\n",
    "        return result.best_score_, result.best_params_    "
   ]
  },
  {
   "cell_type": "code",
   "execution_count": 50,
   "id": "2811de14",
   "metadata": {},
   "outputs": [],
   "source": [
    "param_distributions = {\n",
    "        'penalty' : ['l1', 'l2'],\n",
    "        'C' : np.linspace(0.1, 100, 50)\n",
    "    },\n",
    "\n",
    "logistic_est = GeneClassifier(LogisticRegression(), param_distributions)"
   ]
  },
  {
   "cell_type": "code",
   "execution_count": 51,
   "id": "a109a34b",
   "metadata": {
    "scrolled": true
   },
   "outputs": [
    {
     "data": {
      "text/plain": [
       "(0.07142857142857142, {'penalty': 'l2', 'C': 93.88367346938776})"
      ]
     },
     "execution_count": 51,
     "metadata": {},
     "output_type": "execute_result"
    }
   ],
   "source": [
    "logistic_est.generate_model(X_train.values, y_train.values, n_iter=2)"
   ]
  },
  {
   "cell_type": "markdown",
   "id": "f84d5eab",
   "metadata": {},
   "source": [
    "Now let's try this with a simple XGBClassifier (gradient boosted tree classifier)"
   ]
  },
  {
   "cell_type": "code",
   "execution_count": null,
   "id": "e62ae67a",
   "metadata": {},
   "outputs": [],
   "source": [
    "from dask_ml.xgboost import XGBClassifier\n",
    "\n",
    "params = {\n",
    "    'eta' : np.linspace(0, 1, 20),\n",
    "    'gamma': np.linspace(0, 1000, 20),\n",
    "    'max_depth': np.linspace(0, 1000, 20, dtype=int),\n",
    "}\n",
    "\n",
    "xgb_est = GeneClassifier(XGBClassifier(), params)"
   ]
  },
  {
   "cell_type": "markdown",
   "id": "b2acc6c8",
   "metadata": {},
   "source": [
    "Using the XGBClassifier from `dask_ml` requires a distributed Client, so we'll just use the default classifier instead. "
   ]
  },
  {
   "cell_type": "code",
   "execution_count": null,
   "id": "f7da67b7",
   "metadata": {
    "scrolled": true
   },
   "outputs": [],
   "source": [
    "# xgb_est.generate_model(X_train.values, y_train.values, n_iter=2)"
   ]
  },
  {
   "cell_type": "code",
   "execution_count": null,
   "id": "06ec0441",
   "metadata": {},
   "outputs": [],
   "source": [
    "from xgboost import XGBClassifier\n",
    "xgb_est = GeneClassifier(XGBClassifier(), params)\n",
    "xgb_est.generate_model(X_train.values, y_train.values, n_iter=2)"
   ]
  },
  {
   "cell_type": "code",
   "execution_count": null,
   "id": "ba662aaf",
   "metadata": {},
   "outputs": [],
   "source": []
  }
 ],
 "metadata": {
  "kernelspec": {
   "display_name": "Python [conda env:base-data-science] *",
   "language": "python",
   "name": "conda-env-base-data-science-py"
  },
  "language_info": {
   "codemirror_mode": {
    "name": "ipython",
    "version": 3
   },
   "file_extension": ".py",
   "mimetype": "text/x-python",
   "name": "python",
   "nbconvert_exporter": "python",
   "pygments_lexer": "ipython3",
   "version": "3.9.7"
  }
 },
 "nbformat": 4,
 "nbformat_minor": 5
}
