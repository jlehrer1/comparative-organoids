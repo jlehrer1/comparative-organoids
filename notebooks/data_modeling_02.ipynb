{
 "cells": [
  {
   "cell_type": "markdown",
   "id": "747a69b0",
   "metadata": {},
   "source": [
    "# Data Modeling 02\n",
    "\n",
    "In this notebook, we'll use Dask to tune a classifier with HyperbandSearch, so that we can train many models in parallel on the PRP. "
   ]
  },
  {
   "cell_type": "code",
   "execution_count": 1,
   "id": "1dabb666",
   "metadata": {},
   "outputs": [],
   "source": [
    "import dask\n",
    "import numpy as np\n",
    "import matplotlib.pyplot as plt \n",
    "\n",
    "import dask.dataframe as dd\n",
    "from dask_ml.model_selection import train_test_split, HyperbandSearchCV, RandomizedSearchCV, GridSearchCV\n",
    "from dask_ml.linear_model import LogisticRegression"
   ]
  },
  {
   "cell_type": "markdown",
   "id": "1c568860",
   "metadata": {},
   "source": [
    "Now, let's read in our cleaned (and for this local example, reduced) data and train a model on it "
   ]
  },
  {
   "cell_type": "code",
   "execution_count": 30,
   "id": "07753e31",
   "metadata": {},
   "outputs": [],
   "source": [
    "X = dd.read_csv('../data/processed/primary_reduction_neighbors_15_components_3.csv')\n",
    "y = dd.read_csv('../data/processed/primary_labels_neighbors_15_components_50.csv', header=None)"
   ]
  },
  {
   "cell_type": "code",
   "execution_count": 32,
   "id": "9520db62",
   "metadata": {},
   "outputs": [],
   "source": [
    "y = y + 1"
   ]
  },
  {
   "cell_type": "code",
   "execution_count": 33,
   "id": "fc72fc44",
   "metadata": {},
   "outputs": [],
   "source": [
    "est = LogisticRegression()\n",
    "\n",
    "grid = RandomizedSearchCV(\n",
    "    n_iter=15,\n",
    "    estimator=est,\n",
    "    param_distributions={\n",
    "        'penalty' : ['l1', 'l2'],\n",
    "        'C' : np.linspace(0.1, 100, 50)\n",
    "    },\n",
    "    scoring='balanced_accuracy',\n",
    ")"
   ]
  },
  {
   "cell_type": "code",
   "execution_count": 34,
   "id": "0c07e1e4",
   "metadata": {},
   "outputs": [],
   "source": [
    "X_train, X_test, y_train, y_test = train_test_split(X, y, shuffle=True)"
   ]
  },
  {
   "cell_type": "code",
   "execution_count": 35,
   "id": "2fc12a4e",
   "metadata": {},
   "outputs": [],
   "source": [
    "# best_est = grid.fit(X_train.values, y_train.values)"
   ]
  },
  {
   "cell_type": "code",
   "execution_count": 36,
   "id": "a823ef41",
   "metadata": {
    "scrolled": true
   },
   "outputs": [],
   "source": [
    "# best_est.cv_results_"
   ]
  },
  {
   "cell_type": "markdown",
   "id": "686c3ef7",
   "metadata": {},
   "source": [
    "Great, now let's see what the best estimator was!"
   ]
  },
  {
   "cell_type": "code",
   "execution_count": 37,
   "id": "fdc6ccbe",
   "metadata": {},
   "outputs": [],
   "source": [
    "# best_est.best_score_"
   ]
  },
  {
   "cell_type": "markdown",
   "id": "2929c2ad",
   "metadata": {},
   "source": [
    "Now let's define a generalized class to do this hyperparameter tuning "
   ]
  },
  {
   "cell_type": "code",
   "execution_count": 38,
   "id": "b186e2f3",
   "metadata": {},
   "outputs": [],
   "source": [
    "class GeneClassifier:\n",
    "    def __init__(self, est, params):\n",
    "        self.est = est\n",
    "        self.params = params\n",
    "        \n",
    "    def generate_model(self, X, y, n_iter=10):\n",
    "        grid = RandomizedSearchCV(\n",
    "            n_iter=n_iter,\n",
    "            estimator=self.est,\n",
    "            param_distributions=self.params,\n",
    "            scoring='balanced_accuracy'\n",
    "        )\n",
    "\n",
    "        result = grid.fit(X, y)\n",
    "        return result.best_score_, result.best_params_    "
   ]
  },
  {
   "cell_type": "code",
   "execution_count": 39,
   "id": "296b1a1a",
   "metadata": {},
   "outputs": [],
   "source": [
    "param_distributions = {\n",
    "        'penalty' : ['l1', 'l2'],\n",
    "        'C' : np.linspace(0.1, 100, 50)\n",
    "    },\n",
    "\n",
    "logistic_est = GeneClassifier(LogisticRegression(), param_distributions)"
   ]
  },
  {
   "cell_type": "code",
   "execution_count": null,
   "id": "5d2e5118",
   "metadata": {},
   "outputs": [],
   "source": [
    "logistic_est.generate_model(X_train.values, y_train.values)"
   ]
  },
  {
   "cell_type": "markdown",
   "id": "dc3a3d71",
   "metadata": {},
   "source": [
    "Now let's try this with a simple XGBClassifier (gradient boosted tree classifier)"
   ]
  },
  {
   "cell_type": "code",
   "execution_count": null,
   "id": "eb1ae844",
   "metadata": {},
   "outputs": [],
   "source": [
    "from dask_ml.xgboost import XGBClassifier\n",
    "\n",
    "params = {\n",
    "    'eta' : np.linspace(0, 1, 20),\n",
    "    'gamma': np.linspace(0, 1000, 20),\n",
    "    'max_depth': np.linspace(0, 1000, 20, dtype=int),\n",
    "}\n",
    "\n",
    "xgb_est = GeneClassifier(XGBClassifier(), params)"
   ]
  },
  {
   "cell_type": "markdown",
   "id": "3df600f9",
   "metadata": {},
   "source": [
    "Using the XGBClassifier from `dask_ml` requires a distributed Client, so we'll just use the default classifier instead. "
   ]
  },
  {
   "cell_type": "code",
   "execution_count": null,
   "id": "833e96d5",
   "metadata": {
    "scrolled": true
   },
   "outputs": [],
   "source": [
    "# xgb_est.generate_model(X_train.values, y_train.values, n_iter=2)"
   ]
  },
  {
   "cell_type": "code",
   "execution_count": null,
   "id": "39124b6b",
   "metadata": {},
   "outputs": [],
   "source": [
    "from xgboost import XGBClassifier\n",
    "xgb_est = GeneClassifier(XGBClassifier(), params)\n",
    "xgb_est.generate_model(X_train.values, y_train.values, n_iter=2)"
   ]
  },
  {
   "cell_type": "code",
   "execution_count": null,
   "id": "bdef198b",
   "metadata": {},
   "outputs": [],
   "source": []
  }
 ],
 "metadata": {
  "kernelspec": {
   "display_name": "Python [conda env:base-data-science] *",
   "language": "python",
   "name": "conda-env-base-data-science-py"
  },
  "language_info": {
   "codemirror_mode": {
    "name": "ipython",
    "version": 3
   },
   "file_extension": ".py",
   "mimetype": "text/x-python",
   "name": "python",
   "nbconvert_exporter": "python",
   "pygments_lexer": "ipython3",
   "version": "3.9.7"
  }
 },
 "nbformat": 4,
 "nbformat_minor": 5
}
