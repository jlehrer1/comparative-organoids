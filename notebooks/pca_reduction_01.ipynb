{
 "cells": [
  {
   "cell_type": "markdown",
   "id": "ff93dcd2",
   "metadata": {},
   "source": [
    "# PCA Reduction\n",
    "\n",
    "In this notebook, we test Dask's PCA"
   ]
  },
  {
   "cell_type": "code",
   "execution_count": 21,
   "id": "ee8aedee",
   "metadata": {},
   "outputs": [],
   "source": [
    "import dask.dataframe as dd\n",
    "from dask_ml.decomposition import PCA"
   ]
  },
  {
   "cell_type": "code",
   "execution_count": 22,
   "id": "40d762e4",
   "metadata": {},
   "outputs": [],
   "source": [
    "df = dd.read_csv('../data/processed/organoid_reduction_neighbors_5000_components_50.csv')"
   ]
  },
  {
   "cell_type": "code",
   "execution_count": 23,
   "id": "2374630e",
   "metadata": {},
   "outputs": [],
   "source": [
    "est = PCA(n_components=3)\n",
    "pca = est.fit_transform(df.values.compute_chunk_sizes())"
   ]
  },
  {
   "cell_type": "code",
   "execution_count": 24,
   "id": "da7d10ce",
   "metadata": {},
   "outputs": [],
   "source": [
    "import pandas as pd \n",
    "df = pd.DataFrame(pca.compute())"
   ]
  },
  {
   "cell_type": "code",
   "execution_count": 20,
   "id": "a29f2bfd",
   "metadata": {},
   "outputs": [
    {
     "data": {
      "text/html": [
       "<div>\n",
       "<style scoped>\n",
       "    .dataframe tbody tr th:only-of-type {\n",
       "        vertical-align: middle;\n",
       "    }\n",
       "\n",
       "    .dataframe tbody tr th {\n",
       "        vertical-align: top;\n",
       "    }\n",
       "\n",
       "    .dataframe thead th {\n",
       "        text-align: right;\n",
       "    }\n",
       "</style>\n",
       "<table border=\"1\" class=\"dataframe\">\n",
       "  <thead>\n",
       "    <tr style=\"text-align: right;\">\n",
       "      <th></th>\n",
       "      <th>0</th>\n",
       "      <th>1</th>\n",
       "      <th>2</th>\n",
       "    </tr>\n",
       "  </thead>\n",
       "  <tbody>\n",
       "    <tr>\n",
       "      <th>0</th>\n",
       "      <td>-0.093945</td>\n",
       "      <td>1.515458</td>\n",
       "      <td>0.605415</td>\n",
       "    </tr>\n",
       "    <tr>\n",
       "      <th>1</th>\n",
       "      <td>-1.576281</td>\n",
       "      <td>1.713536</td>\n",
       "      <td>1.212861</td>\n",
       "    </tr>\n",
       "    <tr>\n",
       "      <th>2</th>\n",
       "      <td>-1.661179</td>\n",
       "      <td>1.672553</td>\n",
       "      <td>1.268587</td>\n",
       "    </tr>\n",
       "    <tr>\n",
       "      <th>3</th>\n",
       "      <td>-2.139295</td>\n",
       "      <td>1.577364</td>\n",
       "      <td>1.444026</td>\n",
       "    </tr>\n",
       "    <tr>\n",
       "      <th>4</th>\n",
       "      <td>-1.642556</td>\n",
       "      <td>1.627754</td>\n",
       "      <td>1.237435</td>\n",
       "    </tr>\n",
       "    <tr>\n",
       "      <th>...</th>\n",
       "      <td>...</td>\n",
       "      <td>...</td>\n",
       "      <td>...</td>\n",
       "    </tr>\n",
       "    <tr>\n",
       "      <th>235116</th>\n",
       "      <td>-2.751143</td>\n",
       "      <td>1.368098</td>\n",
       "      <td>1.800611</td>\n",
       "    </tr>\n",
       "    <tr>\n",
       "      <th>235117</th>\n",
       "      <td>-2.749360</td>\n",
       "      <td>1.363425</td>\n",
       "      <td>1.809036</td>\n",
       "    </tr>\n",
       "    <tr>\n",
       "      <th>235118</th>\n",
       "      <td>-2.726909</td>\n",
       "      <td>1.308365</td>\n",
       "      <td>1.811338</td>\n",
       "    </tr>\n",
       "    <tr>\n",
       "      <th>235119</th>\n",
       "      <td>-2.703970</td>\n",
       "      <td>1.303070</td>\n",
       "      <td>1.837254</td>\n",
       "    </tr>\n",
       "    <tr>\n",
       "      <th>235120</th>\n",
       "      <td>-2.735118</td>\n",
       "      <td>1.309854</td>\n",
       "      <td>1.761329</td>\n",
       "    </tr>\n",
       "  </tbody>\n",
       "</table>\n",
       "<p>235121 rows × 3 columns</p>\n",
       "</div>"
      ],
      "text/plain": [
       "               0         1         2\n",
       "0      -0.093945  1.515458  0.605415\n",
       "1      -1.576281  1.713536  1.212861\n",
       "2      -1.661179  1.672553  1.268587\n",
       "3      -2.139295  1.577364  1.444026\n",
       "4      -1.642556  1.627754  1.237435\n",
       "...          ...       ...       ...\n",
       "235116 -2.751143  1.368098  1.800611\n",
       "235117 -2.749360  1.363425  1.809036\n",
       "235118 -2.726909  1.308365  1.811338\n",
       "235119 -2.703970  1.303070  1.837254\n",
       "235120 -2.735118  1.309854  1.761329\n",
       "\n",
       "[235121 rows x 3 columns]"
      ]
     },
     "execution_count": 20,
     "metadata": {},
     "output_type": "execute_result"
    }
   ],
   "source": []
  },
  {
   "cell_type": "code",
   "execution_count": null,
   "id": "c9a926a2",
   "metadata": {},
   "outputs": [],
   "source": []
  }
 ],
 "metadata": {
  "kernelspec": {
   "display_name": "Python [conda env:base-data-science] *",
   "language": "python",
   "name": "conda-env-base-data-science-py"
  },
  "language_info": {
   "codemirror_mode": {
    "name": "ipython",
    "version": 3
   },
   "file_extension": ".py",
   "mimetype": "text/x-python",
   "name": "python",
   "nbconvert_exporter": "python",
   "pygments_lexer": "ipython3",
   "version": "3.9.7"
  }
 },
 "nbformat": 4,
 "nbformat_minor": 5
}
