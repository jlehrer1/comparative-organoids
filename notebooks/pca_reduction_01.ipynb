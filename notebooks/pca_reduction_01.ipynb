{
 "cells": [
  {
   "cell_type": "markdown",
   "id": "4a3180f1",
   "metadata": {},
   "source": [
    "# PCA Reduction\n",
    "\n",
    "In this notebook, we test Dask's PCA"
   ]
  },
  {
   "cell_type": "code",
   "execution_count": 21,
   "id": "90daee30",
   "metadata": {},
   "outputs": [],
   "source": [
    "import dask.dataframe as dd\n",
    "from dask_ml.decomposition import PCA"
   ]
  },
  {
   "cell_type": "code",
   "execution_count": 22,
   "id": "4b3d6ae7",
   "metadata": {},
   "outputs": [],
   "source": [
    "df = dd.read_csv('../data/processed/organoid_reduction_neighbors_5000_components_50.csv')"
   ]
  },
  {
   "cell_type": "code",
   "execution_count": 23,
   "id": "e61e0079",
   "metadata": {},
   "outputs": [],
   "source": [
    "est = PCA(n_components=3)\n",
    "pca = est.fit_transform(df.values.compute_chunk_sizes())"
   ]
  },
  {
   "cell_type": "code",
   "execution_count": 24,
   "id": "ccc3961a",
   "metadata": {},
   "outputs": [],
   "source": [
    "import pandas as pd \n",
    "df = pd.DataFrame(pca.compute())"
   ]
  },
  {
   "cell_type": "code",
   "execution_count": 27,
   "id": "e8977a90",
   "metadata": {},
   "outputs": [],
   "source": [
    "\n",
    "df = dd.from_array(pca.compute())"
   ]
  },
  {
   "cell_type": "code",
   "execution_count": 31,
   "id": "5c79bf55",
   "metadata": {},
   "outputs": [
    {
     "data": {
      "text/plain": [
       "['/Users/julian/Documents/Projects/organoid-classification/notebooks/asdf.csv']"
      ]
     },
     "execution_count": 31,
     "metadata": {},
     "output_type": "execute_result"
    }
   ],
   "source": [
    "df.to_csv('asdf.csv', single_file=True, index=False)"
   ]
  },
  {
   "cell_type": "code",
   "execution_count": 34,
   "id": "ebb4d9e1",
   "metadata": {},
   "outputs": [
    {
     "data": {
      "text/html": [
       "<div>\n",
       "<style scoped>\n",
       "    .dataframe tbody tr th:only-of-type {\n",
       "        vertical-align: middle;\n",
       "    }\n",
       "\n",
       "    .dataframe tbody tr th {\n",
       "        vertical-align: top;\n",
       "    }\n",
       "\n",
       "    .dataframe thead th {\n",
       "        text-align: right;\n",
       "    }\n",
       "</style>\n",
       "<table border=\"1\" class=\"dataframe\">\n",
       "  <thead>\n",
       "    <tr style=\"text-align: right;\">\n",
       "      <th></th>\n",
       "      <th>0</th>\n",
       "      <th>1</th>\n",
       "      <th>2</th>\n",
       "    </tr>\n",
       "  </thead>\n",
       "  <tbody>\n",
       "    <tr>\n",
       "      <th>0</th>\n",
       "      <td>-0.200472</td>\n",
       "      <td>1.460368</td>\n",
       "      <td>0.795623</td>\n",
       "    </tr>\n",
       "    <tr>\n",
       "      <th>1</th>\n",
       "      <td>-1.648086</td>\n",
       "      <td>1.578398</td>\n",
       "      <td>1.271326</td>\n",
       "    </tr>\n",
       "    <tr>\n",
       "      <th>2</th>\n",
       "      <td>-1.709614</td>\n",
       "      <td>1.479038</td>\n",
       "      <td>1.305297</td>\n",
       "    </tr>\n",
       "    <tr>\n",
       "      <th>3</th>\n",
       "      <td>-2.133705</td>\n",
       "      <td>1.312050</td>\n",
       "      <td>1.383508</td>\n",
       "    </tr>\n",
       "    <tr>\n",
       "      <th>4</th>\n",
       "      <td>-1.709739</td>\n",
       "      <td>1.441671</td>\n",
       "      <td>1.194556</td>\n",
       "    </tr>\n",
       "    <tr>\n",
       "      <th>...</th>\n",
       "      <td>...</td>\n",
       "      <td>...</td>\n",
       "      <td>...</td>\n",
       "    </tr>\n",
       "    <tr>\n",
       "      <th>235116</th>\n",
       "      <td>-2.684774</td>\n",
       "      <td>0.883385</td>\n",
       "      <td>1.525278</td>\n",
       "    </tr>\n",
       "    <tr>\n",
       "      <th>235117</th>\n",
       "      <td>-2.689195</td>\n",
       "      <td>0.879093</td>\n",
       "      <td>1.520911</td>\n",
       "    </tr>\n",
       "    <tr>\n",
       "      <th>235118</th>\n",
       "      <td>-2.686528</td>\n",
       "      <td>0.855352</td>\n",
       "      <td>1.516532</td>\n",
       "    </tr>\n",
       "    <tr>\n",
       "      <th>235119</th>\n",
       "      <td>-2.667541</td>\n",
       "      <td>0.851988</td>\n",
       "      <td>1.516948</td>\n",
       "    </tr>\n",
       "    <tr>\n",
       "      <th>235120</th>\n",
       "      <td>-2.675737</td>\n",
       "      <td>0.895247</td>\n",
       "      <td>1.496369</td>\n",
       "    </tr>\n",
       "  </tbody>\n",
       "</table>\n",
       "<p>235121 rows × 3 columns</p>\n",
       "</div>"
      ],
      "text/plain": [
       "               0         1         2\n",
       "0      -0.200472  1.460368  0.795623\n",
       "1      -1.648086  1.578398  1.271326\n",
       "2      -1.709614  1.479038  1.305297\n",
       "3      -2.133705  1.312050  1.383508\n",
       "4      -1.709739  1.441671  1.194556\n",
       "...          ...       ...       ...\n",
       "235116 -2.684774  0.883385  1.525278\n",
       "235117 -2.689195  0.879093  1.520911\n",
       "235118 -2.686528  0.855352  1.516532\n",
       "235119 -2.667541  0.851988  1.516948\n",
       "235120 -2.675737  0.895247  1.496369\n",
       "\n",
       "[235121 rows x 3 columns]"
      ]
     },
     "execution_count": 34,
     "metadata": {},
     "output_type": "execute_result"
    }
   ],
   "source": [
    "import pandas as pd \n",
    "df = pd.read_csv('asdf.csv')\n",
    "df"
   ]
  },
  {
   "cell_type": "code",
   "execution_count": null,
   "id": "f1128248",
   "metadata": {},
   "outputs": [],
   "source": []
  }
 ],
 "metadata": {
  "kernelspec": {
   "display_name": "Python [conda env:base-data-science] *",
   "language": "python",
   "name": "conda-env-base-data-science-py"
  },
  "language_info": {
   "codemirror_mode": {
    "name": "ipython",
    "version": 3
   },
   "file_extension": ".py",
   "mimetype": "text/x-python",
   "name": "python",
   "nbconvert_exporter": "python",
   "pygments_lexer": "ipython3",
   "version": "3.9.7"
  }
 },
 "nbformat": 4,
 "nbformat_minor": 5
}
