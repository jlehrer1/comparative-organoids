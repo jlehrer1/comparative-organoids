{
 "cells": [
  {
   "cell_type": "markdown",
   "id": "964ffb0b",
   "metadata": {},
   "source": [
    "# PCA Data Visualization\n",
    "\n",
    "Here, we'll visualize the PCA data and the clusters found when clustering over the PCA data."
   ]
  },
  {
   "cell_type": "code",
   "execution_count": 4,
   "id": "9c1b35c5",
   "metadata": {},
   "outputs": [],
   "source": [
    "import pandas as pd \n",
    "import seaborn as sns\n",
    "import numpy as np\n",
    "import os "
   ]
  },
  {
   "cell_type": "code",
   "execution_count": 6,
   "id": "ae40089f",
   "metadata": {},
   "outputs": [
    {
     "name": "stdout",
     "output_type": "stream",
     "text": [
      "# label    3\n",
      "dtype: int64\n",
      "# label    3\n",
      "dtype: int64\n",
      "# label    1\n",
      "dtype: int64\n",
      "# label    1\n",
      "dtype: int64\n",
      "# label    3\n",
      "dtype: int64\n",
      "# label    3\n",
      "dtype: int64\n"
     ]
    }
   ],
   "source": [
    "pca_folder = '../data/processed/pca/'\n",
    "\n",
    "for f in os.listdir(pca_folder):\n",
    "    if f.startswith('primary'):\n",
    "        pca_labels = pd.read_csv(pca_folder+f)\n",
    "        print(pca_labels.nunique())"
   ]
  },
  {
   "cell_type": "markdown",
   "id": "4a2bba2d",
   "metadata": {},
   "source": [
    "So we see that there are only three distinct clusters when running HDBSCAN on the PCA data, which is not particularly interesting. "
   ]
  },
  {
   "cell_type": "code",
   "execution_count": null,
   "id": "726f2e4a",
   "metadata": {},
   "outputs": [],
   "source": []
  }
 ],
 "metadata": {
  "kernelspec": {
   "display_name": "Python [conda env:base-data-science] *",
   "language": "python",
   "name": "conda-env-base-data-science-py"
  },
  "language_info": {
   "codemirror_mode": {
    "name": "ipython",
    "version": 3
   },
   "file_extension": ".py",
   "mimetype": "text/x-python",
   "name": "python",
   "nbconvert_exporter": "python",
   "pygments_lexer": "ipython3",
   "version": "3.9.7"
  }
 },
 "nbformat": 4,
 "nbformat_minor": 5
}
