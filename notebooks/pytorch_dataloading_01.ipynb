{
 "cells": [
  {
   "cell_type": "markdown",
   "id": "7267866e",
   "metadata": {},
   "source": [
    "# Dataloading 01\n",
    "\n",
    "In this notebook, we'll figure out how to use PyTorch's DataLoader class to load our massive files without reading the entirety of them into memory"
   ]
  },
  {
   "cell_type": "code",
   "execution_count": 1,
   "id": "c111cd61",
   "metadata": {},
   "outputs": [
    {
     "data": {
      "text/plain": [
       "<torch._C.Generator at 0x7fe0e153de50>"
      ]
     },
     "execution_count": 1,
     "metadata": {},
     "output_type": "execute_result"
    }
   ],
   "source": [
    "import dask.dataframe as dd\n",
    "import pandas as pd \n",
    "import torch\n",
    "import linecache \n",
    "import csv\n",
    "import numpy as np\n",
    "import torch.nn as nn\n",
    "from torch.utils.data import Dataset, DataLoader\n",
    "torch.manual_seed(0)"
   ]
  },
  {
   "cell_type": "markdown",
   "id": "a75396dd",
   "metadata": {},
   "source": [
    "We'll first design a custom dataset to use with PyTorch's `DataLoader` class"
   ]
  },
  {
   "cell_type": "code",
   "execution_count": 70,
   "id": "9854304f",
   "metadata": {},
   "outputs": [],
   "source": [
    "class GeneExpressionData(Dataset):\n",
    "    def __init__(self, filename, labelname):\n",
    "        self._filename = filename\n",
    "        self._labelname = labelname\n",
    "        self._total_data = 0\n",
    "        \n",
    "        with open(filename, \"r\") as f:\n",
    "            self._total_data = len(f.readlines()) - 1\n",
    "    \n",
    "    def __getitem__(self, idx):\n",
    "        line = linecache.getline(self._filename, idx + 2)\n",
    "        label = linecache.getline(self._labelname, idx + 2)\n",
    "        \n",
    "        csv_data = csv.reader([line])\n",
    "        csv_label = csv.reader([label])\n",
    "        \n",
    "        data = [x for x in csv_data][0]\n",
    "        label = [x for x in csv_label][0]\n",
    "        \n",
    "        return torch.from_numpy(np.array([float(x) for x in data[1:]])).float(), [int(float(x)) for x in label][0]\n",
    "    \n",
    "    def __len__(self):\n",
    "        return self._total_data\n",
    "    \n",
    "    def num_labels(self):\n",
    "        return pd.read_csv(self._labelname)['# label'].nunique()\n",
    "    \n",
    "    def num_features(self):\n",
    "        return len(self.__getitem__(0)[0])\n",
    "    \n",
    "class CustomDataset2(Dataset):\n",
    "    def __init__(self, data, labels):\n",
    "        self.data = pd.read_csv(data)\n",
    "        self.labels = pd.read_csv(labels)\n",
    "        \n",
    "    def __getitem__(self, i):\n",
    "        return torch.from_numpy(self.data.iloc[i, :].values).float(), self.labels.iloc[i, :].values[0]\n",
    "    \n",
    "    def __len__(self):\n",
    "        return self.data.shape[0]\n",
    "    \n",
    "    def num_labels(self):\n",
    "        return self.labels['# label'].nunique()\n",
    "    \n",
    "    def num_features(self):\n",
    "        return len(self.__getitem__(0)[0])"
   ]
  },
  {
   "cell_type": "markdown",
   "id": "4d8b3611",
   "metadata": {},
   "source": [
    "Since PyTorch loss functions require classes in $[0, C]$, we'll first add $1$ to the labels and re-write it out so we can use it for training"
   ]
  },
  {
   "cell_type": "code",
   "execution_count": 71,
   "id": "21adce01",
   "metadata": {
    "scrolled": true
   },
   "outputs": [],
   "source": [
    "def fix_labels(file):\n",
    "    labels = pd.read_csv(file)\n",
    "    labels['# label'] = labels['# label'].astype(int) + 1\n",
    "    labels.to_csv('fixed_' + file.split('/')[-1], index=False)\n",
    "\n",
    "fix_labels('../data/processed/labels/primary_labels_neighbors_50_components_50_clust_size_100.csv')"
   ]
  },
  {
   "cell_type": "markdown",
   "id": "5a8eecf6",
   "metadata": {},
   "source": [
    "Great, we now continue as normal"
   ]
  },
  {
   "cell_type": "code",
   "execution_count": 72,
   "id": "de1c2186",
   "metadata": {},
   "outputs": [],
   "source": [
    "t = GeneExpressionData(\n",
    "    filename='../data/processed/pca/pca_components_100_primary.csv',\n",
    "    labelname='fixed_primary_labels_neighbors_50_components_50_clust_size_100.csv'\n",
    ")\n",
    "t2 = CustomDataset2(\n",
    "    '../data/processed/pca/pca_components_50_primary.csv',\n",
    "    'fixed_primary_labels_neighbors_50_components_50_clust_size_100.csv'\n",
    ")"
   ]
  },
  {
   "cell_type": "code",
   "execution_count": 74,
   "id": "59003a22",
   "metadata": {},
   "outputs": [
    {
     "data": {
      "text/plain": [
       "16"
      ]
     },
     "execution_count": 74,
     "metadata": {},
     "output_type": "execute_result"
    }
   ],
   "source": [
    "t2.num_labels()"
   ]
  },
  {
   "cell_type": "code",
   "execution_count": 75,
   "id": "ff25998e",
   "metadata": {},
   "outputs": [
    {
     "data": {
      "text/plain": [
       "(tensor([-1.3597e+00,  2.1595e-01,  2.9131e+00, -1.5263e+00, -1.3147e+00,\n",
       "         -8.7690e-01, -7.5645e-01,  2.6089e+00,  6.7652e-01,  6.7589e-01,\n",
       "          1.9877e-01, -6.4176e-01,  1.9006e+00, -5.0790e-01,  8.5522e-01,\n",
       "          4.5851e-01, -2.0374e-02, -8.0659e-01, -4.3794e-01, -7.1086e-01,\n",
       "         -1.5406e+00,  6.7969e-01, -2.2015e+00, -5.4034e-01,  2.3422e-01,\n",
       "          3.8402e-01, -9.5410e-01, -1.8976e-01,  7.4636e-01,  1.4714e+00,\n",
       "         -3.6774e-01, -1.0464e+00, -5.8961e-01,  2.1272e+00,  1.3821e-02,\n",
       "         -2.2644e-01, -2.0342e-01,  1.6462e+00, -1.5513e-01,  7.7032e-01,\n",
       "         -1.5469e+00,  5.9110e-01, -3.3212e-01,  3.3323e-01, -6.0824e-01,\n",
       "         -1.1824e-01, -7.9207e-01,  3.8812e-02, -9.4262e-01,  1.3539e+00,\n",
       "         -2.1229e-02,  7.1252e-01, -9.6122e-01,  1.5301e+00, -6.1528e-01,\n",
       "          2.8482e-01, -3.5894e-01, -5.0734e-02,  1.7886e-01, -1.8986e-03,\n",
       "          5.3039e-01, -7.2092e-01,  7.6054e-01, -1.8609e-01, -3.6199e-01,\n",
       "         -7.0708e-01, -2.3196e-01,  1.3053e+00, -1.4710e+00, -4.9402e-01,\n",
       "          9.0699e-01,  1.5122e+00, -9.4581e-01,  1.1927e+00,  3.4721e-01,\n",
       "         -4.6249e-01,  4.0214e-02, -7.2612e-01, -6.7945e-01, -8.7512e-01,\n",
       "         -1.3001e-01,  5.5213e-01, -1.1703e+00, -1.4226e+00, -8.6354e-02,\n",
       "         -1.2122e+00,  2.8556e-02,  1.0252e+00, -1.2354e-01,  1.0020e+00,\n",
       "         -9.0699e-01,  7.1112e-01,  4.5015e-01, -2.7568e-01, -1.1196e+00,\n",
       "         -6.6233e-02,  1.5248e-01, -9.4111e-01, -1.0566e+00]),\n",
       " 3)"
      ]
     },
     "execution_count": 75,
     "metadata": {},
     "output_type": "execute_result"
    }
   ],
   "source": [
    "t.__getitem__(3)"
   ]
  },
  {
   "cell_type": "markdown",
   "id": "7e449b7b",
   "metadata": {},
   "source": [
    "Let's see how fast it takes to load a minibatch of data"
   ]
  },
  {
   "cell_type": "code",
   "execution_count": 76,
   "id": "372f593c",
   "metadata": {},
   "outputs": [
    {
     "name": "stdout",
     "output_type": "stream",
     "text": [
      "CPU times: user 13.2 ms, sys: 2.69 ms, total: 15.9 ms\n",
      "Wall time: 15.4 ms\n"
     ]
    }
   ],
   "source": [
    "%%time \n",
    "\n",
    "for i in range(64):\n",
    "    t.__getitem__(i)"
   ]
  },
  {
   "cell_type": "markdown",
   "id": "c8092856",
   "metadata": {},
   "source": [
    "Before we train our model, we need to split our data into training and testing sets, in order to get an unbiased evaluation of our model's performance. Likely, we will initially overfit the training set since we provide no regularization."
   ]
  },
  {
   "cell_type": "code",
   "execution_count": 78,
   "id": "78575cc8",
   "metadata": {},
   "outputs": [],
   "source": [
    "train_size = int(0.8 * len(t))\n",
    "test_size = len(t) - train_size\n",
    "\n",
    "train, test = torch.utils.data.random_split(t2, [train_size, test_size])"
   ]
  },
  {
   "cell_type": "code",
   "execution_count": 88,
   "id": "d216d1b6",
   "metadata": {},
   "outputs": [],
   "source": [
    "traindata = DataLoader(train, batch_size = 64, num_workers = 0)\n",
    "valdata = DataLoader(test, batch_size = 64, num_workers = 0)"
   ]
  },
  {
   "cell_type": "markdown",
   "id": "6695113b",
   "metadata": {},
   "source": [
    "Now that we've defined our `DataLoader`, let's test it when training a simple Neural Network"
   ]
  },
  {
   "cell_type": "code",
   "execution_count": 89,
   "id": "021a73e8",
   "metadata": {},
   "outputs": [],
   "source": [
    "class NN(nn.Module):\n",
    "    def __init__(self, N_features, N_labels):\n",
    "        super().__init__()\n",
    "        \n",
    "        self.flatten = nn.Flatten()\n",
    "        self.linear_relu_stack = nn.Sequential(\n",
    "            nn.Linear(N_features, 512),\n",
    "            nn.ReLU(),\n",
    "            nn.Linear(512, 512),\n",
    "            nn.ReLU(),\n",
    "            nn.Linear(512, N_labels),\n",
    "        )\n",
    "        \n",
    "    def forward(self, x):\n",
    "        x = self.flatten(x)\n",
    "        logits = self.linear_relu_stack(x)\n",
    "        return logits"
   ]
  },
  {
   "cell_type": "code",
   "execution_count": 90,
   "id": "88f01656",
   "metadata": {},
   "outputs": [],
   "source": [
    "model = NN(\n",
    "    N_features=t2.num_features(),\n",
    "    N_labels=t2.num_labels()\n",
    ")"
   ]
  },
  {
   "cell_type": "markdown",
   "id": "1e49a68a",
   "metadata": {},
   "source": [
    "Now we can define our criterion, optimization method and train our model on our dataset"
   ]
  },
  {
   "cell_type": "code",
   "execution_count": 91,
   "id": "4588c153",
   "metadata": {},
   "outputs": [],
   "source": [
    "criterion = nn.CrossEntropyLoss()\n",
    "optimizer = torch.optim.SGD(model.parameters(), lr = 0.01)\n",
    "loss_arr = []"
   ]
  },
  {
   "cell_type": "markdown",
   "id": "4159fe20",
   "metadata": {},
   "source": [
    "And finally train our model"
   ]
  },
  {
   "cell_type": "code",
   "execution_count": 92,
   "id": "7e3994b0",
   "metadata": {
    "scrolled": true
   },
   "outputs": [],
   "source": [
    "from ignite.engine import Events, create_supervised_trainer, create_supervised_evaluator\n",
    "from ignite.metrics import Precision, Recall, Loss\n",
    "\n",
    "# model = NN()\n",
    "optimizer = torch.optim.Adam(model.parameters(), lr=0.01)\n",
    "criterion = nn.CrossEntropyLoss()\n",
    "\n",
    "trainer = create_supervised_trainer(model, optimizer, criterion)\n",
    "\n",
    "val_metrics = {\n",
    "    \"precision\": Precision(),\n",
    "    \"recall\": Recall(),\n",
    "    \"crossentropy\": Loss(criterion)\n",
    "}\n",
    "\n",
    "evaluator = create_supervised_evaluator(model, metrics=val_metrics)\n",
    "\n",
    "log_interval = 1\n",
    "\n",
    "@trainer.on(Events.EPOCH_COMPLETED)\n",
    "def log_training_results(trainer):\n",
    "    evaluator.run(traindata)\n",
    "    metrics = evaluator.state.metrics\n",
    "    print(\n",
    "        f\"Training Results - Epoch: {trainer.state.epoch}\\\n",
    "        Avg recall: {metrics['recall']} \\\n",
    "        Avg precision: {metrics['precision']} \\\n",
    "        Avg loss: {metrics['crossentropy']}\"\n",
    "    )"
   ]
  },
  {
   "cell_type": "code",
   "execution_count": null,
   "id": "78718088",
   "metadata": {},
   "outputs": [
    {
     "name": "stdout",
     "output_type": "stream",
     "text": [
      "Training Results - Epoch: 1        Avg recall: tensor([0.1636, 0.9152, 0.5818, 0.5511, 0.5631, 0.0000, 0.0000, 0.0000, 0.4562,\n",
      "        0.1930, 0.1135, 0.4007, 0.6225, 0.0000, 0.0558, 0.3065],\n",
      "       dtype=torch.float64)         Avg precision: tensor([0.4611, 0.8030, 0.8533, 0.5541, 0.3985, 0.0000, 0.0000, 0.0000, 0.4155,\n",
      "        0.2575, 0.2576, 0.3353, 0.3574, 0.0000, 0.6388, 0.3890],\n",
      "       dtype=torch.float64)         Avg loss: 1.6443173081365037\n",
      "Training Results - Epoch: 2        Avg recall: tensor([0.1375, 0.9206, 0.4864, 0.5456, 0.5334, 0.0000, 0.0000, 0.0000, 0.4143,\n",
      "        0.2775, 0.1424, 0.3932, 0.6597, 0.0043, 0.1739, 0.3389],\n",
      "       dtype=torch.float64)         Avg precision: tensor([0.4699, 0.7940, 0.9554, 0.5507, 0.4284, 0.0000, 0.0000, 0.0000, 0.4336,\n",
      "        0.2483, 0.2588, 0.3575, 0.3957, 0.6000, 0.5028, 0.4044],\n",
      "       dtype=torch.float64)         Avg loss: 1.6164747041781333\n",
      "Training Results - Epoch: 3        Avg recall: tensor([0.1826, 0.9251, 0.7091, 0.5515, 0.5354, 0.0000, 0.0000, 0.0000, 0.4393,\n",
      "        0.2120, 0.1374, 0.4574, 0.6616, 0.0014, 0.1861, 0.2934],\n",
      "       dtype=torch.float64)         Avg precision: tensor([0.4471, 0.8060, 0.7123, 0.5715, 0.4418, 0.0000, 0.0000, 0.0000, 0.4389,\n",
      "        0.2360, 0.2764, 0.3559, 0.3860, 1.0000, 0.4961, 0.4288],\n",
      "       dtype=torch.float64)         Avg loss: 1.5972092638605662\n",
      "Training Results - Epoch: 4        Avg recall: tensor([0.1588, 0.9042, 0.6455, 0.5814, 0.5495, 0.0000, 0.0000, 0.0000, 0.4450,\n",
      "        0.2353, 0.1236, 0.4135, 0.6721, 0.0000, 0.2010, 0.3374],\n",
      "       dtype=torch.float64)         Avg precision: tensor([0.5019, 0.8431, 0.8208, 0.5460, 0.4386, 0.0000, 0.0000, 0.0000, 0.4430,\n",
      "        0.2357, 0.2970, 0.3686, 0.3900, 0.0000, 0.4809, 0.4295],\n",
      "       dtype=torch.float64)         Avg loss: 1.5890802464247296\n",
      "Training Results - Epoch: 5        Avg recall: tensor([0.1883, 0.9011, 0.6955, 0.5738, 0.5474, 0.0000, 0.0000, 0.0225, 0.4489,\n",
      "        0.1790, 0.1146, 0.4521, 0.6902, 0.0000, 0.2278, 0.2893],\n",
      "       dtype=torch.float64)         Avg precision: tensor([0.4525, 0.8297, 0.8010, 0.5555, 0.4412, 0.0000, 0.0000, 0.1538, 0.4348,\n",
      "        0.2194, 0.2823, 0.3672, 0.3869, 0.0000, 0.4717, 0.4415],\n",
      "       dtype=torch.float64)         Avg loss: 1.5827116413246485\n",
      "Training Results - Epoch: 6        Avg recall: tensor([0.2000, 0.9132, 0.5409, 0.5709, 0.5169, 0.0000, 0.0000, 0.0000, 0.4331,\n",
      "        0.2374, 0.1359, 0.4160, 0.6380, 0.0000, 0.1379, 0.4102],\n",
      "       dtype=torch.float64)         Avg precision: tensor([0.4652, 0.8432, 0.9520, 0.5854, 0.4635, 0.0000, 0.0000, 0.0000, 0.4239,\n",
      "        0.2272, 0.2746, 0.3778, 0.4055, 0.0000, 0.5234, 0.4307],\n",
      "       dtype=torch.float64)         Avg loss: 1.5745180726867158\n",
      "Training Results - Epoch: 7        Avg recall: tensor([0.1868, 0.9154, 0.7409, 0.5727, 0.5360, 0.0000, 0.0000, 0.0000, 0.4730,\n",
      "        0.1936, 0.1202, 0.4171, 0.6554, 0.0000, 0.1655, 0.3641],\n",
      "       dtype=torch.float64)         Avg precision: tensor([0.4468, 0.8610, 0.6966, 0.5825, 0.4566, 0.0000, 0.0000, 0.0000, 0.4242,\n",
      "        0.2108, 0.3017, 0.3807, 0.3820, 0.0000, 0.5284, 0.4519],\n",
      "       dtype=torch.float64)         Avg loss: 1.5750961462313646\n"
     ]
    }
   ],
   "source": [
    "trainer.run(traindata, max_epochs=10)"
   ]
  },
  {
   "cell_type": "code",
   "execution_count": null,
   "id": "39e498da",
   "metadata": {},
   "outputs": [],
   "source": []
  },
  {
   "cell_type": "code",
   "execution_count": null,
   "id": "b5adfef9",
   "metadata": {},
   "outputs": [],
   "source": []
  }
 ],
 "metadata": {
  "kernelspec": {
   "display_name": "Python [conda env:base-data-science]",
   "language": "python",
   "name": "conda-env-base-data-science-py"
  },
  "language_info": {
   "codemirror_mode": {
    "name": "ipython",
    "version": 3
   },
   "file_extension": ".py",
   "mimetype": "text/x-python",
   "name": "python",
   "nbconvert_exporter": "python",
   "pygments_lexer": "ipython3",
   "version": "3.9.7"
  }
 },
 "nbformat": 4,
 "nbformat_minor": 5
}
