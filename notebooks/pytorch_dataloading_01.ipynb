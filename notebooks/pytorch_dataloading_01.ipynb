{
 "cells": [
  {
   "cell_type": "markdown",
   "id": "7267866e",
   "metadata": {},
   "source": [
    "# Dataloading 01\n",
    "\n",
    "In this notebook, we'll figure out how to use PyTorch's DataLoader class to load our massive files without reading the entirety of them into memory"
   ]
  },
  {
   "cell_type": "code",
   "execution_count": 31,
   "id": "c111cd61",
   "metadata": {},
   "outputs": [],
   "source": [
    "import comet_ml\n",
    "import dask.dataframe as dd\n",
    "import pandas as pd \n",
    "import torch\n",
    "import linecache \n",
    "import csv\n",
    "import numpy as np\n",
    "import torch.nn as nn\n",
    "from torch.utils.data import Dataset, DataLoader\n",
    "import pytorch_lightning as pl\n",
    "from pytorch_lightning.loggers import CometLogger\n",
    "import torch.nn.functional as F\n",
    "import sys, os\n",
    "from pathlib import Path\n",
    "import plotly.express as px \n",
    "from sklearn.utils.class_weight import compute_class_weight\n",
    "import torch\n",
    "\n",
    "sys.path.append('../src')\n",
    "sys.path.append('../src/models/lib')\n",
    "here = Path().cwd()"
   ]
  },
  {
   "cell_type": "markdown",
   "id": "a75396dd",
   "metadata": {},
   "source": [
    "We'll first design a custom dataset to use with PyTorch's `DataLoader` class"
   ]
  },
  {
   "cell_type": "code",
   "execution_count": 32,
   "id": "77a65169",
   "metadata": {},
   "outputs": [],
   "source": [
    "from models.lib.neural import *\n",
    "from models.lib.data import *"
   ]
  },
  {
   "cell_type": "code",
   "execution_count": 33,
   "id": "944094c0",
   "metadata": {},
   "outputs": [],
   "source": [
    "datafiles = ['../data/processed/primary.csv']\n",
    "labelfiles = ['../data/processed/meta_primary_labels.csv']\n",
    "\n",
    "train, test, insize, outsize, weights = \\\n",
    "    generate_datasets(datafiles, labelfiles, class_label='Type', stratified=True)"
   ]
  },
  {
   "cell_type": "code",
   "execution_count": 34,
   "id": "2e97621e",
   "metadata": {},
   "outputs": [
    {
     "data": {
      "text/plain": [
       "(151527, 37882)"
      ]
     },
     "execution_count": 34,
     "metadata": {},
     "output_type": "execute_result"
    }
   ],
   "source": [
    "len(train), len(test)"
   ]
  },
  {
   "cell_type": "code",
   "execution_count": 35,
   "id": "88d36146",
   "metadata": {},
   "outputs": [
    {
     "data": {
      "text/plain": [
       "tensor([69.8926,  0.1540,  4.9032,  0.9191,  4.1998, 52.1788, 10.0323,  6.4579,\n",
       "         0.6407,  7.7278])"
      ]
     },
     "execution_count": 35,
     "metadata": {},
     "output_type": "execute_result"
    }
   ],
   "source": [
    "weights"
   ]
  },
  {
   "cell_type": "code",
   "execution_count": 36,
   "id": "dc424a01",
   "metadata": {},
   "outputs": [],
   "source": [
    "model = GeneClassifier(N_features=insize, N_labels=outsize)\n",
    "\n",
    "train = DataLoader(train, num_workers=0, batch_size=4)\n",
    "val = DataLoader(test, num_workers=0, batch_size=4)"
   ]
  },
  {
   "cell_type": "code",
   "execution_count": 37,
   "id": "a66c745d",
   "metadata": {
    "scrolled": true
   },
   "outputs": [],
   "source": [
    "X, y = next(iter(train))"
   ]
  },
  {
   "cell_type": "code",
   "execution_count": 38,
   "id": "1ba870cc",
   "metadata": {},
   "outputs": [
    {
     "data": {
      "text/plain": [
       "tensor([[-0.6798,  0.3413, -0.3399,  1.3097,  0.2905,  0.0935, -0.0018, -0.8892,\n",
       "          0.8596, -0.2144],\n",
       "        [ 0.5010, -1.2067,  0.3861, -0.0619, -1.3026, -0.9374, -0.3402, -0.1631,\n",
       "          0.2862, -0.1166],\n",
       "        [ 0.4340,  0.5259, -0.2140, -0.5265, -0.2789,  0.4569,  0.8034,  0.8394,\n",
       "         -0.7086,  0.1767],\n",
       "        [-0.1738,  0.3566,  0.1026, -0.6650,  1.2814,  0.4737, -0.4216,  0.1999,\n",
       "         -0.3543,  0.1748]], grad_fn=<AddmmBackward0>)"
      ]
     },
     "execution_count": 38,
     "metadata": {},
     "output_type": "execute_result"
    }
   ],
   "source": [
    "model(X)"
   ]
  },
  {
   "cell_type": "code",
   "execution_count": null,
   "id": "598c2954",
   "metadata": {
    "scrolled": true
   },
   "outputs": [
    {
     "name": "stderr",
     "output_type": "stream",
     "text": [
      "CometLogger will be initialized in online mode\n",
      "GPU available: False, used: False\n",
      "TPU available: False, using: 0 TPU cores\n",
      "IPU available: False, using: 0 IPUs\n",
      "COMET WARNING: As you are running in a Jupyter environment, you will need to call `experiment.end()` when finished to ensure all metrics and code are logged before exiting.\n",
      "COMET INFO: Experiment is live on comet.ml https://www.comet.ml/jlehrer1/cell-classifier-test/6ef0cb33786a4a78bcdb252b2ca35526\n",
      "\n",
      "COMET WARNING: Empty mapping given to log_params({}); ignoring\n",
      "\n",
      "  | Name              | Type       | Params\n",
      "-------------------------------------------------\n",
      "0 | flatten           | Flatten    | 0     \n",
      "1 | linear_relu_stack | Sequential | 17.8 M\n",
      "-------------------------------------------------\n",
      "17.8 M    Trainable params\n",
      "0         Non-trainable params\n",
      "17.8 M    Total params\n",
      "71.094    Total estimated model params size (MB)\n"
     ]
    },
    {
     "data": {
      "application/vnd.jupyter.widget-view+json": {
       "model_id": "",
       "version_major": 2,
       "version_minor": 0
      },
      "text/plain": [
       "Validation sanity check: 0it [00:00, ?it/s]"
      ]
     },
     "metadata": {},
     "output_type": "display_data"
    },
    {
     "name": "stderr",
     "output_type": "stream",
     "text": [
      "/Users/julian/miniconda3/envs/base-data-science/lib/python3.9/site-packages/pytorch_lightning/trainer/data_loading.py:111: UserWarning: The dataloader, val_dataloader 0, does not have many workers which may be a bottleneck. Consider increasing the value of the `num_workers` argument` (try 10 which is the number of cpus on this machine) in the `DataLoader` init to improve performance.\n",
      "  rank_zero_warn(\n",
      "/Users/julian/miniconda3/envs/base-data-science/lib/python3.9/site-packages/pytorch_lightning/trainer/data_loading.py:111: UserWarning: The dataloader, train_dataloader, does not have many workers which may be a bottleneck. Consider increasing the value of the `num_workers` argument` (try 10 which is the number of cpus on this machine) in the `DataLoader` init to improve performance.\n",
      "  rank_zero_warn(\n"
     ]
    },
    {
     "data": {
      "application/vnd.jupyter.widget-view+json": {
       "model_id": "44c3711553ea488cab4d0fb453269d85",
       "version_major": 2,
       "version_minor": 0
      },
      "text/plain": [
       "Training: 0it [00:00, ?it/s]"
      ]
     },
     "metadata": {},
     "output_type": "display_data"
    }
   ],
   "source": [
    "comet_logger = CometLogger(\n",
    "    api_key=\"neMNyjJuhw25ao48JEWlJpKRR\",\n",
    "    project_name=f\"cell-classifier-test\",  # Optional\n",
    "    workspace=\"jlehrer1\",\n",
    ")\n",
    "\n",
    "trainer = pl.Trainer(logger=comet_logger)\n",
    "\n",
    "trainer.fit(model, train, val)"
   ]
  },
  {
   "cell_type": "code",
   "execution_count": null,
   "id": "f29cc078",
   "metadata": {},
   "outputs": [],
   "source": [
    "model(X)"
   ]
  },
  {
   "cell_type": "code",
   "execution_count": null,
   "id": "0b31413a",
   "metadata": {},
   "outputs": [],
   "source": [
    "%%time\n",
    "calc_accuracy(model, X, y)"
   ]
  },
  {
   "cell_type": "code",
   "execution_count": null,
   "id": "b428303b",
   "metadata": {},
   "outputs": [],
   "source": [
    "from torchmetrics import Accuracy"
   ]
  },
  {
   "cell_type": "code",
   "execution_count": null,
   "id": "f950598c",
   "metadata": {},
   "outputs": [],
   "source": [
    "acc = Accuracy()\n"
   ]
  },
  {
   "cell_type": "code",
   "execution_count": null,
   "id": "0e9b1572",
   "metadata": {},
   "outputs": [],
   "source": [
    "%%time\n",
    "acc(model(X), y)"
   ]
  },
  {
   "cell_type": "code",
   "execution_count": null,
   "id": "fed872f1",
   "metadata": {},
   "outputs": [],
   "source": [
    "acc(model(X).softmax(), y)"
   ]
  },
  {
   "cell_type": "code",
   "execution_count": null,
   "id": "3a2fd7fb",
   "metadata": {},
   "outputs": [],
   "source": [
    "y_hat = model(X)\n",
    "y_hat = y_hat.softmax(dim=-1)"
   ]
  },
  {
   "cell_type": "code",
   "execution_count": null,
   "id": "ac790efb",
   "metadata": {},
   "outputs": [],
   "source": [
    "acc(y_hat, y)"
   ]
  },
  {
   "cell_type": "code",
   "execution_count": null,
   "id": "4bf71d34",
   "metadata": {},
   "outputs": [],
   "source": [
    "calc_accuracy(model, X, y)"
   ]
  },
  {
   "cell_type": "code",
   "execution_count": null,
   "id": "449ab5e0",
   "metadata": {},
   "outputs": [],
   "source": [
    "X2, y2 = (next(iter(data)))"
   ]
  },
  {
   "cell_type": "code",
   "execution_count": null,
   "id": "ea80f283",
   "metadata": {},
   "outputs": [],
   "source": [
    "data = iter(data)"
   ]
  },
  {
   "cell_type": "code",
   "execution_count": null,
   "id": "681bf4d2",
   "metadata": {},
   "outputs": [],
   "source": [
    "data"
   ]
  },
  {
   "cell_type": "code",
   "execution_count": null,
   "id": "ce28e6cf",
   "metadata": {},
   "outputs": [],
   "source": [
    "from torchmetrics import Accuracy, Precision, Recall\n",
    "\n",
    "acc = Accuracy()\n",
    "prec = Precision()\n",
    "rec = Recall()"
   ]
  },
  {
   "cell_type": "code",
   "execution_count": null,
   "id": "ceb14d69",
   "metadata": {},
   "outputs": [],
   "source": [
    "acc(model(X), y)"
   ]
  },
  {
   "cell_type": "code",
   "execution_count": null,
   "id": "eac91bfd",
   "metadata": {},
   "outputs": [],
   "source": [
    "prec(model(X), y)"
   ]
  },
  {
   "cell_type": "code",
   "execution_count": null,
   "id": "823ddca4",
   "metadata": {},
   "outputs": [],
   "source": [
    "rec(model(X), y)"
   ]
  },
  {
   "cell_type": "code",
   "execution_count": null,
   "id": "485ae8bc",
   "metadata": {},
   "outputs": [],
   "source": []
  }
 ],
 "metadata": {
  "kernelspec": {
   "display_name": "Python [conda env:base-data-science] *",
   "language": "python",
   "name": "conda-env-base-data-science-py"
  },
  "language_info": {
   "codemirror_mode": {
    "name": "ipython",
    "version": 3
   },
   "file_extension": ".py",
   "mimetype": "text/x-python",
   "name": "python",
   "nbconvert_exporter": "python",
   "pygments_lexer": "ipython3",
   "version": "3.9.7"
  }
 },
 "nbformat": 4,
 "nbformat_minor": 5
}
