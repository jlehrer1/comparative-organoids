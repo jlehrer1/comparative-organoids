{
 "cells": [
  {
   "cell_type": "markdown",
   "id": "7267866e",
   "metadata": {},
   "source": [
    "# Dataloading 01\n",
    "\n",
    "In this notebook, we'll figure out how to use PyTorch's DataLoader class to load our massive files without reading the entirety of them into memory"
   ]
  },
  {
   "cell_type": "code",
   "execution_count": 17,
   "id": "c111cd61",
   "metadata": {},
   "outputs": [],
   "source": [
    "import comet_ml\n",
    "import dask.dataframe as dd\n",
    "import pandas as pd \n",
    "import torch\n",
    "import linecache \n",
    "import csv\n",
    "import numpy as np\n",
    "import torch.nn as nn\n",
    "from torch.utils.data import Dataset, DataLoader\n",
    "import pytorch_lightning as pl\n",
    "from pytorch_lightning.loggers import CometLogger\n",
    "import torch.nn.functional as F\n",
    "import sys, os\n",
    "from pathlib import Path\n",
    "import plotly.express as px \n",
    "from sklearn.utils.class_weight import compute_class_weight\n",
    "import torch\n",
    "\n",
    "sys.path.append('../src')\n",
    "sys.path.append('../src/models/lib')\n",
    "here = Path().cwd()"
   ]
  },
  {
   "cell_type": "markdown",
   "id": "a75396dd",
   "metadata": {},
   "source": [
    "We'll first design a custom dataset to use with PyTorch's `DataLoader` class"
   ]
  },
  {
   "cell_type": "code",
   "execution_count": 18,
   "id": "77a65169",
   "metadata": {},
   "outputs": [],
   "source": [
    "from models.lib.neural import *\n",
    "from models.lib.data import *"
   ]
  },
  {
   "cell_type": "code",
   "execution_count": 19,
   "id": "944094c0",
   "metadata": {},
   "outputs": [],
   "source": [
    "datafiles = ['../data/processed/primary.csv']\n",
    "labelfiles = ['../data/processed/meta_primary_labels.csv']\n",
    "\n",
    "train, test, insize, outsize, weights = \\\n",
    "    generate_datasets(datafiles, labelfiles, class_label='Type', stratified=True)"
   ]
  },
  {
   "cell_type": "code",
   "execution_count": 20,
   "id": "2e97621e",
   "metadata": {},
   "outputs": [
    {
     "data": {
      "text/plain": [
       "(151527, 37882)"
      ]
     },
     "execution_count": 20,
     "metadata": {},
     "output_type": "execute_result"
    }
   ],
   "source": [
    "len(train), len(test)"
   ]
  },
  {
   "cell_type": "code",
   "execution_count": 21,
   "id": "5597dc1a",
   "metadata": {},
   "outputs": [
    {
     "data": {
      "text/plain": [
       "tensor([69.8926,  0.1540,  4.9032,  0.9191,  4.1998, 52.1788, 10.0323,  6.4579,\n",
       "         0.6407,  7.7278])"
      ]
     },
     "execution_count": 21,
     "metadata": {},
     "output_type": "execute_result"
    }
   ],
   "source": [
    "weights"
   ]
  },
  {
   "cell_type": "code",
   "execution_count": 22,
   "id": "99a8b4ea",
   "metadata": {},
   "outputs": [],
   "source": [
    "model = GeneClassifier(\n",
    "    N_features=insize, \n",
    "    N_labels=outsize,\n",
    "    params={\n",
    "            'width': 1024,\n",
    "            'layers': 2,\n",
    "            'lr': 0.001,\n",
    "            'momentum': 0,\n",
    "            'weight_decay': 0.001\n",
    "        },\n",
    "    weighted_metrics=False\n",
    ")\n",
    "\n",
    "train = DataLoader(train, num_workers=0, batch_size=4)\n",
    "val = DataLoader(test, num_workers=0, batch_size=4)"
   ]
  },
  {
   "cell_type": "code",
   "execution_count": 23,
   "id": "1305755d",
   "metadata": {
    "scrolled": true
   },
   "outputs": [],
   "source": [
    "X, y = next(iter(train))"
   ]
  },
  {
   "cell_type": "code",
   "execution_count": 24,
   "id": "d5118687",
   "metadata": {},
   "outputs": [
    {
     "data": {
      "text/plain": [
       "tensor([[ 1.1333, -0.3828,  0.3608, -0.2938,  0.0883, -0.2186, -0.9397,  0.4611,\n",
       "         -0.5906, -1.0151],\n",
       "        [-0.6193, -0.0089,  0.2923, -0.4239,  0.0032, -0.7708, -0.0876,  0.2213,\n",
       "         -0.2629,  0.1882],\n",
       "        [ 0.0157, -0.5066,  0.1053,  0.8745, -0.7001,  0.6816,  1.2412, -0.6100,\n",
       "          0.6397,  0.5132],\n",
       "        [-0.4325,  0.8261, -0.6382, -0.1817,  0.5566,  0.1977, -0.1216, -0.0543,\n",
       "          0.2404,  0.2682]], grad_fn=<AddmmBackward0>)"
      ]
     },
     "execution_count": 24,
     "metadata": {},
     "output_type": "execute_result"
    }
   ],
   "source": [
    "model(X)"
   ]
  },
  {
   "cell_type": "code",
   "execution_count": null,
   "id": "04b09083",
   "metadata": {
    "scrolled": true
   },
   "outputs": [
    {
     "name": "stderr",
     "output_type": "stream",
     "text": [
      "CometLogger will be initialized in online mode\n",
      "GPU available: False, used: False\n",
      "TPU available: False, using: 0 TPU cores\n",
      "IPU available: False, using: 0 IPUs\n",
      "COMET INFO: ---------------------------\n",
      "COMET INFO: Comet.ml Experiment Summary\n",
      "COMET INFO: ---------------------------\n",
      "COMET INFO:   Data:\n",
      "COMET INFO:     display_summary_level : 1\n",
      "COMET INFO:     url                   : https://www.comet.ml/jlehrer1/cell-classifier-test/34583fb80d68490bbf89204ecd2d6b3f\n",
      "COMET INFO:   Metrics [count] (min, max):\n",
      "COMET INFO:     loss [7897]                  : (0.00540797458961606, 6.022818565368652)\n",
      "COMET INFO:     train_loss_epoch [2]         : (0.3755848705768585, 0.5826876759529114)\n",
      "COMET INFO:     train_loss_step [1579]       : (0.009096709080040455, 6.052515029907227)\n",
      "COMET INFO:     val_loss_epoch [2]           : (2.7649288177490234, 7.088824272155762)\n",
      "COMET INFO:     val_loss_step [18942]        : (0.2742463946342468, 16.88737678527832)\n",
      "COMET INFO:     weighted_train_accuracy [2]  : (0.8332706093788147, 0.8830703496932983)\n",
      "COMET INFO:     weighted_train_precision [2] : (0.8585802316665649, 0.8930545449256897)\n",
      "COMET INFO:     weighted_train_recall [2]    : (0.8332706093788147, 0.8830703496932983)\n",
      "COMET INFO:     weighted_val_accuracy [2]    : (0.0702708438038826, 0.19655773043632507)\n",
      "COMET INFO:     weighted_val_precision [2]   : (0.06527726352214813, 0.323442280292511)\n",
      "COMET INFO:     weighted_val_recall [2]      : (0.0702708438038826, 0.19655773043632507)\n",
      "COMET INFO:   Parameters:\n",
      "COMET INFO:      : 0.001\n",
      "COMET INFO:   Uploads:\n",
      "COMET INFO:     environment details      : 1\n",
      "COMET INFO:     filename                 : 1\n",
      "COMET INFO:     git metadata             : 1\n",
      "COMET INFO:     git-patch (uncompressed) : 1 (22.69 KB)\n",
      "COMET INFO:     installed packages       : 1\n",
      "COMET INFO:     model graph              : 1\n",
      "COMET INFO:     notebook                 : 1\n",
      "COMET INFO:     source_code              : 1\n",
      "COMET INFO: ---------------------------\n",
      "COMET WARNING: As you are running in a Jupyter environment, you will need to call `experiment.end()` when finished to ensure all metrics and code are logged before exiting.\n",
      "COMET INFO: Experiment is live on comet.ml https://www.comet.ml/jlehrer1/cell-classifier-test/9e82138e24ce4d04bfead95d973f87ea\n",
      "\n",
      "\n",
      "  | Name              | Type       | Params\n",
      "-------------------------------------------------\n",
      "0 | flatten           | Flatten    | 0     \n",
      "1 | linear_relu_stack | Sequential | 17.8 M\n",
      "-------------------------------------------------\n",
      "17.8 M    Trainable params\n",
      "0         Non-trainable params\n",
      "17.8 M    Total params\n",
      "71.094    Total estimated model params size (MB)\n"
     ]
    },
    {
     "data": {
      "application/vnd.jupyter.widget-view+json": {
       "model_id": "",
       "version_major": 2,
       "version_minor": 0
      },
      "text/plain": [
       "Validation sanity check: 0it [00:00, ?it/s]"
      ]
     },
     "metadata": {},
     "output_type": "display_data"
    },
    {
     "name": "stderr",
     "output_type": "stream",
     "text": [
      "/Users/julian/miniconda3/envs/base-data-science/lib/python3.9/site-packages/pytorch_lightning/trainer/data_loading.py:111: UserWarning: The dataloader, val_dataloader 0, does not have many workers which may be a bottleneck. Consider increasing the value of the `num_workers` argument` (try 10 which is the number of cpus on this machine) in the `DataLoader` init to improve performance.\n",
      "  rank_zero_warn(\n",
      "/Users/julian/miniconda3/envs/base-data-science/lib/python3.9/site-packages/pytorch_lightning/trainer/data_loading.py:111: UserWarning: The dataloader, train_dataloader, does not have many workers which may be a bottleneck. Consider increasing the value of the `num_workers` argument` (try 10 which is the number of cpus on this machine) in the `DataLoader` init to improve performance.\n",
      "  rank_zero_warn(\n"
     ]
    },
    {
     "data": {
      "application/vnd.jupyter.widget-view+json": {
       "model_id": "2ba839c2c3024406b8622618d2e8099f",
       "version_major": 2,
       "version_minor": 0
      },
      "text/plain": [
       "Training: 0it [00:00, ?it/s]"
      ]
     },
     "metadata": {},
     "output_type": "display_data"
    },
    {
     "data": {
      "application/vnd.jupyter.widget-view+json": {
       "model_id": "",
       "version_major": 2,
       "version_minor": 0
      },
      "text/plain": [
       "Validating: 0it [00:00, ?it/s]"
      ]
     },
     "metadata": {},
     "output_type": "display_data"
    },
    {
     "data": {
      "application/vnd.jupyter.widget-view+json": {
       "model_id": "",
       "version_major": 2,
       "version_minor": 0
      },
      "text/plain": [
       "Validating: 0it [00:00, ?it/s]"
      ]
     },
     "metadata": {},
     "output_type": "display_data"
    },
    {
     "data": {
      "application/vnd.jupyter.widget-view+json": {
       "model_id": "4455d60047e94efca5e84b3ea3647e90",
       "version_major": 2,
       "version_minor": 0
      },
      "text/plain": [
       "Validating: 0it [00:00, ?it/s]"
      ]
     },
     "metadata": {},
     "output_type": "display_data"
    }
   ],
   "source": [
    "comet_logger = CometLogger(\n",
    "    api_key=\"neMNyjJuhw25ao48JEWlJpKRR\",\n",
    "    project_name=f\"cell-classifier-test\",  # Optional\n",
    "    workspace=\"jlehrer1\",\n",
    ")\n",
    "\n",
    "trainer = pl.Trainer(logger=comet_logger)\n",
    "\n",
    "trainer.fit(model, train, val)"
   ]
  },
  {
   "cell_type": "code",
   "execution_count": 10,
   "id": "8cf019ce",
   "metadata": {},
   "outputs": [
    {
     "data": {
      "text/plain": [
       "tensor([[-1.3049,  8.9003, -1.7906,  2.1041,  1.8243, -1.7744, -0.8112, -1.2819,\n",
       "         -3.3153,  0.5295],\n",
       "        [-2.4705,  8.2906, -4.4748,  3.8690, -0.3931, -1.9528, -3.9667, -1.1073,\n",
       "         -1.6483,  0.9394],\n",
       "        [-2.1421,  5.5030, -4.0730,  2.5152,  1.1927, -1.7682, -1.0582, -0.1848,\n",
       "         -1.1301, -0.0446],\n",
       "        [-0.0874, -0.7812,  5.4952, -2.9307, -3.8575, -0.1813,  0.5236, -1.7776,\n",
       "          8.6499, -4.1772]], grad_fn=<AddmmBackward0>)"
      ]
     },
     "execution_count": 10,
     "metadata": {},
     "output_type": "execute_result"
    }
   ],
   "source": [
    "model(X)"
   ]
  },
  {
   "cell_type": "code",
   "execution_count": 11,
   "id": "652689f9",
   "metadata": {},
   "outputs": [
    {
     "ename": "NameError",
     "evalue": "name 'calc_accuracy' is not defined",
     "output_type": "error",
     "traceback": [
      "\u001b[0;31m---------------------------------------------------------------------------\u001b[0m",
      "\u001b[0;31mNameError\u001b[0m                                 Traceback (most recent call last)",
      "\u001b[0;32m<timed eval>\u001b[0m in \u001b[0;36m<module>\u001b[0;34m\u001b[0m\n",
      "\u001b[0;31mNameError\u001b[0m: name 'calc_accuracy' is not defined"
     ]
    }
   ],
   "source": [
    "%%time\n",
    "calc_accuracy(model, X, y)"
   ]
  },
  {
   "cell_type": "code",
   "execution_count": 12,
   "id": "13ddef46",
   "metadata": {},
   "outputs": [],
   "source": [
    "from torchmetrics import Accuracy"
   ]
  },
  {
   "cell_type": "code",
   "execution_count": 13,
   "id": "b67362f5",
   "metadata": {},
   "outputs": [],
   "source": [
    "acc = Accuracy()\n"
   ]
  },
  {
   "cell_type": "code",
   "execution_count": 14,
   "id": "42a7c55f",
   "metadata": {},
   "outputs": [
    {
     "name": "stdout",
     "output_type": "stream",
     "text": [
      "CPU times: user 11.5 ms, sys: 1.45 ms, total: 12.9 ms\n",
      "Wall time: 11.5 ms\n"
     ]
    },
    {
     "data": {
      "text/plain": [
       "tensor(1.)"
      ]
     },
     "execution_count": 14,
     "metadata": {},
     "output_type": "execute_result"
    }
   ],
   "source": [
    "%%time\n",
    "acc(model(X), y)"
   ]
  },
  {
   "cell_type": "code",
   "execution_count": 15,
   "id": "c7542621",
   "metadata": {},
   "outputs": [
    {
     "ename": "TypeError",
     "evalue": "softmax() received an invalid combination of arguments - got (), but expected one of:\n * (int dim, torch.dtype dtype)\n * (name dim, *, torch.dtype dtype)\n",
     "output_type": "error",
     "traceback": [
      "\u001b[0;31m---------------------------------------------------------------------------\u001b[0m",
      "\u001b[0;31mTypeError\u001b[0m                                 Traceback (most recent call last)",
      "\u001b[0;32m/var/folders/pd/jsjcl0fn7w57s5mfr34b20pm0000gn/T/ipykernel_93519/3524363233.py\u001b[0m in \u001b[0;36m<module>\u001b[0;34m\u001b[0m\n\u001b[0;32m----> 1\u001b[0;31m \u001b[0macc\u001b[0m\u001b[0;34m(\u001b[0m\u001b[0mmodel\u001b[0m\u001b[0;34m(\u001b[0m\u001b[0mX\u001b[0m\u001b[0;34m)\u001b[0m\u001b[0;34m.\u001b[0m\u001b[0msoftmax\u001b[0m\u001b[0;34m(\u001b[0m\u001b[0;34m)\u001b[0m\u001b[0;34m,\u001b[0m \u001b[0my\u001b[0m\u001b[0;34m)\u001b[0m\u001b[0;34m\u001b[0m\u001b[0;34m\u001b[0m\u001b[0m\n\u001b[0m",
      "\u001b[0;31mTypeError\u001b[0m: softmax() received an invalid combination of arguments - got (), but expected one of:\n * (int dim, torch.dtype dtype)\n * (name dim, *, torch.dtype dtype)\n"
     ]
    }
   ],
   "source": [
    "acc(model(X).softmax(), y)"
   ]
  },
  {
   "cell_type": "code",
   "execution_count": null,
   "id": "846faaca",
   "metadata": {},
   "outputs": [],
   "source": [
    "y_hat = model(X)\n",
    "y_hat = y_hat.softmax(dim=-1)"
   ]
  },
  {
   "cell_type": "code",
   "execution_count": null,
   "id": "3b842069",
   "metadata": {},
   "outputs": [],
   "source": [
    "acc(y_hat, y)"
   ]
  },
  {
   "cell_type": "code",
   "execution_count": null,
   "id": "aa767f45",
   "metadata": {},
   "outputs": [],
   "source": [
    "calc_accuracy(model, X, y)"
   ]
  },
  {
   "cell_type": "code",
   "execution_count": null,
   "id": "4f41b679",
   "metadata": {},
   "outputs": [],
   "source": [
    "X2, y2 = (next(iter(data)))"
   ]
  },
  {
   "cell_type": "code",
   "execution_count": null,
   "id": "43edef9d",
   "metadata": {},
   "outputs": [],
   "source": [
    "data = iter(data)"
   ]
  },
  {
   "cell_type": "code",
   "execution_count": null,
   "id": "b838c32d",
   "metadata": {},
   "outputs": [],
   "source": [
    "data"
   ]
  },
  {
   "cell_type": "code",
   "execution_count": null,
   "id": "3614310b",
   "metadata": {},
   "outputs": [],
   "source": [
    "from torchmetrics import Accuracy, Precision, Recall\n",
    "\n",
    "acc = Accuracy()\n",
    "prec = Precision()\n",
    "rec = Recall()"
   ]
  },
  {
   "cell_type": "code",
   "execution_count": null,
   "id": "4f18549b",
   "metadata": {},
   "outputs": [],
   "source": [
    "acc(model(X), y)"
   ]
  },
  {
   "cell_type": "code",
   "execution_count": null,
   "id": "fdd913ac",
   "metadata": {},
   "outputs": [],
   "source": [
    "prec(model(X), y)"
   ]
  },
  {
   "cell_type": "code",
   "execution_count": null,
   "id": "f5086c2a",
   "metadata": {},
   "outputs": [],
   "source": [
    "rec(model(X), y)"
   ]
  },
  {
   "cell_type": "code",
   "execution_count": null,
   "id": "aaaf50cb",
   "metadata": {},
   "outputs": [],
   "source": []
  }
 ],
 "metadata": {
  "kernelspec": {
   "display_name": "Python [conda env:base-data-science] *",
   "language": "python",
   "name": "conda-env-base-data-science-py"
  },
  "language_info": {
   "codemirror_mode": {
    "name": "ipython",
    "version": 3
   },
   "file_extension": ".py",
   "mimetype": "text/x-python",
   "name": "python",
   "nbconvert_exporter": "python",
   "pygments_lexer": "ipython3",
   "version": "3.9.7"
  }
 },
 "nbformat": 4,
 "nbformat_minor": 5
}
