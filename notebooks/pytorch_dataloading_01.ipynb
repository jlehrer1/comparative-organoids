{
 "cells": [
  {
   "cell_type": "markdown",
   "id": "7267866e",
   "metadata": {},
   "source": [
    "# Dataloading 01\n",
    "\n",
    "In this notebook, we'll figure out how to use PyTorch's DataLoader class to load our massive files without reading the entirety of them into memory"
   ]
  },
  {
   "cell_type": "code",
   "execution_count": 8,
   "id": "c111cd61",
   "metadata": {},
   "outputs": [],
   "source": [
    "import comet_ml\n",
    "import dask.dataframe as dd\n",
    "import pandas as pd \n",
    "import torch\n",
    "import linecache \n",
    "import csv\n",
    "import numpy as np\n",
    "import torch.nn as nn\n",
    "from torch.utils.data import Dataset, DataLoader\n",
    "import pytorch_lightning as pl\n",
    "import torch.nn.functional as F\n",
    "import sys, os\n",
    "from pathlib import Path\n",
    "import plotly.express as px \n",
    "from sklearn.utils.class_weight import compute_class_weight\n",
    "import torch\n",
    "\n",
    "sys.path.append('../src')\n",
    "here = Path().cwd()"
   ]
  },
  {
   "cell_type": "markdown",
   "id": "a75396dd",
   "metadata": {},
   "source": [
    "We'll first design a custom dataset to use with PyTorch's `DataLoader` class"
   ]
  },
  {
   "cell_type": "code",
   "execution_count": 2,
   "id": "77a65169",
   "metadata": {},
   "outputs": [],
   "source": [
    "from models.train_neural_network import *"
   ]
  },
  {
   "cell_type": "code",
   "execution_count": 6,
   "id": "48ddba8a",
   "metadata": {},
   "outputs": [
    {
     "data": {
      "text/html": [
       "<div>\n",
       "<style scoped>\n",
       "    .dataframe tbody tr th:only-of-type {\n",
       "        vertical-align: middle;\n",
       "    }\n",
       "\n",
       "    .dataframe tbody tr th {\n",
       "        vertical-align: top;\n",
       "    }\n",
       "\n",
       "    .dataframe thead th {\n",
       "        text-align: right;\n",
       "    }\n",
       "</style>\n",
       "<table border=\"1\" class=\"dataframe\">\n",
       "  <thead>\n",
       "    <tr style=\"text-align: right;\">\n",
       "      <th></th>\n",
       "      <th>Unnamed: 0</th>\n",
       "      <th>Class</th>\n",
       "      <th>State</th>\n",
       "      <th>Type</th>\n",
       "      <th>Subtype</th>\n",
       "    </tr>\n",
       "  </thead>\n",
       "  <tbody>\n",
       "    <tr>\n",
       "      <th>0</th>\n",
       "      <td>0</td>\n",
       "      <td>1</td>\n",
       "      <td>0</td>\n",
       "      <td>5</td>\n",
       "      <td>15</td>\n",
       "    </tr>\n",
       "    <tr>\n",
       "      <th>1</th>\n",
       "      <td>1</td>\n",
       "      <td>1</td>\n",
       "      <td>0</td>\n",
       "      <td>5</td>\n",
       "      <td>15</td>\n",
       "    </tr>\n",
       "    <tr>\n",
       "      <th>2</th>\n",
       "      <td>2</td>\n",
       "      <td>1</td>\n",
       "      <td>0</td>\n",
       "      <td>5</td>\n",
       "      <td>15</td>\n",
       "    </tr>\n",
       "    <tr>\n",
       "      <th>3</th>\n",
       "      <td>3</td>\n",
       "      <td>1</td>\n",
       "      <td>1</td>\n",
       "      <td>5</td>\n",
       "      <td>12</td>\n",
       "    </tr>\n",
       "    <tr>\n",
       "      <th>4</th>\n",
       "      <td>4</td>\n",
       "      <td>1</td>\n",
       "      <td>0</td>\n",
       "      <td>5</td>\n",
       "      <td>15</td>\n",
       "    </tr>\n",
       "    <tr>\n",
       "      <th>...</th>\n",
       "      <td>...</td>\n",
       "      <td>...</td>\n",
       "      <td>...</td>\n",
       "      <td>...</td>\n",
       "      <td>...</td>\n",
       "    </tr>\n",
       "    <tr>\n",
       "      <th>235116</th>\n",
       "      <td>235116</td>\n",
       "      <td>1</td>\n",
       "      <td>1</td>\n",
       "      <td>5</td>\n",
       "      <td>13</td>\n",
       "    </tr>\n",
       "    <tr>\n",
       "      <th>235117</th>\n",
       "      <td>235117</td>\n",
       "      <td>1</td>\n",
       "      <td>1</td>\n",
       "      <td>2</td>\n",
       "      <td>3</td>\n",
       "    </tr>\n",
       "    <tr>\n",
       "      <th>235118</th>\n",
       "      <td>235118</td>\n",
       "      <td>0</td>\n",
       "      <td>3</td>\n",
       "      <td>1</td>\n",
       "      <td>14</td>\n",
       "    </tr>\n",
       "    <tr>\n",
       "      <th>235119</th>\n",
       "      <td>235119</td>\n",
       "      <td>1</td>\n",
       "      <td>1</td>\n",
       "      <td>5</td>\n",
       "      <td>8</td>\n",
       "    </tr>\n",
       "    <tr>\n",
       "      <th>235120</th>\n",
       "      <td>235120</td>\n",
       "      <td>1</td>\n",
       "      <td>0</td>\n",
       "      <td>5</td>\n",
       "      <td>15</td>\n",
       "    </tr>\n",
       "  </tbody>\n",
       "</table>\n",
       "<p>235121 rows × 5 columns</p>\n",
       "</div>"
      ],
      "text/plain": [
       "        Unnamed: 0  Class  State  Type  Subtype\n",
       "0                0      1      0     5       15\n",
       "1                1      1      0     5       15\n",
       "2                2      1      0     5       15\n",
       "3                3      1      1     5       12\n",
       "4                4      1      0     5       15\n",
       "...            ...    ...    ...   ...      ...\n",
       "235116      235116      1      1     5       13\n",
       "235117      235117      1      1     2        3\n",
       "235118      235118      0      3     1       14\n",
       "235119      235119      1      1     5        8\n",
       "235120      235120      1      0     5       15\n",
       "\n",
       "[235121 rows x 5 columns]"
      ]
     },
     "execution_count": 6,
     "metadata": {},
     "output_type": "execute_result"
    }
   ],
   "source": [
    "test = pd.read_csv('../data/processed/meta_organoid_labels.csv')\n",
    "test"
   ]
  },
  {
   "cell_type": "code",
   "execution_count": 5,
   "id": "74ecc65b",
   "metadata": {},
   "outputs": [],
   "source": [
    "primary = GeneExpressionData(\n",
    "    filename='../data/processed/primary.csv',\n",
    "    labelname='../data/processed/meta_primary_labels.csv',\n",
    "    class_label='Subtype'\n",
    ")"
   ]
  },
  {
   "cell_type": "code",
   "execution_count": 7,
   "id": "f218d232",
   "metadata": {},
   "outputs": [],
   "source": [
    "organoid = GeneExpressionData(\n",
    "    filename='../data/processed/organoid.csv',\n",
    "    labelname='../data/processed/meta_organoid_labels.csv',\n",
    "    class_label='Subtype',\n",
    ")"
   ]
  },
  {
   "cell_type": "code",
   "execution_count": 17,
   "id": "509905d3",
   "metadata": {},
   "outputs": [
    {
     "data": {
      "text/plain": [
       "(189409, 235121)"
      ]
     },
     "execution_count": 17,
     "metadata": {},
     "output_type": "execute_result"
    }
   ],
   "source": [
    "len(primary), len(organoid)"
   ]
  },
  {
   "cell_type": "code",
   "execution_count": 18,
   "id": "e8a0d700",
   "metadata": {},
   "outputs": [
    {
     "data": {
      "text/plain": [
       "<models.train_neural_network.GeneExpressionData at 0x7f9f500d1160>"
      ]
     },
     "execution_count": 18,
     "metadata": {},
     "output_type": "execute_result"
    }
   ],
   "source": [
    "primary"
   ]
  },
  {
   "cell_type": "code",
   "execution_count": 19,
   "id": "b694b0c8",
   "metadata": {},
   "outputs": [
    {
     "data": {
      "text/plain": [
       "424530"
      ]
     },
     "execution_count": 19,
     "metadata": {},
     "output_type": "execute_result"
    }
   ],
   "source": [
    "combined = torch.utils.data.ConcatDataset([primary, organoid])\n",
    "len(combined)"
   ]
  },
  {
   "cell_type": "code",
   "execution_count": null,
   "id": "f73a252d",
   "metadata": {},
   "outputs": [],
   "source": []
  },
  {
   "cell_type": "code",
   "execution_count": 41,
   "id": "de7d3fa3",
   "metadata": {},
   "outputs": [],
   "source": [
    "dataset = primary"
   ]
  },
  {
   "cell_type": "code",
   "execution_count": 42,
   "id": "3aa4492b",
   "metadata": {},
   "outputs": [],
   "source": [
    "train_size = int(0.80 * len(dataset))\n",
    "test_size = len(dataset) - train_size\n",
    "train, test = torch.utils.data.random_split(dataset, [train_size, test_size])\n"
   ]
  },
  {
   "cell_type": "code",
   "execution_count": 48,
   "id": "f6ed8f97",
   "metadata": {},
   "outputs": [
    {
     "data": {
      "text/plain": [
       "dict_keys(['__module__', '__annotations__', '__doc__', 'functions', '__getitem__', '__add__', '__getattr__', 'register_function', 'register_datapipe_as_function', '__orig_bases__', '__dict__', '__weakref__', '__parameters__'])"
      ]
     },
     "execution_count": 48,
     "metadata": {},
     "output_type": "execute_result"
    }
   ],
   "source": [
    "Dataset.__dict__.keys()"
   ]
  },
  {
   "cell_type": "code",
   "execution_count": 51,
   "id": "54ef43a6",
   "metadata": {
    "scrolled": true
   },
   "outputs": [
    {
     "data": {
      "text/plain": [
       "(+T_co,)"
      ]
     },
     "execution_count": 51,
     "metadata": {},
     "output_type": "execute_result"
    }
   ],
   "source": [
    "train.__parameters__"
   ]
  },
  {
   "cell_type": "code",
   "execution_count": 30,
   "id": "49080e0b",
   "metadata": {},
   "outputs": [
    {
     "data": {
      "text/plain": [
       "Excitatory Neuron     122958\n",
       "Radial Glia            29563\n",
       "Inhibitory Neuron      20609\n",
       "Microglia               4510\n",
       "IPC                     3863\n",
       "Outlier                 2933\n",
       "Red blood cells         2451\n",
       "OPC                     1888\n",
       "Mural                    363\n",
       "Endothelial              271\n",
       "Name: Type, dtype: int64"
      ]
     },
     "execution_count": 30,
     "metadata": {},
     "output_type": "execute_result"
    }
   ],
   "source": [
    "prim['Type'].value_counts()"
   ]
  },
  {
   "cell_type": "code",
   "execution_count": 35,
   "id": "5c329048",
   "metadata": {
    "scrolled": false
   },
   "outputs": [
    {
     "data": {
      "text/plain": [
       "22    83653\n",
       "18    78157\n",
       "14    14435\n",
       "10     7194\n",
       "6      5970\n",
       "Name: Age, dtype: int64"
      ]
     },
     "execution_count": 35,
     "metadata": {},
     "output_type": "execute_result"
    }
   ],
   "source": [
    "prim['Age'].value_counts()"
   ]
  },
  {
   "cell_type": "code",
   "execution_count": 37,
   "id": "71f29b6f",
   "metadata": {
    "scrolled": false
   },
   "outputs": [
    {
     "data": {
      "text/html": [
       "<div>\n",
       "<style scoped>\n",
       "    .dataframe tbody tr th:only-of-type {\n",
       "        vertical-align: middle;\n",
       "    }\n",
       "\n",
       "    .dataframe tbody tr th {\n",
       "        vertical-align: top;\n",
       "    }\n",
       "\n",
       "    .dataframe thead th {\n",
       "        text-align: right;\n",
       "    }\n",
       "</style>\n",
       "<table border=\"1\" class=\"dataframe\">\n",
       "  <thead>\n",
       "    <tr style=\"text-align: right;\">\n",
       "      <th></th>\n",
       "      <th>Cell</th>\n",
       "      <th>Area</th>\n",
       "      <th>Individual</th>\n",
       "      <th>Age</th>\n",
       "      <th>Class</th>\n",
       "      <th>State</th>\n",
       "      <th>Type</th>\n",
       "      <th>Subtype</th>\n",
       "      <th>Cluster</th>\n",
       "    </tr>\n",
       "  </thead>\n",
       "  <tbody>\n",
       "    <tr>\n",
       "      <th>14435</th>\n",
       "      <td>AAACCTGAGAACTGTA_9512</td>\n",
       "      <td>hippocampus</td>\n",
       "      <td>GW18</td>\n",
       "      <td>18</td>\n",
       "      <td>Non-neuronal</td>\n",
       "      <td>Dividing</td>\n",
       "      <td>Radial Glia</td>\n",
       "      <td>late</td>\n",
       "      <td>42</td>\n",
       "    </tr>\n",
       "    <tr>\n",
       "      <th>14436</th>\n",
       "      <td>AAACCTGAGGACACCA_9513</td>\n",
       "      <td>hippocampus</td>\n",
       "      <td>GW18</td>\n",
       "      <td>18</td>\n",
       "      <td>Neuron</td>\n",
       "      <td>Postmitotic</td>\n",
       "      <td>Excitatory Neuron</td>\n",
       "      <td>Newborn</td>\n",
       "      <td>41</td>\n",
       "    </tr>\n",
       "    <tr>\n",
       "      <th>14437</th>\n",
       "      <td>AAACCTGCAAAGTGCG_9514</td>\n",
       "      <td>hippocampus</td>\n",
       "      <td>GW18</td>\n",
       "      <td>18</td>\n",
       "      <td>Neuron</td>\n",
       "      <td>Postmitotic</td>\n",
       "      <td>Inhibitory Neuron</td>\n",
       "      <td>MGE2</td>\n",
       "      <td>10</td>\n",
       "    </tr>\n",
       "    <tr>\n",
       "      <th>14438</th>\n",
       "      <td>AAACCTGCAGCCACCA_9515</td>\n",
       "      <td>hippocampus</td>\n",
       "      <td>GW18</td>\n",
       "      <td>18</td>\n",
       "      <td>Neuron</td>\n",
       "      <td>Postmitotic</td>\n",
       "      <td>Excitatory Neuron</td>\n",
       "      <td>Deep Layer</td>\n",
       "      <td>37</td>\n",
       "    </tr>\n",
       "    <tr>\n",
       "      <th>14439</th>\n",
       "      <td>AAACCTGCATCCTAGA_9516</td>\n",
       "      <td>hippocampus</td>\n",
       "      <td>GW18</td>\n",
       "      <td>18</td>\n",
       "      <td>Neuron</td>\n",
       "      <td>Postmitotic</td>\n",
       "      <td>Excitatory Neuron</td>\n",
       "      <td>Newborn</td>\n",
       "      <td>41</td>\n",
       "    </tr>\n",
       "    <tr>\n",
       "      <th>...</th>\n",
       "      <td>...</td>\n",
       "      <td>...</td>\n",
       "      <td>...</td>\n",
       "      <td>...</td>\n",
       "      <td>...</td>\n",
       "      <td>...</td>\n",
       "      <td>...</td>\n",
       "      <td>...</td>\n",
       "      <td>...</td>\n",
       "    </tr>\n",
       "    <tr>\n",
       "      <th>176240</th>\n",
       "      <td>TTTGTCATCCGTAGTA</td>\n",
       "      <td>V1</td>\n",
       "      <td>GW22</td>\n",
       "      <td>22</td>\n",
       "      <td>Neuron</td>\n",
       "      <td>Postmitotic</td>\n",
       "      <td>Excitatory Neuron</td>\n",
       "      <td>Newborn</td>\n",
       "      <td>31</td>\n",
       "    </tr>\n",
       "    <tr>\n",
       "      <th>176241</th>\n",
       "      <td>TTTGTCATCGGCTACG</td>\n",
       "      <td>V1</td>\n",
       "      <td>GW22</td>\n",
       "      <td>22</td>\n",
       "      <td>Neuron</td>\n",
       "      <td>Postmitotic</td>\n",
       "      <td>Excitatory Neuron</td>\n",
       "      <td>Newborn</td>\n",
       "      <td>31</td>\n",
       "    </tr>\n",
       "    <tr>\n",
       "      <th>176242</th>\n",
       "      <td>TTTGTCATCTAAGCCA</td>\n",
       "      <td>V1</td>\n",
       "      <td>GW22</td>\n",
       "      <td>22</td>\n",
       "      <td>Neuron</td>\n",
       "      <td>Postmitotic</td>\n",
       "      <td>Excitatory Neuron</td>\n",
       "      <td>Upper Layer</td>\n",
       "      <td>21</td>\n",
       "    </tr>\n",
       "    <tr>\n",
       "      <th>176243</th>\n",
       "      <td>TTTGTCATCTACCAGA</td>\n",
       "      <td>V1</td>\n",
       "      <td>GW22</td>\n",
       "      <td>22</td>\n",
       "      <td>Non-neuronal</td>\n",
       "      <td>Postmitotic</td>\n",
       "      <td>Microglia</td>\n",
       "      <td>Microglia low quality</td>\n",
       "      <td>12</td>\n",
       "    </tr>\n",
       "    <tr>\n",
       "      <th>176244</th>\n",
       "      <td>TTTGTCATCTTGCCGT</td>\n",
       "      <td>V1</td>\n",
       "      <td>GW22</td>\n",
       "      <td>22</td>\n",
       "      <td>Non-neuronal</td>\n",
       "      <td>Non-dividing</td>\n",
       "      <td>Radial Glia</td>\n",
       "      <td>oRG/Astrocyte</td>\n",
       "      <td>7</td>\n",
       "    </tr>\n",
       "  </tbody>\n",
       "</table>\n",
       "<p>161810 rows × 9 columns</p>\n",
       "</div>"
      ],
      "text/plain": [
       "                         Cell         Area Individual  Age         Class  \\\n",
       "14435   AAACCTGAGAACTGTA_9512  hippocampus       GW18   18  Non-neuronal   \n",
       "14436   AAACCTGAGGACACCA_9513  hippocampus       GW18   18        Neuron   \n",
       "14437   AAACCTGCAAAGTGCG_9514  hippocampus       GW18   18        Neuron   \n",
       "14438   AAACCTGCAGCCACCA_9515  hippocampus       GW18   18        Neuron   \n",
       "14439   AAACCTGCATCCTAGA_9516  hippocampus       GW18   18        Neuron   \n",
       "...                       ...          ...        ...  ...           ...   \n",
       "176240       TTTGTCATCCGTAGTA           V1       GW22   22        Neuron   \n",
       "176241       TTTGTCATCGGCTACG           V1       GW22   22        Neuron   \n",
       "176242       TTTGTCATCTAAGCCA           V1       GW22   22        Neuron   \n",
       "176243       TTTGTCATCTACCAGA           V1       GW22   22  Non-neuronal   \n",
       "176244       TTTGTCATCTTGCCGT           V1       GW22   22  Non-neuronal   \n",
       "\n",
       "               State                Type                Subtype  Cluster  \n",
       "14435       Dividing         Radial Glia                   late       42  \n",
       "14436    Postmitotic  Excitatory Neuron                 Newborn       41  \n",
       "14437    Postmitotic   Inhibitory Neuron                   MGE2       10  \n",
       "14438    Postmitotic  Excitatory Neuron              Deep Layer       37  \n",
       "14439    Postmitotic  Excitatory Neuron                 Newborn       41  \n",
       "...              ...                 ...                    ...      ...  \n",
       "176240   Postmitotic  Excitatory Neuron                 Newborn       31  \n",
       "176241   Postmitotic  Excitatory Neuron                 Newborn       31  \n",
       "176242   Postmitotic  Excitatory Neuron             Upper Layer       21  \n",
       "176243   Postmitotic           Microglia  Microglia low quality       12  \n",
       "176244  Non-dividing         Radial Glia          oRG/Astrocyte        7  \n",
       "\n",
       "[161810 rows x 9 columns]"
      ]
     },
     "execution_count": 37,
     "metadata": {},
     "output_type": "execute_result"
    }
   ],
   "source": [
    "prim[prim['Age'] >= 18]"
   ]
  },
  {
   "cell_type": "code",
   "execution_count": 38,
   "id": "681324a5",
   "metadata": {},
   "outputs": [
    {
     "data": {
      "text/plain": [
       "Neuron          143567\n",
       "Non-neuronal     42909\n",
       "Outlier           2933\n",
       "Name: Class, dtype: int64"
      ]
     },
     "execution_count": 38,
     "metadata": {},
     "output_type": "execute_result"
    }
   ],
   "source": [
    "prim['Class'].value_counts()"
   ]
  },
  {
   "cell_type": "code",
   "execution_count": 39,
   "id": "9f2e5bc9",
   "metadata": {
    "scrolled": true
   },
   "outputs": [
    {
     "data": {
      "text/plain": [
       "Postmitotic     151162\n",
       "Dividing         18587\n",
       "Non-dividing     16727\n",
       "Outlier           2933\n",
       "Name: State, dtype: int64"
      ]
     },
     "execution_count": 39,
     "metadata": {},
     "output_type": "execute_result"
    }
   ],
   "source": [
    "prim['State'].value_counts()"
   ]
  },
  {
   "cell_type": "code",
   "execution_count": null,
   "id": "af6343b5",
   "metadata": {},
   "outputs": [],
   "source": []
  }
 ],
 "metadata": {
  "kernelspec": {
   "display_name": "Python [conda env:base-data-science]",
   "language": "python",
   "name": "conda-env-base-data-science-py"
  },
  "language_info": {
   "codemirror_mode": {
    "name": "ipython",
    "version": 3
   },
   "file_extension": ".py",
   "mimetype": "text/x-python",
   "name": "python",
   "nbconvert_exporter": "python",
   "pygments_lexer": "ipython3",
   "version": "3.9.7"
  }
 },
 "nbformat": 4,
 "nbformat_minor": 5
}
