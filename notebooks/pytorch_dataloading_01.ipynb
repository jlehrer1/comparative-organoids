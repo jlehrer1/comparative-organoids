{
 "cells": [
  {
   "cell_type": "markdown",
   "id": "7267866e",
   "metadata": {},
   "source": [
    "# Dataloading 01\n",
    "\n",
    "In this notebook, we'll figure out how to use PyTorch's DataLoader class to load our massive files without reading the entirety of them into memory"
   ]
  },
  {
   "cell_type": "code",
   "execution_count": 1,
   "id": "c111cd61",
   "metadata": {},
   "outputs": [],
   "source": [
    "import comet_ml\n",
    "import dask.dataframe as dd\n",
    "import pandas as pd \n",
    "import torch\n",
    "import linecache \n",
    "import csv\n",
    "import numpy as np\n",
    "import torch.nn as nn\n",
    "from torch.utils.data import Dataset, DataLoader\n",
    "import pytorch_lightning as pl\n",
    "import torch.nn.functional as F\n",
    "import sys, os\n",
    "from pathlib import Path\n",
    "import plotly.express as px \n",
    "from sklearn.utils.class_weight import compute_class_weight\n",
    "import torch\n",
    "\n",
    "sys.path.append('../src')\n",
    "sys.path.append('../src/models/lib')\n",
    "here = Path().cwd()"
   ]
  },
  {
   "cell_type": "markdown",
   "id": "a75396dd",
   "metadata": {},
   "source": [
    "We'll first design a custom dataset to use with PyTorch's `DataLoader` class"
   ]
  },
  {
   "cell_type": "code",
   "execution_count": 2,
   "id": "77a65169",
   "metadata": {},
   "outputs": [],
   "source": [
    "from models.lib.neural import *\n",
    "from models.lib.data import *"
   ]
  },
  {
   "cell_type": "code",
   "execution_count": 3,
   "id": "1af0d5e5",
   "metadata": {},
   "outputs": [],
   "source": [
    "datafiles = ['../data/processed/primary.csv']\n",
    "labelfiles = ['../data/processed/meta_primary_labels.csv']\n",
    "\n",
    "train, test, insize, outsize, weights = \\\n",
    "    generate_datasets(datafiles, labelfiles, class_label='Type', stratified=False)"
   ]
  },
  {
   "cell_type": "code",
   "execution_count": 4,
   "id": "b7d86226",
   "metadata": {},
   "outputs": [
    {
     "data": {
      "text/plain": [
       "(151527, 37882)"
      ]
     },
     "execution_count": 4,
     "metadata": {},
     "output_type": "execute_result"
    }
   ],
   "source": [
    "len(train), len(test)"
   ]
  },
  {
   "cell_type": "code",
   "execution_count": 5,
   "id": "10503965",
   "metadata": {},
   "outputs": [],
   "source": [
    "train, test, insize, outsize, weights = \\\n",
    "    generate_datasets(datafiles, labelfiles, class_label='Type', stratified=True)"
   ]
  },
  {
   "cell_type": "code",
   "execution_count": 6,
   "id": "43019b29",
   "metadata": {},
   "outputs": [],
   "source": [
    "test = DataLoader(train, batch_size=4, num_workers=0)"
   ]
  },
  {
   "cell_type": "code",
   "execution_count": 7,
   "id": "fac40fba",
   "metadata": {},
   "outputs": [],
   "source": [
    "model = GeneClassifier(insize, outsize)"
   ]
  },
  {
   "cell_type": "code",
   "execution_count": 12,
   "id": "f8d2c77d",
   "metadata": {},
   "outputs": [
    {
     "name": "stdout",
     "output_type": "stream",
     "text": [
      "14.1 ms ± 223 µs per loop (mean ± std. dev. of 7 runs, 100 loops each)\n"
     ]
    }
   ],
   "source": [
    "%%timeit \n",
    "\n",
    "X, y = next(iter(test))"
   ]
  },
  {
   "cell_type": "code",
   "execution_count": 13,
   "id": "5c44a931",
   "metadata": {},
   "outputs": [
    {
     "name": "stdout",
     "output_type": "stream",
     "text": [
      "9.53 ms ± 35.9 µs per loop (mean ± std. dev. of 7 runs, 100 loops each)\n"
     ]
    }
   ],
   "source": [
    "%%timeit\n",
    "\n",
    "model(X)"
   ]
  },
  {
   "cell_type": "code",
   "execution_count": null,
   "id": "df2506d6",
   "metadata": {},
   "outputs": [],
   "source": []
  }
 ],
 "metadata": {
  "kernelspec": {
   "display_name": "Python [conda env:base-data-science] *",
   "language": "python",
   "name": "conda-env-base-data-science-py"
  },
  "language_info": {
   "codemirror_mode": {
    "name": "ipython",
    "version": 3
   },
   "file_extension": ".py",
   "mimetype": "text/x-python",
   "name": "python",
   "nbconvert_exporter": "python",
   "pygments_lexer": "ipython3",
   "version": "3.9.7"
  }
 },
 "nbformat": 4,
 "nbformat_minor": 5
}
