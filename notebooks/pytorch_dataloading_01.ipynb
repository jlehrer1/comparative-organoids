{
 "cells": [
  {
   "cell_type": "markdown",
   "id": "7267866e",
   "metadata": {},
   "source": [
    "# Dataloading 01\n",
    "\n",
    "In this notebook, we'll figure out how to use PyTorch's DataLoader class to load our massive files without reading the entirety of them into memory"
   ]
  },
  {
   "cell_type": "code",
   "execution_count": 1,
   "id": "c111cd61",
   "metadata": {},
   "outputs": [],
   "source": [
    "import comet_ml\n",
    "import dask.dataframe as dd\n",
    "import pandas as pd \n",
    "import torch\n",
    "import linecache \n",
    "import csv\n",
    "import numpy as np\n",
    "import torch.nn as nn\n",
    "from torch.utils.data import Dataset, DataLoader\n",
    "import pytorch_lightning as pl\n",
    "import torch.nn.functional as F\n",
    "import sys, os\n",
    "from pathlib import Path\n",
    "import plotly.express as px \n",
    "from sklearn.utils.class_weight import compute_class_weight\n",
    "import torch\n",
    "\n",
    "sys.path.append('../src')\n",
    "sys.path.append('../src/models/lib')\n",
    "here = Path().cwd()"
   ]
  },
  {
   "cell_type": "markdown",
   "id": "a75396dd",
   "metadata": {},
   "source": [
    "We'll first design a custom dataset to use with PyTorch's `DataLoader` class"
   ]
  },
  {
   "cell_type": "code",
   "execution_count": 2,
   "id": "77a65169",
   "metadata": {},
   "outputs": [],
   "source": [
    "from models.lib.neural import *\n",
    "from models.lib.data import *"
   ]
  },
  {
   "cell_type": "code",
   "execution_count": 3,
   "id": "944094c0",
   "metadata": {},
   "outputs": [],
   "source": [
    "datafiles = ['../data/processed/primary.csv']\n",
    "labelfiles = ['../data/processed/meta_primary_labels.csv']\n",
    "\n",
    "train, test, insize, outsize, weights = \\\n",
    "    generate_datasets(datafiles, labelfiles, class_label='Type', stratified=True)"
   ]
  },
  {
   "cell_type": "code",
   "execution_count": 4,
   "id": "2e97621e",
   "metadata": {},
   "outputs": [
    {
     "data": {
      "text/plain": [
       "(151527, 37882)"
      ]
     },
     "execution_count": 4,
     "metadata": {},
     "output_type": "execute_result"
    }
   ],
   "source": [
    "len(train), len(test)"
   ]
  },
  {
   "cell_type": "code",
   "execution_count": 5,
   "id": "01641f4e",
   "metadata": {},
   "outputs": [
    {
     "data": {
      "text/plain": [
       "tensor([69.8926,  0.1540,  4.9032,  0.9191,  4.1998, 52.1788, 10.0323,  6.4579,\n",
       "         0.6407,  7.7278])"
      ]
     },
     "execution_count": 5,
     "metadata": {},
     "output_type": "execute_result"
    }
   ],
   "source": [
    "weights"
   ]
  },
  {
   "cell_type": "code",
   "execution_count": 6,
   "id": "4174de2e",
   "metadata": {},
   "outputs": [],
   "source": [
    "model = GeneClassifier(N_features=insize, N_labels=outsize)"
   ]
  },
  {
   "cell_type": "code",
   "execution_count": 9,
   "id": "300098ae",
   "metadata": {},
   "outputs": [],
   "source": [
    "train = DataLoader(train, num_workers=0, batch_size=4)\n",
    "val = DataLoader(test, num_workers=0, batch_size=4)"
   ]
  },
  {
   "cell_type": "code",
   "execution_count": 8,
   "id": "44423eba",
   "metadata": {},
   "outputs": [],
   "source": [
    "generate_trainer()"
   ]
  },
  {
   "cell_type": "code",
   "execution_count": 59,
   "id": "6f74b411",
   "metadata": {},
   "outputs": [
    {
     "data": {
      "text/plain": [
       "tensor([[ 0.4000, -0.9368,  0.1138, -0.1338, -0.1483, -1.5089, -0.3255, -0.2571,\n",
       "         -0.5768,  0.4814],\n",
       "        [-0.7349, -0.1435,  0.1228, -0.7582, -0.1529,  1.5237,  0.3549, -0.2442,\n",
       "         -0.0928,  0.9806],\n",
       "        [ 1.0578,  0.7611, -0.0709,  0.1246,  0.5997,  0.7226,  0.8388,  0.0865,\n",
       "         -0.0727, -0.4233],\n",
       "        [-0.6517,  0.3108, -0.2082,  0.8627, -0.1989, -0.8510, -0.8709,  0.3801,\n",
       "          0.6751, -1.0508]], grad_fn=<AddmmBackward0>)"
      ]
     },
     "execution_count": 59,
     "metadata": {},
     "output_type": "execute_result"
    }
   ],
   "source": [
    "model(X)"
   ]
  },
  {
   "cell_type": "code",
   "execution_count": 60,
   "id": "aaf40e51",
   "metadata": {},
   "outputs": [
    {
     "name": "stdout",
     "output_type": "stream",
     "text": [
      "CPU times: user 34.5 ms, sys: 4.03 ms, total: 38.5 ms\n",
      "Wall time: 36.2 ms\n"
     ]
    },
    {
     "data": {
      "text/plain": [
       "0.0"
      ]
     },
     "execution_count": 60,
     "metadata": {},
     "output_type": "execute_result"
    }
   ],
   "source": [
    "%%time\n",
    "calc_accuracy(model, X, y)"
   ]
  },
  {
   "cell_type": "code",
   "execution_count": 61,
   "id": "8b658e30",
   "metadata": {},
   "outputs": [],
   "source": [
    "from torchmetrics import Accuracy"
   ]
  },
  {
   "cell_type": "code",
   "execution_count": 62,
   "id": "b5316d54",
   "metadata": {},
   "outputs": [],
   "source": [
    "acc = Accuracy()\n"
   ]
  },
  {
   "cell_type": "code",
   "execution_count": 63,
   "id": "9afcdbb0",
   "metadata": {},
   "outputs": [
    {
     "name": "stdout",
     "output_type": "stream",
     "text": [
      "CPU times: user 21.2 ms, sys: 3.23 ms, total: 24.4 ms\n",
      "Wall time: 22.7 ms\n"
     ]
    },
    {
     "data": {
      "text/plain": [
       "tensor(0.)"
      ]
     },
     "execution_count": 63,
     "metadata": {},
     "output_type": "execute_result"
    }
   ],
   "source": [
    "%%time\n",
    "acc(model(X), y)"
   ]
  },
  {
   "cell_type": "code",
   "execution_count": 64,
   "id": "afa2ce79",
   "metadata": {},
   "outputs": [
    {
     "ename": "TypeError",
     "evalue": "softmax() received an invalid combination of arguments - got (), but expected one of:\n * (int dim, torch.dtype dtype)\n * (name dim, *, torch.dtype dtype)\n",
     "output_type": "error",
     "traceback": [
      "\u001b[0;31m---------------------------------------------------------------------------\u001b[0m",
      "\u001b[0;31mTypeError\u001b[0m                                 Traceback (most recent call last)",
      "\u001b[0;32m/var/folders/pd/jsjcl0fn7w57s5mfr34b20pm0000gn/T/ipykernel_80322/3524363233.py\u001b[0m in \u001b[0;36m<module>\u001b[0;34m\u001b[0m\n\u001b[0;32m----> 1\u001b[0;31m \u001b[0macc\u001b[0m\u001b[0;34m(\u001b[0m\u001b[0mmodel\u001b[0m\u001b[0;34m(\u001b[0m\u001b[0mX\u001b[0m\u001b[0;34m)\u001b[0m\u001b[0;34m.\u001b[0m\u001b[0msoftmax\u001b[0m\u001b[0;34m(\u001b[0m\u001b[0;34m)\u001b[0m\u001b[0;34m,\u001b[0m \u001b[0my\u001b[0m\u001b[0;34m)\u001b[0m\u001b[0;34m\u001b[0m\u001b[0;34m\u001b[0m\u001b[0m\n\u001b[0m",
      "\u001b[0;31mTypeError\u001b[0m: softmax() received an invalid combination of arguments - got (), but expected one of:\n * (int dim, torch.dtype dtype)\n * (name dim, *, torch.dtype dtype)\n"
     ]
    }
   ],
   "source": [
    "acc(model(X).softmax(), y)"
   ]
  },
  {
   "cell_type": "code",
   "execution_count": 65,
   "id": "90848b74",
   "metadata": {},
   "outputs": [],
   "source": [
    "y_hat = model(X)\n",
    "y_hat = y_hat.softmax(dim=-1)"
   ]
  },
  {
   "cell_type": "code",
   "execution_count": 66,
   "id": "ebe92722",
   "metadata": {},
   "outputs": [
    {
     "data": {
      "text/plain": [
       "tensor(0.)"
      ]
     },
     "execution_count": 66,
     "metadata": {},
     "output_type": "execute_result"
    }
   ],
   "source": [
    "acc(y_hat, y)"
   ]
  },
  {
   "cell_type": "code",
   "execution_count": 67,
   "id": "d25f828a",
   "metadata": {},
   "outputs": [
    {
     "data": {
      "text/plain": [
       "0.0"
      ]
     },
     "execution_count": 67,
     "metadata": {},
     "output_type": "execute_result"
    }
   ],
   "source": [
    "calc_accuracy(model, X, y)"
   ]
  },
  {
   "cell_type": "code",
   "execution_count": 68,
   "id": "6984d978",
   "metadata": {},
   "outputs": [],
   "source": [
    "X2, y2 = (next(iter(data)))"
   ]
  },
  {
   "cell_type": "code",
   "execution_count": 69,
   "id": "597aa41f",
   "metadata": {},
   "outputs": [],
   "source": [
    "data = iter(data)"
   ]
  },
  {
   "cell_type": "code",
   "execution_count": 70,
   "id": "80be6cad",
   "metadata": {},
   "outputs": [
    {
     "data": {
      "text/plain": [
       "<torch.utils.data.dataloader._SingleProcessDataLoaderIter at 0x7fab5232c100>"
      ]
     },
     "execution_count": 70,
     "metadata": {},
     "output_type": "execute_result"
    }
   ],
   "source": [
    "data"
   ]
  },
  {
   "cell_type": "code",
   "execution_count": 71,
   "id": "362b79b1",
   "metadata": {},
   "outputs": [],
   "source": [
    "from torchmetrics import Accuracy, Precision, Recall\n",
    "\n",
    "acc = Accuracy()\n",
    "prec = Precision()\n",
    "rec = Recall()"
   ]
  },
  {
   "cell_type": "code",
   "execution_count": 72,
   "id": "e500c6b5",
   "metadata": {},
   "outputs": [
    {
     "data": {
      "text/plain": [
       "tensor(0.)"
      ]
     },
     "execution_count": 72,
     "metadata": {},
     "output_type": "execute_result"
    }
   ],
   "source": [
    "acc(model(X), y)"
   ]
  },
  {
   "cell_type": "code",
   "execution_count": 73,
   "id": "c7afcd53",
   "metadata": {},
   "outputs": [
    {
     "data": {
      "text/plain": [
       "tensor(0.)"
      ]
     },
     "execution_count": 73,
     "metadata": {},
     "output_type": "execute_result"
    }
   ],
   "source": [
    "prec(model(X), y)"
   ]
  },
  {
   "cell_type": "code",
   "execution_count": 74,
   "id": "655317b7",
   "metadata": {},
   "outputs": [
    {
     "data": {
      "text/plain": [
       "tensor(0.)"
      ]
     },
     "execution_count": 74,
     "metadata": {},
     "output_type": "execute_result"
    }
   ],
   "source": [
    "rec(model(X), y)"
   ]
  },
  {
   "cell_type": "code",
   "execution_count": null,
   "id": "03ad3ba2",
   "metadata": {},
   "outputs": [],
   "source": []
  }
 ],
 "metadata": {
  "kernelspec": {
   "display_name": "Python [conda env:base-data-science] *",
   "language": "python",
   "name": "conda-env-base-data-science-py"
  },
  "language_info": {
   "codemirror_mode": {
    "name": "ipython",
    "version": 3
   },
   "file_extension": ".py",
   "mimetype": "text/x-python",
   "name": "python",
   "nbconvert_exporter": "python",
   "pygments_lexer": "ipython3",
   "version": "3.9.7"
  }
 },
 "nbformat": 4,
 "nbformat_minor": 5
}
