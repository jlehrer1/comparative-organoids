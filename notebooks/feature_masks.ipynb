{
 "cells": [
  {
   "cell_type": "code",
   "execution_count": 1,
   "id": "ecbcbf38",
   "metadata": {},
   "outputs": [
    {
     "name": "stderr",
     "output_type": "stream",
     "text": [
      "/Users/julian/miniconda3/envs/single-cell/lib/python3.9/site-packages/tqdm/auto.py:22: TqdmWarning: IProgress not found. Please update jupyter and ipywidgets. See https://ipywidgets.readthedocs.io/en/stable/user_install.html\n",
      "  from .autonotebook import tqdm as notebook_tqdm\n"
     ]
    }
   ],
   "source": [
    "import torch\n",
    "import numpy as np \n",
    "import pytorch_tabnet \n",
    "import pandas \n",
    "import numpy\n",
    "import plotly.express as px\n",
    "import pytorch_lightning as pl \n",
    "import matplotlib.pyplot as plt \n",
    "\n",
    "import sys\n",
    "sys.path.append('../src')\n",
    "\n",
    "from models.lib.data import *\n",
    "from models.lib.neural import *\n",
    "from models.lib.lightning_train import *"
   ]
  },
  {
   "cell_type": "code",
   "execution_count": 2,
   "id": "ad17f00d",
   "metadata": {},
   "outputs": [
    {
     "name": "stdout",
     "output_type": "stream",
     "text": [
      "Initializing network\n",
      "Initializing explain matrix\n"
     ]
    }
   ],
   "source": [
    "model = TabNetLightning.load_from_checkpoint(\n",
    "    '../checkpoints/checkpoint-80-desc-retina.ckpt',\n",
    "    input_dim=37475,\n",
    "    output_dim=13,\n",
    "    n_d=32,\n",
    "    n_a=32,\n",
    "    n_steps=10,\n",
    ")"
   ]
  },
  {
   "cell_type": "code",
   "execution_count": 3,
   "id": "b5a738d5",
   "metadata": {
    "scrolled": false
   },
   "outputs": [
    {
     "name": "stdout",
     "output_type": "stream",
     "text": [
      "Creating train/val/test DataLoaders...\n",
      "Done, continuing to training.\n",
      "Calculating weights\n"
     ]
    },
    {
     "name": "stderr",
     "output_type": "stream",
     "text": [
      "/Users/julian/miniconda3/envs/single-cell/lib/python3.9/site-packages/anndata/_core/anndata.py:1830: UserWarning: Variable names are not unique. To make them unique, call `.var_names_make_unique`.\n",
      "  utils.warn_names_duplicates(\"var\")\n"
     ]
    }
   ],
   "source": [
    "module = DataModule(\n",
    "    datafiles=['../data/retina/retina_T.h5ad'],\n",
    "    labelfiles=['../data/retina/retina_labels_numeric.csv'],\n",
    "    class_label='class_label',\n",
    "    index_col='cell',\n",
    "    batch_size=16,\n",
    "    num_workers=0,\n",
    "    shuffle=True,\n",
    "    drop_last=True,\n",
    "    normalize=True,\n",
    "    subset=list(range(5000))\n",
    ")\n",
    "\n",
    "module.setup()"
   ]
  },
  {
   "cell_type": "code",
   "execution_count": null,
   "id": "079dbdbe",
   "metadata": {
    "scrolled": true
   },
   "outputs": [],
   "source": []
  },
  {
   "cell_type": "code",
   "execution_count": 4,
   "id": "3ee387a9",
   "metadata": {
    "scrolled": true
   },
   "outputs": [
    {
     "data": {
      "text/html": [
       "<div>\n",
       "<style scoped>\n",
       "    .dataframe tbody tr th:only-of-type {\n",
       "        vertical-align: middle;\n",
       "    }\n",
       "\n",
       "    .dataframe tbody tr th {\n",
       "        vertical-align: top;\n",
       "    }\n",
       "\n",
       "    .dataframe thead th {\n",
       "        text-align: right;\n",
       "    }\n",
       "</style>\n",
       "<table border=\"1\" class=\"dataframe\">\n",
       "  <thead>\n",
       "    <tr style=\"text-align: right;\">\n",
       "      <th></th>\n",
       "      <th>cell</th>\n",
       "      <th>index</th>\n",
       "      <th>Expressed Genes</th>\n",
       "      <th>UMI Count</th>\n",
       "      <th>Percent Mitochond.</th>\n",
       "      <th>BroadCellType</th>\n",
       "      <th>CellType</th>\n",
       "      <th>Donor</th>\n",
       "      <th>class_label</th>\n",
       "    </tr>\n",
       "  </thead>\n",
       "  <tbody>\n",
       "    <tr>\n",
       "      <th>0</th>\n",
       "      <td>0</td>\n",
       "      <td>0024369980fd003553cbc9dfe29f7f95</td>\n",
       "      <td>2351</td>\n",
       "      <td>6060.0</td>\n",
       "      <td>4.125413</td>\n",
       "      <td>retinal rod cell</td>\n",
       "      <td>retinal rod cell type A</td>\n",
       "      <td>b8049daa-7458-47bf-8ec2-3f5c56d2cb34</td>\n",
       "      <td>9</td>\n",
       "    </tr>\n",
       "    <tr>\n",
       "      <th>1</th>\n",
       "      <td>2</td>\n",
       "      <td>0037f1b36684cb59b84d3585ca55ff69</td>\n",
       "      <td>950</td>\n",
       "      <td>1507.0</td>\n",
       "      <td>0.597213</td>\n",
       "      <td>retinal rod cell</td>\n",
       "      <td>retinal rod cell type B</td>\n",
       "      <td>427c0a62-9baf-42ab-a3a3-f48d10544280</td>\n",
       "      <td>10</td>\n",
       "    </tr>\n",
       "    <tr>\n",
       "      <th>2</th>\n",
       "      <td>3</td>\n",
       "      <td>00390952646f52d11a9ab9bba7d6ac51</td>\n",
       "      <td>961</td>\n",
       "      <td>1962.0</td>\n",
       "      <td>7.543323</td>\n",
       "      <td>retinal rod cell</td>\n",
       "      <td>retinal rod cell type A</td>\n",
       "      <td>b8049daa-7458-47bf-8ec2-3f5c56d2cb34</td>\n",
       "      <td>9</td>\n",
       "    </tr>\n",
       "    <tr>\n",
       "      <th>3</th>\n",
       "      <td>4</td>\n",
       "      <td>005b3351658380695a5dc46c384d72d7</td>\n",
       "      <td>858</td>\n",
       "      <td>1384.0</td>\n",
       "      <td>0.144509</td>\n",
       "      <td>retinal rod cell</td>\n",
       "      <td>retinal rod cell type B</td>\n",
       "      <td>b8049daa-7458-47bf-8ec2-3f5c56d2cb34</td>\n",
       "      <td>10</td>\n",
       "    </tr>\n",
       "    <tr>\n",
       "      <th>4</th>\n",
       "      <td>6</td>\n",
       "      <td>00906832f470fc434a52ac7d678a95bc</td>\n",
       "      <td>532</td>\n",
       "      <td>1054.0</td>\n",
       "      <td>6.451613</td>\n",
       "      <td>retinal rod cell</td>\n",
       "      <td>retinal rod cell type A</td>\n",
       "      <td>427c0a62-9baf-42ab-a3a3-f48d10544280</td>\n",
       "      <td>9</td>\n",
       "    </tr>\n",
       "    <tr>\n",
       "      <th>...</th>\n",
       "      <td>...</td>\n",
       "      <td>...</td>\n",
       "      <td>...</td>\n",
       "      <td>...</td>\n",
       "      <td>...</td>\n",
       "      <td>...</td>\n",
       "      <td>...</td>\n",
       "      <td>...</td>\n",
       "      <td>...</td>\n",
       "    </tr>\n",
       "    <tr>\n",
       "      <th>16441</th>\n",
       "      <td>19684</td>\n",
       "      <td>ff61c0c282f41e4a37885b05342441da</td>\n",
       "      <td>1494</td>\n",
       "      <td>3320.0</td>\n",
       "      <td>2.289157</td>\n",
       "      <td>retinal rod cell</td>\n",
       "      <td>retinal rod cell type B</td>\n",
       "      <td>427c0a62-9baf-42ab-a3a3-f48d10544280</td>\n",
       "      <td>10</td>\n",
       "    </tr>\n",
       "    <tr>\n",
       "      <th>16442</th>\n",
       "      <td>19689</td>\n",
       "      <td>ffa4633bef82949d2c6ac17b3ddf46e9</td>\n",
       "      <td>1813</td>\n",
       "      <td>4129.0</td>\n",
       "      <td>3.996125</td>\n",
       "      <td>retinal rod cell</td>\n",
       "      <td>retinal rod cell type A</td>\n",
       "      <td>b8049daa-7458-47bf-8ec2-3f5c56d2cb34</td>\n",
       "      <td>9</td>\n",
       "    </tr>\n",
       "    <tr>\n",
       "      <th>16443</th>\n",
       "      <td>19690</td>\n",
       "      <td>ffa5758b0600f47722fdc755444dfe0c</td>\n",
       "      <td>2692</td>\n",
       "      <td>8244.0</td>\n",
       "      <td>16.460457</td>\n",
       "      <td>retinal cone cell</td>\n",
       "      <td>retinal cone cell</td>\n",
       "      <td>b8049daa-7458-47bf-8ec2-3f5c56d2cb34</td>\n",
       "      <td>7</td>\n",
       "    </tr>\n",
       "    <tr>\n",
       "      <th>16444</th>\n",
       "      <td>19691</td>\n",
       "      <td>ffd3fd6119de767f3c3b8c47b2c28bf0</td>\n",
       "      <td>516</td>\n",
       "      <td>896.0</td>\n",
       "      <td>3.794643</td>\n",
       "      <td>retinal rod cell</td>\n",
       "      <td>retinal rod cell type A</td>\n",
       "      <td>427c0a62-9baf-42ab-a3a3-f48d10544280</td>\n",
       "      <td>9</td>\n",
       "    </tr>\n",
       "    <tr>\n",
       "      <th>16445</th>\n",
       "      <td>19693</td>\n",
       "      <td>fffd3d11e75c6c544e6741967b3edb7a</td>\n",
       "      <td>1896</td>\n",
       "      <td>4175.0</td>\n",
       "      <td>4.550898</td>\n",
       "      <td>retinal rod cell</td>\n",
       "      <td>retinal rod cell type A</td>\n",
       "      <td>b8049daa-7458-47bf-8ec2-3f5c56d2cb34</td>\n",
       "      <td>9</td>\n",
       "    </tr>\n",
       "  </tbody>\n",
       "</table>\n",
       "<p>16446 rows × 9 columns</p>\n",
       "</div>"
      ],
      "text/plain": [
       "        cell                             index  Expressed Genes  UMI Count  \\\n",
       "0          0  0024369980fd003553cbc9dfe29f7f95             2351     6060.0   \n",
       "1          2  0037f1b36684cb59b84d3585ca55ff69              950     1507.0   \n",
       "2          3  00390952646f52d11a9ab9bba7d6ac51              961     1962.0   \n",
       "3          4  005b3351658380695a5dc46c384d72d7              858     1384.0   \n",
       "4          6  00906832f470fc434a52ac7d678a95bc              532     1054.0   \n",
       "...      ...                               ...              ...        ...   \n",
       "16441  19684  ff61c0c282f41e4a37885b05342441da             1494     3320.0   \n",
       "16442  19689  ffa4633bef82949d2c6ac17b3ddf46e9             1813     4129.0   \n",
       "16443  19690  ffa5758b0600f47722fdc755444dfe0c             2692     8244.0   \n",
       "16444  19691  ffd3fd6119de767f3c3b8c47b2c28bf0              516      896.0   \n",
       "16445  19693  fffd3d11e75c6c544e6741967b3edb7a             1896     4175.0   \n",
       "\n",
       "       Percent Mitochond.      BroadCellType                 CellType  \\\n",
       "0                4.125413   retinal rod cell  retinal rod cell type A   \n",
       "1                0.597213   retinal rod cell  retinal rod cell type B   \n",
       "2                7.543323   retinal rod cell  retinal rod cell type A   \n",
       "3                0.144509   retinal rod cell  retinal rod cell type B   \n",
       "4                6.451613   retinal rod cell  retinal rod cell type A   \n",
       "...                   ...                ...                      ...   \n",
       "16441            2.289157   retinal rod cell  retinal rod cell type B   \n",
       "16442            3.996125   retinal rod cell  retinal rod cell type A   \n",
       "16443           16.460457  retinal cone cell        retinal cone cell   \n",
       "16444            3.794643   retinal rod cell  retinal rod cell type A   \n",
       "16445            4.550898   retinal rod cell  retinal rod cell type A   \n",
       "\n",
       "                                      Donor  class_label  \n",
       "0      b8049daa-7458-47bf-8ec2-3f5c56d2cb34            9  \n",
       "1      427c0a62-9baf-42ab-a3a3-f48d10544280           10  \n",
       "2      b8049daa-7458-47bf-8ec2-3f5c56d2cb34            9  \n",
       "3      b8049daa-7458-47bf-8ec2-3f5c56d2cb34           10  \n",
       "4      427c0a62-9baf-42ab-a3a3-f48d10544280            9  \n",
       "...                                     ...          ...  \n",
       "16441  427c0a62-9baf-42ab-a3a3-f48d10544280           10  \n",
       "16442  b8049daa-7458-47bf-8ec2-3f5c56d2cb34            9  \n",
       "16443  b8049daa-7458-47bf-8ec2-3f5c56d2cb34            7  \n",
       "16444  427c0a62-9baf-42ab-a3a3-f48d10544280            9  \n",
       "16445  b8049daa-7458-47bf-8ec2-3f5c56d2cb34            9  \n",
       "\n",
       "[16446 rows x 9 columns]"
      ]
     },
     "execution_count": 4,
     "metadata": {},
     "output_type": "execute_result"
    }
   ],
   "source": [
    "pd.read_csv('../data/retina/retina_labels_numeric.csv')"
   ]
  },
  {
   "cell_type": "code",
   "execution_count": 5,
   "id": "c9f1dd5a",
   "metadata": {},
   "outputs": [],
   "source": [
    "importances = model.feature_importances(dataloader=module.trainloader)"
   ]
  },
  {
   "cell_type": "code",
   "execution_count": 55,
   "id": "7e3c0b15",
   "metadata": {
    "scrolled": true
   },
   "outputs": [
    {
     "data": {
      "text/plain": [
       "<models.lib.data.CollateLoader at 0x7fe7495975e0>"
      ]
     },
     "execution_count": 55,
     "metadata": {},
     "output_type": "execute_result"
    }
   ],
   "source": [
    "module.trainloader"
   ]
  },
  {
   "cell_type": "code",
   "execution_count": 49,
   "id": "5fb84812",
   "metadata": {},
   "outputs": [
    {
     "data": {
      "text/plain": [
       "array([[0.4444201 , 0.        , 0.        , ..., 0.        , 0.01767221,\n",
       "        3.0080471 ],\n",
       "       [0.42736042, 0.        , 0.        , ..., 0.        , 0.01767221,\n",
       "        2.7512269 ],\n",
       "       [0.63974345, 0.        , 0.        , ..., 2.01218677, 0.01767221,\n",
       "        2.05097389],\n",
       "       ...,\n",
       "       [0.46560013, 0.        , 0.        , ..., 1.76228404, 0.01767221,\n",
       "        2.12476206],\n",
       "       [0.41882831, 0.47925878, 0.80639946, ..., 0.78866887, 0.        ,\n",
       "        1.07521796],\n",
       "       [0.41882831, 0.        , 0.        , ..., 2.11056995, 0.01767221,\n",
       "        2.61167479]])"
      ]
     },
     "execution_count": 49,
     "metadata": {},
     "output_type": "execute_result"
    }
   ],
   "source": [
    "masks = mask[0]\n",
    "\n",
    "idx = np.argwhere(np.all(masks[..., :] == 0, axis=0))\n",
    "used = np.delete(masks, idx, axis=1)\n",
    "used"
   ]
  },
  {
   "cell_type": "code",
   "execution_count": 51,
   "id": "5f858dd7",
   "metadata": {
    "scrolled": false
   },
   "outputs": [
    {
     "data": {
      "image/png": "[encoded data removed]",
      "text/plain": [
       "<Figure size 720x720 with 1 Axes>"
      ]
     },
     "metadata": {
      "needs_background": "light"
     },
     "output_type": "display_data"
    }
   ],
   "source": [
    "from matplotlib.pyplot import figure\n",
    "\n",
    "plt.figure(figsize=(10, 10))\n",
    "plt.matshow(used, extent = [0, 10000, 0, 10], aspect = 1000, fignum=1, cmap='Greys');"
   ]
  },
  {
   "cell_type": "code",
   "execution_count": 24,
   "id": "8d23eb62",
   "metadata": {
    "scrolled": true
   },
   "outputs": [],
   "source": [
    "# px.imshow(mask[0]).show()"
   ]
  },
  {
   "cell_type": "code",
   "execution_count": null,
   "id": "95a6b519",
   "metadata": {},
   "outputs": [],
   "source": []
  }
 ],
 "metadata": {
  "kernelspec": {
   "display_name": "Python [conda env:single-cell]",
   "language": "python",
   "name": "conda-env-single-cell-py"
  },
  "language_info": {
   "codemirror_mode": {
    "name": "ipython",
    "version": 3
   },
   "file_extension": ".py",
   "mimetype": "text/x-python",
   "name": "python",
   "nbconvert_exporter": "python",
   "pygments_lexer": "ipython3",
   "version": "3.9.12"
  }
 },
 "nbformat": 4,
 "nbformat_minor": 5
}
