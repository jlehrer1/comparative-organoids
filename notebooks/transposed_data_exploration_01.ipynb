{
 "cells": [
  {
   "cell_type": "markdown",
   "metadata": {},
   "source": [
    "# Transposed Data Exploration 01\n",
    "\n",
    "In this notebook, we'll look at the data now that it is transposed and the column space is gene expressions as we expect.\n"
   ]
  },
  {
   "cell_type": "code",
   "execution_count": 32,
   "metadata": {},
   "outputs": [],
   "source": [
    "import pandas as pd \n",
    "import numpy as np\n",
    "import sklearn as sk\n",
    "import umap"
   ]
  },
  {
   "cell_type": "code",
   "execution_count": 35,
   "metadata": {},
   "outputs": [],
   "source": [
    "organoid = pd.read_csv('../organoid_T.tsv', sep='\\t').set_index('gene', drop=True)\n",
    "primary = pd.read_csv('../primary_T.tsv', sep='\\t').set_index('gene', drop=True)\n",
    "\n",
    "organoid.index = organoid.index.rename('cell')\n",
    "primary.index = primary.index.rename('cell')"
   ]
  },
  {
   "cell_type": "code",
   "execution_count": 36,
   "metadata": {},
   "outputs": [
    {
     "data": {
      "text/plain": [
       "((4587, 16774), (4891, 19765))"
      ]
     },
     "execution_count": 36,
     "metadata": {},
     "output_type": "execute_result"
    }
   ],
   "source": [
    "organoid.shape, primary.shape"
   ]
  },
  {
   "cell_type": "code",
   "execution_count": 4,
   "metadata": {},
   "outputs": [
    {
     "data": {
      "text/html": [
       "<div>\n",
       "<style scoped>\n",
       "    .dataframe tbody tr th:only-of-type {\n",
       "        vertical-align: middle;\n",
       "    }\n",
       "\n",
       "    .dataframe tbody tr th {\n",
       "        vertical-align: top;\n",
       "    }\n",
       "\n",
       "    .dataframe thead th {\n",
       "        text-align: right;\n",
       "    }\n",
       "</style>\n",
       "<table border=\"1\" class=\"dataframe\">\n",
       "  <thead>\n",
       "    <tr style=\"text-align: right;\">\n",
       "      <th></th>\n",
       "      <th>FO538757.2|FO538757.2</th>\n",
       "      <th>AP006222.2|AP006222.2</th>\n",
       "      <th>RP11-206L10.9|RP11-206L10.9</th>\n",
       "      <th>RP11-54O7.1|RP11-54O7.1</th>\n",
       "      <th>RP11-54O7.3|RP11-54O7.3</th>\n",
       "      <th>SAMD11|SAMD11</th>\n",
       "      <th>NOC2L|NOC2L</th>\n",
       "      <th>KLHL17|KLHL17</th>\n",
       "      <th>RP11-54O7.17|RP11-54O7.17</th>\n",
       "      <th>HES4|HES4</th>\n",
       "      <th>...</th>\n",
       "      <th>C16orf89|C16orf89</th>\n",
       "      <th>AC015936.3|AC015936.3</th>\n",
       "      <th>AQP4-AS1|AQP4-AS1</th>\n",
       "      <th>CTD-2023N9.2|CTD-2023N9.2</th>\n",
       "      <th>SCGB1D1|SCGB1D1</th>\n",
       "      <th>SCGB1D2|SCGB1D2</th>\n",
       "      <th>RP11-268P4.5|RP11-268P4.5</th>\n",
       "      <th>RP1-79C4.4|RP1-79C4.4</th>\n",
       "      <th>MSTN|MSTN</th>\n",
       "      <th>CDKN2A|CDKN2A</th>\n",
       "    </tr>\n",
       "    <tr>\n",
       "      <th>cell</th>\n",
       "      <th></th>\n",
       "      <th></th>\n",
       "      <th></th>\n",
       "      <th></th>\n",
       "      <th></th>\n",
       "      <th></th>\n",
       "      <th></th>\n",
       "      <th></th>\n",
       "      <th></th>\n",
       "      <th></th>\n",
       "      <th></th>\n",
       "      <th></th>\n",
       "      <th></th>\n",
       "      <th></th>\n",
       "      <th></th>\n",
       "      <th></th>\n",
       "      <th></th>\n",
       "      <th></th>\n",
       "      <th></th>\n",
       "      <th></th>\n",
       "      <th></th>\n",
       "    </tr>\n",
       "  </thead>\n",
       "  <tbody>\n",
       "    <tr>\n",
       "      <th>H1SWeek3_AAACCTGAGACAAAGG</th>\n",
       "      <td>0.056281</td>\n",
       "      <td>0.0</td>\n",
       "      <td>0.484291</td>\n",
       "      <td>0.0</td>\n",
       "      <td>0.0</td>\n",
       "      <td>0.0</td>\n",
       "      <td>0.244218</td>\n",
       "      <td>0.0</td>\n",
       "      <td>0.0</td>\n",
       "      <td>0.869861</td>\n",
       "      <td>...</td>\n",
       "      <td>0.0</td>\n",
       "      <td>0.0</td>\n",
       "      <td>0.0</td>\n",
       "      <td>0.0</td>\n",
       "      <td>0.0</td>\n",
       "      <td>0.0</td>\n",
       "      <td>0.0</td>\n",
       "      <td>0.0</td>\n",
       "      <td>0.0</td>\n",
       "      <td>0.0</td>\n",
       "    </tr>\n",
       "    <tr>\n",
       "      <th>H1SWeek3_AAACCTGAGCACACAG</th>\n",
       "      <td>0.000000</td>\n",
       "      <td>0.0</td>\n",
       "      <td>0.000000</td>\n",
       "      <td>0.0</td>\n",
       "      <td>0.0</td>\n",
       "      <td>0.0</td>\n",
       "      <td>0.000000</td>\n",
       "      <td>0.0</td>\n",
       "      <td>0.0</td>\n",
       "      <td>1.845953</td>\n",
       "      <td>...</td>\n",
       "      <td>0.0</td>\n",
       "      <td>0.0</td>\n",
       "      <td>0.0</td>\n",
       "      <td>0.0</td>\n",
       "      <td>0.0</td>\n",
       "      <td>0.0</td>\n",
       "      <td>0.0</td>\n",
       "      <td>0.0</td>\n",
       "      <td>0.0</td>\n",
       "      <td>0.0</td>\n",
       "    </tr>\n",
       "    <tr>\n",
       "      <th>H1SWeek3_AAACCTGAGGATGGAA</th>\n",
       "      <td>0.000000</td>\n",
       "      <td>0.0</td>\n",
       "      <td>0.000000</td>\n",
       "      <td>0.0</td>\n",
       "      <td>0.0</td>\n",
       "      <td>0.0</td>\n",
       "      <td>0.000000</td>\n",
       "      <td>0.0</td>\n",
       "      <td>0.0</td>\n",
       "      <td>2.181963</td>\n",
       "      <td>...</td>\n",
       "      <td>0.0</td>\n",
       "      <td>0.0</td>\n",
       "      <td>0.0</td>\n",
       "      <td>0.0</td>\n",
       "      <td>0.0</td>\n",
       "      <td>0.0</td>\n",
       "      <td>0.0</td>\n",
       "      <td>0.0</td>\n",
       "      <td>0.0</td>\n",
       "      <td>0.0</td>\n",
       "    </tr>\n",
       "    <tr>\n",
       "      <th>H1SWeek3_AAACCTGCAATTGCTG</th>\n",
       "      <td>1.177366</td>\n",
       "      <td>0.0</td>\n",
       "      <td>0.000000</td>\n",
       "      <td>0.0</td>\n",
       "      <td>0.0</td>\n",
       "      <td>0.0</td>\n",
       "      <td>0.000000</td>\n",
       "      <td>0.0</td>\n",
       "      <td>0.0</td>\n",
       "      <td>1.282427</td>\n",
       "      <td>...</td>\n",
       "      <td>0.0</td>\n",
       "      <td>0.0</td>\n",
       "      <td>0.0</td>\n",
       "      <td>0.0</td>\n",
       "      <td>0.0</td>\n",
       "      <td>0.0</td>\n",
       "      <td>0.0</td>\n",
       "      <td>0.0</td>\n",
       "      <td>0.0</td>\n",
       "      <td>0.0</td>\n",
       "    </tr>\n",
       "    <tr>\n",
       "      <th>H1SWeek3_AAACCTGCAGCGTAAG</th>\n",
       "      <td>0.000000</td>\n",
       "      <td>0.0</td>\n",
       "      <td>0.000000</td>\n",
       "      <td>0.0</td>\n",
       "      <td>0.0</td>\n",
       "      <td>0.0</td>\n",
       "      <td>0.000000</td>\n",
       "      <td>0.0</td>\n",
       "      <td>0.0</td>\n",
       "      <td>0.000000</td>\n",
       "      <td>...</td>\n",
       "      <td>0.0</td>\n",
       "      <td>0.0</td>\n",
       "      <td>0.0</td>\n",
       "      <td>0.0</td>\n",
       "      <td>0.0</td>\n",
       "      <td>0.0</td>\n",
       "      <td>0.0</td>\n",
       "      <td>0.0</td>\n",
       "      <td>0.0</td>\n",
       "      <td>0.0</td>\n",
       "    </tr>\n",
       "  </tbody>\n",
       "</table>\n",
       "<p>5 rows × 16774 columns</p>\n",
       "</div>"
      ],
      "text/plain": [
       "                           FO538757.2|FO538757.2  AP006222.2|AP006222.2  \\\n",
       "cell                                                                      \n",
       "H1SWeek3_AAACCTGAGACAAAGG               0.056281                    0.0   \n",
       "H1SWeek3_AAACCTGAGCACACAG               0.000000                    0.0   \n",
       "H1SWeek3_AAACCTGAGGATGGAA               0.000000                    0.0   \n",
       "H1SWeek3_AAACCTGCAATTGCTG               1.177366                    0.0   \n",
       "H1SWeek3_AAACCTGCAGCGTAAG               0.000000                    0.0   \n",
       "\n",
       "                           RP11-206L10.9|RP11-206L10.9  \\\n",
       "cell                                                     \n",
       "H1SWeek3_AAACCTGAGACAAAGG                     0.484291   \n",
       "H1SWeek3_AAACCTGAGCACACAG                     0.000000   \n",
       "H1SWeek3_AAACCTGAGGATGGAA                     0.000000   \n",
       "H1SWeek3_AAACCTGCAATTGCTG                     0.000000   \n",
       "H1SWeek3_AAACCTGCAGCGTAAG                     0.000000   \n",
       "\n",
       "                           RP11-54O7.1|RP11-54O7.1  RP11-54O7.3|RP11-54O7.3  \\\n",
       "cell                                                                          \n",
       "H1SWeek3_AAACCTGAGACAAAGG                      0.0                      0.0   \n",
       "H1SWeek3_AAACCTGAGCACACAG                      0.0                      0.0   \n",
       "H1SWeek3_AAACCTGAGGATGGAA                      0.0                      0.0   \n",
       "H1SWeek3_AAACCTGCAATTGCTG                      0.0                      0.0   \n",
       "H1SWeek3_AAACCTGCAGCGTAAG                      0.0                      0.0   \n",
       "\n",
       "                           SAMD11|SAMD11  NOC2L|NOC2L  KLHL17|KLHL17  \\\n",
       "cell                                                                   \n",
       "H1SWeek3_AAACCTGAGACAAAGG            0.0     0.244218            0.0   \n",
       "H1SWeek3_AAACCTGAGCACACAG            0.0     0.000000            0.0   \n",
       "H1SWeek3_AAACCTGAGGATGGAA            0.0     0.000000            0.0   \n",
       "H1SWeek3_AAACCTGCAATTGCTG            0.0     0.000000            0.0   \n",
       "H1SWeek3_AAACCTGCAGCGTAAG            0.0     0.000000            0.0   \n",
       "\n",
       "                           RP11-54O7.17|RP11-54O7.17  HES4|HES4  ...  \\\n",
       "cell                                                             ...   \n",
       "H1SWeek3_AAACCTGAGACAAAGG                        0.0   0.869861  ...   \n",
       "H1SWeek3_AAACCTGAGCACACAG                        0.0   1.845953  ...   \n",
       "H1SWeek3_AAACCTGAGGATGGAA                        0.0   2.181963  ...   \n",
       "H1SWeek3_AAACCTGCAATTGCTG                        0.0   1.282427  ...   \n",
       "H1SWeek3_AAACCTGCAGCGTAAG                        0.0   0.000000  ...   \n",
       "\n",
       "                           C16orf89|C16orf89  AC015936.3|AC015936.3  \\\n",
       "cell                                                                  \n",
       "H1SWeek3_AAACCTGAGACAAAGG                0.0                    0.0   \n",
       "H1SWeek3_AAACCTGAGCACACAG                0.0                    0.0   \n",
       "H1SWeek3_AAACCTGAGGATGGAA                0.0                    0.0   \n",
       "H1SWeek3_AAACCTGCAATTGCTG                0.0                    0.0   \n",
       "H1SWeek3_AAACCTGCAGCGTAAG                0.0                    0.0   \n",
       "\n",
       "                           AQP4-AS1|AQP4-AS1  CTD-2023N9.2|CTD-2023N9.2  \\\n",
       "cell                                                                      \n",
       "H1SWeek3_AAACCTGAGACAAAGG                0.0                        0.0   \n",
       "H1SWeek3_AAACCTGAGCACACAG                0.0                        0.0   \n",
       "H1SWeek3_AAACCTGAGGATGGAA                0.0                        0.0   \n",
       "H1SWeek3_AAACCTGCAATTGCTG                0.0                        0.0   \n",
       "H1SWeek3_AAACCTGCAGCGTAAG                0.0                        0.0   \n",
       "\n",
       "                           SCGB1D1|SCGB1D1  SCGB1D2|SCGB1D2  \\\n",
       "cell                                                          \n",
       "H1SWeek3_AAACCTGAGACAAAGG              0.0              0.0   \n",
       "H1SWeek3_AAACCTGAGCACACAG              0.0              0.0   \n",
       "H1SWeek3_AAACCTGAGGATGGAA              0.0              0.0   \n",
       "H1SWeek3_AAACCTGCAATTGCTG              0.0              0.0   \n",
       "H1SWeek3_AAACCTGCAGCGTAAG              0.0              0.0   \n",
       "\n",
       "                           RP11-268P4.5|RP11-268P4.5  RP1-79C4.4|RP1-79C4.4  \\\n",
       "cell                                                                          \n",
       "H1SWeek3_AAACCTGAGACAAAGG                        0.0                    0.0   \n",
       "H1SWeek3_AAACCTGAGCACACAG                        0.0                    0.0   \n",
       "H1SWeek3_AAACCTGAGGATGGAA                        0.0                    0.0   \n",
       "H1SWeek3_AAACCTGCAATTGCTG                        0.0                    0.0   \n",
       "H1SWeek3_AAACCTGCAGCGTAAG                        0.0                    0.0   \n",
       "\n",
       "                           MSTN|MSTN  CDKN2A|CDKN2A  \n",
       "cell                                                 \n",
       "H1SWeek3_AAACCTGAGACAAAGG        0.0            0.0  \n",
       "H1SWeek3_AAACCTGAGCACACAG        0.0            0.0  \n",
       "H1SWeek3_AAACCTGAGGATGGAA        0.0            0.0  \n",
       "H1SWeek3_AAACCTGCAATTGCTG        0.0            0.0  \n",
       "H1SWeek3_AAACCTGCAGCGTAAG        0.0            0.0  \n",
       "\n",
       "[5 rows x 16774 columns]"
      ]
     },
     "execution_count": 4,
     "metadata": {},
     "output_type": "execute_result"
    }
   ],
   "source": [
    "organoid.head()"
   ]
  },
  {
   "cell_type": "code",
   "execution_count": 5,
   "metadata": {},
   "outputs": [
    {
     "data": {
      "text/html": [
       "<div>\n",
       "<style scoped>\n",
       "    .dataframe tbody tr th:only-of-type {\n",
       "        vertical-align: middle;\n",
       "    }\n",
       "\n",
       "    .dataframe tbody tr th {\n",
       "        vertical-align: top;\n",
       "    }\n",
       "\n",
       "    .dataframe thead th {\n",
       "        text-align: right;\n",
       "    }\n",
       "</style>\n",
       "<table border=\"1\" class=\"dataframe\">\n",
       "  <thead>\n",
       "    <tr style=\"text-align: right;\">\n",
       "      <th></th>\n",
       "      <th>FO538757.2</th>\n",
       "      <th>AP006222.2</th>\n",
       "      <th>RP11-206L10.9</th>\n",
       "      <th>FAM41C</th>\n",
       "      <th>NOC2L</th>\n",
       "      <th>AGRN</th>\n",
       "      <th>C1orf159</th>\n",
       "      <th>ACAP3</th>\n",
       "      <th>CPSF3L</th>\n",
       "      <th>AURKAIP1</th>\n",
       "      <th>...</th>\n",
       "      <th>CTB-50L17.9</th>\n",
       "      <th>CTC-325H20.4</th>\n",
       "      <th>GGN</th>\n",
       "      <th>CTD-2245F17.6</th>\n",
       "      <th>LIF</th>\n",
       "      <th>RP1-102K2.8</th>\n",
       "      <th>RP3-430N8.11</th>\n",
       "      <th>DNAJB7</th>\n",
       "      <th>CH507-145C22.1</th>\n",
       "      <th>DSCR9</th>\n",
       "    </tr>\n",
       "    <tr>\n",
       "      <th>cell</th>\n",
       "      <th></th>\n",
       "      <th></th>\n",
       "      <th></th>\n",
       "      <th></th>\n",
       "      <th></th>\n",
       "      <th></th>\n",
       "      <th></th>\n",
       "      <th></th>\n",
       "      <th></th>\n",
       "      <th></th>\n",
       "      <th></th>\n",
       "      <th></th>\n",
       "      <th></th>\n",
       "      <th></th>\n",
       "      <th></th>\n",
       "      <th></th>\n",
       "      <th></th>\n",
       "      <th></th>\n",
       "      <th></th>\n",
       "      <th></th>\n",
       "      <th></th>\n",
       "    </tr>\n",
       "  </thead>\n",
       "  <tbody>\n",
       "    <tr>\n",
       "      <th>AAACCTGAGCTGCCCA_50646</th>\n",
       "      <td>2.846667</td>\n",
       "      <td>0.000000</td>\n",
       "      <td>0.0</td>\n",
       "      <td>0.0</td>\n",
       "      <td>0.0</td>\n",
       "      <td>0.0</td>\n",
       "      <td>0.0</td>\n",
       "      <td>0.0</td>\n",
       "      <td>0.0</td>\n",
       "      <td>0.000000</td>\n",
       "      <td>...</td>\n",
       "      <td>0.0</td>\n",
       "      <td>0.0</td>\n",
       "      <td>0.0</td>\n",
       "      <td>0.0</td>\n",
       "      <td>0.0</td>\n",
       "      <td>0.0</td>\n",
       "      <td>0.0</td>\n",
       "      <td>0.0</td>\n",
       "      <td>0.0</td>\n",
       "      <td>0.0</td>\n",
       "    </tr>\n",
       "    <tr>\n",
       "      <th>AAACCTGAGCTTATCG_50647</th>\n",
       "      <td>0.000000</td>\n",
       "      <td>0.000000</td>\n",
       "      <td>0.0</td>\n",
       "      <td>0.0</td>\n",
       "      <td>0.0</td>\n",
       "      <td>0.0</td>\n",
       "      <td>0.0</td>\n",
       "      <td>0.0</td>\n",
       "      <td>0.0</td>\n",
       "      <td>0.000000</td>\n",
       "      <td>...</td>\n",
       "      <td>0.0</td>\n",
       "      <td>0.0</td>\n",
       "      <td>0.0</td>\n",
       "      <td>0.0</td>\n",
       "      <td>0.0</td>\n",
       "      <td>0.0</td>\n",
       "      <td>0.0</td>\n",
       "      <td>0.0</td>\n",
       "      <td>0.0</td>\n",
       "      <td>0.0</td>\n",
       "    </tr>\n",
       "    <tr>\n",
       "      <th>AAACCTGAGTATGACA_50652</th>\n",
       "      <td>0.000000</td>\n",
       "      <td>1.850696</td>\n",
       "      <td>0.0</td>\n",
       "      <td>0.0</td>\n",
       "      <td>0.0</td>\n",
       "      <td>0.0</td>\n",
       "      <td>0.0</td>\n",
       "      <td>0.0</td>\n",
       "      <td>0.0</td>\n",
       "      <td>0.000000</td>\n",
       "      <td>...</td>\n",
       "      <td>0.0</td>\n",
       "      <td>0.0</td>\n",
       "      <td>0.0</td>\n",
       "      <td>0.0</td>\n",
       "      <td>0.0</td>\n",
       "      <td>0.0</td>\n",
       "      <td>0.0</td>\n",
       "      <td>0.0</td>\n",
       "      <td>0.0</td>\n",
       "      <td>0.0</td>\n",
       "    </tr>\n",
       "    <tr>\n",
       "      <th>AAACCTGAGTCGCCGT_50654</th>\n",
       "      <td>1.606674</td>\n",
       "      <td>0.000000</td>\n",
       "      <td>0.0</td>\n",
       "      <td>0.0</td>\n",
       "      <td>0.0</td>\n",
       "      <td>0.0</td>\n",
       "      <td>0.0</td>\n",
       "      <td>0.0</td>\n",
       "      <td>0.0</td>\n",
       "      <td>0.000000</td>\n",
       "      <td>...</td>\n",
       "      <td>0.0</td>\n",
       "      <td>0.0</td>\n",
       "      <td>0.0</td>\n",
       "      <td>0.0</td>\n",
       "      <td>0.0</td>\n",
       "      <td>0.0</td>\n",
       "      <td>0.0</td>\n",
       "      <td>0.0</td>\n",
       "      <td>0.0</td>\n",
       "      <td>0.0</td>\n",
       "    </tr>\n",
       "    <tr>\n",
       "      <th>AAACCTGCACCAGCAC_50657</th>\n",
       "      <td>0.000000</td>\n",
       "      <td>0.000000</td>\n",
       "      <td>0.0</td>\n",
       "      <td>0.0</td>\n",
       "      <td>0.0</td>\n",
       "      <td>0.0</td>\n",
       "      <td>0.0</td>\n",
       "      <td>0.0</td>\n",
       "      <td>0.0</td>\n",
       "      <td>3.506125</td>\n",
       "      <td>...</td>\n",
       "      <td>0.0</td>\n",
       "      <td>0.0</td>\n",
       "      <td>0.0</td>\n",
       "      <td>0.0</td>\n",
       "      <td>0.0</td>\n",
       "      <td>0.0</td>\n",
       "      <td>0.0</td>\n",
       "      <td>0.0</td>\n",
       "      <td>0.0</td>\n",
       "      <td>0.0</td>\n",
       "    </tr>\n",
       "  </tbody>\n",
       "</table>\n",
       "<p>5 rows × 19765 columns</p>\n",
       "</div>"
      ],
      "text/plain": [
       "                        FO538757.2  AP006222.2  RP11-206L10.9  FAM41C  NOC2L  \\\n",
       "cell                                                                           \n",
       "AAACCTGAGCTGCCCA_50646    2.846667    0.000000            0.0     0.0    0.0   \n",
       "AAACCTGAGCTTATCG_50647    0.000000    0.000000            0.0     0.0    0.0   \n",
       "AAACCTGAGTATGACA_50652    0.000000    1.850696            0.0     0.0    0.0   \n",
       "AAACCTGAGTCGCCGT_50654    1.606674    0.000000            0.0     0.0    0.0   \n",
       "AAACCTGCACCAGCAC_50657    0.000000    0.000000            0.0     0.0    0.0   \n",
       "\n",
       "                        AGRN  C1orf159  ACAP3  CPSF3L  AURKAIP1  ...  \\\n",
       "cell                                                             ...   \n",
       "AAACCTGAGCTGCCCA_50646   0.0       0.0    0.0     0.0  0.000000  ...   \n",
       "AAACCTGAGCTTATCG_50647   0.0       0.0    0.0     0.0  0.000000  ...   \n",
       "AAACCTGAGTATGACA_50652   0.0       0.0    0.0     0.0  0.000000  ...   \n",
       "AAACCTGAGTCGCCGT_50654   0.0       0.0    0.0     0.0  0.000000  ...   \n",
       "AAACCTGCACCAGCAC_50657   0.0       0.0    0.0     0.0  3.506125  ...   \n",
       "\n",
       "                        CTB-50L17.9  CTC-325H20.4  GGN  CTD-2245F17.6  LIF  \\\n",
       "cell                                                                         \n",
       "AAACCTGAGCTGCCCA_50646          0.0           0.0  0.0            0.0  0.0   \n",
       "AAACCTGAGCTTATCG_50647          0.0           0.0  0.0            0.0  0.0   \n",
       "AAACCTGAGTATGACA_50652          0.0           0.0  0.0            0.0  0.0   \n",
       "AAACCTGAGTCGCCGT_50654          0.0           0.0  0.0            0.0  0.0   \n",
       "AAACCTGCACCAGCAC_50657          0.0           0.0  0.0            0.0  0.0   \n",
       "\n",
       "                        RP1-102K2.8  RP3-430N8.11  DNAJB7  CH507-145C22.1  \\\n",
       "cell                                                                        \n",
       "AAACCTGAGCTGCCCA_50646          0.0           0.0     0.0             0.0   \n",
       "AAACCTGAGCTTATCG_50647          0.0           0.0     0.0             0.0   \n",
       "AAACCTGAGTATGACA_50652          0.0           0.0     0.0             0.0   \n",
       "AAACCTGAGTCGCCGT_50654          0.0           0.0     0.0             0.0   \n",
       "AAACCTGCACCAGCAC_50657          0.0           0.0     0.0             0.0   \n",
       "\n",
       "                        DSCR9  \n",
       "cell                           \n",
       "AAACCTGAGCTGCCCA_50646    0.0  \n",
       "AAACCTGAGCTTATCG_50647    0.0  \n",
       "AAACCTGAGTATGACA_50652    0.0  \n",
       "AAACCTGAGTCGCCGT_50654    0.0  \n",
       "AAACCTGCACCAGCAC_50657    0.0  \n",
       "\n",
       "[5 rows x 19765 columns]"
      ]
     },
     "execution_count": 5,
     "metadata": {},
     "output_type": "execute_result"
    }
   ],
   "source": [
    "primary.head()"
   ]
  },
  {
   "cell_type": "markdown",
   "metadata": {},
   "source": [
    "Now, we want to fix the column names of the organoid data since it seems the genes were duplicated"
   ]
  },
  {
   "cell_type": "code",
   "execution_count": 37,
   "metadata": {},
   "outputs": [],
   "source": [
    "organoid_cols = [x.split('|')[0] for x in organoid.columns]\n",
    "organoid.columns = organoid_cols"
   ]
  },
  {
   "cell_type": "code",
   "execution_count": 38,
   "metadata": {},
   "outputs": [
    {
     "data": {
      "text/plain": [
       "((4587, 16774), (4891, 19765))"
      ]
     },
     "execution_count": 38,
     "metadata": {},
     "output_type": "execute_result"
    }
   ],
   "source": [
    "organoid.shape, primary.shape"
   ]
  },
  {
   "cell_type": "markdown",
   "metadata": {},
   "source": [
    "Since they are more genes expressed in the primary data, let's only consider the genes that are expressed in both the primary and organoid data"
   ]
  },
  {
   "cell_type": "code",
   "execution_count": 39,
   "metadata": {},
   "outputs": [
    {
     "data": {
      "text/plain": [
       "Index(['FO538757.2', 'AP006222.2', 'RP11-206L10.9', 'RP11-54O7.1',\n",
       "       'RP11-54O7.3', 'SAMD11', 'NOC2L', 'KLHL17', 'RP11-54O7.17', 'HES4',\n",
       "       ...\n",
       "       'C16orf89', 'AC015936.3', 'AQP4-AS1', 'CTD-2023N9.2', 'SCGB1D1',\n",
       "       'SCGB1D2', 'RP11-268P4.5', 'RP1-79C4.4', 'MSTN', 'CDKN2A'],\n",
       "      dtype='object', length=16774)"
      ]
     },
     "execution_count": 39,
     "metadata": {},
     "output_type": "execute_result"
    }
   ],
   "source": [
    "organoid.columns"
   ]
  },
  {
   "cell_type": "code",
   "execution_count": 40,
   "metadata": {},
   "outputs": [
    {
     "data": {
      "text/plain": [
       "267"
      ]
     },
     "execution_count": 40,
     "metadata": {},
     "output_type": "execute_result"
    }
   ],
   "source": [
    "len(list(set(organoid.columns) - set(primary.columns)))"
   ]
  },
  {
   "cell_type": "markdown",
   "metadata": {},
   "source": [
    "Therefore, there are 276 genes that are expressed in the organoids but not the primary data. Therefore, let's just consider the genes that are expressed in both."
   ]
  },
  {
   "cell_type": "code",
   "execution_count": 41,
   "metadata": {},
   "outputs": [
    {
     "data": {
      "text/plain": [
       "16507"
      ]
     },
     "execution_count": 41,
     "metadata": {},
     "output_type": "execute_result"
    }
   ],
   "source": [
    "len(list(set(organoid.columns).intersection(primary.columns)))"
   ]
  },
  {
   "cell_type": "markdown",
   "metadata": {},
   "source": [
    "Great. Now we can subset both datasets to only consider gene expressions in both, since we'll ultimately be using the primary data to build a classifier that needs to work on the organoid data."
   ]
  },
  {
   "cell_type": "code",
   "execution_count": 42,
   "metadata": {},
   "outputs": [],
   "source": [
    "subgenes = list(set(organoid.columns).intersection(primary.columns))"
   ]
  },
  {
   "cell_type": "code",
   "execution_count": 43,
   "metadata": {},
   "outputs": [
    {
     "data": {
      "text/plain": [
       "['ZNF548',\n",
       " 'MED18',\n",
       " 'PIGH',\n",
       " 'SERP1',\n",
       " 'ARGLU1',\n",
       " 'AC074289.1',\n",
       " 'ZNF467',\n",
       " 'C11orf98',\n",
       " 'TTC39C',\n",
       " 'PLD6',\n",
       " 'TFAP2B',\n",
       " 'ACSL3',\n",
       " 'RP11-159D12.10',\n",
       " 'ZBTB7B',\n",
       " 'RP11-1191J2.2',\n",
       " 'HES2',\n",
       " 'SPINK2',\n",
       " 'ZSCAN31',\n",
       " 'ATF7',\n",
       " 'LSM11',\n",
       " 'CCDC13',\n",
       " 'DRC1',\n",
       " 'C16orf71',\n",
       " 'DNAH10',\n",
       " 'UBE2T',\n",
       " 'KCTD12',\n",
       " 'PIK3C2B',\n",
       " 'MICALL1',\n",
       " 'PRIMPOL',\n",
       " 'RP11-379F4.4',\n",
       " 'ARHGEF6',\n",
       " 'NIFK',\n",
       " 'RP11-809O17.1',\n",
       " 'PRPF40A',\n",
       " 'MTMR9',\n",
       " 'CYP7B1',\n",
       " 'CNP',\n",
       " 'SRR',\n",
       " 'CDC42EP4',\n",
       " 'TMED1',\n",
       " 'PER1',\n",
       " 'AC018799.1',\n",
       " 'TMEM68',\n",
       " 'ZNF510',\n",
       " 'SREBF2',\n",
       " 'ARRDC1',\n",
       " 'CADM1',\n",
       " 'DUS2',\n",
       " 'RP11-273G15.2',\n",
       " 'ORC2',\n",
       " 'SIK1',\n",
       " 'TCF20',\n",
       " 'RPS3A',\n",
       " 'LINC00324',\n",
       " 'SLC13A4',\n",
       " 'TMEM42',\n",
       " 'MTOR',\n",
       " 'SIRT5',\n",
       " 'DDX31',\n",
       " 'SRFBP1',\n",
       " 'ADAT1',\n",
       " 'HOMER1',\n",
       " 'PYGO1',\n",
       " 'LRRC34',\n",
       " 'SOCS3',\n",
       " 'LRG1',\n",
       " 'KCNJ8',\n",
       " 'EIF6',\n",
       " 'C12orf60',\n",
       " 'CLINT1',\n",
       " 'SRP14-AS1',\n",
       " 'CHADL',\n",
       " 'ERAP2',\n",
       " 'POLR2G',\n",
       " 'SNHG23',\n",
       " 'SIPA1L1',\n",
       " 'PTCD3',\n",
       " 'SUPV3L1',\n",
       " 'B3GALT2',\n",
       " 'OMA1',\n",
       " 'ZNF207',\n",
       " 'RP11-159H10.3',\n",
       " 'HCG18',\n",
       " 'SCAF4',\n",
       " 'RP13-650J16.1',\n",
       " 'CCDC14',\n",
       " 'ECI1',\n",
       " 'RP1-78B3.1',\n",
       " 'CCDC170',\n",
       " 'ZBTB5',\n",
       " 'PLCXD3',\n",
       " 'ZNF627',\n",
       " 'HMG20B',\n",
       " 'RP11-705O1.8',\n",
       " 'SLC25A18',\n",
       " 'RGCC',\n",
       " 'RP11-123K19.1',\n",
       " 'WDFY1',\n",
       " 'BZRAP1',\n",
       " 'ENHO',\n",
       " 'FAT1',\n",
       " 'CFAP77',\n",
       " 'SYNGAP1',\n",
       " 'RP11-710C12.1',\n",
       " 'ANGPTL2',\n",
       " 'RP11-736K20.6',\n",
       " 'ATP5E',\n",
       " 'TMEM177',\n",
       " 'SLC16A8',\n",
       " 'C21orf59',\n",
       " 'AATK',\n",
       " 'TGFBRAP1',\n",
       " 'ARIH2',\n",
       " 'RPS6KA2',\n",
       " 'RP11-308D13.3',\n",
       " 'IGFBP6',\n",
       " 'DHRS7',\n",
       " 'NPHP3',\n",
       " 'RP11-3P17.4',\n",
       " 'RP11-350J20.5',\n",
       " 'RASSF8',\n",
       " 'SNRPC',\n",
       " 'CREB3',\n",
       " 'C21orf58',\n",
       " 'CFAP52',\n",
       " 'ZNF134',\n",
       " 'UQCC3',\n",
       " 'LINC01481',\n",
       " 'SIN3A',\n",
       " 'C1orf186',\n",
       " 'LINC00473',\n",
       " 'USP1',\n",
       " 'HERC3',\n",
       " 'RP11-495P10.1',\n",
       " 'CTNNA2',\n",
       " 'HIST1H4J',\n",
       " 'CYB5D2',\n",
       " 'TMEM104',\n",
       " 'SMPD3',\n",
       " 'SNRPF',\n",
       " 'CUL7',\n",
       " 'CTA-373H7.7',\n",
       " 'NMB',\n",
       " 'RP11-1348G14.8',\n",
       " 'UFM1',\n",
       " 'FBXO44',\n",
       " 'MXRA5',\n",
       " 'AC093495.4',\n",
       " 'PACSIN3',\n",
       " 'TMEM167A',\n",
       " 'SDHD',\n",
       " 'UBAP1',\n",
       " 'URB2',\n",
       " 'ILDR2',\n",
       " 'PTP4A3',\n",
       " 'RP11-11M20.4',\n",
       " 'B3GALT4',\n",
       " 'SETMAR',\n",
       " 'TECPR1',\n",
       " 'JAM3',\n",
       " 'LOH12CR2',\n",
       " 'EIF3K',\n",
       " 'DCAF11',\n",
       " 'CTD-2024P10.2',\n",
       " 'TMEM147-AS1',\n",
       " 'FBN2',\n",
       " 'RP11-563J2.2',\n",
       " 'CARD8',\n",
       " 'POLR2D',\n",
       " 'CGGBP1',\n",
       " 'FBXO33',\n",
       " 'RP11-434B12.1',\n",
       " 'PPP1R11',\n",
       " 'RP11-944L7.4',\n",
       " 'GNB1L',\n",
       " 'PI15',\n",
       " 'CAMLG',\n",
       " 'HEATR6',\n",
       " 'RP11-15A1.3',\n",
       " 'TUG1',\n",
       " 'RP11-795F19.1',\n",
       " 'SBF2-AS1',\n",
       " 'EPB41L2',\n",
       " 'LRSAM1',\n",
       " 'TP53RK',\n",
       " 'ASMTL',\n",
       " 'RAF1',\n",
       " 'FBXL16',\n",
       " 'ARHGAP22',\n",
       " 'MYL9',\n",
       " 'EMILIN3',\n",
       " 'PCYT1B',\n",
       " 'ZNF383',\n",
       " 'C9orf9',\n",
       " 'VIT',\n",
       " 'PCYOX1',\n",
       " 'CARS2',\n",
       " 'TFDP1',\n",
       " 'RAP1GDS1',\n",
       " 'A2M',\n",
       " 'ARHGEF37',\n",
       " 'STXBP5',\n",
       " 'PTN',\n",
       " 'CCDC159',\n",
       " 'KIF9-AS1',\n",
       " 'DDX49',\n",
       " 'UBE2V1',\n",
       " 'ABCF2',\n",
       " 'SYTL2',\n",
       " 'C6orf226',\n",
       " 'BHLHB9',\n",
       " 'NDST2',\n",
       " 'RP11-286N22.8',\n",
       " 'TET3',\n",
       " 'PANX1',\n",
       " 'USP42',\n",
       " 'RP11-378I6.1',\n",
       " 'PRKAB2',\n",
       " 'PDE6B',\n",
       " 'BEGAIN',\n",
       " 'AFTPH',\n",
       " 'FAM208A',\n",
       " 'LINC01011',\n",
       " 'SLC16A12',\n",
       " 'DNAJB12',\n",
       " 'AMD1',\n",
       " 'UPF3B',\n",
       " 'RP11-16E18.3',\n",
       " 'ATP5A1',\n",
       " 'AMPH',\n",
       " 'RASAL2',\n",
       " 'GSG2',\n",
       " 'CEBPD',\n",
       " 'TANK',\n",
       " 'HADHA',\n",
       " 'EIF4A2',\n",
       " 'GAS2',\n",
       " 'PRELP',\n",
       " 'CERS5',\n",
       " 'FUCA2',\n",
       " 'USP3-AS1',\n",
       " 'CTD-2017F17.2',\n",
       " 'ARHGEF11',\n",
       " 'TRABD2A',\n",
       " 'DSN1',\n",
       " 'CDAN1',\n",
       " 'USP4',\n",
       " 'SYNE2',\n",
       " 'EML6',\n",
       " 'FBXO28',\n",
       " 'AC097662.2',\n",
       " 'HAPLN1',\n",
       " 'PLOD2',\n",
       " 'PIH1D2',\n",
       " 'HIST1H2BC',\n",
       " 'AKAP6',\n",
       " 'PES1',\n",
       " 'NPHP1',\n",
       " 'B9D2',\n",
       " 'RTN4RL2',\n",
       " 'ZNF396',\n",
       " 'RP3-510D11.2',\n",
       " 'HEBP2',\n",
       " 'BCL9L',\n",
       " 'UXT',\n",
       " 'TMUB1',\n",
       " 'MTRNR2L8',\n",
       " 'MT-ATP6',\n",
       " 'RAMP2',\n",
       " 'RP1-313I6.12',\n",
       " 'MCM9',\n",
       " 'CAP2',\n",
       " 'TRIB1',\n",
       " 'RP11-446N19.1',\n",
       " 'CBLB',\n",
       " 'RP11-452L6.1',\n",
       " 'TMEM260',\n",
       " 'CPSF3',\n",
       " 'LONRF2',\n",
       " 'MRPL44',\n",
       " 'PTGES3',\n",
       " 'LINC01119',\n",
       " 'C1orf145',\n",
       " 'RAD1',\n",
       " 'FAM102B',\n",
       " 'DKFZP434I0714',\n",
       " 'GAS7',\n",
       " 'AMZ2',\n",
       " 'SEMA5B',\n",
       " 'SLC25A29',\n",
       " 'HKDC1',\n",
       " 'ARID4B',\n",
       " 'SPCS3',\n",
       " 'OVOS2',\n",
       " 'INSIG2',\n",
       " 'ST6GALNAC4',\n",
       " 'TRAPPC8',\n",
       " 'BORCS8',\n",
       " 'RBMS3',\n",
       " 'BTN2A2',\n",
       " 'ANO8',\n",
       " 'GADD45GIP1',\n",
       " 'KRT31',\n",
       " 'GSG1L',\n",
       " 'LINC01465',\n",
       " 'RBP1',\n",
       " 'SPATA2',\n",
       " 'DCLK2',\n",
       " 'EIF3M',\n",
       " 'ATP13A2',\n",
       " 'GABARAPL2',\n",
       " 'RP11-102N12.3',\n",
       " 'MOB4',\n",
       " 'REST',\n",
       " 'RP5-1185I7.1',\n",
       " 'SCARNA2',\n",
       " 'M6PR',\n",
       " 'RPGR',\n",
       " 'RANGAP1',\n",
       " 'OARD1',\n",
       " 'RBM6',\n",
       " 'HLTF',\n",
       " 'BRF2',\n",
       " 'PILRB',\n",
       " 'TCEB1',\n",
       " 'GPR137',\n",
       " 'MIRLET7BHG',\n",
       " 'ATHL1',\n",
       " 'OSCP1',\n",
       " 'BRI3',\n",
       " 'LRRIQ1',\n",
       " 'DDX5',\n",
       " 'NME7',\n",
       " 'SCAND1',\n",
       " 'LHFPL2',\n",
       " 'EIF5AL1',\n",
       " 'CCDC51',\n",
       " 'ALPL',\n",
       " 'ZNF713',\n",
       " 'CFAP100',\n",
       " 'SNAPC4',\n",
       " 'SEC11C',\n",
       " 'NPY5R',\n",
       " 'RP11-324I22.4',\n",
       " 'HPS4',\n",
       " 'FAM91A1',\n",
       " 'PMM1',\n",
       " 'PDCD2',\n",
       " 'MRPL23',\n",
       " 'RP11-527D7.1',\n",
       " 'KLHL17',\n",
       " 'RP11-98G7.1',\n",
       " 'FAM83H-AS1',\n",
       " 'NECAP1',\n",
       " 'TECTA',\n",
       " 'CNN1',\n",
       " 'LBHD1',\n",
       " 'TEFM',\n",
       " 'SLC12A2',\n",
       " 'SMARCA2',\n",
       " 'RPS19BP1',\n",
       " 'RP11-770J1.5',\n",
       " 'EOMES',\n",
       " 'UNC119',\n",
       " 'MMD',\n",
       " 'SLC27A3',\n",
       " 'GATA2',\n",
       " 'RP11-436K8.1',\n",
       " 'FAM174A',\n",
       " 'PLXDC1',\n",
       " 'RP11-158H5.8',\n",
       " 'CHMP4C',\n",
       " 'RPUSD4',\n",
       " 'IQCK',\n",
       " 'LIFR',\n",
       " 'AC003090.1',\n",
       " 'CUBN',\n",
       " 'COA1',\n",
       " 'EIF1',\n",
       " 'CD151',\n",
       " 'USP43',\n",
       " 'KLHL42',\n",
       " 'RP13-766D20.4',\n",
       " 'LINC01006',\n",
       " 'LINC00680',\n",
       " 'ATP6V0E2-AS1',\n",
       " 'ZNF543',\n",
       " 'RP11-236B18.5',\n",
       " 'CDCA8',\n",
       " 'TRAF5',\n",
       " 'JPH4',\n",
       " 'GPR107',\n",
       " 'TUBB',\n",
       " 'PDE1A',\n",
       " 'NEURL4',\n",
       " 'IMPG1',\n",
       " 'SIAH2',\n",
       " 'CENPM',\n",
       " 'FAM46C',\n",
       " 'GIGYF2',\n",
       " 'TXNL4B',\n",
       " 'TATDN3',\n",
       " 'COPS3',\n",
       " 'ANKS3',\n",
       " 'ZNF551',\n",
       " 'SETD4',\n",
       " 'PEAK1',\n",
       " 'C19orf52',\n",
       " 'CTD-2296D1.2',\n",
       " 'ACOT7',\n",
       " 'NOL9',\n",
       " 'THRAP3',\n",
       " 'G6PD',\n",
       " 'C2orf50',\n",
       " 'SPECC1',\n",
       " 'HTATIP2',\n",
       " 'PEX19',\n",
       " 'ZNF416',\n",
       " 'ELF3',\n",
       " 'BBX',\n",
       " 'BPNT1',\n",
       " 'MRPS31',\n",
       " 'CLPSL2',\n",
       " 'ACTL6A',\n",
       " 'PYROXD1',\n",
       " 'YME1L1',\n",
       " 'CELSR1',\n",
       " 'PARD6A',\n",
       " 'ST8SIA5',\n",
       " 'STX12',\n",
       " 'SNRNP70',\n",
       " 'MRPS34',\n",
       " 'GNA12',\n",
       " 'UCHL5',\n",
       " 'TGIF2',\n",
       " 'KIF19',\n",
       " 'SNTB2',\n",
       " 'TMEM201',\n",
       " 'ADAM17',\n",
       " 'DERL2',\n",
       " 'TXLNG',\n",
       " 'ILF3-AS1',\n",
       " 'RP11-435O5.2',\n",
       " 'NDUFA9',\n",
       " 'OAS1',\n",
       " 'TMX1',\n",
       " 'RP11-434H6.7',\n",
       " 'NBPF10',\n",
       " 'DBF4B',\n",
       " 'RP11-98D18.9',\n",
       " 'NBN',\n",
       " 'BAZ1B',\n",
       " 'UST',\n",
       " 'RP11-138P22.1',\n",
       " 'CXXC4',\n",
       " 'POT1-AS1',\n",
       " 'FOXN4',\n",
       " 'CYP26A1',\n",
       " 'PAPSS1',\n",
       " 'ANKRD34B',\n",
       " 'MASTL',\n",
       " 'DMRT3',\n",
       " 'IPO4',\n",
       " 'RP11-631N16.2',\n",
       " 'CAMK2A',\n",
       " 'SPAG16',\n",
       " 'KCNIP2',\n",
       " 'URM1',\n",
       " 'MORN3',\n",
       " 'HCN1',\n",
       " 'LRRC6',\n",
       " 'ARNT',\n",
       " 'RP11-166O4.6',\n",
       " 'LINC01201',\n",
       " 'NTSR1',\n",
       " 'RP11-424N24.2',\n",
       " 'CD38',\n",
       " 'LINC01305',\n",
       " 'TMEM185A',\n",
       " 'AP001055.6',\n",
       " 'RPLP1',\n",
       " 'FHOD3',\n",
       " 'ACKR2',\n",
       " 'PPP1R21',\n",
       " 'CD36',\n",
       " 'RGMB-AS1',\n",
       " 'FOXO3',\n",
       " 'CTB-25B13.12',\n",
       " 'HM13-AS1',\n",
       " 'PCM1',\n",
       " 'ACACB',\n",
       " 'GSDMB',\n",
       " 'AC114271.2',\n",
       " 'COQ10B',\n",
       " 'IMMP2L',\n",
       " 'RP11-467P9.1',\n",
       " 'POLA2',\n",
       " 'AP000223.42',\n",
       " 'IRAK4',\n",
       " 'MRPL30',\n",
       " 'RP11-11N7.4',\n",
       " 'EFCC1',\n",
       " 'SNX25',\n",
       " 'UBE2Q2L',\n",
       " 'ALMS1',\n",
       " 'ATXN1',\n",
       " 'ZNF180',\n",
       " 'FOXB1',\n",
       " 'TRMT6',\n",
       " 'NFIA-AS2',\n",
       " 'ADGRB2',\n",
       " 'CDON',\n",
       " 'TRIM46',\n",
       " 'SP100',\n",
       " 'PPP1R14B',\n",
       " 'MDGA1',\n",
       " 'GLG1',\n",
       " 'SULT1C4',\n",
       " 'ZNF292',\n",
       " 'CCDC122',\n",
       " 'PLPP1',\n",
       " 'RP11-214O1.3',\n",
       " 'ABHD16A',\n",
       " 'DPY30',\n",
       " 'STARD4-AS1',\n",
       " 'PHLPP1',\n",
       " 'MT1F',\n",
       " 'HUS1',\n",
       " 'PDGFRL',\n",
       " 'DPP6',\n",
       " 'NRSN2',\n",
       " 'EPHA5',\n",
       " 'ECSIT',\n",
       " 'FXYD2',\n",
       " 'SSX2IP',\n",
       " 'HMGN3',\n",
       " 'GTSE1',\n",
       " 'L3MBTL4',\n",
       " 'CPLX3',\n",
       " 'SLC4A1AP',\n",
       " 'RP11-244H3.4',\n",
       " 'DDX21',\n",
       " 'LIPT2',\n",
       " 'RPL5',\n",
       " 'OS9',\n",
       " 'FLVCR1-AS1',\n",
       " 'RND3',\n",
       " 'LINC01139',\n",
       " 'ESRP1',\n",
       " 'LINC00472',\n",
       " 'DOCK8',\n",
       " 'ZNF394',\n",
       " 'DPM2',\n",
       " 'TAS2R14',\n",
       " 'C6orf163',\n",
       " 'ZNF486',\n",
       " 'FAM217B',\n",
       " 'FTX',\n",
       " 'CD70',\n",
       " 'RPL18',\n",
       " 'TTPA',\n",
       " 'MCHR1',\n",
       " 'DECR2',\n",
       " 'KCNN3',\n",
       " 'TSPAN2',\n",
       " 'NPNT',\n",
       " 'ETHE1',\n",
       " 'POU5F2',\n",
       " 'RP11-260M2.1',\n",
       " 'CPNE7',\n",
       " 'CYB5R2',\n",
       " 'SEPT10',\n",
       " 'NEK4',\n",
       " 'PRICKLE2-AS1',\n",
       " 'HMGB3',\n",
       " 'BCAS2',\n",
       " 'CRYBA1',\n",
       " 'NEBL',\n",
       " 'PPP2R3A',\n",
       " 'UBE2F',\n",
       " 'ACY1',\n",
       " 'HAT1',\n",
       " 'CTD-3184A7.4',\n",
       " 'GMNN',\n",
       " 'RFC5',\n",
       " 'RABL6',\n",
       " 'PDE1B',\n",
       " 'NR2F2',\n",
       " 'ZNF91',\n",
       " 'RTFDC1',\n",
       " 'KIAA1755',\n",
       " 'BTF3',\n",
       " 'NUMA1',\n",
       " 'PTEN',\n",
       " 'RP11-10L12.4',\n",
       " 'GMPS',\n",
       " 'CRYZL1',\n",
       " 'PCP4L1',\n",
       " 'TLE1',\n",
       " 'RP11-268P4.5',\n",
       " 'TMEM238',\n",
       " 'DPYSL5',\n",
       " 'PLEKHA7',\n",
       " 'AC009133.12',\n",
       " 'STXBP5L',\n",
       " 'FAT3',\n",
       " 'ATXN7L3',\n",
       " 'APPBP2',\n",
       " 'CACYBP',\n",
       " 'BTD',\n",
       " 'DCUN1D3',\n",
       " 'SLC25A44',\n",
       " 'SAR1B',\n",
       " 'CHERP',\n",
       " 'ZNF582-AS1',\n",
       " 'RAB35',\n",
       " 'STAT2',\n",
       " 'TMEM179B',\n",
       " 'PKD2',\n",
       " 'LARP1',\n",
       " 'MCFD2',\n",
       " 'FAM111B',\n",
       " 'IFT57',\n",
       " 'PHLDB2',\n",
       " 'PIK3R1',\n",
       " 'LRRC7',\n",
       " 'RRS1',\n",
       " 'TCIRG1',\n",
       " 'C16orf52',\n",
       " 'CLEC14A',\n",
       " 'RNF168',\n",
       " 'SRSF9',\n",
       " 'HEG1',\n",
       " 'PRDM1',\n",
       " 'CTB-161M19.4',\n",
       " 'PCMTD1',\n",
       " 'HSP90B1',\n",
       " 'PLEKHH3',\n",
       " 'CXorf57',\n",
       " 'BET1',\n",
       " 'GCHFR',\n",
       " 'HAUS8',\n",
       " 'AKAP13',\n",
       " 'AL365181.2',\n",
       " 'HIST1H2AL',\n",
       " 'MZF1-AS1',\n",
       " 'OTX2-AS1',\n",
       " 'TOMM40L',\n",
       " 'PHB2',\n",
       " 'ZNF143',\n",
       " 'SWT1',\n",
       " 'MNS1',\n",
       " 'BUB1',\n",
       " 'RTN1',\n",
       " 'KIF27',\n",
       " 'SETX',\n",
       " 'S100A13',\n",
       " 'GABPB2',\n",
       " 'PRKD3',\n",
       " 'STK40',\n",
       " 'CAMKK2',\n",
       " 'PARP4',\n",
       " 'CLTB',\n",
       " 'MAP4K1',\n",
       " 'NDUFS7',\n",
       " 'LAG3',\n",
       " 'UNC13B',\n",
       " 'HS3ST5',\n",
       " 'DDX19A',\n",
       " 'YAP1',\n",
       " 'NDUFS2',\n",
       " 'RP11-725P16.2',\n",
       " 'SARNP',\n",
       " 'GPCPD1',\n",
       " 'NSMCE3',\n",
       " 'ABCD4',\n",
       " 'GRIK1',\n",
       " 'TMEM184C',\n",
       " 'IFIT5',\n",
       " 'ABHD5',\n",
       " 'SCP2',\n",
       " 'JSRP1',\n",
       " 'ING4',\n",
       " 'RAB11FIP4',\n",
       " 'SDC1',\n",
       " 'TBC1D10A',\n",
       " 'NCBP2-AS2',\n",
       " 'RAB24',\n",
       " 'SCOC-AS1',\n",
       " 'SMC4',\n",
       " 'PEX11A',\n",
       " 'EIF2AK4',\n",
       " 'TNIP1',\n",
       " 'MRPS11',\n",
       " 'AMIGO1',\n",
       " 'FRS2',\n",
       " 'RP4-665J23.1',\n",
       " 'SLC22A5',\n",
       " 'TFR2',\n",
       " 'PIGO',\n",
       " 'NRAS',\n",
       " 'GTF2H4',\n",
       " 'WASIR2',\n",
       " 'LRRC37B',\n",
       " 'EPN1',\n",
       " 'FABP5',\n",
       " 'RP1-40E16.9',\n",
       " 'ZNF790',\n",
       " 'AC005537.2',\n",
       " 'DDX50',\n",
       " 'RTTN',\n",
       " 'EXO5',\n",
       " 'SLC29A4',\n",
       " 'LCLAT1',\n",
       " 'FAM78B',\n",
       " 'TEX22',\n",
       " 'C1orf54',\n",
       " 'LINC01122',\n",
       " 'TMEM14C',\n",
       " 'LINC01560',\n",
       " 'PTAR1',\n",
       " 'AKAP5',\n",
       " 'C14orf79',\n",
       " 'SHH',\n",
       " 'SLC14A2',\n",
       " 'OGFOD2',\n",
       " 'MAGOHB',\n",
       " 'ARAP2',\n",
       " 'WASF1',\n",
       " 'SH3BGRL2',\n",
       " 'NSMAF',\n",
       " 'XXbac-BPG308K3.5',\n",
       " 'CCDC177',\n",
       " 'CES2',\n",
       " 'PSRC1',\n",
       " 'SENP1',\n",
       " 'TMEM53',\n",
       " 'XKR8',\n",
       " 'TSPAN5',\n",
       " 'PSMA2',\n",
       " 'LRFN3',\n",
       " 'SMURF1',\n",
       " 'PHF7',\n",
       " 'FST',\n",
       " 'ERBB4',\n",
       " 'FANCE',\n",
       " 'SCML2',\n",
       " 'CAPRIN2',\n",
       " 'SLC38A7',\n",
       " 'RP11-576D8.4',\n",
       " 'EMILIN1',\n",
       " 'TNNC1',\n",
       " 'FAM13A-AS1',\n",
       " 'RP13-143G15.4',\n",
       " 'SKIL',\n",
       " 'DSTYK',\n",
       " 'SENP7',\n",
       " 'ZBTB20',\n",
       " 'CLUAP1',\n",
       " 'KLHDC9',\n",
       " 'PCF11',\n",
       " 'IDH2',\n",
       " 'TSNARE1',\n",
       " 'SLC26A4',\n",
       " 'CHRFAM7A',\n",
       " 'AHDC1',\n",
       " 'BAIAP2L1',\n",
       " 'POGK',\n",
       " 'PAXIP1-AS1',\n",
       " 'IFIT1',\n",
       " 'SPIDR',\n",
       " 'CCDC112',\n",
       " 'LUC7L3',\n",
       " 'RP11-373N22.3',\n",
       " 'ENPP5',\n",
       " 'MAP2K1',\n",
       " 'NLGN4Y',\n",
       " 'CRYBB2',\n",
       " 'LIX1L',\n",
       " 'NDUFB7',\n",
       " 'DDX27',\n",
       " 'MRLN',\n",
       " 'ATAT1',\n",
       " 'C9orf91',\n",
       " 'NDNF',\n",
       " 'RESP18',\n",
       " 'GLI2',\n",
       " 'SAXO2',\n",
       " 'THOP1',\n",
       " 'SLC27A4',\n",
       " 'SMAGP',\n",
       " 'SORBS3',\n",
       " 'BRD7',\n",
       " 'TFPT',\n",
       " 'ZNF621',\n",
       " 'CTD-2089N3.2',\n",
       " 'PNPLA7',\n",
       " 'NUP155',\n",
       " 'PSENEN',\n",
       " 'PRKD2',\n",
       " 'BMP2K',\n",
       " 'RP11-582J16.5',\n",
       " 'RP11-527L4.2',\n",
       " 'SUPT3H',\n",
       " 'OLFML2A',\n",
       " 'YPEL1',\n",
       " 'IGSF5',\n",
       " 'AIFM3',\n",
       " 'ZACN',\n",
       " 'EFNA5',\n",
       " 'NOP2',\n",
       " 'SNRNP25',\n",
       " 'RTN4',\n",
       " 'LINC01569',\n",
       " 'CTD-2630F21.1',\n",
       " 'MSANTD4',\n",
       " 'CLEC2B',\n",
       " 'BPHL',\n",
       " 'RP11-314C16.1',\n",
       " 'DDX6',\n",
       " 'RASA4B',\n",
       " 'CD69',\n",
       " 'GPSM2',\n",
       " 'RASGEF1A',\n",
       " 'SLC25A21-AS1',\n",
       " 'ZNF319',\n",
       " 'TTC1',\n",
       " 'HRSP12',\n",
       " 'RASA2',\n",
       " 'DUSP4',\n",
       " 'RP11-727F15.9',\n",
       " 'CCNT2',\n",
       " 'RUFY2',\n",
       " 'LINC01551',\n",
       " 'SPTB',\n",
       " 'KLF2',\n",
       " 'PAXBP1-AS1',\n",
       " 'PIP4K2C',\n",
       " 'C2orf81',\n",
       " 'RUNDC3B',\n",
       " 'DIAPH3',\n",
       " 'BMPR1A',\n",
       " 'FHOD1',\n",
       " 'RNASEH1',\n",
       " 'FAM60A',\n",
       " 'RRP1B',\n",
       " 'CCDC85A',\n",
       " 'KCTD5',\n",
       " 'SACM1L',\n",
       " 'CAB39L',\n",
       " 'SMS',\n",
       " 'MGME1',\n",
       " 'MSRB2',\n",
       " 'RP11-455O6.8',\n",
       " 'RD3',\n",
       " 'TEP1',\n",
       " 'NCS1',\n",
       " 'CEP70',\n",
       " 'SLC2A1-AS1',\n",
       " 'RP11-348J24.2',\n",
       " 'PTTG2',\n",
       " 'CCL20',\n",
       " 'IGF2BP2',\n",
       " 'RP11-644F5.10',\n",
       " 'POLDIP3',\n",
       " 'ZSCAN18',\n",
       " 'B3GAT3',\n",
       " 'MAD1L1',\n",
       " 'TIGD2',\n",
       " 'CHIC1',\n",
       " 'PAXBP1',\n",
       " 'BAZ2B',\n",
       " 'EPHB1',\n",
       " 'ZMYND8',\n",
       " 'UBE2B',\n",
       " 'TEX261',\n",
       " 'SDPR',\n",
       " 'HMBOX1',\n",
       " 'PRDM10',\n",
       " 'CTD-2561B21.11',\n",
       " 'ANKRD10',\n",
       " 'CTSO',\n",
       " 'SPTLC3',\n",
       " 'CDC5L',\n",
       " 'UPK2',\n",
       " 'SETDB1',\n",
       " 'ANAPC1',\n",
       " 'CCDC148',\n",
       " 'RNF7',\n",
       " 'PPP2R5B',\n",
       " 'ANKRD35',\n",
       " 'ACOT4',\n",
       " 'AC015849.19',\n",
       " 'COQ4',\n",
       " 'HIST1H2BF',\n",
       " 'SUMO2',\n",
       " 'EHD4',\n",
       " 'BRINP1',\n",
       " 'LONP1',\n",
       " 'C7orf49',\n",
       " 'CRMP1',\n",
       " 'LINC00094',\n",
       " 'LINC00310',\n",
       " 'CINP',\n",
       " 'LRRC55',\n",
       " 'ADRM1',\n",
       " 'RP11-1263C18.1',\n",
       " 'PREP',\n",
       " 'PAICS',\n",
       " 'ZFP91',\n",
       " 'TNFAIP3',\n",
       " 'ZNF644',\n",
       " 'MTHFD1',\n",
       " 'LYPD1',\n",
       " 'ALG9',\n",
       " 'LINC00642',\n",
       " 'SCD5',\n",
       " 'ZDHHC15',\n",
       " 'RNF175',\n",
       " 'ZDHHC8',\n",
       " 'FABP6',\n",
       " 'FBXO46',\n",
       " 'TMBIM4',\n",
       " 'ELFN2',\n",
       " 'MACF1',\n",
       " 'PPP1R14C',\n",
       " 'VWA5B2',\n",
       " 'CD46',\n",
       " 'GBP4',\n",
       " 'RP4-798A10.2',\n",
       " 'COX10',\n",
       " 'PRDX5',\n",
       " 'PRR12',\n",
       " 'NIN',\n",
       " 'CABIN1',\n",
       " 'CTXN3',\n",
       " 'NFE2',\n",
       " 'SEMA7A',\n",
       " 'SYDE2',\n",
       " 'BDH2',\n",
       " 'SCG3',\n",
       " 'ST3GAL1',\n",
       " 'CKAP5',\n",
       " 'CCNC',\n",
       " 'SERINC2',\n",
       " 'GPR176',\n",
       " 'PI4K2B',\n",
       " 'ABCA8',\n",
       " 'FAM63B',\n",
       " 'TNFRSF10B',\n",
       " 'SLC5A6',\n",
       " 'BCL11B',\n",
       " 'TCF7',\n",
       " 'SPG20',\n",
       " 'TRAF3IP2',\n",
       " 'A1BG-AS1',\n",
       " 'CBX2',\n",
       " 'ENDOD1',\n",
       " 'PEX5L',\n",
       " 'CTD-2515A14.1',\n",
       " 'RP11-680A11.5',\n",
       " 'PIGB',\n",
       " 'FAM173B',\n",
       " 'ZNF44',\n",
       " 'SH3KBP1',\n",
       " 'ENOSF1',\n",
       " 'CAMK2G',\n",
       " 'TNFRSF13C',\n",
       " 'OXTR',\n",
       " 'INTS1',\n",
       " 'CFAP157',\n",
       " 'APPL2',\n",
       " 'PPP4R3A',\n",
       " 'NDUFV2',\n",
       " 'ARHGDIB',\n",
       " 'LIN28A',\n",
       " 'GBP1',\n",
       " 'ALDH7A1',\n",
       " 'USP13',\n",
       " 'THOC3',\n",
       " 'SLAIN1',\n",
       " 'SMN1',\n",
       " 'CD44',\n",
       " 'CCDC126',\n",
       " 'LL09NC01-139C3.1',\n",
       " 'DDX39B',\n",
       " 'SEMA6D',\n",
       " 'PPP2R2C',\n",
       " 'TAF6L',\n",
       " 'RP11-961A15.3',\n",
       " 'SLC29A2',\n",
       " 'MTX3',\n",
       " 'MPRIP-AS1',\n",
       " 'CTD-3065J16.9',\n",
       " 'TMEM87A',\n",
       " 'SH3D21',\n",
       " 'KLC2',\n",
       " 'CFAP53',\n",
       " 'SLC17A8',\n",
       " 'DPP8',\n",
       " ...]"
      ]
     },
     "execution_count": 43,
     "metadata": {},
     "output_type": "execute_result"
    }
   ],
   "source": [
    "subgenes"
   ]
  },
  {
   "cell_type": "code",
   "execution_count": 44,
   "metadata": {},
   "outputs": [],
   "source": [
    "organoid = organoid[subgenes]\n",
    "primary = primary[subgenes]"
   ]
  },
  {
   "cell_type": "markdown",
   "metadata": {},
   "source": [
    "## Filling missing values\n",
    "\n",
    "In order to do computational work, we have to fill `NaN` values. For now, we'll simply fill them with zeros and make the assumption that if the gene was not observed then it was not expressed. This might not be the best way to go about it ultimately, so we'll consult with the biologists in the group later."
   ]
  },
  {
   "cell_type": "code",
   "execution_count": 45,
   "metadata": {},
   "outputs": [
    {
     "data": {
      "text/plain": [
       "(0, 0)"
      ]
     },
     "execution_count": 45,
     "metadata": {},
     "output_type": "execute_result"
    }
   ],
   "source": [
    "organoid = organoid.fillna(0)\n",
    "primary = primary.fillna(0)\n",
    "\n",
    "organoid.isna().sum().sum(), primary.isna().sum().sum() # No more missing values!"
   ]
  },
  {
   "cell_type": "code",
   "execution_count": 46,
   "metadata": {},
   "outputs": [
    {
     "data": {
      "text/html": [
       "<div>\n",
       "<style scoped>\n",
       "    .dataframe tbody tr th:only-of-type {\n",
       "        vertical-align: middle;\n",
       "    }\n",
       "\n",
       "    .dataframe tbody tr th {\n",
       "        vertical-align: top;\n",
       "    }\n",
       "\n",
       "    .dataframe thead th {\n",
       "        text-align: right;\n",
       "    }\n",
       "</style>\n",
       "<table border=\"1\" class=\"dataframe\">\n",
       "  <thead>\n",
       "    <tr style=\"text-align: right;\">\n",
       "      <th></th>\n",
       "      <th>ZNF548</th>\n",
       "      <th>MED18</th>\n",
       "      <th>PIGH</th>\n",
       "      <th>SERP1</th>\n",
       "      <th>ARGLU1</th>\n",
       "      <th>AC074289.1</th>\n",
       "      <th>ZNF467</th>\n",
       "      <th>C11orf98</th>\n",
       "      <th>TTC39C</th>\n",
       "      <th>PLD6</th>\n",
       "      <th>...</th>\n",
       "      <th>KLC4</th>\n",
       "      <th>ADCK4</th>\n",
       "      <th>PLEKHA1</th>\n",
       "      <th>RCL1</th>\n",
       "      <th>SLK</th>\n",
       "      <th>RAB11FIP5</th>\n",
       "      <th>ICT1</th>\n",
       "      <th>MBD1</th>\n",
       "      <th>MAN1A2</th>\n",
       "      <th>Type</th>\n",
       "    </tr>\n",
       "    <tr>\n",
       "      <th>cell</th>\n",
       "      <th></th>\n",
       "      <th></th>\n",
       "      <th></th>\n",
       "      <th></th>\n",
       "      <th></th>\n",
       "      <th></th>\n",
       "      <th></th>\n",
       "      <th></th>\n",
       "      <th></th>\n",
       "      <th></th>\n",
       "      <th></th>\n",
       "      <th></th>\n",
       "      <th></th>\n",
       "      <th></th>\n",
       "      <th></th>\n",
       "      <th></th>\n",
       "      <th></th>\n",
       "      <th></th>\n",
       "      <th></th>\n",
       "      <th></th>\n",
       "      <th></th>\n",
       "    </tr>\n",
       "  </thead>\n",
       "  <tbody>\n",
       "    <tr>\n",
       "      <th>H1SWeek3_AAACCTGAGACAAAGG</th>\n",
       "      <td>0.0</td>\n",
       "      <td>0.0</td>\n",
       "      <td>0.0</td>\n",
       "      <td>1.249218</td>\n",
       "      <td>1.011883</td>\n",
       "      <td>0.0</td>\n",
       "      <td>0.0</td>\n",
       "      <td>0.000000</td>\n",
       "      <td>0.0</td>\n",
       "      <td>0.0</td>\n",
       "      <td>...</td>\n",
       "      <td>0.0</td>\n",
       "      <td>0.0</td>\n",
       "      <td>0.0</td>\n",
       "      <td>0.0</td>\n",
       "      <td>0.0</td>\n",
       "      <td>0.0</td>\n",
       "      <td>0.000000</td>\n",
       "      <td>0.0</td>\n",
       "      <td>0.290686</td>\n",
       "      <td>1</td>\n",
       "    </tr>\n",
       "    <tr>\n",
       "      <th>H1SWeek3_AAACCTGAGCACACAG</th>\n",
       "      <td>0.0</td>\n",
       "      <td>0.0</td>\n",
       "      <td>0.0</td>\n",
       "      <td>1.203547</td>\n",
       "      <td>1.148672</td>\n",
       "      <td>0.0</td>\n",
       "      <td>0.0</td>\n",
       "      <td>0.000000</td>\n",
       "      <td>0.0</td>\n",
       "      <td>0.0</td>\n",
       "      <td>...</td>\n",
       "      <td>0.0</td>\n",
       "      <td>0.0</td>\n",
       "      <td>0.0</td>\n",
       "      <td>0.0</td>\n",
       "      <td>0.0</td>\n",
       "      <td>0.0</td>\n",
       "      <td>0.000000</td>\n",
       "      <td>0.0</td>\n",
       "      <td>1.470097</td>\n",
       "      <td>1</td>\n",
       "    </tr>\n",
       "    <tr>\n",
       "      <th>H1SWeek3_AAACCTGAGGATGGAA</th>\n",
       "      <td>0.0</td>\n",
       "      <td>0.0</td>\n",
       "      <td>0.0</td>\n",
       "      <td>1.047124</td>\n",
       "      <td>1.874626</td>\n",
       "      <td>0.0</td>\n",
       "      <td>0.0</td>\n",
       "      <td>0.000000</td>\n",
       "      <td>0.0</td>\n",
       "      <td>0.0</td>\n",
       "      <td>...</td>\n",
       "      <td>0.0</td>\n",
       "      <td>0.0</td>\n",
       "      <td>0.0</td>\n",
       "      <td>0.0</td>\n",
       "      <td>0.0</td>\n",
       "      <td>0.0</td>\n",
       "      <td>0.000000</td>\n",
       "      <td>0.0</td>\n",
       "      <td>0.000000</td>\n",
       "      <td>1</td>\n",
       "    </tr>\n",
       "    <tr>\n",
       "      <th>H1SWeek3_AAACCTGCAATTGCTG</th>\n",
       "      <td>0.0</td>\n",
       "      <td>0.0</td>\n",
       "      <td>0.0</td>\n",
       "      <td>0.000000</td>\n",
       "      <td>1.261941</td>\n",
       "      <td>0.0</td>\n",
       "      <td>0.0</td>\n",
       "      <td>0.000000</td>\n",
       "      <td>0.0</td>\n",
       "      <td>0.0</td>\n",
       "      <td>...</td>\n",
       "      <td>0.0</td>\n",
       "      <td>0.0</td>\n",
       "      <td>0.0</td>\n",
       "      <td>0.0</td>\n",
       "      <td>0.0</td>\n",
       "      <td>0.0</td>\n",
       "      <td>2.053992</td>\n",
       "      <td>0.0</td>\n",
       "      <td>0.898330</td>\n",
       "      <td>1</td>\n",
       "    </tr>\n",
       "    <tr>\n",
       "      <th>H1SWeek3_AAACCTGCAGCGTAAG</th>\n",
       "      <td>0.0</td>\n",
       "      <td>0.0</td>\n",
       "      <td>0.0</td>\n",
       "      <td>0.000000</td>\n",
       "      <td>1.435448</td>\n",
       "      <td>0.0</td>\n",
       "      <td>0.0</td>\n",
       "      <td>1.382941</td>\n",
       "      <td>0.0</td>\n",
       "      <td>0.0</td>\n",
       "      <td>...</td>\n",
       "      <td>0.0</td>\n",
       "      <td>0.0</td>\n",
       "      <td>0.0</td>\n",
       "      <td>0.0</td>\n",
       "      <td>0.0</td>\n",
       "      <td>0.0</td>\n",
       "      <td>1.063805</td>\n",
       "      <td>0.0</td>\n",
       "      <td>0.000000</td>\n",
       "      <td>1</td>\n",
       "    </tr>\n",
       "  </tbody>\n",
       "</table>\n",
       "<p>5 rows × 16508 columns</p>\n",
       "</div>"
      ],
      "text/plain": [
       "                           ZNF548  MED18  PIGH     SERP1    ARGLU1  \\\n",
       "cell                                                                 \n",
       "H1SWeek3_AAACCTGAGACAAAGG     0.0    0.0   0.0  1.249218  1.011883   \n",
       "H1SWeek3_AAACCTGAGCACACAG     0.0    0.0   0.0  1.203547  1.148672   \n",
       "H1SWeek3_AAACCTGAGGATGGAA     0.0    0.0   0.0  1.047124  1.874626   \n",
       "H1SWeek3_AAACCTGCAATTGCTG     0.0    0.0   0.0  0.000000  1.261941   \n",
       "H1SWeek3_AAACCTGCAGCGTAAG     0.0    0.0   0.0  0.000000  1.435448   \n",
       "\n",
       "                           AC074289.1  ZNF467  C11orf98  TTC39C  PLD6  ...  \\\n",
       "cell                                                                   ...   \n",
       "H1SWeek3_AAACCTGAGACAAAGG         0.0     0.0  0.000000     0.0   0.0  ...   \n",
       "H1SWeek3_AAACCTGAGCACACAG         0.0     0.0  0.000000     0.0   0.0  ...   \n",
       "H1SWeek3_AAACCTGAGGATGGAA         0.0     0.0  0.000000     0.0   0.0  ...   \n",
       "H1SWeek3_AAACCTGCAATTGCTG         0.0     0.0  0.000000     0.0   0.0  ...   \n",
       "H1SWeek3_AAACCTGCAGCGTAAG         0.0     0.0  1.382941     0.0   0.0  ...   \n",
       "\n",
       "                           KLC4  ADCK4  PLEKHA1  RCL1  SLK  RAB11FIP5  \\\n",
       "cell                                                                    \n",
       "H1SWeek3_AAACCTGAGACAAAGG   0.0    0.0      0.0   0.0  0.0        0.0   \n",
       "H1SWeek3_AAACCTGAGCACACAG   0.0    0.0      0.0   0.0  0.0        0.0   \n",
       "H1SWeek3_AAACCTGAGGATGGAA   0.0    0.0      0.0   0.0  0.0        0.0   \n",
       "H1SWeek3_AAACCTGCAATTGCTG   0.0    0.0      0.0   0.0  0.0        0.0   \n",
       "H1SWeek3_AAACCTGCAGCGTAAG   0.0    0.0      0.0   0.0  0.0        0.0   \n",
       "\n",
       "                               ICT1  MBD1    MAN1A2  Type  \n",
       "cell                                                       \n",
       "H1SWeek3_AAACCTGAGACAAAGG  0.000000   0.0  0.290686     1  \n",
       "H1SWeek3_AAACCTGAGCACACAG  0.000000   0.0  1.470097     1  \n",
       "H1SWeek3_AAACCTGAGGATGGAA  0.000000   0.0  0.000000     1  \n",
       "H1SWeek3_AAACCTGCAATTGCTG  2.053992   0.0  0.898330     1  \n",
       "H1SWeek3_AAACCTGCAGCGTAAG  1.063805   0.0  0.000000     1  \n",
       "\n",
       "[5 rows x 16508 columns]"
      ]
     },
     "execution_count": 46,
     "metadata": {},
     "output_type": "execute_result"
    }
   ],
   "source": [
    "organoid['Type'] = [1]*organoid.shape[0] # 1 --> Organoid cell\n",
    "primary['Type'] = [0]*primary.shape[0]\n",
    "\n",
    "comb = pd.concat([organoid, primary])\n",
    "comb.head()"
   ]
  },
  {
   "cell_type": "markdown",
   "metadata": {},
   "source": [
    "## Exploring the data with projection methods\n",
    "\n",
    "Now that we have the gene expression spaces overlapping, we can use umap to project the data to a lower dimension in order to better visualize it. "
   ]
  },
  {
   "cell_type": "code",
   "execution_count": null,
   "metadata": {},
   "outputs": [],
   "source": [
    "import umap\n",
    "\n",
    "umap = umap.UMAP(n_neighbors=organoid.shape[0]//4)\n",
    "org_umap = umap.fit_transform(organoid)\n",
    "prim_umap = umap.fit_transform(primary)\n",
    "comb_umap = umap.fit_transform(comb)"
   ]
  },
  {
   "cell_type": "code",
   "execution_count": null,
   "metadata": {},
   "outputs": [],
   "source": [
    "org_umap = pd.DataFrame(org_umap, index=organoid.index)\n",
    "prim_umap = pd.DataFrame(prim_umap, index=primary.index)\n",
    "comb_umap = pd.DataFrame(comb_umap, index=comb.index)"
   ]
  },
  {
   "cell_type": "markdown",
   "metadata": {},
   "source": [
    "Now let's add a column showing which type of cell it is (primary or organoid) and then concat the dataframes together"
   ]
  },
  {
   "cell_type": "code",
   "execution_count": null,
   "metadata": {},
   "outputs": [],
   "source": [
    "org_umap['Type'] = ['Organoid']*org_umap.shape[0]\n",
    "prim_umap['Type'] = ['Primary']*prim_umap.shape[0]"
   ]
  },
  {
   "cell_type": "markdown",
   "metadata": {},
   "source": [
    "Now we can visualize the UMAP results"
   ]
  },
  {
   "cell_type": "code",
   "execution_count": null,
   "metadata": {},
   "outputs": [],
   "source": [
    "comb_umap['Type'] = comb['Type']\n",
    "comb_umap = comb_umap.rename({0: 'UMAP_1', 1:'UMAP_2'}, axis=1)"
   ]
  },
  {
   "cell_type": "code",
   "execution_count": null,
   "metadata": {},
   "outputs": [],
   "source": [
    "rename = lambda x: 'Organoid' if x==1 else 'Primary'\n",
    "comb_umap['Type'] = comb_umap['Type'].apply(lambda x: rename(x))"
   ]
  },
  {
   "cell_type": "code",
   "execution_count": null,
   "metadata": {},
   "outputs": [],
   "source": [
    "comb_umap.head()"
   ]
  },
  {
   "cell_type": "code",
   "execution_count": null,
   "metadata": {
    "scrolled": false
   },
   "outputs": [],
   "source": [
    "import matplotlib.pyplot as plt \n",
    "import seaborn as sns\n",
    "import plotly.express as px \n",
    "\n",
    "fig, ax = plt.subplots(figsize=(10, 10))\n",
    "\n",
    "sns.scatterplot(\n",
    "    x=\"UMAP_1\", \n",
    "    y=\"UMAP_2\", \n",
    "    data=comb_umap,\n",
    "    hue='Type', \n",
    "    legend='full',\n",
    "    markers=[\"+\", \"-\"],\n",
    "    ax=ax,\n",
    ")\n",
    "\n",
    "plt.title('UMAP Projection of Organoid and Primary Data, Colored by Class')\n",
    "# plt.legend()\n",
    "plt.show()"
   ]
  },
  {
   "cell_type": "code",
   "execution_count": null,
   "metadata": {},
   "outputs": [],
   "source": [
    "px.scatter(prim_umap, x=0, y=1, title='UMAP, Primary Data')"
   ]
  },
  {
   "cell_type": "code",
   "execution_count": 24,
   "metadata": {},
   "outputs": [
    {
     "data": {
      "application/vnd.plotly.v1+json": {
       "config": {
        "plotlyServerURL": "https://plot.ly"
       },
       "data": [
        {
         "hovertemplate": "0=%{x}<br>1=%{y}<extra></extra>",
         "legendgroup": "",
         "marker": {
          "color": "#636efa",
          "symbol": "circle"
         },
         "mode": "markers",
         "name": "",
         "orientation": "v",
         "showlegend": false,
         "type": "scatter",
         "x": [
          4.856333255767822,
          7.366262912750244,
          3.8972227573394775,
          7.7637810707092285,
          4.067503452301025,
          5.028574466705322,
          5.793778419494629,
          5.344799995422363,
          6.180216312408447,
          4.09340763092041,
          6.097901821136475,
          5.104311466217041,
          4.349204063415527,
          4.528567314147949,
          4.970600605010986,
          6.623215675354004,
          4.384819030761719,
          7.026965618133545,
          4.425713062286377,
          5.822240829467773,
          7.6019673347473145,
          7.109902381896973,
          7.862786769866943,
          4.874512672424316,
          6.856041431427002,
          7.567227363586426,
          7.219663619995117,
          4.4794206619262695,
          4.4551615715026855,
          6.230923175811768,
          4.5939836502075195,
          5.816497802734375,
          6.448441028594971,
          5.42348051071167,
          5.2638020515441895,
          4.230068206787109,
          7.506396770477295,
          5.195549488067627,
          5.679523468017578,
          5.712393760681152,
          6.657642841339111,
          6.082133769989014,
          5.340460777282715,
          4.3003106117248535,
          4.735917568206787,
          4.542552947998047,
          7.246593475341797,
          4.722460746765137,
          5.137706756591797,
          7.400976181030273,
          7.342907905578613,
          4.529183387756348,
          7.426870822906494,
          4.904651641845703,
          5.746610641479492,
          6.463229656219482,
          6.082788944244385,
          6.786202907562256,
          5.011587142944336,
          6.500129699707031,
          7.928260326385498,
          4.8104352951049805,
          6.190898895263672,
          7.020870208740234,
          7.742190837860107,
          5.158706188201904,
          5.4564080238342285,
          4.726894855499268,
          7.351694583892822,
          7.330370903015137,
          5.855747222900391,
          5.988551139831543,
          7.356493949890137,
          4.883022785186768,
          7.605084419250488,
          5.114389419555664,
          6.315467357635498,
          7.012831211090088,
          5.597534656524658,
          6.079267978668213,
          5.175439834594727,
          6.928046226501465,
          5.301738739013672,
          6.794617652893066,
          6.807153701782227,
          5.983651161193848,
          5.212110996246338,
          5.916255950927734,
          7.020927429199219,
          5.009125709533691,
          6.52616024017334,
          5.17183780670166,
          5.686712265014648,
          5.693098068237305,
          7.021456718444824,
          5.31514310836792,
          5.778138160705566,
          5.237696647644043,
          5.145499229431152,
          5.424422264099121,
          6.741825580596924,
          5.526001453399658,
          5.7793049812316895,
          6.337420463562012,
          6.244185447692871,
          6.57773494720459,
          6.721479892730713,
          6.33953857421875,
          5.237240791320801,
          6.094199180603027,
          6.238157749176025,
          5.57245397567749,
          6.331086158752441,
          6.701233386993408,
          5.598745346069336,
          6.271456241607666,
          5.603479385375977,
          6.738012313842773,
          5.543275356292725,
          5.48689603805542,
          6.059882164001465,
          6.729250907897949,
          5.814354419708252,
          6.903012275695801,
          7.048267364501953,
          5.891848087310791,
          6.106838703155518,
          6.60387659072876,
          6.577868461608887,
          6.271705627441406,
          5.584256649017334,
          6.572848320007324,
          5.96091890335083,
          6.683816909790039,
          6.116036891937256,
          6.81779146194458,
          6.40207576751709,
          6.301623821258545,
          6.6739325523376465,
          6.933326721191406,
          6.515804290771484,
          5.820669651031494,
          5.684290885925293,
          5.502919673919678,
          6.026571273803711,
          4.962047100067139
         ],
         "xaxis": "x",
         "y": [
          3.8906736373901367,
          3.29573917388916,
          5.585065841674805,
          3.909588098526001,
          5.075632572174072,
          5.914189338684082,
          6.324264049530029,
          3.099168300628662,
          4.89911413192749,
          5.130706310272217,
          3.2962827682495117,
          3.2874412536621094,
          3.9175679683685303,
          5.8855509757995605,
          3.4693119525909424,
          3.620530605316162,
          6.117720603942871,
          6.438036918640137,
          5.612245082855225,
          4.423206329345703,
          5.2276611328125,
          3.930237054824829,
          5.494577884674072,
          5.767977714538574,
          3.2761356830596924,
          4.455021858215332,
          3.8820159435272217,
          3.577258825302124,
          4.954843997955322,
          6.290919780731201,
          5.379855155944824,
          6.582012176513672,
          6.768397808074951,
          6.023777484893799,
          6.435488224029541,
          4.523046970367432,
          5.792395114898682,
          4.2602925300598145,
          6.479397296905518,
          3.609605073928833,
          6.348808765411377,
          3.473276376724243,
          5.8395867347717285,
          4.777275085449219,
          4.194945335388184,
          4.2938079833984375,
          4.442201614379883,
          4.9048027992248535,
          6.625340938568115,
          4.898234844207764,
          5.49981689453125,
          4.497485160827637,
          3.8074722290039062,
          5.409940719604492,
          3.9563989639282227,
          6.47271728515625,
          5.609945774078369,
          5.514846324920654,
          6.317463397979736,
          3.0345406532287598,
          4.923203945159912,
          5.696874141693115,
          3.052272319793701,
          3.8445913791656494,
          4.751007080078125,
          4.567770481109619,
          5.753554821014404,
          4.54965353012085,
          6.0982561111450195,
          5.677701950073242,
          5.9474358558654785,
          6.172881126403809,
          4.547689914703369,
          4.856306076049805,
          3.647270679473877,
          3.7849016189575195,
          5.112250328063965,
          5.259522914886475,
          3.9141266345977783,
          4.341796398162842,
          5.824032783508301,
          3.9956281185150146,
          5.328128337860107,
          3.724693775177002,
          4.2555341720581055,
          5.899841785430908,
          4.531278610229492,
          3.891488790512085,
          5.066389083862305,
          4.803738117218018,
          4.586774826049805,
          5.413356304168701,
          4.977419376373291,
          5.400767803192139,
          4.3880767822265625,
          5.012040138244629,
          4.460075378417969,
          4.046726703643799,
          4.710336208343506,
          4.328784465789795,
          5.376210689544678,
          6.167283535003662,
          5.630586624145508,
          5.548666000366211,
          3.970588445663452,
          5.688384056091309,
          6.042914867401123,
          3.840294361114502,
          5.35659646987915,
          4.190667629241943,
          5.46986198425293,
          4.595068454742432,
          5.178218364715576,
          4.213695526123047,
          5.04472541809082,
          5.966141223907471,
          5.587433338165283,
          5.387718200683594,
          4.0021281242370605,
          5.134762763977051,
          4.358767986297607,
          5.011020660400391,
          4.626819133758545,
          4.6120100021362305,
          4.689250946044922,
          5.706002712249756,
          4.739358901977539,
          5.077372074127197,
          5.289880752563477,
          4.9674577713012695,
          5.182649612426758,
          4.902161121368408,
          5.281549453735352,
          4.836675643920898,
          5.4653706550598145,
          4.330755233764648,
          4.63650369644165,
          4.381341457366943,
          4.4795145988464355,
          5.599323749542236,
          4.025516510009766,
          5.003600120544434,
          6.073410987854004,
          4.638714790344238,
          5.043159008026123,
          5.1089863777160645
         ],
         "yaxis": "y"
        }
       ],
       "layout": {
        "legend": {
         "tracegroupgap": 0
        },
        "template": {
         "data": {
          "bar": [
           {
            "error_x": {
             "color": "#2a3f5f"
            },
            "error_y": {
             "color": "#2a3f5f"
            },
            "marker": {
             "line": {
              "color": "#E5ECF6",
              "width": 0.5
             },
             "pattern": {
              "fillmode": "overlay",
              "size": 10,
              "solidity": 0.2
             }
            },
            "type": "bar"
           }
          ],
          "barpolar": [
           {
            "marker": {
             "line": {
              "color": "#E5ECF6",
              "width": 0.5
             },
             "pattern": {
              "fillmode": "overlay",
              "size": 10,
              "solidity": 0.2
             }
            },
            "type": "barpolar"
           }
          ],
          "carpet": [
           {
            "aaxis": {
             "endlinecolor": "#2a3f5f",
             "gridcolor": "white",
             "linecolor": "white",
             "minorgridcolor": "white",
             "startlinecolor": "#2a3f5f"
            },
            "baxis": {
             "endlinecolor": "#2a3f5f",
             "gridcolor": "white",
             "linecolor": "white",
             "minorgridcolor": "white",
             "startlinecolor": "#2a3f5f"
            },
            "type": "carpet"
           }
          ],
          "choropleth": [
           {
            "colorbar": {
             "outlinewidth": 0,
             "ticks": ""
            },
            "type": "choropleth"
           }
          ],
          "contour": [
           {
            "colorbar": {
             "outlinewidth": 0,
             "ticks": ""
            },
            "colorscale": [
             [
              0,
              "#0d0887"
             ],
             [
              0.1111111111111111,
              "#46039f"
             ],
             [
              0.2222222222222222,
              "#7201a8"
             ],
             [
              0.3333333333333333,
              "#9c179e"
             ],
             [
              0.4444444444444444,
              "#bd3786"
             ],
             [
              0.5555555555555556,
              "#d8576b"
             ],
             [
              0.6666666666666666,
              "#ed7953"
             ],
             [
              0.7777777777777778,
              "#fb9f3a"
             ],
             [
              0.8888888888888888,
              "#fdca26"
             ],
             [
              1,
              "#f0f921"
             ]
            ],
            "type": "contour"
           }
          ],
          "contourcarpet": [
           {
            "colorbar": {
             "outlinewidth": 0,
             "ticks": ""
            },
            "type": "contourcarpet"
           }
          ],
          "heatmap": [
           {
            "colorbar": {
             "outlinewidth": 0,
             "ticks": ""
            },
            "colorscale": [
             [
              0,
              "#0d0887"
             ],
             [
              0.1111111111111111,
              "#46039f"
             ],
             [
              0.2222222222222222,
              "#7201a8"
             ],
             [
              0.3333333333333333,
              "#9c179e"
             ],
             [
              0.4444444444444444,
              "#bd3786"
             ],
             [
              0.5555555555555556,
              "#d8576b"
             ],
             [
              0.6666666666666666,
              "#ed7953"
             ],
             [
              0.7777777777777778,
              "#fb9f3a"
             ],
             [
              0.8888888888888888,
              "#fdca26"
             ],
             [
              1,
              "#f0f921"
             ]
            ],
            "type": "heatmap"
           }
          ],
          "heatmapgl": [
           {
            "colorbar": {
             "outlinewidth": 0,
             "ticks": ""
            },
            "colorscale": [
             [
              0,
              "#0d0887"
             ],
             [
              0.1111111111111111,
              "#46039f"
             ],
             [
              0.2222222222222222,
              "#7201a8"
             ],
             [
              0.3333333333333333,
              "#9c179e"
             ],
             [
              0.4444444444444444,
              "#bd3786"
             ],
             [
              0.5555555555555556,
              "#d8576b"
             ],
             [
              0.6666666666666666,
              "#ed7953"
             ],
             [
              0.7777777777777778,
              "#fb9f3a"
             ],
             [
              0.8888888888888888,
              "#fdca26"
             ],
             [
              1,
              "#f0f921"
             ]
            ],
            "type": "heatmapgl"
           }
          ],
          "histogram": [
           {
            "marker": {
             "pattern": {
              "fillmode": "overlay",
              "size": 10,
              "solidity": 0.2
             }
            },
            "type": "histogram"
           }
          ],
          "histogram2d": [
           {
            "colorbar": {
             "outlinewidth": 0,
             "ticks": ""
            },
            "colorscale": [
             [
              0,
              "#0d0887"
             ],
             [
              0.1111111111111111,
              "#46039f"
             ],
             [
              0.2222222222222222,
              "#7201a8"
             ],
             [
              0.3333333333333333,
              "#9c179e"
             ],
             [
              0.4444444444444444,
              "#bd3786"
             ],
             [
              0.5555555555555556,
              "#d8576b"
             ],
             [
              0.6666666666666666,
              "#ed7953"
             ],
             [
              0.7777777777777778,
              "#fb9f3a"
             ],
             [
              0.8888888888888888,
              "#fdca26"
             ],
             [
              1,
              "#f0f921"
             ]
            ],
            "type": "histogram2d"
           }
          ],
          "histogram2dcontour": [
           {
            "colorbar": {
             "outlinewidth": 0,
             "ticks": ""
            },
            "colorscale": [
             [
              0,
              "#0d0887"
             ],
             [
              0.1111111111111111,
              "#46039f"
             ],
             [
              0.2222222222222222,
              "#7201a8"
             ],
             [
              0.3333333333333333,
              "#9c179e"
             ],
             [
              0.4444444444444444,
              "#bd3786"
             ],
             [
              0.5555555555555556,
              "#d8576b"
             ],
             [
              0.6666666666666666,
              "#ed7953"
             ],
             [
              0.7777777777777778,
              "#fb9f3a"
             ],
             [
              0.8888888888888888,
              "#fdca26"
             ],
             [
              1,
              "#f0f921"
             ]
            ],
            "type": "histogram2dcontour"
           }
          ],
          "mesh3d": [
           {
            "colorbar": {
             "outlinewidth": 0,
             "ticks": ""
            },
            "type": "mesh3d"
           }
          ],
          "parcoords": [
           {
            "line": {
             "colorbar": {
              "outlinewidth": 0,
              "ticks": ""
             }
            },
            "type": "parcoords"
           }
          ],
          "pie": [
           {
            "automargin": true,
            "type": "pie"
           }
          ],
          "scatter": [
           {
            "marker": {
             "colorbar": {
              "outlinewidth": 0,
              "ticks": ""
             }
            },
            "type": "scatter"
           }
          ],
          "scatter3d": [
           {
            "line": {
             "colorbar": {
              "outlinewidth": 0,
              "ticks": ""
             }
            },
            "marker": {
             "colorbar": {
              "outlinewidth": 0,
              "ticks": ""
             }
            },
            "type": "scatter3d"
           }
          ],
          "scattercarpet": [
           {
            "marker": {
             "colorbar": {
              "outlinewidth": 0,
              "ticks": ""
             }
            },
            "type": "scattercarpet"
           }
          ],
          "scattergeo": [
           {
            "marker": {
             "colorbar": {
              "outlinewidth": 0,
              "ticks": ""
             }
            },
            "type": "scattergeo"
           }
          ],
          "scattergl": [
           {
            "marker": {
             "colorbar": {
              "outlinewidth": 0,
              "ticks": ""
             }
            },
            "type": "scattergl"
           }
          ],
          "scattermapbox": [
           {
            "marker": {
             "colorbar": {
              "outlinewidth": 0,
              "ticks": ""
             }
            },
            "type": "scattermapbox"
           }
          ],
          "scatterpolar": [
           {
            "marker": {
             "colorbar": {
              "outlinewidth": 0,
              "ticks": ""
             }
            },
            "type": "scatterpolar"
           }
          ],
          "scatterpolargl": [
           {
            "marker": {
             "colorbar": {
              "outlinewidth": 0,
              "ticks": ""
             }
            },
            "type": "scatterpolargl"
           }
          ],
          "scatterternary": [
           {
            "marker": {
             "colorbar": {
              "outlinewidth": 0,
              "ticks": ""
             }
            },
            "type": "scatterternary"
           }
          ],
          "surface": [
           {
            "colorbar": {
             "outlinewidth": 0,
             "ticks": ""
            },
            "colorscale": [
             [
              0,
              "#0d0887"
             ],
             [
              0.1111111111111111,
              "#46039f"
             ],
             [
              0.2222222222222222,
              "#7201a8"
             ],
             [
              0.3333333333333333,
              "#9c179e"
             ],
             [
              0.4444444444444444,
              "#bd3786"
             ],
             [
              0.5555555555555556,
              "#d8576b"
             ],
             [
              0.6666666666666666,
              "#ed7953"
             ],
             [
              0.7777777777777778,
              "#fb9f3a"
             ],
             [
              0.8888888888888888,
              "#fdca26"
             ],
             [
              1,
              "#f0f921"
             ]
            ],
            "type": "surface"
           }
          ],
          "table": [
           {
            "cells": {
             "fill": {
              "color": "#EBF0F8"
             },
             "line": {
              "color": "white"
             }
            },
            "header": {
             "fill": {
              "color": "#C8D4E3"
             },
             "line": {
              "color": "white"
             }
            },
            "type": "table"
           }
          ]
         },
         "layout": {
          "annotationdefaults": {
           "arrowcolor": "#2a3f5f",
           "arrowhead": 0,
           "arrowwidth": 1
          },
          "autotypenumbers": "strict",
          "coloraxis": {
           "colorbar": {
            "outlinewidth": 0,
            "ticks": ""
           }
          },
          "colorscale": {
           "diverging": [
            [
             0,
             "#8e0152"
            ],
            [
             0.1,
             "#c51b7d"
            ],
            [
             0.2,
             "#de77ae"
            ],
            [
             0.3,
             "#f1b6da"
            ],
            [
             0.4,
             "#fde0ef"
            ],
            [
             0.5,
             "#f7f7f7"
            ],
            [
             0.6,
             "#e6f5d0"
            ],
            [
             0.7,
             "#b8e186"
            ],
            [
             0.8,
             "#7fbc41"
            ],
            [
             0.9,
             "#4d9221"
            ],
            [
             1,
             "#276419"
            ]
           ],
           "sequential": [
            [
             0,
             "#0d0887"
            ],
            [
             0.1111111111111111,
             "#46039f"
            ],
            [
             0.2222222222222222,
             "#7201a8"
            ],
            [
             0.3333333333333333,
             "#9c179e"
            ],
            [
             0.4444444444444444,
             "#bd3786"
            ],
            [
             0.5555555555555556,
             "#d8576b"
            ],
            [
             0.6666666666666666,
             "#ed7953"
            ],
            [
             0.7777777777777778,
             "#fb9f3a"
            ],
            [
             0.8888888888888888,
             "#fdca26"
            ],
            [
             1,
             "#f0f921"
            ]
           ],
           "sequentialminus": [
            [
             0,
             "#0d0887"
            ],
            [
             0.1111111111111111,
             "#46039f"
            ],
            [
             0.2222222222222222,
             "#7201a8"
            ],
            [
             0.3333333333333333,
             "#9c179e"
            ],
            [
             0.4444444444444444,
             "#bd3786"
            ],
            [
             0.5555555555555556,
             "#d8576b"
            ],
            [
             0.6666666666666666,
             "#ed7953"
            ],
            [
             0.7777777777777778,
             "#fb9f3a"
            ],
            [
             0.8888888888888888,
             "#fdca26"
            ],
            [
             1,
             "#f0f921"
            ]
           ]
          },
          "colorway": [
           "#636efa",
           "#EF553B",
           "#00cc96",
           "#ab63fa",
           "#FFA15A",
           "#19d3f3",
           "#FF6692",
           "#B6E880",
           "#FF97FF",
           "#FECB52"
          ],
          "font": {
           "color": "#2a3f5f"
          },
          "geo": {
           "bgcolor": "white",
           "lakecolor": "white",
           "landcolor": "#E5ECF6",
           "showlakes": true,
           "showland": true,
           "subunitcolor": "white"
          },
          "hoverlabel": {
           "align": "left"
          },
          "hovermode": "closest",
          "mapbox": {
           "style": "light"
          },
          "paper_bgcolor": "white",
          "plot_bgcolor": "#E5ECF6",
          "polar": {
           "angularaxis": {
            "gridcolor": "white",
            "linecolor": "white",
            "ticks": ""
           },
           "bgcolor": "#E5ECF6",
           "radialaxis": {
            "gridcolor": "white",
            "linecolor": "white",
            "ticks": ""
           }
          },
          "scene": {
           "xaxis": {
            "backgroundcolor": "#E5ECF6",
            "gridcolor": "white",
            "gridwidth": 2,
            "linecolor": "white",
            "showbackground": true,
            "ticks": "",
            "zerolinecolor": "white"
           },
           "yaxis": {
            "backgroundcolor": "#E5ECF6",
            "gridcolor": "white",
            "gridwidth": 2,
            "linecolor": "white",
            "showbackground": true,
            "ticks": "",
            "zerolinecolor": "white"
           },
           "zaxis": {
            "backgroundcolor": "#E5ECF6",
            "gridcolor": "white",
            "gridwidth": 2,
            "linecolor": "white",
            "showbackground": true,
            "ticks": "",
            "zerolinecolor": "white"
           }
          },
          "shapedefaults": {
           "line": {
            "color": "#2a3f5f"
           }
          },
          "ternary": {
           "aaxis": {
            "gridcolor": "white",
            "linecolor": "white",
            "ticks": ""
           },
           "baxis": {
            "gridcolor": "white",
            "linecolor": "white",
            "ticks": ""
           },
           "bgcolor": "#E5ECF6",
           "caxis": {
            "gridcolor": "white",
            "linecolor": "white",
            "ticks": ""
           }
          },
          "title": {
           "x": 0.05
          },
          "xaxis": {
           "automargin": true,
           "gridcolor": "white",
           "linecolor": "white",
           "ticks": "",
           "title": {
            "standoff": 15
           },
           "zerolinecolor": "white",
           "zerolinewidth": 2
          },
          "yaxis": {
           "automargin": true,
           "gridcolor": "white",
           "linecolor": "white",
           "ticks": "",
           "title": {
            "standoff": 15
           },
           "zerolinecolor": "white",
           "zerolinewidth": 2
          }
         }
        },
        "title": {
         "text": "UMAP, Organoid Data"
        },
        "xaxis": {
         "anchor": "y",
         "domain": [
          0,
          1
         ],
         "title": {
          "text": "0"
         }
        },
        "yaxis": {
         "anchor": "x",
         "domain": [
          0,
          1
         ],
         "title": {
          "text": "1"
         }
        }
       }
      },
      "text/html": [
       "<div>                            <div id=\"f36017a1-12c4-41a4-9cfe-bf80857b51e8\" class=\"plotly-graph-div\" style=\"height:525px; width:100%;\"></div>            <script type=\"text/javascript\">                require([\"plotly\"], function(Plotly) {                    window.PLOTLYENV=window.PLOTLYENV || {};                                    if (document.getElementById(\"f36017a1-12c4-41a4-9cfe-bf80857b51e8\")) {                    Plotly.newPlot(                        \"f36017a1-12c4-41a4-9cfe-bf80857b51e8\",                        [{\"hovertemplate\":\"0=%{x}<br>1=%{y}<extra></extra>\",\"legendgroup\":\"\",\"marker\":{\"color\":\"#636efa\",\"symbol\":\"circle\"},\"mode\":\"markers\",\"name\":\"\",\"orientation\":\"v\",\"showlegend\":false,\"type\":\"scatter\",\"x\":[4.856333255767822,7.366262912750244,3.8972227573394775,7.7637810707092285,4.067503452301025,5.028574466705322,5.793778419494629,5.344799995422363,6.180216312408447,4.09340763092041,6.097901821136475,5.104311466217041,4.349204063415527,4.528567314147949,4.970600605010986,6.623215675354004,4.384819030761719,7.026965618133545,4.425713062286377,5.822240829467773,7.6019673347473145,7.109902381896973,7.862786769866943,4.874512672424316,6.856041431427002,7.567227363586426,7.219663619995117,4.4794206619262695,4.4551615715026855,6.230923175811768,4.5939836502075195,5.816497802734375,6.448441028594971,5.42348051071167,5.2638020515441895,4.230068206787109,7.506396770477295,5.195549488067627,5.679523468017578,5.712393760681152,6.657642841339111,6.082133769989014,5.340460777282715,4.3003106117248535,4.735917568206787,4.542552947998047,7.246593475341797,4.722460746765137,5.137706756591797,7.400976181030273,7.342907905578613,4.529183387756348,7.426870822906494,4.904651641845703,5.746610641479492,6.463229656219482,6.082788944244385,6.786202907562256,5.011587142944336,6.500129699707031,7.928260326385498,4.8104352951049805,6.190898895263672,7.020870208740234,7.742190837860107,5.158706188201904,5.4564080238342285,4.726894855499268,7.351694583892822,7.330370903015137,5.855747222900391,5.988551139831543,7.356493949890137,4.883022785186768,7.605084419250488,5.114389419555664,6.315467357635498,7.012831211090088,5.597534656524658,6.079267978668213,5.175439834594727,6.928046226501465,5.301738739013672,6.794617652893066,6.807153701782227,5.983651161193848,5.212110996246338,5.916255950927734,7.020927429199219,5.009125709533691,6.52616024017334,5.17183780670166,5.686712265014648,5.693098068237305,7.021456718444824,5.31514310836792,5.778138160705566,5.237696647644043,5.145499229431152,5.424422264099121,6.741825580596924,5.526001453399658,5.7793049812316895,6.337420463562012,6.244185447692871,6.57773494720459,6.721479892730713,6.33953857421875,5.237240791320801,6.094199180603027,6.238157749176025,5.57245397567749,6.331086158752441,6.701233386993408,5.598745346069336,6.271456241607666,5.603479385375977,6.738012313842773,5.543275356292725,5.48689603805542,6.059882164001465,6.729250907897949,5.814354419708252,6.903012275695801,7.048267364501953,5.891848087310791,6.106838703155518,6.60387659072876,6.577868461608887,6.271705627441406,5.584256649017334,6.572848320007324,5.96091890335083,6.683816909790039,6.116036891937256,6.81779146194458,6.40207576751709,6.301623821258545,6.6739325523376465,6.933326721191406,6.515804290771484,5.820669651031494,5.684290885925293,5.502919673919678,6.026571273803711,4.962047100067139],\"xaxis\":\"x\",\"y\":[3.8906736373901367,3.29573917388916,5.585065841674805,3.909588098526001,5.075632572174072,5.914189338684082,6.324264049530029,3.099168300628662,4.89911413192749,5.130706310272217,3.2962827682495117,3.2874412536621094,3.9175679683685303,5.8855509757995605,3.4693119525909424,3.620530605316162,6.117720603942871,6.438036918640137,5.612245082855225,4.423206329345703,5.2276611328125,3.930237054824829,5.494577884674072,5.767977714538574,3.2761356830596924,4.455021858215332,3.8820159435272217,3.577258825302124,4.954843997955322,6.290919780731201,5.379855155944824,6.582012176513672,6.768397808074951,6.023777484893799,6.435488224029541,4.523046970367432,5.792395114898682,4.2602925300598145,6.479397296905518,3.609605073928833,6.348808765411377,3.473276376724243,5.8395867347717285,4.777275085449219,4.194945335388184,4.2938079833984375,4.442201614379883,4.9048027992248535,6.625340938568115,4.898234844207764,5.49981689453125,4.497485160827637,3.8074722290039062,5.409940719604492,3.9563989639282227,6.47271728515625,5.609945774078369,5.514846324920654,6.317463397979736,3.0345406532287598,4.923203945159912,5.696874141693115,3.052272319793701,3.8445913791656494,4.751007080078125,4.567770481109619,5.753554821014404,4.54965353012085,6.0982561111450195,5.677701950073242,5.9474358558654785,6.172881126403809,4.547689914703369,4.856306076049805,3.647270679473877,3.7849016189575195,5.112250328063965,5.259522914886475,3.9141266345977783,4.341796398162842,5.824032783508301,3.9956281185150146,5.328128337860107,3.724693775177002,4.2555341720581055,5.899841785430908,4.531278610229492,3.891488790512085,5.066389083862305,4.803738117218018,4.586774826049805,5.413356304168701,4.977419376373291,5.400767803192139,4.3880767822265625,5.012040138244629,4.460075378417969,4.046726703643799,4.710336208343506,4.328784465789795,5.376210689544678,6.167283535003662,5.630586624145508,5.548666000366211,3.970588445663452,5.688384056091309,6.042914867401123,3.840294361114502,5.35659646987915,4.190667629241943,5.46986198425293,4.595068454742432,5.178218364715576,4.213695526123047,5.04472541809082,5.966141223907471,5.587433338165283,5.387718200683594,4.0021281242370605,5.134762763977051,4.358767986297607,5.011020660400391,4.626819133758545,4.6120100021362305,4.689250946044922,5.706002712249756,4.739358901977539,5.077372074127197,5.289880752563477,4.9674577713012695,5.182649612426758,4.902161121368408,5.281549453735352,4.836675643920898,5.4653706550598145,4.330755233764648,4.63650369644165,4.381341457366943,4.4795145988464355,5.599323749542236,4.025516510009766,5.003600120544434,6.073410987854004,4.638714790344238,5.043159008026123,5.1089863777160645],\"yaxis\":\"y\"}],                        {\"legend\":{\"tracegroupgap\":0},\"template\":{\"data\":{\"bar\":[{\"error_x\":{\"color\":\"#2a3f5f\"},\"error_y\":{\"color\":\"#2a3f5f\"},\"marker\":{\"line\":{\"color\":\"#E5ECF6\",\"width\":0.5},\"pattern\":{\"fillmode\":\"overlay\",\"size\":10,\"solidity\":0.2}},\"type\":\"bar\"}],\"barpolar\":[{\"marker\":{\"line\":{\"color\":\"#E5ECF6\",\"width\":0.5},\"pattern\":{\"fillmode\":\"overlay\",\"size\":10,\"solidity\":0.2}},\"type\":\"barpolar\"}],\"carpet\":[{\"aaxis\":{\"endlinecolor\":\"#2a3f5f\",\"gridcolor\":\"white\",\"linecolor\":\"white\",\"minorgridcolor\":\"white\",\"startlinecolor\":\"#2a3f5f\"},\"baxis\":{\"endlinecolor\":\"#2a3f5f\",\"gridcolor\":\"white\",\"linecolor\":\"white\",\"minorgridcolor\":\"white\",\"startlinecolor\":\"#2a3f5f\"},\"type\":\"carpet\"}],\"choropleth\":[{\"colorbar\":{\"outlinewidth\":0,\"ticks\":\"\"},\"type\":\"choropleth\"}],\"contour\":[{\"colorbar\":{\"outlinewidth\":0,\"ticks\":\"\"},\"colorscale\":[[0.0,\"#0d0887\"],[0.1111111111111111,\"#46039f\"],[0.2222222222222222,\"#7201a8\"],[0.3333333333333333,\"#9c179e\"],[0.4444444444444444,\"#bd3786\"],[0.5555555555555556,\"#d8576b\"],[0.6666666666666666,\"#ed7953\"],[0.7777777777777778,\"#fb9f3a\"],[0.8888888888888888,\"#fdca26\"],[1.0,\"#f0f921\"]],\"type\":\"contour\"}],\"contourcarpet\":[{\"colorbar\":{\"outlinewidth\":0,\"ticks\":\"\"},\"type\":\"contourcarpet\"}],\"heatmap\":[{\"colorbar\":{\"outlinewidth\":0,\"ticks\":\"\"},\"colorscale\":[[0.0,\"#0d0887\"],[0.1111111111111111,\"#46039f\"],[0.2222222222222222,\"#7201a8\"],[0.3333333333333333,\"#9c179e\"],[0.4444444444444444,\"#bd3786\"],[0.5555555555555556,\"#d8576b\"],[0.6666666666666666,\"#ed7953\"],[0.7777777777777778,\"#fb9f3a\"],[0.8888888888888888,\"#fdca26\"],[1.0,\"#f0f921\"]],\"type\":\"heatmap\"}],\"heatmapgl\":[{\"colorbar\":{\"outlinewidth\":0,\"ticks\":\"\"},\"colorscale\":[[0.0,\"#0d0887\"],[0.1111111111111111,\"#46039f\"],[0.2222222222222222,\"#7201a8\"],[0.3333333333333333,\"#9c179e\"],[0.4444444444444444,\"#bd3786\"],[0.5555555555555556,\"#d8576b\"],[0.6666666666666666,\"#ed7953\"],[0.7777777777777778,\"#fb9f3a\"],[0.8888888888888888,\"#fdca26\"],[1.0,\"#f0f921\"]],\"type\":\"heatmapgl\"}],\"histogram\":[{\"marker\":{\"pattern\":{\"fillmode\":\"overlay\",\"size\":10,\"solidity\":0.2}},\"type\":\"histogram\"}],\"histogram2d\":[{\"colorbar\":{\"outlinewidth\":0,\"ticks\":\"\"},\"colorscale\":[[0.0,\"#0d0887\"],[0.1111111111111111,\"#46039f\"],[0.2222222222222222,\"#7201a8\"],[0.3333333333333333,\"#9c179e\"],[0.4444444444444444,\"#bd3786\"],[0.5555555555555556,\"#d8576b\"],[0.6666666666666666,\"#ed7953\"],[0.7777777777777778,\"#fb9f3a\"],[0.8888888888888888,\"#fdca26\"],[1.0,\"#f0f921\"]],\"type\":\"histogram2d\"}],\"histogram2dcontour\":[{\"colorbar\":{\"outlinewidth\":0,\"ticks\":\"\"},\"colorscale\":[[0.0,\"#0d0887\"],[0.1111111111111111,\"#46039f\"],[0.2222222222222222,\"#7201a8\"],[0.3333333333333333,\"#9c179e\"],[0.4444444444444444,\"#bd3786\"],[0.5555555555555556,\"#d8576b\"],[0.6666666666666666,\"#ed7953\"],[0.7777777777777778,\"#fb9f3a\"],[0.8888888888888888,\"#fdca26\"],[1.0,\"#f0f921\"]],\"type\":\"histogram2dcontour\"}],\"mesh3d\":[{\"colorbar\":{\"outlinewidth\":0,\"ticks\":\"\"},\"type\":\"mesh3d\"}],\"parcoords\":[{\"line\":{\"colorbar\":{\"outlinewidth\":0,\"ticks\":\"\"}},\"type\":\"parcoords\"}],\"pie\":[{\"automargin\":true,\"type\":\"pie\"}],\"scatter\":[{\"marker\":{\"colorbar\":{\"outlinewidth\":0,\"ticks\":\"\"}},\"type\":\"scatter\"}],\"scatter3d\":[{\"line\":{\"colorbar\":{\"outlinewidth\":0,\"ticks\":\"\"}},\"marker\":{\"colorbar\":{\"outlinewidth\":0,\"ticks\":\"\"}},\"type\":\"scatter3d\"}],\"scattercarpet\":[{\"marker\":{\"colorbar\":{\"outlinewidth\":0,\"ticks\":\"\"}},\"type\":\"scattercarpet\"}],\"scattergeo\":[{\"marker\":{\"colorbar\":{\"outlinewidth\":0,\"ticks\":\"\"}},\"type\":\"scattergeo\"}],\"scattergl\":[{\"marker\":{\"colorbar\":{\"outlinewidth\":0,\"ticks\":\"\"}},\"type\":\"scattergl\"}],\"scattermapbox\":[{\"marker\":{\"colorbar\":{\"outlinewidth\":0,\"ticks\":\"\"}},\"type\":\"scattermapbox\"}],\"scatterpolar\":[{\"marker\":{\"colorbar\":{\"outlinewidth\":0,\"ticks\":\"\"}},\"type\":\"scatterpolar\"}],\"scatterpolargl\":[{\"marker\":{\"colorbar\":{\"outlinewidth\":0,\"ticks\":\"\"}},\"type\":\"scatterpolargl\"}],\"scatterternary\":[{\"marker\":{\"colorbar\":{\"outlinewidth\":0,\"ticks\":\"\"}},\"type\":\"scatterternary\"}],\"surface\":[{\"colorbar\":{\"outlinewidth\":0,\"ticks\":\"\"},\"colorscale\":[[0.0,\"#0d0887\"],[0.1111111111111111,\"#46039f\"],[0.2222222222222222,\"#7201a8\"],[0.3333333333333333,\"#9c179e\"],[0.4444444444444444,\"#bd3786\"],[0.5555555555555556,\"#d8576b\"],[0.6666666666666666,\"#ed7953\"],[0.7777777777777778,\"#fb9f3a\"],[0.8888888888888888,\"#fdca26\"],[1.0,\"#f0f921\"]],\"type\":\"surface\"}],\"table\":[{\"cells\":{\"fill\":{\"color\":\"#EBF0F8\"},\"line\":{\"color\":\"white\"}},\"header\":{\"fill\":{\"color\":\"#C8D4E3\"},\"line\":{\"color\":\"white\"}},\"type\":\"table\"}]},\"layout\":{\"annotationdefaults\":{\"arrowcolor\":\"#2a3f5f\",\"arrowhead\":0,\"arrowwidth\":1},\"autotypenumbers\":\"strict\",\"coloraxis\":{\"colorbar\":{\"outlinewidth\":0,\"ticks\":\"\"}},\"colorscale\":{\"diverging\":[[0,\"#8e0152\"],[0.1,\"#c51b7d\"],[0.2,\"#de77ae\"],[0.3,\"#f1b6da\"],[0.4,\"#fde0ef\"],[0.5,\"#f7f7f7\"],[0.6,\"#e6f5d0\"],[0.7,\"#b8e186\"],[0.8,\"#7fbc41\"],[0.9,\"#4d9221\"],[1,\"#276419\"]],\"sequential\":[[0.0,\"#0d0887\"],[0.1111111111111111,\"#46039f\"],[0.2222222222222222,\"#7201a8\"],[0.3333333333333333,\"#9c179e\"],[0.4444444444444444,\"#bd3786\"],[0.5555555555555556,\"#d8576b\"],[0.6666666666666666,\"#ed7953\"],[0.7777777777777778,\"#fb9f3a\"],[0.8888888888888888,\"#fdca26\"],[1.0,\"#f0f921\"]],\"sequentialminus\":[[0.0,\"#0d0887\"],[0.1111111111111111,\"#46039f\"],[0.2222222222222222,\"#7201a8\"],[0.3333333333333333,\"#9c179e\"],[0.4444444444444444,\"#bd3786\"],[0.5555555555555556,\"#d8576b\"],[0.6666666666666666,\"#ed7953\"],[0.7777777777777778,\"#fb9f3a\"],[0.8888888888888888,\"#fdca26\"],[1.0,\"#f0f921\"]]},\"colorway\":[\"#636efa\",\"#EF553B\",\"#00cc96\",\"#ab63fa\",\"#FFA15A\",\"#19d3f3\",\"#FF6692\",\"#B6E880\",\"#FF97FF\",\"#FECB52\"],\"font\":{\"color\":\"#2a3f5f\"},\"geo\":{\"bgcolor\":\"white\",\"lakecolor\":\"white\",\"landcolor\":\"#E5ECF6\",\"showlakes\":true,\"showland\":true,\"subunitcolor\":\"white\"},\"hoverlabel\":{\"align\":\"left\"},\"hovermode\":\"closest\",\"mapbox\":{\"style\":\"light\"},\"paper_bgcolor\":\"white\",\"plot_bgcolor\":\"#E5ECF6\",\"polar\":{\"angularaxis\":{\"gridcolor\":\"white\",\"linecolor\":\"white\",\"ticks\":\"\"},\"bgcolor\":\"#E5ECF6\",\"radialaxis\":{\"gridcolor\":\"white\",\"linecolor\":\"white\",\"ticks\":\"\"}},\"scene\":{\"xaxis\":{\"backgroundcolor\":\"#E5ECF6\",\"gridcolor\":\"white\",\"gridwidth\":2,\"linecolor\":\"white\",\"showbackground\":true,\"ticks\":\"\",\"zerolinecolor\":\"white\"},\"yaxis\":{\"backgroundcolor\":\"#E5ECF6\",\"gridcolor\":\"white\",\"gridwidth\":2,\"linecolor\":\"white\",\"showbackground\":true,\"ticks\":\"\",\"zerolinecolor\":\"white\"},\"zaxis\":{\"backgroundcolor\":\"#E5ECF6\",\"gridcolor\":\"white\",\"gridwidth\":2,\"linecolor\":\"white\",\"showbackground\":true,\"ticks\":\"\",\"zerolinecolor\":\"white\"}},\"shapedefaults\":{\"line\":{\"color\":\"#2a3f5f\"}},\"ternary\":{\"aaxis\":{\"gridcolor\":\"white\",\"linecolor\":\"white\",\"ticks\":\"\"},\"baxis\":{\"gridcolor\":\"white\",\"linecolor\":\"white\",\"ticks\":\"\"},\"bgcolor\":\"#E5ECF6\",\"caxis\":{\"gridcolor\":\"white\",\"linecolor\":\"white\",\"ticks\":\"\"}},\"title\":{\"x\":0.05},\"xaxis\":{\"automargin\":true,\"gridcolor\":\"white\",\"linecolor\":\"white\",\"ticks\":\"\",\"title\":{\"standoff\":15},\"zerolinecolor\":\"white\",\"zerolinewidth\":2},\"yaxis\":{\"automargin\":true,\"gridcolor\":\"white\",\"linecolor\":\"white\",\"ticks\":\"\",\"title\":{\"standoff\":15},\"zerolinecolor\":\"white\",\"zerolinewidth\":2}}},\"title\":{\"text\":\"UMAP, Organoid Data\"},\"xaxis\":{\"anchor\":\"y\",\"domain\":[0.0,1.0],\"title\":{\"text\":\"0\"}},\"yaxis\":{\"anchor\":\"x\",\"domain\":[0.0,1.0],\"title\":{\"text\":\"1\"}}},                        {\"responsive\": true}                    ).then(function(){\n",
       "                            \n",
       "var gd = document.getElementById('f36017a1-12c4-41a4-9cfe-bf80857b51e8');\n",
       "var x = new MutationObserver(function (mutations, observer) {{\n",
       "        var display = window.getComputedStyle(gd).display;\n",
       "        if (!display || display === 'none') {{\n",
       "            console.log([gd, 'removed!']);\n",
       "            Plotly.purge(gd);\n",
       "            observer.disconnect();\n",
       "        }}\n",
       "}});\n",
       "\n",
       "// Listen for the removal of the full notebook cells\n",
       "var notebookContainer = gd.closest('#notebook-container');\n",
       "if (notebookContainer) {{\n",
       "    x.observe(notebookContainer, {childList: true});\n",
       "}}\n",
       "\n",
       "// Listen for the clearing of the current output cell\n",
       "var outputEl = gd.closest('.output');\n",
       "if (outputEl) {{\n",
       "    x.observe(outputEl, {childList: true});\n",
       "}}\n",
       "\n",
       "                        })                };                });            </script>        </div>"
      ]
     },
     "metadata": {},
     "output_type": "display_data"
    }
   ],
   "source": [
    "px.scatter(org_umap, x=0, y=1, title='UMAP, Organoid Data')"
   ]
  },
  {
   "cell_type": "code",
   "execution_count": null,
   "metadata": {},
   "outputs": [],
   "source": []
  }
 ],
 "metadata": {
  "kernelspec": {
   "display_name": "basedatascience",
   "language": "python",
   "name": "basedatascience"
  },
  "language_info": {
   "codemirror_mode": {
    "name": "ipython",
    "version": 3
   },
   "file_extension": ".py",
   "mimetype": "text/x-python",
   "name": "python",
   "nbconvert_exporter": "python",
   "pygments_lexer": "ipython3",
   "version": "3.8.5"
  }
 },
 "nbformat": 4,
 "nbformat_minor": 4
}
