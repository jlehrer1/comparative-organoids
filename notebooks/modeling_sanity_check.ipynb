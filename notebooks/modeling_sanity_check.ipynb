{
 "cells": [
  {
   "cell_type": "markdown",
   "id": "ec5ff669",
   "metadata": {},
   "source": [
    "# Modeling Sanity Check: Why is my model not converging?\n",
    "\n",
    "In this notebook, we'll test our neural network on a simple binary classification dataset to validate that our DataLoader is working correctly."
   ]
  },
  {
   "cell_type": "code",
   "execution_count": 1,
   "id": "a997b07b",
   "metadata": {},
   "outputs": [],
   "source": [
    "import dask.dataframe as dd\n",
    "import pandas as pd \n",
    "import torch\n",
    "import linecache \n",
    "import csv\n",
    "import numpy as np\n",
    "import torch.nn as nn\n",
    "from torch.utils.data import Dataset, DataLoader"
   ]
  },
  {
   "cell_type": "markdown",
   "id": "6123cab6",
   "metadata": {},
   "source": [
    "Let's define our custom data class and make sure everything is being streamed in correctly"
   ]
  },
  {
   "cell_type": "code",
   "execution_count": 2,
   "id": "7a029d09",
   "metadata": {},
   "outputs": [],
   "source": [
    "df = pd.read_csv('datatest.csv')\n",
    "labels = pd.read_csv('labelstest.csv')"
   ]
  },
  {
   "cell_type": "code",
   "execution_count": 3,
   "id": "84c92b7f",
   "metadata": {},
   "outputs": [],
   "source": [
    "class CustomDataset(Dataset):\n",
    "    def __init__(self, filename, labelname):\n",
    "        self._filename = filename\n",
    "        self._labelname = labelname\n",
    "        self._total_data = 0\n",
    "        \n",
    "        with open(filename, \"r\") as f:\n",
    "            self._total_data = len(f.readlines()) - 1\n",
    "    \n",
    "    def __getitem__(self, idx):\n",
    "        line = linecache.getline(self._filename, idx + 2)\n",
    "        label = linecache.getline(self._labelname, idx + 2)\n",
    "        \n",
    "        csv_data = csv.reader([line])\n",
    "        csv_label = csv.reader([label])\n",
    "        \n",
    "        data = [x for x in csv_data][0]\n",
    "        label = [x for x in csv_label][0]\n",
    "        \n",
    "        return torch.from_numpy(np.array([float(x) for x in data])).float(), [int(float(x)) for x in label][0]\n",
    "    \n",
    "    def __len__(self):\n",
    "        return self._total_data\n",
    "\n",
    "class CustomDataset2(Dataset):\n",
    "    def __init__(self, data, labels):\n",
    "        self.data = pd.read_csv(data)\n",
    "        self.labels = pd.read_csv(labels)\n",
    "        \n",
    "    def __getitem__(self, i):\n",
    "        return torch.from_numpy(self.data.iloc[i, :].values).float(), self.labels.iloc[i, :].values[0]\n",
    "    \n",
    "    def __len__(self):\n",
    "        return self.data.shape[0]"
   ]
  },
  {
   "cell_type": "code",
   "execution_count": 4,
   "id": "e77a771e",
   "metadata": {},
   "outputs": [],
   "source": [
    "t = CustomDataset('datatest.csv', 'labelstest.csv')\n",
    "t2 = CustomDataset2('datatest.csv', 'labelstest.csv')\n",
    "traindata = DataLoader(t, batch_size=8, num_workers=0)\n",
    "traindata2 = DataLoader(t, batch_size=8, num_workers=0)"
   ]
  },
  {
   "cell_type": "code",
   "execution_count": 5,
   "id": "872d78b2",
   "metadata": {},
   "outputs": [],
   "source": [
    "# for X, y in t:\n",
    "#     print(X, y)"
   ]
  },
  {
   "cell_type": "code",
   "execution_count": 6,
   "id": "78edd1bf",
   "metadata": {},
   "outputs": [],
   "source": [
    "# all([X.item() for X, y in t] == [X.item() for X, y in t2])"
   ]
  },
  {
   "cell_type": "markdown",
   "id": "5ccbc953",
   "metadata": {},
   "source": [
    "Now that we have our dataset, we'll train a simple feedforward neural network and see if it converges. In fact, it should overfit quite a lot "
   ]
  },
  {
   "cell_type": "code",
   "execution_count": 7,
   "id": "3ec56e27",
   "metadata": {},
   "outputs": [],
   "source": [
    "import torch\n",
    "\n",
    "class NN(nn.Module):\n",
    "    def __init__(self):\n",
    "        super(NN, self).__init__()\n",
    "        self.l1 = nn.Linear(in_features=3, out_features=16),\n",
    "        self.l2 = nn.Linear(in_features=16, out_features=200),\n",
    "        self.l3 = nn.Linear(in_features=32, out_features=3),\n",
    "        \n",
    "    def forward(self, x):\n",
    "        x = self.l1(x)\n",
    "        x = nn.ReLU(x)\n",
    "        x = self.l2(x)\n",
    "        x = nn.reLU(x)\n",
    "        x = self.l3(x)\n",
    "        x = torch.sigmoid(x)\n",
    "        return x\n",
    "    \n",
    "class NeuralNetwork(nn.Module):\n",
    "    def __init__(self):\n",
    "        super(NeuralNetwork, self).__init__()\n",
    "        self.flatten = nn.Flatten()\n",
    "        self.linear_relu_stack = nn.Sequential(\n",
    "            nn.Linear(3, 512),\n",
    "            nn.ReLU(),\n",
    "            nn.Linear(512, 512),\n",
    "            nn.ReLU(),\n",
    "            nn.Linear(512, 3),\n",
    "        )\n",
    "\n",
    "    def forward(self, x):\n",
    "        x = self.flatten(x)\n",
    "        logits = self.linear_relu_stack(x)\n",
    "        return logits"
   ]
  },
  {
   "cell_type": "code",
   "execution_count": 8,
   "id": "4431db26",
   "metadata": {},
   "outputs": [
    {
     "data": {
      "text/plain": [
       "NeuralNetwork(\n",
       "  (flatten): Flatten(start_dim=1, end_dim=-1)\n",
       "  (linear_relu_stack): Sequential(\n",
       "    (0): Linear(in_features=3, out_features=512, bias=True)\n",
       "    (1): ReLU()\n",
       "    (2): Linear(in_features=512, out_features=512, bias=True)\n",
       "    (3): ReLU()\n",
       "    (4): Linear(in_features=512, out_features=3, bias=True)\n",
       "  )\n",
       ")"
      ]
     },
     "execution_count": 8,
     "metadata": {},
     "output_type": "execute_result"
    }
   ],
   "source": [
    "model = NeuralNetwork()\n",
    "model"
   ]
  },
  {
   "cell_type": "markdown",
   "id": "d6974d4e",
   "metadata": {},
   "source": [
    "And now we can train our network"
   ]
  },
  {
   "cell_type": "code",
   "execution_count": 9,
   "id": "abe07489",
   "metadata": {
    "scrolled": true
   },
   "outputs": [],
   "source": [
    "from ignite.engine import Events, create_supervised_trainer, create_supervised_evaluator\n",
    "from ignite.metrics import Accuracy, Loss\n",
    "\n",
    "# model = NN()\n",
    "optimizer = torch.optim.Adam(model.parameters(), lr=0.01)\n",
    "criterion = nn.CrossEntropyLoss()\n",
    "\n",
    "trainer = create_supervised_trainer(model, optimizer, criterion)\n",
    "\n",
    "val_metrics = {\n",
    "    \"accuracy\": Accuracy(),\n",
    "    \"nll\": Loss(criterion)\n",
    "}\n",
    "\n",
    "evaluator = create_supervised_evaluator(model, metrics=val_metrics)\n",
    "\n",
    "log_interval = 3\n",
    "\n",
    "@trainer.on(Events.EPOCH_COMPLETED)\n",
    "def log_training_results(trainer):\n",
    "    evaluator.run(traindata)\n",
    "    metrics = evaluator.state.metrics\n",
    "    print(f\"Training Results - Epoch: {trainer.state.epoch}  Avg accuracy: {metrics['accuracy']:.2f} Avg loss: {metrics['nll']:.2f}\")"
   ]
  },
  {
   "cell_type": "code",
   "execution_count": 10,
   "id": "7f0bb40e",
   "metadata": {
    "scrolled": true
   },
   "outputs": [
    {
     "name": "stdout",
     "output_type": "stream",
     "text": [
      "Training Results - Epoch: 1  Avg accuracy: 0.78 Avg loss: 0.65\n",
      "Training Results - Epoch: 2  Avg accuracy: 0.88 Avg loss: 0.51\n",
      "Training Results - Epoch: 3  Avg accuracy: 0.86 Avg loss: 0.61\n",
      "Training Results - Epoch: 4  Avg accuracy: 0.89 Avg loss: 0.49\n",
      "Training Results - Epoch: 5  Avg accuracy: 0.86 Avg loss: 0.42\n",
      "Training Results - Epoch: 6  Avg accuracy: 0.90 Avg loss: 0.34\n",
      "Training Results - Epoch: 7  Avg accuracy: 0.89 Avg loss: 0.51\n",
      "Training Results - Epoch: 8  Avg accuracy: 0.91 Avg loss: 0.40\n",
      "Training Results - Epoch: 9  Avg accuracy: 0.88 Avg loss: 0.44\n",
      "Training Results - Epoch: 10  Avg accuracy: 0.90 Avg loss: 0.38\n",
      "Training Results - Epoch: 11  Avg accuracy: 0.91 Avg loss: 0.41\n",
      "Training Results - Epoch: 12  Avg accuracy: 0.91 Avg loss: 0.33\n",
      "Training Results - Epoch: 13  Avg accuracy: 0.91 Avg loss: 0.32\n",
      "Training Results - Epoch: 14  Avg accuracy: 0.91 Avg loss: 0.31\n",
      "Training Results - Epoch: 15  Avg accuracy: 0.89 Avg loss: 0.31\n",
      "Training Results - Epoch: 16  Avg accuracy: 0.91 Avg loss: 0.30\n",
      "Training Results - Epoch: 17  Avg accuracy: 0.91 Avg loss: 0.29\n",
      "Training Results - Epoch: 18  Avg accuracy: 0.91 Avg loss: 0.29\n",
      "Training Results - Epoch: 19  Avg accuracy: 0.91 Avg loss: 0.29\n",
      "Training Results - Epoch: 20  Avg accuracy: 0.90 Avg loss: 0.29\n",
      "Training Results - Epoch: 21  Avg accuracy: 0.90 Avg loss: 0.29\n",
      "Training Results - Epoch: 22  Avg accuracy: 0.91 Avg loss: 0.30\n",
      "Training Results - Epoch: 23  Avg accuracy: 0.90 Avg loss: 0.33\n",
      "Training Results - Epoch: 24  Avg accuracy: 0.91 Avg loss: 0.31\n",
      "Training Results - Epoch: 25  Avg accuracy: 0.90 Avg loss: 0.29\n",
      "Training Results - Epoch: 26  Avg accuracy: 0.91 Avg loss: 0.29\n",
      "Training Results - Epoch: 27  Avg accuracy: 0.91 Avg loss: 0.28\n",
      "Training Results - Epoch: 28  Avg accuracy: 0.91 Avg loss: 0.27\n",
      "Training Results - Epoch: 29  Avg accuracy: 0.91 Avg loss: 0.28\n",
      "Training Results - Epoch: 30  Avg accuracy: 0.90 Avg loss: 0.30\n",
      "Training Results - Epoch: 31  Avg accuracy: 0.91 Avg loss: 0.27\n",
      "Training Results - Epoch: 32  Avg accuracy: 0.91 Avg loss: 0.27\n",
      "Training Results - Epoch: 33  Avg accuracy: 0.91 Avg loss: 0.28\n",
      "Training Results - Epoch: 34  Avg accuracy: 0.91 Avg loss: 0.28\n",
      "Training Results - Epoch: 35  Avg accuracy: 0.90 Avg loss: 0.27\n",
      "Training Results - Epoch: 36  Avg accuracy: 0.91 Avg loss: 0.28\n",
      "Training Results - Epoch: 37  Avg accuracy: 0.90 Avg loss: 0.28\n",
      "Training Results - Epoch: 38  Avg accuracy: 0.91 Avg loss: 0.28\n",
      "Training Results - Epoch: 39  Avg accuracy: 0.91 Avg loss: 0.27\n",
      "Training Results - Epoch: 40  Avg accuracy: 0.90 Avg loss: 0.29\n",
      "Training Results - Epoch: 41  Avg accuracy: 0.91 Avg loss: 0.30\n",
      "Training Results - Epoch: 42  Avg accuracy: 0.91 Avg loss: 0.29\n",
      "Training Results - Epoch: 43  Avg accuracy: 0.91 Avg loss: 0.29\n",
      "Training Results - Epoch: 44  Avg accuracy: 0.90 Avg loss: 0.28\n",
      "Training Results - Epoch: 45  Avg accuracy: 0.90 Avg loss: 0.29\n",
      "Training Results - Epoch: 46  Avg accuracy: 0.91 Avg loss: 0.29\n",
      "Training Results - Epoch: 47  Avg accuracy: 0.90 Avg loss: 0.29\n",
      "Training Results - Epoch: 48  Avg accuracy: 0.91 Avg loss: 0.29\n",
      "Training Results - Epoch: 49  Avg accuracy: 0.89 Avg loss: 0.30\n",
      "Training Results - Epoch: 50  Avg accuracy: 0.90 Avg loss: 0.30\n",
      "Training Results - Epoch: 51  Avg accuracy: 0.91 Avg loss: 0.28\n",
      "Training Results - Epoch: 52  Avg accuracy: 0.91 Avg loss: 0.28\n",
      "Training Results - Epoch: 53  Avg accuracy: 0.91 Avg loss: 0.28\n",
      "Training Results - Epoch: 54  Avg accuracy: 0.89 Avg loss: 0.30\n",
      "Training Results - Epoch: 55  Avg accuracy: 0.89 Avg loss: 0.28\n",
      "Training Results - Epoch: 56  Avg accuracy: 0.91 Avg loss: 0.27\n",
      "Training Results - Epoch: 57  Avg accuracy: 0.91 Avg loss: 0.27\n",
      "Training Results - Epoch: 58  Avg accuracy: 0.91 Avg loss: 0.28\n",
      "Training Results - Epoch: 59  Avg accuracy: 0.91 Avg loss: 0.29\n",
      "Training Results - Epoch: 60  Avg accuracy: 0.90 Avg loss: 0.35\n",
      "Training Results - Epoch: 61  Avg accuracy: 0.89 Avg loss: 0.31\n",
      "Training Results - Epoch: 62  Avg accuracy: 0.91 Avg loss: 0.27\n",
      "Training Results - Epoch: 63  Avg accuracy: 0.91 Avg loss: 0.29\n",
      "Training Results - Epoch: 64  Avg accuracy: 0.91 Avg loss: 0.28\n",
      "Training Results - Epoch: 65  Avg accuracy: 0.91 Avg loss: 0.27\n",
      "Training Results - Epoch: 66  Avg accuracy: 0.91 Avg loss: 0.26\n",
      "Training Results - Epoch: 67  Avg accuracy: 0.91 Avg loss: 0.28\n",
      "Training Results - Epoch: 68  Avg accuracy: 0.91 Avg loss: 0.27\n",
      "Training Results - Epoch: 69  Avg accuracy: 0.90 Avg loss: 0.30\n",
      "Training Results - Epoch: 70  Avg accuracy: 0.88 Avg loss: 0.31\n",
      "Training Results - Epoch: 71  Avg accuracy: 0.90 Avg loss: 0.31\n",
      "Training Results - Epoch: 72  Avg accuracy: 0.91 Avg loss: 0.27\n",
      "Training Results - Epoch: 73  Avg accuracy: 0.91 Avg loss: 0.27\n",
      "Training Results - Epoch: 74  Avg accuracy: 0.89 Avg loss: 0.29\n",
      "Training Results - Epoch: 75  Avg accuracy: 0.89 Avg loss: 0.31\n",
      "Training Results - Epoch: 76  Avg accuracy: 0.90 Avg loss: 0.28\n",
      "Training Results - Epoch: 77  Avg accuracy: 0.91 Avg loss: 0.28\n",
      "Training Results - Epoch: 78  Avg accuracy: 0.91 Avg loss: 0.26\n",
      "Training Results - Epoch: 79  Avg accuracy: 0.90 Avg loss: 0.29\n",
      "Training Results - Epoch: 80  Avg accuracy: 0.91 Avg loss: 0.27\n",
      "Training Results - Epoch: 81  Avg accuracy: 0.91 Avg loss: 0.29\n",
      "Training Results - Epoch: 82  Avg accuracy: 0.91 Avg loss: 0.27\n",
      "Training Results - Epoch: 83  Avg accuracy: 0.89 Avg loss: 0.29\n",
      "Training Results - Epoch: 84  Avg accuracy: 0.91 Avg loss: 0.27\n",
      "Training Results - Epoch: 85  Avg accuracy: 0.91 Avg loss: 0.27\n",
      "Training Results - Epoch: 86  Avg accuracy: 0.91 Avg loss: 0.27\n",
      "Training Results - Epoch: 87  Avg accuracy: 0.85 Avg loss: 0.34\n",
      "Training Results - Epoch: 88  Avg accuracy: 0.91 Avg loss: 0.27\n",
      "Training Results - Epoch: 89  Avg accuracy: 0.90 Avg loss: 0.28\n",
      "Training Results - Epoch: 90  Avg accuracy: 0.92 Avg loss: 0.27\n",
      "Training Results - Epoch: 91  Avg accuracy: 0.90 Avg loss: 0.27\n",
      "Training Results - Epoch: 92  Avg accuracy: 0.91 Avg loss: 0.27\n",
      "Training Results - Epoch: 93  Avg accuracy: 0.89 Avg loss: 0.28\n",
      "Training Results - Epoch: 94  Avg accuracy: 0.91 Avg loss: 0.27\n",
      "Training Results - Epoch: 95  Avg accuracy: 0.89 Avg loss: 0.29\n",
      "Training Results - Epoch: 96  Avg accuracy: 0.90 Avg loss: 0.30\n",
      "Training Results - Epoch: 97  Avg accuracy: 0.89 Avg loss: 0.31\n",
      "Training Results - Epoch: 98  Avg accuracy: 0.91 Avg loss: 0.28\n",
      "Training Results - Epoch: 99  Avg accuracy: 0.91 Avg loss: 0.26\n",
      "Training Results - Epoch: 100  Avg accuracy: 0.92 Avg loss: 0.26\n"
     ]
    },
    {
     "data": {
      "text/plain": [
       "State:\n",
       "\titeration: 11200\n",
       "\tepoch: 100\n",
       "\tepoch_length: 112\n",
       "\tmax_epochs: 100\n",
       "\toutput: 0.3560422956943512\n",
       "\tbatch: <class 'list'>\n",
       "\tmetrics: <class 'dict'>\n",
       "\tdataloader: <class 'torch.utils.data.dataloader.DataLoader'>\n",
       "\tseed: <class 'NoneType'>\n",
       "\ttimes: <class 'dict'>"
      ]
     },
     "execution_count": 10,
     "metadata": {},
     "output_type": "execute_result"
    }
   ],
   "source": [
    "trainer.run(traindata, max_epochs=100)"
   ]
  },
  {
   "cell_type": "code",
   "execution_count": 13,
   "id": "ebd0a978",
   "metadata": {
    "scrolled": true
   },
   "outputs": [
    {
     "name": "stdout",
     "output_type": "stream",
     "text": [
      "Training Results - Epoch: 1  Avg accuracy: 0.91 Avg loss: 0.24\n",
      "Training Results - Epoch: 2  Avg accuracy: 0.91 Avg loss: 0.24\n",
      "Training Results - Epoch: 3  Avg accuracy: 0.89 Avg loss: 0.26\n",
      "Training Results - Epoch: 4  Avg accuracy: 0.87 Avg loss: 0.29\n",
      "Training Results - Epoch: 5  Avg accuracy: 0.92 Avg loss: 0.23\n",
      "Training Results - Epoch: 6  Avg accuracy: 0.91 Avg loss: 0.25\n",
      "Training Results - Epoch: 7  Avg accuracy: 0.91 Avg loss: 0.24\n",
      "Training Results - Epoch: 8  Avg accuracy: 0.87 Avg loss: 0.29\n",
      "Training Results - Epoch: 9  Avg accuracy: 0.91 Avg loss: 0.23\n",
      "Training Results - Epoch: 10  Avg accuracy: 0.91 Avg loss: 0.23\n",
      "Training Results - Epoch: 11  Avg accuracy: 0.92 Avg loss: 0.24\n",
      "Training Results - Epoch: 12  Avg accuracy: 0.91 Avg loss: 0.24\n",
      "Training Results - Epoch: 13  Avg accuracy: 0.90 Avg loss: 0.26\n",
      "Training Results - Epoch: 14  Avg accuracy: 0.91 Avg loss: 0.24\n",
      "Training Results - Epoch: 15  Avg accuracy: 0.87 Avg loss: 0.30\n",
      "Training Results - Epoch: 16  Avg accuracy: 0.92 Avg loss: 0.24\n",
      "Training Results - Epoch: 17  Avg accuracy: 0.92 Avg loss: 0.23\n",
      "Training Results - Epoch: 18  Avg accuracy: 0.92 Avg loss: 0.23\n",
      "Training Results - Epoch: 19  Avg accuracy: 0.92 Avg loss: 0.23\n",
      "Training Results - Epoch: 20  Avg accuracy: 0.92 Avg loss: 0.23\n",
      "Training Results - Epoch: 21  Avg accuracy: 0.92 Avg loss: 0.25\n",
      "Training Results - Epoch: 22  Avg accuracy: 0.92 Avg loss: 0.23\n",
      "Training Results - Epoch: 23  Avg accuracy: 0.92 Avg loss: 0.23\n",
      "Training Results - Epoch: 24  Avg accuracy: 0.92 Avg loss: 0.24\n",
      "Training Results - Epoch: 25  Avg accuracy: 0.91 Avg loss: 0.25\n",
      "Training Results - Epoch: 26  Avg accuracy: 0.91 Avg loss: 0.24\n",
      "Training Results - Epoch: 27  Avg accuracy: 0.91 Avg loss: 0.24\n",
      "Training Results - Epoch: 28  Avg accuracy: 0.89 Avg loss: 0.29\n",
      "Training Results - Epoch: 29  Avg accuracy: 0.92 Avg loss: 0.25\n",
      "Training Results - Epoch: 30  Avg accuracy: 0.87 Avg loss: 0.33\n",
      "Training Results - Epoch: 31  Avg accuracy: 0.91 Avg loss: 0.24\n",
      "Training Results - Epoch: 32  Avg accuracy: 0.92 Avg loss: 0.23\n",
      "Training Results - Epoch: 33  Avg accuracy: 0.92 Avg loss: 0.24\n",
      "Training Results - Epoch: 34  Avg accuracy: 0.92 Avg loss: 0.23\n",
      "Training Results - Epoch: 35  Avg accuracy: 0.90 Avg loss: 0.25\n",
      "Training Results - Epoch: 36  Avg accuracy: 0.92 Avg loss: 0.23\n",
      "Training Results - Epoch: 37  Avg accuracy: 0.92 Avg loss: 0.24\n",
      "Training Results - Epoch: 38  Avg accuracy: 0.92 Avg loss: 0.23\n",
      "Training Results - Epoch: 39  Avg accuracy: 0.92 Avg loss: 0.23\n",
      "Training Results - Epoch: 40  Avg accuracy: 0.92 Avg loss: 0.24\n",
      "Training Results - Epoch: 41  Avg accuracy: 0.87 Avg loss: 0.32\n",
      "Training Results - Epoch: 42  Avg accuracy: 0.92 Avg loss: 0.24\n",
      "Training Results - Epoch: 43  Avg accuracy: 0.91 Avg loss: 0.23\n",
      "Training Results - Epoch: 44  Avg accuracy: 0.92 Avg loss: 0.23\n",
      "Training Results - Epoch: 45  Avg accuracy: 0.91 Avg loss: 0.23\n",
      "Training Results - Epoch: 46  Avg accuracy: 0.88 Avg loss: 0.29\n",
      "Training Results - Epoch: 47  Avg accuracy: 0.91 Avg loss: 0.24\n",
      "Training Results - Epoch: 48  Avg accuracy: 0.91 Avg loss: 0.23\n",
      "Training Results - Epoch: 49  Avg accuracy: 0.92 Avg loss: 0.23\n",
      "Training Results - Epoch: 50  Avg accuracy: 0.89 Avg loss: 0.28\n",
      "Training Results - Epoch: 51  Avg accuracy: 0.92 Avg loss: 0.23\n",
      "Training Results - Epoch: 52  Avg accuracy: 0.87 Avg loss: 0.32\n",
      "Training Results - Epoch: 53  Avg accuracy: 0.92 Avg loss: 0.24\n",
      "Training Results - Epoch: 54  Avg accuracy: 0.92 Avg loss: 0.23\n",
      "Training Results - Epoch: 55  Avg accuracy: 0.92 Avg loss: 0.23\n",
      "Training Results - Epoch: 56  Avg accuracy: 0.92 Avg loss: 0.23\n",
      "Training Results - Epoch: 57  Avg accuracy: 0.92 Avg loss: 0.23\n",
      "Training Results - Epoch: 58  Avg accuracy: 0.90 Avg loss: 0.27\n",
      "Training Results - Epoch: 59  Avg accuracy: 0.90 Avg loss: 0.26\n",
      "Training Results - Epoch: 60  Avg accuracy: 0.89 Avg loss: 0.25\n",
      "Training Results - Epoch: 61  Avg accuracy: 0.82 Avg loss: 0.61\n",
      "Training Results - Epoch: 62  Avg accuracy: 0.91 Avg loss: 0.27\n",
      "Training Results - Epoch: 63  Avg accuracy: 0.89 Avg loss: 0.28\n",
      "Training Results - Epoch: 64  Avg accuracy: 0.91 Avg loss: 0.24\n",
      "Training Results - Epoch: 65  Avg accuracy: 0.91 Avg loss: 0.23\n",
      "Training Results - Epoch: 66  Avg accuracy: 0.91 Avg loss: 0.24\n",
      "Training Results - Epoch: 67  Avg accuracy: 0.91 Avg loss: 0.24\n",
      "Training Results - Epoch: 68  Avg accuracy: 0.92 Avg loss: 0.23\n",
      "Training Results - Epoch: 69  Avg accuracy: 0.91 Avg loss: 0.24\n",
      "Training Results - Epoch: 70  Avg accuracy: 0.92 Avg loss: 0.23\n",
      "Training Results - Epoch: 71  Avg accuracy: 0.88 Avg loss: 0.29\n",
      "Training Results - Epoch: 72  Avg accuracy: 0.92 Avg loss: 0.24\n",
      "Training Results - Epoch: 73  Avg accuracy: 0.89 Avg loss: 0.26\n",
      "Training Results - Epoch: 74  Avg accuracy: 0.91 Avg loss: 0.24\n",
      "Training Results - Epoch: 75  Avg accuracy: 0.91 Avg loss: 0.24\n",
      "Training Results - Epoch: 76  Avg accuracy: 0.92 Avg loss: 0.23\n",
      "Training Results - Epoch: 77  Avg accuracy: 0.92 Avg loss: 0.23\n",
      "Training Results - Epoch: 78  Avg accuracy: 0.92 Avg loss: 0.23\n",
      "Training Results - Epoch: 79  Avg accuracy: 0.89 Avg loss: 0.28\n",
      "Training Results - Epoch: 80  Avg accuracy: 0.92 Avg loss: 0.23\n",
      "Training Results - Epoch: 81  Avg accuracy: 0.92 Avg loss: 0.22\n",
      "Training Results - Epoch: 82  Avg accuracy: 0.92 Avg loss: 0.23\n",
      "Training Results - Epoch: 83  Avg accuracy: 0.91 Avg loss: 0.27\n",
      "Training Results - Epoch: 84  Avg accuracy: 0.91 Avg loss: 0.25\n",
      "Training Results - Epoch: 85  Avg accuracy: 0.91 Avg loss: 0.26\n",
      "Training Results - Epoch: 86  Avg accuracy: 0.91 Avg loss: 0.25\n",
      "Training Results - Epoch: 87  Avg accuracy: 0.91 Avg loss: 0.25\n",
      "Training Results - Epoch: 88  Avg accuracy: 0.91 Avg loss: 0.24\n",
      "Training Results - Epoch: 89  Avg accuracy: 0.91 Avg loss: 0.24\n",
      "Training Results - Epoch: 90  Avg accuracy: 0.91 Avg loss: 0.25\n",
      "Training Results - Epoch: 91  Avg accuracy: 0.91 Avg loss: 0.24\n",
      "Training Results - Epoch: 92  Avg accuracy: 0.91 Avg loss: 0.25\n",
      "Training Results - Epoch: 93  Avg accuracy: 0.91 Avg loss: 0.25\n",
      "Training Results - Epoch: 94  Avg accuracy: 0.91 Avg loss: 0.26\n",
      "Training Results - Epoch: 95  Avg accuracy: 0.91 Avg loss: 0.25\n",
      "Training Results - Epoch: 96  Avg accuracy: 0.90 Avg loss: 0.25\n",
      "Training Results - Epoch: 97  Avg accuracy: 0.92 Avg loss: 0.24\n",
      "Training Results - Epoch: 98  Avg accuracy: 0.91 Avg loss: 0.25\n",
      "Training Results - Epoch: 99  Avg accuracy: 0.90 Avg loss: 0.26\n",
      "Training Results - Epoch: 100  Avg accuracy: 0.92 Avg loss: 0.24\n"
     ]
    },
    {
     "data": {
      "text/plain": [
       "State:\n",
       "\titeration: 11200\n",
       "\tepoch: 100\n",
       "\tepoch_length: 112\n",
       "\tmax_epochs: 100\n",
       "\toutput: 0.49707961082458496\n",
       "\tbatch: <class 'list'>\n",
       "\tmetrics: <class 'dict'>\n",
       "\tdataloader: <class 'torch.utils.data.dataloader.DataLoader'>\n",
       "\tseed: <class 'NoneType'>\n",
       "\ttimes: <class 'dict'>"
      ]
     },
     "execution_count": 13,
     "metadata": {},
     "output_type": "execute_result"
    }
   ],
   "source": [
    "trainer.run(traindata2, max_epochs=100)"
   ]
  },
  {
   "cell_type": "code",
   "execution_count": null,
   "id": "f995c441",
   "metadata": {},
   "outputs": [],
   "source": []
  }
 ],
 "metadata": {
  "kernelspec": {
   "display_name": "Python [conda env:base-data-science]",
   "language": "python",
   "name": "conda-env-base-data-science-py"
  },
  "language_info": {
   "codemirror_mode": {
    "name": "ipython",
    "version": 3
   },
   "file_extension": ".py",
   "mimetype": "text/x-python",
   "name": "python",
   "nbconvert_exporter": "python",
   "pygments_lexer": "ipython3",
   "version": "3.9.7"
  }
 },
 "nbformat": 4,
 "nbformat_minor": 5
}
