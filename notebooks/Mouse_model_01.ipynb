{
 "cells": [
  {
   "cell_type": "code",
   "execution_count": 2,
   "id": "70a18946",
   "metadata": {},
   "outputs": [
    {
     "data": {
      "text/plain": [
       "0         36\n",
       "1         36\n",
       "2          9\n",
       "3         40\n",
       "4         40\n",
       "          ..\n",
       "141064    36\n",
       "141065    41\n",
       "141066    41\n",
       "141067    36\n",
       "141068    36\n",
       "Name: numeric_class, Length: 141069, dtype: int64"
      ]
     },
     "execution_count": 2,
     "metadata": {},
     "output_type": "execute_result"
    }
   ],
   "source": [
    "import scanpy as sc\n",
    "import os\n",
    "import pandas as pd\n",
    "import numpy as np\n",
    "from sklearn.preprocessing import LabelEncoder \n",
    "import torch\n",
    "from sys import getsizeof\n",
    "\n",
    "import os, sys\n",
    "sys.path.append('../src')\n",
    "from models.lib.data import *\n",
    "labelfile = '../data/mouse/Adult Inhibitory Neurons in Mouse_labels.tsv'\n",
    "\n",
    "label_df = pd.read_csv(labelfile, sep='\\t')\n",
    "labels = label_df.loc[:, 'numeric_class']\n",
    "labels"
   ]
  },
  {
   "cell_type": "code",
   "execution_count": 3,
   "id": "c00475cd",
   "metadata": {},
   "outputs": [
    {
     "name": "stderr",
     "output_type": "stream",
     "text": [
      "Variable names are not unique. To make them unique, call `.var_names_make_unique`.\n"
     ]
    }
   ],
   "source": [
    "mouse_atlas = sc.read_h5ad('../data/mouse/MouseAdultInhibitoryNeurons.h5ad')\n",
    "mo_data = sc.read_h5ad('../data/mouse/Mo_PV_paper_TDTomato_mouseonly.h5ad')"
   ]
  },
  {
   "cell_type": "code",
   "execution_count": 4,
   "id": "d2d9e69c",
   "metadata": {},
   "outputs": [],
   "source": [
    "trainsplit, valsplit = train_test_split(labels, stratify=labels)"
   ]
  },
  {
   "cell_type": "code",
   "execution_count": 5,
   "id": "bbafa135",
   "metadata": {},
   "outputs": [
    {
     "data": {
      "text/plain": [
       "(45020     34\n",
       " 86509     27\n",
       " 91585     26\n",
       " 115080    42\n",
       " 20776      0\n",
       "           ..\n",
       " 39831     43\n",
       " 101474    24\n",
       " 134026    20\n",
       " 88176     44\n",
       " 39507     43\n",
       " Name: numeric_class, Length: 105801, dtype: int64,\n",
       " 114477     2\n",
       " 49996     20\n",
       " 54321     15\n",
       " 121414    24\n",
       " 30482      7\n",
       "           ..\n",
       " 22782      0\n",
       " 115924    45\n",
       " 81482     27\n",
       " 54441      5\n",
       " 65732      9\n",
       " Name: numeric_class, Length: 35268, dtype: int64)"
      ]
     },
     "execution_count": 5,
     "metadata": {},
     "output_type": "execute_result"
    }
   ],
   "source": [
    "trainsplit, valsplit"
   ]
  },
  {
   "cell_type": "code",
   "execution_count": 10,
   "id": "9d77a1d7",
   "metadata": {},
   "outputs": [
    {
     "data": {
      "text/html": [
       "<div>\n",
       "<style scoped>\n",
       "    .dataframe tbody tr th:only-of-type {\n",
       "        vertical-align: middle;\n",
       "    }\n",
       "\n",
       "    .dataframe tbody tr th {\n",
       "        vertical-align: top;\n",
       "    }\n",
       "\n",
       "    .dataframe thead th {\n",
       "        text-align: right;\n",
       "    }\n",
       "</style>\n",
       "<table border=\"1\" class=\"dataframe\">\n",
       "  <thead>\n",
       "    <tr style=\"text-align: right;\">\n",
       "      <th></th>\n",
       "      <th>cellId</th>\n",
       "      <th>dataset_name</th>\n",
       "      <th>batch_name</th>\n",
       "      <th>timepoint</th>\n",
       "      <th>region</th>\n",
       "      <th>class</th>\n",
       "      <th>hires_leiden</th>\n",
       "      <th>leiden</th>\n",
       "      <th>Expressed Genes</th>\n",
       "      <th>latent_cell_probability</th>\n",
       "      <th>latent_time</th>\n",
       "      <th>UMI Count</th>\n",
       "      <th>cell</th>\n",
       "      <th>numeric_class</th>\n",
       "    </tr>\n",
       "  </thead>\n",
       "  <tbody>\n",
       "    <tr>\n",
       "      <th>31</th>\n",
       "      <td>GCAATCGAGCTGAT_p25-27_Amygdala_SAMN08730984</td>\n",
       "      <td>SRP135960_linnarson_adultmouse</td>\n",
       "      <td>p25-27_Amygdala_SAMN08730984</td>\n",
       "      <td>46.0</td>\n",
       "      <td>amygdala</td>\n",
       "      <td>Amy/Hypo_HAP1/PEG10</td>\n",
       "      <td>26</td>\n",
       "      <td>26</td>\n",
       "      <td>995</td>\n",
       "      <td>0.999715</td>\n",
       "      <td>0.401222</td>\n",
       "      <td>1848.0</td>\n",
       "      <td>31</td>\n",
       "      <td>0</td>\n",
       "    </tr>\n",
       "    <tr>\n",
       "      <th>36</th>\n",
       "      <td>TCAGCGCTGTCATG_p25-27_Amygdala_SAMN08730984</td>\n",
       "      <td>SRP135960_linnarson_adultmouse</td>\n",
       "      <td>p25-27_Amygdala_SAMN08730984</td>\n",
       "      <td>46.0</td>\n",
       "      <td>amygdala</td>\n",
       "      <td>Glia</td>\n",
       "      <td>51</td>\n",
       "      <td>51</td>\n",
       "      <td>985</td>\n",
       "      <td>0.999758</td>\n",
       "      <td>0.314352</td>\n",
       "      <td>1734.0</td>\n",
       "      <td>36</td>\n",
       "      <td>18</td>\n",
       "    </tr>\n",
       "    <tr>\n",
       "      <th>38</th>\n",
       "      <td>TGAACCGATGACCA_p25-27_Amygdala_SAMN08730984</td>\n",
       "      <td>SRP135960_linnarson_adultmouse</td>\n",
       "      <td>p25-27_Amygdala_SAMN08730984</td>\n",
       "      <td>46.0</td>\n",
       "      <td>amygdala</td>\n",
       "      <td>Amy/Hypo_HAP1/PEG10</td>\n",
       "      <td>6</td>\n",
       "      <td>6</td>\n",
       "      <td>902</td>\n",
       "      <td>0.999747</td>\n",
       "      <td>0.370432</td>\n",
       "      <td>1500.0</td>\n",
       "      <td>38</td>\n",
       "      <td>0</td>\n",
       "    </tr>\n",
       "    <tr>\n",
       "      <th>2</th>\n",
       "      <td>GACCAAACTGCCTC_p25-27_Amygdala_SAMN08730984</td>\n",
       "      <td>SRP135960_linnarson_adultmouse</td>\n",
       "      <td>p25-27_Amygdala_SAMN08730984</td>\n",
       "      <td>46.0</td>\n",
       "      <td>amygdala</td>\n",
       "      <td>Ctx_LHX6/SST</td>\n",
       "      <td>67</td>\n",
       "      <td>67</td>\n",
       "      <td>2288</td>\n",
       "      <td>0.999920</td>\n",
       "      <td>0.532447</td>\n",
       "      <td>5297.0</td>\n",
       "      <td>2</td>\n",
       "      <td>9</td>\n",
       "    </tr>\n",
       "    <tr>\n",
       "      <th>27</th>\n",
       "      <td>ATATAGTGACCCAA_p25-27_Amygdala_SAMN08730984</td>\n",
       "      <td>SRP135960_linnarson_adultmouse</td>\n",
       "      <td>p25-27_Amygdala_SAMN08730984</td>\n",
       "      <td>46.0</td>\n",
       "      <td>amygdala</td>\n",
       "      <td>Ctx_PVALB/VIPR2</td>\n",
       "      <td>114</td>\n",
       "      <td>114</td>\n",
       "      <td>974</td>\n",
       "      <td>0.999835</td>\n",
       "      <td>0.426167</td>\n",
       "      <td>1766.0</td>\n",
       "      <td>27</td>\n",
       "      <td>13</td>\n",
       "    </tr>\n",
       "    <tr>\n",
       "      <th>...</th>\n",
       "      <td>...</td>\n",
       "      <td>...</td>\n",
       "      <td>...</td>\n",
       "      <td>...</td>\n",
       "      <td>...</td>\n",
       "      <td>...</td>\n",
       "      <td>...</td>\n",
       "      <td>...</td>\n",
       "      <td>...</td>\n",
       "      <td>...</td>\n",
       "      <td>...</td>\n",
       "      <td>...</td>\n",
       "      <td>...</td>\n",
       "      <td>...</td>\n",
       "    </tr>\n",
       "    <tr>\n",
       "      <th>1</th>\n",
       "      <td>GAAACCCAATCTCG_p25-27_Amygdala_SAMN08730984</td>\n",
       "      <td>SRP135960_linnarson_adultmouse</td>\n",
       "      <td>p25-27_Amygdala_SAMN08730984</td>\n",
       "      <td>46.0</td>\n",
       "      <td>amygdala</td>\n",
       "      <td>S-phase_MCM4/H43C</td>\n",
       "      <td>82</td>\n",
       "      <td>82</td>\n",
       "      <td>2897</td>\n",
       "      <td>0.999931</td>\n",
       "      <td>0.302482</td>\n",
       "      <td>5239.0</td>\n",
       "      <td>1</td>\n",
       "      <td>36</td>\n",
       "    </tr>\n",
       "    <tr>\n",
       "      <th>27</th>\n",
       "      <td>ATATAGTGACCCAA_p25-27_Amygdala_SAMN08730984</td>\n",
       "      <td>SRP135960_linnarson_adultmouse</td>\n",
       "      <td>p25-27_Amygdala_SAMN08730984</td>\n",
       "      <td>46.0</td>\n",
       "      <td>amygdala</td>\n",
       "      <td>Ctx_PVALB/VIPR2</td>\n",
       "      <td>114</td>\n",
       "      <td>114</td>\n",
       "      <td>974</td>\n",
       "      <td>0.999835</td>\n",
       "      <td>0.426167</td>\n",
       "      <td>1766.0</td>\n",
       "      <td>27</td>\n",
       "      <td>13</td>\n",
       "    </tr>\n",
       "    <tr>\n",
       "      <th>19</th>\n",
       "      <td>CACTATACAACGGG_p25-27_Amygdala_SAMN08730984</td>\n",
       "      <td>SRP135960_linnarson_adultmouse</td>\n",
       "      <td>p25-27_Amygdala_SAMN08730984</td>\n",
       "      <td>46.0</td>\n",
       "      <td>amygdala</td>\n",
       "      <td>Amy/Hypo_HAP1/PEG10</td>\n",
       "      <td>3</td>\n",
       "      <td>3</td>\n",
       "      <td>1235</td>\n",
       "      <td>0.999793</td>\n",
       "      <td>0.394735</td>\n",
       "      <td>2297.0</td>\n",
       "      <td>19</td>\n",
       "      <td>0</td>\n",
       "    </tr>\n",
       "    <tr>\n",
       "      <th>1</th>\n",
       "      <td>GAAACCCAATCTCG_p25-27_Amygdala_SAMN08730984</td>\n",
       "      <td>SRP135960_linnarson_adultmouse</td>\n",
       "      <td>p25-27_Amygdala_SAMN08730984</td>\n",
       "      <td>46.0</td>\n",
       "      <td>amygdala</td>\n",
       "      <td>S-phase_MCM4/H43C</td>\n",
       "      <td>82</td>\n",
       "      <td>82</td>\n",
       "      <td>2897</td>\n",
       "      <td>0.999931</td>\n",
       "      <td>0.302482</td>\n",
       "      <td>5239.0</td>\n",
       "      <td>1</td>\n",
       "      <td>36</td>\n",
       "    </tr>\n",
       "    <tr>\n",
       "      <th>0</th>\n",
       "      <td>AAAAAAAAAAAAAA_p25-27_Amygdala_SAMN08730984</td>\n",
       "      <td>SRP135960_linnarson_adultmouse</td>\n",
       "      <td>p25-27_Amygdala_SAMN08730984</td>\n",
       "      <td>46.0</td>\n",
       "      <td>amygdala</td>\n",
       "      <td>S-phase_MCM4/H43C</td>\n",
       "      <td>82</td>\n",
       "      <td>82</td>\n",
       "      <td>2716</td>\n",
       "      <td>0.999956</td>\n",
       "      <td>0.343544</td>\n",
       "      <td>8149.0</td>\n",
       "      <td>0</td>\n",
       "      <td>36</td>\n",
       "    </tr>\n",
       "  </tbody>\n",
       "</table>\n",
       "<p>105801 rows × 14 columns</p>\n",
       "</div>"
      ],
      "text/plain": [
       "                                         cellId  \\\n",
       "31  GCAATCGAGCTGAT_p25-27_Amygdala_SAMN08730984   \n",
       "36  TCAGCGCTGTCATG_p25-27_Amygdala_SAMN08730984   \n",
       "38  TGAACCGATGACCA_p25-27_Amygdala_SAMN08730984   \n",
       "2   GACCAAACTGCCTC_p25-27_Amygdala_SAMN08730984   \n",
       "27  ATATAGTGACCCAA_p25-27_Amygdala_SAMN08730984   \n",
       "..                                          ...   \n",
       "1   GAAACCCAATCTCG_p25-27_Amygdala_SAMN08730984   \n",
       "27  ATATAGTGACCCAA_p25-27_Amygdala_SAMN08730984   \n",
       "19  CACTATACAACGGG_p25-27_Amygdala_SAMN08730984   \n",
       "1   GAAACCCAATCTCG_p25-27_Amygdala_SAMN08730984   \n",
       "0   AAAAAAAAAAAAAA_p25-27_Amygdala_SAMN08730984   \n",
       "\n",
       "                      dataset_name                    batch_name  timepoint  \\\n",
       "31  SRP135960_linnarson_adultmouse  p25-27_Amygdala_SAMN08730984       46.0   \n",
       "36  SRP135960_linnarson_adultmouse  p25-27_Amygdala_SAMN08730984       46.0   \n",
       "38  SRP135960_linnarson_adultmouse  p25-27_Amygdala_SAMN08730984       46.0   \n",
       "2   SRP135960_linnarson_adultmouse  p25-27_Amygdala_SAMN08730984       46.0   \n",
       "27  SRP135960_linnarson_adultmouse  p25-27_Amygdala_SAMN08730984       46.0   \n",
       "..                             ...                           ...        ...   \n",
       "1   SRP135960_linnarson_adultmouse  p25-27_Amygdala_SAMN08730984       46.0   \n",
       "27  SRP135960_linnarson_adultmouse  p25-27_Amygdala_SAMN08730984       46.0   \n",
       "19  SRP135960_linnarson_adultmouse  p25-27_Amygdala_SAMN08730984       46.0   \n",
       "1   SRP135960_linnarson_adultmouse  p25-27_Amygdala_SAMN08730984       46.0   \n",
       "0   SRP135960_linnarson_adultmouse  p25-27_Amygdala_SAMN08730984       46.0   \n",
       "\n",
       "      region                class  hires_leiden  leiden  Expressed Genes  \\\n",
       "31  amygdala  Amy/Hypo_HAP1/PEG10            26      26              995   \n",
       "36  amygdala                 Glia            51      51              985   \n",
       "38  amygdala  Amy/Hypo_HAP1/PEG10             6       6              902   \n",
       "2   amygdala         Ctx_LHX6/SST            67      67             2288   \n",
       "27  amygdala      Ctx_PVALB/VIPR2           114     114              974   \n",
       "..       ...                  ...           ...     ...              ...   \n",
       "1   amygdala    S-phase_MCM4/H43C            82      82             2897   \n",
       "27  amygdala      Ctx_PVALB/VIPR2           114     114              974   \n",
       "19  amygdala  Amy/Hypo_HAP1/PEG10             3       3             1235   \n",
       "1   amygdala    S-phase_MCM4/H43C            82      82             2897   \n",
       "0   amygdala    S-phase_MCM4/H43C            82      82             2716   \n",
       "\n",
       "    latent_cell_probability  latent_time  UMI Count  cell  numeric_class  \n",
       "31                 0.999715     0.401222     1848.0    31              0  \n",
       "36                 0.999758     0.314352     1734.0    36             18  \n",
       "38                 0.999747     0.370432     1500.0    38              0  \n",
       "2                  0.999920     0.532447     5297.0     2              9  \n",
       "27                 0.999835     0.426167     1766.0    27             13  \n",
       "..                      ...          ...        ...   ...            ...  \n",
       "1                  0.999931     0.302482     5239.0     1             36  \n",
       "27                 0.999835     0.426167     1766.0    27             13  \n",
       "19                 0.999793     0.394735     2297.0    19              0  \n",
       "1                  0.999931     0.302482     5239.0     1             36  \n",
       "0                  0.999956     0.343544     8149.0     0             36  \n",
       "\n",
       "[105801 rows x 14 columns]"
      ]
     },
     "execution_count": 10,
     "metadata": {},
     "output_type": "execute_result"
    }
   ],
   "source": [
    "label_df.loc[trainsplit, :]"
   ]
  },
  {
   "cell_type": "code",
   "execution_count": 22,
   "id": "ae7fac0e",
   "metadata": {},
   "outputs": [],
   "source": [
    "genes = [x.upper() for x in mouse_atlas.var['name-0-10'].values]\n",
    "mogenes = [x.upper() for x in mo_data.var.index]\n",
    "refgenes = sorted(list(set(mogenes).intersection(genes)))"
   ]
  },
  {
   "cell_type": "code",
   "execution_count": 11,
   "id": "1e535c84",
   "metadata": {},
   "outputs": [
    {
     "data": {
      "text/plain": [
       "(array([[-0.04272555, -0.00983691, -0.51307064, ..., -0.01356186,\n",
       "         -0.01273745, -0.00330662],\n",
       "        [-0.04272555, -0.00983691, -0.51307064, ..., -0.01356186,\n",
       "         -0.01273745, -0.00330662],\n",
       "        [-0.04272555, -0.00983691, -0.51307064, ..., -0.01356186,\n",
       "         -0.01273745, -0.00330662],\n",
       "        ...,\n",
       "        [-0.04272555, -0.00983691, -0.51307064, ..., -0.01356186,\n",
       "         -0.01273745, -0.00330662],\n",
       "        [-0.04272555, -0.00983691, -0.51307064, ..., -0.01356186,\n",
       "         -0.01273745, -0.00330662],\n",
       "        [-0.04272555, -0.00983691, -0.51307064, ..., -0.01356186,\n",
       "         -0.01273745, -0.00330662]], dtype=float32),\n",
       " 91709      2\n",
       " 137740    27\n",
       " 84323     23\n",
       " 133109    36\n",
       " 79166     27\n",
       "           ..\n",
       " 2039       9\n",
       " 43008     36\n",
       " 69201      9\n",
       " 41816     36\n",
       " 92441     41\n",
       " Name: numeric_class, Length: 105801, dtype: int64)"
      ]
     },
     "execution_count": 11,
     "metadata": {},
     "output_type": "execute_result"
    }
   ],
   "source": [
    "from sklearn.model_selection import train_test_split\n",
    "\n",
    "X_train, X_test, y_train, y_test = train_test_split(mouse_atlas.X, labels, stratify=labels)\n",
    "X_train, y_train"
   ]
  },
  {
   "cell_type": "code",
   "execution_count": null,
   "id": "99500eb6",
   "metadata": {},
   "outputs": [],
   "source": [
    "X_train, X_test, y_train, y_test = train_test_split(mouse_atlas.X, labels.values, stratify=labels.values)\n",
    "\n",
    "X_train, y_train"
   ]
  },
  {
   "cell_type": "code",
   "execution_count": 10,
   "id": "85523788",
   "metadata": {},
   "outputs": [],
   "source": [
    "atlas_train = NumpyStream(\n",
    "    matrix=X_train,\n",
    "    labels=y_train,\n",
    "    sep='\\t',\n",
    "    columns=list(mouse_atlas.var.index),\n",
    ")"
   ]
  },
  {
   "cell_type": "code",
   "execution_count": 11,
   "id": "91d69e43",
   "metadata": {},
   "outputs": [],
   "source": [
    "atlas_val = NumpyStream(\n",
    "    matrix = X_test,\n",
    "    labels = y_test,\n",
    "    sep='\\t',\n",
    "    columns=list(mouse_atlas.var.index),\n",
    "    class_label='ingore'\n",
    ")"
   ]
  },
  {
   "cell_type": "code",
   "execution_count": 12,
   "id": "0ef94c25",
   "metadata": {},
   "outputs": [
    {
     "data": {
      "text/plain": [
       "35268"
      ]
     },
     "execution_count": 12,
     "metadata": {},
     "output_type": "execute_result"
    }
   ],
   "source": [
    "len(atlas_val)"
   ]
  },
  {
   "cell_type": "code",
   "execution_count": 13,
   "id": "5a126b1a",
   "metadata": {},
   "outputs": [],
   "source": [
    "train = DataLoader(atlas_train, batch_size=4, num_workers=0, drop_last=True, shuffle=True)\n",
    "val = DataLoader(atlas_val, batch_size=4, num_workers=0, drop_last=True, shuffle=False)"
   ]
  },
  {
   "cell_type": "code",
   "execution_count": null,
   "id": "09338062",
   "metadata": {
    "scrolled": true
   },
   "outputs": [
    {
     "name": "stderr",
     "output_type": "stream",
     "text": [
      "GPU available: False, used: False\n",
      "TPU available: False, using: 0 TPU cores\n",
      "IPU available: False, using: 0 IPUs\n"
     ]
    },
    {
     "name": "stdout",
     "output_type": "stream",
     "text": [
      "Model initialized. input_dim = 34430, output_dim = 50. Metrics are dict_keys(['accuracy', 'precision', 'recall']) and weighted_metrics = False\n"
     ]
    },
    {
     "name": "stderr",
     "output_type": "stream",
     "text": [
      "\u001b[34m\u001b[1mwandb\u001b[0m: Currently logged in as: \u001b[33mjlehrer1\u001b[0m (use `wandb login --relogin` to force relogin)\n"
     ]
    },
    {
     "data": {
      "text/html": [
       "wandb version 0.12.14 is available!  To upgrade, please run:\n",
       " $ pip install wandb --upgrade"
      ],
      "text/plain": [
       "<IPython.core.display.HTML object>"
      ]
     },
     "metadata": {},
     "output_type": "display_data"
    },
    {
     "data": {
      "text/html": [
       "Tracking run with wandb version 0.12.11"
      ],
      "text/plain": [
       "<IPython.core.display.HTML object>"
      ]
     },
     "metadata": {},
     "output_type": "display_data"
    },
    {
     "data": {
      "text/html": [
       "Run data is saved locally in <code>/Users/julian/Documents/Projects/organoid-classification/wandb/run-20220414_094639-ci6zpxzp</code>"
      ],
      "text/plain": [
       "<IPython.core.display.HTML object>"
      ]
     },
     "metadata": {},
     "output_type": "display_data"
    },
    {
     "data": {
      "text/html": [
       "Syncing run <strong><a href=\"https://wandb.ai/jlehrer1/Mouse%20Classifier/runs/ci6zpxzp\" target=\"_blank\">Tabnet with Metrics</a></strong> to <a href=\"https://wandb.ai/jlehrer1/Mouse%20Classifier\" target=\"_blank\">Weights & Biases</a> (<a href=\"https://wandb.me/run\" target=\"_blank\">docs</a>)<br/>"
      ],
      "text/plain": [
       "<IPython.core.display.HTML object>"
      ]
     },
     "metadata": {},
     "output_type": "display_data"
    },
    {
     "name": "stderr",
     "output_type": "stream",
     "text": [
      "\n",
      "  | Name       | Type                 | Params\n",
      "----------------------------------------------------\n",
      "0 | base_model | TabNetGeneClassifier | 2.3 M \n",
      "----------------------------------------------------\n",
      "2.3 M     Trainable params\n",
      "0         Non-trainable params\n",
      "2.3 M     Total params\n",
      "9.114     Total estimated model params size (MB)\n"
     ]
    },
    {
     "data": {
      "application/vnd.jupyter.widget-view+json": {
       "model_id": "",
       "version_major": 2,
       "version_minor": 0
      },
      "text/plain": [
       "Validation sanity check: 0it [00:00, ?it/s]"
      ]
     },
     "metadata": {},
     "output_type": "display_data"
    },
    {
     "name": "stderr",
     "output_type": "stream",
     "text": [
      "/Users/julian/miniconda3/envs/base-data-science/lib/python3.9/site-packages/pytorch_lightning/trainer/data_loading.py:453: UserWarning: Your `val_dataloader` has `shuffle=True`,it is strongly recommended that you turn this off for val/test/predict dataloaders.\n",
      "  rank_zero_warn(\n",
      "/Users/julian/miniconda3/envs/base-data-science/lib/python3.9/site-packages/pytorch_lightning/trainer/data_loading.py:111: UserWarning: The dataloader, val_dataloader 0, does not have many workers which may be a bottleneck. Consider increasing the value of the `num_workers` argument` (try 10 which is the number of cpus on this machine) in the `DataLoader` init to improve performance.\n",
      "  rank_zero_warn(\n",
      "/Users/julian/miniconda3/envs/base-data-science/lib/python3.9/site-packages/pytorch_lightning/trainer/data_loading.py:111: UserWarning: The dataloader, train_dataloader, does not have many workers which may be a bottleneck. Consider increasing the value of the `num_workers` argument` (try 10 which is the number of cpus on this machine) in the `DataLoader` init to improve performance.\n",
      "  rank_zero_warn(\n"
     ]
    },
    {
     "data": {
      "application/vnd.jupyter.widget-view+json": {
       "model_id": "6b66a77ba38f4e7590014ccea0f8904d",
       "version_major": 2,
       "version_minor": 0
      },
      "text/plain": [
       "Training: 0it [00:00, ?it/s]"
      ]
     },
     "metadata": {},
     "output_type": "display_data"
    },
    {
     "data": {
      "application/vnd.jupyter.widget-view+json": {
       "model_id": "",
       "version_major": 2,
       "version_minor": 0
      },
      "text/plain": [
       "Validating: 0it [00:00, ?it/s]"
      ]
     },
     "metadata": {},
     "output_type": "display_data"
    },
    {
     "data": {
      "application/vnd.jupyter.widget-view+json": {
       "model_id": "",
       "version_major": 2,
       "version_minor": 0
      },
      "text/plain": [
       "Validating: 0it [00:00, ?it/s]"
      ]
     },
     "metadata": {},
     "output_type": "display_data"
    },
    {
     "name": "stderr",
     "output_type": "stream",
     "text": [
      "wandb: Network error (ConnectionError), entering retry loop.\n",
      "wandb: Network error (ConnectionError), entering retry loop.\n",
      "wandb: Network error (ConnectionError), entering retry loop.\n"
     ]
    },
    {
     "data": {
      "application/vnd.jupyter.widget-view+json": {
       "model_id": "",
       "version_major": 2,
       "version_minor": 0
      },
      "text/plain": [
       "Validating: 0it [00:00, ?it/s]"
      ]
     },
     "metadata": {},
     "output_type": "display_data"
    },
    {
     "name": "stderr",
     "output_type": "stream",
     "text": [
      "wandb: Network error (ConnectionError), entering retry loop.\n"
     ]
    },
    {
     "data": {
      "application/vnd.jupyter.widget-view+json": {
       "model_id": "",
       "version_major": 2,
       "version_minor": 0
      },
      "text/plain": [
       "Validating: 0it [00:00, ?it/s]"
      ]
     },
     "metadata": {},
     "output_type": "display_data"
    },
    {
     "name": "stderr",
     "output_type": "stream",
     "text": [
      "wandb: Network error (ReadTimeout), entering retry loop.\n",
      "wandb: ERROR Error while calling W&B API: Error 1040: Too many connections (<Response [500]>)\n"
     ]
    },
    {
     "data": {
      "application/vnd.jupyter.widget-view+json": {
       "model_id": "",
       "version_major": 2,
       "version_minor": 0
      },
      "text/plain": [
       "Validating: 0it [00:00, ?it/s]"
      ]
     },
     "metadata": {},
     "output_type": "display_data"
    },
    {
     "data": {
      "application/vnd.jupyter.widget-view+json": {
       "model_id": "",
       "version_major": 2,
       "version_minor": 0
      },
      "text/plain": [
       "Validating: 0it [00:00, ?it/s]"
      ]
     },
     "metadata": {},
     "output_type": "display_data"
    },
    {
     "data": {
      "application/vnd.jupyter.widget-view+json": {
       "model_id": "",
       "version_major": 2,
       "version_minor": 0
      },
      "text/plain": [
       "Validating: 0it [00:00, ?it/s]"
      ]
     },
     "metadata": {},
     "output_type": "display_data"
    },
    {
     "data": {
      "application/vnd.jupyter.widget-view+json": {
       "model_id": "",
       "version_major": 2,
       "version_minor": 0
      },
      "text/plain": [
       "Validating: 0it [00:00, ?it/s]"
      ]
     },
     "metadata": {},
     "output_type": "display_data"
    },
    {
     "data": {
      "application/vnd.jupyter.widget-view+json": {
       "model_id": "",
       "version_major": 2,
       "version_minor": 0
      },
      "text/plain": [
       "Validating: 0it [00:00, ?it/s]"
      ]
     },
     "metadata": {},
     "output_type": "display_data"
    },
    {
     "data": {
      "application/vnd.jupyter.widget-view+json": {
       "model_id": "",
       "version_major": 2,
       "version_minor": 0
      },
      "text/plain": [
       "Validating: 0it [00:00, ?it/s]"
      ]
     },
     "metadata": {},
     "output_type": "display_data"
    },
    {
     "data": {
      "application/vnd.jupyter.widget-view+json": {
       "model_id": "",
       "version_major": 2,
       "version_minor": 0
      },
      "text/plain": [
       "Validating: 0it [00:00, ?it/s]"
      ]
     },
     "metadata": {},
     "output_type": "display_data"
    },
    {
     "data": {
      "application/vnd.jupyter.widget-view+json": {
       "model_id": "",
       "version_major": 2,
       "version_minor": 0
      },
      "text/plain": [
       "Validating: 0it [00:00, ?it/s]"
      ]
     },
     "metadata": {},
     "output_type": "display_data"
    },
    {
     "data": {
      "application/vnd.jupyter.widget-view+json": {
       "model_id": "",
       "version_major": 2,
       "version_minor": 0
      },
      "text/plain": [
       "Validating: 0it [00:00, ?it/s]"
      ]
     },
     "metadata": {},
     "output_type": "display_data"
    },
    {
     "name": "stderr",
     "output_type": "stream",
     "text": [
      "wandb: Network error (ReadTimeout), entering retry loop.\n"
     ]
    },
    {
     "data": {
      "application/vnd.jupyter.widget-view+json": {
       "model_id": "",
       "version_major": 2,
       "version_minor": 0
      },
      "text/plain": [
       "Validating: 0it [00:00, ?it/s]"
      ]
     },
     "metadata": {},
     "output_type": "display_data"
    },
    {
     "data": {
      "application/vnd.jupyter.widget-view+json": {
       "model_id": "",
       "version_major": 2,
       "version_minor": 0
      },
      "text/plain": [
       "Validating: 0it [00:00, ?it/s]"
      ]
     },
     "metadata": {},
     "output_type": "display_data"
    },
    {
     "data": {
      "application/vnd.jupyter.widget-view+json": {
       "model_id": "",
       "version_major": 2,
       "version_minor": 0
      },
      "text/plain": [
       "Validating: 0it [00:00, ?it/s]"
      ]
     },
     "metadata": {},
     "output_type": "display_data"
    },
    {
     "data": {
      "application/vnd.jupyter.widget-view+json": {
       "model_id": "",
       "version_major": 2,
       "version_minor": 0
      },
      "text/plain": [
       "Validating: 0it [00:00, ?it/s]"
      ]
     },
     "metadata": {},
     "output_type": "display_data"
    },
    {
     "data": {
      "application/vnd.jupyter.widget-view+json": {
       "model_id": "",
       "version_major": 2,
       "version_minor": 0
      },
      "text/plain": [
       "Validating: 0it [00:00, ?it/s]"
      ]
     },
     "metadata": {},
     "output_type": "display_data"
    },
    {
     "data": {
      "application/vnd.jupyter.widget-view+json": {
       "model_id": "",
       "version_major": 2,
       "version_minor": 0
      },
      "text/plain": [
       "Validating: 0it [00:00, ?it/s]"
      ]
     },
     "metadata": {},
     "output_type": "display_data"
    },
    {
     "data": {
      "application/vnd.jupyter.widget-view+json": {
       "model_id": "",
       "version_major": 2,
       "version_minor": 0
      },
      "text/plain": [
       "Validating: 0it [00:00, ?it/s]"
      ]
     },
     "metadata": {},
     "output_type": "display_data"
    },
    {
     "data": {
      "application/vnd.jupyter.widget-view+json": {
       "model_id": "",
       "version_major": 2,
       "version_minor": 0
      },
      "text/plain": [
       "Validating: 0it [00:00, ?it/s]"
      ]
     },
     "metadata": {},
     "output_type": "display_data"
    },
    {
     "data": {
      "application/vnd.jupyter.widget-view+json": {
       "model_id": "",
       "version_major": 2,
       "version_minor": 0
      },
      "text/plain": [
       "Validating: 0it [00:00, ?it/s]"
      ]
     },
     "metadata": {},
     "output_type": "display_data"
    },
    {
     "data": {
      "application/vnd.jupyter.widget-view+json": {
       "model_id": "",
       "version_major": 2,
       "version_minor": 0
      },
      "text/plain": [
       "Validating: 0it [00:00, ?it/s]"
      ]
     },
     "metadata": {},
     "output_type": "display_data"
    },
    {
     "data": {
      "application/vnd.jupyter.widget-view+json": {
       "model_id": "",
       "version_major": 2,
       "version_minor": 0
      },
      "text/plain": [
       "Validating: 0it [00:00, ?it/s]"
      ]
     },
     "metadata": {},
     "output_type": "display_data"
    },
    {
     "name": "stderr",
     "output_type": "stream",
     "text": [
      "wandb: Network error (ConnectionError), entering retry loop.\n"
     ]
    },
    {
     "data": {
      "application/vnd.jupyter.widget-view+json": {
       "model_id": "",
       "version_major": 2,
       "version_minor": 0
      },
      "text/plain": [
       "Validating: 0it [00:00, ?it/s]"
      ]
     },
     "metadata": {},
     "output_type": "display_data"
    },
    {
     "data": {
      "application/vnd.jupyter.widget-view+json": {
       "model_id": "",
       "version_major": 2,
       "version_minor": 0
      },
      "text/plain": [
       "Validating: 0it [00:00, ?it/s]"
      ]
     },
     "metadata": {},
     "output_type": "display_data"
    },
    {
     "data": {
      "application/vnd.jupyter.widget-view+json": {
       "model_id": "7738db4e7eca4e8099ec828bd990e001",
       "version_major": 2,
       "version_minor": 0
      },
      "text/plain": [
       "Validating: 0it [00:00, ?it/s]"
      ]
     },
     "metadata": {},
     "output_type": "display_data"
    }
   ],
   "source": [
    "from src.models.lib.neural import GeneClassifier\n",
    "from pytorch_lightning import Trainer \n",
    "from pytorch_lightning.loggers import WandbLogger\n",
    "\n",
    "model = GeneClassifier(\n",
    "    input_dim=34430, \n",
    "    output_dim=50,\n",
    "    optim_params={\n",
    "        'optimizer': torch.optim.Adam,\n",
    "        'lr': 3e-4,\n",
    "    }\n",
    ")\n",
    "\n",
    "wandb_logger = WandbLogger(project='Mouse Classifier', name='Tabnet with Metrics')\n",
    "trainer = Trainer(logger=wandb_logger)\n",
    "\n",
    "trainer.fit(model, train, val)"
   ]
  },
  {
   "cell_type": "code",
   "execution_count": null,
   "id": "50b87ee6",
   "metadata": {},
   "outputs": [],
   "source": [
    "def gene_intersection(\n",
    "    files\n",
    "):\n",
    "    import dask.dataframe as dd \n",
    "    \n",
    "    cols = []\n",
    "    for file in files:\n",
    "        temp = pd.read_csv(fpath, nrows=1, header=1).columns \n",
    "        temp = [x.split('|')[0].upper().strip() for x in temp]\n",
    "        cols.append(set(temp))\n",
    "    \n",
    "    unique = list(set.intersection(*cols))\n",
    "    unique = sorted(unique)\n",
    "    \n",
    "    return unique "
   ]
  },
  {
   "cell_type": "code",
   "execution_count": null,
   "id": "3f557950",
   "metadata": {},
   "outputs": [],
   "source": []
  },
  {
   "cell_type": "code",
   "execution_count": null,
   "id": "826dffbe",
   "metadata": {},
   "outputs": [],
   "source": []
  },
  {
   "cell_type": "code",
   "execution_count": null,
   "id": "a4223147",
   "metadata": {},
   "outputs": [],
   "source": []
  },
  {
   "cell_type": "code",
   "execution_count": 17,
   "id": "c9955330",
   "metadata": {},
   "outputs": [],
   "source": [
    "import torch\n",
    "from sklearn.model_selection import train_test_split \n",
    "import pandas as pd \n",
    "import pathlib \n",
    "import warnings \n",
    "\n",
    "def generate_single_dataset(\n",
    "    datafile: str,\n",
    "    labelfile: str,\n",
    "    class_label: str,\n",
    "    test_prop=0.2,\n",
    "    sep=',',\n",
    "    *args,\n",
    "    **kwargs,\n",
    "):\n",
    "    current_labels = pd.read_csv(labelfile, sep=sep).loc[:, class_label]\n",
    "    \n",
    "    suffix = pathlib.Path(datafile).suffix\n",
    "    print(f'{suffix = }')\n",
    "    if suffix == '.h5ad':\n",
    "        data = sc.read_h5ad(datafile)\n",
    "        X_train, X_test, y_train, y_test = train_test_split(data, current_labels.values, stratify=current_labels.values, test_size=test_prop)\n",
    "\n",
    "        X_train, X_val, y_train, y_val = train_test_split(X_train, y_train, stratify=y_train, test_size=test_prop) # 0.25 x 0.8 = 0.2\\\n",
    "        \n",
    "        train, val, test = (\n",
    "            NumpyStream(\n",
    "                matrix=matrix,\n",
    "                labels=labels,\n",
    "                class_label=class_label,\n",
    "                *args,\n",
    "                **kwargs,\n",
    "            )\n",
    "            for matrix, labels in zip([X_train, X_val, X_test], [y_train, y_val, y_test])\n",
    "        )\n",
    "        \n",
    "    else:\n",
    "        if suffix != '.csv' or suffix != '.tsv':\n",
    "            warnings.warn(f'Extension {suffix} not recognized, \\\n",
    "                interpreting as .csv. To silence this warning, pass in explicit file types.')\n",
    "    \n",
    "        # Make stratified split on labels\n",
    "        trainsplit, valsplit = train_test_split(current_labels, stratify=current_labels, test_size=test_prop)\n",
    "        trainsplit, testsplit = train_test_split(trainsplit, stratify=trainsplit, test_size=test_prop)\n",
    "\n",
    "        train, val, test = (\n",
    "            GeneExpressionData(\n",
    "                filename=datafile,\n",
    "                labelname=labelfile,\n",
    "                class_label=class_label,\n",
    "                indices=indices,\n",
    "                *args,\n",
    "                **kwargs,\n",
    "            )\n",
    "            for indices in [trainsplit, valsplit, testsplit]  \n",
    "        )\n",
    "\n",
    "    return train, val, test \n"
   ]
  },
  {
   "cell_type": "code",
   "execution_count": null,
   "id": "0ad13bd0",
   "metadata": {
    "scrolled": false
   },
   "outputs": [
    {
     "name": "stdout",
     "output_type": "stream",
     "text": [
      "suffix = '.h5ad'\n"
     ]
    }
   ],
   "source": [
    "generate_single_dataset(\n",
    "    datafile='../data/mouse/MouseAdultInhibitoryNeurons.h5ad',\n",
    "    labelfile='../data/mouse/Adult Inhibitory Neurons in Mouse_labels.tsv',\n",
    "    class_label='numeric_class',\n",
    "    sep='\\t'\n",
    ")"
   ]
  },
  {
   "cell_type": "code",
   "execution_count": null,
   "id": "b3e37c1e",
   "metadata": {},
   "outputs": [],
   "source": []
  }
 ],
 "metadata": {
  "kernelspec": {
   "display_name": "Python [conda env:base-data-science] *",
   "language": "python",
   "name": "conda-env-base-data-science-py"
  },
  "language_info": {
   "codemirror_mode": {
    "name": "ipython",
    "version": 3
   },
   "file_extension": ".py",
   "mimetype": "text/x-python",
   "name": "python",
   "nbconvert_exporter": "python",
   "pygments_lexer": "ipython3",
   "version": "3.9.7"
  }
 },
 "nbformat": 4,
 "nbformat_minor": 5
}
