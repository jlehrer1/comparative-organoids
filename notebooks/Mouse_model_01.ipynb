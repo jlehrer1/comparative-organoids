{
 "cells": [
  {
   "cell_type": "code",
   "execution_count": 1,
   "id": "70a18946",
   "metadata": {},
   "outputs": [],
   "source": [
    "import scanpy as sc\n",
    "import anndata as an\n",
    "import os\n",
    "import pandas as pd\n",
    "import numpy as np\n",
    "from sklearn.preprocessing import LabelEncoder \n",
    "import torch\n",
    "from sys import getsizeof\n",
    "import json \n",
    "\n",
    "import os, sys\n",
    "sys.path.append('../src')\n",
    "from models.lib.data import *\n",
    "from models.lib.lightning_train import DataModule, generate_trainer\n",
    "datafiles=['../data/mouse/MouseAdultInhibitoryNeurons.h5ad']\n",
    "labelfiles=['../data/mouse/Adult Inhibitory Neurons in Mouse_labels.tsv']"
   ]
  },
  {
   "cell_type": "code",
   "execution_count": 2,
   "id": "699329e2",
   "metadata": {},
   "outputs": [],
   "source": [
    "mouse_atlas = sc.read_h5ad('../data/mouse/MouseAdultInhibitoryNeurons.h5ad')"
   ]
  },
  {
   "cell_type": "code",
   "execution_count": 13,
   "id": "d4c55476",
   "metadata": {},
   "outputs": [
    {
     "data": {
      "text/html": [
       "<div>\n",
       "<style scoped>\n",
       "    .dataframe tbody tr th:only-of-type {\n",
       "        vertical-align: middle;\n",
       "    }\n",
       "\n",
       "    .dataframe tbody tr th {\n",
       "        vertical-align: top;\n",
       "    }\n",
       "\n",
       "    .dataframe thead th {\n",
       "        text-align: right;\n",
       "    }\n",
       "</style>\n",
       "<table border=\"1\" class=\"dataframe\">\n",
       "  <thead>\n",
       "    <tr style=\"text-align: right;\">\n",
       "      <th></th>\n",
       "      <th>class</th>\n",
       "      <th>numeric_class</th>\n",
       "    </tr>\n",
       "  </thead>\n",
       "  <tbody>\n",
       "    <tr>\n",
       "      <th>AAAAAAAAAAAAAA_p25-27_Amygdala_SAMN08730984</th>\n",
       "      <td>S-phase_MCM4/H43C</td>\n",
       "      <td>36</td>\n",
       "    </tr>\n",
       "    <tr>\n",
       "      <th>GAAACCCAATCTCG_p25-27_Amygdala_SAMN08730984</th>\n",
       "      <td>S-phase_MCM4/H43C</td>\n",
       "      <td>36</td>\n",
       "    </tr>\n",
       "    <tr>\n",
       "      <th>GACCAAACTGCCTC_p25-27_Amygdala_SAMN08730984</th>\n",
       "      <td>Ctx_LHX6/SST</td>\n",
       "      <td>9</td>\n",
       "    </tr>\n",
       "    <tr>\n",
       "      <th>GCGTAATGGACGGA_p25-27_Amygdala_SAMN08730984</th>\n",
       "      <td>Str_LHX8/CHAT</td>\n",
       "      <td>40</td>\n",
       "    </tr>\n",
       "    <tr>\n",
       "      <th>CTTGAGGACAGAAA_p25-27_Amygdala_SAMN08730984</th>\n",
       "      <td>Str_LHX8/CHAT</td>\n",
       "      <td>40</td>\n",
       "    </tr>\n",
       "    <tr>\n",
       "      <th>...</th>\n",
       "      <td>...</td>\n",
       "      <td>...</td>\n",
       "    </tr>\n",
       "    <tr>\n",
       "      <th>ACTACGGACAGAAA_e12.0_ForebrainVentral_SRR11947650_e12.0_ForebrainVentral_SRR11947650</th>\n",
       "      <td>S-phase_MCM4/H43C</td>\n",
       "      <td>36</td>\n",
       "    </tr>\n",
       "    <tr>\n",
       "      <th>GGGACCTGGCGAAG_e12.0_ForebrainVentral_SRR11947650_e12.0_ForebrainVentral_SRR11947650</th>\n",
       "      <td>Transition</td>\n",
       "      <td>41</td>\n",
       "    </tr>\n",
       "    <tr>\n",
       "      <th>CAACAGACTGGTTG_e12.0_ForebrainVentral_SRR11947650_e12.0_ForebrainVentral_SRR11947650</th>\n",
       "      <td>Transition</td>\n",
       "      <td>41</td>\n",
       "    </tr>\n",
       "    <tr>\n",
       "      <th>AAAGATCTCTTCCG_e12.0_ForebrainVentral_SRR11947650_e12.0_ForebrainVentral_SRR11947650</th>\n",
       "      <td>S-phase_MCM4/H43C</td>\n",
       "      <td>36</td>\n",
       "    </tr>\n",
       "    <tr>\n",
       "      <th>ATGTTAGACACAAC_e12.0_ForebrainVentral_SRR11947650_e12.0_ForebrainVentral_SRR11947650</th>\n",
       "      <td>S-phase_MCM4/H43C</td>\n",
       "      <td>36</td>\n",
       "    </tr>\n",
       "  </tbody>\n",
       "</table>\n",
       "<p>141069 rows × 2 columns</p>\n",
       "</div>"
      ],
      "text/plain": [
       "                                                                class  \\\n",
       "AAAAAAAAAAAAAA_p25-27_Amygdala_SAMN08730984         S-phase_MCM4/H43C   \n",
       "GAAACCCAATCTCG_p25-27_Amygdala_SAMN08730984         S-phase_MCM4/H43C   \n",
       "GACCAAACTGCCTC_p25-27_Amygdala_SAMN08730984              Ctx_LHX6/SST   \n",
       "GCGTAATGGACGGA_p25-27_Amygdala_SAMN08730984             Str_LHX8/CHAT   \n",
       "CTTGAGGACAGAAA_p25-27_Amygdala_SAMN08730984             Str_LHX8/CHAT   \n",
       "...                                                               ...   \n",
       "ACTACGGACAGAAA_e12.0_ForebrainVentral_SRR119476...  S-phase_MCM4/H43C   \n",
       "GGGACCTGGCGAAG_e12.0_ForebrainVentral_SRR119476...         Transition   \n",
       "CAACAGACTGGTTG_e12.0_ForebrainVentral_SRR119476...         Transition   \n",
       "AAAGATCTCTTCCG_e12.0_ForebrainVentral_SRR119476...  S-phase_MCM4/H43C   \n",
       "ATGTTAGACACAAC_e12.0_ForebrainVentral_SRR119476...  S-phase_MCM4/H43C   \n",
       "\n",
       "                                                    numeric_class  \n",
       "AAAAAAAAAAAAAA_p25-27_Amygdala_SAMN08730984                    36  \n",
       "GAAACCCAATCTCG_p25-27_Amygdala_SAMN08730984                    36  \n",
       "GACCAAACTGCCTC_p25-27_Amygdala_SAMN08730984                     9  \n",
       "GCGTAATGGACGGA_p25-27_Amygdala_SAMN08730984                    40  \n",
       "CTTGAGGACAGAAA_p25-27_Amygdala_SAMN08730984                    40  \n",
       "...                                                           ...  \n",
       "ACTACGGACAGAAA_e12.0_ForebrainVentral_SRR119476...             36  \n",
       "GGGACCTGGCGAAG_e12.0_ForebrainVentral_SRR119476...             41  \n",
       "CAACAGACTGGTTG_e12.0_ForebrainVentral_SRR119476...             41  \n",
       "AAAGATCTCTTCCG_e12.0_ForebrainVentral_SRR119476...             36  \n",
       "ATGTTAGACACAAC_e12.0_ForebrainVentral_SRR119476...             36  \n",
       "\n",
       "[141069 rows x 2 columns]"
      ]
     },
     "execution_count": 13,
     "metadata": {},
     "output_type": "execute_result"
    }
   ],
   "source": [
    "atlas_labels = pd.DataFrame(mouse_atlas.obs['class'])\n",
    "le = LabelEncoder()\n",
    "atlas_labels['numeric_class'] = le.fit_transform(atlas_labels['class'])\n",
    "atlas_labels"
   ]
  },
  {
   "cell_type": "code",
   "execution_count": 15,
   "id": "6de1fb2f",
   "metadata": {},
   "outputs": [
    {
     "data": {
      "text/html": [
       "<div>\n",
       "<style scoped>\n",
       "    .dataframe tbody tr th:only-of-type {\n",
       "        vertical-align: middle;\n",
       "    }\n",
       "\n",
       "    .dataframe tbody tr th {\n",
       "        vertical-align: top;\n",
       "    }\n",
       "\n",
       "    .dataframe thead th {\n",
       "        text-align: right;\n",
       "    }\n",
       "</style>\n",
       "<table border=\"1\" class=\"dataframe\">\n",
       "  <thead>\n",
       "    <tr style=\"text-align: right;\">\n",
       "      <th></th>\n",
       "      <th>class</th>\n",
       "      <th>numeric_class</th>\n",
       "    </tr>\n",
       "  </thead>\n",
       "  <tbody>\n",
       "    <tr>\n",
       "      <th>0</th>\n",
       "      <td>S-phase_MCM4/H43C</td>\n",
       "      <td>36</td>\n",
       "    </tr>\n",
       "    <tr>\n",
       "      <th>1</th>\n",
       "      <td>S-phase_MCM4/H43C</td>\n",
       "      <td>36</td>\n",
       "    </tr>\n",
       "    <tr>\n",
       "      <th>2</th>\n",
       "      <td>Ctx_LHX6/SST</td>\n",
       "      <td>9</td>\n",
       "    </tr>\n",
       "    <tr>\n",
       "      <th>3</th>\n",
       "      <td>Str_LHX8/CHAT</td>\n",
       "      <td>40</td>\n",
       "    </tr>\n",
       "    <tr>\n",
       "      <th>4</th>\n",
       "      <td>Str_LHX8/CHAT</td>\n",
       "      <td>40</td>\n",
       "    </tr>\n",
       "    <tr>\n",
       "      <th>...</th>\n",
       "      <td>...</td>\n",
       "      <td>...</td>\n",
       "    </tr>\n",
       "    <tr>\n",
       "      <th>141064</th>\n",
       "      <td>S-phase_MCM4/H43C</td>\n",
       "      <td>36</td>\n",
       "    </tr>\n",
       "    <tr>\n",
       "      <th>141065</th>\n",
       "      <td>Transition</td>\n",
       "      <td>41</td>\n",
       "    </tr>\n",
       "    <tr>\n",
       "      <th>141066</th>\n",
       "      <td>Transition</td>\n",
       "      <td>41</td>\n",
       "    </tr>\n",
       "    <tr>\n",
       "      <th>141067</th>\n",
       "      <td>S-phase_MCM4/H43C</td>\n",
       "      <td>36</td>\n",
       "    </tr>\n",
       "    <tr>\n",
       "      <th>141068</th>\n",
       "      <td>S-phase_MCM4/H43C</td>\n",
       "      <td>36</td>\n",
       "    </tr>\n",
       "  </tbody>\n",
       "</table>\n",
       "<p>141069 rows × 2 columns</p>\n",
       "</div>"
      ],
      "text/plain": [
       "                    class  numeric_class\n",
       "0       S-phase_MCM4/H43C             36\n",
       "1       S-phase_MCM4/H43C             36\n",
       "2            Ctx_LHX6/SST              9\n",
       "3           Str_LHX8/CHAT             40\n",
       "4           Str_LHX8/CHAT             40\n",
       "...                   ...            ...\n",
       "141064  S-phase_MCM4/H43C             36\n",
       "141065         Transition             41\n",
       "141066         Transition             41\n",
       "141067  S-phase_MCM4/H43C             36\n",
       "141068  S-phase_MCM4/H43C             36\n",
       "\n",
       "[141069 rows x 2 columns]"
      ]
     },
     "execution_count": 15,
     "metadata": {},
     "output_type": "execute_result"
    }
   ],
   "source": [
    "atlas_labels.to_csv('../data/mouse/MouseAdultInhibitoryNeurons_labels.csv', index=False)\n",
    "\n",
    "pd.read_csv('../data/mouse/MouseAdultInhibitoryNeurons_labels.csv')"
   ]
  },
  {
   "cell_type": "code",
   "execution_count": 2,
   "id": "4d01955c",
   "metadata": {},
   "outputs": [],
   "source": [
    "if not os.path.isfile('mousegenes.txt'):\n",
    "    mouse_atlas = sc.read_h5ad('../data/mouse/MouseAdultInhibitoryNeurons.h5ad')\n",
    "    mo_data = an.read_h5ad('../data/mouse/Mo_PV_paper_TDTomato_mouseonly.h5ad')\n",
    "\n",
    "    g1 = mo_data.var.index.values \n",
    "    g2 = mouse_atlas.var.index.values\n",
    "\n",
    "    refgenes = sorted(list(set(g1).intersection(g2)))\n",
    "\n",
    "    with open('mousegenes.txt', 'w') as f:\n",
    "        for gene in refgenes:\n",
    "            f.write(gene + '\\n')\n",
    "else:\n",
    "    with open('mousegenes.txt', 'r') as f:\n",
    "        refgenes = f.read().splitlines()"
   ]
  },
  {
   "cell_type": "code",
   "execution_count": 3,
   "id": "98b36d71",
   "metadata": {},
   "outputs": [
    {
     "data": {
      "text/plain": [
       "25163"
      ]
     },
     "execution_count": 3,
     "metadata": {},
     "output_type": "execute_result"
    }
   ],
   "source": [
    "len(refgenes)"
   ]
  },
  {
   "cell_type": "markdown",
   "id": "e6af364a",
   "metadata": {},
   "source": [
    "# Mouse model training with generate_trainer test"
   ]
  },
  {
   "cell_type": "code",
   "execution_count": 4,
   "id": "f4cf6c26",
   "metadata": {},
   "outputs": [
    {
     "data": {
      "text/plain": [
       "['../data/mouse/MouseAdultInhibitoryNeurons.h5ad']"
      ]
     },
     "execution_count": 4,
     "metadata": {},
     "output_type": "execute_result"
    }
   ],
   "source": [
    "datafiles"
   ]
  },
  {
   "cell_type": "code",
   "execution_count": 5,
   "id": "ec7322d9",
   "metadata": {
    "scrolled": false
   },
   "outputs": [
    {
     "name": "stdout",
     "output_type": "stream",
     "text": [
      "Device is cpu\n",
      "../data/mouse/MouseAdultInhibitoryNeurons.h5ad exists, continuing...\n",
      "../data/mouse/Adult Inhibitory Neurons in Mouse_labels.tsv exists, continuing...\n",
      "\n"
     ]
    },
    {
     "name": "stderr",
     "output_type": "stream",
     "text": [
      "GPU available: False, used: False\n",
      "TPU available: False, using: 0 TPU cores\n",
      "IPU available: False, using: 0 IPUs\n"
     ]
    },
    {
     "name": "stdout",
     "output_type": "stream",
     "text": [
      "Model initialized. input_dim = 25163, output_dim = 50. Metrics are dict_keys(['accuracy', 'precision', 'recall']) and weighted_metrics = True\n",
      "Creating train/val/test DataLoaders...\n",
      "0     75\n",
      "9     73\n",
      "27    73\n",
      "5     65\n",
      "36    60\n",
      "8     46\n",
      "31    44\n",
      "38    37\n",
      "39    35\n",
      "16    34\n",
      "6     32\n",
      "20    29\n",
      "19    28\n",
      "11    28\n",
      "2     25\n",
      "12    24\n",
      "44    23\n",
      "17    22\n",
      "22    21\n",
      "43    20\n",
      "48    16\n",
      "4     16\n",
      "41    14\n",
      "42    14\n",
      "1     14\n",
      "18    11\n",
      "15    11\n",
      "14    11\n",
      "45    10\n",
      "3      9\n",
      "46     8\n",
      "34     8\n",
      "28     7\n",
      "24     7\n",
      "33     7\n",
      "35     7\n",
      "47     6\n",
      "29     6\n",
      "37     6\n",
      "7      4\n",
      "23     4\n",
      "13     3\n",
      "21     2\n",
      "26     2\n",
      "40     1\n",
      "25     1\n",
      "10     1\n",
      "Name: numeric_class, dtype: int64\n"
     ]
    },
    {
     "ename": "ValueError",
     "evalue": "The least populated class in y has only 1 member, which is too few. The minimum number of groups for any class cannot be less than 2.",
     "output_type": "error",
     "traceback": [
      "\u001b[0;31m---------------------------------------------------------------------------\u001b[0m",
      "\u001b[0;31mValueError\u001b[0m                                Traceback (most recent call last)",
      "\u001b[0;32m/var/folders/pd/jsjcl0fn7w57s5mfr34b20pm0000gn/T/ipykernel_36532/2080097893.py\u001b[0m in \u001b[0;36m<module>\u001b[0;34m\u001b[0m\n\u001b[1;32m     19\u001b[0m )\n\u001b[1;32m     20\u001b[0m \u001b[0;34m\u001b[0m\u001b[0m\n\u001b[0;32m---> 21\u001b[0;31m \u001b[0mtrainer\u001b[0m\u001b[0;34m.\u001b[0m\u001b[0mfit\u001b[0m\u001b[0;34m(\u001b[0m\u001b[0mmodel\u001b[0m\u001b[0;34m,\u001b[0m \u001b[0mdatamodule\u001b[0m\u001b[0;34m=\u001b[0m\u001b[0mmodule\u001b[0m\u001b[0;34m)\u001b[0m\u001b[0;34m\u001b[0m\u001b[0;34m\u001b[0m\u001b[0m\n\u001b[0m",
      "\u001b[0;32m~/miniconda3/envs/base-data-science/lib/python3.9/site-packages/pytorch_lightning/trainer/trainer.py\u001b[0m in \u001b[0;36mfit\u001b[0;34m(self, model, train_dataloaders, val_dataloaders, datamodule, train_dataloader, ckpt_path)\u001b[0m\n\u001b[1;32m    735\u001b[0m             )\n\u001b[1;32m    736\u001b[0m             \u001b[0mtrain_dataloaders\u001b[0m \u001b[0;34m=\u001b[0m \u001b[0mtrain_dataloader\u001b[0m\u001b[0;34m\u001b[0m\u001b[0;34m\u001b[0m\u001b[0m\n\u001b[0;32m--> 737\u001b[0;31m         self._call_and_handle_interrupt(\n\u001b[0m\u001b[1;32m    738\u001b[0m             \u001b[0mself\u001b[0m\u001b[0;34m.\u001b[0m\u001b[0m_fit_impl\u001b[0m\u001b[0;34m,\u001b[0m \u001b[0mmodel\u001b[0m\u001b[0;34m,\u001b[0m \u001b[0mtrain_dataloaders\u001b[0m\u001b[0;34m,\u001b[0m \u001b[0mval_dataloaders\u001b[0m\u001b[0;34m,\u001b[0m \u001b[0mdatamodule\u001b[0m\u001b[0;34m,\u001b[0m \u001b[0mckpt_path\u001b[0m\u001b[0;34m\u001b[0m\u001b[0;34m\u001b[0m\u001b[0m\n\u001b[1;32m    739\u001b[0m         )\n",
      "\u001b[0;32m~/miniconda3/envs/base-data-science/lib/python3.9/site-packages/pytorch_lightning/trainer/trainer.py\u001b[0m in \u001b[0;36m_call_and_handle_interrupt\u001b[0;34m(self, trainer_fn, *args, **kwargs)\u001b[0m\n\u001b[1;32m    680\u001b[0m         \"\"\"\n\u001b[1;32m    681\u001b[0m         \u001b[0;32mtry\u001b[0m\u001b[0;34m:\u001b[0m\u001b[0;34m\u001b[0m\u001b[0;34m\u001b[0m\u001b[0m\n\u001b[0;32m--> 682\u001b[0;31m             \u001b[0;32mreturn\u001b[0m \u001b[0mtrainer_fn\u001b[0m\u001b[0;34m(\u001b[0m\u001b[0;34m*\u001b[0m\u001b[0margs\u001b[0m\u001b[0;34m,\u001b[0m \u001b[0;34m**\u001b[0m\u001b[0mkwargs\u001b[0m\u001b[0;34m)\u001b[0m\u001b[0;34m\u001b[0m\u001b[0;34m\u001b[0m\u001b[0m\n\u001b[0m\u001b[1;32m    683\u001b[0m         \u001b[0;31m# TODO: treat KeyboardInterrupt as BaseException (delete the code below) in v1.7\u001b[0m\u001b[0;34m\u001b[0m\u001b[0;34m\u001b[0m\u001b[0m\n\u001b[1;32m    684\u001b[0m         \u001b[0;32mexcept\u001b[0m \u001b[0mKeyboardInterrupt\u001b[0m \u001b[0;32mas\u001b[0m \u001b[0mexception\u001b[0m\u001b[0;34m:\u001b[0m\u001b[0;34m\u001b[0m\u001b[0;34m\u001b[0m\u001b[0m\n",
      "\u001b[0;32m~/miniconda3/envs/base-data-science/lib/python3.9/site-packages/pytorch_lightning/trainer/trainer.py\u001b[0m in \u001b[0;36m_fit_impl\u001b[0;34m(self, model, train_dataloaders, val_dataloaders, datamodule, ckpt_path)\u001b[0m\n\u001b[1;32m    770\u001b[0m         \u001b[0;31m# TODO: ckpt_path only in v1.7\u001b[0m\u001b[0;34m\u001b[0m\u001b[0;34m\u001b[0m\u001b[0m\n\u001b[1;32m    771\u001b[0m         \u001b[0mckpt_path\u001b[0m \u001b[0;34m=\u001b[0m \u001b[0mckpt_path\u001b[0m \u001b[0;32mor\u001b[0m \u001b[0mself\u001b[0m\u001b[0;34m.\u001b[0m\u001b[0mresume_from_checkpoint\u001b[0m\u001b[0;34m\u001b[0m\u001b[0;34m\u001b[0m\u001b[0m\n\u001b[0;32m--> 772\u001b[0;31m         \u001b[0mself\u001b[0m\u001b[0;34m.\u001b[0m\u001b[0m_run\u001b[0m\u001b[0;34m(\u001b[0m\u001b[0mmodel\u001b[0m\u001b[0;34m,\u001b[0m \u001b[0mckpt_path\u001b[0m\u001b[0;34m=\u001b[0m\u001b[0mckpt_path\u001b[0m\u001b[0;34m)\u001b[0m\u001b[0;34m\u001b[0m\u001b[0;34m\u001b[0m\u001b[0m\n\u001b[0m\u001b[1;32m    773\u001b[0m \u001b[0;34m\u001b[0m\u001b[0m\n\u001b[1;32m    774\u001b[0m         \u001b[0;32massert\u001b[0m \u001b[0mself\u001b[0m\u001b[0;34m.\u001b[0m\u001b[0mstate\u001b[0m\u001b[0;34m.\u001b[0m\u001b[0mstopped\u001b[0m\u001b[0;34m\u001b[0m\u001b[0;34m\u001b[0m\u001b[0m\n",
      "\u001b[0;32m~/miniconda3/envs/base-data-science/lib/python3.9/site-packages/pytorch_lightning/trainer/trainer.py\u001b[0m in \u001b[0;36m_run\u001b[0;34m(self, model, ckpt_path)\u001b[0m\n\u001b[1;32m   1132\u001b[0m         \u001b[0mself\u001b[0m\u001b[0;34m.\u001b[0m\u001b[0mcall_hook\u001b[0m\u001b[0;34m(\u001b[0m\u001b[0;34m\"on_before_accelerator_backend_setup\"\u001b[0m\u001b[0;34m)\u001b[0m\u001b[0;34m\u001b[0m\u001b[0;34m\u001b[0m\u001b[0m\n\u001b[1;32m   1133\u001b[0m         \u001b[0mself\u001b[0m\u001b[0;34m.\u001b[0m\u001b[0maccelerator\u001b[0m\u001b[0;34m.\u001b[0m\u001b[0msetup_environment\u001b[0m\u001b[0;34m(\u001b[0m\u001b[0;34m)\u001b[0m\u001b[0;34m\u001b[0m\u001b[0;34m\u001b[0m\u001b[0m\n\u001b[0;32m-> 1134\u001b[0;31m         \u001b[0mself\u001b[0m\u001b[0;34m.\u001b[0m\u001b[0m_call_setup_hook\u001b[0m\u001b[0;34m(\u001b[0m\u001b[0;34m)\u001b[0m  \u001b[0;31m# allow user to setup lightning_module in accelerator environment\u001b[0m\u001b[0;34m\u001b[0m\u001b[0;34m\u001b[0m\u001b[0m\n\u001b[0m\u001b[1;32m   1135\u001b[0m \u001b[0;34m\u001b[0m\u001b[0m\n\u001b[1;32m   1136\u001b[0m         \u001b[0;31m# check if we should delay restoring checkpoint till later\u001b[0m\u001b[0;34m\u001b[0m\u001b[0;34m\u001b[0m\u001b[0m\n",
      "\u001b[0;32m~/miniconda3/envs/base-data-science/lib/python3.9/site-packages/pytorch_lightning/trainer/trainer.py\u001b[0m in \u001b[0;36m_call_setup_hook\u001b[0;34m(self)\u001b[0m\n\u001b[1;32m   1431\u001b[0m \u001b[0;34m\u001b[0m\u001b[0m\n\u001b[1;32m   1432\u001b[0m         \u001b[0;32mif\u001b[0m \u001b[0mself\u001b[0m\u001b[0;34m.\u001b[0m\u001b[0mdatamodule\u001b[0m \u001b[0;32mis\u001b[0m \u001b[0;32mnot\u001b[0m \u001b[0;32mNone\u001b[0m\u001b[0;34m:\u001b[0m\u001b[0;34m\u001b[0m\u001b[0;34m\u001b[0m\u001b[0m\n\u001b[0;32m-> 1433\u001b[0;31m             \u001b[0mself\u001b[0m\u001b[0;34m.\u001b[0m\u001b[0mdatamodule\u001b[0m\u001b[0;34m.\u001b[0m\u001b[0msetup\u001b[0m\u001b[0;34m(\u001b[0m\u001b[0mstage\u001b[0m\u001b[0;34m=\u001b[0m\u001b[0mfn\u001b[0m\u001b[0;34m)\u001b[0m\u001b[0;34m\u001b[0m\u001b[0;34m\u001b[0m\u001b[0m\n\u001b[0m\u001b[1;32m   1434\u001b[0m         \u001b[0mself\u001b[0m\u001b[0;34m.\u001b[0m\u001b[0mcall_hook\u001b[0m\u001b[0;34m(\u001b[0m\u001b[0;34m\"setup\"\u001b[0m\u001b[0;34m,\u001b[0m \u001b[0mstage\u001b[0m\u001b[0;34m=\u001b[0m\u001b[0mfn\u001b[0m\u001b[0;34m)\u001b[0m\u001b[0;34m\u001b[0m\u001b[0;34m\u001b[0m\u001b[0m\n\u001b[1;32m   1435\u001b[0m \u001b[0;34m\u001b[0m\u001b[0m\n",
      "\u001b[0;32m~/miniconda3/envs/base-data-science/lib/python3.9/site-packages/pytorch_lightning/core/datamodule.py\u001b[0m in \u001b[0;36mwrapped_fn\u001b[0;34m(*args, **kwargs)\u001b[0m\n\u001b[1;32m    472\u001b[0m                 )\n\u001b[1;32m    473\u001b[0m             \u001b[0;32melse\u001b[0m\u001b[0;34m:\u001b[0m\u001b[0;34m\u001b[0m\u001b[0;34m\u001b[0m\u001b[0m\n\u001b[0;32m--> 474\u001b[0;31m                 \u001b[0mfn\u001b[0m\u001b[0;34m(\u001b[0m\u001b[0;34m*\u001b[0m\u001b[0margs\u001b[0m\u001b[0;34m,\u001b[0m \u001b[0;34m**\u001b[0m\u001b[0mkwargs\u001b[0m\u001b[0;34m)\u001b[0m\u001b[0;34m\u001b[0m\u001b[0;34m\u001b[0m\u001b[0m\n\u001b[0m\u001b[1;32m    475\u001b[0m \u001b[0;34m\u001b[0m\u001b[0m\n\u001b[1;32m    476\u001b[0m         \u001b[0;32mreturn\u001b[0m \u001b[0mwrapped_fn\u001b[0m\u001b[0;34m\u001b[0m\u001b[0;34m\u001b[0m\u001b[0m\n",
      "\u001b[0;32m~/Documents/Projects/organoid-classification/notebooks/../src/models/lib/lightning_train.py\u001b[0m in \u001b[0;36msetup\u001b[0;34m(self, stage)\u001b[0m\n\u001b[1;32m     46\u001b[0m     \u001b[0;32mdef\u001b[0m \u001b[0msetup\u001b[0m\u001b[0;34m(\u001b[0m\u001b[0mself\u001b[0m\u001b[0;34m,\u001b[0m \u001b[0mstage\u001b[0m\u001b[0;34m:\u001b[0m \u001b[0mOptional\u001b[0m\u001b[0;34m[\u001b[0m\u001b[0mstr\u001b[0m\u001b[0;34m]\u001b[0m \u001b[0;34m=\u001b[0m \u001b[0;32mNone\u001b[0m\u001b[0;34m)\u001b[0m\u001b[0;34m:\u001b[0m\u001b[0;34m\u001b[0m\u001b[0;34m\u001b[0m\u001b[0m\n\u001b[1;32m     47\u001b[0m         \u001b[0mprint\u001b[0m\u001b[0;34m(\u001b[0m\u001b[0;34m'Creating train/val/test DataLoaders...'\u001b[0m\u001b[0;34m)\u001b[0m\u001b[0;34m\u001b[0m\u001b[0;34m\u001b[0m\u001b[0m\n\u001b[0;32m---> 48\u001b[0;31m         trainloader, valloader, testloader = generate_dataloaders(\n\u001b[0m\u001b[1;32m     49\u001b[0m             \u001b[0mdatafiles\u001b[0m\u001b[0;34m=\u001b[0m\u001b[0mself\u001b[0m\u001b[0;34m.\u001b[0m\u001b[0mdatafiles\u001b[0m\u001b[0;34m,\u001b[0m\u001b[0;34m\u001b[0m\u001b[0;34m\u001b[0m\u001b[0m\n\u001b[1;32m     50\u001b[0m             \u001b[0mlabelfiles\u001b[0m\u001b[0;34m=\u001b[0m\u001b[0mself\u001b[0m\u001b[0;34m.\u001b[0m\u001b[0mlabelfiles\u001b[0m\u001b[0;34m,\u001b[0m\u001b[0;34m\u001b[0m\u001b[0;34m\u001b[0m\u001b[0m\n",
      "\u001b[0;32m~/Documents/Projects/organoid-classification/notebooks/../src/models/lib/data.py\u001b[0m in \u001b[0;36mgenerate_dataloaders\u001b[0;34m(datafiles, labelfiles, collocate, *args, **kwargs)\u001b[0m\n\u001b[1;32m    594\u001b[0m     \u001b[0mtrain\u001b[0m\u001b[0;34m,\u001b[0m \u001b[0mval\u001b[0m\u001b[0;34m,\u001b[0m \u001b[0mtest\u001b[0m \u001b[0;34m=\u001b[0m \u001b[0;34m[\u001b[0m\u001b[0;34m]\u001b[0m\u001b[0;34m,\u001b[0m \u001b[0;34m[\u001b[0m\u001b[0;34m]\u001b[0m\u001b[0;34m,\u001b[0m \u001b[0;34m[\u001b[0m\u001b[0;34m]\u001b[0m\u001b[0;34m\u001b[0m\u001b[0;34m\u001b[0m\u001b[0m\n\u001b[1;32m    595\u001b[0m     \u001b[0;32mfor\u001b[0m \u001b[0mdatafile\u001b[0m\u001b[0;34m,\u001b[0m \u001b[0mlabelfile\u001b[0m \u001b[0;32min\u001b[0m \u001b[0mzip\u001b[0m\u001b[0;34m(\u001b[0m\u001b[0mdatafiles\u001b[0m\u001b[0;34m,\u001b[0m \u001b[0mlabelfiles\u001b[0m\u001b[0;34m)\u001b[0m\u001b[0;34m:\u001b[0m\u001b[0;34m\u001b[0m\u001b[0;34m\u001b[0m\u001b[0m\n\u001b[0;32m--> 596\u001b[0;31m         trainloader, valloader, testloader = generate_single_dataloader(\n\u001b[0m\u001b[1;32m    597\u001b[0m             \u001b[0mdatafile\u001b[0m\u001b[0;34m=\u001b[0m\u001b[0mdatafile\u001b[0m\u001b[0;34m,\u001b[0m\u001b[0;34m\u001b[0m\u001b[0;34m\u001b[0m\u001b[0m\n\u001b[1;32m    598\u001b[0m             \u001b[0mlabelfile\u001b[0m\u001b[0;34m=\u001b[0m\u001b[0mlabelfile\u001b[0m\u001b[0;34m,\u001b[0m\u001b[0;34m\u001b[0m\u001b[0;34m\u001b[0m\u001b[0m\n",
      "\u001b[0;32m~/Documents/Projects/organoid-classification/notebooks/../src/models/lib/data.py\u001b[0m in \u001b[0;36mgenerate_single_dataloader\u001b[0;34m(*args, **kwargs)\u001b[0m\n\u001b[1;32m    546\u001b[0m     \"\"\"\n\u001b[1;32m    547\u001b[0m \u001b[0;34m\u001b[0m\u001b[0m\n\u001b[0;32m--> 548\u001b[0;31m     train, val, test = generate_single_dataset(\n\u001b[0m\u001b[1;32m    549\u001b[0m         \u001b[0;34m*\u001b[0m\u001b[0margs\u001b[0m\u001b[0;34m,\u001b[0m\u001b[0;34m\u001b[0m\u001b[0;34m\u001b[0m\u001b[0m\n\u001b[1;32m    550\u001b[0m         \u001b[0;34m**\u001b[0m\u001b[0mkwargs\u001b[0m\u001b[0;34m,\u001b[0m\u001b[0;34m\u001b[0m\u001b[0;34m\u001b[0m\u001b[0m\n",
      "\u001b[0;32m~/Documents/Projects/organoid-classification/notebooks/../src/models/lib/data.py\u001b[0m in \u001b[0;36mgenerate_single_dataset\u001b[0;34m(datafile, labelfile, class_label, test_prop, sep, subset, *args, **kwargs)\u001b[0m\n\u001b[1;32m    499\u001b[0m \u001b[0;34m\u001b[0m\u001b[0m\n\u001b[1;32m    500\u001b[0m     \u001b[0;31m# Make stratified split on labels\u001b[0m\u001b[0;34m\u001b[0m\u001b[0;34m\u001b[0m\u001b[0m\n\u001b[0;32m--> 501\u001b[0;31m     \u001b[0mtrainsplit\u001b[0m\u001b[0;34m,\u001b[0m \u001b[0mvalsplit\u001b[0m \u001b[0;34m=\u001b[0m \u001b[0mtrain_test_split\u001b[0m\u001b[0;34m(\u001b[0m\u001b[0mcurrent_labels\u001b[0m\u001b[0;34m,\u001b[0m \u001b[0mstratify\u001b[0m\u001b[0;34m=\u001b[0m\u001b[0mcurrent_labels\u001b[0m\u001b[0;34m,\u001b[0m \u001b[0mtest_size\u001b[0m\u001b[0;34m=\u001b[0m\u001b[0mtest_prop\u001b[0m\u001b[0;34m)\u001b[0m\u001b[0;34m\u001b[0m\u001b[0;34m\u001b[0m\u001b[0m\n\u001b[0m\u001b[1;32m    502\u001b[0m     \u001b[0mtrainsplit\u001b[0m\u001b[0;34m,\u001b[0m \u001b[0mtestsplit\u001b[0m \u001b[0;34m=\u001b[0m \u001b[0mtrain_test_split\u001b[0m\u001b[0;34m(\u001b[0m\u001b[0mtrainsplit\u001b[0m\u001b[0;34m,\u001b[0m \u001b[0mstratify\u001b[0m\u001b[0;34m=\u001b[0m\u001b[0mtrainsplit\u001b[0m\u001b[0;34m,\u001b[0m \u001b[0mtest_size\u001b[0m\u001b[0;34m=\u001b[0m\u001b[0mtest_prop\u001b[0m\u001b[0;34m)\u001b[0m\u001b[0;34m\u001b[0m\u001b[0;34m\u001b[0m\u001b[0m\n\u001b[1;32m    503\u001b[0m \u001b[0;34m\u001b[0m\u001b[0m\n",
      "\u001b[0;32m~/miniconda3/envs/base-data-science/lib/python3.9/site-packages/sklearn/model_selection/_split.py\u001b[0m in \u001b[0;36mtrain_test_split\u001b[0;34m(test_size, train_size, random_state, shuffle, stratify, *arrays)\u001b[0m\n\u001b[1;32m   2441\u001b[0m         \u001b[0mcv\u001b[0m \u001b[0;34m=\u001b[0m \u001b[0mCVClass\u001b[0m\u001b[0;34m(\u001b[0m\u001b[0mtest_size\u001b[0m\u001b[0;34m=\u001b[0m\u001b[0mn_test\u001b[0m\u001b[0;34m,\u001b[0m \u001b[0mtrain_size\u001b[0m\u001b[0;34m=\u001b[0m\u001b[0mn_train\u001b[0m\u001b[0;34m,\u001b[0m \u001b[0mrandom_state\u001b[0m\u001b[0;34m=\u001b[0m\u001b[0mrandom_state\u001b[0m\u001b[0;34m)\u001b[0m\u001b[0;34m\u001b[0m\u001b[0;34m\u001b[0m\u001b[0m\n\u001b[1;32m   2442\u001b[0m \u001b[0;34m\u001b[0m\u001b[0m\n\u001b[0;32m-> 2443\u001b[0;31m         \u001b[0mtrain\u001b[0m\u001b[0;34m,\u001b[0m \u001b[0mtest\u001b[0m \u001b[0;34m=\u001b[0m \u001b[0mnext\u001b[0m\u001b[0;34m(\u001b[0m\u001b[0mcv\u001b[0m\u001b[0;34m.\u001b[0m\u001b[0msplit\u001b[0m\u001b[0;34m(\u001b[0m\u001b[0mX\u001b[0m\u001b[0;34m=\u001b[0m\u001b[0marrays\u001b[0m\u001b[0;34m[\u001b[0m\u001b[0;36m0\u001b[0m\u001b[0;34m]\u001b[0m\u001b[0;34m,\u001b[0m \u001b[0my\u001b[0m\u001b[0;34m=\u001b[0m\u001b[0mstratify\u001b[0m\u001b[0;34m)\u001b[0m\u001b[0;34m)\u001b[0m\u001b[0;34m\u001b[0m\u001b[0;34m\u001b[0m\u001b[0m\n\u001b[0m\u001b[1;32m   2444\u001b[0m \u001b[0;34m\u001b[0m\u001b[0m\n\u001b[1;32m   2445\u001b[0m     return list(\n",
      "\u001b[0;32m~/miniconda3/envs/base-data-science/lib/python3.9/site-packages/sklearn/model_selection/_split.py\u001b[0m in \u001b[0;36msplit\u001b[0;34m(self, X, y, groups)\u001b[0m\n\u001b[1;32m   1598\u001b[0m         \"\"\"\n\u001b[1;32m   1599\u001b[0m         \u001b[0mX\u001b[0m\u001b[0;34m,\u001b[0m \u001b[0my\u001b[0m\u001b[0;34m,\u001b[0m \u001b[0mgroups\u001b[0m \u001b[0;34m=\u001b[0m \u001b[0mindexable\u001b[0m\u001b[0;34m(\u001b[0m\u001b[0mX\u001b[0m\u001b[0;34m,\u001b[0m \u001b[0my\u001b[0m\u001b[0;34m,\u001b[0m \u001b[0mgroups\u001b[0m\u001b[0;34m)\u001b[0m\u001b[0;34m\u001b[0m\u001b[0;34m\u001b[0m\u001b[0m\n\u001b[0;32m-> 1600\u001b[0;31m         \u001b[0;32mfor\u001b[0m \u001b[0mtrain\u001b[0m\u001b[0;34m,\u001b[0m \u001b[0mtest\u001b[0m \u001b[0;32min\u001b[0m \u001b[0mself\u001b[0m\u001b[0;34m.\u001b[0m\u001b[0m_iter_indices\u001b[0m\u001b[0;34m(\u001b[0m\u001b[0mX\u001b[0m\u001b[0;34m,\u001b[0m \u001b[0my\u001b[0m\u001b[0;34m,\u001b[0m \u001b[0mgroups\u001b[0m\u001b[0;34m)\u001b[0m\u001b[0;34m:\u001b[0m\u001b[0;34m\u001b[0m\u001b[0;34m\u001b[0m\u001b[0m\n\u001b[0m\u001b[1;32m   1601\u001b[0m             \u001b[0;32myield\u001b[0m \u001b[0mtrain\u001b[0m\u001b[0;34m,\u001b[0m \u001b[0mtest\u001b[0m\u001b[0;34m\u001b[0m\u001b[0;34m\u001b[0m\u001b[0m\n\u001b[1;32m   1602\u001b[0m \u001b[0;34m\u001b[0m\u001b[0m\n",
      "\u001b[0;32m~/miniconda3/envs/base-data-science/lib/python3.9/site-packages/sklearn/model_selection/_split.py\u001b[0m in \u001b[0;36m_iter_indices\u001b[0;34m(self, X, y, groups)\u001b[0m\n\u001b[1;32m   1938\u001b[0m         \u001b[0mclass_counts\u001b[0m \u001b[0;34m=\u001b[0m \u001b[0mnp\u001b[0m\u001b[0;34m.\u001b[0m\u001b[0mbincount\u001b[0m\u001b[0;34m(\u001b[0m\u001b[0my_indices\u001b[0m\u001b[0;34m)\u001b[0m\u001b[0;34m\u001b[0m\u001b[0;34m\u001b[0m\u001b[0m\n\u001b[1;32m   1939\u001b[0m         \u001b[0;32mif\u001b[0m \u001b[0mnp\u001b[0m\u001b[0;34m.\u001b[0m\u001b[0mmin\u001b[0m\u001b[0;34m(\u001b[0m\u001b[0mclass_counts\u001b[0m\u001b[0;34m)\u001b[0m \u001b[0;34m<\u001b[0m \u001b[0;36m2\u001b[0m\u001b[0;34m:\u001b[0m\u001b[0;34m\u001b[0m\u001b[0;34m\u001b[0m\u001b[0m\n\u001b[0;32m-> 1940\u001b[0;31m             raise ValueError(\n\u001b[0m\u001b[1;32m   1941\u001b[0m                 \u001b[0;34m\"The least populated class in y has only 1\"\u001b[0m\u001b[0;34m\u001b[0m\u001b[0;34m\u001b[0m\u001b[0m\n\u001b[1;32m   1942\u001b[0m                 \u001b[0;34m\" member, which is too few. The minimum\"\u001b[0m\u001b[0;34m\u001b[0m\u001b[0;34m\u001b[0m\u001b[0m\n",
      "\u001b[0;31mValueError\u001b[0m: The least populated class in y has only 1 member, which is too few. The minimum number of groups for any class cannot be less than 2."
     ]
    }
   ],
   "source": [
    "trainer, model, module = generate_trainer(\n",
    "    datafiles=datafiles,\n",
    "    labelfiles=labelfiles,\n",
    "    class_label='numeric_class',\n",
    "    drop_last=True,\n",
    "    shuffle=True,\n",
    "    batch_size=4,\n",
    "    num_workers=0,\n",
    "    refgenes=refgenes,\n",
    "    weighted_metrics=True,\n",
    "    optim_params={\n",
    "        'optimizer': torch.optim.SGD,\n",
    "        'lr': 3e-4,\n",
    "    },\n",
    "    sep='\\t',\n",
    "    max_epochs=100,\n",
    "    collocate=False,\n",
    "    subset=list(range(0, 100000, 100))\n",
    ")\n",
    "\n",
    "trainer.fit(model, datamodule=module)"
   ]
  },
  {
   "cell_type": "markdown",
   "id": "8398e587",
   "metadata": {},
   "source": [
    "# Mouse Model training code using lib.lightning_data"
   ]
  },
  {
   "cell_type": "code",
   "execution_count": null,
   "id": "c00475cd",
   "metadata": {},
   "outputs": [],
   "source": [
    "# labelfile = '../data/mouse/Adult Inhibitory Neurons in Mouse_labels.tsv'\n",
    "# label_df = pd.read_csv(labelfile, sep='\\t')\n",
    "\n",
    "\n",
    "# current_labels = label_df.loc[:, 'numeric_class']"
   ]
  },
  {
   "cell_type": "code",
   "execution_count": null,
   "id": "2ddba099",
   "metadata": {},
   "outputs": [],
   "source": [
    "test_prop=0.2\n",
    "# trainsplit, valsplit = train_test_split(current_labels, stratify=current_labels, test_size=test_prop)\n",
    "# trainsplit, testsplit = train_test_split(trainsplit, stratify=trainsplit, test_size=test_prop)\n",
    "\n",
    "\n",
    "# trainsplit.index"
   ]
  },
  {
   "cell_type": "code",
   "execution_count": null,
   "id": "4f766876",
   "metadata": {},
   "outputs": [],
   "source": [
    "module = DataModule(\n",
    "    datafiles=['../data/mouse/MouseAdultInhibitoryNeurons.h5ad'],\n",
    "    labelfiles=['../data/mouse/Adult Inhibitory Neurons in Mouse_labels.tsv'],\n",
    "    class_label='numeric_class',\n",
    "    sep='\\t',\n",
    "    collocate=False,\n",
    "    batch_size=4,\n",
    "    num_workers=0,\n",
    "    refgenes=refgenes,\n",
    "    currgenes=g2,\n",
    ")\n",
    "\n",
    "module"
   ]
  },
  {
   "cell_type": "code",
   "execution_count": null,
   "id": "0e79b736",
   "metadata": {
    "scrolled": false
   },
   "outputs": [],
   "source": [
    "module.setup()"
   ]
  },
  {
   "cell_type": "code",
   "execution_count": null,
   "id": "6e345a8f",
   "metadata": {},
   "outputs": [],
   "source": [
    "train = module.train_dataloader()\n",
    "\n",
    "print(next(iter(train)))"
   ]
  },
  {
   "cell_type": "code",
   "execution_count": null,
   "id": "5a126b1a",
   "metadata": {},
   "outputs": [],
   "source": [
    "train = DataLoader(atlas_train, batch_size=4, num_workers=0, drop_last=True, shuffle=True)\n",
    "val = DataLoader(atlas_val, batch_size=4, num_workers=0, drop_last=True, shuffle=False)"
   ]
  },
  {
   "cell_type": "code",
   "execution_count": null,
   "id": "09338062",
   "metadata": {
    "scrolled": true
   },
   "outputs": [],
   "source": [
    "# from models.lib.neural import GeneClassifier\n",
    "# from pytorch_lightning import Trainer \n",
    "# from pytorch_lightning.loggers import WandbLogger\n",
    "\n",
    "# model = GeneClassifier(\n",
    "#     input_dim=34430, \n",
    "#     output_dim=50,\n",
    "#     optim_params={\n",
    "#         'optimizer': torch.optim.Adam,\n",
    "#         'lr': 3e-4,\n",
    "#     }\n",
    "# )\n",
    "\n",
    "# wandb_logger = WandbLogger(project='Mouse Classifier', name='Tabnet with Metrics')\n",
    "# trainer = Trainer(logger=wandb_logger)\n",
    "\n",
    "# trainer.fit(model, train, val)"
   ]
  },
  {
   "cell_type": "code",
   "execution_count": null,
   "id": "50b87ee6",
   "metadata": {},
   "outputs": [],
   "source": [
    "def gene_intersection(\n",
    "    files\n",
    "):\n",
    "    import dask.dataframe as dd \n",
    "    \n",
    "    cols = []\n",
    "    for file in files:\n",
    "        temp = pd.read_csv(fpath, nrows=1, header=1).columns \n",
    "        temp = [x.split('|')[0].upper().strip() for x in temp]\n",
    "        cols.append(set(temp))\n",
    "    \n",
    "    unique = list(set.intersection(*cols))\n",
    "    unique = sorted(unique)\n",
    "    \n",
    "    return unique "
   ]
  },
  {
   "cell_type": "code",
   "execution_count": null,
   "id": "3f7f8e0c",
   "metadata": {},
   "outputs": [],
   "source": []
  },
  {
   "cell_type": "code",
   "execution_count": null,
   "id": "807b699d",
   "metadata": {},
   "outputs": [],
   "source": []
  },
  {
   "cell_type": "code",
   "execution_count": null,
   "id": "5097f759",
   "metadata": {},
   "outputs": [],
   "source": []
  },
  {
   "cell_type": "code",
   "execution_count": null,
   "id": "e737ca20",
   "metadata": {},
   "outputs": [],
   "source": []
  },
  {
   "cell_type": "code",
   "execution_count": null,
   "id": "5110b485",
   "metadata": {
    "scrolled": false
   },
   "outputs": [],
   "source": [
    "generate_single_dataset(\n",
    "    datafile='../data/mouse/MouseAdultInhibitoryNeurons.h5ad',\n",
    "    labelfile='../data/mouse/Adult Inhibitory Neurons in Mouse_labels.tsv',\n",
    "    class_label='numeric_class',\n",
    "    sep='\\t'\n",
    ")"
   ]
  },
  {
   "cell_type": "code",
   "execution_count": null,
   "id": "0ee0b945",
   "metadata": {},
   "outputs": [],
   "source": []
  }
 ],
 "metadata": {
  "kernelspec": {
   "display_name": "Python [conda env:base-data-science] *",
   "language": "python",
   "name": "conda-env-base-data-science-py"
  },
  "language_info": {
   "codemirror_mode": {
    "name": "ipython",
    "version": 3
   },
   "file_extension": ".py",
   "mimetype": "text/x-python",
   "name": "python",
   "nbconvert_exporter": "python",
   "pygments_lexer": "ipython3",
   "version": "3.9.7"
  }
 },
 "nbformat": 4,
 "nbformat_minor": 5
}
