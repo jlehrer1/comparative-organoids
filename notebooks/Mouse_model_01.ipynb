{
 "cells": [
  {
   "cell_type": "code",
   "execution_count": 1,
   "id": "70a18946",
   "metadata": {},
   "outputs": [
    {
     "name": "stderr",
     "output_type": "stream",
     "text": [
      "/Users/julian/miniconda3/envs/single-cell/lib/python3.9/site-packages/tqdm/auto.py:22: TqdmWarning: IProgress not found. Please update jupyter and ipywidgets. See https://ipywidgets.readthedocs.io/en/stable/user_install.html\n",
      "  from .autonotebook import tqdm as notebook_tqdm\n"
     ]
    }
   ],
   "source": [
    "import scanpy as sc\n",
    "import anndata as an\n",
    "import os\n",
    "import pandas as pd\n",
    "import numpy as np\n",
    "from sklearn.preprocessing import LabelEncoder \n",
    "import torch\n",
    "from sys import getsizeof\n",
    "import json \n",
    "\n",
    "import os, sys\n",
    "sys.path.append('../src')\n",
    "from models.lib.data import *\n",
    "from models.lib.neural import *\n",
    "from models.lib.lightning_train import DataModule, generate_trainer\n",
    "\n",
    "datafiles=['../data/mouse/MouseAdultInhibitoryNeurons.h5ad']\n",
    "labelfiles=['../data/mouse/Adult Inhibitory Neurons in Mouse_labels.tsv']\n",
    "le = LabelEncoder()"
   ]
  },
  {
   "cell_type": "code",
   "execution_count": 2,
   "id": "3f6ad3f5",
   "metadata": {},
   "outputs": [
    {
     "name": "stderr",
     "output_type": "stream",
     "text": [
      "/Users/julian/miniconda3/envs/single-cell/lib/python3.9/site-packages/anndata/_core/anndata.py:1830: UserWarning: Variable names are not unique. To make them unique, call `.var_names_make_unique`.\n",
      "  utils.warn_names_duplicates(\"var\")\n"
     ]
    }
   ],
   "source": [
    "mo_data = an.read_h5ad('../data/mouse/Mo_PV_paper_TDTomato_mouseonly.h5ad')"
   ]
  },
  {
   "cell_type": "code",
   "execution_count": 23,
   "id": "ecc3c1a3",
   "metadata": {},
   "outputs": [
    {
     "data": {
      "text/plain": [
       "matrix([[0, 0, 0, ..., 1, 0, 0]])"
      ]
     },
     "execution_count": 23,
     "metadata": {},
     "output_type": "execute_result"
    }
   ],
   "source": [
    "sum(mo_data.X.sum(axis=0) == 0)"
   ]
  },
  {
   "cell_type": "code",
   "execution_count": 38,
   "id": "623ba44e",
   "metadata": {
    "scrolled": true
   },
   "outputs": [
    {
     "data": {
      "text/plain": [
       "78"
      ]
     },
     "execution_count": 38,
     "metadata": {},
     "output_type": "execute_result"
    }
   ],
   "source": [
    "len([x for x in mo_data.var.index if x.lower().startswith('mrp')])"
   ]
  },
  {
   "cell_type": "code",
   "execution_count": 39,
   "id": "b1576f88",
   "metadata": {},
   "outputs": [],
   "source": [
    "atlas_data = an.read_h5ad('../data/mouse/MouseAdultInhibitoryNeurons.h5ad')"
   ]
  },
  {
   "cell_type": "code",
   "execution_count": 40,
   "id": "2d54a7f5",
   "metadata": {},
   "outputs": [],
   "source": [
    "data = AnnDatasetMatrix(\n",
    "    matrix=mo_data.X,\n",
    "    labels=mo_data.obs.index,\n",
    ")"
   ]
  },
  {
   "cell_type": "code",
   "execution_count": 76,
   "id": "de32e0ad",
   "metadata": {},
   "outputs": [
    {
     "data": {
      "text/plain": [
       "array(['S-phase_MCM4/H43C', 'Ctx_LHX6/SST', 'Str_LHX8/CHAT', 'Excitatory',\n",
       "       'Amy/Hypo_HAP1/PEG10', 'GP_GBX1/GABRA1', 'Ctx_PROX1/SNCG',\n",
       "       'Ctx_PVALB/VIPR2', 'Glia', 'vStr_DRD1/NPY1R', 'Ctx_LHX6/PVALB',\n",
       "       'Str-IN_CRABP1/MAF', 'Ctx_LAMP5/NDNF', 'MGE_LHX6/NPY',\n",
       "       'Ctx/BN_SST/CHODL', 'Ctx_PROX1/LAMP5', 'Ctx_CCK/VIP',\n",
       "       'G2-M_UBE2C/ASPM', 'CGE_NR2F2/PROX1', 'Str-dSPN_FOXP1/ISL1',\n",
       "       'Str-iSPN_FOXP1/PENK', 'BN-eSPN_FOXP2/TSHZ1', 'LGE_FOXP1/PENK',\n",
       "       'LGE_FOXP1/ISL1', 'Transition', 'Ctx_CCK/DPY19L1',\n",
       "       'Ctx_LHX6/LAMP5', 'Ctx_SST/NDNF', 'vSTR_HAP1/ZIC1', 'MGE_LHX6/MAF',\n",
       "       'VMF_PEG10/DLK1', 'VMF_NR2F2/LHX6', 'OB-PGC_TH/SCGN',\n",
       "       'OB-GC_STXBP6/PENK', 'LGE_FOXP2/TSHZ1', 'LGE_MEIS2/PAX6/SCGN',\n",
       "       'OB-PGC_ZIC', 'LGE-OB_MEIS2/PAX6', 'LGE_MEIS2/PAX6', 'OB-GC_RPRM',\n",
       "       'OB-GC NR2F2/PENK', 'VMF_ZIC1/ZIC2', 'OB-PGC_FOXP2/CALB1',\n",
       "       'VMF_CRABP1/LHX8', 'VMF_LHX1/POU6F2', 'LGE_FOXP1/ISL1/NPY1R',\n",
       "       'MGE_CRABP1/MAF', 'Ctx_NR2F2/PAX6', 'RMTW_ZIC1/RELN',\n",
       "       'VMF_TMEM163/OTP'], dtype=object)"
      ]
     },
     "execution_count": 76,
     "metadata": {},
     "output_type": "execute_result"
    }
   ],
   "source": [
    "labels = pd.read_csv('../data/mouse/MouseAdultInhibitoryNeurons_labels.csv')\n",
    "labels['class'].unique()"
   ]
  },
  {
   "cell_type": "code",
   "execution_count": 78,
   "id": "9b0afbec",
   "metadata": {},
   "outputs": [
    {
     "data": {
      "text/html": [
       "<div>\n",
       "<style scoped>\n",
       "    .dataframe tbody tr th:only-of-type {\n",
       "        vertical-align: middle;\n",
       "    }\n",
       "\n",
       "    .dataframe tbody tr th {\n",
       "        vertical-align: top;\n",
       "    }\n",
       "\n",
       "    .dataframe thead th {\n",
       "        text-align: right;\n",
       "    }\n",
       "</style>\n",
       "<table border=\"1\" class=\"dataframe\">\n",
       "  <thead>\n",
       "    <tr style=\"text-align: right;\">\n",
       "      <th></th>\n",
       "      <th>CellID</th>\n",
       "      <th>Age</th>\n",
       "      <th>Batch</th>\n",
       "      <th>CellCycle</th>\n",
       "      <th>CellCycle_G1</th>\n",
       "      <th>CellCycle_G2M</th>\n",
       "      <th>CellCycle_S</th>\n",
       "      <th>Cell_Conc</th>\n",
       "      <th>ChipID</th>\n",
       "      <th>Class</th>\n",
       "      <th>...</th>\n",
       "      <th>Punchcard</th>\n",
       "      <th>PunchcardClusters</th>\n",
       "      <th>Region</th>\n",
       "      <th>Replicate</th>\n",
       "      <th>SampleID</th>\n",
       "      <th>SampleName</th>\n",
       "      <th>Sample_Index</th>\n",
       "      <th>Tissue</th>\n",
       "      <th>TotalUMI</th>\n",
       "      <th>ngperul_cDNA</th>\n",
       "    </tr>\n",
       "  </thead>\n",
       "  <tbody>\n",
       "    <tr>\n",
       "      <th>0</th>\n",
       "      <td>10X66_4_A_1:CATTTCGAGATACCx</td>\n",
       "      <td>e16.0</td>\n",
       "      <td>4</td>\n",
       "      <td>0.001595</td>\n",
       "      <td>0.000319</td>\n",
       "      <td>0.001276</td>\n",
       "      <td>0.0</td>\n",
       "      <td>600.0</td>\n",
       "      <td>10X66</td>\n",
       "      <td>Neuron</td>\n",
       "      <td>...</td>\n",
       "      <td>HindbrainE1618_Filtered_Neuronal_Glut</td>\n",
       "      <td>0</td>\n",
       "      <td>Hindbrain</td>\n",
       "      <td>0</td>\n",
       "      <td>10X66_4</td>\n",
       "      <td>G97</td>\n",
       "      <td>SI-3A-C4</td>\n",
       "      <td>Hindbrain</td>\n",
       "      <td>18809.0</td>\n",
       "      <td>7,7</td>\n",
       "    </tr>\n",
       "    <tr>\n",
       "      <th>1</th>\n",
       "      <td>10X66_4_A_1:ACGTTGGATTTGGGx</td>\n",
       "      <td>e16.0</td>\n",
       "      <td>4</td>\n",
       "      <td>0.001199</td>\n",
       "      <td>0.000479</td>\n",
       "      <td>0.000719</td>\n",
       "      <td>0.0</td>\n",
       "      <td>600.0</td>\n",
       "      <td>10X66</td>\n",
       "      <td>Neuron</td>\n",
       "      <td>...</td>\n",
       "      <td>HindbrainE1618_Filtered_Neuronal_Glut</td>\n",
       "      <td>0</td>\n",
       "      <td>Hindbrain</td>\n",
       "      <td>0</td>\n",
       "      <td>10X66_4</td>\n",
       "      <td>G97</td>\n",
       "      <td>SI-3A-C4</td>\n",
       "      <td>Hindbrain</td>\n",
       "      <td>16686.0</td>\n",
       "      <td>7,7</td>\n",
       "    </tr>\n",
       "    <tr>\n",
       "      <th>2</th>\n",
       "      <td>10X66_4_A_1:TATGTCTGGTAAAGx</td>\n",
       "      <td>e16.0</td>\n",
       "      <td>4</td>\n",
       "      <td>0.001124</td>\n",
       "      <td>0.000326</td>\n",
       "      <td>0.000798</td>\n",
       "      <td>0.0</td>\n",
       "      <td>600.0</td>\n",
       "      <td>10X66</td>\n",
       "      <td>Neuron</td>\n",
       "      <td>...</td>\n",
       "      <td>HindbrainE1618_Filtered_Neuronal_Glut</td>\n",
       "      <td>0</td>\n",
       "      <td>Hindbrain</td>\n",
       "      <td>0</td>\n",
       "      <td>10X66_4</td>\n",
       "      <td>G97</td>\n",
       "      <td>SI-3A-C4</td>\n",
       "      <td>Hindbrain</td>\n",
       "      <td>27568.0</td>\n",
       "      <td>7,7</td>\n",
       "    </tr>\n",
       "    <tr>\n",
       "      <th>3</th>\n",
       "      <td>10X68_6_A_1:CCTGACTGAGTCACx</td>\n",
       "      <td>e17.0</td>\n",
       "      <td>5</td>\n",
       "      <td>0.001613</td>\n",
       "      <td>0.000346</td>\n",
       "      <td>0.001267</td>\n",
       "      <td>0.0</td>\n",
       "      <td>600.0</td>\n",
       "      <td>10X68</td>\n",
       "      <td>Neuron</td>\n",
       "      <td>...</td>\n",
       "      <td>HindbrainE1618_Filtered_Neuronal_Glut</td>\n",
       "      <td>0</td>\n",
       "      <td>Hindbrain</td>\n",
       "      <td>0</td>\n",
       "      <td>10X68_6</td>\n",
       "      <td>G101</td>\n",
       "      <td>SI-3A-G4</td>\n",
       "      <td>Hindbrain</td>\n",
       "      <td>8680.0</td>\n",
       "      <td>7,7</td>\n",
       "    </tr>\n",
       "    <tr>\n",
       "      <th>4</th>\n",
       "      <td>10X68_6_A_1:AGTATAACGAACCTx</td>\n",
       "      <td>e17.0</td>\n",
       "      <td>5</td>\n",
       "      <td>0.001600</td>\n",
       "      <td>0.000200</td>\n",
       "      <td>0.001400</td>\n",
       "      <td>0.0</td>\n",
       "      <td>600.0</td>\n",
       "      <td>10X68</td>\n",
       "      <td>Neuron</td>\n",
       "      <td>...</td>\n",
       "      <td>HindbrainE1618_Filtered_Neuronal_Glut</td>\n",
       "      <td>0</td>\n",
       "      <td>Hindbrain</td>\n",
       "      <td>0</td>\n",
       "      <td>10X68_6</td>\n",
       "      <td>G101</td>\n",
       "      <td>SI-3A-G4</td>\n",
       "      <td>Hindbrain</td>\n",
       "      <td>5001.0</td>\n",
       "      <td>7,7</td>\n",
       "    </tr>\n",
       "    <tr>\n",
       "      <th>...</th>\n",
       "      <td>...</td>\n",
       "      <td>...</td>\n",
       "      <td>...</td>\n",
       "      <td>...</td>\n",
       "      <td>...</td>\n",
       "      <td>...</td>\n",
       "      <td>...</td>\n",
       "      <td>...</td>\n",
       "      <td>...</td>\n",
       "      <td>...</td>\n",
       "      <td>...</td>\n",
       "      <td>...</td>\n",
       "      <td>...</td>\n",
       "      <td>...</td>\n",
       "      <td>...</td>\n",
       "      <td>...</td>\n",
       "      <td>...</td>\n",
       "      <td>...</td>\n",
       "      <td>...</td>\n",
       "      <td>...</td>\n",
       "      <td>...</td>\n",
       "    </tr>\n",
       "    <tr>\n",
       "      <th>292490</th>\n",
       "      <td>10X70_3_A_1:GTCGAATGGGTGTTx</td>\n",
       "      <td>e17.0</td>\n",
       "      <td>4</td>\n",
       "      <td>0.000772</td>\n",
       "      <td>0.000257</td>\n",
       "      <td>0.000514</td>\n",
       "      <td>0.0</td>\n",
       "      <td>600.0</td>\n",
       "      <td>10X70</td>\n",
       "      <td>Choroid plexus</td>\n",
       "      <td>...</td>\n",
       "      <td>ForebrainVentrothalamicE1618_FilteredOut</td>\n",
       "      <td>1</td>\n",
       "      <td>Forebrain</td>\n",
       "      <td>0</td>\n",
       "      <td>10X70_3</td>\n",
       "      <td>G103</td>\n",
       "      <td>SI-3A-A5</td>\n",
       "      <td>ForebrainVentroThalamic</td>\n",
       "      <td>15553.0</td>\n",
       "      <td>4,8</td>\n",
       "    </tr>\n",
       "    <tr>\n",
       "      <th>292491</th>\n",
       "      <td>10X70_3_A_1:AGGTCATGCAAGCTx</td>\n",
       "      <td>e17.0</td>\n",
       "      <td>4</td>\n",
       "      <td>0.000998</td>\n",
       "      <td>0.000333</td>\n",
       "      <td>0.000666</td>\n",
       "      <td>0.0</td>\n",
       "      <td>600.0</td>\n",
       "      <td>10X70</td>\n",
       "      <td>Choroid plexus</td>\n",
       "      <td>...</td>\n",
       "      <td>ForebrainVentrothalamicE1618_FilteredOut</td>\n",
       "      <td>1</td>\n",
       "      <td>Forebrain</td>\n",
       "      <td>0</td>\n",
       "      <td>10X70_3</td>\n",
       "      <td>G103</td>\n",
       "      <td>SI-3A-A5</td>\n",
       "      <td>ForebrainVentroThalamic</td>\n",
       "      <td>6010.0</td>\n",
       "      <td>4,8</td>\n",
       "    </tr>\n",
       "    <tr>\n",
       "      <th>292492</th>\n",
       "      <td>10X70_6_A_1:GCACAATGGATGAAx</td>\n",
       "      <td>e17.0</td>\n",
       "      <td>4</td>\n",
       "      <td>0.001384</td>\n",
       "      <td>0.000260</td>\n",
       "      <td>0.001125</td>\n",
       "      <td>0.0</td>\n",
       "      <td>600.0</td>\n",
       "      <td>10X70</td>\n",
       "      <td>Choroid plexus</td>\n",
       "      <td>...</td>\n",
       "      <td>ForebrainVentrothalamicE1618_FilteredOut</td>\n",
       "      <td>1</td>\n",
       "      <td>Forebrain</td>\n",
       "      <td>1</td>\n",
       "      <td>10X70_6</td>\n",
       "      <td>G106</td>\n",
       "      <td>SI-3A-D5</td>\n",
       "      <td>ForebrainVentroThalamic</td>\n",
       "      <td>11558.0</td>\n",
       "      <td>9,6</td>\n",
       "    </tr>\n",
       "    <tr>\n",
       "      <th>292493</th>\n",
       "      <td>10X70_3_A_1:CATCAGGAGTGAGGx</td>\n",
       "      <td>e17.0</td>\n",
       "      <td>4</td>\n",
       "      <td>0.003384</td>\n",
       "      <td>0.000785</td>\n",
       "      <td>0.002599</td>\n",
       "      <td>0.0</td>\n",
       "      <td>600.0</td>\n",
       "      <td>10X70</td>\n",
       "      <td>Choroid plexus</td>\n",
       "      <td>...</td>\n",
       "      <td>ForebrainVentrothalamicE1618_FilteredOut</td>\n",
       "      <td>1</td>\n",
       "      <td>Forebrain</td>\n",
       "      <td>0</td>\n",
       "      <td>10X70_3</td>\n",
       "      <td>G103</td>\n",
       "      <td>SI-3A-A5</td>\n",
       "      <td>ForebrainVentroThalamic</td>\n",
       "      <td>20393.0</td>\n",
       "      <td>4,8</td>\n",
       "    </tr>\n",
       "    <tr>\n",
       "      <th>292494</th>\n",
       "      <td>10X70_6_A_1:ATTGGTCTAACCACx</td>\n",
       "      <td>e17.0</td>\n",
       "      <td>4</td>\n",
       "      <td>0.002087</td>\n",
       "      <td>0.000395</td>\n",
       "      <td>0.001692</td>\n",
       "      <td>0.0</td>\n",
       "      <td>600.0</td>\n",
       "      <td>10X70</td>\n",
       "      <td>Choroid plexus</td>\n",
       "      <td>...</td>\n",
       "      <td>ForebrainVentrothalamicE1618_FilteredOut</td>\n",
       "      <td>1</td>\n",
       "      <td>Forebrain</td>\n",
       "      <td>1</td>\n",
       "      <td>10X70_6</td>\n",
       "      <td>G106</td>\n",
       "      <td>SI-3A-D5</td>\n",
       "      <td>ForebrainVentroThalamic</td>\n",
       "      <td>17729.0</td>\n",
       "      <td>9,6</td>\n",
       "    </tr>\n",
       "  </tbody>\n",
       "</table>\n",
       "<p>292495 rows × 36 columns</p>\n",
       "</div>"
      ],
      "text/plain": [
       "                             CellID    Age  Batch  CellCycle  CellCycle_G1  \\\n",
       "0       10X66_4_A_1:CATTTCGAGATACCx  e16.0      4   0.001595      0.000319   \n",
       "1       10X66_4_A_1:ACGTTGGATTTGGGx  e16.0      4   0.001199      0.000479   \n",
       "2       10X66_4_A_1:TATGTCTGGTAAAGx  e16.0      4   0.001124      0.000326   \n",
       "3       10X68_6_A_1:CCTGACTGAGTCACx  e17.0      5   0.001613      0.000346   \n",
       "4       10X68_6_A_1:AGTATAACGAACCTx  e17.0      5   0.001600      0.000200   \n",
       "...                             ...    ...    ...        ...           ...   \n",
       "292490  10X70_3_A_1:GTCGAATGGGTGTTx  e17.0      4   0.000772      0.000257   \n",
       "292491  10X70_3_A_1:AGGTCATGCAAGCTx  e17.0      4   0.000998      0.000333   \n",
       "292492  10X70_6_A_1:GCACAATGGATGAAx  e17.0      4   0.001384      0.000260   \n",
       "292493  10X70_3_A_1:CATCAGGAGTGAGGx  e17.0      4   0.003384      0.000785   \n",
       "292494  10X70_6_A_1:ATTGGTCTAACCACx  e17.0      4   0.002087      0.000395   \n",
       "\n",
       "        CellCycle_G2M  CellCycle_S  Cell_Conc ChipID           Class  ...  \\\n",
       "0            0.001276          0.0      600.0  10X66          Neuron  ...   \n",
       "1            0.000719          0.0      600.0  10X66          Neuron  ...   \n",
       "2            0.000798          0.0      600.0  10X66          Neuron  ...   \n",
       "3            0.001267          0.0      600.0  10X68          Neuron  ...   \n",
       "4            0.001400          0.0      600.0  10X68          Neuron  ...   \n",
       "...               ...          ...        ...    ...             ...  ...   \n",
       "292490       0.000514          0.0      600.0  10X70  Choroid plexus  ...   \n",
       "292491       0.000666          0.0      600.0  10X70  Choroid plexus  ...   \n",
       "292492       0.001125          0.0      600.0  10X70  Choroid plexus  ...   \n",
       "292493       0.002599          0.0      600.0  10X70  Choroid plexus  ...   \n",
       "292494       0.001692          0.0      600.0  10X70  Choroid plexus  ...   \n",
       "\n",
       "                                       Punchcard  PunchcardClusters  \\\n",
       "0          HindbrainE1618_Filtered_Neuronal_Glut                  0   \n",
       "1          HindbrainE1618_Filtered_Neuronal_Glut                  0   \n",
       "2          HindbrainE1618_Filtered_Neuronal_Glut                  0   \n",
       "3          HindbrainE1618_Filtered_Neuronal_Glut                  0   \n",
       "4          HindbrainE1618_Filtered_Neuronal_Glut                  0   \n",
       "...                                          ...                ...   \n",
       "292490  ForebrainVentrothalamicE1618_FilteredOut                  1   \n",
       "292491  ForebrainVentrothalamicE1618_FilteredOut                  1   \n",
       "292492  ForebrainVentrothalamicE1618_FilteredOut                  1   \n",
       "292493  ForebrainVentrothalamicE1618_FilteredOut                  1   \n",
       "292494  ForebrainVentrothalamicE1618_FilteredOut                  1   \n",
       "\n",
       "           Region Replicate SampleID  SampleName  Sample_Index  \\\n",
       "0       Hindbrain         0  10X66_4         G97      SI-3A-C4   \n",
       "1       Hindbrain         0  10X66_4         G97      SI-3A-C4   \n",
       "2       Hindbrain         0  10X66_4         G97      SI-3A-C4   \n",
       "3       Hindbrain         0  10X68_6        G101      SI-3A-G4   \n",
       "4       Hindbrain         0  10X68_6        G101      SI-3A-G4   \n",
       "...           ...       ...      ...         ...           ...   \n",
       "292490  Forebrain         0  10X70_3        G103      SI-3A-A5   \n",
       "292491  Forebrain         0  10X70_3        G103      SI-3A-A5   \n",
       "292492  Forebrain         1  10X70_6        G106      SI-3A-D5   \n",
       "292493  Forebrain         0  10X70_3        G103      SI-3A-A5   \n",
       "292494  Forebrain         1  10X70_6        G106      SI-3A-D5   \n",
       "\n",
       "                         Tissue TotalUMI  ngperul_cDNA  \n",
       "0                     Hindbrain  18809.0           7,7  \n",
       "1                     Hindbrain  16686.0           7,7  \n",
       "2                     Hindbrain  27568.0           7,7  \n",
       "3                     Hindbrain   8680.0           7,7  \n",
       "4                     Hindbrain   5001.0           7,7  \n",
       "...                         ...      ...           ...  \n",
       "292490  ForebrainVentroThalamic  15553.0           4,8  \n",
       "292491  ForebrainVentroThalamic   6010.0           4,8  \n",
       "292492  ForebrainVentroThalamic  11558.0           9,6  \n",
       "292493  ForebrainVentroThalamic  20393.0           4,8  \n",
       "292494  ForebrainVentroThalamic  17729.0           9,6  \n",
       "\n",
       "[292495 rows x 36 columns]"
      ]
     },
     "execution_count": 78,
     "metadata": {},
     "output_type": "execute_result"
    }
   ],
   "source": [
    "pd.read_csv('../data/developing_mouse_brain/labels_developing_mouse_brain.tsv', sep='\\t')"
   ]
  },
  {
   "cell_type": "code",
   "execution_count": 53,
   "id": "c848b782",
   "metadata": {},
   "outputs": [],
   "source": [
    "g1 = [x.lower() for x in atlas_data.var.index]\n",
    "g2 = [x.lower() for x in mo_data.var.index]"
   ]
  },
  {
   "cell_type": "code",
   "execution_count": 79,
   "id": "8e745a34",
   "metadata": {
    "scrolled": true
   },
   "outputs": [],
   "source": [
    "diff = list(set(g1).intersection(set(g2)))"
   ]
  },
  {
   "cell_type": "code",
   "execution_count": 80,
   "id": "9a2ac8ee",
   "metadata": {},
   "outputs": [
    {
     "data": {
      "text/plain": [
       "25163"
      ]
     },
     "execution_count": 80,
     "metadata": {},
     "output_type": "execute_result"
    }
   ],
   "source": [
    "len(diff)"
   ]
  },
  {
   "cell_type": "code",
   "execution_count": 82,
   "id": "6e3e30a8",
   "metadata": {},
   "outputs": [
    {
     "data": {
      "text/plain": [
       "['malat1']"
      ]
     },
     "execution_count": 82,
     "metadata": {},
     "output_type": "execute_result"
    }
   ],
   "source": [
    "[x for x in diff if x.startswith('malat')]"
   ]
  },
  {
   "cell_type": "code",
   "execution_count": 73,
   "id": "018c089b",
   "metadata": {
    "scrolled": true
   },
   "outputs": [
    {
     "data": {
      "text/plain": [
       "7806"
      ]
     },
     "execution_count": 73,
     "metadata": {},
     "output_type": "execute_result"
    }
   ],
   "source": [
    "sum([x.startswith('gm') for x in diff])"
   ]
  },
  {
   "cell_type": "code",
   "execution_count": 4,
   "id": "d4c55476",
   "metadata": {
    "scrolled": true
   },
   "outputs": [],
   "source": [
    "# atlas_labels = pd.read_csv('../data/mouse/MouseAdultInhibitoryNeurons_labels.csv')\n",
    "# le = LabelEncoder()\n",
    "# atlas_labels['numeric_class'] = le.fit_transform(atlas_labels['class'])\n",
    "\n",
    "# subset_labels = atlas_labels[atlas_labels['class'].isin(atlas_labels['class'].value_counts()[0:10].index)]\n",
    "# # subset_labels = subset_labels.iloc[0: 1000, :]\n",
    "# subset_labels.index.name = 'cell'\n",
    "\n",
    "# # subset_labels.to_csv('../data/mouse/subset_labels.csv')\n",
    "# # pd.read_csv('../data/mouse/subset_labels.csv')\n",
    "# subset_labels = subset_labels.sample(n=1000, weights='numeric_class', random_state=1)\n",
    "# subset_labels.to_csv('../data/mouse/subset_labels.csv')\n",
    "# pd.read_csv('../data/mouse/subset_labels.csv')['numeric_class'].value_counts()"
   ]
  },
  {
   "cell_type": "code",
   "execution_count": 5,
   "id": "6de1fb2f",
   "metadata": {},
   "outputs": [],
   "source": [
    "# atlas_labels.to_csv('../data/mouse/MouseAdultInhibitoryNeurons_labels.csv', index=False)\n",
    "\n",
    "# pd.read_csv('../data/mouse/MouseAdultInhibitoryNeurons_labels.csv')"
   ]
  },
  {
   "cell_type": "code",
   "execution_count": 6,
   "id": "4d01955c",
   "metadata": {},
   "outputs": [],
   "source": [
    "# mouse_atlas = sc.read_h5ad('../data/mouse/MouseAdultInhibitoryNeurons.h5ad')\n",
    "# mo_data = an.read_h5ad('../data/mouse/Mo_PV_paper_TDTomato_mouseonly.h5ad')\n",
    "\n",
    "# g1 = mo_data.var.index.values \n",
    "# g2 = mouse_atlas.var.index.values\n",
    "\n",
    "# refgenes = sorted(list(set(g1).intersection(g2)))"
   ]
  },
  {
   "cell_type": "code",
   "execution_count": 7,
   "id": "98b36d71",
   "metadata": {},
   "outputs": [],
   "source": [
    "# g1, g2, refgenes"
   ]
  },
  {
   "cell_type": "markdown",
   "id": "bb661476",
   "metadata": {},
   "source": [
    "## Reading in model from checkpoint"
   ]
  },
  {
   "cell_type": "code",
   "execution_count": 11,
   "id": "b0fe316a",
   "metadata": {},
   "outputs": [
    {
     "name": "stdout",
     "output_type": "stream",
     "text": [
      "Initializing network\n",
      "Initializing explain matrix\n"
     ]
    }
   ],
   "source": [
    "model = TabNetLightning.load_from_checkpoint(\n",
    "    '../checkpoints/checkpoint-280-desc-mouse.ckpt',\n",
    "    input_dim=34430,\n",
    "    output_dim=50,\n",
    ")"
   ]
  },
  {
   "cell_type": "code",
   "execution_count": null,
   "id": "7ebbbdbd",
   "metadata": {},
   "outputs": [],
   "source": [
    "from os.path import join\n",
    "data_path = '../data/mouse//'\n",
    "datafiles=[join(data_path, 'MouseAdultInhibitoryNeurons.h5ad')]\n",
    "labelfiles=[join(data_path, 'MouseAdultInhibitoryNeurons_labels.csv')]\n",
    "\n",
    "device = ('cuda:0' if torch.cuda.is_available() else None)\n",
    "\n",
    "module = DataModule(\n",
    "    datafiles=datafiles,\n",
    "    labelfiles=labelfiles,\n",
    "    class_label='numeric_class',\n",
    "    batch_size=8,\n",
    "    num_workers=0,\n",
    "    shuffle=True,\n",
    "    drop_last=True,\n",
    "    normalize=True,\n",
    ")\n",
    "\n",
    "module.setup()"
   ]
  },
  {
   "cell_type": "code",
   "execution_count": null,
   "id": "d2d371c6",
   "metadata": {},
   "outputs": [],
   "source": [
    "module(next(iter(module.trainloader)))"
   ]
  },
  {
   "cell_type": "code",
   "execution_count": null,
   "id": "b193fbbf",
   "metadata": {},
   "outputs": [],
   "source": [
    "trainer = pl.Trainer()\n",
    "\n",
    "trainer.test()"
   ]
  },
  {
   "cell_type": "markdown",
   "id": "e6af364a",
   "metadata": {},
   "source": [
    "# Mouse model training with generate_trainer test"
   ]
  },
  {
   "cell_type": "code",
   "execution_count": 8,
   "id": "ec7322d9",
   "metadata": {
    "scrolled": false
   },
   "outputs": [],
   "source": [
    "# Define labelfiles and trainer \n",
    "from os.path import join\n",
    "data_path = '../data/mouse//'\n",
    "datafiles=[join(data_path, 'MouseAdultInhibitoryNeurons.h5ad')]\n",
    "labelfiles=[join(data_path, 'MouseAdultInhibitoryNeurons_labels.csv')]\n",
    "\n",
    "device = ('cuda:0' if torch.cuda.is_available() else None)\n",
    "\n",
    "module = DataModule(\n",
    "    datafiles=datafiles,\n",
    "    labelfiles=labelfiles,\n",
    "    class_label='numeric_class',\n",
    "    batch_size=8,\n",
    "    num_workers=32,\n",
    "    shuffle=True,\n",
    "    drop_last=True,\n",
    "    normalize=True,\n",
    ")"
   ]
  },
  {
   "cell_type": "code",
   "execution_count": 9,
   "id": "4fa480b5",
   "metadata": {
    "scrolled": true
   },
   "outputs": [
    {
     "name": "stdout",
     "output_type": "stream",
     "text": [
      "Creating train/val/test DataLoaders...\n"
     ]
    },
    {
     "ename": "KeyboardInterrupt",
     "evalue": "",
     "output_type": "error",
     "traceback": [
      "\u001b[0;31m---------------------------------------------------------------------------\u001b[0m",
      "\u001b[0;31mKeyboardInterrupt\u001b[0m                         Traceback (most recent call last)",
      "\u001b[0;32m/var/folders/pd/jsjcl0fn7w57s5mfr34b20pm0000gn/T/ipykernel_60216/2816191465.py\u001b[0m in \u001b[0;36m<module>\u001b[0;34m\u001b[0m\n\u001b[0;32m----> 1\u001b[0;31m \u001b[0mmodule\u001b[0m\u001b[0;34m.\u001b[0m\u001b[0msetup\u001b[0m\u001b[0;34m(\u001b[0m\u001b[0;34m)\u001b[0m\u001b[0;34m\u001b[0m\u001b[0;34m\u001b[0m\u001b[0m\n\u001b[0m",
      "\u001b[0;32m~/miniconda3/envs/base-data-science/lib/python3.9/site-packages/pytorch_lightning/core/datamodule.py\u001b[0m in \u001b[0;36mwrapped_fn\u001b[0;34m(*args, **kwargs)\u001b[0m\n\u001b[1;32m    472\u001b[0m                 )\n\u001b[1;32m    473\u001b[0m             \u001b[0;32melse\u001b[0m\u001b[0;34m:\u001b[0m\u001b[0;34m\u001b[0m\u001b[0;34m\u001b[0m\u001b[0m\n\u001b[0;32m--> 474\u001b[0;31m                 \u001b[0mfn\u001b[0m\u001b[0;34m(\u001b[0m\u001b[0;34m*\u001b[0m\u001b[0margs\u001b[0m\u001b[0;34m,\u001b[0m \u001b[0;34m**\u001b[0m\u001b[0mkwargs\u001b[0m\u001b[0;34m)\u001b[0m\u001b[0;34m\u001b[0m\u001b[0;34m\u001b[0m\u001b[0m\n\u001b[0m\u001b[1;32m    475\u001b[0m \u001b[0;34m\u001b[0m\u001b[0m\n\u001b[1;32m    476\u001b[0m         \u001b[0;32mreturn\u001b[0m \u001b[0mwrapped_fn\u001b[0m\u001b[0;34m\u001b[0m\u001b[0;34m\u001b[0m\u001b[0m\n",
      "\u001b[0;32m~/Documents/Projects/organoid-classification/notebooks/../src/models/lib/lightning_train.py\u001b[0m in \u001b[0;36msetup\u001b[0;34m(self, stage)\u001b[0m\n\u001b[1;32m    156\u001b[0m     \u001b[0;32mdef\u001b[0m \u001b[0msetup\u001b[0m\u001b[0;34m(\u001b[0m\u001b[0mself\u001b[0m\u001b[0;34m,\u001b[0m \u001b[0mstage\u001b[0m\u001b[0;34m:\u001b[0m \u001b[0mOptional\u001b[0m\u001b[0;34m[\u001b[0m\u001b[0mstr\u001b[0m\u001b[0;34m]\u001b[0m \u001b[0;34m=\u001b[0m \u001b[0;32mNone\u001b[0m\u001b[0;34m)\u001b[0m\u001b[0;34m:\u001b[0m\u001b[0;34m\u001b[0m\u001b[0;34m\u001b[0m\u001b[0m\n\u001b[1;32m    157\u001b[0m         \u001b[0mprint\u001b[0m\u001b[0;34m(\u001b[0m\u001b[0;34m'Creating train/val/test DataLoaders...'\u001b[0m\u001b[0;34m)\u001b[0m\u001b[0;34m\u001b[0m\u001b[0;34m\u001b[0m\u001b[0m\n\u001b[0;32m--> 158\u001b[0;31m         trainloader, valloader, testloader = generate_dataloaders(\n\u001b[0m\u001b[1;32m    159\u001b[0m             \u001b[0mdatafiles\u001b[0m\u001b[0;34m=\u001b[0m\u001b[0mself\u001b[0m\u001b[0;34m.\u001b[0m\u001b[0mdatafiles\u001b[0m\u001b[0;34m,\u001b[0m\u001b[0;34m\u001b[0m\u001b[0;34m\u001b[0m\u001b[0m\n\u001b[1;32m    160\u001b[0m             \u001b[0mlabelfiles\u001b[0m\u001b[0;34m=\u001b[0m\u001b[0mself\u001b[0m\u001b[0;34m.\u001b[0m\u001b[0mlabelfiles\u001b[0m\u001b[0;34m,\u001b[0m\u001b[0;34m\u001b[0m\u001b[0;34m\u001b[0m\u001b[0m\n",
      "\u001b[0;32m~/Documents/Projects/organoid-classification/notebooks/../src/models/lib/data.py\u001b[0m in \u001b[0;36mgenerate_dataloaders\u001b[0;34m(datafiles, labelfiles, class_label, collocate, index_col, test_prop, sep, subset, stratify, batch_size, num_workers, *args, **kwargs)\u001b[0m\n\u001b[1;32m    672\u001b[0m     \u001b[0mtrain\u001b[0m\u001b[0;34m,\u001b[0m \u001b[0mval\u001b[0m\u001b[0;34m,\u001b[0m \u001b[0mtest\u001b[0m \u001b[0;34m=\u001b[0m \u001b[0;34m[\u001b[0m\u001b[0;34m]\u001b[0m\u001b[0;34m,\u001b[0m \u001b[0;34m[\u001b[0m\u001b[0;34m]\u001b[0m\u001b[0;34m,\u001b[0m \u001b[0;34m[\u001b[0m\u001b[0;34m]\u001b[0m\u001b[0;34m\u001b[0m\u001b[0;34m\u001b[0m\u001b[0m\n\u001b[1;32m    673\u001b[0m     \u001b[0;32mfor\u001b[0m \u001b[0mdatafile\u001b[0m\u001b[0;34m,\u001b[0m \u001b[0mlabelfile\u001b[0m \u001b[0;32min\u001b[0m \u001b[0mzip\u001b[0m\u001b[0;34m(\u001b[0m\u001b[0mdatafiles\u001b[0m\u001b[0;34m,\u001b[0m \u001b[0mlabelfiles\u001b[0m\u001b[0;34m)\u001b[0m\u001b[0;34m:\u001b[0m\u001b[0;34m\u001b[0m\u001b[0;34m\u001b[0m\u001b[0m\n\u001b[0;32m--> 674\u001b[0;31m         trainloader, valloader, testloader = generate_single_dataloader(\n\u001b[0m\u001b[1;32m    675\u001b[0m             \u001b[0mdatafile\u001b[0m\u001b[0;34m=\u001b[0m\u001b[0mdatafile\u001b[0m\u001b[0;34m,\u001b[0m\u001b[0;34m\u001b[0m\u001b[0;34m\u001b[0m\u001b[0m\n\u001b[1;32m    676\u001b[0m             \u001b[0mlabelfile\u001b[0m\u001b[0;34m=\u001b[0m\u001b[0mlabelfile\u001b[0m\u001b[0;34m,\u001b[0m\u001b[0;34m\u001b[0m\u001b[0;34m\u001b[0m\u001b[0m\n",
      "\u001b[0;32m~/Documents/Projects/organoid-classification/notebooks/../src/models/lib/data.py\u001b[0m in \u001b[0;36mgenerate_single_dataloader\u001b[0;34m(datafile, labelfile, class_label, index_col, test_prop, sep, subset, stratify, batch_size, num_workers, *args, **kwargs)\u001b[0m\n\u001b[1;32m    543\u001b[0m     \"\"\"\n\u001b[1;32m    544\u001b[0m \u001b[0;34m\u001b[0m\u001b[0m\n\u001b[0;32m--> 545\u001b[0;31m     train, val, test = generate_single_dataset(\n\u001b[0m\u001b[1;32m    546\u001b[0m         \u001b[0mdatafile\u001b[0m\u001b[0;34m=\u001b[0m\u001b[0mdatafile\u001b[0m\u001b[0;34m,\u001b[0m\u001b[0;34m\u001b[0m\u001b[0;34m\u001b[0m\u001b[0m\n\u001b[1;32m    547\u001b[0m         \u001b[0mlabelfile\u001b[0m\u001b[0;34m=\u001b[0m\u001b[0mlabelfile\u001b[0m\u001b[0;34m,\u001b[0m\u001b[0;34m\u001b[0m\u001b[0;34m\u001b[0m\u001b[0m\n",
      "\u001b[0;32m~/Documents/Projects/organoid-classification/notebooks/../src/models/lib/data.py\u001b[0m in \u001b[0;36mgenerate_single_dataset\u001b[0;34m(datafile, labelfile, class_label, index_col, test_prop, sep, subset, stratify, *args, **kwargs)\u001b[0m\n\u001b[1;32m    484\u001b[0m \u001b[0;34m\u001b[0m\u001b[0m\n\u001b[1;32m    485\u001b[0m         \u001b[0mdata\u001b[0m \u001b[0;34m=\u001b[0m \u001b[0msc\u001b[0m\u001b[0;34m.\u001b[0m\u001b[0mread_h5ad\u001b[0m\u001b[0;34m(\u001b[0m\u001b[0mdatafile\u001b[0m\u001b[0;34m)\u001b[0m\u001b[0;34m\u001b[0m\u001b[0;34m\u001b[0m\u001b[0m\n\u001b[0;32m--> 486\u001b[0;31m         train, val, test = (\n\u001b[0m\u001b[1;32m    487\u001b[0m             AnnDatasetMatrix(\n\u001b[1;32m    488\u001b[0m                 \u001b[0mmatrix\u001b[0m\u001b[0;34m=\u001b[0m\u001b[0mdata\u001b[0m\u001b[0;34m.\u001b[0m\u001b[0mX\u001b[0m\u001b[0;34m[\u001b[0m\u001b[0msplit\u001b[0m\u001b[0;34m.\u001b[0m\u001b[0mindex\u001b[0m\u001b[0;34m]\u001b[0m\u001b[0;34m,\u001b[0m\u001b[0;34m\u001b[0m\u001b[0;34m\u001b[0m\u001b[0m\n",
      "\u001b[0;32m~/Documents/Projects/organoid-classification/notebooks/../src/models/lib/data.py\u001b[0m in \u001b[0;36m<genexpr>\u001b[0;34m(.0)\u001b[0m\n\u001b[1;32m    486\u001b[0m         train, val, test = (\n\u001b[1;32m    487\u001b[0m             AnnDatasetMatrix(\n\u001b[0;32m--> 488\u001b[0;31m                 \u001b[0mmatrix\u001b[0m\u001b[0;34m=\u001b[0m\u001b[0mdata\u001b[0m\u001b[0;34m.\u001b[0m\u001b[0mX\u001b[0m\u001b[0;34m[\u001b[0m\u001b[0msplit\u001b[0m\u001b[0;34m.\u001b[0m\u001b[0mindex\u001b[0m\u001b[0;34m]\u001b[0m\u001b[0;34m,\u001b[0m\u001b[0;34m\u001b[0m\u001b[0;34m\u001b[0m\u001b[0m\n\u001b[0m\u001b[1;32m    489\u001b[0m                 \u001b[0mlabels\u001b[0m\u001b[0;34m=\u001b[0m\u001b[0msplit\u001b[0m\u001b[0;34m.\u001b[0m\u001b[0mvalues\u001b[0m\u001b[0;34m,\u001b[0m\u001b[0;34m\u001b[0m\u001b[0;34m\u001b[0m\u001b[0m\n\u001b[1;32m    490\u001b[0m                 \u001b[0;34m*\u001b[0m\u001b[0margs\u001b[0m\u001b[0;34m,\u001b[0m\u001b[0;34m\u001b[0m\u001b[0;34m\u001b[0m\u001b[0m\n",
      "\u001b[0;31mKeyboardInterrupt\u001b[0m: "
     ]
    }
   ],
   "source": [
    "module.setup()"
   ]
  },
  {
   "cell_type": "markdown",
   "id": "ab3a8d0c",
   "metadata": {},
   "source": [
    "## Code for slides\n",
    "\n",
    "This doesn't actually compile, lol"
   ]
  },
  {
   "cell_type": "code",
   "execution_count": null,
   "id": "fa5d857d",
   "metadata": {},
   "outputs": [],
   "source": [
    "trainer, model, module = generate_trainer(\n",
    "    datafiles=['dataset_inhibitory.h5ad', 'dataset_excitatory.csv', 'glial_cells.h5ad'],\n",
    "    labelfiles=['inhibitory_labels.csv', 'excitatory_labels.csv', 'glial_labels.csv'],\n",
    "    class_label='cell_type',\n",
    ")\n",
    "\n",
    "trainer.fit(model, datamodule=module)"
   ]
  },
  {
   "cell_type": "code",
   "execution_count": 10,
   "id": "3f408862",
   "metadata": {
    "scrolled": false
   },
   "outputs": [
    {
     "name": "stdout",
     "output_type": "stream",
     "text": [
      "Creating train/val/test DataLoaders...\n",
      "Done, continuing to training.\n"
     ]
    },
    {
     "name": "stderr",
     "output_type": "stream",
     "text": [
      "\u001b[34m\u001b[1mwandb\u001b[0m: Currently logged in as: \u001b[33mjlehrer1\u001b[0m (use `wandb login --relogin` to force relogin)\n"
     ]
    },
    {
     "data": {
      "text/html": [
       "wandb version 0.12.15 is available!  To upgrade, please run:\n",
       " $ pip install wandb --upgrade"
      ],
      "text/plain": [
       "<IPython.core.display.HTML object>"
      ]
     },
     "metadata": {},
     "output_type": "display_data"
    },
    {
     "data": {
      "text/html": [
       "Tracking run with wandb version 0.12.11"
      ],
      "text/plain": [
       "<IPython.core.display.HTML object>"
      ]
     },
     "metadata": {},
     "output_type": "display_data"
    },
    {
     "data": {
      "text/html": [
       "Run data is saved locally in <code>/Users/julian/Documents/Projects/organoid-classification/notebooks/wandb/run-20220427_113218-2i270wmo</code>"
      ],
      "text/plain": [
       "<IPython.core.display.HTML object>"
      ]
     },
     "metadata": {},
     "output_type": "display_data"
    },
    {
     "data": {
      "text/html": [
       "Syncing run <strong><a href=\"https://wandb.ai/jlehrer1/tabnet-classifer-sweep/runs/2i270wmo\" target=\"_blank\">stellar-aardvark-135</a></strong> to <a href=\"https://wandb.ai/jlehrer1/tabnet-classifer-sweep\" target=\"_blank\">Weights & Biases</a> (<a href=\"https://wandb.me/run\" target=\"_blank\">docs</a>)<br/>"
      ],
      "text/plain": [
       "<IPython.core.display.HTML object>"
      ]
     },
     "metadata": {},
     "output_type": "display_data"
    },
    {
     "name": "stderr",
     "output_type": "stream",
     "text": [
      "\n",
      "  | Name       | Type                 | Params\n",
      "----------------------------------------------------\n",
      "0 | base_model | TabNetGeneClassifier | 2.3 M \n",
      "----------------------------------------------------\n",
      "2.3 M     Trainable params\n",
      "0         Non-trainable params\n",
      "2.3 M     Total params\n",
      "9.113     Total estimated model params size (MB)\n"
     ]
    },
    {
     "data": {
      "application/vnd.jupyter.widget-view+json": {
       "model_id": "",
       "version_major": 2,
       "version_minor": 0
      },
      "text/plain": [
       "Validation sanity check: 0it [00:00, ?it/s]"
      ]
     },
     "metadata": {},
     "output_type": "display_data"
    },
    {
     "name": "stderr",
     "output_type": "stream",
     "text": [
      "/Users/julian/miniconda3/envs/base-data-science/lib/python3.9/site-packages/pytorch_lightning/trainer/data_loading.py:453: UserWarning: Your `val_dataloader` has `shuffle=True`,it is strongly recommended that you turn this off for val/test/predict dataloaders.\n",
      "  rank_zero_warn(\n",
      "/Users/julian/miniconda3/envs/base-data-science/lib/python3.9/site-packages/pytorch_lightning/trainer/data_loading.py:111: UserWarning: The dataloader, val_dataloader 0, does not have many workers which may be a bottleneck. Consider increasing the value of the `num_workers` argument` (try 10 which is the number of cpus on this machine) in the `DataLoader` init to improve performance.\n",
      "  rank_zero_warn(\n",
      "/Users/julian/miniconda3/envs/base-data-science/lib/python3.9/site-packages/pytorch_lightning/trainer/data_loading.py:111: UserWarning: The dataloader, train_dataloader, does not have many workers which may be a bottleneck. Consider increasing the value of the `num_workers` argument` (try 10 which is the number of cpus on this machine) in the `DataLoader` init to improve performance.\n",
      "  rank_zero_warn(\n"
     ]
    },
    {
     "data": {
      "application/vnd.jupyter.widget-view+json": {
       "model_id": "cec2873c648d41efad293235aaadd66e",
       "version_major": 2,
       "version_minor": 0
      },
      "text/plain": [
       "Training: 0it [00:00, ?it/s]"
      ]
     },
     "metadata": {},
     "output_type": "display_data"
    },
    {
     "data": {
      "application/vnd.jupyter.widget-view+json": {
       "model_id": "",
       "version_major": 2,
       "version_minor": 0
      },
      "text/plain": [
       "Validating: 0it [00:00, ?it/s]"
      ]
     },
     "metadata": {},
     "output_type": "display_data"
    },
    {
     "data": {
      "application/vnd.jupyter.widget-view+json": {
       "model_id": "",
       "version_major": 2,
       "version_minor": 0
      },
      "text/plain": [
       "Validating: 0it [00:00, ?it/s]"
      ]
     },
     "metadata": {},
     "output_type": "display_data"
    },
    {
     "data": {
      "application/vnd.jupyter.widget-view+json": {
       "model_id": "",
       "version_major": 2,
       "version_minor": 0
      },
      "text/plain": [
       "Validating: 0it [00:00, ?it/s]"
      ]
     },
     "metadata": {},
     "output_type": "display_data"
    },
    {
     "data": {
      "application/vnd.jupyter.widget-view+json": {
       "model_id": "",
       "version_major": 2,
       "version_minor": 0
      },
      "text/plain": [
       "Validating: 0it [00:00, ?it/s]"
      ]
     },
     "metadata": {},
     "output_type": "display_data"
    },
    {
     "name": "stderr",
     "output_type": "stream",
     "text": [
      "wandb: Network error (ReadTimeout), entering retry loop.\n"
     ]
    },
    {
     "data": {
      "application/vnd.jupyter.widget-view+json": {
       "model_id": "",
       "version_major": 2,
       "version_minor": 0
      },
      "text/plain": [
       "Validating: 0it [00:00, ?it/s]"
      ]
     },
     "metadata": {},
     "output_type": "display_data"
    },
    {
     "data": {
      "application/vnd.jupyter.widget-view+json": {
       "model_id": "",
       "version_major": 2,
       "version_minor": 0
      },
      "text/plain": [
       "Validating: 0it [00:00, ?it/s]"
      ]
     },
     "metadata": {},
     "output_type": "display_data"
    },
    {
     "data": {
      "application/vnd.jupyter.widget-view+json": {
       "model_id": "",
       "version_major": 2,
       "version_minor": 0
      },
      "text/plain": [
       "Validating: 0it [00:00, ?it/s]"
      ]
     },
     "metadata": {},
     "output_type": "display_data"
    },
    {
     "data": {
      "application/vnd.jupyter.widget-view+json": {
       "model_id": "",
       "version_major": 2,
       "version_minor": 0
      },
      "text/plain": [
       "Validating: 0it [00:00, ?it/s]"
      ]
     },
     "metadata": {},
     "output_type": "display_data"
    },
    {
     "data": {
      "application/vnd.jupyter.widget-view+json": {
       "model_id": "",
       "version_major": 2,
       "version_minor": 0
      },
      "text/plain": [
       "Validating: 0it [00:00, ?it/s]"
      ]
     },
     "metadata": {},
     "output_type": "display_data"
    },
    {
     "data": {
      "application/vnd.jupyter.widget-view+json": {
       "model_id": "",
       "version_major": 2,
       "version_minor": 0
      },
      "text/plain": [
       "Validating: 0it [00:00, ?it/s]"
      ]
     },
     "metadata": {},
     "output_type": "display_data"
    },
    {
     "data": {
      "application/vnd.jupyter.widget-view+json": {
       "model_id": "",
       "version_major": 2,
       "version_minor": 0
      },
      "text/plain": [
       "Validating: 0it [00:00, ?it/s]"
      ]
     },
     "metadata": {},
     "output_type": "display_data"
    },
    {
     "data": {
      "application/vnd.jupyter.widget-view+json": {
       "model_id": "",
       "version_major": 2,
       "version_minor": 0
      },
      "text/plain": [
       "Validating: 0it [00:00, ?it/s]"
      ]
     },
     "metadata": {},
     "output_type": "display_data"
    },
    {
     "data": {
      "application/vnd.jupyter.widget-view+json": {
       "model_id": "",
       "version_major": 2,
       "version_minor": 0
      },
      "text/plain": [
       "Validating: 0it [00:00, ?it/s]"
      ]
     },
     "metadata": {},
     "output_type": "display_data"
    },
    {
     "data": {
      "application/vnd.jupyter.widget-view+json": {
       "model_id": "",
       "version_major": 2,
       "version_minor": 0
      },
      "text/plain": [
       "Validating: 0it [00:00, ?it/s]"
      ]
     },
     "metadata": {},
     "output_type": "display_data"
    },
    {
     "data": {
      "application/vnd.jupyter.widget-view+json": {
       "model_id": "",
       "version_major": 2,
       "version_minor": 0
      },
      "text/plain": [
       "Validating: 0it [00:00, ?it/s]"
      ]
     },
     "metadata": {},
     "output_type": "display_data"
    },
    {
     "data": {
      "application/vnd.jupyter.widget-view+json": {
       "model_id": "",
       "version_major": 2,
       "version_minor": 0
      },
      "text/plain": [
       "Validating: 0it [00:00, ?it/s]"
      ]
     },
     "metadata": {},
     "output_type": "display_data"
    },
    {
     "data": {
      "application/vnd.jupyter.widget-view+json": {
       "model_id": "",
       "version_major": 2,
       "version_minor": 0
      },
      "text/plain": [
       "Validating: 0it [00:00, ?it/s]"
      ]
     },
     "metadata": {},
     "output_type": "display_data"
    },
    {
     "name": "stderr",
     "output_type": "stream",
     "text": [
      "/Users/julian/miniconda3/envs/base-data-science/lib/python3.9/site-packages/pytorch_lightning/trainer/trainer.py:685: UserWarning: Detected KeyboardInterrupt, attempting graceful shutdown...\n",
      "  rank_zero_warn(\"Detected KeyboardInterrupt, attempting graceful shutdown...\")\n"
     ]
    }
   ],
   "source": [
    "trainer.fit(model, datamodule=module)"
   ]
  },
  {
   "cell_type": "markdown",
   "id": "8398e587",
   "metadata": {},
   "source": [
    "# Mouse Model training code using lib.lightning_data"
   ]
  },
  {
   "cell_type": "code",
   "execution_count": 22,
   "id": "c00475cd",
   "metadata": {},
   "outputs": [
    {
     "data": {
      "text/html": [
       "<div>\n",
       "<style scoped>\n",
       "    .dataframe tbody tr th:only-of-type {\n",
       "        vertical-align: middle;\n",
       "    }\n",
       "\n",
       "    .dataframe tbody tr th {\n",
       "        vertical-align: top;\n",
       "    }\n",
       "\n",
       "    .dataframe thead th {\n",
       "        text-align: right;\n",
       "    }\n",
       "</style>\n",
       "<table border=\"1\" class=\"dataframe\">\n",
       "  <thead>\n",
       "    <tr style=\"text-align: right;\">\n",
       "      <th></th>\n",
       "      <th>class</th>\n",
       "      <th>numeric_class</th>\n",
       "    </tr>\n",
       "  </thead>\n",
       "  <tbody>\n",
       "    <tr>\n",
       "      <th>0</th>\n",
       "      <td>S-phase_MCM4/H43C</td>\n",
       "      <td>36</td>\n",
       "    </tr>\n",
       "    <tr>\n",
       "      <th>1</th>\n",
       "      <td>S-phase_MCM4/H43C</td>\n",
       "      <td>36</td>\n",
       "    </tr>\n",
       "    <tr>\n",
       "      <th>2</th>\n",
       "      <td>Ctx_LHX6/SST</td>\n",
       "      <td>9</td>\n",
       "    </tr>\n",
       "    <tr>\n",
       "      <th>3</th>\n",
       "      <td>Str_LHX8/CHAT</td>\n",
       "      <td>40</td>\n",
       "    </tr>\n",
       "    <tr>\n",
       "      <th>4</th>\n",
       "      <td>Str_LHX8/CHAT</td>\n",
       "      <td>40</td>\n",
       "    </tr>\n",
       "    <tr>\n",
       "      <th>...</th>\n",
       "      <td>...</td>\n",
       "      <td>...</td>\n",
       "    </tr>\n",
       "    <tr>\n",
       "      <th>141064</th>\n",
       "      <td>S-phase_MCM4/H43C</td>\n",
       "      <td>36</td>\n",
       "    </tr>\n",
       "    <tr>\n",
       "      <th>141065</th>\n",
       "      <td>Transition</td>\n",
       "      <td>41</td>\n",
       "    </tr>\n",
       "    <tr>\n",
       "      <th>141066</th>\n",
       "      <td>Transition</td>\n",
       "      <td>41</td>\n",
       "    </tr>\n",
       "    <tr>\n",
       "      <th>141067</th>\n",
       "      <td>S-phase_MCM4/H43C</td>\n",
       "      <td>36</td>\n",
       "    </tr>\n",
       "    <tr>\n",
       "      <th>141068</th>\n",
       "      <td>S-phase_MCM4/H43C</td>\n",
       "      <td>36</td>\n",
       "    </tr>\n",
       "  </tbody>\n",
       "</table>\n",
       "<p>141069 rows × 2 columns</p>\n",
       "</div>"
      ],
      "text/plain": [
       "                    class  numeric_class\n",
       "0       S-phase_MCM4/H43C             36\n",
       "1       S-phase_MCM4/H43C             36\n",
       "2            Ctx_LHX6/SST              9\n",
       "3           Str_LHX8/CHAT             40\n",
       "4           Str_LHX8/CHAT             40\n",
       "...                   ...            ...\n",
       "141064  S-phase_MCM4/H43C             36\n",
       "141065         Transition             41\n",
       "141066         Transition             41\n",
       "141067  S-phase_MCM4/H43C             36\n",
       "141068  S-phase_MCM4/H43C             36\n",
       "\n",
       "[141069 rows x 2 columns]"
      ]
     },
     "execution_count": 22,
     "metadata": {},
     "output_type": "execute_result"
    }
   ],
   "source": [
    "labelfile = '../data/mouse/MouseAdultInhibitoryNeurons_labels.csv'\n",
    "label_df = pd.read_csv(labelfile)\n",
    "\n",
    "\n",
    "label_df"
   ]
  },
  {
   "cell_type": "code",
   "execution_count": null,
   "id": "2ddba099",
   "metadata": {},
   "outputs": [],
   "source": [
    "test_prop=0.2\n",
    "# trainsplit, valsplit = train_test_split(current_labels, stratify=current_labels, test_size=test_prop)\n",
    "# trainsplit, testsplit = train_test_split(trainsplit, stratify=trainsplit, test_size=test_prop)\n",
    "\n",
    "\n",
    "# trainsplit.index"
   ]
  },
  {
   "cell_type": "code",
   "execution_count": 23,
   "id": "4f766876",
   "metadata": {},
   "outputs": [
    {
     "data": {
      "text/plain": [
       "<models.lib.lightning_train.DataModule at 0x7f81f008e1f0>"
      ]
     },
     "execution_count": 23,
     "metadata": {},
     "output_type": "execute_result"
    }
   ],
   "source": [
    "module = DataModule(\n",
    "    datafiles=['../data/mouse/MouseAdultInhibitoryNeurons.h5ad'],\n",
    "    labelfiles=['../data/mouse/MouseAdultInhibitoryNeurons_labels.csv'],\n",
    "    class_label='numeric_class',\n",
    "    collocate=False,\n",
    "    batch_size=4,\n",
    "    num_workers=0,\n",
    "    refgenes=refgenes,\n",
    "    currgenes=g2,\n",
    ")\n",
    "\n",
    "module"
   ]
  },
  {
   "cell_type": "code",
   "execution_count": null,
   "id": "0e79b736",
   "metadata": {
    "scrolled": false
   },
   "outputs": [
    {
     "name": "stdout",
     "output_type": "stream",
     "text": [
      "Creating train/val/test DataLoaders...\n"
     ]
    },
    {
     "name": "stderr",
     "output_type": "stream",
     "text": [
      "/Users/julian/Documents/Projects/organoid-classification/notebooks/../src/models/lib/data.py:601: UserWarning: collocate =False, so multiple files will return multiple DataLoaders and cannot be trained sequentially with PyTorch-Lightning\n",
      "  warnings.warn(f\"{collocate =}, so multiple files will return multiple DataLoaders and cannot be trained sequentially with PyTorch-Lightning\")\n"
     ]
    }
   ],
   "source": [
    "module.setup()"
   ]
  },
  {
   "cell_type": "code",
   "execution_count": null,
   "id": "6e345a8f",
   "metadata": {},
   "outputs": [],
   "source": [
    "train = module.train_dataloader()\n",
    "\n",
    "print(next(iter(train)))"
   ]
  },
  {
   "cell_type": "code",
   "execution_count": null,
   "id": "5a126b1a",
   "metadata": {},
   "outputs": [],
   "source": [
    "train = DataLoader(atlas_train, batch_size=4, num_workers=0, drop_last=True, shuffle=True)\n",
    "val = DataLoader(atlas_val, batch_size=4, num_workers=0, drop_last=True, shuffle=False)"
   ]
  },
  {
   "cell_type": "code",
   "execution_count": null,
   "id": "09338062",
   "metadata": {
    "scrolled": true
   },
   "outputs": [],
   "source": [
    "# from models.lib.neural import GeneClassifier\n",
    "# from pytorch_lightning import Trainer \n",
    "# from pytorch_lightning.loggers import WandbLogger\n",
    "\n",
    "# model = GeneClassifier(\n",
    "#     input_dim=34430, \n",
    "#     output_dim=50,\n",
    "#     optim_params={\n",
    "#         'optimizer': torch.optim.Adam,\n",
    "#         'lr': 3e-4,\n",
    "#     }\n",
    "# )\n",
    "\n",
    "# wandb_logger = WandbLogger(project='Mouse Classifier', name='Tabnet with Metrics')\n",
    "# trainer = Trainer(logger=wandb_logger)\n",
    "\n",
    "# trainer.fit(model, train, val)"
   ]
  },
  {
   "cell_type": "code",
   "execution_count": null,
   "id": "50b87ee6",
   "metadata": {},
   "outputs": [],
   "source": [
    "def gene_intersection(\n",
    "    files\n",
    "):\n",
    "    import dask.dataframe as dd \n",
    "    \n",
    "    cols = []\n",
    "    for file in files:\n",
    "        temp = pd.read_csv(fpath, nrows=1, header=1).columns \n",
    "        temp = [x.split('|')[0].upper().strip() for x in temp]\n",
    "        cols.append(set(temp))\n",
    "    \n",
    "    unique = list(set.intersection(*cols))\n",
    "    unique = sorted(unique)\n",
    "    \n",
    "    return unique "
   ]
  },
  {
   "cell_type": "code",
   "execution_count": null,
   "id": "3f7f8e0c",
   "metadata": {},
   "outputs": [],
   "source": []
  },
  {
   "cell_type": "code",
   "execution_count": null,
   "id": "807b699d",
   "metadata": {},
   "outputs": [],
   "source": []
  },
  {
   "cell_type": "code",
   "execution_count": null,
   "id": "5097f759",
   "metadata": {},
   "outputs": [],
   "source": []
  },
  {
   "cell_type": "code",
   "execution_count": null,
   "id": "e737ca20",
   "metadata": {},
   "outputs": [],
   "source": []
  },
  {
   "cell_type": "code",
   "execution_count": null,
   "id": "5110b485",
   "metadata": {
    "scrolled": false
   },
   "outputs": [],
   "source": [
    "generate_single_dataset(\n",
    "    datafile='../data/mouse/MouseAdultInhibitoryNeurons.h5ad',\n",
    "    labelfile='../data/mouse/Adult Inhibitory Neurons in Mouse_labels.tsv',\n",
    "    class_label='numeric_class',\n",
    "    sep='\\t'\n",
    ")"
   ]
  },
  {
   "cell_type": "code",
   "execution_count": null,
   "id": "0ee0b945",
   "metadata": {},
   "outputs": [],
   "source": []
  }
 ],
 "metadata": {
  "kernelspec": {
   "display_name": "Python [conda env:single-cell] *",
   "language": "python",
   "name": "conda-env-single-cell-py"
  },
  "language_info": {
   "codemirror_mode": {
    "name": "ipython",
    "version": 3
   },
   "file_extension": ".py",
   "mimetype": "text/x-python",
   "name": "python",
   "nbconvert_exporter": "python",
   "pygments_lexer": "ipython3",
   "version": "3.9.12"
  }
 },
 "nbformat": 4,
 "nbformat_minor": 5
}
