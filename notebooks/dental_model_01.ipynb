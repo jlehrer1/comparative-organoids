{
 "cells": [
  {
   "cell_type": "code",
   "execution_count": 8,
   "id": "3faebf54",
   "metadata": {},
   "outputs": [],
   "source": [
    "import pandas as pd \n",
    "import numpy as np \n",
    "import anndata as an \n",
    "import sys, os \n",
    "sys.path.append('../src')\n",
    "\n",
    "import sys\n",
    "import os\n",
    "import pathlib \n",
    "from typing import *\n",
    "\n",
    "import torch\n",
    "import numpy as np \n",
    "import pandas as pd \n",
    "import anndata as an\n",
    "from functools import cached_property\n",
    "\n",
    "import pytorch_lightning as pl\n",
    "from pytorch_lightning.loggers import WandbLogger\n",
    "from pytorch_lightning.callbacks.early_stopping import EarlyStopping\n",
    "from sklearn.preprocessing import LabelEncoder \n",
    "\n",
    "from models.lib.data import *\n",
    "from models.lib.lightning_train import *\n",
    "from data.downloaders.external_download import *"
   ]
  },
  {
   "cell_type": "code",
   "execution_count": 21,
   "id": "6f7f4b2b",
   "metadata": {},
   "outputs": [],
   "source": [
    "class TESTMODULE(pl.LightningDataModule):\n",
    "    def __init__(\n",
    "        self, \n",
    "        class_label: str,\n",
    "        datafiles: List[str]=None,\n",
    "        labelfiles: List[str]=None,\n",
    "        urls: Dict[str, List[str]]=None,\n",
    "        unzip: bool=False,\n",
    "        sep: str='\\t',\n",
    "        datapath: str=None,\n",
    "        is_assumed_numeric: bool=True,\n",
    "        *args,\n",
    "        **kwargs,\n",
    "    ):\n",
    "        super().__init__()\n",
    "\n",
    "        if urls is not None and datafiles is not None or urls is not None and labelfiles is not None:\n",
    "            raise ValueError(\"Either a dictionary of data to download, or paths to datafiles and labelfiles are supported, but not both.\")\n",
    "\n",
    "        self.class_label = class_label\n",
    "        self.datafiles = datafiles \n",
    "        self.labelfiles = labelfiles \n",
    "\n",
    "        self.urls = urls \n",
    "        self.unzip = unzip \n",
    "        self.sep = sep \n",
    "        self.datapath = (\n",
    "            datapath if datapath is not None else join(here, '..', '..', '..', 'data', 'raw')\n",
    "        )\n",
    "        \n",
    "        self.is_assumed_numeric = is_assumed_numeric\n",
    "\n",
    "        self.args = args \n",
    "        self.kwargs = kwargs\n",
    "        \n",
    "    def prepare_data(self):\n",
    "        if self.urls is not None:\n",
    "            download_raw_expression_matrices(\n",
    "                self.urls,\n",
    "                unzip=self.unzip,\n",
    "                sep=self.sep,\n",
    "                datapath=self.datapath,\n",
    "            )\n",
    "        \n",
    "        if not self.is_assumed_numeric:\n",
    "            if self.urls is not None:\n",
    "                # Since we specifically formulated this download format in download_raw_expression_matrices\n",
    "                labelfiles = [join(self.datapath, f'labels_{file}') for file in self.urls.keys()]\n",
    "            else:\n",
    "                labelfiles = self.labelfiles \n",
    "            \n",
    "            unique_targets = list(\n",
    "                set(np.concatenate([pd.read_csv(df, sep=self.sep).loc[:, self.class_label].unique() for df in labelfiles]))\n",
    "            )\n",
    "            \n",
    "            le = LabelEncoder()\n",
    "            le = le.fit(unique_targets)\n",
    "            \n",
    "            for file in labelfiles:\n",
    "                labels = pd.read_csv(file, sep=self.sep)\n",
    "\n",
    "                labels = labels.rename(\n",
    "                    columns={\n",
    "                        self.class_label: f'categorical_{self.class_label}'\n",
    "                    }\n",
    "                )\n",
    "                \n",
    "                display(labels)\n",
    "                \n",
    "                labels.loc[:, self.class_label] = le.transform(\n",
    "                    labels.loc[:,f'categorical_{self.class_label}']\n",
    "                )\n",
    "\n",
    "                labels.to_csv(file, index=False) # Don't need to re-index here "
   ]
  },
  {
   "cell_type": "code",
   "execution_count": 22,
   "id": "fa55f28a",
   "metadata": {},
   "outputs": [],
   "source": [
    "urls = {\n",
    "    'human_dental.tsv': [\n",
    "        'https://cells.ucsc.edu/dental-cells/human-adult-molars/exprMatrix.tsv.gz',\n",
    "        'https://cells.ucsc.edu/dental-cells/human-adult-molars/meta.tsv'\n",
    "    ]\n",
    "}\n",
    "\n",
    "module = TESTMODULE(\n",
    "    urls=urls,\n",
    "    class_label='cell_type',\n",
    "    is_assumed_numeric=False,\n",
    ")"
   ]
  },
  {
   "cell_type": "code",
   "execution_count": 23,
   "id": "96e1ea9a",
   "metadata": {
    "scrolled": false
   },
   "outputs": [
    {
     "name": "stdout",
     "output_type": "stream",
     "text": [
      "https://cells.ucsc.edu/dental-cells/human-adult-molars/exprMatrix.tsv.gz https://cells.ucsc.edu/dental-cells/human-adult-molars/meta.tsv\n"
     ]
    },
    {
     "data": {
      "text/html": [
       "<div>\n",
       "<style scoped>\n",
       "    .dataframe tbody tr th:only-of-type {\n",
       "        vertical-align: middle;\n",
       "    }\n",
       "\n",
       "    .dataframe tbody tr th {\n",
       "        vertical-align: top;\n",
       "    }\n",
       "\n",
       "    .dataframe thead th {\n",
       "        text-align: right;\n",
       "    }\n",
       "</style>\n",
       "<table border=\"1\" class=\"dataframe\">\n",
       "  <thead>\n",
       "    <tr style=\"text-align: right;\">\n",
       "      <th></th>\n",
       "      <th>cell_id</th>\n",
       "      <th>cluster</th>\n",
       "      <th>categorical_cell_type</th>\n",
       "      <th>cluster_celltype</th>\n",
       "      <th>sample_source</th>\n",
       "    </tr>\n",
       "  </thead>\n",
       "  <tbody>\n",
       "    <tr>\n",
       "      <th>0</th>\n",
       "      <td>human_germinectomy_1_one_AAACCTGTCAACTCTT-1</td>\n",
       "      <td>5</td>\n",
       "      <td>pulp</td>\n",
       "      <td>5 - pulp</td>\n",
       "      <td>human_germinectomy</td>\n",
       "    </tr>\n",
       "    <tr>\n",
       "      <th>1</th>\n",
       "      <td>human_germinectomy_1_one_AAACGGGCATTGCGGC-1</td>\n",
       "      <td>5</td>\n",
       "      <td>pulp</td>\n",
       "      <td>5 - pulp</td>\n",
       "      <td>human_germinectomy</td>\n",
       "    </tr>\n",
       "    <tr>\n",
       "      <th>2</th>\n",
       "      <td>human_germinectomy_1_one_AAACGGGGTGCCTGTG-1</td>\n",
       "      <td>13</td>\n",
       "      <td>pulp</td>\n",
       "      <td>13 - pulp</td>\n",
       "      <td>human_germinectomy</td>\n",
       "    </tr>\n",
       "    <tr>\n",
       "      <th>3</th>\n",
       "      <td>human_germinectomy_1_one_AAAGATGTCACTCTTA-1</td>\n",
       "      <td>9</td>\n",
       "      <td>pulp</td>\n",
       "      <td>9 - pulp</td>\n",
       "      <td>human_germinectomy</td>\n",
       "    </tr>\n",
       "    <tr>\n",
       "      <th>4</th>\n",
       "      <td>human_germinectomy_1_one_AAAGCAACAACCGCCA-1</td>\n",
       "      <td>15</td>\n",
       "      <td>other immune cells</td>\n",
       "      <td>15 - other immune cells</td>\n",
       "      <td>human_germinectomy</td>\n",
       "    </tr>\n",
       "    <tr>\n",
       "      <th>...</th>\n",
       "      <td>...</td>\n",
       "      <td>...</td>\n",
       "      <td>...</td>\n",
       "      <td>...</td>\n",
       "      <td>...</td>\n",
       "    </tr>\n",
       "    <tr>\n",
       "      <th>41668</th>\n",
       "      <td>No5_24_yo_healthy_retained_one_TTTGTTGGTCGTCATA-1</td>\n",
       "      <td>1</td>\n",
       "      <td>pulp</td>\n",
       "      <td>1 - pulp</td>\n",
       "      <td>No5_24_yo_healthy_retained</td>\n",
       "    </tr>\n",
       "    <tr>\n",
       "      <th>41669</th>\n",
       "      <td>No5_24_yo_healthy_retained_one_TTTGTTGGTCTGTGCG-1</td>\n",
       "      <td>7</td>\n",
       "      <td>glial</td>\n",
       "      <td>7 - glial</td>\n",
       "      <td>No5_24_yo_healthy_retained</td>\n",
       "    </tr>\n",
       "    <tr>\n",
       "      <th>41670</th>\n",
       "      <td>No5_24_yo_healthy_retained_one_TTTGTTGGTTATGTCG-1</td>\n",
       "      <td>9</td>\n",
       "      <td>pulp</td>\n",
       "      <td>9 - pulp</td>\n",
       "      <td>No5_24_yo_healthy_retained</td>\n",
       "    </tr>\n",
       "    <tr>\n",
       "      <th>41671</th>\n",
       "      <td>No5_24_yo_healthy_retained_one_TTTGTTGTCGCAGTTA-1</td>\n",
       "      <td>9</td>\n",
       "      <td>pulp</td>\n",
       "      <td>9 - pulp</td>\n",
       "      <td>No5_24_yo_healthy_retained</td>\n",
       "    </tr>\n",
       "    <tr>\n",
       "      <th>41672</th>\n",
       "      <td>No5_24_yo_healthy_retained_one_TTTGTTGTCGGTTCAA-1</td>\n",
       "      <td>1</td>\n",
       "      <td>pulp</td>\n",
       "      <td>1 - pulp</td>\n",
       "      <td>No5_24_yo_healthy_retained</td>\n",
       "    </tr>\n",
       "  </tbody>\n",
       "</table>\n",
       "<p>41673 rows × 5 columns</p>\n",
       "</div>"
      ],
      "text/plain": [
       "                                                 cell_id  cluster  \\\n",
       "0            human_germinectomy_1_one_AAACCTGTCAACTCTT-1        5   \n",
       "1            human_germinectomy_1_one_AAACGGGCATTGCGGC-1        5   \n",
       "2            human_germinectomy_1_one_AAACGGGGTGCCTGTG-1       13   \n",
       "3            human_germinectomy_1_one_AAAGATGTCACTCTTA-1        9   \n",
       "4            human_germinectomy_1_one_AAAGCAACAACCGCCA-1       15   \n",
       "...                                                  ...      ...   \n",
       "41668  No5_24_yo_healthy_retained_one_TTTGTTGGTCGTCATA-1        1   \n",
       "41669  No5_24_yo_healthy_retained_one_TTTGTTGGTCTGTGCG-1        7   \n",
       "41670  No5_24_yo_healthy_retained_one_TTTGTTGGTTATGTCG-1        9   \n",
       "41671  No5_24_yo_healthy_retained_one_TTTGTTGTCGCAGTTA-1        9   \n",
       "41672  No5_24_yo_healthy_retained_one_TTTGTTGTCGGTTCAA-1        1   \n",
       "\n",
       "      categorical_cell_type         cluster_celltype  \\\n",
       "0                      pulp                 5 - pulp   \n",
       "1                      pulp                 5 - pulp   \n",
       "2                      pulp                13 - pulp   \n",
       "3                      pulp                 9 - pulp   \n",
       "4        other immune cells  15 - other immune cells   \n",
       "...                     ...                      ...   \n",
       "41668                  pulp                 1 - pulp   \n",
       "41669                 glial                7 - glial   \n",
       "41670                  pulp                 9 - pulp   \n",
       "41671                  pulp                 9 - pulp   \n",
       "41672                  pulp                 1 - pulp   \n",
       "\n",
       "                    sample_source  \n",
       "0              human_germinectomy  \n",
       "1              human_germinectomy  \n",
       "2              human_germinectomy  \n",
       "3              human_germinectomy  \n",
       "4              human_germinectomy  \n",
       "...                           ...  \n",
       "41668  No5_24_yo_healthy_retained  \n",
       "41669  No5_24_yo_healthy_retained  \n",
       "41670  No5_24_yo_healthy_retained  \n",
       "41671  No5_24_yo_healthy_retained  \n",
       "41672  No5_24_yo_healthy_retained  \n",
       "\n",
       "[41673 rows x 5 columns]"
      ]
     },
     "metadata": {},
     "output_type": "display_data"
    }
   ],
   "source": [
    "module.prepare_data()"
   ]
  },
  {
   "cell_type": "code",
   "execution_count": 5,
   "id": "f1f83085",
   "metadata": {},
   "outputs": [
    {
     "ename": "SyntaxError",
     "evalue": "cannot assign to operator (4255437041.py, line 1)",
     "output_type": "error",
     "traceback": [
      "\u001b[0;36m  File \u001b[0;32m\"/var/folders/pd/jsjcl0fn7w57s5mfr34b20pm0000gn/T/ipykernel_93840/4255437041.py\"\u001b[0;36m, line \u001b[0;32m1\u001b[0m\n\u001b[0;31m    [i for i+1 in range(10)]\u001b[0m\n\u001b[0m           ^\u001b[0m\n\u001b[0;31mSyntaxError\u001b[0m\u001b[0;31m:\u001b[0m cannot assign to operator\n"
     ]
    }
   ],
   "source": []
  },
  {
   "cell_type": "code",
   "execution_count": 14,
   "id": "2cb536eb",
   "metadata": {},
   "outputs": [
    {
     "data": {
      "text/plain": [
       "'test'"
      ]
     },
     "execution_count": 14,
     "metadata": {},
     "output_type": "execute_result"
    }
   ],
   "source": [
    "import pathlib \n",
    "\n",
    "pathlib.Path('test.csv').stem"
   ]
  },
  {
   "cell_type": "code",
   "execution_count": 20,
   "id": "ed278062",
   "metadata": {},
   "outputs": [],
   "source": [
    "from sklearn.preprocessing import LabelEncoder\n",
    "\n",
    "le = LabelEncoder()"
   ]
  },
  {
   "cell_type": "code",
   "execution_count": 21,
   "id": "ffff0ea8",
   "metadata": {},
   "outputs": [
    {
     "data": {
      "text/plain": [
       "1    4\n",
       "2    5\n",
       "3    6\n",
       "dtype: int64"
      ]
     },
     "execution_count": 21,
     "metadata": {},
     "output_type": "execute_result"
    }
   ],
   "source": [
    "t = pd.Series([4,5,6], [1,2,3])\n",
    "t"
   ]
  },
  {
   "cell_type": "code",
   "execution_count": 22,
   "id": "75c052bd",
   "metadata": {},
   "outputs": [
    {
     "data": {
      "text/plain": [
       "array([0, 1, 2])"
      ]
     },
     "execution_count": 22,
     "metadata": {},
     "output_type": "execute_result"
    }
   ],
   "source": [
    "le.fit_transform(t)"
   ]
  },
  {
   "cell_type": "code",
   "execution_count": null,
   "id": "6033f565",
   "metadata": {},
   "outputs": [],
   "source": []
  }
 ],
 "metadata": {
  "kernelspec": {
   "display_name": "Python [conda env:base-data-science]",
   "language": "python",
   "name": "conda-env-base-data-science-py"
  },
  "language_info": {
   "codemirror_mode": {
    "name": "ipython",
    "version": 3
   },
   "file_extension": ".py",
   "mimetype": "text/x-python",
   "name": "python",
   "nbconvert_exporter": "python",
   "pygments_lexer": "ipython3",
   "version": "3.9.7"
  }
 },
 "nbformat": 4,
 "nbformat_minor": 5
}
