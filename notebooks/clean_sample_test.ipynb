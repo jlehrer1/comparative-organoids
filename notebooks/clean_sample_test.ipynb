{
 "cells": [
  {
   "cell_type": "markdown",
   "id": "ec5ff669",
   "metadata": {},
   "source": [
    "# Sample intersection between genomes, function test code \n",
    "\n",
    "In this notebook, we'll test our the sample intersection code to make sure it's functioning properly, since it's essential for training/testing with multiple datasets"
   ]
  },
  {
   "cell_type": "code",
   "execution_count": 1,
   "id": "a997b07b",
   "metadata": {},
   "outputs": [
    {
     "name": "stderr",
     "output_type": "stream",
     "text": [
      "/Users/julian/miniconda3/envs/single-cell/lib/python3.9/site-packages/tqdm/auto.py:22: TqdmWarning: IProgress not found. Please update jupyter and ipywidgets. See https://ipywidgets.readthedocs.io/en/stable/user_install.html\n",
      "  from .autonotebook import tqdm as notebook_tqdm\n"
     ]
    }
   ],
   "source": [
    "import numpy as np\n",
    "import anndata as an\n",
    "import pandas as pd \n",
    "import torch\n",
    "from typing import *\n",
    "import matplotlib.pyplot as plt \n",
    "\n"
   ]
  },
  {
   "cell_type": "code",
   "execution_count": 2,
   "id": "5edf98f5",
   "metadata": {},
   "outputs": [],
   "source": [
    "def test_clean_sample(\n",
    "    sample: torch.Tensor,\n",
    "    refgenes: List[str],\n",
    "    currgenes: List[str],\n",
    ") -> torch.Tensor:\n",
    "    \n",
    "    intersection = np.intersect1d(currgenes, refgenes, return_indices=True)\n",
    "    indices = intersection[1] # List of indices in sorted(currgenes) that equal sorted(refgenes)\n",
    "    \n",
    "    axis = (1 if sample.ndim == 2 else 0)\n",
    "    sample = np.sort(sample, axis=axis)\n",
    "    sample = np.take(sample, indices, axis=axis)\n",
    "\n",
    "    return sample"
   ]
  },
  {
   "cell_type": "markdown",
   "id": "b07a86ae",
   "metadata": {},
   "source": [
    "Let's write a bunch of tests!"
   ]
  },
  {
   "cell_type": "code",
   "execution_count": 3,
   "id": "b9dabca7",
   "metadata": {},
   "outputs": [],
   "source": [
    "refgenes = ['a', 'b', 'c', 'd']\n",
    "currgenes = ['a', 'b', 'c']\n",
    "\n",
    "sample = np.array([1,2,3])\n",
    "\n",
    "res = test_clean_sample(sample, refgenes, currgenes)\n",
    "\n",
    "assert all(res == np.array([1,2,3]))"
   ]
  },
  {
   "cell_type": "code",
   "execution_count": 4,
   "id": "380f136b",
   "metadata": {},
   "outputs": [],
   "source": [
    "refgenes = ['a', 'c', 'd']\n",
    "currgenes = ['a', 'b', 'c', 'd', 'e']\n",
    "\n",
    "sample = np.array([1,2,3,4,5])\n",
    "\n",
    "res = test_clean_sample(sample, refgenes, currgenes)\n",
    "\n",
    "assert all(res == np.array([1,3,4]))"
   ]
  },
  {
   "cell_type": "code",
   "execution_count": 5,
   "id": "f5a0d46c",
   "metadata": {},
   "outputs": [],
   "source": [
    "refgenes = ['c', 'a', 'd', 'b']\n",
    "currgenes = ['a', 'b', 'c', 'd', 'e']\n",
    "\n",
    "sample = np.array([1,2,3,4,5])\n",
    "\n",
    "res = test_clean_sample(sample, refgenes, currgenes)\n",
    "\n",
    "assert all(res == np.array([1,2,3,4]))"
   ]
  },
  {
   "cell_type": "markdown",
   "id": "b73e050e",
   "metadata": {},
   "source": [
    "## Testing the entire pipeline\n",
    "\n",
    "Now, let's generate some synethic data and make sure the refgenes and currgenes are recapitulated through a DataLoader with our custom DataModule."
   ]
  },
  {
   "cell_type": "code",
   "execution_count": 6,
   "id": "1742d20e",
   "metadata": {},
   "outputs": [],
   "source": [
    "import pandas as pd \n",
    "import sys\n",
    "\n",
    "sys.path.append('../src')\n",
    "from models.lib.neural import *\n",
    "from models.lib.lightning_train import *\n",
    "from models.lib.train import *"
   ]
  },
  {
   "cell_type": "markdown",
   "id": "1c8b5173",
   "metadata": {},
   "source": [
    "We'll create a two dummy csv files to calculate the intersection of, then run these through the DataLoader pipeline and make sure the output is as expected."
   ]
  },
  {
   "cell_type": "code",
   "execution_count": 53,
   "id": "eae57bd3",
   "metadata": {
    "scrolled": true
   },
   "outputs": [
    {
     "data": {
      "text/plain": [
       "['a', 'd', 'b']"
      ]
     },
     "execution_count": 53,
     "metadata": {},
     "output_type": "execute_result"
    }
   ],
   "source": [
    "def create_dummy_data(columns, n=25, name=None):\n",
    "    index = list(range(n))\n",
    "    df = pd.DataFrame(index=index, columns=columns)\n",
    "    \n",
    "    for idx, col in enumerate(columns):\n",
    "        df.loc[:, col] = [idx]*n\n",
    "    \n",
    "    if name is not None:\n",
    "        df.to_csv(name, index=False)\n",
    "        \n",
    "    return df\n",
    "\n",
    "def create_dummy_label(k=1, n=25, name=None):\n",
    "    index = list(range(n))\n",
    "    df = pd.DataFrame(index=index, columns=['label'])\n",
    "    \n",
    "    for i in index:\n",
    "        df.loc[i, :] = k\n",
    "    \n",
    "    if name is not None:\n",
    "        df.to_csv(name, index=False)\n",
    "        \n",
    "    return df\n",
    "\n",
    "curr_df = create_dummy_data(['a', 'b', 'c', 'd'], name='curr_test.csv')\n",
    "ref_df = create_dummy_data(['a', 'd', 'b'], name='ref_test.csv')\n",
    "\n",
    "curr_labels = create_dummy_label(k=0, name='label_curr_test.csv')\n",
    "ref_labels = create_dummy_label(k=1, name='label_curr_test.csv')\n",
    "\n",
    "refgenes = list(set(ref_df.columns).intersection(curr_df.columns))\n",
    "refgenes"
   ]
  },
  {
   "cell_type": "code",
   "execution_count": 54,
   "id": "6c229cda",
   "metadata": {
    "scrolled": true
   },
   "outputs": [
    {
     "data": {
      "text/html": [
       "<div>\n",
       "<style scoped>\n",
       "    .dataframe tbody tr th:only-of-type {\n",
       "        vertical-align: middle;\n",
       "    }\n",
       "\n",
       "    .dataframe tbody tr th {\n",
       "        vertical-align: top;\n",
       "    }\n",
       "\n",
       "    .dataframe thead th {\n",
       "        text-align: right;\n",
       "    }\n",
       "</style>\n",
       "<table border=\"1\" class=\"dataframe\">\n",
       "  <thead>\n",
       "    <tr style=\"text-align: right;\">\n",
       "      <th></th>\n",
       "      <th>a</th>\n",
       "      <th>b</th>\n",
       "      <th>c</th>\n",
       "      <th>d</th>\n",
       "    </tr>\n",
       "  </thead>\n",
       "  <tbody>\n",
       "    <tr>\n",
       "      <th>0</th>\n",
       "      <td>0</td>\n",
       "      <td>1</td>\n",
       "      <td>2</td>\n",
       "      <td>3</td>\n",
       "    </tr>\n",
       "    <tr>\n",
       "      <th>1</th>\n",
       "      <td>0</td>\n",
       "      <td>1</td>\n",
       "      <td>2</td>\n",
       "      <td>3</td>\n",
       "    </tr>\n",
       "    <tr>\n",
       "      <th>2</th>\n",
       "      <td>0</td>\n",
       "      <td>1</td>\n",
       "      <td>2</td>\n",
       "      <td>3</td>\n",
       "    </tr>\n",
       "    <tr>\n",
       "      <th>3</th>\n",
       "      <td>0</td>\n",
       "      <td>1</td>\n",
       "      <td>2</td>\n",
       "      <td>3</td>\n",
       "    </tr>\n",
       "    <tr>\n",
       "      <th>4</th>\n",
       "      <td>0</td>\n",
       "      <td>1</td>\n",
       "      <td>2</td>\n",
       "      <td>3</td>\n",
       "    </tr>\n",
       "  </tbody>\n",
       "</table>\n",
       "</div>"
      ],
      "text/plain": [
       "   a  b  c  d\n",
       "0  0  1  2  3\n",
       "1  0  1  2  3\n",
       "2  0  1  2  3\n",
       "3  0  1  2  3\n",
       "4  0  1  2  3"
      ]
     },
     "execution_count": 54,
     "metadata": {},
     "output_type": "execute_result"
    }
   ],
   "source": [
    "datafiles=['curr_test.csv', 'ref_test.csv']\n",
    "labelfiles=['label_curr_test.csv', 'label_curr_test.csv']\n",
    "\n",
    "pd.read_csv(datafiles[0]).head(5)"
   ]
  },
  {
   "cell_type": "code",
   "execution_count": 55,
   "id": "d1b663c6",
   "metadata": {},
   "outputs": [
    {
     "data": {
      "text/plain": [
       "['a', 'd', 'b']"
      ]
     },
     "execution_count": 55,
     "metadata": {},
     "output_type": "execute_result"
    }
   ],
   "source": [
    "refgenes"
   ]
  },
  {
   "cell_type": "code",
   "execution_count": 56,
   "id": "b1e3581d",
   "metadata": {
    "scrolled": true
   },
   "outputs": [],
   "source": [
    "from models.lib.data import generate_single_dataloader\n",
    "\n",
    "module = DataModule(\n",
    "    datafiles=['curr_test.csv'],\n",
    "    labelfiles=['label_curr_test.csv'],\n",
    "    class_label='label',\n",
    "    currgenes=curr_df.columns,\n",
    "    refgenes=refgenes,\n",
    "    index_col=None,\n",
    "    test_prop=0.2,\n",
    "    sep=',',\n",
    "    subset=None,\n",
    "    stratify=False,\n",
    "    batch_size=4,\n",
    "    num_workers=0,\n",
    ")"
   ]
  },
  {
   "cell_type": "code",
   "execution_count": 57,
   "id": "5f2deff1",
   "metadata": {},
   "outputs": [
    {
     "name": "stdout",
     "output_type": "stream",
     "text": [
      "Creating train/val/test DataLoaders...\n",
      "Done, continuing to training.\n",
      "Calculating weights\n"
     ]
    }
   ],
   "source": [
    "module.setup()"
   ]
  },
  {
   "cell_type": "code",
   "execution_count": 59,
   "id": "2934c156",
   "metadata": {
    "scrolled": true
   },
   "outputs": [
    {
     "name": "stdout",
     "output_type": "stream",
     "text": [
      "113 µs ± 740 ns per loop (mean ± std. dev. of 7 runs, 10,000 loops each)\n"
     ]
    }
   ],
   "source": [
    "%%timeit \n",
    "\n",
    "next(iter(module.trainloader))"
   ]
  },
  {
   "cell_type": "code",
   "execution_count": 62,
   "id": "51831b90",
   "metadata": {},
   "outputs": [
    {
     "data": {
      "text/plain": [
       "25"
      ]
     },
     "execution_count": 62,
     "metadata": {},
     "output_type": "execute_result"
    }
   ],
   "source": [
    "module.trainloader.dataset.shape[0] + module.valloader.dataset.shape[0] + module.testloader.dataset.shape[0]"
   ]
  },
  {
   "cell_type": "code",
   "execution_count": 15,
   "id": "c9d04a65",
   "metadata": {
    "scrolled": true
   },
   "outputs": [
    {
     "data": {
      "text/html": [
       "<div>\n",
       "<style scoped>\n",
       "    .dataframe tbody tr th:only-of-type {\n",
       "        vertical-align: middle;\n",
       "    }\n",
       "\n",
       "    .dataframe tbody tr th {\n",
       "        vertical-align: top;\n",
       "    }\n",
       "\n",
       "    .dataframe thead th {\n",
       "        text-align: right;\n",
       "    }\n",
       "</style>\n",
       "<table border=\"1\" class=\"dataframe\">\n",
       "  <thead>\n",
       "    <tr style=\"text-align: right;\">\n",
       "      <th></th>\n",
       "      <th>a</th>\n",
       "      <th>b</th>\n",
       "      <th>c</th>\n",
       "      <th>d</th>\n",
       "    </tr>\n",
       "  </thead>\n",
       "  <tbody>\n",
       "    <tr>\n",
       "      <th>0</th>\n",
       "      <td>0</td>\n",
       "      <td>1</td>\n",
       "      <td>2</td>\n",
       "      <td>3</td>\n",
       "    </tr>\n",
       "    <tr>\n",
       "      <th>1</th>\n",
       "      <td>0</td>\n",
       "      <td>1</td>\n",
       "      <td>2</td>\n",
       "      <td>3</td>\n",
       "    </tr>\n",
       "    <tr>\n",
       "      <th>2</th>\n",
       "      <td>0</td>\n",
       "      <td>1</td>\n",
       "      <td>2</td>\n",
       "      <td>3</td>\n",
       "    </tr>\n",
       "    <tr>\n",
       "      <th>3</th>\n",
       "      <td>0</td>\n",
       "      <td>1</td>\n",
       "      <td>2</td>\n",
       "      <td>3</td>\n",
       "    </tr>\n",
       "    <tr>\n",
       "      <th>4</th>\n",
       "      <td>0</td>\n",
       "      <td>1</td>\n",
       "      <td>2</td>\n",
       "      <td>3</td>\n",
       "    </tr>\n",
       "    <tr>\n",
       "      <th>5</th>\n",
       "      <td>0</td>\n",
       "      <td>1</td>\n",
       "      <td>2</td>\n",
       "      <td>3</td>\n",
       "    </tr>\n",
       "    <tr>\n",
       "      <th>6</th>\n",
       "      <td>0</td>\n",
       "      <td>1</td>\n",
       "      <td>2</td>\n",
       "      <td>3</td>\n",
       "    </tr>\n",
       "    <tr>\n",
       "      <th>7</th>\n",
       "      <td>0</td>\n",
       "      <td>1</td>\n",
       "      <td>2</td>\n",
       "      <td>3</td>\n",
       "    </tr>\n",
       "    <tr>\n",
       "      <th>8</th>\n",
       "      <td>0</td>\n",
       "      <td>1</td>\n",
       "      <td>2</td>\n",
       "      <td>3</td>\n",
       "    </tr>\n",
       "    <tr>\n",
       "      <th>9</th>\n",
       "      <td>0</td>\n",
       "      <td>1</td>\n",
       "      <td>2</td>\n",
       "      <td>3</td>\n",
       "    </tr>\n",
       "    <tr>\n",
       "      <th>10</th>\n",
       "      <td>0</td>\n",
       "      <td>1</td>\n",
       "      <td>2</td>\n",
       "      <td>3</td>\n",
       "    </tr>\n",
       "    <tr>\n",
       "      <th>11</th>\n",
       "      <td>0</td>\n",
       "      <td>1</td>\n",
       "      <td>2</td>\n",
       "      <td>3</td>\n",
       "    </tr>\n",
       "    <tr>\n",
       "      <th>12</th>\n",
       "      <td>0</td>\n",
       "      <td>1</td>\n",
       "      <td>2</td>\n",
       "      <td>3</td>\n",
       "    </tr>\n",
       "    <tr>\n",
       "      <th>13</th>\n",
       "      <td>0</td>\n",
       "      <td>1</td>\n",
       "      <td>2</td>\n",
       "      <td>3</td>\n",
       "    </tr>\n",
       "    <tr>\n",
       "      <th>14</th>\n",
       "      <td>0</td>\n",
       "      <td>1</td>\n",
       "      <td>2</td>\n",
       "      <td>3</td>\n",
       "    </tr>\n",
       "    <tr>\n",
       "      <th>15</th>\n",
       "      <td>0</td>\n",
       "      <td>1</td>\n",
       "      <td>2</td>\n",
       "      <td>3</td>\n",
       "    </tr>\n",
       "    <tr>\n",
       "      <th>16</th>\n",
       "      <td>0</td>\n",
       "      <td>1</td>\n",
       "      <td>2</td>\n",
       "      <td>3</td>\n",
       "    </tr>\n",
       "    <tr>\n",
       "      <th>17</th>\n",
       "      <td>0</td>\n",
       "      <td>1</td>\n",
       "      <td>2</td>\n",
       "      <td>3</td>\n",
       "    </tr>\n",
       "    <tr>\n",
       "      <th>18</th>\n",
       "      <td>0</td>\n",
       "      <td>1</td>\n",
       "      <td>2</td>\n",
       "      <td>3</td>\n",
       "    </tr>\n",
       "    <tr>\n",
       "      <th>19</th>\n",
       "      <td>0</td>\n",
       "      <td>1</td>\n",
       "      <td>2</td>\n",
       "      <td>3</td>\n",
       "    </tr>\n",
       "    <tr>\n",
       "      <th>20</th>\n",
       "      <td>0</td>\n",
       "      <td>1</td>\n",
       "      <td>2</td>\n",
       "      <td>3</td>\n",
       "    </tr>\n",
       "    <tr>\n",
       "      <th>21</th>\n",
       "      <td>0</td>\n",
       "      <td>1</td>\n",
       "      <td>2</td>\n",
       "      <td>3</td>\n",
       "    </tr>\n",
       "    <tr>\n",
       "      <th>22</th>\n",
       "      <td>0</td>\n",
       "      <td>1</td>\n",
       "      <td>2</td>\n",
       "      <td>3</td>\n",
       "    </tr>\n",
       "    <tr>\n",
       "      <th>23</th>\n",
       "      <td>0</td>\n",
       "      <td>1</td>\n",
       "      <td>2</td>\n",
       "      <td>3</td>\n",
       "    </tr>\n",
       "    <tr>\n",
       "      <th>24</th>\n",
       "      <td>0</td>\n",
       "      <td>1</td>\n",
       "      <td>2</td>\n",
       "      <td>3</td>\n",
       "    </tr>\n",
       "  </tbody>\n",
       "</table>\n",
       "</div>"
      ],
      "text/plain": [
       "    a  b  c  d\n",
       "0   0  1  2  3\n",
       "1   0  1  2  3\n",
       "2   0  1  2  3\n",
       "3   0  1  2  3\n",
       "4   0  1  2  3\n",
       "5   0  1  2  3\n",
       "6   0  1  2  3\n",
       "7   0  1  2  3\n",
       "8   0  1  2  3\n",
       "9   0  1  2  3\n",
       "10  0  1  2  3\n",
       "11  0  1  2  3\n",
       "12  0  1  2  3\n",
       "13  0  1  2  3\n",
       "14  0  1  2  3\n",
       "15  0  1  2  3\n",
       "16  0  1  2  3\n",
       "17  0  1  2  3\n",
       "18  0  1  2  3\n",
       "19  0  1  2  3\n",
       "20  0  1  2  3\n",
       "21  0  1  2  3\n",
       "22  0  1  2  3\n",
       "23  0  1  2  3\n",
       "24  0  1  2  3"
      ]
     },
     "execution_count": 15,
     "metadata": {},
     "output_type": "execute_result"
    }
   ],
   "source": [
    "curr_df"
   ]
  },
  {
   "cell_type": "code",
   "execution_count": null,
   "id": "ec7d21fe",
   "metadata": {},
   "outputs": [],
   "source": []
  }
 ],
 "metadata": {
  "kernelspec": {
   "display_name": "Python [conda env:single-cell] *",
   "language": "python",
   "name": "conda-env-single-cell-py"
  },
  "language_info": {
   "codemirror_mode": {
    "name": "ipython",
    "version": 3
   },
   "file_extension": ".py",
   "mimetype": "text/x-python",
   "name": "python",
   "nbconvert_exporter": "python",
   "pygments_lexer": "ipython3",
   "version": "3.9.12"
  }
 },
 "nbformat": 4,
 "nbformat_minor": 5
}
