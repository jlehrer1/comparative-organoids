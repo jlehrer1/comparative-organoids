{
 "cells": [
  {
   "cell_type": "markdown",
   "id": "ec5ff669",
   "metadata": {},
   "source": [
    "# Sample intersection between genomes, function test code \n",
    "\n",
    "In this notebook, we'll test our the sample intersection code to make sure it's functioning properly, since it's essential for training/testing with multiple datasets"
   ]
  },
  {
   "cell_type": "code",
   "execution_count": 4,
   "id": "a997b07b",
   "metadata": {},
   "outputs": [],
   "source": [
    "import numpy as np\n",
    "import anndata as an\n",
    "import pandas as pd \n",
    "import torch\n",
    "from typing import *"
   ]
  },
  {
   "cell_type": "code",
   "execution_count": 20,
   "id": "eeb5147f",
   "metadata": {},
   "outputs": [],
   "source": [
    "def clean_sample(\n",
    "    sample: torch.Tensor,\n",
    "    refgenes: List[str],\n",
    "    currgenes: List[str],\n",
    ") -> torch.Tensor:\n",
    "    \n",
    "    intersection = np.intersect1d(currgenes, refgenes, return_indices=True)\n",
    "    indices = intersection[1] # List of indices in sorted(currgenes) that equal sorted(refgenes)\n",
    "    \n",
    "    axis = (1 if sample.ndim == 2 else 0)\n",
    "    sample = np.sort(sample, axis=axis)\n",
    "    sample = np.take(sample, indices, axis=axis)\n",
    "\n",
    "    return sample"
   ]
  },
  {
   "cell_type": "markdown",
   "id": "87678f41",
   "metadata": {},
   "source": [
    "Let's write a bunch of tests!"
   ]
  },
  {
   "cell_type": "code",
   "execution_count": 18,
   "id": "ce9ac841",
   "metadata": {},
   "outputs": [],
   "source": [
    "refgenes = ['a', 'b', 'c', 'd']\n",
    "currgenes = ['a', 'b', 'c']\n",
    "\n",
    "sample = np.array([1,2,3])\n",
    "\n",
    "res = clean_sample(sample, refgenes, currgenes)\n",
    "\n",
    "assert all(res == np.array([1,2,3]))"
   ]
  },
  {
   "cell_type": "code",
   "execution_count": 19,
   "id": "ffe0977e",
   "metadata": {},
   "outputs": [],
   "source": [
    "refgenes = ['a', 'c', 'd']\n",
    "currgenes = ['a', 'b', 'c', 'd', 'e']\n",
    "\n",
    "sample = np.array([1,2,3,4,5])\n",
    "\n",
    "res = clean_sample(sample, refgenes, currgenes)\n",
    "\n",
    "assert all(res == np.array([1,3,4]))"
   ]
  },
  {
   "cell_type": "code",
   "execution_count": 22,
   "id": "6daecbdd",
   "metadata": {},
   "outputs": [],
   "source": [
    "refgenes = ['c', 'a', 'd', 'b']\n",
    "currgenes = ['a', 'b', 'c', 'd', 'e']\n",
    "\n",
    "sample = np.array([1,2,3,4,5])\n",
    "\n",
    "res = clean_sample(sample, refgenes, currgenes)\n",
    "\n",
    "assert all(res == np.array([1,2,3,4]))"
   ]
  },
  {
   "cell_type": "code",
   "execution_count": null,
   "id": "0e635457",
   "metadata": {},
   "outputs": [],
   "source": []
  }
 ],
 "metadata": {
  "kernelspec": {
   "display_name": "Python [conda env:base-data-science] *",
   "language": "python",
   "name": "conda-env-base-data-science-py"
  },
  "language_info": {
   "codemirror_mode": {
    "name": "ipython",
    "version": 3
   },
   "file_extension": ".py",
   "mimetype": "text/x-python",
   "name": "python",
   "nbconvert_exporter": "python",
   "pygments_lexer": "ipython3",
   "version": "3.9.7"
  }
 },
 "nbformat": 4,
 "nbformat_minor": 5
}
